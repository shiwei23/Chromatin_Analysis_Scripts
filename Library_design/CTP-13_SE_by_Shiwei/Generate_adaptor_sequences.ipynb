{
 "cells": [
  {
   "cell_type": "markdown",
   "id": "1eade1f8",
   "metadata": {},
   "source": [
    "# create reference files for adding adaptors and analysis\n",
    "\n",
    "for library CTP-10 Aire (209 gene)\n",
    "\n",
    "by Pu Zheng\n",
    "\n",
    "2022.03.16"
   ]
  },
  {
   "cell_type": "code",
   "execution_count": 3,
   "id": "95ad5647",
   "metadata": {},
   "outputs": [
    {
     "name": "stdout",
     "output_type": "stream",
     "text": [
      "45700\n"
     ]
    }
   ],
   "source": [
    "%run \"..\\..\\Startup_py3.py\"\n",
    "sys.path.append(r\"..\\..\\..\\..\\Documents\")\n",
    "\n",
    "import ImageAnalysis3 as ia\n",
    "%matplotlib notebook\n",
    "\n",
    "from ImageAnalysis3 import *\n",
    "print(os.getpid())\n",
    "\n",
    "# other required parameters\n",
    "from ImageAnalysis3.classes import _allowed_kwds"
   ]
  },
  {
   "cell_type": "code",
   "execution_count": 4,
   "id": "a023024b",
   "metadata": {},
   "outputs": [],
   "source": [
    "pool_folder = r'\\\\10.245.74.212\\Chromatin_NAS_2\\Chromatin_Libraries\\CTP-13_brain-super-enhancers'\n",
    "library_folder = os.path.join(pool_folder, r'mop_SE_1000')"
   ]
  },
  {
   "cell_type": "code",
   "execution_count": 5,
   "id": "0dfb65a0",
   "metadata": {},
   "outputs": [
    {
     "ename": "OSError",
     "evalue": "input probe file: \\\\10.245.74.212\\Chromatin_NAS_2\\Chromatin_Libraries\\CTP-13_brain-super-enhancers\\final_pool_probes.fasta doesn't exist.",
     "output_type": "error",
     "traceback": [
      "\u001b[1;31m---------------------------------------------------------------------------\u001b[0m",
      "\u001b[1;31mOSError\u001b[0m                                   Traceback (most recent call last)",
      "\u001b[1;32m<ipython-input-5-9bb271349246>\u001b[0m in \u001b[0;36m<module>\u001b[1;34m()\u001b[0m\n\u001b[0;32m      1\u001b[0m \u001b[0mprobe_filename\u001b[0m \u001b[1;33m=\u001b[0m \u001b[0mos\u001b[0m\u001b[1;33m.\u001b[0m\u001b[0mpath\u001b[0m\u001b[1;33m.\u001b[0m\u001b[0mjoin\u001b[0m\u001b[1;33m(\u001b[0m\u001b[0mpool_folder\u001b[0m\u001b[1;33m,\u001b[0m \u001b[1;34m'final_pool_probes.fasta'\u001b[0m\u001b[1;33m)\u001b[0m\u001b[1;33m\u001b[0m\u001b[1;33m\u001b[0m\u001b[0m\n\u001b[0;32m      2\u001b[0m \u001b[1;32mif\u001b[0m \u001b[1;32mnot\u001b[0m \u001b[0mos\u001b[0m\u001b[1;33m.\u001b[0m\u001b[0mpath\u001b[0m\u001b[1;33m.\u001b[0m\u001b[0misfile\u001b[0m\u001b[1;33m(\u001b[0m\u001b[0mprobe_filename\u001b[0m\u001b[1;33m)\u001b[0m\u001b[1;33m:\u001b[0m\u001b[1;33m\u001b[0m\u001b[1;33m\u001b[0m\u001b[0m\n\u001b[1;32m----> 3\u001b[1;33m     \u001b[1;32mraise\u001b[0m \u001b[0mIOError\u001b[0m\u001b[1;33m(\u001b[0m\u001b[1;34mf\"input probe file: {probe_filename} doesn't exist.\"\u001b[0m\u001b[1;33m)\u001b[0m\u001b[1;33m\u001b[0m\u001b[1;33m\u001b[0m\u001b[0m\n\u001b[0m",
      "\u001b[1;31mOSError\u001b[0m: input probe file: \\\\10.245.74.212\\Chromatin_NAS_2\\Chromatin_Libraries\\CTP-13_brain-super-enhancers\\final_pool_probes.fasta doesn't exist."
     ]
    }
   ],
   "source": [
    "probe_filename = os.path.join(pool_folder, 'final_pool_probes.fasta')\n",
    "if not os.path.isfile(probe_filename):\n",
    "    raise IOError(f\"input probe file: {probe_filename} doesn't exist.\")"
   ]
  },
  {
   "cell_type": "code",
   "execution_count": null,
   "id": "8424defe",
   "metadata": {},
   "outputs": [],
   "source": []
  }
 ],
 "metadata": {
  "kernelspec": {
   "display_name": "Python 3",
   "language": "python",
   "name": "python3"
  },
  "language_info": {
   "codemirror_mode": {
    "name": "ipython",
    "version": 3
   },
   "file_extension": ".py",
   "mimetype": "text/x-python",
   "name": "python",
   "nbconvert_exporter": "python",
   "pygments_lexer": "ipython3",
   "version": "3.7.10"
  }
 },
 "nbformat": 4,
 "nbformat_minor": 5
}
