{
 "cells": [
  {
   "cell_type": "code",
   "execution_count": 8,
   "metadata": {},
   "outputs": [
    {
     "name": "stdout",
     "output_type": "stream",
     "text": [
      "- Generate encoding scheme of 16 bits with 4 on-bits\n",
      "-- hamming distance is 4\n",
      "-- number of repeats: 501\n",
      "-- length of all possible code 102 , variance 2.0\n",
      "-- length of all possible code 103 , variance 1.6875\n",
      "-- length of all possible code 105 , variance 1.3125\n",
      "-- length of all possible code 107 , variance 1.1875\n",
      "-- length of all possible code 109 , variance 1.1875\n",
      "-- Duration:  29.721194982528687\n"
     ]
    }
   ],
   "source": [
    "def Generate_Merfish_Code(num_bits, on_bits, hamming_distance, \n",
    "                          num_regs=None, randomize=True, repeat=500, verbose=True):\n",
    "    '''Function to generate a MERFISH encoding scheme with given number of bits, on-bits and hemming distance\n",
    "    Inputs:\n",
    "        num_bits: total number of bits for MERFISH code, int\n",
    "        on_bits: number of on-bits for this code, int (< num_bits)\n",
    "        hemming_distance: minimum hemming distance allowed for this code, int (< num_bits)\n",
    "        num_regs: number of different regions, if -1 then generate all, int (default: -1)\n",
    "        randomize: whether randomly choose from candidate codes, bool (default: True)\n",
    "        repeat: number of repeats in generating codes, int (default: 100)\n",
    "        verbose: say something!, bool (default: True)\n",
    "    Output:\n",
    "        hyb_matrix: encoding scheme, num_bits by num_regs 0-1 array\n",
    "        '''\n",
    "    import numpy as np\n",
    "    from itertools import combinations\n",
    "    from random import randint\n",
    "    from time import time\n",
    "    _start = time()\n",
    "    # convert inputs into int\n",
    "    _num_bits = np.int(num_bits)\n",
    "    _on_bits = np.int(on_bits)\n",
    "    _d = np.int(hamming_distance)\n",
    "    if verbose:\n",
    "        print(\"- Generate encoding scheme of \"+str(_num_bits)+\" bits with \"+str(_on_bits)+\" on-bits\")\n",
    "        print(\"-- hamming distance is\", _d)\n",
    "    # check inputs\n",
    "    if _num_bits < _on_bits:\n",
    "        raise ValueError('on-bits is larger than total_bits!')\n",
    "    if _num_bits < _d:\n",
    "        raise ValueError('hamming_distance is larger than total_bits!')\n",
    "    if num_regs == None:\n",
    "        num_regs = np.inf\n",
    "\n",
    "    def code_distance(_code1, _code2):\n",
    "        '''given two codes, calculate hamming distance'''\n",
    "        _c1 = list(_code1)\n",
    "        _c2 = list(_code2)\n",
    "        _overlap = 0\n",
    "        for _on_bit in _c1:\n",
    "            if _on_bit in _c2:\n",
    "                _overlap += 1\n",
    "        _distance = len(_c1) + len(_c2) - 2 * _overlap\n",
    "        return _distance\n",
    "    # number of repeats\n",
    "    _repeat_num = 1 + int(randomize) * repeat\n",
    "    if verbose:\n",
    "        print(\"-- number of repeats:\", _repeat_num)\n",
    "    _best_coding, _best_var = [], np.inf\n",
    "    for _i in range(_repeat_num):\n",
    "        # generate all code as candidates\n",
    "        _cand_codes = list(combinations(list(range(_num_bits)), _on_bits))\n",
    "        # initialize chosen codes\n",
    "        _chosen_codes = []\n",
    "        # loop through candidate codes, find good code\n",
    "        _chosen_codes.append(_cand_codes.pop(0))\n",
    "        while len(_cand_codes) > 0 or len(_chosen_codes) >= num_regs:\n",
    "            if randomize:\n",
    "                _rand_id = randint(0, len(_cand_codes)-1)\n",
    "                _c = _cand_codes.pop(_rand_id)\n",
    "            else:\n",
    "                _c = _cand_codes.pop(0)\n",
    "            _keep = True\n",
    "            for _chosen_c in _chosen_codes:\n",
    "                if code_distance(_c, _chosen_c) < _d:\n",
    "                    _keep = False\n",
    "                    break\n",
    "            if _keep:\n",
    "                _chosen_codes.append(list(_c))\n",
    "        _uid, _ucount = np.unique(np.array(_chosen_codes), return_counts=True)\n",
    "        \n",
    "        if len(_chosen_codes) > len(_best_coding) and np.var(_ucount) <= _best_var:\n",
    "            _best_coding = _chosen_codes\n",
    "            _best_var = np.var(_ucount)\n",
    "            if verbose:\n",
    "                print(\"-- length of all possible code\", len(_best_coding), \", variance\", _best_var)\n",
    "    # select subset\n",
    "    if not num_regs:\n",
    "        _select_set = _best_coding\n",
    "    else: # select subset\n",
    "        _select_set, _select_var = [], np.inf\n",
    "        \n",
    "    \n",
    "    \n",
    "    _end = time()\n",
    "    if verbose:\n",
    "        print(\"-- Duration: \", _end-_start)\n",
    "\n",
    "if __name__ =='__main__':\n",
    "    Generate_Merfish_Code(16, 4, 4, randomize=True)"
   ]
  },
  {
   "cell_type": "code",
   "execution_count": 1,
   "metadata": {},
   "outputs": [],
   "source": [
    "%run \"E:\\Users\\puzheng\\Documents\\Startup_py3.py\"\n",
    "sys.path.append(r\"E:\\Users\\puzheng\\Documents\")\n",
    "\n",
    "import ImageAnalysis3 as ia\n",
    "%matplotlib notebook\n",
    "\n",
    "from ImageAnalysis3 import get_img_info, visual_tools, corrections"
   ]
  },
  {
   "cell_type": "markdown",
   "metadata": {},
   "source": [
    "# save codebook"
   ]
  },
  {
   "cell_type": "code",
   "execution_count": 2,
   "metadata": {},
   "outputs": [],
   "source": [
    "import csv"
   ]
  },
  {
   "cell_type": "code",
   "execution_count": 3,
   "metadata": {},
   "outputs": [],
   "source": [
    "codebook_file = r'E:\\Users\\puzheng\\Documents\\Libraries\\CTP-05\\Ref_Codebook\\L26E1_codebook.csv'"
   ]
  },
  {
   "cell_type": "code",
   "execution_count": 16,
   "metadata": {},
   "outputs": [
    {
     "name": "stdout",
     "output_type": "stream",
     "text": [
      "header ['name', 'id', 'barcode']\n"
     ]
    }
   ],
   "source": [
    "codebook = []\n",
    "with open(codebook_file,'r') as csvfile:\n",
    "    csv.register_dialect('strip', skipinitialspace=True)\n",
    "    reader = csv.reader(csvfile, delimiter=',', dialect='strip')\n",
    "    for i in range(3):\n",
    "        next(reader,None)\n",
    "    header = next(reader,None)\n",
    "    print('header',header)\n",
    "    for row in reader:\n",
    "        codebook.append({h:info for h,info in zip(header, row)})"
   ]
  },
  {
   "cell_type": "code",
   "execution_count": 17,
   "metadata": {},
   "outputs": [
    {
     "data": {
      "text/plain": [
       "[{'name': 'Blank-1', 'id': '', 'barcode': '0011100000001000'},\n",
       " {'name': 'Blank-10', 'id': '', 'barcode': '1001100100000000'},\n",
       " {'name': 'Blank-2', 'id': '', 'barcode': '0011000100100000'},\n",
       " {'name': 'Blank-3', 'id': '', 'barcode': '0011010001000000'},\n",
       " {'name': 'Blank-4', 'id': '', 'barcode': '0010010000001100'},\n",
       " {'name': 'Blank-5', 'id': '', 'barcode': '0010001000101000'},\n",
       " {'name': 'Blank-6', 'id': '', 'barcode': '1000101000001000'},\n",
       " {'name': 'Blank-7', 'id': '', 'barcode': '0101100000000010'},\n",
       " {'name': 'Blank-8', 'id': '', 'barcode': '0001000001001100'},\n",
       " {'name': 'Blank-9', 'id': '', 'barcode': '0000100100101000'},\n",
       " {'name': 'AKAP11', 'id': 'ENST00000025301.3', 'barcode': '0110100010000000'},\n",
       " {'name': 'CBX5', 'id': 'ENST00000209875.8', 'barcode': '0110000000001010'},\n",
       " {'name': 'CCDC113', 'id': 'ENST00000219299.8', 'barcode': '0000110001001000'},\n",
       " {'name': 'CEMIP', 'id': 'ENST00000220244.7', 'barcode': '0000100000001101'},\n",
       " {'name': 'SIPA1L3',\n",
       "  'id': 'ENST00000222345.10',\n",
       "  'barcode': '0001110000000100'},\n",
       " {'name': 'UMPS', 'id': 'ENST00000232607.6', 'barcode': '0101000010001000'},\n",
       " {'name': 'HEATR5B', 'id': 'ENST00000233099.5', 'barcode': '0010000001001001'},\n",
       " {'name': 'SLC9A2', 'id': 'ENST00000233969.2', 'barcode': '0001100001000001'},\n",
       " {'name': 'YIPF4', 'id': 'ENST00000238831.8', 'barcode': '0000100010001010'},\n",
       " {'name': 'LRP1', 'id': 'ENST00000243077.7', 'barcode': '0001000000011010'},\n",
       " {'name': 'TMOD2', 'id': 'ENST00000249700.8', 'barcode': '0100100000011000'},\n",
       " {'name': 'NOTCH2', 'id': 'ENST00000256646.6', 'barcode': '0011000000000101'},\n",
       " {'name': 'THBS1', 'id': 'ENST00000260356.5', 'barcode': '0010110000000001'},\n",
       " {'name': 'DNAJC13',\n",
       "  'id': 'ENST00000260818.10',\n",
       "  'barcode': '0001100010010000'},\n",
       " {'name': 'HERC2', 'id': 'ENST00000261609.11', 'barcode': '1001000000101000'},\n",
       " {'name': 'FAF2', 'id': 'ENST00000261942.6', 'barcode': '0010100000010010'},\n",
       " {'name': 'TTPAL', 'id': 'ENST00000262605.8', 'barcode': '0001010000001001'},\n",
       " {'name': 'PIK3CA', 'id': 'ENST00000263967.3', 'barcode': '0011000010000010'},\n",
       " {'name': 'CBL', 'id': 'ENST00000264033.4', 'barcode': '1011001000000000'},\n",
       " {'name': 'AGPS', 'id': 'ENST00000264167.8', 'barcode': '0010100001000100'},\n",
       " {'name': 'POLQ', 'id': 'ENST00000264233.5', 'barcode': '0111000000010000'},\n",
       " {'name': 'FAM184B', 'id': 'ENST00000265018.3', 'barcode': '0001101000100000'},\n",
       " {'name': 'AFF4', 'id': 'ENST00000265343.9', 'barcode': '0010000010011000'},\n",
       " {'name': 'ANKRD52', 'id': 'ENST00000267116.7', 'barcode': '0001001100001000'},\n",
       " {'name': 'TSPAN3', 'id': 'ENST00000267970.8', 'barcode': '1010000100001000'},\n",
       " {'name': 'MYH10', 'id': 'ENST00000269243.8', 'barcode': '1010100000100000'},\n",
       " {'name': 'SCUBE3', 'id': 'ENST00000274938.7', 'barcode': '0010101100000000'},\n",
       " {'name': 'PHIP', 'id': 'ENST00000275034.4', 'barcode': '0010000100010001'},\n",
       " {'name': 'EGFR', 'id': 'ENST00000275493.6', 'barcode': '0000100010100001'},\n",
       " {'name': 'SLC7A11', 'id': 'ENST00000280612.9', 'barcode': '0110000000100001'},\n",
       " {'name': 'SMARCA5', 'id': 'ENST00000283131.3', 'barcode': '1100100000000001'},\n",
       " {'name': 'ANKH', 'id': 'ENST00000284268.6', 'barcode': '0000001000011100'},\n",
       " {'name': 'STARD9', 'id': 'ENST00000290607.11', 'barcode': '0000111000000010'},\n",
       " {'name': 'USP24', 'id': 'ENST00000294383.6', 'barcode': '0010010100000010'},\n",
       " {'name': 'FZD5', 'id': 'ENST00000295417.3', 'barcode': '0101000000100100'},\n",
       " {'name': 'FYCO1', 'id': 'ENST00000296137.6', 'barcode': '0001010110000000'},\n",
       " {'name': 'BSN', 'id': 'ENST00000296452.4', 'barcode': '1001000000000011'},\n",
       " {'name': 'LMTK2', 'id': 'ENST00000297293.5', 'barcode': '0010010010100000'},\n",
       " {'name': 'RNF169', 'id': 'ENST00000299563.4', 'barcode': '1010000000000110'},\n",
       " {'name': 'DIP2B', 'id': 'ENST00000301180.9', 'barcode': '1110010000000000'},\n",
       " {'name': 'SRRM2', 'id': 'ENST00000301740.12', 'barcode': '0001010000100010'},\n",
       " {'name': 'PRPF8', 'id': 'ENST00000304992.10', 'barcode': '1001000010000100'},\n",
       " {'name': 'FASN', 'id': 'ENST00000306749.2', 'barcode': '1000110010000000'},\n",
       " {'name': 'DSEL', 'id': 'ENST00000310045.7', 'barcode': '0000000010101100'},\n",
       " {'name': 'ARL10', 'id': 'ENST00000310389.5', 'barcode': '0010001010000100'},\n",
       " {'name': 'CKAP5', 'id': 'ENST00000312055.9', 'barcode': '0010000000110100'},\n",
       " {'name': 'RNF152', 'id': 'ENST00000312828.3', 'barcode': '0110000100000100'},\n",
       " {'name': 'PRKDC', 'id': 'ENST00000314191.6', 'barcode': '1101000001000000'},\n",
       " {'name': 'TLN1', 'id': 'ENST00000314888.9', 'barcode': '0000000101011000'},\n",
       " {'name': 'TNRC6A', 'id': 'ENST00000315183.11', 'barcode': '1000100000010100'},\n",
       " {'name': 'FBN1', 'id': 'ENST00000316623.9', 'barcode': '0100010100001000'},\n",
       " {'name': 'IL17RA', 'id': 'ENST00000319363.10', 'barcode': '0000001001001010'},\n",
       " {'name': 'CRTAP', 'id': 'ENST00000320954.10', 'barcode': '0100000001101000'},\n",
       " {'name': 'MED14', 'id': 'ENST00000324817.5', 'barcode': '0010001000000011'},\n",
       " {'name': 'SSH1', 'id': 'ENST00000326495.9', 'barcode': '0100110000100000'},\n",
       " {'name': 'FAM208B', 'id': 'ENST00000328090.9', 'barcode': '0000011010001000'},\n",
       " {'name': 'PAPPA', 'id': 'ENST00000328252.3', 'barcode': '1001010000010000'},\n",
       " {'name': 'KPNA4', 'id': 'ENST00000334256.8', 'barcode': '0101000100000001'},\n",
       " {'name': 'TSTD2', 'id': 'ENST00000341170.4', 'barcode': '0001000101000010'},\n",
       " {'name': 'PRDM2', 'id': 'ENST00000343137.8', 'barcode': '0000101011000000'},\n",
       " {'name': 'RAD51D', 'id': 'ENST00000345365.10', 'barcode': '0100001000001001'},\n",
       " {'name': 'PROSER1', 'id': 'ENST00000352251.7', 'barcode': '0001001001010000'},\n",
       " {'name': 'SKP1', 'id': 'ENST00000353411.10', 'barcode': '0000100110000100'},\n",
       " {'name': 'THSD4', 'id': 'ENST00000355327.7', 'barcode': '0010000001100010'},\n",
       " {'name': 'MAN1A2', 'id': 'ENST00000356554.7', 'barcode': '0001000000110001'},\n",
       " {'name': 'SPTBN1', 'id': 'ENST00000356805.8', 'barcode': '0001000100010100'},\n",
       " {'name': 'IGF2R', 'id': 'ENST00000356956.5', 'barcode': '0010000111000000'},\n",
       " {'name': 'PRRC2B', 'id': 'ENST00000357304.8', 'barcode': '0000100000100110'},\n",
       " {'name': 'AFAP1', 'id': 'ENST00000358461.6', 'barcode': '0010011000010000'},\n",
       " {'name': 'KLHL9', 'id': 'ENST00000359039.4', 'barcode': '0000100100000011'},\n",
       " {'name': 'DYNC1H1', 'id': 'ENST00000360184.8', 'barcode': '1010000010000001'},\n",
       " {'name': 'ALPK2', 'id': 'ENST00000361673.3', 'barcode': '0000000110001001'},\n",
       " {'name': 'CENPF', 'id': 'ENST00000366955.7', 'barcode': '0000101000010001'},\n",
       " {'name': 'PTPN14', 'id': 'ENST00000366956.9', 'barcode': '0110001001000000'},\n",
       " {'name': 'PLXNA2', 'id': 'ENST00000367033.3', 'barcode': '0000100001110000'},\n",
       " {'name': 'TPR', 'id': 'ENST00000367478.8', 'barcode': '0000110100010000'},\n",
       " {'name': 'BUB3', 'id': 'ENST00000368865.8', 'barcode': '1000100001000010'},\n",
       " {'name': 'ASCC3', 'id': 'ENST00000369162.6', 'barcode': '0101011000000000'},\n",
       " {'name': 'RBM20', 'id': 'ENST00000369519.3', 'barcode': '1000000000011001'},\n",
       " {'name': 'DOPEY1', 'id': 'ENST00000369739.7', 'barcode': '0000000100001110'},\n",
       " {'name': 'RAB3B', 'id': 'ENST00000371655.3', 'barcode': '0001001010000001'},\n",
       " {'name': 'COL5A1', 'id': 'ENST00000371817.7', 'barcode': '1010000001010000'},\n",
       " {'name': 'GTF3C4', 'id': 'ENST00000372146.4', 'barcode': '0001000011100000'},\n",
       " {'name': 'GPR107', 'id': 'ENST00000372410.7', 'barcode': '0100100101000000'},\n",
       " {'name': 'UBR2', 'id': 'ENST00000372901.1', 'barcode': '0001001000000110'},\n",
       " {'name': 'CHST3', 'id': 'ENST00000373115.4', 'barcode': '1100000000001100'},\n",
       " {'name': 'AGO3', 'id': 'ENST00000373191.8', 'barcode': '0100101000000100'},\n",
       " {'name': 'ZBTB43', 'id': 'ENST00000373464.4', 'barcode': '0000010000111000'},\n",
       " {'name': 'AHDC1', 'id': 'ENST00000374011.6', 'barcode': '0000000000101011'},\n",
       " {'name': 'CNR2', 'id': 'ENST00000374472.4', 'barcode': '1000000011001000'},\n",
       " {'name': 'KIAA1462',\n",
       "  'id': 'ENST00000375377.1',\n",
       "  'barcode': '1000010000001010'},\n",
       " {'name': 'ZCCHC6', 'id': 'ENST00000375963.7', 'barcode': '1000001000000101'},\n",
       " {'name': 'USP9X', 'id': 'ENST00000378308.6', 'barcode': '0100000010010010'},\n",
       " {'name': 'SLC35B4', 'id': 'ENST00000378509.8', 'barcode': '0100010001010000'},\n",
       " {'name': 'XDH', 'id': 'ENST00000379416.3', 'barcode': '1000001010000010'},\n",
       " {'name': 'BRCA2', 'id': 'ENST00000380152.7', 'barcode': '0000000100100101'},\n",
       " {'name': 'SLC5A3', 'id': 'ENST00000381151.3', 'barcode': '1000010100000100'},\n",
       " {'name': 'ITPR2', 'id': 'ENST00000381340.7', 'barcode': '0000000110100010'},\n",
       " {'name': 'CREBBP', 'id': 'ENST00000382070.7', 'barcode': '0000011100000001'},\n",
       " {'name': 'C17orf51',\n",
       "  'id': 'ENST00000391411.9',\n",
       "  'barcode': '0100000001000011'},\n",
       " {'name': 'PLXNA1', 'id': 'ENST00000393409.2', 'barcode': '1100000100000010'},\n",
       " {'name': 'USP8', 'id': 'ENST00000396444.7', 'barcode': '1000000101000001'},\n",
       " {'name': 'CEP250', 'id': 'ENST00000397527.5', 'barcode': '0000000010000111'},\n",
       " {'name': 'USP34', 'id': 'ENST00000398571.6', 'barcode': '1000000001100100'},\n",
       " {'name': 'SLC38A1', 'id': 'ENST00000398637.9', 'barcode': '0000010000010011'},\n",
       " {'name': 'NRIP1', 'id': 'ENST00000400199.5', 'barcode': '0000011000100100'},\n",
       " {'name': 'SAMD12', 'id': 'ENST00000409003.4', 'barcode': '0000010001000101'},\n",
       " {'name': 'PRKCA', 'id': 'ENST00000413366.7', 'barcode': '0100010000000110'},\n",
       " {'name': 'LUZP1', 'id': 'ENST00000418342.5', 'barcode': '1000000000110010'},\n",
       " {'name': 'NKTR', 'id': 'ENST00000429888.5', 'barcode': '0000000001010110'},\n",
       " {'name': 'AMOTL1', 'id': 'ENST00000433060.2', 'barcode': '0000010101100000'},\n",
       " {'name': 'MCF2L', 'id': 'ENST00000480321.1', 'barcode': '0000001010110000'},\n",
       " {'name': 'DIEXF', 'id': 'ENST00000491415.6', 'barcode': '0100000011000100'},\n",
       " {'name': 'SULT1C2', 'id': 'ENST00000495441.1', 'barcode': '1000000110010000'},\n",
       " {'name': 'UBR5', 'id': 'ENST00000521922.5', 'barcode': '0000010011000010'},\n",
       " {'name': 'KIF13B', 'id': 'ENST00000524189.5', 'barcode': '0000010010010100'},\n",
       " {'name': 'FZD4', 'id': 'ENST00000531380.1', 'barcode': '1100000010100000'},\n",
       " {'name': 'MALAT1', 'id': 'ENST00000534336.1', 'barcode': '0100000000010101'},\n",
       " {'name': 'KIAA1147',\n",
       "  'id': 'ENST00000536163.5',\n",
       "  'barcode': '0100001110000000'},\n",
       " {'name': 'SMIM5', 'id': 'ENST00000537494.1', 'barcode': '1000011001000000'},\n",
       " {'name': 'SOD2', 'id': 'ENST00000538183.6', 'barcode': '1000010000100001'},\n",
       " {'name': 'C14orf132',\n",
       "  'id': 'ENST00000555004.1',\n",
       "  'barcode': '1000001100100000'},\n",
       " {'name': 'ZNF592', 'id': 'ENST00000559607.1', 'barcode': '0000001100010010'},\n",
       " {'name': 'CDYL2', 'id': 'ENST00000570137.6', 'barcode': '0100010010000001'},\n",
       " {'name': 'VPS13D', 'id': 'ENST00000613099.4', 'barcode': '0000000011010001'},\n",
       " {'name': 'AGAP1', 'id': 'ENST00000614409.4', 'barcode': '0000001001100001'},\n",
       " {'name': 'XKR5', 'id': 'ENST00000618990.4', 'barcode': '0100001000100010'},\n",
       " {'name': 'FBN2', 'id': 'ENST00000619499.4', 'barcode': '0000001101000100'},\n",
       " {'name': 'RP4-671O14.6',\n",
       "  'id': 'ENST00000624919.1',\n",
       "  'barcode': '0100000100110000'},\n",
       " {'name': 'NHSL2', 'id': 'ENST00000633930.1', 'barcode': '1100001000010000'}]"
      ]
     },
     "execution_count": 17,
     "metadata": {},
     "output_type": "execute_result"
    }
   ],
   "source": [
    "codebook"
   ]
  },
  {
   "cell_type": "code",
   "execution_count": 26,
   "metadata": {},
   "outputs": [
    {
     "data": {
      "text/plain": [
       "array([0, 0, 1, 1, 1, 0, 0, 0, 0, 0, 0, 0, 1, 0, 0, 0])"
      ]
     },
     "execution_count": 26,
     "metadata": {},
     "output_type": "execute_result"
    }
   ],
   "source": [
    "np.array(list(codebook[0]['barcode']),dtype=int)"
   ]
  },
  {
   "cell_type": "code",
   "execution_count": 27,
   "metadata": {},
   "outputs": [
    {
     "data": {
      "text/plain": [
       "140"
      ]
     },
     "execution_count": 27,
     "metadata": {},
     "output_type": "execute_result"
    }
   ],
   "source": [
    "len(codebook)"
   ]
  },
  {
   "cell_type": "code",
   "execution_count": 32,
   "metadata": {},
   "outputs": [],
   "source": [
    "hyb_matrix = np.zeros([len(codebook), len(np.array(list(codebook[0]['barcode']),dtype=int))])"
   ]
  },
  {
   "cell_type": "code",
   "execution_count": 33,
   "metadata": {},
   "outputs": [],
   "source": [
    "for i, species in enumerate(codebook):\n",
    "    hyb_matrix[i] = np.array(list(species['barcode']),dtype=int)"
   ]
  },
  {
   "cell_type": "code",
   "execution_count": 37,
   "metadata": {},
   "outputs": [],
   "source": [
    "np.save(r'E:\\Users\\puzheng\\Documents\\Libraries\\CTP-05\\Ref_Codebook\\hyb_matrix', hyb_matrix)"
   ]
  },
  {
   "cell_type": "code",
   "execution_count": 42,
   "metadata": {},
   "outputs": [
    {
     "data": {
      "text/plain": [
       "(105, 16)"
      ]
     },
     "execution_count": 42,
     "metadata": {},
     "output_type": "execute_result"
    }
   ],
   "source": [
    "hyb_matrix[np.sum(hyb_matrix[:,-1:],1)==0].shape"
   ]
  },
  {
   "cell_type": "code",
   "execution_count": null,
   "metadata": {},
   "outputs": [],
   "source": []
  }
 ],
 "metadata": {
  "kernelspec": {
   "display_name": "Python 3",
   "language": "python",
   "name": "python3"
  },
  "language_info": {
   "codemirror_mode": {
    "name": "ipython",
    "version": 3
   },
   "file_extension": ".py",
   "mimetype": "text/x-python",
   "name": "python",
   "nbconvert_exporter": "python",
   "pygments_lexer": "ipython3",
   "version": "3.6.5"
  }
 },
 "nbformat": 4,
 "nbformat_minor": 2
}
