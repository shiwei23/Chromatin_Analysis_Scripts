{
 "cells": [
  {
   "cell_type": "markdown",
   "id": "abroad-harris",
   "metadata": {},
   "source": [
    "# Design CTP-10 Aire DNA-MERFISH library for all super enhancers\n",
    "\n",
    "by Pu Zheng\n",
    "\n",
    "2021.4.5\n",
    "\n",
    "Super-enhancers are called by ..."
   ]
  },
  {
   "cell_type": "markdown",
   "id": "proof-seating",
   "metadata": {},
   "source": [
    "# Table of contents\n",
    "\n",
    "\n",
    "> 0. [Minimum required packages and settings](#0)\n",
    ">>\n",
    ">> 0.1: [import required packages](#0.1)\n",
    ">\n",
    "> 1. [Extract region sequences](#1)"
   ]
  },
  {
   "cell_type": "markdown",
   "id": "floppy-reporter",
   "metadata": {},
   "source": [
    "<a id='0.1'></a>\n",
    "## 0.1 load required packages"
   ]
  },
  {
   "cell_type": "code",
   "execution_count": 2,
   "id": "amended-combining",
   "metadata": {},
   "outputs": [
    {
     "name": "stdout",
     "output_type": "stream",
     "text": [
      "30296\n"
     ]
    }
   ],
   "source": [
    "%run \"..\\..\\Startup_py3.py\"\n",
    "sys.path.append(r\"..\\..\\..\\..\\Documents\")\n",
    "\n",
    "import ImageAnalysis3 as ia\n",
    "%matplotlib notebook\n",
    "\n",
    "from ImageAnalysis3 import *\n",
    "print(os.getpid())\n",
    "\n",
    "# library design specific tools\n",
    "from ImageAnalysis3.library_tools import LibraryDesigner as ld\n",
    "from ImageAnalysis3.library_tools import LibraryTools as lt\n",
    "# biopython imports\n",
    "from Bio import SeqIO\n",
    "from Bio.Seq import Seq\n",
    "from Bio.SeqRecord import SeqRecord\n",
    "from Bio.Blast.Applications import NcbiblastnCommandline\n",
    "from Bio.Blast import NCBIXML"
   ]
  },
  {
   "cell_type": "markdown",
   "id": "religious-captain",
   "metadata": {},
   "source": [
    "<a id='1'></a>\n",
    "# 1 Extract region sequences"
   ]
  },
  {
   "cell_type": "code",
   "execution_count": 3,
   "id": "variable-discrimination",
   "metadata": {},
   "outputs": [],
   "source": [
    "## Some folders\n",
    "# human genome\n",
    "reference_folder = r'\\\\10.245.74.212\\Chromatin_NAS_2\\Libraries\\Genomes\\mouse\\GRCm38_ensembl'\n",
    "genome_folder = os.path.join(reference_folder, 'Genome')\n",
    "# Library directories\n",
    "pool_folder = r'\\\\10.245.74.212\\Chromatin_NAS_2\\Libraries\\CTP-10_Aire'"
   ]
  },
  {
   "cell_type": "code",
   "execution_count": 4,
   "id": "parental-despite",
   "metadata": {},
   "outputs": [
    {
     "name": "stdout",
     "output_type": "stream",
     "text": [
      "create library folder: \\\\10.245.74.212\\Chromatin_NAS_2\\Libraries\\CTP-10_Aire\\SuperEnhancer_10kb\n",
      "create sequence folder: \\\\10.245.74.212\\Chromatin_NAS_2\\Libraries\\CTP-10_Aire\\SuperEnhancer_10kb\\sequences\n",
      "create report folder: \\\\10.245.74.212\\Chromatin_NAS_2\\Libraries\\CTP-10_Aire\\SuperEnhancer_10kb\\reports\n",
      "-- library_folder: \\\\10.245.74.212\\Chromatin_NAS_2\\Libraries\\CTP-10_Aire\\SuperEnhancer_10kb\n",
      "-- sequence_folder: \\\\10.245.74.212\\Chromatin_NAS_2\\Libraries\\CTP-10_Aire\\SuperEnhancer_10kb\\sequences\n",
      "-- report_folder: \\\\10.245.74.212\\Chromatin_NAS_2\\Libraries\\CTP-10_Aire\\SuperEnhancer_10kb\\reports\n"
     ]
    }
   ],
   "source": [
    "resolution = 10000\n",
    "flanking = 0\n",
    "# folder for sub-pool\n",
    "library_folder = os.path.join(pool_folder, f'SuperEnhancer_{int(resolution/1000)}kb')\n",
    "if not os.path.exists(library_folder):\n",
    "    print(f\"create library folder: {library_folder}\")\n",
    "    os.makedirs(library_folder)\n",
    "# folder for fasta sequences\n",
    "sequence_folder = os.path.join(library_folder, 'sequences')\n",
    "if not os.path.exists(sequence_folder):\n",
    "    print(f\"create sequence folder: {sequence_folder}\")\n",
    "    os.makedirs(sequence_folder)\n",
    "# folder to save result probes\n",
    "report_folder = os.path.join(library_folder, 'reports')\n",
    "if not os.path.exists(report_folder):\n",
    "    print(f\"create report folder: {report_folder}\")\n",
    "    os.makedirs(report_folder)\n",
    "    \n",
    "print(f\"-- library_folder: {library_folder}\")\n",
    "print(f\"-- sequence_folder: {sequence_folder}\")\n",
    "print(f\"-- report_folder: {report_folder}\")"
   ]
  },
  {
   "cell_type": "code",
   "execution_count": 14,
   "id": "fantastic-tablet",
   "metadata": {},
   "outputs": [
    {
     "name": "stdout",
     "output_type": "stream",
     "text": [
      "Input region file is: \\\\10.245.74.212\\Chromatin_NAS_2\\Libraries\\CTP-10_Aire\\SuperEnhancer_10kb\\Super_enhancer_list_mTEC.bed\n",
      "-- searching among 23 references\n",
      "-- a match found in file: \\\\10.245.74.212\\Chromatin_NAS_2\\Libraries\\Genomes\\mouse\\GRCm38_ensembl\\Genome\\Mus_musculus.GRCm38.dna.chromosome.1.fa.\n",
      "-- a match found in file: \\\\10.245.74.212\\Chromatin_NAS_2\\Libraries\\Genomes\\mouse\\GRCm38_ensembl\\Genome\\Mus_musculus.GRCm38.dna.chromosome.14.fa.\n",
      "-- a match found in file: \\\\10.245.74.212\\Chromatin_NAS_2\\Libraries\\Genomes\\mouse\\GRCm38_ensembl\\Genome\\Mus_musculus.GRCm38.dna.chromosome.6.fa.\n",
      "-- saving sequences into folder: \\\\10.245.74.212\\Chromatin_NAS_2\\Libraries\\CTP-10_Aire\\SuperEnhancer_10kb\\sequences\n",
      "-- save to file: \\\\10.245.74.212\\Chromatin_NAS_2\\Libraries\\CTP-10_Aire\\SuperEnhancer_10kb\\sequences\\20_chr1_6997_lociStitched_reg_1.fasta\n",
      "-- save to file: \\\\10.245.74.212\\Chromatin_NAS_2\\Libraries\\CTP-10_Aire\\SuperEnhancer_10kb\\sequences\\20_chr1_6997_lociStitched_reg_2.fasta\n",
      "-- save to file: \\\\10.245.74.212\\Chromatin_NAS_2\\Libraries\\CTP-10_Aire\\SuperEnhancer_10kb\\sequences\\20_chr1_6997_lociStitched_reg_3.fasta\n",
      "-- save to file: \\\\10.245.74.212\\Chromatin_NAS_2\\Libraries\\CTP-10_Aire\\SuperEnhancer_10kb\\sequences\\20_chr1_6997_lociStitched_reg_4.fasta\n",
      "-- save to file: \\\\10.245.74.212\\Chromatin_NAS_2\\Libraries\\CTP-10_Aire\\SuperEnhancer_10kb\\sequences\\20_chr1_6997_lociStitched_reg_5.fasta\n",
      "-- save to file: \\\\10.245.74.212\\Chromatin_NAS_2\\Libraries\\CTP-10_Aire\\SuperEnhancer_10kb\\sequences\\20_chr1_6997_lociStitched_reg_6.fasta\n",
      "-- save to file: \\\\10.245.74.212\\Chromatin_NAS_2\\Libraries\\CTP-10_Aire\\SuperEnhancer_10kb\\sequences\\20_chr1_6997_lociStitched_reg_7.fasta\n",
      "-- save to file: \\\\10.245.74.212\\Chromatin_NAS_2\\Libraries\\CTP-10_Aire\\SuperEnhancer_10kb\\sequences\\20_chr1_6997_lociStitched_reg_8.fasta\n",
      "-- save to file: \\\\10.245.74.212\\Chromatin_NAS_2\\Libraries\\CTP-10_Aire\\SuperEnhancer_10kb\\sequences\\20_chr1_6997_lociStitched_reg_9.fasta\n",
      "-- save to file: \\\\10.245.74.212\\Chromatin_NAS_2\\Libraries\\CTP-10_Aire\\SuperEnhancer_10kb\\sequences\\20_chr1_6997_lociStitched_reg_10.fasta\n",
      "-- save to file: \\\\10.245.74.212\\Chromatin_NAS_2\\Libraries\\CTP-10_Aire\\SuperEnhancer_10kb\\sequences\\19_chr14_16350_lociStitched_reg_1.fasta\n",
      "-- save to file: \\\\10.245.74.212\\Chromatin_NAS_2\\Libraries\\CTP-10_Aire\\SuperEnhancer_10kb\\sequences\\19_chr14_16350_lociStitched_reg_2.fasta\n",
      "-- save to file: \\\\10.245.74.212\\Chromatin_NAS_2\\Libraries\\CTP-10_Aire\\SuperEnhancer_10kb\\sequences\\19_chr14_16350_lociStitched_reg_3.fasta\n",
      "-- save to file: \\\\10.245.74.212\\Chromatin_NAS_2\\Libraries\\CTP-10_Aire\\SuperEnhancer_10kb\\sequences\\19_chr14_16350_lociStitched_reg_4.fasta\n",
      "-- save to file: \\\\10.245.74.212\\Chromatin_NAS_2\\Libraries\\CTP-10_Aire\\SuperEnhancer_10kb\\sequences\\19_chr14_16350_lociStitched_reg_5.fasta\n",
      "-- save to file: \\\\10.245.74.212\\Chromatin_NAS_2\\Libraries\\CTP-10_Aire\\SuperEnhancer_10kb\\sequences\\19_chr14_16350_lociStitched_reg_6.fasta\n",
      "-- save to file: \\\\10.245.74.212\\Chromatin_NAS_2\\Libraries\\CTP-10_Aire\\SuperEnhancer_10kb\\sequences\\19_chr14_16350_lociStitched_reg_7.fasta\n",
      "-- save to file: \\\\10.245.74.212\\Chromatin_NAS_2\\Libraries\\CTP-10_Aire\\SuperEnhancer_10kb\\sequences\\19_chr14_16350_lociStitched_reg_8.fasta\n",
      "-- save to file: \\\\10.245.74.212\\Chromatin_NAS_2\\Libraries\\CTP-10_Aire\\SuperEnhancer_10kb\\sequences\\19_chr14_16350_lociStitched_reg_9.fasta\n",
      "-- save to file: \\\\10.245.74.212\\Chromatin_NAS_2\\Libraries\\CTP-10_Aire\\SuperEnhancer_10kb\\sequences\\19_chr14_16350_lociStitched_reg_10.fasta\n",
      "-- save to file: \\\\10.245.74.212\\Chromatin_NAS_2\\Libraries\\CTP-10_Aire\\SuperEnhancer_10kb\\sequences\\17_chr6_21729_lociStitched_reg_1.fasta\n",
      "-- save to file: \\\\10.245.74.212\\Chromatin_NAS_2\\Libraries\\CTP-10_Aire\\SuperEnhancer_10kb\\sequences\\17_chr6_21729_lociStitched_reg_2.fasta\n",
      "-- save to file: \\\\10.245.74.212\\Chromatin_NAS_2\\Libraries\\CTP-10_Aire\\SuperEnhancer_10kb\\sequences\\17_chr6_21729_lociStitched_reg_3.fasta\n",
      "-- save to file: \\\\10.245.74.212\\Chromatin_NAS_2\\Libraries\\CTP-10_Aire\\SuperEnhancer_10kb\\sequences\\17_chr6_21729_lociStitched_reg_4.fasta\n",
      "-- save to file: \\\\10.245.74.212\\Chromatin_NAS_2\\Libraries\\CTP-10_Aire\\SuperEnhancer_10kb\\sequences\\17_chr6_21729_lociStitched_reg_5.fasta\n",
      "-- save to file: \\\\10.245.74.212\\Chromatin_NAS_2\\Libraries\\CTP-10_Aire\\SuperEnhancer_10kb\\sequences\\17_chr6_21729_lociStitched_reg_6.fasta\n",
      "-- save to file: \\\\10.245.74.212\\Chromatin_NAS_2\\Libraries\\CTP-10_Aire\\SuperEnhancer_10kb\\sequences\\17_chr6_21729_lociStitched_reg_7.fasta\n",
      "-- save to file: \\\\10.245.74.212\\Chromatin_NAS_2\\Libraries\\CTP-10_Aire\\SuperEnhancer_10kb\\sequences\\17_chr6_21729_lociStitched_reg_8.fasta\n"
     ]
    }
   ],
   "source": [
    "reload(library_tools.sequences)\n",
    "region_file = os.path.join(library_folder, 'Super_enhancer_list_mTEC.bed')\n",
    "region_dict = library_tools.sequences.read_region_file(region_file)\n",
    "records = library_tools.sequences.extract_sequence(region_dict[:3], genome_folder, \n",
    "                                                   resolution=resolution,\n",
    "                                                   flanking=flanking,\n",
    "                                                   save_folder=sequence_folder)"
   ]
  },
  {
   "cell_type": "code",
   "execution_count": 12,
   "id": "constitutional-fraud",
   "metadata": {},
   "outputs": [
    {
     "data": {
      "text/plain": [
       "[]"
      ]
     },
     "execution_count": 12,
     "metadata": {},
     "output_type": "execute_result"
    }
   ],
   "source": [
    "region_dict"
   ]
  },
  {
   "cell_type": "code",
   "execution_count": null,
   "id": "rolled-think",
   "metadata": {},
   "outputs": [],
   "source": []
  }
 ],
 "metadata": {
  "kernelspec": {
   "display_name": "Python 3",
   "language": "python",
   "name": "python3"
  },
  "language_info": {
   "codemirror_mode": {
    "name": "ipython",
    "version": 3
   },
   "file_extension": ".py",
   "mimetype": "text/x-python",
   "name": "python",
   "nbconvert_exporter": "python",
   "pygments_lexer": "ipython3",
   "version": "3.7.9"
  }
 },
 "nbformat": 4,
 "nbformat_minor": 5
}
