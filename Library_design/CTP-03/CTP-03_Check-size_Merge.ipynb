{
 "cells": [
  {
   "cell_type": "markdown",
   "metadata": {},
   "source": [
    "# CTP-03 Check and Merge Fasta Files\n",
    "\n",
    "by Pu Zheng\n"
   ]
  },
  {
   "cell_type": "code",
   "execution_count": 16,
   "metadata": {
    "collapsed": true
   },
   "outputs": [],
   "source": [
    "# minimal imports for biopython\n",
    "from Bio import SeqIO\n",
    "from Bio.Seq import Seq\n",
    "from Bio.Alphabet import IUPAC\n",
    "from Bio.SeqRecord import SeqRecord\n",
    "import os,glob,time\n",
    "import numpy as np"
   ]
  },
  {
   "cell_type": "code",
   "execution_count": 17,
   "metadata": {},
   "outputs": [
    {
     "name": "stdout",
     "output_type": "stream",
     "text": [
      "- Total expected probes in this library:\n",
      "116404\n"
     ]
    }
   ],
   "source": [
    "# Information copied by hand, as a reference\n",
    "probe_len = 142;\n",
    "sub_lib_size = {'chr21':72210,\n",
    "                'chr21_7by21':16414,\n",
    "                'chr21_9by36':27780}\n",
    "print \"- Total expected probes in this library:\\n\", sum(sub_lib_size.values())"
   ]
  },
  {
   "cell_type": "code",
   "execution_count": 18,
   "metadata": {},
   "outputs": [
    {
     "name": "stdout",
     "output_type": "stream",
     "text": [
      "- All folders in library directory:\n",
      "['/n/boslfs/LABS/zhuang_lab/User/pzheng/Libraries/CTP-03/merged_library.fasta', '/n/boslfs/LABS/zhuang_lab/User/pzheng/Libraries/CTP-03/chr21', '/n/boslfs/LABS/zhuang_lab/User/pzheng/Libraries/CTP-03/chr21_9by36', '/n/boslfs/LABS/zhuang_lab/User/pzheng/Libraries/CTP-03/chr21_7by21']\n",
      "-- reading file: /n/boslfs/LABS/zhuang_lab/User/pzheng/Libraries/CTP-03/chr21/final_probes/filtered_probes.fasta\n",
      "-- reading file: /n/boslfs/LABS/zhuang_lab/User/pzheng/Libraries/CTP-03/chr21_9by36/final_probes/filtered_probes.fasta\n",
      "-- reading file: /n/boslfs/LABS/zhuang_lab/User/pzheng/Libraries/CTP-03/chr21_7by21/final_probes/filtered_probes.fasta\n",
      "- Acquired probe in this library: 116404\n",
      "- Library size matches\n"
     ]
    }
   ],
   "source": [
    "# library directory\n",
    "library_dir = r'/n/boslfs/LABS/zhuang_lab/User/pzheng/Libraries/CTP-03/';\n",
    "# probe subdir\n",
    "pb_subdir = r'final_probes/filtered_probes.fasta';\n",
    "\n",
    "# sub folders\n",
    "sub_lib_folders = glob.glob(library_dir + os.sep + '*')\n",
    "print \"- All folders in library directory:\\n\", sub_lib_folders\n",
    "\n",
    "# all probe records\n",
    "all_records = [];\n",
    "\n",
    "for fd in sub_lib_folders:\n",
    "    if os.path.basename(fd) in sub_lib_size.keys():\n",
    "        pb_filename = fd + os.sep + pb_subdir;\n",
    "        print \"-- reading file:\",pb_filename;\n",
    "        with open(pb_filename, 'rU') as handle:\n",
    "            for record in SeqIO.parse(handle, \"fasta\"):\n",
    "                all_records.append(record);\n",
    "                if len(record.seq) != probe_len:\n",
    "                    print 'Wrong length!'\n",
    "                \n",
    "print \"- Acquired probe in this library:\", len(all_records)\n",
    "if len(all_records) == sum(sub_lib_size.values()):\n",
    "    print \"- Library size matches\";"
   ]
  },
  {
   "cell_type": "code",
   "execution_count": 19,
   "metadata": {},
   "outputs": [
    {
     "name": "stdout",
     "output_type": "stream",
     "text": [
      "- Writing all probes into merged_library.fasta\n"
     ]
    }
   ],
   "source": [
    "output_filename = 'merged_library.fasta';\n",
    "\n",
    "with open(library_dir+os.sep+output_filename, 'w') as output_handle:\n",
    "    print \"- Writing all probes into\", output_filename;\n",
    "    SeqIO.write(all_records, output_handle, 'fasta');"
   ]
  },
  {
   "cell_type": "code",
   "execution_count": null,
   "metadata": {
    "collapsed": true
   },
   "outputs": [],
   "source": []
  }
 ],
 "metadata": {
  "kernelspec": {
   "display_name": "Python 2",
   "language": "python",
   "name": "python2"
  },
  "language_info": {
   "codemirror_mode": {
    "name": "ipython",
    "version": 2
   },
   "file_extension": ".py",
   "mimetype": "text/x-python",
   "name": "python",
   "nbconvert_exporter": "python",
   "pygments_lexer": "ipython2",
   "version": "2.7.13"
  }
 },
 "nbformat": 4,
 "nbformat_minor": 2
}
