{
 "cells": [
  {
   "cell_type": "code",
   "execution_count": 56,
   "metadata": {},
   "outputs": [
    {
     "name": "stdout",
     "output_type": "stream",
     "text": [
      "- Generate encoding scheme of 16 bits with 4 on-bits\n",
      "-- hamming distance is 4\n",
      "-- number of repeats: 501\n",
      "-- length of all possible code 101 , variance 1.4375\n",
      "-- length of all possible code 104 , variance 1.0\n",
      "-- length of all possible code 106 , variance 0.875\n",
      "-- length of all possible code 107 , variance 0.6875\n",
      "-- Duration:  35.62431716918945\n"
     ]
    }
   ],
   "source": [
    "def Generate_Merfish_Code(num_bits, on_bits, hamming_distance, \n",
    "                          num_regs=None, randomize=True, repeat=500, verbose=True):\n",
    "    '''Function to generate a MERFISH encoding scheme with given number of bits, on-bits and hemming distance\n",
    "    Inputs:\n",
    "        num_bits: total number of bits for MERFISH code, int\n",
    "        on_bits: number of on-bits for this code, int (< num_bits)\n",
    "        hemming_distance: minimum hemming distance allowed for this code, int (< num_bits)\n",
    "        num_regs: number of different regions, if -1 then generate all, int (default: -1)\n",
    "        randomize: whether randomly choose from candidate codes, bool (default: True)\n",
    "        repeat: number of repeats in generating codes, int (default: 100)\n",
    "        verbose: say something!, bool (default: True)\n",
    "    Output:\n",
    "        hyb_matrix: encoding scheme, num_bits by num_regs 0-1 array\n",
    "        '''\n",
    "    import numpy as np\n",
    "    from itertools import combinations\n",
    "    from random import randint\n",
    "    from time import time\n",
    "    _start = time()\n",
    "    # convert inputs into int\n",
    "    _num_bits = np.int(num_bits)\n",
    "    _on_bits = np.int(on_bits)\n",
    "    _d = np.int(hamming_distance)\n",
    "    if verbose:\n",
    "        print(\"- Generate encoding scheme of \"+str(_num_bits)+\" bits with \"+str(_on_bits)+\" on-bits\")\n",
    "        print(\"-- hamming distance is\", _d)\n",
    "    # check inputs\n",
    "    if _num_bits < _on_bits:\n",
    "        raise ValueError('on-bits is larger than total_bits!')\n",
    "    if _num_bits < _d:\n",
    "        raise ValueError('hamming_distance is larger than total_bits!')\n",
    "    if num_regs == None:\n",
    "        num_regs = np.inf\n",
    "\n",
    "    def code_distance(_code1, _code2):\n",
    "        '''given two codes, calculate hamming distance'''\n",
    "        _c1 = list(_code1)\n",
    "        _c2 = list(_code2)\n",
    "        _overlap = 0\n",
    "        for _on_bit in _c1:\n",
    "            if _on_bit in _c2:\n",
    "                _overlap += 1\n",
    "        _distance = len(_c1) + len(_c2) - 2 * _overlap\n",
    "        #each on unique on bit is 1 distance, then remove overlapped on bits (count *2 from each code)\n",
    "        return _distance\n",
    "    # number of repeats\n",
    "    _repeat_num = 1 + int(randomize) * repeat\n",
    "    if verbose:\n",
    "        print(\"-- number of repeats:\", _repeat_num)\n",
    "    _best_coding, _best_var = [], np.inf\n",
    "    for _i in range(_repeat_num):\n",
    "        # generate all code as candidates\n",
    "        _cand_codes = list(combinations(list(range(_num_bits)), _on_bits))\n",
    "        # initialize chosen codes\n",
    "        _chosen_codes = []\n",
    "        _chosen_codes.append(_cand_codes.pop(0))\n",
    "        # loop through other candidate codes, find all good code\n",
    "        while len(_cand_codes) > 0 or len(_chosen_codes) >= num_regs:\n",
    "            if randomize: # randomly loop through the remaining cand codes\n",
    "                _rand_id = randint(0, len(_cand_codes)-1)\n",
    "                _c = _cand_codes.pop(_rand_id)\n",
    "            else: # loop through from the first remaining cand codes\n",
    "                _c = _cand_codes.pop(0)\n",
    "            _keep = True\n",
    "            # calculate hamming dist between the new candidate _c with all other already chosen code\n",
    "            for _chosen_c in _chosen_codes:\n",
    "                if code_distance(_c, _chosen_c) < _d:\n",
    "                    _keep = False\n",
    "                    break\n",
    "            if _keep:\n",
    "                _chosen_codes.append(list(_c))\n",
    "        _uid, _ucount = np.unique(np.array(_chosen_codes), return_counts=True)\n",
    "        # _uid: unique bit appeared 0-15 (e.g., from [0,1,2,3],[1,2,10,11],[1,3,7,9], etc...)\n",
    "        # _ucount: how many times each unique bit is used\n",
    "        \n",
    "        # find as many as chosen codes (with valid hamming distance) with as uniform usage of each bit as possible\n",
    "        if len(_chosen_codes) > len(_best_coding) and np.var(_ucount) <= _best_var:\n",
    "            _best_coding = _chosen_codes\n",
    "            _best_var = np.var(_ucount)\n",
    "            if verbose:\n",
    "                print(\"-- length of all possible code\", len(_best_coding), \", variance\", _best_var)\n",
    "    # select subset\n",
    "    if not num_regs:\n",
    "        _select_set = _best_coding\n",
    "    else: # select subset\n",
    "        _select_set, _select_var = [], np.inf\n",
    "        \n",
    "    \n",
    "    \n",
    "    _end = time()\n",
    "    if verbose:\n",
    "        print(\"-- Duration: \", _end-_start)\n",
    "        \n",
    "    \n",
    "    return _best_coding\n",
    "\n",
    "\n",
    "\n",
    "if __name__ =='__main__':\n",
    "    _best_coding = Generate_Merfish_Code(16, 4, 4, randomize=True)\n",
    "    \n",
    "    "
   ]
  },
  {
   "cell_type": "code",
   "execution_count": 60,
   "metadata": {},
   "outputs": [
    {
     "data": {
      "text/plain": [
       "107"
      ]
     },
     "execution_count": 60,
     "metadata": {},
     "output_type": "execute_result"
    }
   ],
   "source": [
    "len(_best_coding)\n",
    "\n",
    "#_best_coding"
   ]
  },
  {
   "cell_type": "code",
   "execution_count": 58,
   "metadata": {},
   "outputs": [
    {
     "data": {
      "text/plain": [
       "array([ 0,  1,  2,  3,  4,  5,  6,  7,  8,  9, 10, 11, 12, 13, 14, 15])"
      ]
     },
     "execution_count": 58,
     "metadata": {},
     "output_type": "execute_result"
    }
   ],
   "source": [
    "_uid, _ucount = np.unique(np.array(_best_coding), return_counts=True)\n",
    "\n",
    "_uid\n"
   ]
  },
  {
   "cell_type": "code",
   "execution_count": 63,
   "metadata": {},
   "outputs": [
    {
     "name": "stdout",
     "output_type": "stream",
     "text": [
      "[28 27 27 28 27 27 26 28 26 26 26 26 28 26 26 26]\n"
     ]
    },
    {
     "data": {
      "text/plain": [
       "0.6875"
      ]
     },
     "execution_count": 63,
     "metadata": {},
     "output_type": "execute_result"
    }
   ],
   "source": [
    "print(_ucount)\n",
    "\n",
    "np.var(_ucount)"
   ]
  },
  {
   "cell_type": "code",
   "execution_count": 65,
   "metadata": {},
   "outputs": [
    {
     "data": {
      "text/plain": [
       "29.4375"
      ]
     },
     "execution_count": 65,
     "metadata": {},
     "output_type": "execute_result"
    }
   ],
   "source": [
    "_ucount_test = [38, 37, 27, 28, 27, 27, 26, 28, 26, 26, 26, 26, 28, 26, 16, 16]\n",
    "\n",
    "np.var(_ucount_test)"
   ]
  }
 ],
 "metadata": {
  "kernelspec": {
   "display_name": "Python 3",
   "language": "python",
   "name": "python3"
  },
  "language_info": {
   "codemirror_mode": {
    "name": "ipython",
    "version": 3
   },
   "file_extension": ".py",
   "mimetype": "text/x-python",
   "name": "python",
   "nbconvert_exporter": "python",
   "pygments_lexer": "ipython3",
   "version": "3.8.5"
  }
 },
 "nbformat": 4,
 "nbformat_minor": 4
}
