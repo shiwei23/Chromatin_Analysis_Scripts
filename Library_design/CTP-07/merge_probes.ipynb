{
 "cells": [
  {
   "cell_type": "markdown",
   "metadata": {},
   "source": [
    "# Merge probes from my source"
   ]
  },
  {
   "cell_type": "code",
   "execution_count": 1,
   "metadata": {
    "ExecuteTime": {
     "end_time": "2019-07-04T01:25:30.670956Z",
     "start_time": "2019-07-04T01:25:27.238400Z"
    }
   },
   "outputs": [
    {
     "name": "stdout",
     "output_type": "stream",
     "text": [
      "135200\n"
     ]
    }
   ],
   "source": [
    "%run \"E:\\Users\\puzheng\\Documents\\Startup_py3.py\"\n",
    "sys.path.append(r\"E:\\Users\\puzheng\\Documents\")\n",
    "\n",
    "import ImageAnalysis3\n",
    "from ImageAnalysis3 import get_img_info, visual_tools, corrections, library_tools\n",
    "\n",
    "from ImageAnalysis3.library_tools import LibraryDesigner as ld\n",
    "from ImageAnalysis3.library_tools import LibraryTools\n",
    "\n",
    "%matplotlib notebook\n",
    "print(os.getpid())\n",
    "\n",
    "# biopython for SeqRecord\n",
    "from Bio import SeqIO\n",
    "from Bio.Seq import Seq\n",
    "from Bio.SeqRecord import SeqRecord\n",
    "from Bio.Alphabet import IUPAC\n",
    "\n",
    "# blast\n",
    "from Bio.Blast.Applications import NcbiblastnCommandline\n",
    "from Bio.Blast import NCBIXML \n",
    "import ImageAnalysis3.library_tools.quality_check as qc"
   ]
  },
  {
   "cell_type": "code",
   "execution_count": 5,
   "metadata": {
    "ExecuteTime": {
     "end_time": "2019-07-04T01:31:26.837387Z",
     "start_time": "2019-07-04T01:31:26.523156Z"
    }
   },
   "outputs": [],
   "source": [
    "pool_folder = r'X:\\Libraries\\CTP-07'\n",
    "fds = glob.glob(os.path.join(pool_folder, 'chr21_*'))\n"
   ]
  },
  {
   "cell_type": "code",
   "execution_count": 4,
   "metadata": {
    "ExecuteTime": {
     "end_time": "2019-07-04T01:30:34.926834Z",
     "start_time": "2019-07-04T01:30:34.378426Z"
    }
   },
   "outputs": [
    {
     "name": "stdout",
     "output_type": "stream",
     "text": [
      "- num probes in X:\\Libraries\\CTP-07\\chr21_intronic\\final_probes\\extra_filtered_full_probes.fasta: 5637\n",
      "- num probes in X:\\Libraries\\CTP-07\\chr21_5x10_2k\\probes_new_primer_2_9.fasta: 3768\n",
      "- num probes in X:\\Libraries\\CTP-07\\chr21_5x10_5k\\filtered_probes_n_50_size_5000.fasta: 9216\n",
      "- num probes in X:\\Libraries\\CTP-07\\chr21_9x36_2k\\probes_new_primer_4_3.fasta: 1827\n",
      "- num probes in X:\\Libraries\\CTP-07\\chr21_9x36_5k\\probes_new_primer_0_1.fasta: 4411\n",
      "24859\n"
     ]
    }
   ],
   "source": [
    "files = [\n",
    "    r'X:\\Libraries\\CTP-07\\chr21_intronic\\final_probes\\extra_filtered_full_probes.fasta',\n",
    "    r'X:\\Libraries\\CTP-07\\chr21_5x10_2k\\probes_new_primer_2_9.fasta',\n",
    "    r'X:\\Libraries\\CTP-07\\chr21_5x10_5k\\filtered_probes_n_50_size_5000.fasta',\n",
    "    r'X:\\Libraries\\CTP-07\\chr21_9x36_2k\\probes_new_primer_4_3.fasta',\n",
    "    r'X:\\Libraries\\CTP-07\\chr21_9x36_5k\\probes_new_primer_0_1.fasta',\n",
    "]\n",
    "\n",
    "all_records = []\n",
    "for _fl in files:\n",
    "    with open(_fl, 'r') as _handle:\n",
    "        ct = 0\n",
    "        for _record in SeqIO.parse(_handle, \"fasta\"):\n",
    "            all_records.append(_record)\n",
    "            ct += 1\n",
    "    print(f\"- num probes in {_fl}: {ct}\")\n",
    "print(len(all_records))"
   ]
  },
  {
   "cell_type": "code",
   "execution_count": 6,
   "metadata": {
    "ExecuteTime": {
     "end_time": "2019-07-04T01:34:30.240989Z",
     "start_time": "2019-07-04T01:31:58.735146Z"
    }
   },
   "outputs": [],
   "source": [
    "save_filename = os.path.join(pool_folder, 'merged_chr21.fasta')\n",
    "with open(save_filename, 'w') as _output_handle:\n",
    "    SeqIO.write(all_records, _output_handle, \"fasta\")"
   ]
  },
  {
   "cell_type": "code",
   "execution_count": null,
   "metadata": {},
   "outputs": [],
   "source": []
  }
 ],
 "metadata": {
  "kernelspec": {
   "display_name": "Python 3",
   "language": "python",
   "name": "python3"
  },
  "language_info": {
   "codemirror_mode": {
    "name": "ipython",
    "version": 3
   },
   "file_extension": ".py",
   "mimetype": "text/x-python",
   "name": "python",
   "nbconvert_exporter": "python",
   "pygments_lexer": "ipython3",
   "version": "3.6.8"
  },
  "toc": {
   "base_numbering": 1,
   "nav_menu": {},
   "number_sections": true,
   "sideBar": true,
   "skip_h1_title": false,
   "title_cell": "Table of Contents",
   "title_sidebar": "Contents",
   "toc_cell": false,
   "toc_position": {},
   "toc_section_display": true,
   "toc_window_display": false
  },
  "varInspector": {
   "cols": {
    "lenName": 16,
    "lenType": 16,
    "lenVar": 40
   },
   "kernels_config": {
    "python": {
     "delete_cmd_postfix": "",
     "delete_cmd_prefix": "del ",
     "library": "var_list.py",
     "varRefreshCmd": "print(var_dic_list())"
    },
    "r": {
     "delete_cmd_postfix": ") ",
     "delete_cmd_prefix": "rm(",
     "library": "var_list.r",
     "varRefreshCmd": "cat(var_dic_list()) "
    }
   },
   "types_to_exclude": [
    "module",
    "function",
    "builtin_function_or_method",
    "instance",
    "_Feature"
   ],
   "window_display": false
  }
 },
 "nbformat": 4,
 "nbformat_minor": 2
}
