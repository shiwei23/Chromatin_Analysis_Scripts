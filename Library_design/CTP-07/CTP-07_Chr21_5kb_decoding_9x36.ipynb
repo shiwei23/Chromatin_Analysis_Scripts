{
 "cells": [
  {
   "cell_type": "markdown",
   "metadata": {},
   "source": [
    "# Pick entered 5kb region in previous chr21-50kb decoding library"
   ]
  },
  {
   "cell_type": "code",
   "execution_count": 1,
   "metadata": {
    "ExecuteTime": {
     "end_time": "2019-07-04T01:16:11.243020Z",
     "start_time": "2019-07-04T01:16:08.231778Z"
    }
   },
   "outputs": [
    {
     "name": "stdout",
     "output_type": "stream",
     "text": [
      "147352\n"
     ]
    }
   ],
   "source": [
    "%run \"E:\\Users\\puzheng\\Documents\\Startup_py3.py\"\n",
    "sys.path.append(r\"E:\\Users\\puzheng\\Documents\")\n",
    "\n",
    "import ImageAnalysis3\n",
    "from ImageAnalysis3 import get_img_info, visual_tools, corrections, library_tools\n",
    "\n",
    "from ImageAnalysis3.library_tools import LibraryDesigner as ld\n",
    "from ImageAnalysis3.library_tools import LibraryTools\n",
    "\n",
    "%matplotlib notebook\n",
    "print(os.getpid())"
   ]
  },
  {
   "cell_type": "code",
   "execution_count": 3,
   "metadata": {
    "ExecuteTime": {
     "end_time": "2019-07-04T01:16:21.788876Z",
     "start_time": "2019-07-04T01:16:21.783872Z"
    }
   },
   "outputs": [],
   "source": [
    "# biopython for SeqRecord\n",
    "from Bio import SeqIO\n",
    "from Bio.Seq import Seq\n",
    "from Bio.SeqRecord import SeqRecord\n",
    "from Bio.Alphabet import IUPAC\n",
    "\n",
    "# blast\n",
    "from Bio.Blast.Applications import NcbiblastnCommandline\n",
    "from Bio.Blast import NCBIXML \n",
    "import ImageAnalysis3.library_tools.quality_check as qc"
   ]
  },
  {
   "cell_type": "code",
   "execution_count": 4,
   "metadata": {
    "ExecuteTime": {
     "end_time": "2019-07-04T01:16:28.891165Z",
     "start_time": "2019-07-04T01:16:27.869404Z"
    }
   },
   "outputs": [],
   "source": [
    "# input library\n",
    "input_library_folder = r'X:\\Libraries\\CTP-03\\chr21_9by36'\n",
    "input_filename = os.path.join(input_library_folder, 'final_probes', 'filtered_probes.fasta')\n",
    "with open(input_filename, 'r') as _handle:\n",
    "    pb_records = []\n",
    "    for _record in SeqIO.parse(_handle, \"fasta\"):\n",
    "        pb_records.append(_record)"
   ]
  },
  {
   "cell_type": "code",
   "execution_count": 6,
   "metadata": {
    "ExecuteTime": {
     "end_time": "2019-07-04T01:16:42.729472Z",
     "start_time": "2019-07-04T01:16:42.724469Z"
    }
   },
   "outputs": [
    {
     "data": {
      "text/plain": [
       "SeqRecord(seq=Seq('CGCAAACTGGTGCGGAAGGCCCCATGATCGTCCGATCTGGGAGGGATAGGGATA...TGG', SingleLetterAlphabet()), id=\"chr21:10400001-10450001_reg_0_gene_chr21_pb_40772_primer_[6,11]_barcodes_[['Stv_3','Stv_4'],'NDB_37']_color_0\", name=\"chr21:10400001-10450001_reg_0_gene_chr21_pb_40772_primer_[6,11]_barcodes_[['Stv_3','Stv_4'],'NDB_37']_color_0\", description=\"chr21:10400001-10450001_reg_0_gene_chr21_pb_40772_primer_[6,11]_barcodes_[['Stv_3','Stv_4'],'NDB_37']_color_0\", dbxrefs=[])"
      ]
     },
     "execution_count": 6,
     "metadata": {},
     "output_type": "execute_result"
    }
   ],
   "source": [
    "pb_records[0]"
   ]
  },
  {
   "cell_type": "code",
   "execution_count": 9,
   "metadata": {
    "ExecuteTime": {
     "end_time": "2019-07-04T01:18:06.511875Z",
     "start_time": "2019-07-04T01:18:06.486856Z"
    }
   },
   "outputs": [
    {
     "data": {
      "text/plain": [
       "<module 'ImageAnalysis3.library_tools.probes' from 'E:\\\\Users\\\\puzheng\\\\Documents\\\\ImageAnalysis3\\\\library_tools\\\\probes.py'>"
      ]
     },
     "execution_count": 9,
     "metadata": {},
     "output_type": "execute_result"
    }
   ],
   "source": [
    "reload(probes)"
   ]
  },
  {
   "cell_type": "code",
   "execution_count": 10,
   "metadata": {
    "ExecuteTime": {
     "end_time": "2019-07-04T01:18:08.427300Z",
     "start_time": "2019-07-04T01:18:08.423298Z"
    }
   },
   "outputs": [],
   "source": [
    "from ImageAnalysis3.library_tools import probes"
   ]
  },
  {
   "cell_type": "code",
   "execution_count": 11,
   "metadata": {
    "ExecuteTime": {
     "end_time": "2019-07-04T01:18:37.967302Z",
     "start_time": "2019-07-04T01:18:11.837841Z"
    },
    "scrolled": true
   },
   "outputs": [
    {
     "name": "stdout",
     "output_type": "stream",
     "text": [
      "- Start selecting sub_library, n=20,size=2000\n",
      "--- 20 probes kept for region:0\n",
      "--- 20 probes kept for region:1\n",
      "--- 20 probes kept for region:2\n",
      "--- 33 probes kept for region:3\n",
      "--- 26 probes kept for region:4\n",
      "--- 23 probes kept for region:5\n",
      "--- 28 probes kept for region:6\n",
      "--- 29 probes kept for region:7\n",
      "--- 20 probes kept for region:8\n",
      "--- 26 probes kept for region:9\n",
      "--- 20 probes kept for region:10\n",
      "--- 20 probes kept for region:11\n",
      "--- 22 probes kept for region:12\n",
      "--- 26 probes kept for region:13\n",
      "--- 20 probes kept for region:14\n",
      "--- 21 probes kept for region:15\n",
      "--- 20 probes kept for region:16\n",
      "--- 20 probes kept for region:17\n",
      "--- 20 probes kept for region:18\n",
      "--- 24 probes kept for region:19\n",
      "--- 21 probes kept for region:20\n",
      "--- 20 probes kept for region:21\n",
      "--- 20 probes kept for region:22\n",
      "--- 29 probes kept for region:23\n",
      "--- 30 probes kept for region:24\n",
      "--- 27 probes kept for region:25\n",
      "--- 31 probes kept for region:26\n",
      "--- 22 probes kept for region:27\n",
      "--- 31 probes kept for region:28\n",
      "--- 32 probes kept for region:29\n",
      "--- 35 probes kept for region:30\n",
      "--- 29 probes kept for region:31\n",
      "--- 20 probes kept for region:32\n",
      "--- 20 probes kept for region:33\n",
      "--- 20 probes kept for region:34\n",
      "--- 20 probes kept for region:35\n",
      "--- 21 probes kept for region:36\n",
      "--- 24 probes kept for region:37\n",
      "--- 20 probes kept for region:38\n",
      "--- 33 probes kept for region:39\n",
      "--- 29 probes kept for region:40\n",
      "--- 35 probes kept for region:41\n",
      "--- 20 probes kept for region:42\n",
      "--- 25 probes kept for region:43\n",
      "--- 28 probes kept for region:44\n",
      "--- 34 probes kept for region:45\n",
      "--- 20 probes kept for region:46\n",
      "--- 21 probes kept for region:47\n",
      "--- 34 probes kept for region:48\n",
      "--- 24 probes kept for region:49\n",
      "--- 31 probes kept for region:50\n",
      "--- 35 probes kept for region:51\n",
      "--- 26 probes kept for region:52\n",
      "--- 29 probes kept for region:53\n",
      "--- 30 probes kept for region:54\n",
      "--- 24 probes kept for region:55\n",
      "--- 30 probes kept for region:56\n",
      "--- 38 probes kept for region:57\n",
      "--- 32 probes kept for region:58\n",
      "--- 28 probes kept for region:59\n",
      "--- 20 probes kept for region:60\n",
      "--- 20 probes kept for region:61\n",
      "--- 20 probes kept for region:62\n",
      "--- 34 probes kept for region:63\n",
      "--- 20 probes kept for region:64\n",
      "--- 20 probes kept for region:65\n",
      "--- 20 probes kept for region:66\n",
      "--- 37 probes kept for region:67\n",
      "--- 20 probes kept for region:68\n",
      "--- 33 probes kept for region:69\n",
      "--- 20 probes kept for region:70\n",
      "--- 27 probes kept for region:71\n",
      "-- saving to file: X:\\Libraries\\CTP-07\\chr21_9x36_2k\\filtered_probes_n_20_size_2000.fasta\n",
      "- Picked primer: ID: W1A05_primer_4\n",
      "Name: W1A05_primer_4\n",
      "Description: W1A05_primer_4\n",
      "Number of features: 0\n",
      "Seq('CATTCAGCATTGCGCAACGG', SingleLetterAlphabet())\n",
      "- Picked primer: ID: W1A04_primer_3\n",
      "Name: W1A04_primer_3\n",
      "Description: W1A04_primer_3\n",
      "Number of features: 0\n",
      "Seq('TAATACGACTCACTATAGGGCGTTGTATGCCCTCCACGC', SingleLetterAlphabet())\n",
      "- Start replacing primers\n",
      "-- saving to file: X:\\Libraries\\CTP-07\\chr21_9x36_2k\\probes_new_primer_4_3.fasta\n"
     ]
    }
   ],
   "source": [
    "library_folder = r'X:\\Libraries\\CTP-07\\chr21_9x36_2k'\n",
    "num_probes = 20\n",
    "reg_size=2000\n",
    "sel_pb_records = probes.Select_subset(input_filename, num_probes, reg_size, position_marker='pb_',\n",
    "                               save_folder=library_folder, save=True)\n",
    "primers = library_tools.probes.load_primers([4,3])\n",
    "updated_records = probes.Replace_primers(sel_pb_records, primers, save_folder=library_folder)"
   ]
  },
  {
   "cell_type": "code",
   "execution_count": 12,
   "metadata": {
    "ExecuteTime": {
     "end_time": "2019-07-04T01:19:38.863871Z",
     "start_time": "2019-07-04T01:19:32.925851Z"
    },
    "scrolled": true
   },
   "outputs": [
    {
     "name": "stdout",
     "output_type": "stream",
     "text": [
      "- Start selecting sub_library, n=50,size=5000\n",
      "--- 50 probes kept for region:0\n",
      "--- 50 probes kept for region:1\n",
      "--- 50 probes kept for region:2\n",
      "--- 66 probes kept for region:3\n",
      "--- 50 probes kept for region:4\n",
      "--- 62 probes kept for region:5\n",
      "--- 72 probes kept for region:6\n",
      "--- 63 probes kept for region:7\n",
      "--- 50 probes kept for region:8\n",
      "--- 64 probes kept for region:9\n",
      "--- 50 probes kept for region:10\n",
      "--- 50 probes kept for region:11\n",
      "--- 50 probes kept for region:12\n",
      "--- 53 probes kept for region:13\n",
      "--- 50 probes kept for region:14\n",
      "--- 57 probes kept for region:15\n",
      "--- 50 probes kept for region:16\n",
      "--- 50 probes kept for region:17\n",
      "--- 50 probes kept for region:18\n",
      "--- 55 probes kept for region:19\n",
      "--- 59 probes kept for region:20\n",
      "--- 50 probes kept for region:21\n",
      "--- 54 probes kept for region:22\n",
      "--- 65 probes kept for region:23\n",
      "--- 69 probes kept for region:24\n",
      "--- 52 probes kept for region:25\n",
      "--- 77 probes kept for region:26\n",
      "--- 62 probes kept for region:27\n",
      "--- 83 probes kept for region:28\n",
      "--- 65 probes kept for region:29\n",
      "--- 70 probes kept for region:30\n",
      "--- 65 probes kept for region:31\n",
      "--- 50 probes kept for region:32\n",
      "--- 50 probes kept for region:33\n",
      "--- 50 probes kept for region:34\n",
      "--- 50 probes kept for region:35\n",
      "--- 50 probes kept for region:36\n",
      "--- 74 probes kept for region:37\n",
      "--- 50 probes kept for region:38\n",
      "--- 80 probes kept for region:39\n",
      "--- 75 probes kept for region:40\n",
      "--- 64 probes kept for region:41\n",
      "--- 50 probes kept for region:42\n",
      "--- 50 probes kept for region:43\n",
      "--- 67 probes kept for region:44\n",
      "--- 84 probes kept for region:45\n",
      "--- 68 probes kept for region:46\n",
      "--- 50 probes kept for region:47\n",
      "--- 80 probes kept for region:48\n",
      "--- 50 probes kept for region:49\n",
      "--- 77 probes kept for region:50\n",
      "--- 65 probes kept for region:51\n",
      "--- 66 probes kept for region:52\n",
      "--- 79 probes kept for region:53\n",
      "--- 74 probes kept for region:54\n",
      "--- 72 probes kept for region:55\n",
      "--- 60 probes kept for region:56\n",
      "--- 85 probes kept for region:57\n",
      "--- 72 probes kept for region:58\n",
      "--- 81 probes kept for region:59\n",
      "--- 50 probes kept for region:60\n",
      "--- 50 probes kept for region:61\n",
      "--- 51 probes kept for region:62\n",
      "--- 76 probes kept for region:63\n",
      "--- 53 probes kept for region:64\n",
      "--- 50 probes kept for region:65\n",
      "--- 50 probes kept for region:66\n",
      "--- 84 probes kept for region:67\n",
      "--- 50 probes kept for region:68\n",
      "--- 84 probes kept for region:69\n",
      "--- 61 probes kept for region:70\n",
      "--- 66 probes kept for region:71\n",
      "-- saving to file: X:\\Libraries\\CTP-07\\chr21_9x36_5k\\filtered_probes_n_50_size_5000.fasta\n",
      "- Picked primer: ID: W1A01_primer_0\n",
      "Name: W1A01_primer_0\n",
      "Description: W1A01_primer_0\n",
      "Number of features: 0\n",
      "Seq('CGGCTCGCAGCGTGTAAACG', SingleLetterAlphabet())\n",
      "- Picked primer: ID: W1A02_primer_1\n",
      "Name: W1A02_primer_1\n",
      "Description: W1A02_primer_1\n",
      "Number of features: 0\n",
      "Seq('TAATACGACTCACTATAGGGCATTTCAGGATCACCGGCGG', SingleLetterAlphabet())\n",
      "- Start replacing primers\n",
      "-- saving to file: X:\\Libraries\\CTP-07\\chr21_9x36_5k\\probes_new_primer_0_1.fasta\n"
     ]
    }
   ],
   "source": [
    "library_folder = r'X:\\Libraries\\CTP-07\\chr21_9x36_5k'\n",
    "num_probes = 50\n",
    "reg_size=5000\n",
    "sel_pb_records = probes.Select_subset(input_filename, num_probes, reg_size, position_marker='pb_',\n",
    "                               save_folder=library_folder, save=True)\n",
    "primers = library_tools.probes.load_primers([0,1])\n",
    "updated_records = probes.Replace_primers(sel_pb_records, primers, save_folder=library_folder)"
   ]
  },
  {
   "cell_type": "code",
   "execution_count": 20,
   "metadata": {
    "ExecuteTime": {
     "end_time": "2019-07-04T01:23:13.464437Z",
     "start_time": "2019-07-04T01:23:13.458432Z"
    }
   },
   "outputs": [
    {
     "data": {
      "text/plain": [
       "4411"
      ]
     },
     "execution_count": 20,
     "metadata": {},
     "output_type": "execute_result"
    }
   ],
   "source": [
    "len(updated_records)"
   ]
  },
  {
   "cell_type": "code",
   "execution_count": null,
   "metadata": {},
   "outputs": [],
   "source": []
  }
 ],
 "metadata": {
  "kernelspec": {
   "display_name": "Python 3",
   "language": "python",
   "name": "python3"
  },
  "language_info": {
   "codemirror_mode": {
    "name": "ipython",
    "version": 3
   },
   "file_extension": ".py",
   "mimetype": "text/x-python",
   "name": "python",
   "nbconvert_exporter": "python",
   "pygments_lexer": "ipython3",
   "version": "3.6.8"
  },
  "toc": {
   "base_numbering": 1,
   "nav_menu": {},
   "number_sections": true,
   "sideBar": true,
   "skip_h1_title": false,
   "title_cell": "Table of Contents",
   "title_sidebar": "Contents",
   "toc_cell": false,
   "toc_position": {},
   "toc_section_display": true,
   "toc_window_display": false
  },
  "varInspector": {
   "cols": {
    "lenName": 16,
    "lenType": 16,
    "lenVar": 40
   },
   "kernels_config": {
    "python": {
     "delete_cmd_postfix": "",
     "delete_cmd_prefix": "del ",
     "library": "var_list.py",
     "varRefreshCmd": "print(var_dic_list())"
    },
    "r": {
     "delete_cmd_postfix": ") ",
     "delete_cmd_prefix": "rm(",
     "library": "var_list.r",
     "varRefreshCmd": "cat(var_dic_list()) "
    }
   },
   "types_to_exclude": [
    "module",
    "function",
    "builtin_function_or_method",
    "instance",
    "_Feature"
   ],
   "window_display": false
  }
 },
 "nbformat": 4,
 "nbformat_minor": 2
}
