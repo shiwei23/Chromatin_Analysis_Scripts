{
 "cells": [
  {
   "cell_type": "markdown",
   "metadata": {},
   "source": [
    "# Pick entered 5kb region in previous chr21-50kb decoding library"
   ]
  },
  {
   "cell_type": "code",
   "execution_count": 1,
   "metadata": {
    "ExecuteTime": {
     "end_time": "2019-06-24T00:37:42.871177Z",
     "start_time": "2019-06-24T00:37:41.500156Z"
    }
   },
   "outputs": [
    {
     "name": "stdout",
     "output_type": "stream",
     "text": [
      "107072\n"
     ]
    }
   ],
   "source": [
    "%run \"E:\\Users\\puzheng\\Documents\\Startup_py3.py\"\n",
    "sys.path.append(r\"E:\\Users\\puzheng\\Documents\")\n",
    "\n",
    "import ImageAnalysis3\n",
    "from ImageAnalysis3 import get_img_info, visual_tools, corrections, library_tools\n",
    "\n",
    "from ImageAnalysis3.library_tools import LibraryDesigner as ld\n",
    "from ImageAnalysis3.library_tools import LibraryTools\n",
    "\n",
    "%matplotlib notebook\n",
    "print(os.getpid())"
   ]
  },
  {
   "cell_type": "code",
   "execution_count": 7,
   "metadata": {
    "ExecuteTime": {
     "end_time": "2019-06-24T20:10:11.457378Z",
     "start_time": "2019-06-24T20:10:11.452374Z"
    }
   },
   "outputs": [],
   "source": [
    "# biopython for SeqRecord\n",
    "from Bio import SeqIO\n",
    "from Bio.Seq import Seq\n",
    "from Bio.SeqRecord import SeqRecord\n",
    "from Bio.Alphabet import IUPAC\n",
    "\n",
    "# blast\n",
    "from Bio.Blast.Applications import NcbiblastnCommandline\n",
    "from Bio.Blast import NCBIXML \n",
    "import ImageAnalysis3.library_tools.quality_check as qc"
   ]
  },
  {
   "cell_type": "code",
   "execution_count": 4,
   "metadata": {
    "ExecuteTime": {
     "end_time": "2019-06-24T00:42:47.035722Z",
     "start_time": "2019-06-24T00:42:44.434785Z"
    }
   },
   "outputs": [],
   "source": [
    "# input library\n",
    "input_library_folder = r'X:\\Libraries\\CTP-03\\chr21'\n",
    "input_filename = os.path.join(input_library_folder, 'final_probes', 'filtered_probes.fasta')\n",
    "with open(input_filename, 'r') as _handle:\n",
    "    pb_records = []\n",
    "    for _record in SeqIO.parse(_handle, \"fasta\"):\n",
    "        pb_records.append(_record)"
   ]
  },
  {
   "cell_type": "code",
   "execution_count": 74,
   "metadata": {
    "ExecuteTime": {
     "end_time": "2019-07-04T00:04:16.150081Z",
     "start_time": "2019-07-04T00:04:16.133070Z"
    }
   },
   "outputs": [
    {
     "data": {
      "text/plain": [
       "<module 'ImageAnalysis3.library_tools.probes' from 'E:\\\\Users\\\\puzheng\\\\Documents\\\\ImageAnalysis3\\\\library_tools\\\\probes.py'>"
      ]
     },
     "execution_count": 74,
     "metadata": {},
     "output_type": "execute_result"
    }
   ],
   "source": [
    "reload(library_tools.probes)"
   ]
  },
  {
   "cell_type": "code",
   "execution_count": 112,
   "metadata": {
    "ExecuteTime": {
     "end_time": "2019-07-04T01:14:36.433935Z",
     "start_time": "2019-07-04T01:12:43.769881Z"
    }
   },
   "outputs": [
    {
     "name": "stdout",
     "output_type": "stream",
     "text": [
      "- Start selecting sub_library, n=50,size=5000\n",
      "--- 50 probes kept for region:0\n",
      "--- 50 probes kept for region:1\n",
      "--- 65 probes kept for region:2\n",
      "--- 74 probes kept for region:3\n",
      "--- 68 probes kept for region:4\n",
      "--- 73 probes kept for region:5\n",
      "--- 50 probes kept for region:6\n",
      "--- 71 probes kept for region:7\n",
      "--- 65 probes kept for region:8\n",
      "--- 50 probes kept for region:9\n",
      "--- 62 probes kept for region:10\n",
      "--- 51 probes kept for region:11\n",
      "--- 56 probes kept for region:12\n",
      "--- 54 probes kept for region:13\n",
      "--- 55 probes kept for region:14\n",
      "--- 61 probes kept for region:15\n",
      "--- 50 probes kept for region:16\n",
      "--- 63 probes kept for region:17\n",
      "--- 61 probes kept for region:18\n",
      "--- 50 probes kept for region:19\n",
      "--- 61 probes kept for region:20\n",
      "--- 65 probes kept for region:21\n",
      "--- 55 probes kept for region:22\n",
      "--- 57 probes kept for region:23\n",
      "--- 70 probes kept for region:24\n",
      "--- 50 probes kept for region:25\n",
      "--- 57 probes kept for region:26\n",
      "--- 50 probes kept for region:27\n",
      "--- 54 probes kept for region:28\n",
      "--- 50 probes kept for region:29\n",
      "--- 58 probes kept for region:30\n",
      "--- 53 probes kept for region:31\n",
      "--- 56 probes kept for region:32\n",
      "--- 50 probes kept for region:33\n",
      "--- 53 probes kept for region:34\n",
      "--- 53 probes kept for region:35\n",
      "--- 50 probes kept for region:36\n",
      "--- 54 probes kept for region:37\n",
      "--- 66 probes kept for region:38\n",
      "--- 60 probes kept for region:39\n",
      "--- 68 probes kept for region:40\n",
      "--- 64 probes kept for region:41\n",
      "--- 62 probes kept for region:42\n",
      "--- 50 probes kept for region:43\n",
      "--- 50 probes kept for region:44\n",
      "--- 56 probes kept for region:45\n",
      "--- 54 probes kept for region:46\n",
      "--- 50 probes kept for region:47\n",
      "--- 60 probes kept for region:48\n",
      "--- 50 probes kept for region:49\n",
      "--- 50 probes kept for region:50\n",
      "--- 61 probes kept for region:51\n",
      "--- 69 probes kept for region:52\n",
      "--- 53 probes kept for region:53\n",
      "--- 71 probes kept for region:54\n",
      "--- 53 probes kept for region:55\n",
      "--- 50 probes kept for region:56\n",
      "--- 53 probes kept for region:57\n",
      "--- 57 probes kept for region:58\n",
      "--- 60 probes kept for region:59\n",
      "--- 50 probes kept for region:60\n",
      "--- 59 probes kept for region:61\n",
      "--- 50 probes kept for region:62\n",
      "--- 58 probes kept for region:63\n",
      "--- 82 probes kept for region:64\n",
      "--- 58 probes kept for region:65\n",
      "--- 56 probes kept for region:66\n",
      "--- 69 probes kept for region:67\n",
      "--- 51 probes kept for region:68\n",
      "--- 70 probes kept for region:69\n",
      "--- 50 probes kept for region:70\n",
      "--- 64 probes kept for region:71\n",
      "--- 85 probes kept for region:72\n",
      "--- 65 probes kept for region:73\n",
      "--- 52 probes kept for region:74\n",
      "--- 50 probes kept for region:75\n",
      "--- 50 probes kept for region:76\n",
      "--- 56 probes kept for region:77\n",
      "--- 50 probes kept for region:78\n",
      "--- 79 probes kept for region:79\n",
      "--- 88 probes kept for region:80\n",
      "--- 77 probes kept for region:81\n",
      "--- 50 probes kept for region:82\n",
      "--- 55 probes kept for region:83\n",
      "--- 50 probes kept for region:84\n",
      "--- 50 probes kept for region:85\n",
      "--- 90 probes kept for region:86\n",
      "--- 50 probes kept for region:87\n",
      "--- 60 probes kept for region:88\n",
      "--- 50 probes kept for region:89\n",
      "--- 70 probes kept for region:90\n",
      "--- 76 probes kept for region:91\n",
      "--- 64 probes kept for region:92\n",
      "--- 71 probes kept for region:93\n",
      "--- 67 probes kept for region:94\n",
      "--- 55 probes kept for region:95\n",
      "--- 50 probes kept for region:96\n",
      "--- 50 probes kept for region:97\n",
      "--- 50 probes kept for region:98\n",
      "--- 64 probes kept for region:99\n",
      "--- 67 probes kept for region:100\n",
      "--- 69 probes kept for region:101\n",
      "--- 68 probes kept for region:102\n",
      "--- 61 probes kept for region:103\n",
      "--- 50 probes kept for region:104\n",
      "--- 56 probes kept for region:105\n",
      "--- 85 probes kept for region:106\n",
      "--- 60 probes kept for region:107\n",
      "--- 82 probes kept for region:108\n",
      "--- 50 probes kept for region:109\n",
      "--- 50 probes kept for region:110\n",
      "--- 63 probes kept for region:111\n",
      "--- 69 probes kept for region:112\n",
      "--- 60 probes kept for region:113\n",
      "--- 54 probes kept for region:114\n",
      "--- 74 probes kept for region:115\n",
      "--- 67 probes kept for region:116\n",
      "--- 80 probes kept for region:117\n",
      "--- 73 probes kept for region:118\n",
      "--- 50 probes kept for region:119\n",
      "--- 69 probes kept for region:120\n",
      "--- 81 probes kept for region:121\n",
      "--- 62 probes kept for region:122\n",
      "--- 50 probes kept for region:123\n",
      "--- 77 probes kept for region:124\n",
      "--- 78 probes kept for region:125\n",
      "--- 92 probes kept for region:126\n",
      "--- 86 probes kept for region:127\n",
      "--- 75 probes kept for region:128\n",
      "--- 69 probes kept for region:129\n",
      "--- 50 probes kept for region:130\n",
      "--- 85 probes kept for region:131\n",
      "--- 78 probes kept for region:132\n",
      "--- 69 probes kept for region:133\n",
      "--- 70 probes kept for region:134\n",
      "--- 69 probes kept for region:135\n",
      "--- 50 probes kept for region:136\n",
      "--- 50 probes kept for region:137\n",
      "--- 69 probes kept for region:138\n",
      "--- 62 probes kept for region:139\n",
      "--- 60 probes kept for region:140\n",
      "--- 63 probes kept for region:141\n",
      "--- 87 probes kept for region:142\n",
      "--- 81 probes kept for region:143\n",
      "--- 76 probes kept for region:144\n",
      "--- 50 probes kept for region:145\n",
      "--- 68 probes kept for region:146\n",
      "--- 50 probes kept for region:147\n",
      "--- 69 probes kept for region:148\n",
      "--- 50 probes kept for region:149\n",
      "-- saving to file: X:\\Libraries\\CTP-07\\chr21_5x10_5k\\filtered_probes_n_50_size_5000.fasta\n"
     ]
    }
   ],
   "source": [
    "library_folder = r'X:\\Libraries\\CTP-07\\chr21_5x10_5k'\n",
    "num_probes = 50\n",
    "reg_size=5000\n",
    "sel_pb_records = library_tools.probes.Select_subset(input_filename, \n",
    "                                                    num_probes, reg_size, \n",
    "                                                    position_marker='pb_',\n",
    "                                                    save_folder=library_folder)"
   ]
  },
  {
   "cell_type": "code",
   "execution_count": 113,
   "metadata": {
    "ExecuteTime": {
     "end_time": "2019-07-04T01:15:00.457913Z",
     "start_time": "2019-07-04T01:15:00.452909Z"
    }
   },
   "outputs": [
    {
     "data": {
      "text/plain": [
       "9216"
      ]
     },
     "execution_count": 113,
     "metadata": {},
     "output_type": "execute_result"
    }
   ],
   "source": [
    "len(sel_pb_records)"
   ]
  },
  {
   "cell_type": "code",
   "execution_count": 109,
   "metadata": {
    "ExecuteTime": {
     "end_time": "2019-07-04T01:11:51.214736Z",
     "start_time": "2019-07-04T01:09:49.733643Z"
    }
   },
   "outputs": [
    {
     "name": "stdout",
     "output_type": "stream",
     "text": [
      "--- 20 probes kept for region:0\n",
      "--- 20 probes kept for region:1\n",
      "--- 25 probes kept for region:2\n",
      "--- 28 probes kept for region:3\n",
      "--- 31 probes kept for region:4\n",
      "--- 28 probes kept for region:5\n",
      "--- 20 probes kept for region:6\n",
      "--- 29 probes kept for region:7\n",
      "--- 22 probes kept for region:8\n",
      "--- 20 probes kept for region:9\n",
      "--- 23 probes kept for region:10\n",
      "--- 21 probes kept for region:11\n",
      "--- 25 probes kept for region:12\n",
      "--- 20 probes kept for region:13\n",
      "--- 20 probes kept for region:14\n",
      "--- 31 probes kept for region:15\n",
      "--- 20 probes kept for region:16\n",
      "--- 29 probes kept for region:17\n",
      "--- 20 probes kept for region:18\n",
      "--- 20 probes kept for region:19\n",
      "--- 25 probes kept for region:20\n",
      "--- 26 probes kept for region:21\n",
      "--- 20 probes kept for region:22\n",
      "--- 24 probes kept for region:23\n",
      "--- 32 probes kept for region:24\n",
      "--- 22 probes kept for region:25\n",
      "--- 22 probes kept for region:26\n",
      "--- 20 probes kept for region:27\n",
      "--- 20 probes kept for region:28\n",
      "--- 20 probes kept for region:29\n",
      "--- 24 probes kept for region:30\n",
      "--- 29 probes kept for region:31\n",
      "--- 20 probes kept for region:32\n",
      "--- 21 probes kept for region:33\n",
      "--- 26 probes kept for region:34\n",
      "--- 28 probes kept for region:35\n",
      "--- 26 probes kept for region:36\n",
      "--- 20 probes kept for region:37\n",
      "--- 21 probes kept for region:38\n",
      "--- 22 probes kept for region:39\n",
      "--- 21 probes kept for region:40\n",
      "--- 22 probes kept for region:41\n",
      "--- 22 probes kept for region:42\n",
      "--- 20 probes kept for region:43\n",
      "--- 20 probes kept for region:44\n",
      "--- 21 probes kept for region:45\n",
      "--- 23 probes kept for region:46\n",
      "--- 21 probes kept for region:47\n",
      "--- 24 probes kept for region:48\n",
      "--- 20 probes kept for region:49\n",
      "--- 20 probes kept for region:50\n",
      "--- 29 probes kept for region:51\n",
      "--- 27 probes kept for region:52\n",
      "--- 23 probes kept for region:53\n",
      "--- 27 probes kept for region:54\n",
      "--- 26 probes kept for region:55\n",
      "--- 20 probes kept for region:56\n",
      "--- 27 probes kept for region:57\n",
      "--- 21 probes kept for region:58\n",
      "--- 20 probes kept for region:59\n",
      "--- 20 probes kept for region:60\n",
      "--- 25 probes kept for region:61\n",
      "--- 25 probes kept for region:62\n",
      "--- 28 probes kept for region:63\n",
      "--- 29 probes kept for region:64\n",
      "--- 20 probes kept for region:65\n",
      "--- 20 probes kept for region:66\n",
      "--- 30 probes kept for region:67\n",
      "--- 27 probes kept for region:68\n",
      "--- 33 probes kept for region:69\n",
      "--- 20 probes kept for region:70\n",
      "--- 20 probes kept for region:71\n",
      "--- 29 probes kept for region:72\n",
      "--- 20 probes kept for region:73\n",
      "--- 20 probes kept for region:74\n",
      "--- 33 probes kept for region:75\n",
      "--- 20 probes kept for region:76\n",
      "--- 26 probes kept for region:77\n",
      "--- 23 probes kept for region:78\n",
      "--- 32 probes kept for region:79\n",
      "--- 36 probes kept for region:80\n",
      "--- 31 probes kept for region:81\n",
      "--- 20 probes kept for region:82\n",
      "--- 36 probes kept for region:83\n",
      "--- 23 probes kept for region:84\n",
      "--- 32 probes kept for region:85\n",
      "--- 37 probes kept for region:86\n",
      "--- 20 probes kept for region:87\n",
      "--- 24 probes kept for region:88\n",
      "--- 20 probes kept for region:89\n",
      "--- 26 probes kept for region:90\n",
      "--- 29 probes kept for region:91\n",
      "--- 35 probes kept for region:92\n",
      "--- 28 probes kept for region:93\n",
      "--- 22 probes kept for region:94\n",
      "--- 20 probes kept for region:95\n",
      "--- 25 probes kept for region:96\n",
      "--- 20 probes kept for region:97\n",
      "--- 20 probes kept for region:98\n",
      "--- 27 probes kept for region:99\n",
      "--- 24 probes kept for region:100\n",
      "--- 20 probes kept for region:101\n",
      "--- 36 probes kept for region:102\n",
      "--- 28 probes kept for region:103\n",
      "--- 20 probes kept for region:104\n",
      "--- 23 probes kept for region:105\n",
      "--- 33 probes kept for region:106\n",
      "--- 34 probes kept for region:107\n",
      "--- 38 probes kept for region:108\n",
      "--- 20 probes kept for region:109\n",
      "--- 20 probes kept for region:110\n",
      "--- 26 probes kept for region:111\n",
      "--- 30 probes kept for region:112\n",
      "--- 20 probes kept for region:113\n",
      "--- 26 probes kept for region:114\n",
      "--- 28 probes kept for region:115\n",
      "--- 27 probes kept for region:116\n",
      "--- 30 probes kept for region:117\n",
      "--- 27 probes kept for region:118\n",
      "--- 20 probes kept for region:119\n",
      "--- 37 probes kept for region:120\n",
      "--- 27 probes kept for region:121\n",
      "--- 20 probes kept for region:122\n",
      "--- 20 probes kept for region:123\n",
      "--- 34 probes kept for region:124\n",
      "--- 25 probes kept for region:125\n",
      "--- 36 probes kept for region:126\n",
      "--- 34 probes kept for region:127\n",
      "--- 27 probes kept for region:128\n",
      "--- 31 probes kept for region:129\n",
      "--- 20 probes kept for region:130\n",
      "--- 35 probes kept for region:131\n",
      "--- 24 probes kept for region:132\n",
      "--- 40 probes kept for region:133\n",
      "--- 30 probes kept for region:134\n",
      "--- 28 probes kept for region:135\n",
      "--- 20 probes kept for region:136\n",
      "--- 20 probes kept for region:137\n",
      "--- 20 probes kept for region:138\n",
      "--- 20 probes kept for region:139\n",
      "--- 20 probes kept for region:140\n",
      "--- 20 probes kept for region:141\n",
      "--- 33 probes kept for region:142\n",
      "--- 36 probes kept for region:143\n",
      "--- 32 probes kept for region:144\n",
      "--- 20 probes kept for region:145\n",
      "--- 31 probes kept for region:146\n",
      "--- 20 probes kept for region:147\n",
      "--- 31 probes kept for region:148\n",
      "--- 22 probes kept for region:149\n",
      "- Picked primer: ID: W1A03_primer_2\n",
      "Name: W1A03_primer_2\n",
      "Description: W1A03_primer_2\n",
      "Number of features: 0\n",
      "Seq('CCCGCAATGGCTGACAACCG', SingleLetterAlphabet())\n",
      "- Picked primer: ID: W1A10_primer_9\n",
      "Name: W1A10_primer_9\n",
      "Description: W1A10_primer_9\n",
      "Number of features: 0\n",
      "Seq('TAATACGACTCACTATAGGGATTGCCGCATGGTTTCCG', SingleLetterAlphabet())\n",
      "- Start replacing primers\n",
      "-- saving to file: X:\\Libraries\\CTP-07\\chr21_5x10_2k\\probes_new_primer_2_9.fasta\n"
     ]
    }
   ],
   "source": [
    "library_folder = r'X:\\Libraries\\CTP-07\\chr21_5x10_2k'\n",
    "num_probes = 20\n",
    "reg_size=2000\n",
    "sel_pb_records = Select_subset(input_filename, num_probes, reg_size, position_marker='pb_',\n",
    "                               save_folder=library_folder, save=True)\n",
    "primers = library_tools.probes.load_primers([2,9])\n",
    "updated_records = Replace_primers(sel_pb_records, primers, save_folder=library_folder)"
   ]
  },
  {
   "cell_type": "code",
   "execution_count": 106,
   "metadata": {
    "ExecuteTime": {
     "end_time": "2019-07-04T00:53:49.732640Z",
     "start_time": "2019-07-04T00:53:24.363344Z"
    }
   },
   "outputs": [
    {
     "name": "stdout",
     "output_type": "stream",
     "text": [
      "- Start replacing primers\n",
      "-- saving to file: X:\\Libraries\\CTP-07\\chr21_5x10_2k\\probes_new_primer_2_9.fasta\n"
     ]
    }
   ],
   "source": [
    "updated_records = Replace_primers(sel_pb_records, primers, save_folder=library_folder)"
   ]
  },
  {
   "cell_type": "code",
   "execution_count": 114,
   "metadata": {
    "ExecuteTime": {
     "end_time": "2019-07-04T01:23:05.020147Z",
     "start_time": "2019-07-04T01:23:05.016144Z"
    }
   },
   "outputs": [
    {
     "data": {
      "text/plain": [
       "3768"
      ]
     },
     "execution_count": 114,
     "metadata": {},
     "output_type": "execute_result"
    }
   ],
   "source": [
    "len(updated_records)"
   ]
  },
  {
   "cell_type": "code",
   "execution_count": 104,
   "metadata": {
    "ExecuteTime": {
     "end_time": "2019-07-04T00:51:36.175766Z",
     "start_time": "2019-07-04T00:51:36.152748Z"
    }
   },
   "outputs": [
    {
     "data": {
      "text/plain": [
       "SeqRecord(seq=Seq('CGGGTTTCGTTGCGCACACCCGACCCATGCGGACCTGACACCTTATATAAGTAA...AAG', SingleLetterAlphabet()), id=\"chr21:13250001-13300001_reg_0_gene_chr21_pb_16276_primer_[16,15]_barcodes_[['Stv_94','Stv_95'],'NDB_35']_color_2\", name=\"chr21:13250001-13300001_reg_0_gene_chr21_pb_16276_primer_[16,15]_barcodes_[['Stv_94','Stv_95'],'NDB_35']_color_2\", description=\"chr21:13250001-13300001_reg_0_gene_chr21_pb_16276_primer_[16,15]_barcodes_[['Stv_94','Stv_95'],'NDB_35']_color_2\", dbxrefs=[])"
      ]
     },
     "execution_count": 104,
     "metadata": {},
     "output_type": "execute_result"
    }
   ],
   "source": [
    "pb_records[0]"
   ]
  },
  {
   "cell_type": "code",
   "execution_count": null,
   "metadata": {},
   "outputs": [],
   "source": []
  }
 ],
 "metadata": {
  "kernelspec": {
   "display_name": "Python 3",
   "language": "python",
   "name": "python3"
  },
  "language_info": {
   "codemirror_mode": {
    "name": "ipython",
    "version": 3
   },
   "file_extension": ".py",
   "mimetype": "text/x-python",
   "name": "python",
   "nbconvert_exporter": "python",
   "pygments_lexer": "ipython3",
   "version": "3.6.8"
  },
  "toc": {
   "base_numbering": 1,
   "nav_menu": {},
   "number_sections": true,
   "sideBar": true,
   "skip_h1_title": false,
   "title_cell": "Table of Contents",
   "title_sidebar": "Contents",
   "toc_cell": false,
   "toc_position": {},
   "toc_section_display": true,
   "toc_window_display": false
  },
  "varInspector": {
   "cols": {
    "lenName": 16,
    "lenType": 16,
    "lenVar": 40
   },
   "kernels_config": {
    "python": {
     "delete_cmd_postfix": "",
     "delete_cmd_prefix": "del ",
     "library": "var_list.py",
     "varRefreshCmd": "print(var_dic_list())"
    },
    "r": {
     "delete_cmd_postfix": ") ",
     "delete_cmd_prefix": "rm(",
     "library": "var_list.r",
     "varRefreshCmd": "cat(var_dic_list()) "
    }
   },
   "types_to_exclude": [
    "module",
    "function",
    "builtin_function_or_method",
    "instance",
    "_Feature"
   ],
   "window_display": false
  }
 },
 "nbformat": 4,
 "nbformat_minor": 2
}
