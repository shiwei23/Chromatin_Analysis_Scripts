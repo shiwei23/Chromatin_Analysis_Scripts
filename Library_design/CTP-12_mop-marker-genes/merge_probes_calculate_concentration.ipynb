{
 "cells": [
  {
   "cell_type": "markdown",
   "metadata": {},
   "source": [
    "# Merge probes for CTP-12 marker gene DNA RNA\n",
    "\n",
    "There are 2 different sources:\n",
    "1. TSS 150 probe library for cortex marker genes\n",
    "2. corresponding smFISH from Meng's M1 library used in paper: https://www.nature.com/articles/s41586-021-03705-x"
   ]
  },
  {
   "cell_type": "code",
   "execution_count": 1,
   "metadata": {
    "ExecuteTime": {
     "end_time": "2019-07-04T01:25:30.670956Z",
     "start_time": "2019-07-04T01:25:27.238400Z"
    }
   },
   "outputs": [
    {
     "name": "stdout",
     "output_type": "stream",
     "text": [
      "14600\n"
     ]
    }
   ],
   "source": [
    "%run \"..\\..\\Startup_py3.py\"\n",
    "sys.path.append(r\"..\\..\\..\\..\\Documents\")\n",
    "\n",
    "import ImageAnalysis3\n",
    "from ImageAnalysis3 import get_img_info, visual_tools, corrections, library_tools\n",
    "\n",
    "from ImageAnalysis3.library_tools import LibraryDesigner as ld\n",
    "from ImageAnalysis3.library_tools import LibraryTools\n",
    "\n",
    "%matplotlib notebook\n",
    "print(os.getpid())\n",
    "\n",
    "# biopython for SeqRecord\n",
    "from Bio import SeqIO\n",
    "from Bio.Seq import Seq\n",
    "from Bio.SeqRecord import SeqRecord\n",
    "\n",
    "# blast\n",
    "from Bio.Blast.Applications import NcbiblastnCommandline\n",
    "from Bio.Blast import NCBIXML \n",
    "import ImageAnalysis3.library_tools.quality_check as qc"
   ]
  },
  {
   "cell_type": "code",
   "execution_count": 2,
   "metadata": {
    "ExecuteTime": {
     "end_time": "2019-07-04T01:31:26.837387Z",
     "start_time": "2019-07-04T01:31:26.523156Z"
    }
   },
   "outputs": [],
   "source": [
    "# Library directories\n",
    "pool_folder = r'\\\\10.245.74.212\\Chromatin_NAS_2\\Chromatin_Libraries\\CTP-12_mop_markers'\n",
    "sub_fds = [os.path.join(pool_folder, _fd) for _fd in os.listdir(pool_folder) if os.path.isdir(os.path.join(pool_folder, _fd))]\n"
   ]
  },
  {
   "cell_type": "markdown",
   "metadata": {},
   "source": [
    "## scan probe files"
   ]
  },
  {
   "cell_type": "code",
   "execution_count": 3,
   "metadata": {},
   "outputs": [
    {
     "name": "stdout",
     "output_type": "stream",
     "text": [
      "['\\\\\\\\10.245.74.212\\\\Chromatin_NAS_2\\\\Chromatin_Libraries\\\\CTP-12_mop_markers\\\\smFISH_cell_class\\\\filtered_full_probes.fasta', '\\\\\\\\10.245.74.212\\\\Chromatin_NAS_2\\\\Chromatin_Libraries\\\\CTP-12_mop_markers\\\\marker_gene_TSS\\\\blast_full_probes.fasta']\n",
      "['smFISH-cell-class', 'marker-gene-TSS']\n"
     ]
    }
   ],
   "source": [
    "files = []\n",
    "library_names = []\n",
    "for _fd in sub_fds:\n",
    "    if 'blast_full_probes.fasta' in os.listdir(_fd):\n",
    "        files.append(os.path.join(_fd, 'blast_full_probes.fasta'))\n",
    "        library_names.append(os.path.basename(_fd).replace('_', '-'))\n",
    "    elif 'filtered_full_probes.fasta' in os.listdir(_fd):\n",
    "        files.append(os.path.join(_fd, 'filtered_full_probes.fasta'))\n",
    "        library_names.append(os.path.basename(_fd).replace('_', '-'))\n",
    "        \n",
    "print(files)\n",
    "print(library_names)"
   ]
  },
  {
   "cell_type": "markdown",
   "metadata": {},
   "source": [
    "## load sub-libraries"
   ]
  },
  {
   "cell_type": "code",
   "execution_count": 4,
   "metadata": {},
   "outputs": [
    {
     "name": "stdout",
     "output_type": "stream",
     "text": [
      "loading probes from file: \\\\10.245.74.212\\Chromatin_NAS_2\\Chromatin_Libraries\\CTP-12_mop_markers\\smFISH_cell_class\\filtered_full_probes.fasta\n",
      "loading probes from file: \\\\10.245.74.212\\Chromatin_NAS_2\\Chromatin_Libraries\\CTP-12_mop_markers\\marker_gene_TSS\\blast_full_probes.fasta\n"
     ]
    }
   ],
   "source": [
    "target_len = 120\n",
    "library_2_pbs = {}\n",
    "\n",
    "for _fl, _lib_name in zip(files, library_names):\n",
    "    print(f\"loading probes from file: {_fl}\")\n",
    "    _records = []\n",
    "    with open(_fl, 'r') as _handle:\n",
    "        for _record in SeqIO.parse(_handle, \"fasta\"):\n",
    "            # modify names\n",
    "            _record.id = _record.id + f\"_library_{_lib_name}\"\n",
    "            _record.name, _record.description = '',''\n",
    "            # modify seq if length doesn't match\n",
    "            if len(_record.seq) < target_len:\n",
    "                _seq = _record.seq + Seq('A'*(target_len - len(_record.seq)))\n",
    "                _record.seq = _seq\n",
    "        \n",
    "            _records.append(_record)\n",
    "        \n",
    "    library_2_pbs[_lib_name] = _records"
   ]
  },
  {
   "cell_type": "markdown",
   "metadata": {},
   "source": [
    "## merge and save"
   ]
  },
  {
   "cell_type": "code",
   "execution_count": 5,
   "metadata": {},
   "outputs": [
    {
     "name": "stdout",
     "output_type": "stream",
     "text": [
      "appending 2260 probes from library: smFISH-cell-class\n",
      "appending 3360 probes from library: marker-gene-TSS\n"
     ]
    }
   ],
   "source": [
    "# merge into one file and save\n",
    "final_pool_records = []\n",
    "for _lib_name, _records in library_2_pbs.items():\n",
    "    print(f\"appending {len(_records)} probes from library: {_lib_name}\")\n",
    "    final_pool_records.extend(_records)"
   ]
  },
  {
   "cell_type": "code",
   "execution_count": 6,
   "metadata": {},
   "outputs": [
    {
     "name": "stdout",
     "output_type": "stream",
     "text": [
      "number of probes saved: 5620\n"
     ]
    }
   ],
   "source": [
    "save_filename = os.path.join(pool_folder, 'merged_CTP12.fasta')\n",
    "print(f\"number of probes saved: {len(final_pool_records)}\")\n",
    "with open(save_filename, 'w') as _output_handle:\n",
    "    SeqIO.write(final_pool_records, _output_handle, \"fasta\")"
   ]
  },
  {
   "cell_type": "code",
   "execution_count": null,
   "metadata": {},
   "outputs": [],
   "source": []
  },
  {
   "cell_type": "markdown",
   "metadata": {},
   "source": [
    "# Calculate concentration"
   ]
  },
  {
   "cell_type": "code",
   "execution_count": 44,
   "metadata": {},
   "outputs": [
    {
     "name": "stdout",
     "output_type": "stream",
     "text": [
      "0.0013112999999999998\n",
      "8.914950030593513e-08\n",
      "1.953576287547336e-12\n",
      "final in ul: 195.3576287547336\n"
     ]
    }
   ],
   "source": [
    "# RNA\n",
    "vol = 9e3 # ul\n",
    "conc = 145.7e-9 # g/ul\n",
    "num_pb = 14709\n",
    "pb_len = 150\n",
    "pb_mw = (pb_len * 303.7 + 79) # g/mol\n",
    "\n",
    "mass_total = vol * conc\n",
    "mass_per_pb = mass_total / num_pb\n",
    "mol_per_pb = mass_per_pb / pb_mw\n",
    "print(mass_total)\n",
    "print(mass_per_pb)\n",
    "print(mol_per_pb)\n",
    "target_conc = 1e-8 * 1e-6 # mol/ul\n",
    "final_vol = mol_per_pb / target_conc\n",
    "print(\"final in ul:\", final_vol)"
   ]
  },
  {
   "cell_type": "code",
   "execution_count": 46,
   "metadata": {},
   "outputs": [
    {
     "name": "stdout",
     "output_type": "stream",
     "text": [
      "0.0014858999999999999\n",
      "2.727172616316417e-08\n",
      "6.402264517023305e-13\n",
      "final in ul: 64.02264517023305\n"
     ]
    }
   ],
   "source": [
    "# DNA TSS\n",
    "vol = 9e3 # ul\n",
    "conc = 165.1e-9 # g/ul\n",
    "num_pb = 54485\n",
    "pb_len = 140\n",
    "pb_mw = (pb_len * 303.7 + 79) # g/mol\n",
    "\n",
    "mass_total = vol * conc\n",
    "mass_per_pb = mass_total / num_pb\n",
    "mol_per_pb = mass_per_pb / pb_mw\n",
    "print(mass_total)\n",
    "print(mass_per_pb)\n",
    "print(mol_per_pb)\n",
    "target_conc = 1e-8 * 1e-6 # mol/ul\n",
    "final_vol = mol_per_pb / target_conc\n",
    "print(\"final in ul:\", final_vol)"
   ]
  },
  {
   "cell_type": "code",
   "execution_count": 47,
   "metadata": {},
   "outputs": [
    {
     "name": "stdout",
     "output_type": "stream",
     "text": [
      "0.0015282\n",
      "5.8446475695108425e-08\n",
      "1.3720796228633102e-12\n",
      "final in ul: 137.20796228633102\n"
     ]
    }
   ],
   "source": [
    "# DNA TSS\n",
    "vol = 9e3 # ul\n",
    "conc = 169.8e-9 # g/ul\n",
    "num_pb = 26147\n",
    "pb_len = 140\n",
    "pb_mw = (pb_len * 303.7 + 79) # g/mol\n",
    "\n",
    "mass_total = vol * conc\n",
    "mass_per_pb = mass_total / num_pb\n",
    "mol_per_pb = mass_per_pb / pb_mw\n",
    "print(mass_total)\n",
    "print(mass_per_pb)\n",
    "print(mol_per_pb)\n",
    "target_conc = 1e-8 * 1e-6 # mol/ul\n",
    "final_vol = mol_per_pb / target_conc\n",
    "print(\"final in ul:\", final_vol)"
   ]
  },
  {
   "cell_type": "code",
   "execution_count": 32,
   "metadata": {},
   "outputs": [
    {
     "name": "stdout",
     "output_type": "stream",
     "text": [
      "8.914950030593513e-08\n"
     ]
    }
   ],
   "source": []
  }
 ],
 "metadata": {
  "kernelspec": {
   "display_name": "Python 3",
   "language": "python",
   "name": "python3"
  },
  "language_info": {
   "codemirror_mode": {
    "name": "ipython",
    "version": 3
   },
   "file_extension": ".py",
   "mimetype": "text/x-python",
   "name": "python",
   "nbconvert_exporter": "python",
   "pygments_lexer": "ipython3",
   "version": "3.7.9"
  },
  "toc": {
   "base_numbering": 1,
   "nav_menu": {},
   "number_sections": true,
   "sideBar": true,
   "skip_h1_title": false,
   "title_cell": "Table of Contents",
   "title_sidebar": "Contents",
   "toc_cell": false,
   "toc_position": {},
   "toc_section_display": true,
   "toc_window_display": false
  },
  "varInspector": {
   "cols": {
    "lenName": 16,
    "lenType": 16,
    "lenVar": 40
   },
   "kernels_config": {
    "python": {
     "delete_cmd_postfix": "",
     "delete_cmd_prefix": "del ",
     "library": "var_list.py",
     "varRefreshCmd": "print(var_dic_list())"
    },
    "r": {
     "delete_cmd_postfix": ") ",
     "delete_cmd_prefix": "rm(",
     "library": "var_list.r",
     "varRefreshCmd": "cat(var_dic_list()) "
    }
   },
   "types_to_exclude": [
    "module",
    "function",
    "builtin_function_or_method",
    "instance",
    "_Feature"
   ],
   "window_display": false
  }
 },
 "nbformat": 4,
 "nbformat_minor": 2
}
