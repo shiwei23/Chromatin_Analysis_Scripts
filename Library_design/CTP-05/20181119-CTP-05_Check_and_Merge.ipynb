{
 "cells": [
  {
   "cell_type": "markdown",
   "metadata": {},
   "source": [
    "# CTP-05 Check and Merge Fasta Files\n",
    "\n",
    "by Pu Zheng\n"
   ]
  },
  {
   "cell_type": "code",
   "execution_count": 23,
   "metadata": {},
   "outputs": [],
   "source": [
    "# minimal imports for biopython\n",
    "from Bio import SeqIO\n",
    "from Bio.Seq import Seq\n",
    "from Bio.Alphabet import IUPAC\n",
    "from Bio.SeqRecord import SeqRecord\n",
    "import os,glob,time\n",
    "import numpy as np"
   ]
  },
  {
   "cell_type": "code",
   "execution_count": 24,
   "metadata": {},
   "outputs": [
    {
     "name": "stdout",
     "output_type": "stream",
     "text": [
      "- Total expected probes in this library:\n",
      " 11999\n"
     ]
    }
   ],
   "source": [
    "# Information copied by hand, as a reference\n",
    "probe_len = 150;\n",
    "sub_lib_size = {'Intronic_RNA': 7202,\n",
    "                'Exonic_RNA': 4797,\n",
    "                }\n",
    "print(\"- Total expected probes in this library:\\n\", sum(sub_lib_size.values()))"
   ]
  },
  {
   "cell_type": "code",
   "execution_count": 25,
   "metadata": {},
   "outputs": [
    {
     "name": "stdout",
     "output_type": "stream",
     "text": [
      "- All folders in library directory:\n",
      " ['E:\\\\Users\\\\puzheng\\\\Documents\\\\Libraries\\\\CTP-05\\\\Candidate_Probes', 'E:\\\\Users\\\\puzheng\\\\Documents\\\\Libraries\\\\CTP-05\\\\Exonic_RNA', 'E:\\\\Users\\\\puzheng\\\\Documents\\\\Libraries\\\\CTP-05\\\\Intronic_RNA', 'E:\\\\Users\\\\puzheng\\\\Documents\\\\Libraries\\\\CTP-05\\\\merged_CTP-05.fasta', 'E:\\\\Users\\\\puzheng\\\\Documents\\\\Libraries\\\\CTP-05\\\\Ref_Codebook', 'E:\\\\Users\\\\puzheng\\\\Documents\\\\Libraries\\\\CTP-05\\\\Ref_nascent_rna']\n",
      "-- reading file: E:\\Users\\puzheng\\Documents\\Libraries\\CTP-05\\Exonic_RNA\\final_probes\\blast_full_probes.fasta\n",
      "-- reading file: E:\\Users\\puzheng\\Documents\\Libraries\\CTP-05\\Intronic_RNA\\final_probes\\blast_full_probes.fasta\n",
      "- Acquired probe in this library: 11999\n",
      "- Library size matches\n"
     ]
    }
   ],
   "source": [
    "# library directory\n",
    "total_library_folder = r'E:\\Users\\puzheng\\Documents\\Libraries\\CTP-05';\n",
    "# probe subdir\n",
    "pb_subfolder = 'final_probes'\n",
    "#pb_filename = 'filtered_full_probes.fasta' # after normal check\n",
    "pb_filename = 'blast_full_probes.fasta' # after blast \n",
    "#pb_filename = 'extra_blast_full_probes.fasta' # after blast and extra check\n",
    "\n",
    "\n",
    "# sub folders\n",
    "sub_lib_folders = glob.glob(total_library_folder + os.sep + '*')\n",
    "print(\"- All folders in library directory:\\n\", sub_lib_folders)\n",
    "\n",
    "# all probe records\n",
    "all_records = [];\n",
    "\n",
    "for fd in sub_lib_folders:\n",
    "    if os.path.basename(fd) in sub_lib_size.keys():\n",
    "        _filename = fd + os.sep + pb_subfolder + os.sep + pb_filename;\n",
    "        print( \"-- reading file:\",_filename)\n",
    "        with open(_filename, 'r') as handle:\n",
    "            for record in SeqIO.parse(handle, \"fasta\"):\n",
    "                all_records.append(record);\n",
    "                if len(record.seq) != probe_len:\n",
    "                    print('Wrong length!')\n",
    "                \n",
    "print(\"- Acquired probe in this library:\", len(all_records))\n",
    "if len(all_records) == sum(sub_lib_size.values()):\n",
    "    print(\"- Library size matches\")"
   ]
  },
  {
   "cell_type": "code",
   "execution_count": 26,
   "metadata": {},
   "outputs": [
    {
     "name": "stdout",
     "output_type": "stream",
     "text": [
      "- Writing all probes into merged_CTP-05.fasta\n"
     ]
    }
   ],
   "source": [
    "output_filename = 'merged_CTP-05.fasta';\n",
    "\n",
    "with open(total_library_folder+os.sep+output_filename, 'w') as output_handle:\n",
    "    print(\"- Writing all probes into\", output_filename)\n",
    "    SeqIO.write(all_records, output_handle, 'fasta');"
   ]
  },
  {
   "cell_type": "code",
   "execution_count": 15,
   "metadata": {},
   "outputs": [
    {
     "data": {
      "text/plain": [
       "13760"
      ]
     },
     "execution_count": 15,
     "metadata": {},
     "output_type": "execute_result"
    }
   ],
   "source": []
  },
  {
   "cell_type": "code",
   "execution_count": null,
   "metadata": {},
   "outputs": [],
   "source": []
  }
 ],
 "metadata": {
  "kernelspec": {
   "display_name": "Python 3",
   "language": "python",
   "name": "python3"
  },
  "language_info": {
   "codemirror_mode": {
    "name": "ipython",
    "version": 3
   },
   "file_extension": ".py",
   "mimetype": "text/x-python",
   "name": "python",
   "nbconvert_exporter": "python",
   "pygments_lexer": "ipython3",
   "version": "3.6.5"
  }
 },
 "nbformat": 4,
 "nbformat_minor": 2
}
