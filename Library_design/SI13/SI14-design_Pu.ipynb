{
 "cells": [
  {
   "cell_type": "markdown",
   "metadata": {},
   "source": [
    "# Library design for SI-14\n",
    "\n",
    "by Pu Zheng and Jun-Han Su\n",
    "\n",
    "This library may be ordered from TWIST"
   ]
  },
  {
   "cell_type": "code",
   "execution_count": 1,
   "metadata": {
    "collapsed": true
   },
   "outputs": [],
   "source": [
    "#minimum imports:\n",
    "import time,os,sys,glob\n",
    "import cPickle as pickle\n",
    "import numpy as np\n",
    "import khmer\n",
    "sys.path.append(r'/n/home13/pzheng/Documents/python-functions/python-functions-library')\n",
    "\n",
    "from LibraryConstruction import fastaread,fastawrite,fastacombine\n",
    "import LibraryDesigner as ld\n",
    "import LibraryConstruction as lc"
   ]
  },
  {
   "cell_type": "markdown",
   "metadata": {},
   "source": [
    "## 0.1 Indexing for human genome hg38\n",
    "(skip step 0 if indeces have been created)"
   ]
  },
  {
   "cell_type": "code",
   "execution_count": 6,
   "metadata": {
    "scrolled": true
   },
   "outputs": [
    {
     "name": "stdout",
     "output_type": "stream",
     "text": [
      "Number of fasta files: 455\n",
      "Dealing with file:/n/boslfs/LABS/zhuang_lab/User/pzheng/Genomes/human/hg38/chroms/chr17_JH159147v1_alt.fa\n",
      "Dealing with file:/n/boslfs/LABS/zhuang_lab/User/pzheng/Genomes/human/hg38/chroms/chr17_GL383565v1_alt.fa\n",
      "Dealing with file:/n/boslfs/LABS/zhuang_lab/User/pzheng/Genomes/human/hg38/chroms/chrUn_KI270539v1.fa\n",
      "Dealing with file:/n/boslfs/LABS/zhuang_lab/User/pzheng/Genomes/human/hg38/chroms/chr19_KI270889v1_alt.fa\n",
      "Dealing with file:/n/boslfs/LABS/zhuang_lab/User/pzheng/Genomes/human/hg38/chroms/chr19_KI270887v1_alt.fa\n",
      "Dealing with file:/n/boslfs/LABS/zhuang_lab/User/pzheng/Genomes/human/hg38/chroms/chr22_KI270876v1_alt.fa\n",
      "Dealing with file:/n/boslfs/LABS/zhuang_lab/User/pzheng/Genomes/human/hg38/chroms/chrUn_KI270510v1.fa\n",
      "Dealing with file:/n/boslfs/LABS/zhuang_lab/User/pzheng/Genomes/human/hg38/chroms/chr17_KI270859v1_alt.fa\n",
      "Dealing with file:/n/boslfs/LABS/zhuang_lab/User/pzheng/Genomes/human/hg38/chroms/chrUn_KI270755v1.fa\n",
      "Dealing with file:/n/boslfs/LABS/zhuang_lab/User/pzheng/Genomes/human/hg38/chroms/chr15_GL383555v2_alt.fa\n",
      "Dealing with file:/n/boslfs/LABS/zhuang_lab/User/pzheng/Genomes/human/hg38/chroms/chrUn_KI270511v1.fa\n",
      "Dealing with file:/n/boslfs/LABS/zhuang_lab/User/pzheng/Genomes/human/hg38/chroms/chr19_KI270933v1_alt.fa\n",
      "Dealing with file:/n/boslfs/LABS/zhuang_lab/User/pzheng/Genomes/human/hg38/chroms/chr13_KI270839v1_alt.fa\n",
      "Dealing with file:/n/boslfs/LABS/zhuang_lab/User/pzheng/Genomes/human/hg38/chroms/chrUn_KI270364v1.fa\n",
      "Dealing with file:/n/boslfs/LABS/zhuang_lab/User/pzheng/Genomes/human/hg38/chroms/chr6_GL000251v2_alt.fa\n",
      "Dealing with file:/n/boslfs/LABS/zhuang_lab/User/pzheng/Genomes/human/hg38/chroms/chr13_KI270843v1_alt.fa\n",
      "Dealing with file:/n/boslfs/LABS/zhuang_lab/User/pzheng/Genomes/human/hg38/chroms/chr22_GL383583v2_alt.fa\n",
      "Dealing with file:/n/boslfs/LABS/zhuang_lab/User/pzheng/Genomes/human/hg38/chroms/chr19_KI270932v1_alt.fa\n",
      "Dealing with file:/n/boslfs/LABS/zhuang_lab/User/pzheng/Genomes/human/hg38/chroms/chr15_KI270727v1_random.fa\n",
      "Dealing with file:/n/boslfs/LABS/zhuang_lab/User/pzheng/Genomes/human/hg38/chroms/chrUn_KI270312v1.fa\n",
      "Dealing with file:/n/boslfs/LABS/zhuang_lab/User/pzheng/Genomes/human/hg38/chroms/chr15_KI270848v1_alt.fa\n",
      "Dealing with file:/n/boslfs/LABS/zhuang_lab/User/pzheng/Genomes/human/hg38/chroms/chr15_KI270906v1_alt.fa\n",
      "Dealing with file:/n/boslfs/LABS/zhuang_lab/User/pzheng/Genomes/human/hg38/chroms/chrUn_KI270396v1.fa\n",
      "Dealing with file:/n/boslfs/LABS/zhuang_lab/User/pzheng/Genomes/human/hg38/chroms/chrX_KI270913v1_alt.fa\n",
      "Dealing with file:/n/boslfs/LABS/zhuang_lab/User/pzheng/Genomes/human/hg38/chroms/chr6_KI270799v1_alt.fa\n",
      "Dealing with file:/n/boslfs/LABS/zhuang_lab/User/pzheng/Genomes/human/hg38/chroms/chr19_KI270923v1_alt.fa\n",
      "Dealing with file:/n/boslfs/LABS/zhuang_lab/User/pzheng/Genomes/human/hg38/chroms/chr19_GL949749v2_alt.fa\n",
      "Dealing with file:/n/boslfs/LABS/zhuang_lab/User/pzheng/Genomes/human/hg38/chroms/chr11_KI270827v1_alt.fa\n",
      "Dealing with file:/n/boslfs/LABS/zhuang_lab/User/pzheng/Genomes/human/hg38/chroms/chrUn_KI270391v1.fa\n",
      "Dealing with file:/n/boslfs/LABS/zhuang_lab/User/pzheng/Genomes/human/hg38/chroms/chr3_KI270784v1_alt.fa\n",
      "Dealing with file:/n/boslfs/LABS/zhuang_lab/User/pzheng/Genomes/human/hg38/chroms/chrUn_KI270418v1.fa\n",
      "Dealing with file:/n/boslfs/LABS/zhuang_lab/User/pzheng/Genomes/human/hg38/chroms/chr14_KI270722v1_random.fa\n",
      "Dealing with file:/n/boslfs/LABS/zhuang_lab/User/pzheng/Genomes/human/hg38/chroms/chrUn_GL000218v1.fa\n",
      "Dealing with file:/n/boslfs/LABS/zhuang_lab/User/pzheng/Genomes/human/hg38/chroms/chrUn_KI270411v1.fa\n",
      "Dealing with file:/n/boslfs/LABS/zhuang_lab/User/pzheng/Genomes/human/hg38/chroms/chr6_GL000255v2_alt.fa\n",
      "Dealing with file:/n/boslfs/LABS/zhuang_lab/User/pzheng/Genomes/human/hg38/chroms/chrUn_KI270386v1.fa\n",
      "Dealing with file:/n/boslfs/LABS/zhuang_lab/User/pzheng/Genomes/human/hg38/chroms/chr12_GL383552v1_alt.fa\n",
      "Dealing with file:/n/boslfs/LABS/zhuang_lab/User/pzheng/Genomes/human/hg38/chroms/chr2_KI270716v1_random.fa\n",
      "Dealing with file:/n/boslfs/LABS/zhuang_lab/User/pzheng/Genomes/human/hg38/chroms/chr19_KI270866v1_alt.fa\n",
      "Dealing with file:/n/boslfs/LABS/zhuang_lab/User/pzheng/Genomes/human/hg38/chroms/chr19_KI270921v1_alt.fa\n",
      "Dealing with file:/n/boslfs/LABS/zhuang_lab/User/pzheng/Genomes/human/hg38/chroms/chr1_KI270760v1_alt.fa\n",
      "Dealing with file:/n/boslfs/LABS/zhuang_lab/User/pzheng/Genomes/human/hg38/chroms/chr7_KI270809v1_alt.fa\n",
      "Dealing with file:/n/boslfs/LABS/zhuang_lab/User/pzheng/Genomes/human/hg38/chroms/chrUn_KI270750v1.fa\n",
      "Dealing with file:/n/boslfs/LABS/zhuang_lab/User/pzheng/Genomes/human/hg38/chroms/chr2_KI270767v1_alt.fa\n",
      "Dealing with file:/n/boslfs/LABS/zhuang_lab/User/pzheng/Genomes/human/hg38/chroms/chr5_KI270795v1_alt.fa\n",
      "Dealing with file:/n/boslfs/LABS/zhuang_lab/User/pzheng/Genomes/human/hg38/chroms/chr8_KI270811v1_alt.fa\n",
      "Dealing with file:/n/boslfs/LABS/zhuang_lab/User/pzheng/Genomes/human/hg38/chroms/chr17_KI270857v1_alt.fa\n",
      "Dealing with file:/n/boslfs/LABS/zhuang_lab/User/pzheng/Genomes/human/hg38/chroms/chrUn_KI270303v1.fa\n",
      "Dealing with file:/n/boslfs/LABS/zhuang_lab/User/pzheng/Genomes/human/hg38/chroms/chr3_KI270781v1_alt.fa\n",
      "Dealing with file:/n/boslfs/LABS/zhuang_lab/User/pzheng/Genomes/human/hg38/chroms/chr3_KI270783v1_alt.fa\n",
      "Dealing with file:/n/boslfs/LABS/zhuang_lab/User/pzheng/Genomes/human/hg38/chroms/chr4_KI270786v1_alt.fa\n",
      "Dealing with file:/n/boslfs/LABS/zhuang_lab/User/pzheng/Genomes/human/hg38/chroms/chr8_KI270815v1_alt.fa\n",
      "Dealing with file:/n/boslfs/LABS/zhuang_lab/User/pzheng/Genomes/human/hg38/chroms/chr19_KI270920v1_alt.fa\n",
      "Dealing with file:/n/boslfs/LABS/zhuang_lab/User/pzheng/Genomes/human/hg38/chroms/chr18_KI270912v1_alt.fa\n",
      "Dealing with file:/n/boslfs/LABS/zhuang_lab/User/pzheng/Genomes/human/hg38/chroms/chr19_KI270886v1_alt.fa\n",
      "Dealing with file:/n/boslfs/LABS/zhuang_lab/User/pzheng/Genomes/human/hg38/chroms/chrUn_KI270335v1.fa\n",
      "Dealing with file:/n/boslfs/LABS/zhuang_lab/User/pzheng/Genomes/human/hg38/chroms/chr11.fa\n",
      "Dealing with file:/n/boslfs/LABS/zhuang_lab/User/pzheng/Genomes/human/hg38/chroms/chr22_KB663609v1_alt.fa\n",
      "Dealing with file:/n/boslfs/LABS/zhuang_lab/User/pzheng/Genomes/human/hg38/chroms/chr22_KI270732v1_random.fa\n",
      "Dealing with file:/n/boslfs/LABS/zhuang_lab/User/pzheng/Genomes/human/hg38/chroms/chrUn_KI270388v1.fa\n",
      "Dealing with file:/n/boslfs/LABS/zhuang_lab/User/pzheng/Genomes/human/hg38/chroms/chrUn_KI270374v1.fa\n",
      "Dealing with file:/n/boslfs/LABS/zhuang_lab/User/pzheng/Genomes/human/hg38/chroms/chr1_GL383519v1_alt.fa\n",
      "Dealing with file:/n/boslfs/LABS/zhuang_lab/User/pzheng/Genomes/human/hg38/chroms/chrUn_KI270744v1.fa\n",
      "Dealing with file:/n/boslfs/LABS/zhuang_lab/User/pzheng/Genomes/human/hg38/chroms/chrUn_KI270389v1.fa\n",
      "Dealing with file:/n/boslfs/LABS/zhuang_lab/User/pzheng/Genomes/human/hg38/chroms/chr16.fa\n",
      "Dealing with file:/n/boslfs/LABS/zhuang_lab/User/pzheng/Genomes/human/hg38/chroms/chrUn_KI270752v1.fa\n",
      "Dealing with file:/n/boslfs/LABS/zhuang_lab/User/pzheng/Genomes/human/hg38/chroms/chrUn_KI270395v1.fa\n",
      "Dealing with file:/n/boslfs/LABS/zhuang_lab/User/pzheng/Genomes/human/hg38/chroms/chr7.fa\n",
      "Dealing with file:/n/boslfs/LABS/zhuang_lab/User/pzheng/Genomes/human/hg38/chroms/chr17_KI270910v1_alt.fa\n",
      "Dealing with file:/n/boslfs/LABS/zhuang_lab/User/pzheng/Genomes/human/hg38/chroms/chr13_KI270838v1_alt.fa\n",
      "Dealing with file:/n/boslfs/LABS/zhuang_lab/User/pzheng/Genomes/human/hg38/chroms/chr11_KI270832v1_alt.fa\n",
      "Dealing with file:/n/boslfs/LABS/zhuang_lab/User/pzheng/Genomes/human/hg38/chroms/chr5_KI270794v1_alt.fa\n",
      "Dealing with file:/n/boslfs/LABS/zhuang_lab/User/pzheng/Genomes/human/hg38/chroms/chr11_GL383547v1_alt.fa\n",
      "Dealing with file:/n/boslfs/LABS/zhuang_lab/User/pzheng/Genomes/human/hg38/chroms/chrUn_KI270521v1.fa\n",
      "Dealing with file:/n/boslfs/LABS/zhuang_lab/User/pzheng/Genomes/human/hg38/chroms/chr8_KI270900v1_alt.fa\n",
      "Dealing with file:/n/boslfs/LABS/zhuang_lab/User/pzheng/Genomes/human/hg38/chroms/chrUn_GL000219v1.fa\n",
      "Dealing with file:/n/boslfs/LABS/zhuang_lab/User/pzheng/Genomes/human/hg38/chroms/chr11_KI270830v1_alt.fa\n",
      "Dealing with file:/n/boslfs/LABS/zhuang_lab/User/pzheng/Genomes/human/hg38/chroms/chrUn_GL000213v1.fa\n",
      "Dealing with file:/n/boslfs/LABS/zhuang_lab/User/pzheng/Genomes/human/hg38/chroms/chr18_GL383567v1_alt.fa\n"
     ]
    },
    {
     "name": "stdout",
     "output_type": "stream",
     "text": [
      "Dealing with file:/n/boslfs/LABS/zhuang_lab/User/pzheng/Genomes/human/hg38/chroms/chr16_KI270854v1_alt.fa\n",
      "Dealing with file:/n/boslfs/LABS/zhuang_lab/User/pzheng/Genomes/human/hg38/chroms/chr21_KI270874v1_alt.fa\n",
      "Dealing with file:/n/boslfs/LABS/zhuang_lab/User/pzheng/Genomes/human/hg38/chroms/chr2_KI270772v1_alt.fa\n",
      "Dealing with file:/n/boslfs/LABS/zhuang_lab/User/pzheng/Genomes/human/hg38/chroms/chr16_KI270728v1_random.fa\n",
      "Dealing with file:/n/boslfs/LABS/zhuang_lab/User/pzheng/Genomes/human/hg38/chroms/chr9_GL383542v1_alt.fa\n",
      "Dealing with file:/n/boslfs/LABS/zhuang_lab/User/pzheng/Genomes/human/hg38/chroms/chr1_KI270766v1_alt.fa\n",
      "Dealing with file:/n/boslfs/LABS/zhuang_lab/User/pzheng/Genomes/human/hg38/chroms/chrUn_KI270333v1.fa\n",
      "Dealing with file:/n/boslfs/LABS/zhuang_lab/User/pzheng/Genomes/human/hg38/chroms/chr11_JH159136v1_alt.fa\n",
      "Dealing with file:/n/boslfs/LABS/zhuang_lab/User/pzheng/Genomes/human/hg38/chroms/chrUn_KI270310v1.fa\n",
      "Dealing with file:/n/boslfs/LABS/zhuang_lab/User/pzheng/Genomes/human/hg38/chroms/chr19_KI270922v1_alt.fa\n",
      "Dealing with file:/n/boslfs/LABS/zhuang_lab/User/pzheng/Genomes/human/hg38/chroms/chr19_KI270916v1_alt.fa\n",
      "Dealing with file:/n/boslfs/LABS/zhuang_lab/User/pzheng/Genomes/human/hg38/chroms/chr16_KI270856v1_alt.fa\n",
      "Dealing with file:/n/boslfs/LABS/zhuang_lab/User/pzheng/Genomes/human/hg38/chroms/chrUn_KI270382v1.fa\n",
      "Dealing with file:/n/boslfs/LABS/zhuang_lab/User/pzheng/Genomes/human/hg38/chroms/chrUn_KI270387v1.fa\n",
      "Dealing with file:/n/boslfs/LABS/zhuang_lab/User/pzheng/Genomes/human/hg38/chroms/chr19_KI270885v1_alt.fa\n",
      "Dealing with file:/n/boslfs/LABS/zhuang_lab/User/pzheng/Genomes/human/hg38/chroms/chrX.fa\n",
      "Dealing with file:/n/boslfs/LABS/zhuang_lab/User/pzheng/Genomes/human/hg38/chroms/chr2.fa\n",
      "Dealing with file:/n/boslfs/LABS/zhuang_lab/User/pzheng/Genomes/human/hg38/chroms/chrUn_GL000214v1.fa\n",
      "Dealing with file:/n/boslfs/LABS/zhuang_lab/User/pzheng/Genomes/human/hg38/chroms/chr6_KI270801v1_alt.fa\n",
      "Dealing with file:/n/boslfs/LABS/zhuang_lab/User/pzheng/Genomes/human/hg38/chroms/chr22_KI270733v1_random.fa\n",
      "Dealing with file:/n/boslfs/LABS/zhuang_lab/User/pzheng/Genomes/human/hg38/chroms/chr5_GL949742v1_alt.fa\n",
      "Dealing with file:/n/boslfs/LABS/zhuang_lab/User/pzheng/Genomes/human/hg38/chroms/chr17_JH159148v1_alt.fa\n",
      "Dealing with file:/n/boslfs/LABS/zhuang_lab/User/pzheng/Genomes/human/hg38/chroms/chr1_KI270706v1_random.fa\n",
      "Dealing with file:/n/boslfs/LABS/zhuang_lab/User/pzheng/Genomes/human/hg38/chroms/chrUn_GL000195v1.fa\n",
      "Dealing with file:/n/boslfs/LABS/zhuang_lab/User/pzheng/Genomes/human/hg38/chroms/chrUn_KI270384v1.fa\n",
      "Dealing with file:/n/boslfs/LABS/zhuang_lab/User/pzheng/Genomes/human/hg38/chroms/chr19_KI270915v1_alt.fa\n",
      "Dealing with file:/n/boslfs/LABS/zhuang_lab/User/pzheng/Genomes/human/hg38/chroms/chr6_KI270802v1_alt.fa\n",
      "Dealing with file:/n/boslfs/LABS/zhuang_lab/User/pzheng/Genomes/human/hg38/chroms/chr7_KI270804v1_alt.fa\n",
      "Dealing with file:/n/boslfs/LABS/zhuang_lab/User/pzheng/Genomes/human/hg38/chroms/chr6.fa\n",
      "Dealing with file:/n/boslfs/LABS/zhuang_lab/User/pzheng/Genomes/human/hg38/chroms/chr17_KI270861v1_alt.fa\n",
      "Dealing with file:/n/boslfs/LABS/zhuang_lab/User/pzheng/Genomes/human/hg38/chroms/chr6_KI270798v1_alt.fa\n",
      "Dealing with file:/n/boslfs/LABS/zhuang_lab/User/pzheng/Genomes/human/hg38/chroms/chr19_KI270868v1_alt.fa\n",
      "Dealing with file:/n/boslfs/LABS/zhuang_lab/User/pzheng/Genomes/human/hg38/chroms/chr14_KI270846v1_alt.fa\n",
      "Dealing with file:/n/boslfs/LABS/zhuang_lab/User/pzheng/Genomes/human/hg38/chroms/chr14_KI270726v1_random.fa\n",
      "Dealing with file:/n/boslfs/LABS/zhuang_lab/User/pzheng/Genomes/human/hg38/chroms/chr11_KI270721v1_random.fa\n",
      "Dealing with file:/n/boslfs/LABS/zhuang_lab/User/pzheng/Genomes/human/hg38/chroms/chr19_GL949748v2_alt.fa\n",
      "Dealing with file:/n/boslfs/LABS/zhuang_lab/User/pzheng/Genomes/human/hg38/chroms/chrUn_KI270538v1.fa\n",
      "Dealing with file:/n/boslfs/LABS/zhuang_lab/User/pzheng/Genomes/human/hg38/chroms/chr1_KI270765v1_alt.fa\n",
      "Dealing with file:/n/boslfs/LABS/zhuang_lab/User/pzheng/Genomes/human/hg38/chroms/chrUn_KI270589v1.fa\n",
      "Dealing with file:/n/boslfs/LABS/zhuang_lab/User/pzheng/Genomes/human/hg38/chroms/chrUn_KI270423v1.fa\n",
      "Dealing with file:/n/boslfs/LABS/zhuang_lab/User/pzheng/Genomes/human/hg38/chroms/chrUn_KI270420v1.fa\n",
      "Dealing with file:/n/boslfs/LABS/zhuang_lab/User/pzheng/Genomes/human/hg38/chroms/chrUn_KI270593v1.fa\n",
      "Dealing with file:/n/boslfs/LABS/zhuang_lab/User/pzheng/Genomes/human/hg38/chroms/chr12_KI270835v1_alt.fa\n",
      "Dealing with file:/n/boslfs/LABS/zhuang_lab/User/pzheng/Genomes/human/hg38/chroms/chr7_KI270805v1_alt.fa\n",
      "Dealing with file:/n/boslfs/LABS/zhuang_lab/User/pzheng/Genomes/human/hg38/chroms/chr14_KI270725v1_random.fa\n",
      "Dealing with file:/n/boslfs/LABS/zhuang_lab/User/pzheng/Genomes/human/hg38/chroms/chr15_GL383554v1_alt.fa\n",
      "Dealing with file:/n/boslfs/LABS/zhuang_lab/User/pzheng/Genomes/human/hg38/chroms/chr20.fa\n",
      "Dealing with file:/n/boslfs/LABS/zhuang_lab/User/pzheng/Genomes/human/hg38/chroms/chrUn_KI270442v1.fa\n",
      "Dealing with file:/n/boslfs/LABS/zhuang_lab/User/pzheng/Genomes/human/hg38/chroms/chr1_KI270709v1_random.fa\n",
      "Dealing with file:/n/boslfs/LABS/zhuang_lab/User/pzheng/Genomes/human/hg38/chroms/chr15.fa\n",
      "Dealing with file:/n/boslfs/LABS/zhuang_lab/User/pzheng/Genomes/human/hg38/chroms/chrUn_KI270363v1.fa\n",
      "Dealing with file:/n/boslfs/LABS/zhuang_lab/User/pzheng/Genomes/human/hg38/chroms/chr8_KI270820v1_alt.fa\n",
      "Dealing with file:/n/boslfs/LABS/zhuang_lab/User/pzheng/Genomes/human/hg38/chroms/chr19_KI270914v1_alt.fa\n",
      "Dealing with file:/n/boslfs/LABS/zhuang_lab/User/pzheng/Genomes/human/hg38/chroms/chr17_KI270909v1_alt.fa\n",
      "Dealing with file:/n/boslfs/LABS/zhuang_lab/User/pzheng/Genomes/human/hg38/chroms/chr3_KI270895v1_alt.fa\n",
      "Dealing with file:/n/boslfs/LABS/zhuang_lab/User/pzheng/Genomes/human/hg38/chroms/chr19_KI270931v1_alt.fa\n",
      "Dealing with file:/n/boslfs/LABS/zhuang_lab/User/pzheng/Genomes/human/hg38/chroms/chr13_KI270840v1_alt.fa\n",
      "Dealing with file:/n/boslfs/LABS/zhuang_lab/User/pzheng/Genomes/human/hg38/chroms/chr14_GL000009v2_random.fa\n",
      "Dealing with file:/n/boslfs/LABS/zhuang_lab/User/pzheng/Genomes/human/hg38/chroms/chr7_KI270808v1_alt.fa\n",
      "Dealing with file:/n/boslfs/LABS/zhuang_lab/User/pzheng/Genomes/human/hg38/chroms/chrUn_KI270518v1.fa\n",
      "Dealing with file:/n/boslfs/LABS/zhuang_lab/User/pzheng/Genomes/human/hg38/chroms/chr5_KI270897v1_alt.fa\n",
      "Dealing with file:/n/boslfs/LABS/zhuang_lab/User/pzheng/Genomes/human/hg38/chroms/chr13.fa\n",
      "Dealing with file:/n/boslfs/LABS/zhuang_lab/User/pzheng/Genomes/human/hg38/chroms/chrUn_KI270379v1.fa\n",
      "Dealing with file:/n/boslfs/LABS/zhuang_lab/User/pzheng/Genomes/human/hg38/chroms/chr11_KI270903v1_alt.fa\n",
      "Dealing with file:/n/boslfs/LABS/zhuang_lab/User/pzheng/Genomes/human/hg38/chroms/chr12_GL383550v2_alt.fa\n",
      "Dealing with file:/n/boslfs/LABS/zhuang_lab/User/pzheng/Genomes/human/hg38/chroms/chrUn_KI270756v1.fa\n",
      "Dealing with file:/n/boslfs/LABS/zhuang_lab/User/pzheng/Genomes/human/hg38/chroms/chr3_KI270934v1_alt.fa\n",
      "Dealing with file:/n/boslfs/LABS/zhuang_lab/User/pzheng/Genomes/human/hg38/chroms/chr4_GL383528v1_alt.fa\n",
      "Dealing with file:/n/boslfs/LABS/zhuang_lab/User/pzheng/Genomes/human/hg38/chroms/chrUn_KI270512v1.fa\n",
      "Dealing with file:/n/boslfs/LABS/zhuang_lab/User/pzheng/Genomes/human/hg38/chroms/chrUn_KI270516v1.fa\n",
      "Dealing with file:/n/boslfs/LABS/zhuang_lab/User/pzheng/Genomes/human/hg38/chroms/chr1_KI270762v1_alt.fa\n",
      "Dealing with file:/n/boslfs/LABS/zhuang_lab/User/pzheng/Genomes/human/hg38/chroms/chr4_KI270785v1_alt.fa\n",
      "Dealing with file:/n/boslfs/LABS/zhuang_lab/User/pzheng/Genomes/human/hg38/chroms/chr6_GL000254v2_alt.fa\n",
      "Dealing with file:/n/boslfs/LABS/zhuang_lab/User/pzheng/Genomes/human/hg38/chroms/chrUn_KI270591v1.fa\n",
      "Dealing with file:/n/boslfs/LABS/zhuang_lab/User/pzheng/Genomes/human/hg38/chroms/chrX_KI270881v1_alt.fa\n",
      "Dealing with file:/n/boslfs/LABS/zhuang_lab/User/pzheng/Genomes/human/hg38/chroms/chr4_KI270787v1_alt.fa\n",
      "Dealing with file:/n/boslfs/LABS/zhuang_lab/User/pzheng/Genomes/human/hg38/chroms/chr11_KI270829v1_alt.fa\n",
      "Dealing with file:/n/boslfs/LABS/zhuang_lab/User/pzheng/Genomes/human/hg38/chroms/chr5_GL000208v1_random.fa\n",
      "Dealing with file:/n/boslfs/LABS/zhuang_lab/User/pzheng/Genomes/human/hg38/chroms/chr9.fa\n",
      "Dealing with file:/n/boslfs/LABS/zhuang_lab/User/pzheng/Genomes/human/hg38/chroms/chr22_KI270739v1_random.fa\n",
      "Dealing with file:/n/boslfs/LABS/zhuang_lab/User/pzheng/Genomes/human/hg38/chroms/chr22_KI270736v1_random.fa\n",
      "Dealing with file:/n/boslfs/LABS/zhuang_lab/User/pzheng/Genomes/human/hg38/chroms/chr15_KI270849v1_alt.fa\n"
     ]
    },
    {
     "name": "stdout",
     "output_type": "stream",
     "text": [
      "Dealing with file:/n/boslfs/LABS/zhuang_lab/User/pzheng/Genomes/human/hg38/chroms/chrUn_KI270584v1.fa\n",
      "Dealing with file:/n/boslfs/LABS/zhuang_lab/User/pzheng/Genomes/human/hg38/chroms/chr6_KB021644v2_alt.fa\n",
      "Dealing with file:/n/boslfs/LABS/zhuang_lab/User/pzheng/Genomes/human/hg38/chroms/chr21_KI270872v1_alt.fa\n",
      "Dealing with file:/n/boslfs/LABS/zhuang_lab/User/pzheng/Genomes/human/hg38/chroms/chrUn_KI270749v1.fa\n",
      "Dealing with file:/n/boslfs/LABS/zhuang_lab/User/pzheng/Genomes/human/hg38/chroms/chr12_GL877876v1_alt.fa\n",
      "Dealing with file:/n/boslfs/LABS/zhuang_lab/User/pzheng/Genomes/human/hg38/chroms/chr5_KI270796v1_alt.fa\n",
      "Dealing with file:/n/boslfs/LABS/zhuang_lab/User/pzheng/Genomes/human/hg38/chroms/chr22_KI270734v1_random.fa\n",
      "Dealing with file:/n/boslfs/LABS/zhuang_lab/User/pzheng/Genomes/human/hg38/chroms/chrUn_KI270467v1.fa\n",
      "Dealing with file:/n/boslfs/LABS/zhuang_lab/User/pzheng/Genomes/human/hg38/chroms/chr1_KI270711v1_random.fa\n",
      "Dealing with file:/n/boslfs/LABS/zhuang_lab/User/pzheng/Genomes/human/hg38/chroms/chrUn_KI270745v1.fa\n",
      "Dealing with file:/n/boslfs/LABS/zhuang_lab/User/pzheng/Genomes/human/hg38/chroms/chr22.fa\n",
      "Dealing with file:/n/boslfs/LABS/zhuang_lab/User/pzheng/Genomes/human/hg38/chroms/chr11_KI270902v1_alt.fa\n",
      "Dealing with file:/n/boslfs/LABS/zhuang_lab/User/pzheng/Genomes/human/hg38/chroms/chr4.fa\n",
      "Dealing with file:/n/boslfs/LABS/zhuang_lab/User/pzheng/Genomes/human/hg38/chroms/chrUn_KI270338v1.fa\n",
      "Dealing with file:/n/boslfs/LABS/zhuang_lab/User/pzheng/Genomes/human/hg38/chroms/chr17_GL383563v3_alt.fa\n",
      "Dealing with file:/n/boslfs/LABS/zhuang_lab/User/pzheng/Genomes/human/hg38/chroms/chr8_KI270810v1_alt.fa\n",
      "Dealing with file:/n/boslfs/LABS/zhuang_lab/User/pzheng/Genomes/human/hg38/chroms/chrUn_KI270334v1.fa\n",
      "Dealing with file:/n/boslfs/LABS/zhuang_lab/User/pzheng/Genomes/human/hg38/chroms/chrUn_KI270757v1.fa\n",
      "Dealing with file:/n/boslfs/LABS/zhuang_lab/User/pzheng/Genomes/human/hg38/chroms/chr19_KI270865v1_alt.fa\n",
      "Dealing with file:/n/boslfs/LABS/zhuang_lab/User/pzheng/Genomes/human/hg38/chroms/chr8_KI270816v1_alt.fa\n",
      "Dealing with file:/n/boslfs/LABS/zhuang_lab/User/pzheng/Genomes/human/hg38/chroms/chr21_GL383578v2_alt.fa\n",
      "Dealing with file:/n/boslfs/LABS/zhuang_lab/User/pzheng/Genomes/human/hg38/chroms/chr19_KI270867v1_alt.fa\n",
      "Dealing with file:/n/boslfs/LABS/zhuang_lab/User/pzheng/Genomes/human/hg38/chroms/chr22_KI270879v1_alt.fa\n",
      "Dealing with file:/n/boslfs/LABS/zhuang_lab/User/pzheng/Genomes/human/hg38/chroms/chrUn_KI270515v1.fa\n",
      "Dealing with file:/n/boslfs/LABS/zhuang_lab/User/pzheng/Genomes/human/hg38/chroms/chr7_KI270807v1_alt.fa\n",
      "Dealing with file:/n/boslfs/LABS/zhuang_lab/User/pzheng/Genomes/human/hg38/chroms/chrUn_KI270746v1.fa\n",
      "Dealing with file:/n/boslfs/LABS/zhuang_lab/User/pzheng/Genomes/human/hg38/chroms/chr19_KI270882v1_alt.fa\n",
      "Dealing with file:/n/boslfs/LABS/zhuang_lab/User/pzheng/Genomes/human/hg38/chroms/chrUn_KI270509v1.fa\n",
      "Dealing with file:/n/boslfs/LABS/zhuang_lab/User/pzheng/Genomes/human/hg38/chroms/chr6_KI270758v1_alt.fa\n",
      "Dealing with file:/n/boslfs/LABS/zhuang_lab/User/pzheng/Genomes/human/hg38/chroms/chr9_KI270720v1_random.fa\n",
      "Dealing with file:/n/boslfs/LABS/zhuang_lab/User/pzheng/Genomes/human/hg38/chroms/chr3_KI270936v1_alt.fa\n",
      "Dealing with file:/n/boslfs/LABS/zhuang_lab/User/pzheng/Genomes/human/hg38/chroms/chr4_GL000008v2_random.fa\n",
      "Dealing with file:/n/boslfs/LABS/zhuang_lab/User/pzheng/Genomes/human/hg38/chroms/chrUn_KI270340v1.fa\n",
      "Dealing with file:/n/boslfs/LABS/zhuang_lab/User/pzheng/Genomes/human/hg38/chroms/chrUn_GL000226v1.fa\n",
      "Dealing with file:/n/boslfs/LABS/zhuang_lab/User/pzheng/Genomes/human/hg38/chroms/chr19_GL949753v2_alt.fa\n",
      "Dealing with file:/n/boslfs/LABS/zhuang_lab/User/pzheng/Genomes/human/hg38/chroms/chr6_GL000252v2_alt.fa\n",
      "Dealing with file:/n/boslfs/LABS/zhuang_lab/User/pzheng/Genomes/human/hg38/chroms/chrUn_KI270381v1.fa\n",
      "Dealing with file:/n/boslfs/LABS/zhuang_lab/User/pzheng/Genomes/human/hg38/chroms/chr10_GL383545v1_alt.fa\n",
      "Dealing with file:/n/boslfs/LABS/zhuang_lab/User/pzheng/Genomes/human/hg38/chroms/chr6_GL000250v2_alt.fa\n",
      "Dealing with file:/n/boslfs/LABS/zhuang_lab/User/pzheng/Genomes/human/hg38/chroms/chr2_KI270771v1_alt.fa\n",
      "Dealing with file:/n/boslfs/LABS/zhuang_lab/User/pzheng/Genomes/human/hg38/chroms/chr19_GL383574v1_alt.fa\n",
      "Dealing with file:/n/boslfs/LABS/zhuang_lab/User/pzheng/Genomes/human/hg38/chroms/chr3_KI270924v1_alt.fa\n",
      "Dealing with file:/n/boslfs/LABS/zhuang_lab/User/pzheng/Genomes/human/hg38/chroms/chr14_KI270844v1_alt.fa\n",
      "Dealing with file:/n/boslfs/LABS/zhuang_lab/User/pzheng/Genomes/human/hg38/chroms/chr3_KI270778v1_alt.fa\n",
      "Dealing with file:/n/boslfs/LABS/zhuang_lab/User/pzheng/Genomes/human/hg38/chroms/chr1_KI270708v1_random.fa\n",
      "Dealing with file:/n/boslfs/LABS/zhuang_lab/User/pzheng/Genomes/human/hg38/chroms/chr22_KI270928v1_alt.fa\n",
      "Dealing with file:/n/boslfs/LABS/zhuang_lab/User/pzheng/Genomes/human/hg38/chroms/chrUn_KI270754v1.fa\n",
      "Dealing with file:/n/boslfs/LABS/zhuang_lab/User/pzheng/Genomes/human/hg38/chroms/chr20_GL383577v2_alt.fa\n",
      "Dealing with file:/n/boslfs/LABS/zhuang_lab/User/pzheng/Genomes/human/hg38/chroms/chr9_GL383539v1_alt.fa\n",
      "Dealing with file:/n/boslfs/LABS/zhuang_lab/User/pzheng/Genomes/human/hg38/chroms/chr12_GL383553v2_alt.fa\n",
      "Dealing with file:/n/boslfs/LABS/zhuang_lab/User/pzheng/Genomes/human/hg38/chroms/chr19_GL383573v1_alt.fa\n",
      "Dealing with file:/n/boslfs/LABS/zhuang_lab/User/pzheng/Genomes/human/hg38/chroms/chrUn_KI270320v1.fa\n",
      "Dealing with file:/n/boslfs/LABS/zhuang_lab/User/pzheng/Genomes/human/hg38/chroms/chr1_KI270710v1_random.fa\n",
      "Dealing with file:/n/boslfs/LABS/zhuang_lab/User/pzheng/Genomes/human/hg38/chroms/chr14_KI270847v1_alt.fa\n",
      "Dealing with file:/n/boslfs/LABS/zhuang_lab/User/pzheng/Genomes/human/hg38/chroms/chr21_GL383580v2_alt.fa\n",
      "Dealing with file:/n/boslfs/LABS/zhuang_lab/User/pzheng/Genomes/human/hg38/chroms/chr6_KI270797v1_alt.fa\n",
      "Dealing with file:/n/boslfs/LABS/zhuang_lab/User/pzheng/Genomes/human/hg38/chroms/chr14_GL000194v1_random.fa\n",
      "Dealing with file:/n/boslfs/LABS/zhuang_lab/User/pzheng/Genomes/human/hg38/chroms/chr22_KI270878v1_alt.fa\n",
      "Dealing with file:/n/boslfs/LABS/zhuang_lab/User/pzheng/Genomes/human/hg38/chroms/chr19_KI270883v1_alt.fa\n",
      "Dealing with file:/n/boslfs/LABS/zhuang_lab/User/pzheng/Genomes/human/hg38/chroms/chrUn_KI270336v1.fa\n",
      "Dealing with file:/n/boslfs/LABS/zhuang_lab/User/pzheng/Genomes/human/hg38/chroms/chr3_KI270779v1_alt.fa\n",
      "Dealing with file:/n/boslfs/LABS/zhuang_lab/User/pzheng/Genomes/human/hg38/chroms/chrUn_KI270530v1.fa\n",
      "Dealing with file:/n/boslfs/LABS/zhuang_lab/User/pzheng/Genomes/human/hg38/chroms/chr9_KI270717v1_random.fa\n",
      "Dealing with file:/n/boslfs/LABS/zhuang_lab/User/pzheng/Genomes/human/hg38/chroms/chr9_KI270718v1_random.fa\n",
      "Dealing with file:/n/boslfs/LABS/zhuang_lab/User/pzheng/Genomes/human/hg38/chroms/chr19_KI270888v1_alt.fa\n",
      "Dealing with file:/n/boslfs/LABS/zhuang_lab/User/pzheng/Genomes/human/hg38/chroms/chr2_GL383522v1_alt.fa\n",
      "Dealing with file:/n/boslfs/LABS/zhuang_lab/User/pzheng/Genomes/human/hg38/chroms/chrUn_KI270315v1.fa\n",
      "Dealing with file:/n/boslfs/LABS/zhuang_lab/User/pzheng/Genomes/human/hg38/chroms/chr12_KI270834v1_alt.fa\n",
      "Dealing with file:/n/boslfs/LABS/zhuang_lab/User/pzheng/Genomes/human/hg38/chroms/chrUn_KI270588v1.fa\n",
      "Dealing with file:/n/boslfs/LABS/zhuang_lab/User/pzheng/Genomes/human/hg38/chroms/chr17_KI270858v1_alt.fa\n",
      "Dealing with file:/n/boslfs/LABS/zhuang_lab/User/pzheng/Genomes/human/hg38/chroms/chr19_GL000209v2_alt.fa\n",
      "Dealing with file:/n/boslfs/LABS/zhuang_lab/User/pzheng/Genomes/human/hg38/chroms/chr8_KI270821v1_alt.fa\n",
      "Dealing with file:/n/boslfs/LABS/zhuang_lab/User/pzheng/Genomes/human/hg38/chroms/chr2_KI270893v1_alt.fa\n",
      "Dealing with file:/n/boslfs/LABS/zhuang_lab/User/pzheng/Genomes/human/hg38/chroms/chr1_KI270764v1_alt.fa\n",
      "Dealing with file:/n/boslfs/LABS/zhuang_lab/User/pzheng/Genomes/human/hg38/chroms/chr17_KI270907v1_alt.fa\n",
      "Dealing with file:/n/boslfs/LABS/zhuang_lab/User/pzheng/Genomes/human/hg38/chroms/chr18_KI270911v1_alt.fa\n",
      "Dealing with file:/n/boslfs/LABS/zhuang_lab/User/pzheng/Genomes/human/hg38/chroms/chr19_KI270918v1_alt.fa\n",
      "Dealing with file:/n/boslfs/LABS/zhuang_lab/User/pzheng/Genomes/human/hg38/chroms/chr22_KI270875v1_alt.fa\n",
      "Dealing with file:/n/boslfs/LABS/zhuang_lab/User/pzheng/Genomes/human/hg38/chroms/chrUn_KI270337v1.fa\n",
      "Dealing with file:/n/boslfs/LABS/zhuang_lab/User/pzheng/Genomes/human/hg38/chroms/chr8_KI270822v1_alt.fa\n"
     ]
    },
    {
     "name": "stdout",
     "output_type": "stream",
     "text": [
      "Dealing with file:/n/boslfs/LABS/zhuang_lab/User/pzheng/Genomes/human/hg38/chroms/chrUn_KI270468v1.fa\n",
      "Dealing with file:/n/boslfs/LABS/zhuang_lab/User/pzheng/Genomes/human/hg38/chroms/chr2_KI270894v1_alt.fa\n",
      "Dealing with file:/n/boslfs/LABS/zhuang_lab/User/pzheng/Genomes/human/hg38/chroms/chr4_KI270896v1_alt.fa\n",
      "Dealing with file:/n/boslfs/LABS/zhuang_lab/User/pzheng/Genomes/human/hg38/chroms/chrUn_KI270317v1.fa\n",
      "Dealing with file:/n/boslfs/LABS/zhuang_lab/User/pzheng/Genomes/human/hg38/chroms/chr21.fa\n",
      "Dealing with file:/n/boslfs/LABS/zhuang_lab/User/pzheng/Genomes/human/hg38/chroms/chr18_KI270864v1_alt.fa\n",
      "Dealing with file:/n/boslfs/LABS/zhuang_lab/User/pzheng/Genomes/human/hg38/chroms/chr15_KI270851v1_alt.fa\n",
      "Dealing with file:/n/boslfs/LABS/zhuang_lab/User/pzheng/Genomes/human/hg38/chroms/chr6_GL000253v2_alt.fa\n",
      "Dealing with file:/n/boslfs/LABS/zhuang_lab/User/pzheng/Genomes/human/hg38/chroms/chr19.fa\n",
      "Dealing with file:/n/boslfs/LABS/zhuang_lab/User/pzheng/Genomes/human/hg38/chroms/chrUn_KI270371v1.fa\n",
      "Dealing with file:/n/boslfs/LABS/zhuang_lab/User/pzheng/Genomes/human/hg38/chroms/chr3_GL000221v1_random.fa\n",
      "Dealing with file:/n/boslfs/LABS/zhuang_lab/User/pzheng/Genomes/human/hg38/chroms/chrUn_KI270383v1.fa\n",
      "Dealing with file:/n/boslfs/LABS/zhuang_lab/User/pzheng/Genomes/human/hg38/chroms/chr1_KI270761v1_alt.fa\n",
      "Dealing with file:/n/boslfs/LABS/zhuang_lab/User/pzheng/Genomes/human/hg38/chroms/chr5_KI270791v1_alt.fa\n",
      "Dealing with file:/n/boslfs/LABS/zhuang_lab/User/pzheng/Genomes/human/hg38/chroms/chr8_KI270926v1_alt.fa\n",
      "Dealing with file:/n/boslfs/LABS/zhuang_lab/User/pzheng/Genomes/human/hg38/chroms/chr3_KI270777v1_alt.fa\n",
      "Dealing with file:/n/boslfs/LABS/zhuang_lab/User/pzheng/Genomes/human/hg38/chroms/chrUn_KI270507v1.fa\n",
      "Dealing with file:/n/boslfs/LABS/zhuang_lab/User/pzheng/Genomes/human/hg38/chroms/chr22_KI270737v1_random.fa\n",
      "Dealing with file:/n/boslfs/LABS/zhuang_lab/User/pzheng/Genomes/human/hg38/chroms/chr3_GL383526v1_alt.fa\n",
      "Dealing with file:/n/boslfs/LABS/zhuang_lab/User/pzheng/Genomes/human/hg38/chroms/chrUn_KI270316v1.fa\n",
      "Dealing with file:/n/boslfs/LABS/zhuang_lab/User/pzheng/Genomes/human/hg38/chroms/chrUn_KI270390v1.fa\n",
      "Dealing with file:/n/boslfs/LABS/zhuang_lab/User/pzheng/Genomes/human/hg38/chroms/chrUn_KI270330v1.fa\n",
      "Dealing with file:/n/boslfs/LABS/zhuang_lab/User/pzheng/Genomes/human/hg38/chroms/chrUn_KI270743v1.fa\n",
      "Dealing with file:/n/boslfs/LABS/zhuang_lab/User/pzheng/Genomes/human/hg38/chroms/chr12_GL383549v1_alt.fa\n",
      "Dealing with file:/n/boslfs/LABS/zhuang_lab/User/pzheng/Genomes/human/hg38/chroms/chr4_KI270790v1_alt.fa\n",
      "Dealing with file:/n/boslfs/LABS/zhuang_lab/User/pzheng/Genomes/human/hg38/chroms/chr19_KI270891v1_alt.fa\n",
      "Dealing with file:/n/boslfs/LABS/zhuang_lab/User/pzheng/Genomes/human/hg38/chroms/chrUn_KI270583v1.fa\n",
      "Dealing with file:/n/boslfs/LABS/zhuang_lab/User/pzheng/Genomes/human/hg38/chroms/chrUn_KI270417v1.fa\n",
      "Dealing with file:/n/boslfs/LABS/zhuang_lab/User/pzheng/Genomes/human/hg38/chroms/chrUn_KI270580v1.fa\n",
      "Dealing with file:/n/boslfs/LABS/zhuang_lab/User/pzheng/Genomes/human/hg38/chroms/chr2_KI270769v1_alt.fa\n",
      "Dealing with file:/n/boslfs/LABS/zhuang_lab/User/pzheng/Genomes/human/hg38/chroms/chr20_KI270871v1_alt.fa\n",
      "Dealing with file:/n/boslfs/LABS/zhuang_lab/User/pzheng/Genomes/human/hg38/chroms/chrUn_KI270528v1.fa\n",
      "Dealing with file:/n/boslfs/LABS/zhuang_lab/User/pzheng/Genomes/human/hg38/chroms/chr14_GL000225v1_random.fa\n",
      "Dealing with file:/n/boslfs/LABS/zhuang_lab/User/pzheng/Genomes/human/hg38/chroms/chr12_GL383551v1_alt.fa\n",
      "Dealing with file:/n/boslfs/LABS/zhuang_lab/User/pzheng/Genomes/human/hg38/chroms/chr15_KI270852v1_alt.fa\n",
      "Dealing with file:/n/boslfs/LABS/zhuang_lab/User/pzheng/Genomes/human/hg38/chroms/chr22_KI270738v1_random.fa\n",
      "Dealing with file:/n/boslfs/LABS/zhuang_lab/User/pzheng/Genomes/human/hg38/chroms/chrUn_KI270419v1.fa\n",
      "Dealing with file:/n/boslfs/LABS/zhuang_lab/User/pzheng/Genomes/human/hg38/chroms/chrUn_KI270753v1.fa\n",
      "Dealing with file:/n/boslfs/LABS/zhuang_lab/User/pzheng/Genomes/human/hg38/chroms/chr8_KI270818v1_alt.fa\n",
      "Dealing with file:/n/boslfs/LABS/zhuang_lab/User/pzheng/Genomes/human/hg38/chroms/chrUn_KI270322v1.fa\n",
      "Dealing with file:/n/boslfs/LABS/zhuang_lab/User/pzheng/Genomes/human/hg38/chroms/chr20_KI270869v1_alt.fa\n",
      "Dealing with file:/n/boslfs/LABS/zhuang_lab/User/pzheng/Genomes/human/hg38/chroms/chr18_GL383571v1_alt.fa\n",
      "Dealing with file:/n/boslfs/LABS/zhuang_lab/User/pzheng/Genomes/human/hg38/chroms/chrUn_KI270362v1.fa\n",
      "Dealing with file:/n/boslfs/LABS/zhuang_lab/User/pzheng/Genomes/human/hg38/chroms/chr18_GL383568v1_alt.fa\n",
      "Dealing with file:/n/boslfs/LABS/zhuang_lab/User/pzheng/Genomes/human/hg38/chroms/chr17_KI270908v1_alt.fa\n",
      "Dealing with file:/n/boslfs/LABS/zhuang_lab/User/pzheng/Genomes/human/hg38/chroms/chr19_KI270890v1_alt.fa\n",
      "Dealing with file:/n/boslfs/LABS/zhuang_lab/User/pzheng/Genomes/human/hg38/chroms/chrX_KI270880v1_alt.fa\n",
      "Dealing with file:/n/boslfs/LABS/zhuang_lab/User/pzheng/Genomes/human/hg38/chroms/chrUn_KI270302v1.fa\n",
      "Dealing with file:/n/boslfs/LABS/zhuang_lab/User/pzheng/Genomes/human/hg38/chroms/chr15_KI270850v1_alt.fa\n",
      "Dealing with file:/n/boslfs/LABS/zhuang_lab/User/pzheng/Genomes/human/hg38/chroms/chr19_KI270929v1_alt.fa\n",
      "Dealing with file:/n/boslfs/LABS/zhuang_lab/User/pzheng/Genomes/human/hg38/chroms/chr10.fa\n",
      "Dealing with file:/n/boslfs/LABS/zhuang_lab/User/pzheng/Genomes/human/hg38/chroms/chr17_GL000258v2_alt.fa\n",
      "Dealing with file:/n/boslfs/LABS/zhuang_lab/User/pzheng/Genomes/human/hg38/chroms/chr22_GL383582v2_alt.fa\n",
      "Dealing with file:/n/boslfs/LABS/zhuang_lab/User/pzheng/Genomes/human/hg38/chroms/chr1.fa\n",
      "Dealing with file:/n/boslfs/LABS/zhuang_lab/User/pzheng/Genomes/human/hg38/chroms/chr2_KI270770v1_alt.fa\n",
      "Dealing with file:/n/boslfs/LABS/zhuang_lab/User/pzheng/Genomes/human/hg38/chroms/chrUn_KI270465v1.fa\n",
      "Dealing with file:/n/boslfs/LABS/zhuang_lab/User/pzheng/Genomes/human/hg38/chroms/chr6_GL383533v1_alt.fa\n",
      "Dealing with file:/n/boslfs/LABS/zhuang_lab/User/pzheng/Genomes/human/hg38/chroms/chr2_KI270773v1_alt.fa\n",
      "Dealing with file:/n/boslfs/LABS/zhuang_lab/User/pzheng/Genomes/human/hg38/chroms/chr16_GL383556v1_alt.fa\n",
      "Dealing with file:/n/boslfs/LABS/zhuang_lab/User/pzheng/Genomes/human/hg38/chroms/chr9_KI270823v1_alt.fa\n",
      "Dealing with file:/n/boslfs/LABS/zhuang_lab/User/pzheng/Genomes/human/hg38/chroms/chr5.fa\n",
      "Dealing with file:/n/boslfs/LABS/zhuang_lab/User/pzheng/Genomes/human/hg38/chroms/chr8.fa\n",
      "Dealing with file:/n/boslfs/LABS/zhuang_lab/User/pzheng/Genomes/human/hg38/chroms/chr19_GL383575v2_alt.fa\n",
      "Dealing with file:/n/boslfs/LABS/zhuang_lab/User/pzheng/Genomes/human/hg38/chroms/chr22_KI270731v1_random.fa\n",
      "Dealing with file:/n/boslfs/LABS/zhuang_lab/User/pzheng/Genomes/human/hg38/chroms/chr3.fa\n",
      "Dealing with file:/n/boslfs/LABS/zhuang_lab/User/pzheng/Genomes/human/hg38/chroms/chr3_JH636055v2_alt.fa\n",
      "Dealing with file:/n/boslfs/LABS/zhuang_lab/User/pzheng/Genomes/human/hg38/chroms/chr8_KI270817v1_alt.fa\n",
      "Dealing with file:/n/boslfs/LABS/zhuang_lab/User/pzheng/Genomes/human/hg38/chroms/chr22_KI270735v1_random.fa\n",
      "Dealing with file:/n/boslfs/LABS/zhuang_lab/User/pzheng/Genomes/human/hg38/chroms/chrUn_KI270581v1.fa\n",
      "Dealing with file:/n/boslfs/LABS/zhuang_lab/User/pzheng/Genomes/human/hg38/chroms/chr3_KI270935v1_alt.fa\n",
      "Dealing with file:/n/boslfs/LABS/zhuang_lab/User/pzheng/Genomes/human/hg38/chroms/chr5_KI270792v1_alt.fa\n",
      "Dealing with file:/n/boslfs/LABS/zhuang_lab/User/pzheng/Genomes/human/hg38/chroms/chrUn_KI270747v1.fa\n",
      "Dealing with file:/n/boslfs/LABS/zhuang_lab/User/pzheng/Genomes/human/hg38/chroms/chr1_GL383520v2_alt.fa\n",
      "Dealing with file:/n/boslfs/LABS/zhuang_lab/User/pzheng/Genomes/human/hg38/chroms/chr1_KI270714v1_random.fa\n",
      "Dealing with file:/n/boslfs/LABS/zhuang_lab/User/pzheng/Genomes/human/hg38/chroms/chrUn_KI270751v1.fa\n",
      "Dealing with file:/n/boslfs/LABS/zhuang_lab/User/pzheng/Genomes/human/hg38/chroms/chrUn_KI270394v1.fa\n",
      "Dealing with file:/n/boslfs/LABS/zhuang_lab/User/pzheng/Genomes/human/hg38/chroms/chr16_GL383557v1_alt.fa\n",
      "Dealing with file:/n/boslfs/LABS/zhuang_lab/User/pzheng/Genomes/human/hg38/chroms/chr8_KI270814v1_alt.fa\n",
      "Dealing with file:/n/boslfs/LABS/zhuang_lab/User/pzheng/Genomes/human/hg38/chroms/chr21_GL383579v2_alt.fa\n",
      "Dealing with file:/n/boslfs/LABS/zhuang_lab/User/pzheng/Genomes/human/hg38/chroms/chrUn_KI270305v1.fa\n",
      "Dealing with file:/n/boslfs/LABS/zhuang_lab/User/pzheng/Genomes/human/hg38/chroms/chr17_GL383566v1_alt.fa\n",
      "Dealing with file:/n/boslfs/LABS/zhuang_lab/User/pzheng/Genomes/human/hg38/chroms/chrUn_GL000224v1.fa\n"
     ]
    },
    {
     "name": "stdout",
     "output_type": "stream",
     "text": [
      "Dealing with file:/n/boslfs/LABS/zhuang_lab/User/pzheng/Genomes/human/hg38/chroms/chr3_KI270937v1_alt.fa\n",
      "Dealing with file:/n/boslfs/LABS/zhuang_lab/User/pzheng/Genomes/human/hg38/chroms/chr15_KI270905v1_alt.fa\n",
      "Dealing with file:/n/boslfs/LABS/zhuang_lab/User/pzheng/Genomes/human/hg38/chroms/chr17_GL000205v2_random.fa\n",
      "Dealing with file:/n/boslfs/LABS/zhuang_lab/User/pzheng/Genomes/human/hg38/chroms/chr4_GL383527v1_alt.fa\n",
      "Dealing with file:/n/boslfs/LABS/zhuang_lab/User/pzheng/Genomes/human/hg38/chroms/chr17_KI270862v1_alt.fa\n",
      "Dealing with file:/n/boslfs/LABS/zhuang_lab/User/pzheng/Genomes/human/hg38/chroms/chrUn_KI270466v1.fa\n",
      "Dealing with file:/n/boslfs/LABS/zhuang_lab/User/pzheng/Genomes/human/hg38/chroms/chrUn_GL000216v2.fa\n",
      "Dealing with file:/n/boslfs/LABS/zhuang_lab/User/pzheng/Genomes/human/hg38/chroms/chr9_GL383541v1_alt.fa\n",
      "Dealing with file:/n/boslfs/LABS/zhuang_lab/User/pzheng/Genomes/human/hg38/chroms/chr13_KI270841v1_alt.fa\n",
      "Dealing with file:/n/boslfs/LABS/zhuang_lab/User/pzheng/Genomes/human/hg38/chroms/chr18_GL383570v1_alt.fa\n",
      "Dealing with file:/n/boslfs/LABS/zhuang_lab/User/pzheng/Genomes/human/hg38/chroms/chr8_KI270819v1_alt.fa\n",
      "Dealing with file:/n/boslfs/LABS/zhuang_lab/User/pzheng/Genomes/human/hg38/chroms/chr4_KI270925v1_alt.fa\n",
      "Dealing with file:/n/boslfs/LABS/zhuang_lab/User/pzheng/Genomes/human/hg38/chroms/chr1_KI270763v1_alt.fa\n",
      "Dealing with file:/n/boslfs/LABS/zhuang_lab/User/pzheng/Genomes/human/hg38/chroms/chrUn_KI270529v1.fa\n",
      "Dealing with file:/n/boslfs/LABS/zhuang_lab/User/pzheng/Genomes/human/hg38/chroms/chr2_KI270715v1_random.fa\n",
      "Dealing with file:/n/boslfs/LABS/zhuang_lab/User/pzheng/Genomes/human/hg38/chroms/chrUn_KI270548v1.fa\n",
      "Dealing with file:/n/boslfs/LABS/zhuang_lab/User/pzheng/Genomes/human/hg38/chroms/chrUn_KI270438v1.fa\n",
      "Dealing with file:/n/boslfs/LABS/zhuang_lab/User/pzheng/Genomes/human/hg38/chroms/chrUn_KI270366v1.fa\n",
      "Dealing with file:/n/boslfs/LABS/zhuang_lab/User/pzheng/Genomes/human/hg38/chroms/chr10_KI270825v1_alt.fa\n",
      "Dealing with file:/n/boslfs/LABS/zhuang_lab/User/pzheng/Genomes/human/hg38/chroms/chr3_KI270780v1_alt.fa\n",
      "Dealing with file:/n/boslfs/LABS/zhuang_lab/User/pzheng/Genomes/human/hg38/chroms/chr18_KI270863v1_alt.fa\n",
      "Dealing with file:/n/boslfs/LABS/zhuang_lab/User/pzheng/Genomes/human/hg38/chroms/chrUn_KI270422v1.fa\n",
      "Dealing with file:/n/boslfs/LABS/zhuang_lab/User/pzheng/Genomes/human/hg38/chroms/chrUn_KI270376v1.fa\n",
      "Dealing with file:/n/boslfs/LABS/zhuang_lab/User/pzheng/Genomes/human/hg38/chroms/chrUn_KI270582v1.fa\n",
      "Dealing with file:/n/boslfs/LABS/zhuang_lab/User/pzheng/Genomes/human/hg38/chroms/chr18_GL383572v1_alt.fa\n",
      "Dealing with file:/n/boslfs/LABS/zhuang_lab/User/pzheng/Genomes/human/hg38/chroms/chr8_KI270812v1_alt.fa\n",
      "Dealing with file:/n/boslfs/LABS/zhuang_lab/User/pzheng/Genomes/human/hg38/chroms/chrUn_KI270392v1.fa\n",
      "Dealing with file:/n/boslfs/LABS/zhuang_lab/User/pzheng/Genomes/human/hg38/chroms/chrUn_GL000220v1.fa\n",
      "Dealing with file:/n/boslfs/LABS/zhuang_lab/User/pzheng/Genomes/human/hg38/chroms/chrUn_KI270742v1.fa\n",
      "Dealing with file:/n/boslfs/LABS/zhuang_lab/User/pzheng/Genomes/human/hg38/chroms/chr2_KI270768v1_alt.fa\n",
      "Dealing with file:/n/boslfs/LABS/zhuang_lab/User/pzheng/Genomes/human/hg38/chroms/chr4_GL000257v2_alt.fa\n",
      "Dealing with file:/n/boslfs/LABS/zhuang_lab/User/pzheng/Genomes/human/hg38/chroms/chr12_KI270833v1_alt.fa\n",
      "Dealing with file:/n/boslfs/LABS/zhuang_lab/User/pzheng/Genomes/human/hg38/chroms/chr8_KI270813v1_alt.fa\n",
      "Dealing with file:/n/boslfs/LABS/zhuang_lab/User/pzheng/Genomes/human/hg38/chroms/chr9_KI270719v1_random.fa\n",
      "Dealing with file:/n/boslfs/LABS/zhuang_lab/User/pzheng/Genomes/human/hg38/chroms/chrUn_KI270412v1.fa\n",
      "Dealing with file:/n/boslfs/LABS/zhuang_lab/User/pzheng/Genomes/human/hg38/chroms/chrUn_KI270414v1.fa\n",
      "Dealing with file:/n/boslfs/LABS/zhuang_lab/User/pzheng/Genomes/human/hg38/chroms/chr11_KI270831v1_alt.fa\n",
      "Dealing with file:/n/boslfs/LABS/zhuang_lab/User/pzheng/Genomes/human/hg38/chroms/chr10_KI270824v1_alt.fa\n",
      "Dealing with file:/n/boslfs/LABS/zhuang_lab/User/pzheng/Genomes/human/hg38/chroms/chr7_GL383534v2_alt.fa\n",
      "Dealing with file:/n/boslfs/LABS/zhuang_lab/User/pzheng/Genomes/human/hg38/chroms/chr19_GL949751v2_alt.fa\n",
      "Dealing with file:/n/boslfs/LABS/zhuang_lab/User/pzheng/Genomes/human/hg38/chroms/chr19_KI270938v1_alt.fa\n",
      "Dealing with file:/n/boslfs/LABS/zhuang_lab/User/pzheng/Genomes/human/hg38/chroms/chr2_GL383521v1_alt.fa\n",
      "Dealing with file:/n/boslfs/LABS/zhuang_lab/User/pzheng/Genomes/human/hg38/chroms/chr17_KI270860v1_alt.fa\n",
      "Dealing with file:/n/boslfs/LABS/zhuang_lab/User/pzheng/Genomes/human/hg38/chroms/chr5_KI270898v1_alt.fa\n",
      "Dealing with file:/n/boslfs/LABS/zhuang_lab/User/pzheng/Genomes/human/hg38/chroms/chr5_GL383532v1_alt.fa\n",
      "Dealing with file:/n/boslfs/LABS/zhuang_lab/User/pzheng/Genomes/human/hg38/chroms/chr19_GL949752v1_alt.fa\n",
      "Dealing with file:/n/boslfs/LABS/zhuang_lab/User/pzheng/Genomes/human/hg38/chroms/chr6_KI270800v1_alt.fa\n",
      "Dealing with file:/n/boslfs/LABS/zhuang_lab/User/pzheng/Genomes/human/hg38/chroms/chrUn_KI270748v1.fa\n",
      "Dealing with file:/n/boslfs/LABS/zhuang_lab/User/pzheng/Genomes/human/hg38/chroms/chr17.fa\n",
      "Dealing with file:/n/boslfs/LABS/zhuang_lab/User/pzheng/Genomes/human/hg38/chroms/chr19_KI270919v1_alt.fa\n",
      "Dealing with file:/n/boslfs/LABS/zhuang_lab/User/pzheng/Genomes/human/hg38/chroms/chr14_KI270724v1_random.fa\n",
      "Dealing with file:/n/boslfs/LABS/zhuang_lab/User/pzheng/Genomes/human/hg38/chroms/chr7_KI270803v1_alt.fa\n",
      "Dealing with file:/n/boslfs/LABS/zhuang_lab/User/pzheng/Genomes/human/hg38/chroms/chr22_KI270877v1_alt.fa\n",
      "Dealing with file:/n/boslfs/LABS/zhuang_lab/User/pzheng/Genomes/human/hg38/chroms/chr20_KI270870v1_alt.fa\n",
      "Dealing with file:/n/boslfs/LABS/zhuang_lab/User/pzheng/Genomes/human/hg38/chroms/chr1_KI270892v1_alt.fa\n",
      "Dealing with file:/n/boslfs/LABS/zhuang_lab/User/pzheng/Genomes/human/hg38/chroms/chrM.fa\n",
      "Dealing with file:/n/boslfs/LABS/zhuang_lab/User/pzheng/Genomes/human/hg38/chroms/chrUn_KI270544v1.fa\n",
      "Dealing with file:/n/boslfs/LABS/zhuang_lab/User/pzheng/Genomes/human/hg38/chroms/chr9_GL383540v1_alt.fa\n",
      "Dealing with file:/n/boslfs/LABS/zhuang_lab/User/pzheng/Genomes/human/hg38/chroms/chr1_KI270712v1_random.fa\n",
      "Dealing with file:/n/boslfs/LABS/zhuang_lab/User/pzheng/Genomes/human/hg38/chroms/chr19_KI270930v1_alt.fa\n",
      "Dealing with file:/n/boslfs/LABS/zhuang_lab/User/pzheng/Genomes/human/hg38/chroms/chr8_KI270901v1_alt.fa\n",
      "Dealing with file:/n/boslfs/LABS/zhuang_lab/User/pzheng/Genomes/human/hg38/chroms/chr7_KI270806v1_alt.fa\n",
      "Dealing with file:/n/boslfs/LABS/zhuang_lab/User/pzheng/Genomes/human/hg38/chroms/chr1_KI270707v1_random.fa\n",
      "Dealing with file:/n/boslfs/LABS/zhuang_lab/User/pzheng/Genomes/human/hg38/chroms/chr12.fa\n",
      "Dealing with file:/n/boslfs/LABS/zhuang_lab/User/pzheng/Genomes/human/hg38/chroms/chrUn_KI270579v1.fa\n",
      "Dealing with file:/n/boslfs/LABS/zhuang_lab/User/pzheng/Genomes/human/hg38/chroms/chrUn_KI270329v1.fa\n",
      "Dealing with file:/n/boslfs/LABS/zhuang_lab/User/pzheng/Genomes/human/hg38/chroms/chr14.fa\n",
      "Dealing with file:/n/boslfs/LABS/zhuang_lab/User/pzheng/Genomes/human/hg38/chroms/chrUn_KI270587v1.fa\n",
      "Dealing with file:/n/boslfs/LABS/zhuang_lab/User/pzheng/Genomes/human/hg38/chroms/chr19_GL383576v1_alt.fa\n",
      "Dealing with file:/n/boslfs/LABS/zhuang_lab/User/pzheng/Genomes/human/hg38/chroms/chr19_KI270884v1_alt.fa\n",
      "Dealing with file:/n/boslfs/LABS/zhuang_lab/User/pzheng/Genomes/human/hg38/chroms/chr5_GL339449v2_alt.fa\n",
      "Dealing with file:/n/boslfs/LABS/zhuang_lab/User/pzheng/Genomes/human/hg38/chroms/chr19_GL949747v2_alt.fa\n",
      "Dealing with file:/n/boslfs/LABS/zhuang_lab/User/pzheng/Genomes/human/hg38/chroms/chr21_GL383581v2_alt.fa\n",
      "Dealing with file:/n/boslfs/LABS/zhuang_lab/User/pzheng/Genomes/human/hg38/chroms/chrUn_KI270304v1.fa\n",
      "Dealing with file:/n/boslfs/LABS/zhuang_lab/User/pzheng/Genomes/human/hg38/chroms/chr4_KI270788v1_alt.fa\n",
      "Dealing with file:/n/boslfs/LABS/zhuang_lab/User/pzheng/Genomes/human/hg38/chroms/chr2_KI270776v1_alt.fa\n",
      "Dealing with file:/n/boslfs/LABS/zhuang_lab/User/pzheng/Genomes/human/hg38/chroms/chrUn_KI270393v1.fa\n",
      "Dealing with file:/n/boslfs/LABS/zhuang_lab/User/pzheng/Genomes/human/hg38/chroms/chr5_GL383530v1_alt.fa\n",
      "Dealing with file:/n/boslfs/LABS/zhuang_lab/User/pzheng/Genomes/human/hg38/chroms/chrUn_KI270424v1.fa\n",
      "Dealing with file:/n/boslfs/LABS/zhuang_lab/User/pzheng/Genomes/human/hg38/chroms/chr10_GL383546v1_alt.fa\n"
     ]
    },
    {
     "name": "stdout",
     "output_type": "stream",
     "text": [
      "Dealing with file:/n/boslfs/LABS/zhuang_lab/User/pzheng/Genomes/human/hg38/chroms/chrY.fa\n",
      "Dealing with file:/n/boslfs/LABS/zhuang_lab/User/pzheng/Genomes/human/hg38/chroms/chr7_KI270899v1_alt.fa\n",
      "Dealing with file:/n/boslfs/LABS/zhuang_lab/User/pzheng/Genomes/human/hg38/chroms/chr2_GL582966v2_alt.fa\n",
      "Dealing with file:/n/boslfs/LABS/zhuang_lab/User/pzheng/Genomes/human/hg38/chroms/chrUn_KI270425v1.fa\n",
      "Dealing with file:/n/boslfs/LABS/zhuang_lab/User/pzheng/Genomes/human/hg38/chroms/chr21_KI270873v1_alt.fa\n",
      "Dealing with file:/n/boslfs/LABS/zhuang_lab/User/pzheng/Genomes/human/hg38/chroms/chr12_KI270836v1_alt.fa\n",
      "Dealing with file:/n/boslfs/LABS/zhuang_lab/User/pzheng/Genomes/human/hg38/chroms/chr6_GL000256v2_alt.fa\n",
      "Dealing with file:/n/boslfs/LABS/zhuang_lab/User/pzheng/Genomes/human/hg38/chroms/chr11_KI270826v1_alt.fa\n",
      "Dealing with file:/n/boslfs/LABS/zhuang_lab/User/pzheng/Genomes/human/hg38/chroms/chrUn_KI270373v1.fa\n",
      "Dealing with file:/n/boslfs/LABS/zhuang_lab/User/pzheng/Genomes/human/hg38/chroms/chr18_GL383569v1_alt.fa\n",
      "Dealing with file:/n/boslfs/LABS/zhuang_lab/User/pzheng/Genomes/human/hg38/chroms/chrUn_KI270375v1.fa\n",
      "Dealing with file:/n/boslfs/LABS/zhuang_lab/User/pzheng/Genomes/human/hg38/chroms/chr17_GL383564v2_alt.fa\n",
      "Dealing with file:/n/boslfs/LABS/zhuang_lab/User/pzheng/Genomes/human/hg38/chroms/chrUn_KI270508v1.fa\n",
      "Dealing with file:/n/boslfs/LABS/zhuang_lab/User/pzheng/Genomes/human/hg38/chroms/chrUn_KI270435v1.fa\n",
      "Dealing with file:/n/boslfs/LABS/zhuang_lab/User/pzheng/Genomes/human/hg38/chroms/chr19_GL949746v1_alt.fa\n",
      "Dealing with file:/n/boslfs/LABS/zhuang_lab/User/pzheng/Genomes/human/hg38/chroms/chr3_KI270782v1_alt.fa\n",
      "Dealing with file:/n/boslfs/LABS/zhuang_lab/User/pzheng/Genomes/human/hg38/chroms/chrY_KI270740v1_random.fa\n",
      "Dealing with file:/n/boslfs/LABS/zhuang_lab/User/pzheng/Genomes/human/hg38/chroms/chr12_KI270837v1_alt.fa\n",
      "Dealing with file:/n/boslfs/LABS/zhuang_lab/User/pzheng/Genomes/human/hg38/chroms/chrUn_KI270385v1.fa\n",
      "Dealing with file:/n/boslfs/LABS/zhuang_lab/User/pzheng/Genomes/human/hg38/chroms/chr16_KI270853v1_alt.fa\n",
      "Dealing with file:/n/boslfs/LABS/zhuang_lab/User/pzheng/Genomes/human/hg38/chroms/chrUn_KI270429v1.fa\n",
      "Dealing with file:/n/boslfs/LABS/zhuang_lab/User/pzheng/Genomes/human/hg38/chroms/chrUn_KI270448v1.fa\n",
      "Dealing with file:/n/boslfs/LABS/zhuang_lab/User/pzheng/Genomes/human/hg38/chroms/chr13_KI270842v1_alt.fa\n",
      "Dealing with file:/n/boslfs/LABS/zhuang_lab/User/pzheng/Genomes/human/hg38/chroms/chr1_KI270713v1_random.fa\n",
      "Dealing with file:/n/boslfs/LABS/zhuang_lab/User/pzheng/Genomes/human/hg38/chroms/chr12_GL877875v1_alt.fa\n",
      "Dealing with file:/n/boslfs/LABS/zhuang_lab/User/pzheng/Genomes/human/hg38/chroms/chrUn_KI270741v1.fa\n",
      "Dealing with file:/n/boslfs/LABS/zhuang_lab/User/pzheng/Genomes/human/hg38/chroms/chr17_JH159146v1_alt.fa\n",
      "Dealing with file:/n/boslfs/LABS/zhuang_lab/User/pzheng/Genomes/human/hg38/chroms/chr5_KI270793v1_alt.fa\n",
      "Dealing with file:/n/boslfs/LABS/zhuang_lab/User/pzheng/Genomes/human/hg38/chroms/chrUn_KI270311v1.fa\n",
      "Dealing with file:/n/boslfs/LABS/zhuang_lab/User/pzheng/Genomes/human/hg38/chroms/chr16_KI270855v1_alt.fa\n",
      "Dealing with file:/n/boslfs/LABS/zhuang_lab/User/pzheng/Genomes/human/hg38/chroms/chr18.fa\n",
      "Dealing with file:/n/boslfs/LABS/zhuang_lab/User/pzheng/Genomes/human/hg38/chroms/chr17_KI270729v1_random.fa\n",
      "Dealing with file:/n/boslfs/LABS/zhuang_lab/User/pzheng/Genomes/human/hg38/chroms/chr19_KI270917v1_alt.fa\n",
      "Dealing with file:/n/boslfs/LABS/zhuang_lab/User/pzheng/Genomes/human/hg38/chroms/chr1_GL383518v1_alt.fa\n",
      "Dealing with file:/n/boslfs/LABS/zhuang_lab/User/pzheng/Genomes/human/hg38/chroms/chr17_KI270730v1_random.fa\n",
      "Dealing with file:/n/boslfs/LABS/zhuang_lab/User/pzheng/Genomes/human/hg38/chroms/chr14_KI270845v1_alt.fa\n",
      "Dealing with file:/n/boslfs/LABS/zhuang_lab/User/pzheng/Genomes/human/hg38/chroms/chr19_GL949750v2_alt.fa\n",
      "Dealing with file:/n/boslfs/LABS/zhuang_lab/User/pzheng/Genomes/human/hg38/chroms/chr11_JH159137v1_alt.fa\n",
      "Dealing with file:/n/boslfs/LABS/zhuang_lab/User/pzheng/Genomes/human/hg38/chroms/chrUn_KI270517v1.fa\n",
      "Dealing with file:/n/boslfs/LABS/zhuang_lab/User/pzheng/Genomes/human/hg38/chroms/chr4_KI270789v1_alt.fa\n",
      "Dealing with file:/n/boslfs/LABS/zhuang_lab/User/pzheng/Genomes/human/hg38/chroms/chr12_KI270904v1_alt.fa\n",
      "Dealing with file:/n/boslfs/LABS/zhuang_lab/User/pzheng/Genomes/human/hg38/chroms/chrUn_KI270378v1.fa\n",
      "Dealing with file:/n/boslfs/LABS/zhuang_lab/User/pzheng/Genomes/human/hg38/chroms/chr11_KI270927v1_alt.fa\n",
      "Dealing with file:/n/boslfs/LABS/zhuang_lab/User/pzheng/Genomes/human/hg38/chroms/chr2_KI270774v1_alt.fa\n",
      "Dealing with file:/n/boslfs/LABS/zhuang_lab/User/pzheng/Genomes/human/hg38/chroms/chr1_KI270759v1_alt.fa\n",
      "Dealing with file:/n/boslfs/LABS/zhuang_lab/User/pzheng/Genomes/human/hg38/chroms/chr5_GL383531v1_alt.fa\n",
      "Dealing with file:/n/boslfs/LABS/zhuang_lab/User/pzheng/Genomes/human/hg38/chroms/chrUn_KI270372v1.fa\n",
      "Dealing with file:/n/boslfs/LABS/zhuang_lab/User/pzheng/Genomes/human/hg38/chroms/chrUn_KI270519v1.fa\n",
      "Dealing with file:/n/boslfs/LABS/zhuang_lab/User/pzheng/Genomes/human/hg38/chroms/chr14_KI270723v1_random.fa\n",
      "Dealing with file:/n/boslfs/LABS/zhuang_lab/User/pzheng/Genomes/human/hg38/chroms/chrUn_KI270590v1.fa\n",
      "Dealing with file:/n/boslfs/LABS/zhuang_lab/User/pzheng/Genomes/human/hg38/chroms/chrUn_KI270522v1.fa\n",
      "Dealing with file:/n/boslfs/LABS/zhuang_lab/User/pzheng/Genomes/human/hg38/chroms/chr2_KI270775v1_alt.fa\n"
     ]
    },
    {
     "data": {
      "text/plain": [
       "8002722906"
      ]
     },
     "execution_count": 6,
     "metadata": {},
     "output_type": "execute_result"
    }
   ],
   "source": [
    "\n",
    "#Only do it once!\n",
    "#This example is for the human genome hg38\n",
    "\n",
    "#Construct whole genome hash table / similarly for transcriptome file\n",
    "#Note: This is NOT degenerate for reverse-complement and it only maps the + strand.\n",
    "\n",
    "#minimum imports:\n",
    "#import khmer,sys,glob\n",
    "#sys.path.append(r'/n/home13/pzheng/Documents/python-functions/python-functions-library')\n",
    "#from LibraryConstruction import fastaread,fastawrite\n",
    "\n",
    "#khmer's hash tables are very easy to understand at least with single threads (no parallel computation)\n",
    "#Simply, each hash(sequence) = number in base 4. Z(num_table) prime numbers < a big number are specified \n",
    "#and the remainded of the hash is used to adress the Z tables. This allows for an easy bloom filter for finding\n",
    "#missing kmers. Considering its simplicity for single thread there should be a Windows version!\n",
    "#http://journals.plos.org/plosone/article?id=10.1371/journal.pone.0101271\n",
    "\n",
    "ksize = 17 #word size\n",
    "kmer = khmer.Countgraph(ksize, 2e9, 4) #hash total table size 2e9*4. 4 is the number of tables (prime numbers) to use\n",
    "kmer.set_use_bigcount(True) #This allows 2bytes for each count. Thus the maximum count is 2**16-1\n",
    "#The total RAM required for this is thus 2e9*4*2*1.2 bytes = 19.2 gigabytes. \n",
    "#~20% is used for hash specific elements as documented by khmer.\n",
    "#The size of the hash table is allocated at the beginning. \n",
    "#Note: if the size is too small there will be many collisions in the hash resulting in 'overinflated' counts.\n",
    "#Note: unknown characters are mapped to A. (N->A)\n",
    "#Note: the sequences need to be capitalized. (c->A, but C->C)\n",
    "\n",
    "fa_fls = glob.glob(r'/n/boslfs/LABS/zhuang_lab/User/pzheng/Genomes/human/hg38/chroms/*.fa') #permanant dir\n",
    "print 'Number of fasta files: '+str(len(fa_fls));\n",
    "save_file = r'/n/boslfs/LABS/zhuang_lab/User/pzheng/Indeces/human/hg38/full_word'+str(ksize)+'_.kmer' #permanant dir\n",
    "\n",
    "for fa_fl in fa_fls:\n",
    "    print \"Dealing with file:\"+fa_fl\n",
    "    nms,seqs = fastaread(fa_fl)\n",
    "    for seq in seqs:\n",
    "        kmer.consume(seq.upper())\n",
    "kmer.save(save_file)\n",
    "os.path.getsize(save_file)"
   ]
  },
  {
   "cell_type": "markdown",
   "metadata": {},
   "source": [
    "## 0.2 Indexing for human mRNA"
   ]
  },
  {
   "cell_type": "code",
   "execution_count": 5,
   "metadata": {},
   "outputs": [
    {
     "name": "stdout",
     "output_type": "stream",
     "text": [
      "Number of fasta files: 0\n"
     ]
    },
    {
     "ename": "OSError",
     "evalue": "[Errno 2] No such file or directory: '/n/boslfs/LABS/zhuang_lab/User/pzheng/Indeces/human/hg38/mRNA17_.kmer'",
     "output_type": "error",
     "traceback": [
      "\u001b[0;31m---------------------------------------------------------------------------\u001b[0m",
      "\u001b[0;31mOSError\u001b[0m                                   Traceback (most recent call last)",
      "\u001b[0;32m<ipython-input-5-72c7a0537bb1>\u001b[0m in \u001b[0;36m<module>\u001b[0;34m()\u001b[0m\n\u001b[1;32m     22\u001b[0m         \u001b[0mmRNA_kmer\u001b[0m\u001b[0;34m.\u001b[0m\u001b[0mconsume\u001b[0m\u001b[0;34m(\u001b[0m\u001b[0mseq\u001b[0m\u001b[0;34m.\u001b[0m\u001b[0mupper\u001b[0m\u001b[0;34m(\u001b[0m\u001b[0;34m)\u001b[0m\u001b[0;34m)\u001b[0m\u001b[0;34m\u001b[0m\u001b[0m\n\u001b[1;32m     23\u001b[0m \u001b[0;31m#mRNA_kmer.save(mRNA_save_file)\u001b[0m\u001b[0;34m\u001b[0m\u001b[0;34m\u001b[0m\u001b[0m\n\u001b[0;32m---> 24\u001b[0;31m \u001b[0mos\u001b[0m\u001b[0;34m.\u001b[0m\u001b[0mpath\u001b[0m\u001b[0;34m.\u001b[0m\u001b[0mgetsize\u001b[0m\u001b[0;34m(\u001b[0m\u001b[0mmRNA_save_file\u001b[0m\u001b[0;34m)\u001b[0m\u001b[0;34m\u001b[0m\u001b[0m\n\u001b[0m",
      "\u001b[0;32m/n/home13/pzheng/.conda/envs/python27rc2/lib/python2.7/genericpath.pyc\u001b[0m in \u001b[0;36mgetsize\u001b[0;34m(filename)\u001b[0m\n\u001b[1;32m     55\u001b[0m \u001b[0;32mdef\u001b[0m \u001b[0mgetsize\u001b[0m\u001b[0;34m(\u001b[0m\u001b[0mfilename\u001b[0m\u001b[0;34m)\u001b[0m\u001b[0;34m:\u001b[0m\u001b[0;34m\u001b[0m\u001b[0m\n\u001b[1;32m     56\u001b[0m     \u001b[0;34m\"\"\"Return the size of a file, reported by os.stat().\"\"\"\u001b[0m\u001b[0;34m\u001b[0m\u001b[0m\n\u001b[0;32m---> 57\u001b[0;31m     \u001b[0;32mreturn\u001b[0m \u001b[0mos\u001b[0m\u001b[0;34m.\u001b[0m\u001b[0mstat\u001b[0m\u001b[0;34m(\u001b[0m\u001b[0mfilename\u001b[0m\u001b[0;34m)\u001b[0m\u001b[0;34m.\u001b[0m\u001b[0mst_size\u001b[0m\u001b[0;34m\u001b[0m\u001b[0m\n\u001b[0m\u001b[1;32m     58\u001b[0m \u001b[0;34m\u001b[0m\u001b[0m\n\u001b[1;32m     59\u001b[0m \u001b[0;34m\u001b[0m\u001b[0m\n",
      "\u001b[0;31mOSError\u001b[0m: [Errno 2] No such file or directory: '/n/boslfs/LABS/zhuang_lab/User/pzheng/Indeces/human/hg38/mRNA17_.kmer'"
     ]
    }
   ],
   "source": [
    "# Indexing for human mRNA\n",
    "ksize = 17 #word size\n",
    "mRNA_kmer = khmer.Countgraph(ksize, 2e9, 4) #hash total table size 2e9*4. 4 is the number of tables (prime numbers) to use\n",
    "mRNA_kmer.set_use_bigcount(True) #This allows 2bytes for each count. Thus the maximum count is 2**16-1\n",
    "#The total RAM required for this is thus 2e9*4*2*1.2 bytes = 19.2 gigabytes. \n",
    "#~20% is used for hash specific elements as documented by khmer.\n",
    "#The size of the hash table is allocated at the beginning. \n",
    "#Note: if the size is too small there will be many collisions in the hash resulting in 'overinflated' counts.\n",
    "#Note: unknown characters are mapped to A. (N->A)\n",
    "#Note: the sequences need to be capitalized. (c->A, but C->C)\n",
    "\n",
    "mRNA_fa_fls = glob.glob(r'/n/boslfs/LABS/zhuang_lab/User/pzheng/Genomes/human/hg38/mRNA/*.fa') #permanant dir\n",
    "print 'Number of fasta files: '+str(len(mRNA_fa_fls));\n",
    "mRNA_save_file = r'/n/boslfs/LABS/zhuang_lab/User/pzheng/Indeces/human/hg38/mRNA'+str(ksize)+'_.kmer' #permanant dir\n",
    "\n",
    "for fa_fl in mRNA_fa_fls:\n",
    "    print \"Dealing with mRNA file:\"+fa_fl\n",
    "    nms,seqs = fastaread(fa_fl)\n",
    "    for seq in seqs:\n",
    "        if len(seq) <= ksize:\n",
    "            continue;\n",
    "        mRNA_kmer.consume(seq.upper())\n",
    "#mRNA_kmer.save(mRNA_save_file)\n",
    "os.path.getsize(mRNA_save_file)"
   ]
  },
  {
   "cell_type": "markdown",
   "metadata": {},
   "source": [
    "## 1 Extract region sequences"
   ]
  },
  {
   "cell_type": "markdown",
   "metadata": {},
   "source": [
    "    CDH1 chr16: 68737225-68835548\n",
    "    CDH2\n"
   ]
  },
  {
   "cell_type": "code",
   "execution_count": 2,
   "metadata": {
    "collapsed": true
   },
   "outputs": [],
   "source": [
    "## Some folders\n",
    "# human genome\n",
    "genome_folder = r'/n/boslfs/LABS/zhuang_lab/User/pzheng/Genomes/human/hg38/chroms';"
   ]
  },
  {
   "cell_type": "code",
   "execution_count": 3,
   "metadata": {
    "collapsed": true
   },
   "outputs": [],
   "source": [
    "def Batch_Extract_Sequences(master_folder, reg_filename =r'Regions.txt', \\\n",
    "                      genome_folder= r'/n/boslfs/LABS/zhuang_lab/User/pzheng/Genomes/human/hg38/chroms',\\\n",
    "                      resolution=10000):\n",
    "    '''Function to extract sequences for all regions written in a file'''\n",
    "    if not isinstance(master_folder, str) and not isinstance(reg_filename, str) and not isinstance(genome_folder, str):\n",
    "        raise ValueError('wrong input format!');\n",
    "    reg_file = open(master_folder + os.sep + reg_filename, 'r');\n",
    "    print 'Input region file is: '+reg_file;\n",
    "    \n"
   ]
  },
  {
   "cell_type": "code",
   "execution_count": 4,
   "metadata": {},
   "outputs": [
    {
     "ename": "IOError",
     "evalue": "[Errno 2] No such file or directory: '/n/boslfs/LABS/zhuang_lab/User/pzheng/Libraries/SI-14/EMT/Regions.txt'",
     "output_type": "error",
     "traceback": [
      "\u001b[0;31m---------------------------------------------------------------------------\u001b[0m",
      "\u001b[0;31mIOError\u001b[0m                                   Traceback (most recent call last)",
      "\u001b[0;32m<ipython-input-4-9d5c1c8eb47b>\u001b[0m in \u001b[0;36m<module>\u001b[0;34m()\u001b[0m\n\u001b[0;32m----> 1\u001b[0;31m \u001b[0mBatch_Extract_Sequences\u001b[0m\u001b[0;34m(\u001b[0m\u001b[0;34mr'/n/boslfs/LABS/zhuang_lab/User/pzheng/Libraries/SI-14/EMT'\u001b[0m\u001b[0;34m)\u001b[0m\u001b[0;34m\u001b[0m\u001b[0m\n\u001b[0m",
      "\u001b[0;32m<ipython-input-3-96116b19c017>\u001b[0m in \u001b[0;36mBatch_Extract_Sequences\u001b[0;34m(master_folder, reg_filename, genome_folder, resolution)\u001b[0m\n\u001b[1;32m      3\u001b[0m     \u001b[0;32mif\u001b[0m \u001b[0;32mnot\u001b[0m \u001b[0misinstance\u001b[0m\u001b[0;34m(\u001b[0m\u001b[0mmaster_folder\u001b[0m\u001b[0;34m,\u001b[0m \u001b[0mstr\u001b[0m\u001b[0;34m)\u001b[0m \u001b[0;32mand\u001b[0m \u001b[0;32mnot\u001b[0m \u001b[0misinstance\u001b[0m\u001b[0;34m(\u001b[0m\u001b[0mreg_filename\u001b[0m\u001b[0;34m,\u001b[0m \u001b[0mstr\u001b[0m\u001b[0;34m)\u001b[0m \u001b[0;32mand\u001b[0m \u001b[0;32mnot\u001b[0m \u001b[0misinstance\u001b[0m\u001b[0;34m(\u001b[0m\u001b[0mgenome_folder\u001b[0m\u001b[0;34m,\u001b[0m \u001b[0mstr\u001b[0m\u001b[0;34m)\u001b[0m\u001b[0;34m:\u001b[0m\u001b[0;34m\u001b[0m\u001b[0m\n\u001b[1;32m      4\u001b[0m         \u001b[0;32mraise\u001b[0m \u001b[0mValueError\u001b[0m\u001b[0;34m(\u001b[0m\u001b[0;34m'wrong input format!'\u001b[0m\u001b[0;34m)\u001b[0m\u001b[0;34m;\u001b[0m\u001b[0;34m\u001b[0m\u001b[0m\n\u001b[0;32m----> 5\u001b[0;31m     \u001b[0mreg_file\u001b[0m \u001b[0;34m=\u001b[0m \u001b[0mopen\u001b[0m\u001b[0;34m(\u001b[0m\u001b[0mmaster_folder\u001b[0m \u001b[0;34m+\u001b[0m \u001b[0mos\u001b[0m\u001b[0;34m.\u001b[0m\u001b[0msep\u001b[0m \u001b[0;34m+\u001b[0m \u001b[0mreg_filename\u001b[0m\u001b[0;34m,\u001b[0m \u001b[0;34m'r'\u001b[0m\u001b[0;34m)\u001b[0m\u001b[0;34m;\u001b[0m\u001b[0;34m\u001b[0m\u001b[0m\n\u001b[0m\u001b[1;32m      6\u001b[0m     \u001b[0;32mprint\u001b[0m \u001b[0;34m'Input region file is: '\u001b[0m\u001b[0;34m+\u001b[0m\u001b[0mreg_file\u001b[0m\u001b[0;34m;\u001b[0m\u001b[0;34m\u001b[0m\u001b[0m\n\u001b[1;32m      7\u001b[0m \u001b[0;34m\u001b[0m\u001b[0m\n",
      "\u001b[0;31mIOError\u001b[0m: [Errno 2] No such file or directory: '/n/boslfs/LABS/zhuang_lab/User/pzheng/Libraries/SI-14/EMT/Regions.txt'"
     ]
    }
   ],
   "source": [
    "Batch_Extract_Sequences(r'/n/boslfs/LABS/zhuang_lab/User/pzheng/Libraries/SI-14/EMT')"
   ]
  },
  {
   "cell_type": "code",
   "execution_count": 10,
   "metadata": {},
   "outputs": [
    {
     "name": "stdout",
     "output_type": "stream",
     "text": [
      "ls: cannot access /n/boslfs/L: No such file or directory\r\n"
     ]
    }
   ],
   "source": []
  },
  {
   "cell_type": "code",
   "execution_count": 13,
   "metadata": {},
   "outputs": [
    {
     "name": "stdout",
     "output_type": "stream",
     "text": [
      "Desktop  Documents  Softwares\r\n"
     ]
    }
   ],
   "source": [
    "!ls /n/home13/pzheng/"
   ]
  },
  {
   "cell_type": "code",
   "execution_count": 15,
   "metadata": {},
   "outputs": [
    {
     "name": "stdout",
     "output_type": "stream",
     "text": [
      "ls: cannot access /n/boslfs/LABS: No such file or directory\r\n"
     ]
    }
   ],
   "source": [
    "!ls /n/boslfs/LABS/"
   ]
  },
  {
   "cell_type": "markdown",
   "metadata": {},
   "source": [
    "### EMT"
   ]
  },
  {
   "cell_type": "code",
   "execution_count": 8,
   "metadata": {},
   "outputs": [
    {
     "data": {
      "text/plain": [
       "True"
      ]
     },
     "execution_count": 8,
     "metadata": {},
     "output_type": "execute_result"
    }
   ],
   "source": []
  },
  {
   "cell_type": "code",
   "execution_count": 29,
   "metadata": {
    "collapsed": true
   },
   "outputs": [],
   "source": [
    "master_folder = r'/n/boslfs/LABS/zhuang_lab/User/pzheng/Libraries/SI-14/EMT';\n",
    "# where to save\n",
    "seq_folder = r'/n/boslfs/LABS/zhuang_lab/User/pzheng/Libraries/SI-14/region_seqs/EMT';\n",
    "# EMT region1 info\n",
    "chrom = 16;\n",
    "start = 68737225;\n",
    "stop = 68835548;\n",
    "# mkdir if not exist\n",
    "if not os.path.exists(seq_folder):\n",
    "    os.makedirs(seq_folder)\n",
    "_, wholechr = ld.fastaread(genome_folder+os.sep+'chr'+str(chrom)+'.fa')\n",
    "wholechr = wholechr[0]\n",
    "# Design of each region\n",
    "res = 10000; # 10kb resolution\n",
    "n_reg = int((stop-start)/res)+1; # number of regions\n",
    "# extract all DNA sequences for these regions\n",
    "whole_seq = wholechr[start:start+n_reg*res];\n",
    "for i in range(n_reg):\n",
    "    # sequence for this region\n",
    "    reg_seq = whole_seq[i*res:(i+1)*res];\n",
    "    REG_SEQ = [reg_seq.upper()];\n",
    "\n",
    "    name = ['chr'+str(chrom)+':'+str(start+i*res)+'-'+str(start+(i+1)*res)+'_reg_'+str(i+1)];\n",
    "    filename = seq_folder + os.sep + 'reg_' + str(i+1)+'.fasta';\n",
    "    ld.fastawrite(filename, name, REG_SEQ);\n",
    "    \n"
   ]
  },
  {
   "cell_type": "code",
   "execution_count": null,
   "metadata": {
    "collapsed": true
   },
   "outputs": [],
   "source": [
    "#Write regions in folder for Jun-Han's favourite region chr4:52833833-52833833+1700000(hg38)  chr4:53,700,000-55,400,000\n",
    "\n",
    "\n",
    "folder = r'/n/dulacfs2/Users/bbintu/Libraries/SI13/DNAseqs2'\n",
    "if not os.path.exists(folder):\n",
    "    os.makedirs(folder)\n",
    "\n",
    "_,wholechr = ld.fastaread(r'/n/dulacfs2/Users/bbintu/Genomes/human/hg38/chr4.fa')\n",
    "wholechr = wholechr[0]\n",
    "\n",
    "nf = 170# number of regions\n",
    "res = 10000 # 30 kb resolution\n",
    "start = 52833833 #wheret to start in chr4\n",
    "DNA_ = wholechr[start:start+nf*res]\n",
    "for i in range(nf):\n",
    "    seq = DNA_[i*res:(i+1)*res]\n",
    "    seqs = [seq.upper()]\n",
    "    names = ['chr21:'+str(start+i*res)+'-'+str(start+(i+1)*res)+'reg_'+str(i+1)]\n",
    "    file_name = folder+os.sep+'reg_'+str(i+1)+'.fasta'\n",
    "    ld.fastawrite(file_name, names, seqs)"
   ]
  },
  {
   "cell_type": "code",
   "execution_count": 2,
   "metadata": {
    "collapsed": true
   },
   "outputs": [],
   "source": [
    "SI7_folder = r'/n/home13/pzheng/Documents/ForJunHan_Pu/SI7_30kb_extended/'\n",
    "SI7_csv_list = glob.glob(SI7_folder + '*.csv')\n",
    "SI7n_csv_list, SI7p_csv_list = [], []; # Initializing\n",
    "for SI7_csv in SI7_csv_list: # Split list into original SI7 (SI7p) and extended SI7(SI7n)\n",
    "    if '-' in SI7_csv:\n",
    "        SI7n_csv_list.append(SI7_csv);\n",
    "    else:\n",
    "        SI7p_csv_list.append(SI7_csv);"
   ]
  },
  {
   "cell_type": "code",
   "execution_count": 3,
   "metadata": {},
   "outputs": [
    {
     "data": {
      "text/plain": [
       "(140, 140)"
      ]
     },
     "execution_count": 3,
     "metadata": {},
     "output_type": "execute_result"
    }
   ],
   "source": [
    "len(SI7p_csv_list),len(SI7n_csv_list)"
   ]
  },
  {
   "cell_type": "code",
   "execution_count": 4,
   "metadata": {
    "collapsed": true
   },
   "outputs": [],
   "source": [
    "PDGFR_folder = r'/n/home13/pzheng/Documents/ForJunHan_Pu/PDGFR_10kb/'\n",
    "PDGFR_csv_list = glob.glob(PDGFR_folder + '*.csv')"
   ]
  },
  {
   "cell_type": "code",
   "execution_count": 5,
   "metadata": {
    "collapsed": true
   },
   "outputs": [],
   "source": [
    "from Bio.Seq import Seq\n",
    "myseq = Seq('AtGC')"
   ]
  },
  {
   "cell_type": "code",
   "execution_count": 6,
   "metadata": {},
   "outputs": [
    {
     "name": "stderr",
     "output_type": "stream",
     "text": [
      "/n/home13/pzheng/.conda/envs/python27rc2/lib/python2.7/site-packages/Bio/Seq.py:345: BiopythonDeprecationWarning: This method is obsolete; please use str(my_seq) instead of my_seq.tostring().\n",
      "  BiopythonDeprecationWarning)\n"
     ]
    },
    {
     "data": {
      "text/plain": [
       "'AtGC'"
      ]
     },
     "execution_count": 6,
     "metadata": {},
     "output_type": "execute_result"
    }
   ],
   "source": [
    "myseq.tostring()"
   ]
  },
  {
   "cell_type": "code",
   "execution_count": 7,
   "metadata": {
    "collapsed": true
   },
   "outputs": [],
   "source": [
    "from Bio import SeqIO"
   ]
  },
  {
   "cell_type": "code",
   "execution_count": 8,
   "metadata": {
    "collapsed": true
   },
   "outputs": [],
   "source": [
    "import csv\n",
    "def CSV_Probe_Reader(filename, fmt='probe'):\n",
    "    with open(filename, 'r') as _csvfile:\n",
    "        # reader\n",
    "        _csvreader = csv.reader(_csvfile, delimiter=',') # reader\n",
    "        # check if has header\n",
    "        _has_header = csv.Sniffer().has_header(_csvfile.readline())\n",
    "        _csvfile.seek(0)  # Rewind.\n",
    "        if _has_header:\n",
    "            next(_csvreader)  # Skip header row.\n",
    "        for row in _csvreader:\n",
    "            pass\n",
    "        return _csvreader\n",
    "test = CSV_Probe_Reader(SI7n_csv_list[0])"
   ]
  },
  {
   "cell_type": "code",
   "execution_count": 9,
   "metadata": {
    "collapsed": true
   },
   "outputs": [],
   "source": [
    "def CSV_Merge(filelist, output_name, header=False):\n",
    "    with open(output_name, 'wb') as ff:\n",
    "        writer = csv.writer(ff,delimiter=',')\n",
    "        #writer.writerows(csv.reader(open(SI7p_csv_list[0],'r')))\n",
    "        for filename in filelist:\n",
    "            with open(filename, 'r') as _csvfile:\n",
    "                # reader\n",
    "                _csvreader = csv.reader(_csvfile, delimiter=',') # reader\n",
    "                if not header:\n",
    "                    # check if has header\n",
    "                    _has_header = csv.Sniffer().has_header(_csvfile.readline())\n",
    "                    _csvfile.seek(0)  # Rewind.\n",
    "                    if _has_header:\n",
    "                        next(_csvreader)  # Skip header row.\n",
    "                writer.writerows(_csvreader);\n",
    "CSV_Merge(SI7p_csv_list, 'SI7p_merged.csv')\n",
    "CSV_Merge(SI7n_csv_list, 'SI7n_merged.csv')\n",
    "CSV_Merge(PDGFR_csv_list, 'PDGFR_merged.csv')"
   ]
  },
  {
   "cell_type": "code",
   "execution_count": 77,
   "metadata": {
    "collapsed": true
   },
   "outputs": [],
   "source": [
    "class probe():\n",
    "    "
   ]
  },
  {
   "cell_type": "code",
   "execution_count": 10,
   "metadata": {
    "collapsed": true
   },
   "outputs": [],
   "source": []
  },
  {
   "cell_type": "code",
   "execution_count": 41,
   "metadata": {},
   "outputs": [
    {
     "name": "stdout",
     "output_type": "stream",
     "text": [
      "/n/home13/pzheng/Documents/ForJunHan_Pu/SI7_30kb_extended/pb_reports_reg_79.csv\r\n"
     ]
    }
   ],
   "source": [
    "!ls /n/home13/pzheng/Documents/ForJunHan_Pu/SI7_30kb_extended/pb_reports_reg_79.csv"
   ]
  },
  {
   "cell_type": "code",
   "execution_count": null,
   "metadata": {
    "collapsed": true
   },
   "outputs": [],
   "source": [
    "!ls /n/boslfs/"
   ]
  },
  {
   "cell_type": "code",
   "execution_count": null,
   "metadata": {
    "collapsed": true
   },
   "outputs": [],
   "source": [
    "##Construct SI14 probes-EMT\n",
    "import time,os,sys\n",
    "reload(ld)\n",
    "import matplotlib.pyplot as plt\n",
    "plt.switch_backend('agg')\n",
    "\n",
    "index_folder = r'/n/boslfs/LABS/zhuang_lab/User/pzheng/Indeces/human/hg38';\n",
    "\n",
    "genmoe_index = index_folder + os.sep + r'full_word17_.kmer';\n",
    "repeat_index = index_folder + os.sep + r'HumanRepeats_word17_.kmer';\n",
    "transcriptome_index = index_folder + os.sep + r'transcriptome_word17_.kmer';\n",
    "\n",
    "master_dir = r'/n/boslfs/LABS/zhuang_lab/User/pzheng/Libraries/SI-14/EMT';\n",
    "\n",
    "resolution = 20000;\n",
    "seq_dir = os.sep + 'region_seqs-'+str(resolution)\n",
    "save_dir = os.sep + 'reports-'+str(resolution)\n",
    "\n",
    "merged = True;\n",
    "if merged:\n",
    "    seq_dir = seq_dir + os.sep + 'merged';\n",
    "    save_dir = save_dir + os.sep + 'merged';\n",
    "\n",
    "\n",
    "# get input and output \n",
    "input_files = glob.glob(master_dir+seq_dir+os.sep+r'*.fasta')\n",
    "save_folder = master_dir + save_dir;\n",
    "\n",
    "if not os.path.exists(save_folder):\n",
    "    os.makedirs(save_folder);\n",
    "# Loop through all input files\n",
    "for in_file in input_files:\n",
    "    #print in_file\n",
    "    save_file = save_folder+os.sep+os.path.basename(in_file).replace('.fasta','.pbr')#'/pb_reports_reg_'+str(-i-1)+'.pbr'\n",
    "    if not os.path.exists(save_file.replace('.pbr','.png')):\n",
    "        \n",
    "        local_genome_fl = in_file\n",
    "        print in_file;\n",
    "        pb_designer = ld.pb_reports_class(\n",
    "            sequence_dic={'file':in_file,'use_revc':False,'use_kmer':True},\n",
    "            map_dic={'genome':{'file':genmoe_index,'use_revc':True,'use_kmer':True},\n",
    "                  'rep_genome':{'file':repeat_index,'use_revc':True,'use_kmer':True},\n",
    "                  'local_genome':{'file':local_genome_fl,'force_list':True,'use_revc':True,'use_kmer':True}},\n",
    "            save_file=save_file,\n",
    "            params_dic={'word_size':17,'pb_len':42,'buffer_len':2,'max_count':2**16-1,'check_on_go':False,'auto':False},\n",
    "            dic_check={('genome','local_genome'):75,'rep_genome':0,'gc':[0.25,0.85],'tm':70,'masks':['AAAAA','TTTTT','GGGGG','CCCCC']})\n",
    "\n",
    "        pb_designer.computeOTmaps()\n",
    "        pb_designer.compute_pb_report()\n",
    "        pb_designer.perform_check_end()\n",
    "        pb_designer.plots()\n",
    "        print len(pb_designer.pb_reports_keep)"
   ]
  },
  {
   "cell_type": "code",
   "execution_count": null,
   "metadata": {
    "collapsed": true
   },
   "outputs": [],
   "source": [
    "prob_lens = [];\n",
    "master_dir = r'/n/boslfs/LABS/zhuang_lab/User/pzheng/Libraries/SI-14/EMT';\n",
    "save_folder = master_dir + save_dir;\n",
    "#to continue or check sequences:\n",
    "reload(ld)\n",
    "\n",
    "pbde = ld.pb_reports_class()\n",
    "files = glob.glob(save_folder+os.sep+r'*.pbr')\n",
    "for file_ in files:\n",
    "    pbde.load_pbr(file_)\n",
    "    pbde.dic_check={'gc': [0.25, 0.85], 'rep_genome': 0, 'tm': 70, ('genome', 'local_genome'): 75,\n",
    "                    'masks':['AAAAA','TTTTT','GGGGG','CCCCC']}\n",
    "    pbde.perform_check_end()\n",
    "    print file_\n",
    "    print len(pbde.pb_reports_keep)\n",
    "    prob_lens.append(len(pbde.pb_reports_keep))\n",
    "    pbde.save_csv()\n",
    "    #pbde.plots()"
   ]
  },
  {
   "cell_type": "code",
   "execution_count": null,
   "metadata": {
    "collapsed": true
   },
   "outputs": [],
   "source": [
    "%matplotlib notebook\n",
    "\n",
    "plt.figure()\n",
    "plt.hist(prob_lens,20)\n",
    "plt.show()"
   ]
  }
 ],
 "metadata": {
  "kernelspec": {
   "display_name": "Python 2",
   "language": "python",
   "name": "python2"
  },
  "language_info": {
   "codemirror_mode": {
    "name": "ipython",
    "version": 2
   },
   "file_extension": ".py",
   "mimetype": "text/x-python",
   "name": "python",
   "nbconvert_exporter": "python",
   "pygments_lexer": "ipython2",
   "version": "2.7.13"
  }
 },
 "nbformat": 4,
 "nbformat_minor": 2
}
