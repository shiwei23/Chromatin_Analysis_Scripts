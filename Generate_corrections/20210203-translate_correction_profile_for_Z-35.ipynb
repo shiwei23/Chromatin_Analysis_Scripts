{
 "cells": [
  {
   "cell_type": "markdown",
   "metadata": {},
   "source": [
    "# Convert correction profiles from 20201012 30-zsteps into 50 steps\n",
    "\n",
    "by Pu Zheng\n",
    "\n",
    "2020.12.04"
   ]
  },
  {
   "cell_type": "code",
   "execution_count": 1,
   "metadata": {},
   "outputs": [
    {
     "name": "stdout",
     "output_type": "stream",
     "text": [
      "36400\n"
     ]
    }
   ],
   "source": [
    "%run \"E:\\Users\\puzheng\\Documents\\Startup_py3.py\"\n",
    "sys.path.append(r\"E:\\Users\\puzheng\\Documents\")\n",
    "\n",
    "import ImageAnalysis3 as ia\n",
    "%matplotlib notebook\n",
    "\n",
    "from ImageAnalysis3 import *\n",
    "\n",
    "print(os.getpid())"
   ]
  },
  {
   "cell_type": "code",
   "execution_count": 4,
   "metadata": {},
   "outputs": [
    {
     "name": "stdout",
     "output_type": "stream",
     "text": [
      "create folder: \\\\10.245.74.158\\Chromatin_NAS_0\\Corrections\\20210203-Corrections_3color_35\n"
     ]
    }
   ],
   "source": [
    "source_folder = r'\\\\10.245.74.158\\Chromatin_NAS_0\\Corrections\\20201012-Corrections_3color'\n",
    "target_folder = r'\\\\10.245.74.158\\Chromatin_NAS_0\\Corrections\\20210203-Corrections_3color_35'\n",
    "if not os.path.exists(target_folder):\n",
    "    print(f\"create folder: {target_folder}\")\n",
    "    os.makedirs(target_folder)\n",
    "    \n",
    "src_shape = [30,2048,2048]\n",
    "tar_shape = [35,2048,2048]"
   ]
  },
  {
   "cell_type": "markdown",
   "metadata": {},
   "source": [
    "# illumination corr"
   ]
  },
  {
   "cell_type": "code",
   "execution_count": 5,
   "metadata": {},
   "outputs": [
    {
     "name": "stdout",
     "output_type": "stream",
     "text": [
      "750\n",
      "647\n",
      "561\n",
      "488\n",
      "405\n"
     ]
    }
   ],
   "source": [
    "from shutil import copyfile\n",
    "\n",
    "file_prefix = 'illumination_correction_'\n",
    "channels = ia._allowed_colors\n",
    "\n",
    "for _ch in channels:\n",
    "    _src_fl = os.path.join(source_folder, \n",
    "                           file_prefix+f\"{_ch}_{src_shape[-2]}x{src_shape[-1]}.npy\")\n",
    "    _tar_fl = os.path.join(target_folder, \n",
    "                           file_prefix+f\"{_ch}_{tar_shape[-2]}x{tar_shape[-1]}.npy\")\n",
    "    if os.path.isfile(_src_fl):\n",
    "        print(_ch)\n",
    "        copyfile(_src_fl, _tar_fl)"
   ]
  },
  {
   "cell_type": "markdown",
   "metadata": {},
   "source": [
    "# chromatic abbrevation corr"
   ]
  },
  {
   "cell_type": "code",
   "execution_count": 6,
   "metadata": {},
   "outputs": [
    {
     "name": "stdout",
     "output_type": "stream",
     "text": [
      "750\n",
      "\\\\10.245.74.158\\Chromatin_NAS_0\\Corrections\\20210203-Corrections_3color_35\\chromatic_correction_750_647_35_2048_2048_const.pkl\n",
      "561\n",
      "\\\\10.245.74.158\\Chromatin_NAS_0\\Corrections\\20210203-Corrections_3color_35\\chromatic_correction_561_647_35_2048_2048_const.pkl\n"
     ]
    }
   ],
   "source": [
    "# load chromatic abbrevation pf\n",
    "file_prefix = 'chromatic_correction_'\n",
    "ref_ch = '647'\n",
    "chromatic_corr_channels = ['750', '561']\n",
    "for _ch in chromatic_corr_channels:\n",
    "    _basename = file_prefix+f\"{_ch}_{ref_ch}_{src_shape[-2]}x{src_shape[-1]}.npy\"\n",
    "    _src_fl = os.path.join(source_folder, \n",
    "                           file_prefix+f\"{_ch}_{ref_ch}_{src_shape[-3]}_{src_shape[-2]}_{src_shape[-1]}_const.pkl\")\n",
    "    _tar_fl = os.path.join(target_folder, \n",
    "                           file_prefix+f\"{_ch}_{ref_ch}_{tar_shape[-3]}_{tar_shape[-2]}_{tar_shape[-1]}_const.pkl\")\n",
    "    \n",
    "    if os.path.isfile(_src_fl):\n",
    "        print(_ch)\n",
    "        _info = pickle.load(open(_src_fl, 'rb'))\n",
    "        # generate new chromatic const file\n",
    "        new_info = {_k:_v for _k,_v in _info.items()}\n",
    "        new_info['ref_center'] = (np.array(tar_shape)/2)\n",
    "        # save new info\n",
    "        pickle.dump(new_info, open(_tar_fl, 'wb'))\n",
    "        print(_tar_fl)\n",
    "        ## generate profiles\n",
    "        # generate pixels\n",
    "        _pixel_coords = np.indices(tar_shape)\n",
    "        _pixel_coords = _pixel_coords.reshape(np.shape(_pixel_coords)[0], -1)\n",
    "        _pixel_coords = _pixel_coords - (np.array(tar_shape)/2)[:, np.newaxis]\n",
    "        from ImageAnalysis3.correction_tools.chromatic import generate_polynomial_data\n",
    "        # generate profile\n",
    "        _profile = []\n",
    "        for _i, _order in enumerate(_info['fitting_orders']):\n",
    "            _pX = generate_polynomial_data(_pixel_coords.transpose(), _order)\n",
    "            _py = np.dot(_pX, _info['constants'][_i]).reshape(tar_shape)\n",
    "            _profile.append(_py)\n",
    "        _profile = np.array(_profile)\n",
    "        # save profile\n",
    "        np.save(_tar_fl.replace(\"_const.pkl\", \"\"), _profile)"
   ]
  },
  {
   "cell_type": "markdown",
   "metadata": {},
   "source": [
    "# bleedthrough corr"
   ]
  },
  {
   "cell_type": "code",
   "execution_count": 7,
   "metadata": {},
   "outputs": [],
   "source": [
    "# load chromatic abbrevation pf\n",
    "file_prefix = 'bleedthrough_correction_'\n",
    "bleed_corr_channels = ['750', '647', '561']\n",
    "#750_647_561_2048_2048\n",
    "_basename = file_prefix\n",
    "for _ch in bleed_corr_channels:\n",
    "    _basename += f\"{_ch}_\"\n",
    "_basename += f\"{src_shape[-2]}_{src_shape[-1]}.npy\"\n",
    "_src_fl = os.path.join(source_folder, _basename)\n",
    "_pf = np.load(_src_fl)"
   ]
  },
  {
   "cell_type": "code",
   "execution_count": 8,
   "metadata": {},
   "outputs": [],
   "source": [
    "_tar_fl = os.path.join(target_folder, _basename)\n",
    "np.save(_tar_fl.split('.npy')[0], _pf)"
   ]
  },
  {
   "cell_type": "code",
   "execution_count": 9,
   "metadata": {},
   "outputs": [],
   "source": [
    "# generate a 2color bleedthrough profile\n",
    "\n",
    "# load chromatic abbrevation pf\n",
    "file_prefix = 'bleedthrough_correction_'\n",
    "src_bleed_corr_channels = ['750', '647', '561']\n",
    "#750_647_561_2048_2048\n",
    "_src_basename = file_prefix\n",
    "for _ch in src_bleed_corr_channels:\n",
    "    _src_basename += f\"{_ch}_\"\n",
    "_src_basename += f\"{src_shape[-2]}_{src_shape[-1]}.npy\"\n",
    "_src_fl = os.path.join(source_folder, _src_basename)\n",
    "_pf = np.load(_src_fl)\n"
   ]
  },
  {
   "cell_type": "code",
   "execution_count": 10,
   "metadata": {},
   "outputs": [],
   "source": [
    "_pf = _pf.reshape(len(src_bleed_corr_channels), \n",
    "                  len(src_bleed_corr_channels), \n",
    "                  src_shape[-2], src_shape[-1])\n",
    "\n",
    "tar_bleed_corr_channels = ['750', '647']\n",
    "\n",
    "_tar_basename = file_prefix\n",
    "for _ch in tar_bleed_corr_channels:\n",
    "    _tar_basename += f\"{_ch}_\"\n",
    "_tar_basename += f\"{tar_shape[-2]}_{tar_shape[-1]}\"\n",
    "_tar_fl = os.path.join(target_folder, _tar_basename)\n",
    "\n",
    "_tar_pf = _pf[:len(tar_bleed_corr_channels),:len(tar_bleed_corr_channels)]\n",
    "_tar_pf = _tar_pf.reshape(len(tar_bleed_corr_channels)**2, tar_shape[-2], tar_shape[-1])\n",
    "\n",
    "np.save(_tar_fl, _tar_pf)"
   ]
  },
  {
   "cell_type": "code",
   "execution_count": 11,
   "metadata": {
    "scrolled": true
   },
   "outputs": [
    {
     "data": {
      "text/plain": [
       "'\\\\\\\\10.245.74.158\\\\Chromatin_NAS_0\\\\Corrections\\\\20210203-Corrections_3color_35\\\\bleedthrough_correction_750_647_2048_2048'"
      ]
     },
     "execution_count": 11,
     "metadata": {},
     "output_type": "execute_result"
    }
   ],
   "source": [
    "_tar_fl"
   ]
  },
  {
   "cell_type": "code",
   "execution_count": null,
   "metadata": {},
   "outputs": [],
   "source": []
  }
 ],
 "metadata": {
  "kernelspec": {
   "display_name": "Python 3",
   "language": "python",
   "name": "python3"
  },
  "language_info": {
   "codemirror_mode": {
    "name": "ipython",
    "version": 3
   },
   "file_extension": ".py",
   "mimetype": "text/x-python",
   "name": "python",
   "nbconvert_exporter": "python",
   "pygments_lexer": "ipython3",
   "version": "3.7.3"
  }
 },
 "nbformat": 4,
 "nbformat_minor": 4
}
