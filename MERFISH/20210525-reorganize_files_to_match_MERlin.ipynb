{
 "cells": [
  {
   "cell_type": "markdown",
   "id": "273f8599",
   "metadata": {},
   "source": [
    "# Resave STORM6 raw data into MERlin format\n",
    "\n",
    "* Data from: \\\\10.245.74.158\\Chromatin_NAS_5\\20210506-P_Forebrain_MERFISH_CTP09"
   ]
  },
  {
   "cell_type": "code",
   "execution_count": 3,
   "id": "73f838f0",
   "metadata": {},
   "outputs": [
    {
     "name": "stdout",
     "output_type": "stream",
     "text": [
      "33488\n"
     ]
    }
   ],
   "source": [
    "%run \"..\\..\\Startup_py3.py\"\n",
    "sys.path.append(r\"..\\..\\..\\..\\Documents\")\n",
    "\n",
    "import ImageAnalysis3 as ia\n",
    "%matplotlib notebook\n",
    "\n",
    "from ImageAnalysis3 import *\n",
    "print(os.getpid())\n",
    "\n",
    "import h5py\n",
    "from ImageAnalysis3.classes import _allowed_kwds\n",
    "import ast"
   ]
  },
  {
   "cell_type": "code",
   "execution_count": 4,
   "id": "b5edad45",
   "metadata": {},
   "outputs": [],
   "source": [
    "import shutil"
   ]
  },
  {
   "cell_type": "code",
   "execution_count": null,
   "id": "83bc007c",
   "metadata": {},
   "outputs": [],
   "source": []
  }
 ],
 "metadata": {
  "kernelspec": {
   "display_name": "Python 3",
   "language": "python",
   "name": "python3"
  },
  "language_info": {
   "codemirror_mode": {
    "name": "ipython",
    "version": 3
   },
   "file_extension": ".py",
   "mimetype": "text/x-python",
   "name": "python",
   "nbconvert_exporter": "python",
   "pygments_lexer": "ipython3",
   "version": "3.7.10"
  }
 },
 "nbformat": 4,
 "nbformat_minor": 5
}
