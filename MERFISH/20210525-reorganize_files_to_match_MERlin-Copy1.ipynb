{
 "cells": [
  {
   "cell_type": "markdown",
   "id": "56f2c7c5",
   "metadata": {},
   "source": [
    "# Resave STORM6 raw data into MERlin format\n",
    "\n",
    "* Data from: \\\\10.245.74.158\\Chromatin_NAS_5\\20210506-P_Forebrain_MERFISH_CTP09"
   ]
  },
  {
   "cell_type": "code",
   "execution_count": 1,
   "id": "2b654821",
   "metadata": {},
   "outputs": [],
   "source": [
    "!ls /n/holyscratch01/zhuang_lab/Users/pzheng\n"
   ]
  },
  {
   "cell_type": "code",
   "execution_count": 2,
   "id": "f2e23829",
   "metadata": {},
   "outputs": [
    {
     "name": "stdout",
     "output_type": "stream",
     "text": [
      "/n/home13/pzheng/Documents/Chromatin_Analysis_Scripts/MERFISH\r\n"
     ]
    }
   ],
   "source": [
    "!pwd"
   ]
  },
  {
   "cell_type": "code",
   "execution_count": 3,
   "id": "8d8d92d5",
   "metadata": {},
   "outputs": [
    {
     "name": "stdout",
     "output_type": "stream",
     "text": [
      "ls: cannot access scratch_data: No such file or directory\r\n"
     ]
    }
   ],
   "source": [
    "!ls scratch_data"
   ]
  },
  {
   "cell_type": "code",
   "execution_count": 4,
   "id": "bde66ea0",
   "metadata": {},
   "outputs": [
    {
     "name": "stdout",
     "output_type": "stream",
     "text": [
      "Chromatin_Analysis_Scripts  Old_Codes\t\t       Startup_Scripts\r\n",
      "Merfish_Analysis_Scripts    RC_scripts.code-workspace\r\n"
     ]
    }
   ],
   "source": [
    "!ls ~/Documents"
   ]
  },
  {
   "cell_type": "code",
   "execution_count": 6,
   "id": "0dc923b8",
   "metadata": {},
   "outputs": [],
   "source": [
    "import os,glob,sys,time\n",
    "import shutil\n",
    "import numpy as np\n",
    "sys.path.append(r\"/n/home13/pzheng/Softwares\")\n",
    "import ImageAnalysis3 as ia3"
   ]
  },
  {
   "cell_type": "code",
   "execution_count": 8,
   "id": "0b3dea4f",
   "metadata": {},
   "outputs": [
    {
     "name": "stdout",
     "output_type": "stream",
     "text": [
      "Get Folder Names: (ia.get_img_info.get_folders)\n",
      "- Number of folders: 19\n",
      "- Number of field of views: 101\n"
     ]
    }
   ],
   "source": [
    "data_folder = r'/n/holyscratch01/zhuang_lab/puzheng/20210717-P_brain_MO4_MERFISH'\n",
    "\n",
    "fds, fovs = ia3.get_img_info.get_folders(data_folder)"
   ]
  },
  {
   "cell_type": "code",
   "execution_count": 9,
   "id": "bd05f75b",
   "metadata": {},
   "outputs": [
    {
     "name": "stdout",
     "output_type": "stream",
     "text": [
      "creating folder: /n/holyscratch01/zhuang_lab/puzheng/20210717-P_brain_MO4_MERFISH_renamed_data_test\n"
     ]
    }
   ],
   "source": [
    "target_folder = r'/n/holyscratch01/zhuang_lab/puzheng/20210717-P_brain_MO4_MERFISH_renamed_data_test'\n",
    "if not os.path.isdir(target_folder):\n",
    "    print(f\"creating folder: {target_folder}\")\n",
    "    os.makedirs(target_folder)\n",
    "ref_image_type = 'Epi-750-647-561-488-405-s13'\n",
    "image_type = 'Epi-750-647-561-s13'"
   ]
  },
  {
   "cell_type": "code",
   "execution_count": 10,
   "id": "607f7afa",
   "metadata": {
    "scrolled": true
   },
   "outputs": [
    {
     "name": "stdout",
     "output_type": "stream",
     "text": [
      "copy /n/holyscratch01/zhuang_lab/puzheng/20210717-P_brain_MO4_MERFISH/H0M0/Conv_zscan_000.off to /n/holyscratch01/zhuang_lab/puzheng/20210717-P_brain_MO4_MERFISH_renamed_data_test/Epi-750-647-561-488-405-s13_0_0.off\n",
      "copy /n/holyscratch01/zhuang_lab/puzheng/20210717-P_brain_MO4_MERFISH/H0M0/Conv_zscan_000.power to /n/holyscratch01/zhuang_lab/puzheng/20210717-P_brain_MO4_MERFISH_renamed_data_test/Epi-750-647-561-488-405-s13_0_0.power\n",
      "copy /n/holyscratch01/zhuang_lab/puzheng/20210717-P_brain_MO4_MERFISH/H0M0/Conv_zscan_000.dax to /n/holyscratch01/zhuang_lab/puzheng/20210717-P_brain_MO4_MERFISH_renamed_data_test/Epi-750-647-561-488-405-s13_0_0.dax\n",
      "copy /n/holyscratch01/zhuang_lab/puzheng/20210717-P_brain_MO4_MERFISH/H0M0/Conv_zscan_000.xml to /n/holyscratch01/zhuang_lab/puzheng/20210717-P_brain_MO4_MERFISH_renamed_data_test/Epi-750-647-561-488-405-s13_0_0.xml\n",
      "copy /n/holyscratch01/zhuang_lab/puzheng/20210717-P_brain_MO4_MERFISH/H0M0/Conv_zscan_000.inf to /n/holyscratch01/zhuang_lab/puzheng/20210717-P_brain_MO4_MERFISH_renamed_data_test/Epi-750-647-561-488-405-s13_0_0.inf\n",
      "copy /n/holyscratch01/zhuang_lab/puzheng/20210717-P_brain_MO4_MERFISH/H2M2_BIT3-4/Conv_zscan_000.off to /n/holyscratch01/zhuang_lab/puzheng/20210717-P_brain_MO4_MERFISH_renamed_data_test/Epi-750-647-561-s13_0_2.off\n",
      "copy /n/holyscratch01/zhuang_lab/puzheng/20210717-P_brain_MO4_MERFISH/H2M2_BIT3-4/Conv_zscan_000.power to /n/holyscratch01/zhuang_lab/puzheng/20210717-P_brain_MO4_MERFISH_renamed_data_test/Epi-750-647-561-s13_0_2.power\n",
      "copy /n/holyscratch01/zhuang_lab/puzheng/20210717-P_brain_MO4_MERFISH/H2M2_BIT3-4/Conv_zscan_000.dax to /n/holyscratch01/zhuang_lab/puzheng/20210717-P_brain_MO4_MERFISH_renamed_data_test/Epi-750-647-561-s13_0_2.dax\n",
      "copy /n/holyscratch01/zhuang_lab/puzheng/20210717-P_brain_MO4_MERFISH/H2M2_BIT3-4/Conv_zscan_000.xml to /n/holyscratch01/zhuang_lab/puzheng/20210717-P_brain_MO4_MERFISH_renamed_data_test/Epi-750-647-561-s13_0_2.xml\n",
      "copy /n/holyscratch01/zhuang_lab/puzheng/20210717-P_brain_MO4_MERFISH/H2M2_BIT3-4/Conv_zscan_000.inf to /n/holyscratch01/zhuang_lab/puzheng/20210717-P_brain_MO4_MERFISH_renamed_data_test/Epi-750-647-561-s13_0_2.inf\n",
      "copy /n/holyscratch01/zhuang_lab/puzheng/20210717-P_brain_MO4_MERFISH/H3M3_BIT5-6/Conv_zscan_000.off to /n/holyscratch01/zhuang_lab/puzheng/20210717-P_brain_MO4_MERFISH_renamed_data_test/Epi-750-647-561-s13_0_3.off\n",
      "copy /n/holyscratch01/zhuang_lab/puzheng/20210717-P_brain_MO4_MERFISH/H3M3_BIT5-6/Conv_zscan_000.power to /n/holyscratch01/zhuang_lab/puzheng/20210717-P_brain_MO4_MERFISH_renamed_data_test/Epi-750-647-561-s13_0_3.power\n",
      "copy /n/holyscratch01/zhuang_lab/puzheng/20210717-P_brain_MO4_MERFISH/H3M3_BIT5-6/Conv_zscan_000.dax to /n/holyscratch01/zhuang_lab/puzheng/20210717-P_brain_MO4_MERFISH_renamed_data_test/Epi-750-647-561-s13_0_3.dax\n",
      "copy /n/holyscratch01/zhuang_lab/puzheng/20210717-P_brain_MO4_MERFISH/H3M3_BIT5-6/Conv_zscan_000.xml to /n/holyscratch01/zhuang_lab/puzheng/20210717-P_brain_MO4_MERFISH_renamed_data_test/Epi-750-647-561-s13_0_3.xml\n",
      "copy /n/holyscratch01/zhuang_lab/puzheng/20210717-P_brain_MO4_MERFISH/H3M3_BIT5-6/Conv_zscan_000.inf to /n/holyscratch01/zhuang_lab/puzheng/20210717-P_brain_MO4_MERFISH_renamed_data_test/Epi-750-647-561-s13_0_3.inf\n",
      "copy /n/holyscratch01/zhuang_lab/puzheng/20210717-P_brain_MO4_MERFISH/H4M4_BIT7-8/Conv_zscan_000.off to /n/holyscratch01/zhuang_lab/puzheng/20210717-P_brain_MO4_MERFISH_renamed_data_test/Epi-750-647-561-s13_0_4.off\n",
      "copy /n/holyscratch01/zhuang_lab/puzheng/20210717-P_brain_MO4_MERFISH/H4M4_BIT7-8/Conv_zscan_000.power to /n/holyscratch01/zhuang_lab/puzheng/20210717-P_brain_MO4_MERFISH_renamed_data_test/Epi-750-647-561-s13_0_4.power\n",
      "copy /n/holyscratch01/zhuang_lab/puzheng/20210717-P_brain_MO4_MERFISH/H4M4_BIT7-8/Conv_zscan_000.dax to /n/holyscratch01/zhuang_lab/puzheng/20210717-P_brain_MO4_MERFISH_renamed_data_test/Epi-750-647-561-s13_0_4.dax\n",
      "copy /n/holyscratch01/zhuang_lab/puzheng/20210717-P_brain_MO4_MERFISH/H4M4_BIT7-8/Conv_zscan_000.xml to /n/holyscratch01/zhuang_lab/puzheng/20210717-P_brain_MO4_MERFISH_renamed_data_test/Epi-750-647-561-s13_0_4.xml\n",
      "copy /n/holyscratch01/zhuang_lab/puzheng/20210717-P_brain_MO4_MERFISH/H4M4_BIT7-8/Conv_zscan_000.inf to /n/holyscratch01/zhuang_lab/puzheng/20210717-P_brain_MO4_MERFISH_renamed_data_test/Epi-750-647-561-s13_0_4.inf\n",
      "copy /n/holyscratch01/zhuang_lab/puzheng/20210717-P_brain_MO4_MERFISH/H5M5_BIT9-10/Conv_zscan_000.off to /n/holyscratch01/zhuang_lab/puzheng/20210717-P_brain_MO4_MERFISH_renamed_data_test/Epi-750-647-561-s13_0_5.off\n",
      "copy /n/holyscratch01/zhuang_lab/puzheng/20210717-P_brain_MO4_MERFISH/H5M5_BIT9-10/Conv_zscan_000.power to /n/holyscratch01/zhuang_lab/puzheng/20210717-P_brain_MO4_MERFISH_renamed_data_test/Epi-750-647-561-s13_0_5.power\n",
      "copy /n/holyscratch01/zhuang_lab/puzheng/20210717-P_brain_MO4_MERFISH/H5M5_BIT9-10/Conv_zscan_000.dax to /n/holyscratch01/zhuang_lab/puzheng/20210717-P_brain_MO4_MERFISH_renamed_data_test/Epi-750-647-561-s13_0_5.dax\n",
      "copy /n/holyscratch01/zhuang_lab/puzheng/20210717-P_brain_MO4_MERFISH/H5M5_BIT9-10/Conv_zscan_000.xml to /n/holyscratch01/zhuang_lab/puzheng/20210717-P_brain_MO4_MERFISH_renamed_data_test/Epi-750-647-561-s13_0_5.xml\n",
      "copy /n/holyscratch01/zhuang_lab/puzheng/20210717-P_brain_MO4_MERFISH/H5M5_BIT9-10/Conv_zscan_000.inf to /n/holyscratch01/zhuang_lab/puzheng/20210717-P_brain_MO4_MERFISH_renamed_data_test/Epi-750-647-561-s13_0_5.inf\n",
      "copy /n/holyscratch01/zhuang_lab/puzheng/20210717-P_brain_MO4_MERFISH/H6M6_BIT11-12/Conv_zscan_000.off to /n/holyscratch01/zhuang_lab/puzheng/20210717-P_brain_MO4_MERFISH_renamed_data_test/Epi-750-647-561-s13_0_6.off\n",
      "copy /n/holyscratch01/zhuang_lab/puzheng/20210717-P_brain_MO4_MERFISH/H6M6_BIT11-12/Conv_zscan_000.power to /n/holyscratch01/zhuang_lab/puzheng/20210717-P_brain_MO4_MERFISH_renamed_data_test/Epi-750-647-561-s13_0_6.power\n",
      "copy /n/holyscratch01/zhuang_lab/puzheng/20210717-P_brain_MO4_MERFISH/H6M6_BIT11-12/Conv_zscan_000.dax to /n/holyscratch01/zhuang_lab/puzheng/20210717-P_brain_MO4_MERFISH_renamed_data_test/Epi-750-647-561-s13_0_6.dax\n",
      "copy /n/holyscratch01/zhuang_lab/puzheng/20210717-P_brain_MO4_MERFISH/H6M6_BIT11-12/Conv_zscan_000.xml to /n/holyscratch01/zhuang_lab/puzheng/20210717-P_brain_MO4_MERFISH_renamed_data_test/Epi-750-647-561-s13_0_6.xml\n",
      "copy /n/holyscratch01/zhuang_lab/puzheng/20210717-P_brain_MO4_MERFISH/H6M6_BIT11-12/Conv_zscan_000.inf to /n/holyscratch01/zhuang_lab/puzheng/20210717-P_brain_MO4_MERFISH_renamed_data_test/Epi-750-647-561-s13_0_6.inf\n",
      "copy /n/holyscratch01/zhuang_lab/puzheng/20210717-P_brain_MO4_MERFISH/H7M7_BIT13-14/Conv_zscan_000.off to /n/holyscratch01/zhuang_lab/puzheng/20210717-P_brain_MO4_MERFISH_renamed_data_test/Epi-750-647-561-s13_0_7.off\n",
      "copy /n/holyscratch01/zhuang_lab/puzheng/20210717-P_brain_MO4_MERFISH/H7M7_BIT13-14/Conv_zscan_000.power to /n/holyscratch01/zhuang_lab/puzheng/20210717-P_brain_MO4_MERFISH_renamed_data_test/Epi-750-647-561-s13_0_7.power\n",
      "copy /n/holyscratch01/zhuang_lab/puzheng/20210717-P_brain_MO4_MERFISH/H7M7_BIT13-14/Conv_zscan_000.dax to /n/holyscratch01/zhuang_lab/puzheng/20210717-P_brain_MO4_MERFISH_renamed_data_test/Epi-750-647-561-s13_0_7.dax\n",
      "copy /n/holyscratch01/zhuang_lab/puzheng/20210717-P_brain_MO4_MERFISH/H7M7_BIT13-14/Conv_zscan_000.xml to /n/holyscratch01/zhuang_lab/puzheng/20210717-P_brain_MO4_MERFISH_renamed_data_test/Epi-750-647-561-s13_0_7.xml\n",
      "copy /n/holyscratch01/zhuang_lab/puzheng/20210717-P_brain_MO4_MERFISH/H7M7_BIT13-14/Conv_zscan_000.inf to /n/holyscratch01/zhuang_lab/puzheng/20210717-P_brain_MO4_MERFISH_renamed_data_test/Epi-750-647-561-s13_0_7.inf\n",
      "copy /n/holyscratch01/zhuang_lab/puzheng/20210717-P_brain_MO4_MERFISH/H8M8_BIT15-16/Conv_zscan_000.off to /n/holyscratch01/zhuang_lab/puzheng/20210717-P_brain_MO4_MERFISH_renamed_data_test/Epi-750-647-561-s13_0_8.off\n",
      "copy /n/holyscratch01/zhuang_lab/puzheng/20210717-P_brain_MO4_MERFISH/H8M8_BIT15-16/Conv_zscan_000.power to /n/holyscratch01/zhuang_lab/puzheng/20210717-P_brain_MO4_MERFISH_renamed_data_test/Epi-750-647-561-s13_0_8.power\n",
      "copy /n/holyscratch01/zhuang_lab/puzheng/20210717-P_brain_MO4_MERFISH/H8M8_BIT15-16/Conv_zscan_000.dax to /n/holyscratch01/zhuang_lab/puzheng/20210717-P_brain_MO4_MERFISH_renamed_data_test/Epi-750-647-561-s13_0_8.dax\n"
     ]
    },
    {
     "name": "stdout",
     "output_type": "stream",
     "text": [
      "copy /n/holyscratch01/zhuang_lab/puzheng/20210717-P_brain_MO4_MERFISH/H8M8_BIT15-16/Conv_zscan_000.xml to /n/holyscratch01/zhuang_lab/puzheng/20210717-P_brain_MO4_MERFISH_renamed_data_test/Epi-750-647-561-s13_0_8.xml\n",
      "copy /n/holyscratch01/zhuang_lab/puzheng/20210717-P_brain_MO4_MERFISH/H8M8_BIT15-16/Conv_zscan_000.inf to /n/holyscratch01/zhuang_lab/puzheng/20210717-P_brain_MO4_MERFISH_renamed_data_test/Epi-750-647-561-s13_0_8.inf\n",
      "copy /n/holyscratch01/zhuang_lab/puzheng/20210717-P_brain_MO4_MERFISH/H9M9_BIT17-18/Conv_zscan_000.off to /n/holyscratch01/zhuang_lab/puzheng/20210717-P_brain_MO4_MERFISH_renamed_data_test/Epi-750-647-561-s13_0_9.off\n",
      "copy /n/holyscratch01/zhuang_lab/puzheng/20210717-P_brain_MO4_MERFISH/H9M9_BIT17-18/Conv_zscan_000.power to /n/holyscratch01/zhuang_lab/puzheng/20210717-P_brain_MO4_MERFISH_renamed_data_test/Epi-750-647-561-s13_0_9.power\n",
      "copy /n/holyscratch01/zhuang_lab/puzheng/20210717-P_brain_MO4_MERFISH/H9M9_BIT17-18/Conv_zscan_000.dax to /n/holyscratch01/zhuang_lab/puzheng/20210717-P_brain_MO4_MERFISH_renamed_data_test/Epi-750-647-561-s13_0_9.dax\n",
      "copy /n/holyscratch01/zhuang_lab/puzheng/20210717-P_brain_MO4_MERFISH/H9M9_BIT17-18/Conv_zscan_000.xml to /n/holyscratch01/zhuang_lab/puzheng/20210717-P_brain_MO4_MERFISH_renamed_data_test/Epi-750-647-561-s13_0_9.xml\n",
      "copy /n/holyscratch01/zhuang_lab/puzheng/20210717-P_brain_MO4_MERFISH/H9M9_BIT17-18/Conv_zscan_000.inf to /n/holyscratch01/zhuang_lab/puzheng/20210717-P_brain_MO4_MERFISH_renamed_data_test/Epi-750-647-561-s13_0_9.inf\n",
      "copy /n/holyscratch01/zhuang_lab/puzheng/20210717-P_brain_MO4_MERFISH/H10M10_BIT19-20/Conv_zscan_000.off to /n/holyscratch01/zhuang_lab/puzheng/20210717-P_brain_MO4_MERFISH_renamed_data_test/Epi-750-647-561-s13_0_10.off\n",
      "copy /n/holyscratch01/zhuang_lab/puzheng/20210717-P_brain_MO4_MERFISH/H10M10_BIT19-20/Conv_zscan_000.power to /n/holyscratch01/zhuang_lab/puzheng/20210717-P_brain_MO4_MERFISH_renamed_data_test/Epi-750-647-561-s13_0_10.power\n",
      "copy /n/holyscratch01/zhuang_lab/puzheng/20210717-P_brain_MO4_MERFISH/H10M10_BIT19-20/Conv_zscan_000.dax to /n/holyscratch01/zhuang_lab/puzheng/20210717-P_brain_MO4_MERFISH_renamed_data_test/Epi-750-647-561-s13_0_10.dax\n",
      "copy /n/holyscratch01/zhuang_lab/puzheng/20210717-P_brain_MO4_MERFISH/H10M10_BIT19-20/Conv_zscan_000.xml to /n/holyscratch01/zhuang_lab/puzheng/20210717-P_brain_MO4_MERFISH_renamed_data_test/Epi-750-647-561-s13_0_10.xml\n",
      "copy /n/holyscratch01/zhuang_lab/puzheng/20210717-P_brain_MO4_MERFISH/H10M10_BIT19-20/Conv_zscan_000.inf to /n/holyscratch01/zhuang_lab/puzheng/20210717-P_brain_MO4_MERFISH_renamed_data_test/Epi-750-647-561-s13_0_10.inf\n",
      "copy /n/holyscratch01/zhuang_lab/puzheng/20210717-P_brain_MO4_MERFISH/H11M11_BIT21-22/Conv_zscan_000.off to /n/holyscratch01/zhuang_lab/puzheng/20210717-P_brain_MO4_MERFISH_renamed_data_test/Epi-750-647-561-s13_0_11.off\n",
      "copy /n/holyscratch01/zhuang_lab/puzheng/20210717-P_brain_MO4_MERFISH/H11M11_BIT21-22/Conv_zscan_000.power to /n/holyscratch01/zhuang_lab/puzheng/20210717-P_brain_MO4_MERFISH_renamed_data_test/Epi-750-647-561-s13_0_11.power\n",
      "copy /n/holyscratch01/zhuang_lab/puzheng/20210717-P_brain_MO4_MERFISH/H11M11_BIT21-22/Conv_zscan_000.dax to /n/holyscratch01/zhuang_lab/puzheng/20210717-P_brain_MO4_MERFISH_renamed_data_test/Epi-750-647-561-s13_0_11.dax\n",
      "copy /n/holyscratch01/zhuang_lab/puzheng/20210717-P_brain_MO4_MERFISH/H11M11_BIT21-22/Conv_zscan_000.xml to /n/holyscratch01/zhuang_lab/puzheng/20210717-P_brain_MO4_MERFISH_renamed_data_test/Epi-750-647-561-s13_0_11.xml\n",
      "copy /n/holyscratch01/zhuang_lab/puzheng/20210717-P_brain_MO4_MERFISH/H11M11_BIT21-22/Conv_zscan_000.inf to /n/holyscratch01/zhuang_lab/puzheng/20210717-P_brain_MO4_MERFISH_renamed_data_test/Epi-750-647-561-s13_0_11.inf\n",
      "copy /n/holyscratch01/zhuang_lab/puzheng/20210717-P_brain_MO4_MERFISH/H12M12_BIT23-24/Conv_zscan_000.off to /n/holyscratch01/zhuang_lab/puzheng/20210717-P_brain_MO4_MERFISH_renamed_data_test/Epi-750-647-561-s13_0_12.off\n",
      "copy /n/holyscratch01/zhuang_lab/puzheng/20210717-P_brain_MO4_MERFISH/H12M12_BIT23-24/Conv_zscan_000.power to /n/holyscratch01/zhuang_lab/puzheng/20210717-P_brain_MO4_MERFISH_renamed_data_test/Epi-750-647-561-s13_0_12.power\n",
      "copy /n/holyscratch01/zhuang_lab/puzheng/20210717-P_brain_MO4_MERFISH/H12M12_BIT23-24/Conv_zscan_000.dax to /n/holyscratch01/zhuang_lab/puzheng/20210717-P_brain_MO4_MERFISH_renamed_data_test/Epi-750-647-561-s13_0_12.dax\n",
      "copy /n/holyscratch01/zhuang_lab/puzheng/20210717-P_brain_MO4_MERFISH/H12M12_BIT23-24/Conv_zscan_000.xml to /n/holyscratch01/zhuang_lab/puzheng/20210717-P_brain_MO4_MERFISH_renamed_data_test/Epi-750-647-561-s13_0_12.xml\n",
      "copy /n/holyscratch01/zhuang_lab/puzheng/20210717-P_brain_MO4_MERFISH/H12M12_BIT23-24/Conv_zscan_000.inf to /n/holyscratch01/zhuang_lab/puzheng/20210717-P_brain_MO4_MERFISH_renamed_data_test/Epi-750-647-561-s13_0_12.inf\n",
      "copy /n/holyscratch01/zhuang_lab/puzheng/20210717-P_brain_MO4_MERFISH/H13M13_BIT25-26/Conv_zscan_000.off to /n/holyscratch01/zhuang_lab/puzheng/20210717-P_brain_MO4_MERFISH_renamed_data_test/Epi-750-647-561-s13_0_13.off\n",
      "copy /n/holyscratch01/zhuang_lab/puzheng/20210717-P_brain_MO4_MERFISH/H13M13_BIT25-26/Conv_zscan_000.power to /n/holyscratch01/zhuang_lab/puzheng/20210717-P_brain_MO4_MERFISH_renamed_data_test/Epi-750-647-561-s13_0_13.power\n",
      "copy /n/holyscratch01/zhuang_lab/puzheng/20210717-P_brain_MO4_MERFISH/H13M13_BIT25-26/Conv_zscan_000.dax to /n/holyscratch01/zhuang_lab/puzheng/20210717-P_brain_MO4_MERFISH_renamed_data_test/Epi-750-647-561-s13_0_13.dax\n",
      "copy /n/holyscratch01/zhuang_lab/puzheng/20210717-P_brain_MO4_MERFISH/H13M13_BIT25-26/Conv_zscan_000.xml to /n/holyscratch01/zhuang_lab/puzheng/20210717-P_brain_MO4_MERFISH_renamed_data_test/Epi-750-647-561-s13_0_13.xml\n",
      "copy /n/holyscratch01/zhuang_lab/puzheng/20210717-P_brain_MO4_MERFISH/H13M13_BIT25-26/Conv_zscan_000.inf to /n/holyscratch01/zhuang_lab/puzheng/20210717-P_brain_MO4_MERFISH_renamed_data_test/Epi-750-647-561-s13_0_13.inf\n",
      "copy /n/holyscratch01/zhuang_lab/puzheng/20210717-P_brain_MO4_MERFISH/H14M14_BIT27-28/Conv_zscan_000.off to /n/holyscratch01/zhuang_lab/puzheng/20210717-P_brain_MO4_MERFISH_renamed_data_test/Epi-750-647-561-s13_0_14.off\n",
      "copy /n/holyscratch01/zhuang_lab/puzheng/20210717-P_brain_MO4_MERFISH/H14M14_BIT27-28/Conv_zscan_000.power to /n/holyscratch01/zhuang_lab/puzheng/20210717-P_brain_MO4_MERFISH_renamed_data_test/Epi-750-647-561-s13_0_14.power\n",
      "copy /n/holyscratch01/zhuang_lab/puzheng/20210717-P_brain_MO4_MERFISH/H14M14_BIT27-28/Conv_zscan_000.dax to /n/holyscratch01/zhuang_lab/puzheng/20210717-P_brain_MO4_MERFISH_renamed_data_test/Epi-750-647-561-s13_0_14.dax\n",
      "copy /n/holyscratch01/zhuang_lab/puzheng/20210717-P_brain_MO4_MERFISH/H14M14_BIT27-28/Conv_zscan_000.xml to /n/holyscratch01/zhuang_lab/puzheng/20210717-P_brain_MO4_MERFISH_renamed_data_test/Epi-750-647-561-s13_0_14.xml\n",
      "copy /n/holyscratch01/zhuang_lab/puzheng/20210717-P_brain_MO4_MERFISH/H14M14_BIT27-28/Conv_zscan_000.inf to /n/holyscratch01/zhuang_lab/puzheng/20210717-P_brain_MO4_MERFISH_renamed_data_test/Epi-750-647-561-s13_0_14.inf\n",
      "copy /n/holyscratch01/zhuang_lab/puzheng/20210717-P_brain_MO4_MERFISH/H15M15_BIT29-30/Conv_zscan_000.off to /n/holyscratch01/zhuang_lab/puzheng/20210717-P_brain_MO4_MERFISH_renamed_data_test/Epi-750-647-561-s13_0_15.off\n",
      "copy /n/holyscratch01/zhuang_lab/puzheng/20210717-P_brain_MO4_MERFISH/H15M15_BIT29-30/Conv_zscan_000.power to /n/holyscratch01/zhuang_lab/puzheng/20210717-P_brain_MO4_MERFISH_renamed_data_test/Epi-750-647-561-s13_0_15.power\n",
      "copy /n/holyscratch01/zhuang_lab/puzheng/20210717-P_brain_MO4_MERFISH/H15M15_BIT29-30/Conv_zscan_000.dax to /n/holyscratch01/zhuang_lab/puzheng/20210717-P_brain_MO4_MERFISH_renamed_data_test/Epi-750-647-561-s13_0_15.dax\n",
      "copy /n/holyscratch01/zhuang_lab/puzheng/20210717-P_brain_MO4_MERFISH/H15M15_BIT29-30/Conv_zscan_000.xml to /n/holyscratch01/zhuang_lab/puzheng/20210717-P_brain_MO4_MERFISH_renamed_data_test/Epi-750-647-561-s13_0_15.xml\n",
      "copy /n/holyscratch01/zhuang_lab/puzheng/20210717-P_brain_MO4_MERFISH/H15M15_BIT29-30/Conv_zscan_000.inf to /n/holyscratch01/zhuang_lab/puzheng/20210717-P_brain_MO4_MERFISH_renamed_data_test/Epi-750-647-561-s13_0_15.inf\n",
      "copy /n/holyscratch01/zhuang_lab/puzheng/20210717-P_brain_MO4_MERFISH/H16M16_BIT31-32/Conv_zscan_000.off to /n/holyscratch01/zhuang_lab/puzheng/20210717-P_brain_MO4_MERFISH_renamed_data_test/Epi-750-647-561-s13_0_16.off\n",
      "copy /n/holyscratch01/zhuang_lab/puzheng/20210717-P_brain_MO4_MERFISH/H16M16_BIT31-32/Conv_zscan_000.power to /n/holyscratch01/zhuang_lab/puzheng/20210717-P_brain_MO4_MERFISH_renamed_data_test/Epi-750-647-561-s13_0_16.power\n",
      "copy /n/holyscratch01/zhuang_lab/puzheng/20210717-P_brain_MO4_MERFISH/H16M16_BIT31-32/Conv_zscan_000.dax to /n/holyscratch01/zhuang_lab/puzheng/20210717-P_brain_MO4_MERFISH_renamed_data_test/Epi-750-647-561-s13_0_16.dax\n"
     ]
    },
    {
     "name": "stdout",
     "output_type": "stream",
     "text": [
      "copy /n/holyscratch01/zhuang_lab/puzheng/20210717-P_brain_MO4_MERFISH/H16M16_BIT31-32/Conv_zscan_000.xml to /n/holyscratch01/zhuang_lab/puzheng/20210717-P_brain_MO4_MERFISH_renamed_data_test/Epi-750-647-561-s13_0_16.xml\n",
      "copy /n/holyscratch01/zhuang_lab/puzheng/20210717-P_brain_MO4_MERFISH/H16M16_BIT31-32/Conv_zscan_000.inf to /n/holyscratch01/zhuang_lab/puzheng/20210717-P_brain_MO4_MERFISH_renamed_data_test/Epi-750-647-561-s13_0_16.inf\n",
      "copy /n/holyscratch01/zhuang_lab/puzheng/20210717-P_brain_MO4_MERFISH/H17M17_BIT33-34/Conv_zscan_000.off to /n/holyscratch01/zhuang_lab/puzheng/20210717-P_brain_MO4_MERFISH_renamed_data_test/Epi-750-647-561-s13_0_17.off\n",
      "copy /n/holyscratch01/zhuang_lab/puzheng/20210717-P_brain_MO4_MERFISH/H17M17_BIT33-34/Conv_zscan_000.power to /n/holyscratch01/zhuang_lab/puzheng/20210717-P_brain_MO4_MERFISH_renamed_data_test/Epi-750-647-561-s13_0_17.power\n",
      "copy /n/holyscratch01/zhuang_lab/puzheng/20210717-P_brain_MO4_MERFISH/H17M17_BIT33-34/Conv_zscan_000.dax to /n/holyscratch01/zhuang_lab/puzheng/20210717-P_brain_MO4_MERFISH_renamed_data_test/Epi-750-647-561-s13_0_17.dax\n",
      "copy /n/holyscratch01/zhuang_lab/puzheng/20210717-P_brain_MO4_MERFISH/H17M17_BIT33-34/Conv_zscan_000.xml to /n/holyscratch01/zhuang_lab/puzheng/20210717-P_brain_MO4_MERFISH_renamed_data_test/Epi-750-647-561-s13_0_17.xml\n",
      "copy /n/holyscratch01/zhuang_lab/puzheng/20210717-P_brain_MO4_MERFISH/H17M17_BIT33-34/Conv_zscan_000.inf to /n/holyscratch01/zhuang_lab/puzheng/20210717-P_brain_MO4_MERFISH_renamed_data_test/Epi-750-647-561-s13_0_17.inf\n",
      "copy /n/holyscratch01/zhuang_lab/puzheng/20210717-P_brain_MO4_MERFISH/H18M18_BIT35-36/Conv_zscan_000.off to /n/holyscratch01/zhuang_lab/puzheng/20210717-P_brain_MO4_MERFISH_renamed_data_test/Epi-750-647-561-s13_0_18.off\n",
      "copy /n/holyscratch01/zhuang_lab/puzheng/20210717-P_brain_MO4_MERFISH/H18M18_BIT35-36/Conv_zscan_000.power to /n/holyscratch01/zhuang_lab/puzheng/20210717-P_brain_MO4_MERFISH_renamed_data_test/Epi-750-647-561-s13_0_18.power\n",
      "copy /n/holyscratch01/zhuang_lab/puzheng/20210717-P_brain_MO4_MERFISH/H18M18_BIT35-36/Conv_zscan_000.dax to /n/holyscratch01/zhuang_lab/puzheng/20210717-P_brain_MO4_MERFISH_renamed_data_test/Epi-750-647-561-s13_0_18.dax\n",
      "copy /n/holyscratch01/zhuang_lab/puzheng/20210717-P_brain_MO4_MERFISH/H18M18_BIT35-36/Conv_zscan_000.xml to /n/holyscratch01/zhuang_lab/puzheng/20210717-P_brain_MO4_MERFISH_renamed_data_test/Epi-750-647-561-s13_0_18.xml\n",
      "copy /n/holyscratch01/zhuang_lab/puzheng/20210717-P_brain_MO4_MERFISH/H18M18_BIT35-36/Conv_zscan_000.inf to /n/holyscratch01/zhuang_lab/puzheng/20210717-P_brain_MO4_MERFISH_renamed_data_test/Epi-750-647-561-s13_0_18.inf\n",
      "copy /n/holyscratch01/zhuang_lab/puzheng/20210717-P_brain_MO4_MERFISH/H19M19_BIT37-38/Conv_zscan_000.off to /n/holyscratch01/zhuang_lab/puzheng/20210717-P_brain_MO4_MERFISH_renamed_data_test/Epi-750-647-561-s13_0_19.off\n",
      "copy /n/holyscratch01/zhuang_lab/puzheng/20210717-P_brain_MO4_MERFISH/H19M19_BIT37-38/Conv_zscan_000.power to /n/holyscratch01/zhuang_lab/puzheng/20210717-P_brain_MO4_MERFISH_renamed_data_test/Epi-750-647-561-s13_0_19.power\n",
      "copy /n/holyscratch01/zhuang_lab/puzheng/20210717-P_brain_MO4_MERFISH/H19M19_BIT37-38/Conv_zscan_000.dax to /n/holyscratch01/zhuang_lab/puzheng/20210717-P_brain_MO4_MERFISH_renamed_data_test/Epi-750-647-561-s13_0_19.dax\n",
      "copy /n/holyscratch01/zhuang_lab/puzheng/20210717-P_brain_MO4_MERFISH/H19M19_BIT37-38/Conv_zscan_000.xml to /n/holyscratch01/zhuang_lab/puzheng/20210717-P_brain_MO4_MERFISH_renamed_data_test/Epi-750-647-561-s13_0_19.xml\n",
      "copy /n/holyscratch01/zhuang_lab/puzheng/20210717-P_brain_MO4_MERFISH/H19M19_BIT37-38/Conv_zscan_000.inf to /n/holyscratch01/zhuang_lab/puzheng/20210717-P_brain_MO4_MERFISH_renamed_data_test/Epi-750-647-561-s13_0_19.inf\n",
      "copy /n/holyscratch01/zhuang_lab/puzheng/20210717-P_brain_MO4_MERFISH/H0M0/Conv_zscan_001.xml to /n/holyscratch01/zhuang_lab/puzheng/20210717-P_brain_MO4_MERFISH_renamed_data_test/Epi-750-647-561-488-405-s13_1_0.xml\n",
      "copy /n/holyscratch01/zhuang_lab/puzheng/20210717-P_brain_MO4_MERFISH/H0M0/Conv_zscan_001.dax to /n/holyscratch01/zhuang_lab/puzheng/20210717-P_brain_MO4_MERFISH_renamed_data_test/Epi-750-647-561-488-405-s13_1_0.dax\n",
      "copy /n/holyscratch01/zhuang_lab/puzheng/20210717-P_brain_MO4_MERFISH/H0M0/Conv_zscan_001.inf to /n/holyscratch01/zhuang_lab/puzheng/20210717-P_brain_MO4_MERFISH_renamed_data_test/Epi-750-647-561-488-405-s13_1_0.inf\n",
      "copy /n/holyscratch01/zhuang_lab/puzheng/20210717-P_brain_MO4_MERFISH/H0M0/Conv_zscan_001.off to /n/holyscratch01/zhuang_lab/puzheng/20210717-P_brain_MO4_MERFISH_renamed_data_test/Epi-750-647-561-488-405-s13_1_0.off\n",
      "copy /n/holyscratch01/zhuang_lab/puzheng/20210717-P_brain_MO4_MERFISH/H0M0/Conv_zscan_001.power to /n/holyscratch01/zhuang_lab/puzheng/20210717-P_brain_MO4_MERFISH_renamed_data_test/Epi-750-647-561-488-405-s13_1_0.power\n",
      "copy /n/holyscratch01/zhuang_lab/puzheng/20210717-P_brain_MO4_MERFISH/H2M2_BIT3-4/Conv_zscan_001.xml to /n/holyscratch01/zhuang_lab/puzheng/20210717-P_brain_MO4_MERFISH_renamed_data_test/Epi-750-647-561-s13_1_2.xml\n",
      "copy /n/holyscratch01/zhuang_lab/puzheng/20210717-P_brain_MO4_MERFISH/H2M2_BIT3-4/Conv_zscan_001.dax to /n/holyscratch01/zhuang_lab/puzheng/20210717-P_brain_MO4_MERFISH_renamed_data_test/Epi-750-647-561-s13_1_2.dax\n",
      "copy /n/holyscratch01/zhuang_lab/puzheng/20210717-P_brain_MO4_MERFISH/H2M2_BIT3-4/Conv_zscan_001.inf to /n/holyscratch01/zhuang_lab/puzheng/20210717-P_brain_MO4_MERFISH_renamed_data_test/Epi-750-647-561-s13_1_2.inf\n",
      "copy /n/holyscratch01/zhuang_lab/puzheng/20210717-P_brain_MO4_MERFISH/H2M2_BIT3-4/Conv_zscan_001.off to /n/holyscratch01/zhuang_lab/puzheng/20210717-P_brain_MO4_MERFISH_renamed_data_test/Epi-750-647-561-s13_1_2.off\n",
      "copy /n/holyscratch01/zhuang_lab/puzheng/20210717-P_brain_MO4_MERFISH/H2M2_BIT3-4/Conv_zscan_001.power to /n/holyscratch01/zhuang_lab/puzheng/20210717-P_brain_MO4_MERFISH_renamed_data_test/Epi-750-647-561-s13_1_2.power\n",
      "copy /n/holyscratch01/zhuang_lab/puzheng/20210717-P_brain_MO4_MERFISH/H3M3_BIT5-6/Conv_zscan_001.xml to /n/holyscratch01/zhuang_lab/puzheng/20210717-P_brain_MO4_MERFISH_renamed_data_test/Epi-750-647-561-s13_1_3.xml\n",
      "copy /n/holyscratch01/zhuang_lab/puzheng/20210717-P_brain_MO4_MERFISH/H3M3_BIT5-6/Conv_zscan_001.dax to /n/holyscratch01/zhuang_lab/puzheng/20210717-P_brain_MO4_MERFISH_renamed_data_test/Epi-750-647-561-s13_1_3.dax\n",
      "copy /n/holyscratch01/zhuang_lab/puzheng/20210717-P_brain_MO4_MERFISH/H3M3_BIT5-6/Conv_zscan_001.inf to /n/holyscratch01/zhuang_lab/puzheng/20210717-P_brain_MO4_MERFISH_renamed_data_test/Epi-750-647-561-s13_1_3.inf\n",
      "copy /n/holyscratch01/zhuang_lab/puzheng/20210717-P_brain_MO4_MERFISH/H3M3_BIT5-6/Conv_zscan_001.off to /n/holyscratch01/zhuang_lab/puzheng/20210717-P_brain_MO4_MERFISH_renamed_data_test/Epi-750-647-561-s13_1_3.off\n",
      "copy /n/holyscratch01/zhuang_lab/puzheng/20210717-P_brain_MO4_MERFISH/H3M3_BIT5-6/Conv_zscan_001.power to /n/holyscratch01/zhuang_lab/puzheng/20210717-P_brain_MO4_MERFISH_renamed_data_test/Epi-750-647-561-s13_1_3.power\n",
      "copy /n/holyscratch01/zhuang_lab/puzheng/20210717-P_brain_MO4_MERFISH/H4M4_BIT7-8/Conv_zscan_001.xml to /n/holyscratch01/zhuang_lab/puzheng/20210717-P_brain_MO4_MERFISH_renamed_data_test/Epi-750-647-561-s13_1_4.xml\n",
      "copy /n/holyscratch01/zhuang_lab/puzheng/20210717-P_brain_MO4_MERFISH/H4M4_BIT7-8/Conv_zscan_001.dax to /n/holyscratch01/zhuang_lab/puzheng/20210717-P_brain_MO4_MERFISH_renamed_data_test/Epi-750-647-561-s13_1_4.dax\n",
      "copy /n/holyscratch01/zhuang_lab/puzheng/20210717-P_brain_MO4_MERFISH/H4M4_BIT7-8/Conv_zscan_001.inf to /n/holyscratch01/zhuang_lab/puzheng/20210717-P_brain_MO4_MERFISH_renamed_data_test/Epi-750-647-561-s13_1_4.inf\n",
      "copy /n/holyscratch01/zhuang_lab/puzheng/20210717-P_brain_MO4_MERFISH/H4M4_BIT7-8/Conv_zscan_001.off to /n/holyscratch01/zhuang_lab/puzheng/20210717-P_brain_MO4_MERFISH_renamed_data_test/Epi-750-647-561-s13_1_4.off\n",
      "copy /n/holyscratch01/zhuang_lab/puzheng/20210717-P_brain_MO4_MERFISH/H4M4_BIT7-8/Conv_zscan_001.power to /n/holyscratch01/zhuang_lab/puzheng/20210717-P_brain_MO4_MERFISH_renamed_data_test/Epi-750-647-561-s13_1_4.power\n",
      "copy /n/holyscratch01/zhuang_lab/puzheng/20210717-P_brain_MO4_MERFISH/H5M5_BIT9-10/Conv_zscan_001.xml to /n/holyscratch01/zhuang_lab/puzheng/20210717-P_brain_MO4_MERFISH_renamed_data_test/Epi-750-647-561-s13_1_5.xml\n",
      "copy /n/holyscratch01/zhuang_lab/puzheng/20210717-P_brain_MO4_MERFISH/H5M5_BIT9-10/Conv_zscan_001.dax to /n/holyscratch01/zhuang_lab/puzheng/20210717-P_brain_MO4_MERFISH_renamed_data_test/Epi-750-647-561-s13_1_5.dax\n"
     ]
    },
    {
     "name": "stdout",
     "output_type": "stream",
     "text": [
      "copy /n/holyscratch01/zhuang_lab/puzheng/20210717-P_brain_MO4_MERFISH/H5M5_BIT9-10/Conv_zscan_001.inf to /n/holyscratch01/zhuang_lab/puzheng/20210717-P_brain_MO4_MERFISH_renamed_data_test/Epi-750-647-561-s13_1_5.inf\n",
      "copy /n/holyscratch01/zhuang_lab/puzheng/20210717-P_brain_MO4_MERFISH/H5M5_BIT9-10/Conv_zscan_001.off to /n/holyscratch01/zhuang_lab/puzheng/20210717-P_brain_MO4_MERFISH_renamed_data_test/Epi-750-647-561-s13_1_5.off\n",
      "copy /n/holyscratch01/zhuang_lab/puzheng/20210717-P_brain_MO4_MERFISH/H5M5_BIT9-10/Conv_zscan_001.power to /n/holyscratch01/zhuang_lab/puzheng/20210717-P_brain_MO4_MERFISH_renamed_data_test/Epi-750-647-561-s13_1_5.power\n",
      "copy /n/holyscratch01/zhuang_lab/puzheng/20210717-P_brain_MO4_MERFISH/H6M6_BIT11-12/Conv_zscan_001.xml to /n/holyscratch01/zhuang_lab/puzheng/20210717-P_brain_MO4_MERFISH_renamed_data_test/Epi-750-647-561-s13_1_6.xml\n",
      "copy /n/holyscratch01/zhuang_lab/puzheng/20210717-P_brain_MO4_MERFISH/H6M6_BIT11-12/Conv_zscan_001.dax to /n/holyscratch01/zhuang_lab/puzheng/20210717-P_brain_MO4_MERFISH_renamed_data_test/Epi-750-647-561-s13_1_6.dax\n",
      "copy /n/holyscratch01/zhuang_lab/puzheng/20210717-P_brain_MO4_MERFISH/H6M6_BIT11-12/Conv_zscan_001.inf to /n/holyscratch01/zhuang_lab/puzheng/20210717-P_brain_MO4_MERFISH_renamed_data_test/Epi-750-647-561-s13_1_6.inf\n",
      "copy /n/holyscratch01/zhuang_lab/puzheng/20210717-P_brain_MO4_MERFISH/H6M6_BIT11-12/Conv_zscan_001.off to /n/holyscratch01/zhuang_lab/puzheng/20210717-P_brain_MO4_MERFISH_renamed_data_test/Epi-750-647-561-s13_1_6.off\n",
      "copy /n/holyscratch01/zhuang_lab/puzheng/20210717-P_brain_MO4_MERFISH/H6M6_BIT11-12/Conv_zscan_001.power to /n/holyscratch01/zhuang_lab/puzheng/20210717-P_brain_MO4_MERFISH_renamed_data_test/Epi-750-647-561-s13_1_6.power\n",
      "copy /n/holyscratch01/zhuang_lab/puzheng/20210717-P_brain_MO4_MERFISH/H7M7_BIT13-14/Conv_zscan_001.xml to /n/holyscratch01/zhuang_lab/puzheng/20210717-P_brain_MO4_MERFISH_renamed_data_test/Epi-750-647-561-s13_1_7.xml\n",
      "copy /n/holyscratch01/zhuang_lab/puzheng/20210717-P_brain_MO4_MERFISH/H7M7_BIT13-14/Conv_zscan_001.dax to /n/holyscratch01/zhuang_lab/puzheng/20210717-P_brain_MO4_MERFISH_renamed_data_test/Epi-750-647-561-s13_1_7.dax\n",
      "copy /n/holyscratch01/zhuang_lab/puzheng/20210717-P_brain_MO4_MERFISH/H7M7_BIT13-14/Conv_zscan_001.inf to /n/holyscratch01/zhuang_lab/puzheng/20210717-P_brain_MO4_MERFISH_renamed_data_test/Epi-750-647-561-s13_1_7.inf\n",
      "copy /n/holyscratch01/zhuang_lab/puzheng/20210717-P_brain_MO4_MERFISH/H7M7_BIT13-14/Conv_zscan_001.off to /n/holyscratch01/zhuang_lab/puzheng/20210717-P_brain_MO4_MERFISH_renamed_data_test/Epi-750-647-561-s13_1_7.off\n",
      "copy /n/holyscratch01/zhuang_lab/puzheng/20210717-P_brain_MO4_MERFISH/H7M7_BIT13-14/Conv_zscan_001.power to /n/holyscratch01/zhuang_lab/puzheng/20210717-P_brain_MO4_MERFISH_renamed_data_test/Epi-750-647-561-s13_1_7.power\n",
      "copy /n/holyscratch01/zhuang_lab/puzheng/20210717-P_brain_MO4_MERFISH/H8M8_BIT15-16/Conv_zscan_001.xml to /n/holyscratch01/zhuang_lab/puzheng/20210717-P_brain_MO4_MERFISH_renamed_data_test/Epi-750-647-561-s13_1_8.xml\n",
      "copy /n/holyscratch01/zhuang_lab/puzheng/20210717-P_brain_MO4_MERFISH/H8M8_BIT15-16/Conv_zscan_001.dax to /n/holyscratch01/zhuang_lab/puzheng/20210717-P_brain_MO4_MERFISH_renamed_data_test/Epi-750-647-561-s13_1_8.dax\n",
      "copy /n/holyscratch01/zhuang_lab/puzheng/20210717-P_brain_MO4_MERFISH/H8M8_BIT15-16/Conv_zscan_001.inf to /n/holyscratch01/zhuang_lab/puzheng/20210717-P_brain_MO4_MERFISH_renamed_data_test/Epi-750-647-561-s13_1_8.inf\n",
      "copy /n/holyscratch01/zhuang_lab/puzheng/20210717-P_brain_MO4_MERFISH/H8M8_BIT15-16/Conv_zscan_001.off to /n/holyscratch01/zhuang_lab/puzheng/20210717-P_brain_MO4_MERFISH_renamed_data_test/Epi-750-647-561-s13_1_8.off\n",
      "copy /n/holyscratch01/zhuang_lab/puzheng/20210717-P_brain_MO4_MERFISH/H8M8_BIT15-16/Conv_zscan_001.power to /n/holyscratch01/zhuang_lab/puzheng/20210717-P_brain_MO4_MERFISH_renamed_data_test/Epi-750-647-561-s13_1_8.power\n",
      "copy /n/holyscratch01/zhuang_lab/puzheng/20210717-P_brain_MO4_MERFISH/H9M9_BIT17-18/Conv_zscan_001.xml to /n/holyscratch01/zhuang_lab/puzheng/20210717-P_brain_MO4_MERFISH_renamed_data_test/Epi-750-647-561-s13_1_9.xml\n",
      "copy /n/holyscratch01/zhuang_lab/puzheng/20210717-P_brain_MO4_MERFISH/H9M9_BIT17-18/Conv_zscan_001.dax to /n/holyscratch01/zhuang_lab/puzheng/20210717-P_brain_MO4_MERFISH_renamed_data_test/Epi-750-647-561-s13_1_9.dax\n",
      "copy /n/holyscratch01/zhuang_lab/puzheng/20210717-P_brain_MO4_MERFISH/H9M9_BIT17-18/Conv_zscan_001.inf to /n/holyscratch01/zhuang_lab/puzheng/20210717-P_brain_MO4_MERFISH_renamed_data_test/Epi-750-647-561-s13_1_9.inf\n",
      "copy /n/holyscratch01/zhuang_lab/puzheng/20210717-P_brain_MO4_MERFISH/H9M9_BIT17-18/Conv_zscan_001.off to /n/holyscratch01/zhuang_lab/puzheng/20210717-P_brain_MO4_MERFISH_renamed_data_test/Epi-750-647-561-s13_1_9.off\n",
      "copy /n/holyscratch01/zhuang_lab/puzheng/20210717-P_brain_MO4_MERFISH/H9M9_BIT17-18/Conv_zscan_001.power to /n/holyscratch01/zhuang_lab/puzheng/20210717-P_brain_MO4_MERFISH_renamed_data_test/Epi-750-647-561-s13_1_9.power\n",
      "copy /n/holyscratch01/zhuang_lab/puzheng/20210717-P_brain_MO4_MERFISH/H10M10_BIT19-20/Conv_zscan_001.xml to /n/holyscratch01/zhuang_lab/puzheng/20210717-P_brain_MO4_MERFISH_renamed_data_test/Epi-750-647-561-s13_1_10.xml\n",
      "copy /n/holyscratch01/zhuang_lab/puzheng/20210717-P_brain_MO4_MERFISH/H10M10_BIT19-20/Conv_zscan_001.dax to /n/holyscratch01/zhuang_lab/puzheng/20210717-P_brain_MO4_MERFISH_renamed_data_test/Epi-750-647-561-s13_1_10.dax\n",
      "copy /n/holyscratch01/zhuang_lab/puzheng/20210717-P_brain_MO4_MERFISH/H10M10_BIT19-20/Conv_zscan_001.inf to /n/holyscratch01/zhuang_lab/puzheng/20210717-P_brain_MO4_MERFISH_renamed_data_test/Epi-750-647-561-s13_1_10.inf\n",
      "copy /n/holyscratch01/zhuang_lab/puzheng/20210717-P_brain_MO4_MERFISH/H10M10_BIT19-20/Conv_zscan_001.off to /n/holyscratch01/zhuang_lab/puzheng/20210717-P_brain_MO4_MERFISH_renamed_data_test/Epi-750-647-561-s13_1_10.off\n",
      "copy /n/holyscratch01/zhuang_lab/puzheng/20210717-P_brain_MO4_MERFISH/H10M10_BIT19-20/Conv_zscan_001.power to /n/holyscratch01/zhuang_lab/puzheng/20210717-P_brain_MO4_MERFISH_renamed_data_test/Epi-750-647-561-s13_1_10.power\n",
      "copy /n/holyscratch01/zhuang_lab/puzheng/20210717-P_brain_MO4_MERFISH/H11M11_BIT21-22/Conv_zscan_001.xml to /n/holyscratch01/zhuang_lab/puzheng/20210717-P_brain_MO4_MERFISH_renamed_data_test/Epi-750-647-561-s13_1_11.xml\n",
      "copy /n/holyscratch01/zhuang_lab/puzheng/20210717-P_brain_MO4_MERFISH/H11M11_BIT21-22/Conv_zscan_001.dax to /n/holyscratch01/zhuang_lab/puzheng/20210717-P_brain_MO4_MERFISH_renamed_data_test/Epi-750-647-561-s13_1_11.dax\n",
      "copy /n/holyscratch01/zhuang_lab/puzheng/20210717-P_brain_MO4_MERFISH/H11M11_BIT21-22/Conv_zscan_001.inf to /n/holyscratch01/zhuang_lab/puzheng/20210717-P_brain_MO4_MERFISH_renamed_data_test/Epi-750-647-561-s13_1_11.inf\n",
      "copy /n/holyscratch01/zhuang_lab/puzheng/20210717-P_brain_MO4_MERFISH/H11M11_BIT21-22/Conv_zscan_001.off to /n/holyscratch01/zhuang_lab/puzheng/20210717-P_brain_MO4_MERFISH_renamed_data_test/Epi-750-647-561-s13_1_11.off\n",
      "copy /n/holyscratch01/zhuang_lab/puzheng/20210717-P_brain_MO4_MERFISH/H11M11_BIT21-22/Conv_zscan_001.power to /n/holyscratch01/zhuang_lab/puzheng/20210717-P_brain_MO4_MERFISH_renamed_data_test/Epi-750-647-561-s13_1_11.power\n",
      "copy /n/holyscratch01/zhuang_lab/puzheng/20210717-P_brain_MO4_MERFISH/H12M12_BIT23-24/Conv_zscan_001.xml to /n/holyscratch01/zhuang_lab/puzheng/20210717-P_brain_MO4_MERFISH_renamed_data_test/Epi-750-647-561-s13_1_12.xml\n",
      "copy /n/holyscratch01/zhuang_lab/puzheng/20210717-P_brain_MO4_MERFISH/H12M12_BIT23-24/Conv_zscan_001.dax to /n/holyscratch01/zhuang_lab/puzheng/20210717-P_brain_MO4_MERFISH_renamed_data_test/Epi-750-647-561-s13_1_12.dax\n",
      "copy /n/holyscratch01/zhuang_lab/puzheng/20210717-P_brain_MO4_MERFISH/H12M12_BIT23-24/Conv_zscan_001.inf to /n/holyscratch01/zhuang_lab/puzheng/20210717-P_brain_MO4_MERFISH_renamed_data_test/Epi-750-647-561-s13_1_12.inf\n",
      "copy /n/holyscratch01/zhuang_lab/puzheng/20210717-P_brain_MO4_MERFISH/H12M12_BIT23-24/Conv_zscan_001.off to /n/holyscratch01/zhuang_lab/puzheng/20210717-P_brain_MO4_MERFISH_renamed_data_test/Epi-750-647-561-s13_1_12.off\n",
      "copy /n/holyscratch01/zhuang_lab/puzheng/20210717-P_brain_MO4_MERFISH/H12M12_BIT23-24/Conv_zscan_001.power to /n/holyscratch01/zhuang_lab/puzheng/20210717-P_brain_MO4_MERFISH_renamed_data_test/Epi-750-647-561-s13_1_12.power\n",
      "copy /n/holyscratch01/zhuang_lab/puzheng/20210717-P_brain_MO4_MERFISH/H13M13_BIT25-26/Conv_zscan_001.xml to /n/holyscratch01/zhuang_lab/puzheng/20210717-P_brain_MO4_MERFISH_renamed_data_test/Epi-750-647-561-s13_1_13.xml\n",
      "copy /n/holyscratch01/zhuang_lab/puzheng/20210717-P_brain_MO4_MERFISH/H13M13_BIT25-26/Conv_zscan_001.dax to /n/holyscratch01/zhuang_lab/puzheng/20210717-P_brain_MO4_MERFISH_renamed_data_test/Epi-750-647-561-s13_1_13.dax\n"
     ]
    },
    {
     "name": "stdout",
     "output_type": "stream",
     "text": [
      "copy /n/holyscratch01/zhuang_lab/puzheng/20210717-P_brain_MO4_MERFISH/H13M13_BIT25-26/Conv_zscan_001.inf to /n/holyscratch01/zhuang_lab/puzheng/20210717-P_brain_MO4_MERFISH_renamed_data_test/Epi-750-647-561-s13_1_13.inf\n",
      "copy /n/holyscratch01/zhuang_lab/puzheng/20210717-P_brain_MO4_MERFISH/H13M13_BIT25-26/Conv_zscan_001.off to /n/holyscratch01/zhuang_lab/puzheng/20210717-P_brain_MO4_MERFISH_renamed_data_test/Epi-750-647-561-s13_1_13.off\n",
      "copy /n/holyscratch01/zhuang_lab/puzheng/20210717-P_brain_MO4_MERFISH/H13M13_BIT25-26/Conv_zscan_001.power to /n/holyscratch01/zhuang_lab/puzheng/20210717-P_brain_MO4_MERFISH_renamed_data_test/Epi-750-647-561-s13_1_13.power\n",
      "copy /n/holyscratch01/zhuang_lab/puzheng/20210717-P_brain_MO4_MERFISH/H14M14_BIT27-28/Conv_zscan_001.xml to /n/holyscratch01/zhuang_lab/puzheng/20210717-P_brain_MO4_MERFISH_renamed_data_test/Epi-750-647-561-s13_1_14.xml\n",
      "copy /n/holyscratch01/zhuang_lab/puzheng/20210717-P_brain_MO4_MERFISH/H14M14_BIT27-28/Conv_zscan_001.dax to /n/holyscratch01/zhuang_lab/puzheng/20210717-P_brain_MO4_MERFISH_renamed_data_test/Epi-750-647-561-s13_1_14.dax\n",
      "copy /n/holyscratch01/zhuang_lab/puzheng/20210717-P_brain_MO4_MERFISH/H14M14_BIT27-28/Conv_zscan_001.inf to /n/holyscratch01/zhuang_lab/puzheng/20210717-P_brain_MO4_MERFISH_renamed_data_test/Epi-750-647-561-s13_1_14.inf\n",
      "copy /n/holyscratch01/zhuang_lab/puzheng/20210717-P_brain_MO4_MERFISH/H14M14_BIT27-28/Conv_zscan_001.off to /n/holyscratch01/zhuang_lab/puzheng/20210717-P_brain_MO4_MERFISH_renamed_data_test/Epi-750-647-561-s13_1_14.off\n",
      "copy /n/holyscratch01/zhuang_lab/puzheng/20210717-P_brain_MO4_MERFISH/H14M14_BIT27-28/Conv_zscan_001.power to /n/holyscratch01/zhuang_lab/puzheng/20210717-P_brain_MO4_MERFISH_renamed_data_test/Epi-750-647-561-s13_1_14.power\n",
      "copy /n/holyscratch01/zhuang_lab/puzheng/20210717-P_brain_MO4_MERFISH/H15M15_BIT29-30/Conv_zscan_001.xml to /n/holyscratch01/zhuang_lab/puzheng/20210717-P_brain_MO4_MERFISH_renamed_data_test/Epi-750-647-561-s13_1_15.xml\n",
      "copy /n/holyscratch01/zhuang_lab/puzheng/20210717-P_brain_MO4_MERFISH/H15M15_BIT29-30/Conv_zscan_001.dax to /n/holyscratch01/zhuang_lab/puzheng/20210717-P_brain_MO4_MERFISH_renamed_data_test/Epi-750-647-561-s13_1_15.dax\n",
      "copy /n/holyscratch01/zhuang_lab/puzheng/20210717-P_brain_MO4_MERFISH/H15M15_BIT29-30/Conv_zscan_001.inf to /n/holyscratch01/zhuang_lab/puzheng/20210717-P_brain_MO4_MERFISH_renamed_data_test/Epi-750-647-561-s13_1_15.inf\n",
      "copy /n/holyscratch01/zhuang_lab/puzheng/20210717-P_brain_MO4_MERFISH/H15M15_BIT29-30/Conv_zscan_001.off to /n/holyscratch01/zhuang_lab/puzheng/20210717-P_brain_MO4_MERFISH_renamed_data_test/Epi-750-647-561-s13_1_15.off\n",
      "copy /n/holyscratch01/zhuang_lab/puzheng/20210717-P_brain_MO4_MERFISH/H15M15_BIT29-30/Conv_zscan_001.power to /n/holyscratch01/zhuang_lab/puzheng/20210717-P_brain_MO4_MERFISH_renamed_data_test/Epi-750-647-561-s13_1_15.power\n",
      "copy /n/holyscratch01/zhuang_lab/puzheng/20210717-P_brain_MO4_MERFISH/H16M16_BIT31-32/Conv_zscan_001.xml to /n/holyscratch01/zhuang_lab/puzheng/20210717-P_brain_MO4_MERFISH_renamed_data_test/Epi-750-647-561-s13_1_16.xml\n",
      "copy /n/holyscratch01/zhuang_lab/puzheng/20210717-P_brain_MO4_MERFISH/H16M16_BIT31-32/Conv_zscan_001.dax to /n/holyscratch01/zhuang_lab/puzheng/20210717-P_brain_MO4_MERFISH_renamed_data_test/Epi-750-647-561-s13_1_16.dax\n",
      "copy /n/holyscratch01/zhuang_lab/puzheng/20210717-P_brain_MO4_MERFISH/H16M16_BIT31-32/Conv_zscan_001.inf to /n/holyscratch01/zhuang_lab/puzheng/20210717-P_brain_MO4_MERFISH_renamed_data_test/Epi-750-647-561-s13_1_16.inf\n",
      "copy /n/holyscratch01/zhuang_lab/puzheng/20210717-P_brain_MO4_MERFISH/H16M16_BIT31-32/Conv_zscan_001.off to /n/holyscratch01/zhuang_lab/puzheng/20210717-P_brain_MO4_MERFISH_renamed_data_test/Epi-750-647-561-s13_1_16.off\n",
      "copy /n/holyscratch01/zhuang_lab/puzheng/20210717-P_brain_MO4_MERFISH/H16M16_BIT31-32/Conv_zscan_001.power to /n/holyscratch01/zhuang_lab/puzheng/20210717-P_brain_MO4_MERFISH_renamed_data_test/Epi-750-647-561-s13_1_16.power\n",
      "copy /n/holyscratch01/zhuang_lab/puzheng/20210717-P_brain_MO4_MERFISH/H17M17_BIT33-34/Conv_zscan_001.xml to /n/holyscratch01/zhuang_lab/puzheng/20210717-P_brain_MO4_MERFISH_renamed_data_test/Epi-750-647-561-s13_1_17.xml\n",
      "copy /n/holyscratch01/zhuang_lab/puzheng/20210717-P_brain_MO4_MERFISH/H17M17_BIT33-34/Conv_zscan_001.dax to /n/holyscratch01/zhuang_lab/puzheng/20210717-P_brain_MO4_MERFISH_renamed_data_test/Epi-750-647-561-s13_1_17.dax\n",
      "copy /n/holyscratch01/zhuang_lab/puzheng/20210717-P_brain_MO4_MERFISH/H17M17_BIT33-34/Conv_zscan_001.inf to /n/holyscratch01/zhuang_lab/puzheng/20210717-P_brain_MO4_MERFISH_renamed_data_test/Epi-750-647-561-s13_1_17.inf\n",
      "copy /n/holyscratch01/zhuang_lab/puzheng/20210717-P_brain_MO4_MERFISH/H17M17_BIT33-34/Conv_zscan_001.off to /n/holyscratch01/zhuang_lab/puzheng/20210717-P_brain_MO4_MERFISH_renamed_data_test/Epi-750-647-561-s13_1_17.off\n",
      "copy /n/holyscratch01/zhuang_lab/puzheng/20210717-P_brain_MO4_MERFISH/H17M17_BIT33-34/Conv_zscan_001.power to /n/holyscratch01/zhuang_lab/puzheng/20210717-P_brain_MO4_MERFISH_renamed_data_test/Epi-750-647-561-s13_1_17.power\n",
      "copy /n/holyscratch01/zhuang_lab/puzheng/20210717-P_brain_MO4_MERFISH/H18M18_BIT35-36/Conv_zscan_001.xml to /n/holyscratch01/zhuang_lab/puzheng/20210717-P_brain_MO4_MERFISH_renamed_data_test/Epi-750-647-561-s13_1_18.xml\n",
      "copy /n/holyscratch01/zhuang_lab/puzheng/20210717-P_brain_MO4_MERFISH/H18M18_BIT35-36/Conv_zscan_001.dax to /n/holyscratch01/zhuang_lab/puzheng/20210717-P_brain_MO4_MERFISH_renamed_data_test/Epi-750-647-561-s13_1_18.dax\n",
      "copy /n/holyscratch01/zhuang_lab/puzheng/20210717-P_brain_MO4_MERFISH/H18M18_BIT35-36/Conv_zscan_001.inf to /n/holyscratch01/zhuang_lab/puzheng/20210717-P_brain_MO4_MERFISH_renamed_data_test/Epi-750-647-561-s13_1_18.inf\n",
      "copy /n/holyscratch01/zhuang_lab/puzheng/20210717-P_brain_MO4_MERFISH/H18M18_BIT35-36/Conv_zscan_001.off to /n/holyscratch01/zhuang_lab/puzheng/20210717-P_brain_MO4_MERFISH_renamed_data_test/Epi-750-647-561-s13_1_18.off\n",
      "copy /n/holyscratch01/zhuang_lab/puzheng/20210717-P_brain_MO4_MERFISH/H18M18_BIT35-36/Conv_zscan_001.power to /n/holyscratch01/zhuang_lab/puzheng/20210717-P_brain_MO4_MERFISH_renamed_data_test/Epi-750-647-561-s13_1_18.power\n",
      "copy /n/holyscratch01/zhuang_lab/puzheng/20210717-P_brain_MO4_MERFISH/H19M19_BIT37-38/Conv_zscan_001.xml to /n/holyscratch01/zhuang_lab/puzheng/20210717-P_brain_MO4_MERFISH_renamed_data_test/Epi-750-647-561-s13_1_19.xml\n",
      "copy /n/holyscratch01/zhuang_lab/puzheng/20210717-P_brain_MO4_MERFISH/H19M19_BIT37-38/Conv_zscan_001.dax to /n/holyscratch01/zhuang_lab/puzheng/20210717-P_brain_MO4_MERFISH_renamed_data_test/Epi-750-647-561-s13_1_19.dax\n",
      "copy /n/holyscratch01/zhuang_lab/puzheng/20210717-P_brain_MO4_MERFISH/H19M19_BIT37-38/Conv_zscan_001.inf to /n/holyscratch01/zhuang_lab/puzheng/20210717-P_brain_MO4_MERFISH_renamed_data_test/Epi-750-647-561-s13_1_19.inf\n",
      "copy /n/holyscratch01/zhuang_lab/puzheng/20210717-P_brain_MO4_MERFISH/H19M19_BIT37-38/Conv_zscan_001.off to /n/holyscratch01/zhuang_lab/puzheng/20210717-P_brain_MO4_MERFISH_renamed_data_test/Epi-750-647-561-s13_1_19.off\n",
      "copy /n/holyscratch01/zhuang_lab/puzheng/20210717-P_brain_MO4_MERFISH/H19M19_BIT37-38/Conv_zscan_001.power to /n/holyscratch01/zhuang_lab/puzheng/20210717-P_brain_MO4_MERFISH_renamed_data_test/Epi-750-647-561-s13_1_19.power\n"
     ]
    }
   ],
   "source": [
    "#fov_ids = np.arange(len(fovs))\n",
    "fov_ids = np.arange(2)\n",
    "overwrite = False\n",
    "remove_source=False\n",
    "\n",
    "for _fov_id in fov_ids:\n",
    "    # files\n",
    "    for _fd in fds[:]:\n",
    "        _files = [os.path.join(_fd, _fl) for _fl in os.listdir(_fd) if fovs[_fov_id].split(os.extsep)[0] in _fl]\n",
    "        _round = int(os.path.basename(_fd).split('H')[1].split('M')[0])\n",
    "        if _round == 0:\n",
    "            _image_type = ref_image_type\n",
    "        else:\n",
    "            _image_type = image_type\n",
    "        _target_files = [os.path.join(target_folder, f\"{_image_type}_{_fov_id}_{_round}{os.extsep}{_fl.split(os.extsep)[-1]}\") \n",
    "                         for _fl in _files]\n",
    "        for _fl, _tar_fl in zip(_files, _target_files):\n",
    "            if remove_source:\n",
    "                print(f\"move {_fl} to {_tar_fl}\")\n",
    "                shutil.move(_fl, _tar_fl)\n",
    "            else:\n",
    "                if not os.path.isfile(_tar_fl) or overwrite:\n",
    "                    print(f\"copy {_fl} to {_tar_fl}\")\n",
    "                    shutil.copyfile(_fl, _tar_fl)\n",
    "                else:\n",
    "                    print(f\"{_tar_fl} already exist, skip\")"
   ]
  },
  {
   "cell_type": "code",
   "execution_count": 15,
   "id": "c9db508e",
   "metadata": {},
   "outputs": [],
   "source": [
    "import re"
   ]
  },
  {
   "cell_type": "code",
   "execution_count": 23,
   "id": "d483e4cf",
   "metadata": {},
   "outputs": [],
   "source": [
    "file_result = re.search(r'(?P<imageType>[\\w|-]+)_(?P<fov>[0-9]+)_(?P<imagingRound>[0-9]+)', _target_files[0])"
   ]
  },
  {
   "cell_type": "code",
   "execution_count": 32,
   "id": "2615f907",
   "metadata": {},
   "outputs": [
    {
     "data": {
      "text/plain": [
       "'Epi-750-647-488-s50'"
      ]
     },
     "execution_count": 32,
     "metadata": {},
     "output_type": "execute_result"
    }
   ],
   "source": [
    "file_result.group('imageType')"
   ]
  },
  {
   "cell_type": "code",
   "execution_count": null,
   "id": "6c64079b",
   "metadata": {},
   "outputs": [],
   "source": [
    "0. 1. 2. 3. 4. 5. 6. 7. 8. 9.\n"
   ]
  },
  {
   "cell_type": "code",
   "execution_count": null,
   "id": "4165d81c",
   "metadata": {},
   "outputs": [],
   "source": [
    "19 34 49 64 79 94 109 124 139 154\n"
   ]
  },
  {
   "cell_type": "code",
   "execution_count": null,
   "id": "62f0dd1f",
   "metadata": {},
   "outputs": [],
   "source": [
    "20 35 50 65 80 95 110 125 140 155\n"
   ]
  },
  {
   "cell_type": "code",
   "execution_count": null,
   "id": "5b4fd60e",
   "metadata": {},
   "outputs": [],
   "source": [
    "23 43 63 83 103 123 143 163 183 203\n"
   ]
  },
  {
   "cell_type": "code",
   "execution_count": null,
   "id": "78236073",
   "metadata": {},
   "outputs": [],
   "source": [
    "24 44 64 84 104 124 144 164 184 204\n"
   ]
  }
 ],
 "metadata": {
  "kernelspec": {
   "display_name": "Python 3",
   "language": "python",
   "name": "python3"
  },
  "language_info": {
   "codemirror_mode": {
    "name": "ipython",
    "version": 3
   },
   "file_extension": ".py",
   "mimetype": "text/x-python",
   "name": "python",
   "nbconvert_exporter": "python",
   "pygments_lexer": "ipython3",
   "version": "3.6.10"
  }
 },
 "nbformat": 4,
 "nbformat_minor": 5
}
