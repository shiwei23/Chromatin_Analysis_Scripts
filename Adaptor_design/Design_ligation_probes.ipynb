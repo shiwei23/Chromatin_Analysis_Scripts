{
 "cells": [
  {
   "cell_type": "markdown",
   "metadata": {},
   "source": [
    "# Design ligation probes and branch-tree amplification\n",
    "\n",
    "by Pu Zheng\n",
    "\n",
    "2020.1.11"
   ]
  },
  {
   "cell_type": "code",
   "execution_count": 1,
   "metadata": {},
   "outputs": [
    {
     "name": "stdout",
     "output_type": "stream",
     "text": [
      "3120\n"
     ]
    }
   ],
   "source": [
    "%run \"E:\\Users\\puzheng\\Documents\\Startup_py3.py\"\n",
    "sys.path.append(r\"E:\\Users\\puzheng\\Documents\")\n",
    "\n",
    "import ImageAnalysis3 as ia\n",
    "%matplotlib notebook\n",
    "\n",
    "from ImageAnalysis3 import *\n",
    "print(os.getpid())"
   ]
  },
  {
   "cell_type": "code",
   "execution_count": 2,
   "metadata": {},
   "outputs": [],
   "source": [
    "# biopython imports\n",
    "from Bio import SeqIO\n",
    "from Bio.Seq import Seq\n",
    "from Bio.Alphabet import IUPAC\n",
    "from Bio.SeqRecord import SeqRecord\n",
    "from Bio.Blast.Applications import NcbiblastnCommandline\n",
    "from Bio.Blast import NCBIXML"
   ]
  },
  {
   "cell_type": "code",
   "execution_count": 3,
   "metadata": {},
   "outputs": [
    {
     "name": "stdout",
     "output_type": "stream",
     "text": [
      "- Picked primer: ID: W1A03_primer_2\n",
      "Name: W1A03_primer_2\n",
      "Description: W1A03_primer_2\n",
      "Number of features: 0\n",
      "Seq('CCCGCAATGGCTGACAACCG', SingleLetterAlphabet())\n",
      "- Picked primer: ID: W1A10_primer_9\n",
      "Name: W1A10_primer_9\n",
      "Description: W1A10_primer_9\n",
      "Number of features: 0\n",
      "Seq('TAATACGACTCACTATAGGGATTGCCGCATGGTTTCCG', SingleLetterAlphabet())\n"
     ]
    }
   ],
   "source": [
    "primer_folder = r'\\\\10.245.74.212\\Chromatin_NAS_2\\Libraries\\Primers'\n",
    "primers = library_tools.probes.load_primers([2,9], _primer_folder=primer_folder)"
   ]
  },
  {
   "cell_type": "code",
   "execution_count": 9,
   "metadata": {},
   "outputs": [
    {
     "data": {
      "text/plain": [
       "SeqRecord(seq=Seq('CCCGCAATGGCTGACAACCG', SingleLetterAlphabet()), id='W1A03_primer_2', name='W1A03_primer_2', description='W1A03_primer_2', dbxrefs=[])"
      ]
     },
     "execution_count": 9,
     "metadata": {},
     "output_type": "execute_result"
    }
   ],
   "source": [
    "# ligation probe\n",
    "primers[0]\n"
   ]
  },
  {
   "cell_type": "code",
   "execution_count": 16,
   "metadata": {},
   "outputs": [],
   "source": [
    "ligation_probe = primers[0].reverse_complement() + primers[1][-20:]\n",
    "ligation_probe.id = f'{primers[0].id}-rc_{primers[1].id}'"
   ]
  },
  {
   "cell_type": "code",
   "execution_count": 17,
   "metadata": {},
   "outputs": [
    {
     "name": "stdout",
     "output_type": "stream",
     "text": [
      "ID: W1A03_primer_2-rc_W1A10_primer_9\n",
      "Name: <unknown name>\n",
      "Description: <unknown description>\n",
      "Number of features: 0\n",
      "Seq('CGGTTGTCAGCCATTGCGGGGGATTGCCGCATGGTTTCCG', SingleLetterAlphabet())\n"
     ]
    }
   ],
   "source": []
  },
  {
   "cell_type": "code",
   "execution_count": null,
   "metadata": {},
   "outputs": [],
   "source": []
  }
 ],
 "metadata": {
  "kernelspec": {
   "display_name": "Python 3",
   "language": "python",
   "name": "python3"
  },
  "language_info": {
   "codemirror_mode": {
    "name": "ipython",
    "version": 3
   },
   "file_extension": ".py",
   "mimetype": "text/x-python",
   "name": "python",
   "nbconvert_exporter": "python",
   "pygments_lexer": "ipython3",
   "version": "3.7.3"
  }
 },
 "nbformat": 4,
 "nbformat_minor": 4
}
