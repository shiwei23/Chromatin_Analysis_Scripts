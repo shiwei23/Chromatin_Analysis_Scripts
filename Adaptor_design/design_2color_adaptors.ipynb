{
 "cells": [
  {
   "cell_type": "code",
   "execution_count": 1,
   "id": "voluntary-cherry",
   "metadata": {},
   "outputs": [
    {
     "name": "stdout",
     "output_type": "stream",
     "text": [
      "22696\n"
     ]
    }
   ],
   "source": [
    "%run \"..\\Startup_py3.py\"\n",
    "sys.path.append(r\"..\\..\\..\\Documents\")\n",
    "\n",
    "import ImageAnalysis3 as ia\n",
    "%matplotlib notebook\n",
    "\n",
    "from ImageAnalysis3 import *\n",
    "print(os.getpid())\n",
    "\n",
    "# other required parameters\n",
    "from ImageAnalysis3.classes import _allowed_kwds"
   ]
  },
  {
   "cell_type": "code",
   "execution_count": 2,
   "id": "suspected-nightlife",
   "metadata": {},
   "outputs": [],
   "source": [
    "# biopython imports\n",
    "from Bio import SeqIO\n",
    "from Bio.Seq import Seq\n",
    "from Bio.SeqRecord import SeqRecord\n",
    "from Bio.Blast.Applications import NcbiblastnCommandline\n",
    "from Bio.Blast import NCBIXML"
   ]
  },
  {
   "cell_type": "markdown",
   "id": "focused-jesus",
   "metadata": {},
   "source": [
    "## load all adaptors"
   ]
  },
  {
   "cell_type": "code",
   "execution_count": 3,
   "id": "laden-recording",
   "metadata": {},
   "outputs": [
    {
     "name": "stdout",
     "output_type": "stream",
     "text": [
      "loading 3 fasta files\n",
      "- loading from file: \\\\10.245.74.212\\Chromatin_NAS_2\\Libraries\\Adaptors\\20200121_extend_stv_adaptors.fasta\n",
      "- loading from file: \\\\10.245.74.212\\Chromatin_NAS_2\\Libraries\\Adaptors\\NDB_adaptors.fasta\n",
      "- loading from file: \\\\10.245.74.212\\Chromatin_NAS_2\\Libraries\\Adaptors\\Stv_adaptors.fasta\n"
     ]
    }
   ],
   "source": [
    "# find adaptors\n",
    "reload(library_tools.sequences)\n",
    "#library_tools.sequences.fasta_reader()\n",
    "\n",
    "adaptor_folder = r'\\\\10.245.74.212\\Chromatin_NAS_2\\Libraries\\Adaptors'\n",
    "adaptor_files = [os.path.join(adaptor_folder, _fl) for _fl in os.listdir(adaptor_folder) \n",
    "                 if _fl.split(os.extsep)[-1]=='fasta' and _fl.split(os.extsep)[-2][-9:] == '_adaptors']\n",
    "adaptors = library_tools.sequences.fasta_reader(adaptor_files, True).load()"
   ]
  },
  {
   "cell_type": "code",
   "execution_count": 10,
   "id": "developing-behavior",
   "metadata": {},
   "outputs": [
    {
     "data": {
      "text/plain": [
       "['20200121_extend_stv_adaptors.csv',\n",
       " '20200121_extend_stv_adaptors.fasta',\n",
       " '20210203_adaptor_telomere.fasta',\n",
       " 'CTP-08_swap_cy3_adaptor.csv',\n",
       " 'NDB_adaptor.csv',\n",
       " 'NDB_adaptors.fasta',\n",
       " 'Readout_sites.fasta',\n",
       " 'Stv_adaptor.csv',\n",
       " 'Stv_adaptors.fasta']"
      ]
     },
     "execution_count": 10,
     "metadata": {},
     "output_type": "execute_result"
    }
   ],
   "source": [
    "os.listdir(adaptor_folder)"
   ]
  },
  {
   "cell_type": "code",
   "execution_count": 14,
   "id": "introductory-triumph",
   "metadata": {},
   "outputs": [
    {
     "name": "stdout",
     "output_type": "stream",
     "text": [
      "loading 1 fasta files\n",
      "- loading from file: \\\\10.245.74.212\\Chromatin_NAS_2\\Libraries\\Adaptors\\Readout_sites.fasta\n"
     ]
    }
   ],
   "source": [
    "common_rd_file = os.path.join(adaptor_folder, 'Readout_sites.fasta')\n",
    "common_rd_sites = library_tools.sequences.fasta_reader(common_rd_file, True).load()"
   ]
  },
  {
   "cell_type": "code",
   "execution_count": 15,
   "id": "related-satin",
   "metadata": {},
   "outputs": [
    {
     "data": {
      "text/plain": [
       "[SeqRecord(seq=Seq('TTTGCACTGCCGTCCTTGAC'), id='Stv_82rc', name='Stv_82rc', description='Stv_82rc cy7 rev-com_last20', dbxrefs=[]),\n",
       " SeqRecord(seq=Seq('GATCCGATTGGAACCGTCCC'), id='Stv_1rc', name='Stv_1rc', description='Stv_1rc cy5 rev-com_last20', dbxrefs=[]),\n",
       " SeqRecord(seq=Seq('TGCGAACTGTCCGGCTTTCA'), id='Stv_79rc', name='Stv_79rc', description='Stv_79rc cy3 rev-com_last20', dbxrefs=[])]"
      ]
     },
     "execution_count": 15,
     "metadata": {},
     "output_type": "execute_result"
    }
   ],
   "source": [
    "common_rd_sites"
   ]
  },
  {
   "cell_type": "code",
   "execution_count": 4,
   "id": "previous-cruise",
   "metadata": {},
   "outputs": [
    {
     "data": {
      "text/plain": [
       "1364"
      ]
     },
     "execution_count": 4,
     "metadata": {},
     "output_type": "execute_result"
    }
   ],
   "source": [
    "len(adaptors)"
   ]
  },
  {
   "cell_type": "code",
   "execution_count": 19,
   "id": "shaped-chicken",
   "metadata": {},
   "outputs": [],
   "source": [
    "twocolor_adaptors = []\n",
    "for _adaptor in adaptors:\n",
    "    if \"Stv\" == _adaptor.id[:3] and ('Stv_82' in _adaptor.id or 'Stv_1' in _adaptor.id.split('2x')[1]):\n",
    "        _rd_site = _adaptor.seq[:20]\n",
    "        _seq = _rd_site+common_rd_sites[0].seq+common_rd_sites[1].seq\n",
    "        _name = '_'.join([_adaptor.id.split('_2x')[0], common_rd_sites[0].id, common_rd_sites[1].id])\n",
    "        _twocolor_adt = SeqRecord(_seq, id=_name, name='', description='')\n",
    "        twocolor_adaptors.append(_twocolor_adt)"
   ]
  },
  {
   "cell_type": "code",
   "execution_count": 21,
   "id": "modern-applicant",
   "metadata": {},
   "outputs": [],
   "source": [
    "# generate csv file to order in IDT\n",
    "import csv\n",
    "\n",
    "with open(os.path.join(adaptor_folder, f'2color_Stv_adaptors.csv'), 'w') as csvfile:\n",
    "    csvwriter = csv.writer(csvfile, delimiter=',', lineterminator='\\n',\n",
    "                       quotechar='|', quoting=csv.QUOTE_MINIMAL)\n",
    "    # write header\n",
    "    _header = ['Name', 'Sequence', 'Scale', 'Purification']\n",
    "    csvwriter.writerow(_header)\n",
    "    # write sequence\n",
    "    for _adaptor in twocolor_adaptors:\n",
    "        _info = [_adaptor.id, str(_adaptor.seq), '25nm', 'STD']\n",
    "        csvwriter.writerow(_info)"
   ]
  },
  {
   "cell_type": "code",
   "execution_count": 8,
   "id": "liable-adjustment",
   "metadata": {},
   "outputs": [],
   "source": [
    "\n",
    "adaptor_folder = r'\\\\10.245.74.212\\Chromatin_NAS_2\\Libraries\\Adaptors'\n",
    "\n",
    "stv_adaptors = []\n",
    "\n",
    "with open(os.path.join(adaptor_folder, 'Stv_adaptors.fasta'), 'r') as _rd_handle:\n",
    "    for _adaptor in SeqIO.parse(_rd_handle, \"fasta\"):\n",
    "        stv_adaptors.append(_adaptor)\n"
   ]
  },
  {
   "cell_type": "code",
   "execution_count": 13,
   "id": "mental-scratch",
   "metadata": {},
   "outputs": [
    {
     "data": {
      "text/plain": [
       "SeqRecord(seq=Seq('GTCAAGGACGGCAGTGCAAACCCATGATCGTCCGATCTGG'), id='<unknown id>', name='<unknown name>', description='<unknown description>', dbxrefs=[])"
      ]
     },
     "execution_count": 13,
     "metadata": {},
     "output_type": "execute_result"
    }
   ],
   "source": [
    "stv_adaptors[0][:-20].reverse_complement()"
   ]
  },
  {
   "cell_type": "code",
   "execution_count": 14,
   "id": "returning-geneva",
   "metadata": {},
   "outputs": [
    {
     "data": {
      "text/plain": [
       "'Stv_3_2xStv_82'"
      ]
     },
     "execution_count": 14,
     "metadata": {},
     "output_type": "execute_result"
    }
   ],
   "source": [
    "stv_adaptors[0].id"
   ]
  },
  {
   "cell_type": "code",
   "execution_count": 15,
   "id": "dated-current",
   "metadata": {},
   "outputs": [
    {
     "data": {
      "text/plain": [
       "SeqRecord(seq=Seq('GGGACGGTTCCAATCGGATCCGAAGTACGCGGTACGAACG'), id='<unknown id>', name='<unknown name>', description='<unknown description>', dbxrefs=[])"
      ]
     },
     "execution_count": 15,
     "metadata": {},
     "output_type": "execute_result"
    }
   ],
   "source": [
    "stv_adaptors[25][:-20].reverse_complement()"
   ]
  },
  {
   "cell_type": "code",
   "execution_count": 16,
   "id": "contained-context",
   "metadata": {},
   "outputs": [
    {
     "data": {
      "text/plain": [
       "'Stv_32_2xStv_1'"
      ]
     },
     "execution_count": 16,
     "metadata": {},
     "output_type": "execute_result"
    }
   ],
   "source": [
    "stv_adaptors[25].id"
   ]
  },
  {
   "cell_type": "code",
   "execution_count": null,
   "id": "steady-fitness",
   "metadata": {},
   "outputs": [],
   "source": []
  }
 ],
 "metadata": {
  "kernelspec": {
   "display_name": "Python 3",
   "language": "python",
   "name": "python3"
  },
  "language_info": {
   "codemirror_mode": {
    "name": "ipython",
    "version": 3
   },
   "file_extension": ".py",
   "mimetype": "text/x-python",
   "name": "python",
   "nbconvert_exporter": "python",
   "pygments_lexer": "ipython3",
   "version": "3.7.9"
  }
 },
 "nbformat": 4,
 "nbformat_minor": 5
}
