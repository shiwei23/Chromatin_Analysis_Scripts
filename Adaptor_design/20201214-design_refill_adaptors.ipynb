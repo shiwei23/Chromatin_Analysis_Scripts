{
 "cells": [
  {
   "cell_type": "markdown",
   "metadata": {},
   "source": [
    "# run through existing readouts and design adaptors"
   ]
  },
  {
   "cell_type": "code",
   "execution_count": 1,
   "metadata": {},
   "outputs": [
    {
     "name": "stdout",
     "output_type": "stream",
     "text": [
      "26336\n"
     ]
    }
   ],
   "source": [
    "%run \"E:\\Users\\puzheng\\Documents\\Startup_py3.py\"\n",
    "sys.path.append(r\"E:\\Users\\puzheng\\Documents\")\n",
    "\n",
    "import ImageAnalysis3 as ia\n",
    "%matplotlib notebook\n",
    "\n",
    "from ImageAnalysis3 import *\n",
    "print(os.getpid())"
   ]
  },
  {
   "cell_type": "code",
   "execution_count": 2,
   "metadata": {},
   "outputs": [],
   "source": [
    "# biopython imports\n",
    "from Bio import SeqIO\n",
    "from Bio.Seq import Seq\n",
    "from Bio.Alphabet import IUPAC\n",
    "from Bio.SeqRecord import SeqRecord\n",
    "from Bio.Blast.Applications import NcbiblastnCommandline\n",
    "from Bio.Blast import NCBIXML"
   ]
  },
  {
   "cell_type": "markdown",
   "metadata": {},
   "source": [
    "# Load readouts"
   ]
  },
  {
   "cell_type": "code",
   "execution_count": 4,
   "metadata": {},
   "outputs": [],
   "source": [
    "readout_folder = r'\\\\10.245.74.212\\Chromatin_NAS_2\\Libraries\\Readouts'\n",
    "ref_files = [_fl for _fl in os.listdir(readout_folder) if 'designed_readouts' in _fl]\n",
    "\n",
    "ref_readout_dict = {}\n",
    "ref_readout_record_dict = {}\n",
    "for _fl in ref_files:\n",
    "    _channel = int(_fl.split('designed_readouts_')[1].split('.fasta')[0])\n",
    "    _ref_readout_names = []\n",
    "    _ref_readout_records = []\n",
    "    with open(os.path.join(readout_folder, _fl), 'r') as _rd_handle:\n",
    "        for _readout in SeqIO.parse(_rd_handle, \"fasta\"):\n",
    "            _ref_readout_names.append(_readout.id)\n",
    "            _ref_readout_records.append(_readout)\n",
    "    ref_readout_dict[_channel] = _ref_readout_names\n",
    "    ref_readout_record_dict[_channel] = _ref_readout_records"
   ]
  },
  {
   "cell_type": "code",
   "execution_count": null,
   "metadata": {},
   "outputs": [],
   "source": []
  }
 ],
 "metadata": {
  "kernelspec": {
   "display_name": "Python 3",
   "language": "python",
   "name": "python3"
  },
  "language_info": {
   "codemirror_mode": {
    "name": "ipython",
    "version": 3
   },
   "file_extension": ".py",
   "mimetype": "text/x-python",
   "name": "python",
   "nbconvert_exporter": "python",
   "pygments_lexer": "ipython3",
   "version": "3.7.3"
  }
 },
 "nbformat": 4,
 "nbformat_minor": 4
}
