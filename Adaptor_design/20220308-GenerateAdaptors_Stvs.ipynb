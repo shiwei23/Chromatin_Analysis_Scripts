{
 "cells": [
  {
   "cell_type": "code",
   "execution_count": 1,
   "metadata": {},
   "outputs": [
    {
     "name": "stdout",
     "output_type": "stream",
     "text": [
      "56792\n"
     ]
    }
   ],
   "source": [
    "%run \"E:\\Users\\puzheng\\Documents\\Startup_py3.py\"\n",
    "sys.path.append(r\"E:\\Users\\puzheng\\Documents\")\n",
    "\n",
    "import ImageAnalysis3 as ia\n",
    "%matplotlib notebook\n",
    "\n",
    "from ImageAnalysis3 import *\n",
    "print(os.getpid())"
   ]
  },
  {
   "cell_type": "code",
   "execution_count": 2,
   "metadata": {},
   "outputs": [],
   "source": [
    "# biopython imports\n",
    "from Bio import SeqIO\n",
    "from Bio.Seq import Seq\n",
    "from Bio.SeqRecord import SeqRecord\n",
    "from Bio.Blast.Applications import NcbiblastnCommandline"
   ]
  },
  {
   "cell_type": "markdown",
   "metadata": {},
   "source": [
    "## load readout sites"
   ]
  },
  {
   "cell_type": "code",
   "execution_count": 10,
   "metadata": {},
   "outputs": [
    {
     "name": "stdout",
     "output_type": "stream",
     "text": [
      "{'750': SeqRecord(seq=Seq('TTTGCACTGCCGTCCTTGAC'), id='Stv_82rc', name='Stv_82rc', description='Stv_82rc cy7 rev-com_last20', dbxrefs=[]), '647': SeqRecord(seq=Seq('GATCCGATTGGAACCGTCCC'), id='Stv_1rc', name='Stv_1rc', description='Stv_1rc cy5 rev-com_last20', dbxrefs=[]), '561': SeqRecord(seq=Seq('TGCGAACTGTCCGGCTTTCA'), id='Stv_79rc', name='Stv_79rc', description='Stv_79rc cy3 rev-com_last20', dbxrefs=[])}\n"
     ]
    }
   ],
   "source": [
    "library_folder = r'\\\\10.245.74.212\\Chromatin_NAS_2\\Chromatin_Libraries'\n",
    "\n",
    "# load readout sites\n",
    "adaptor_folder = os.path.join(library_folder, 'Adaptors')\n",
    "readout_site_file = os.path.join(adaptor_folder, 'Readout_sites.fasta')\n",
    "readout_sites = []\n",
    "readout_site_dict = {}\n",
    "readout_channels = ['750', '647', '561']\n",
    "\n",
    "with open(readout_site_file, 'r') as _rd_handle:\n",
    "    for _i, _readout in enumerate(SeqIO.parse(_rd_handle, \"fasta\")):\n",
    "        readout_sites.append(_readout)\n",
    "        readout_site_dict[readout_channels[_i]] = _readout\n",
    "\n",
    "print(readout_site_dict)"
   ]
  },
  {
   "cell_type": "markdown",
   "metadata": {},
   "source": [
    "# 1. Gerate adaptors for sequential bits"
   ]
  },
  {
   "cell_type": "code",
   "execution_count": 8,
   "metadata": {},
   "outputs": [],
   "source": [
    "# load readout usage for ctp-11\n",
    "ctp12_usage_fl = r'\\\\10.245.74.212\\Chromatin_NAS_2\\Chromatin_Libraries\\CTP-12_mop_markers\\marker_gene_TSS\\readout_usage.pkl'\n",
    "ctp12_usage = pickle.load(open(ctp12_usage_fl, 'rb'))\n",
    "sel_ctp12_readouts = ctp12_usage['u'][:]"
   ]
  },
  {
   "cell_type": "code",
   "execution_count": 9,
   "metadata": {
    "scrolled": true
   },
   "outputs": [
    {
     "data": {
      "text/plain": [
       "[SeqRecord(seq=Seq('TTCCCGCCAATGACGTCGGTTTGGACGAGA'), id='Stv_91', name='Stv_91', description='Stv_91 old_barcode', dbxrefs=[]),\n",
       " SeqRecord(seq=Seq('AGACGACGCACGTTCGTACCGCGTACTTCG'), id='Stv_32', name='Stv_32', description='Stv_32 old_barcode', dbxrefs=[]),\n",
       " SeqRecord(seq=Seq('GCGTTGATGTCCCTTGTGAGCGCCCGACAT'), id='Stv_92', name='Stv_92', description='Stv_92 old_barcode', dbxrefs=[]),\n",
       " SeqRecord(seq=Seq('TTTGCTCGCAAGTGCGCACGAGTTGAACTG'), id='Stv_33', name='Stv_33', description='Stv_33 old_barcode', dbxrefs=[]),\n",
       " SeqRecord(seq=Seq('CGCTTATCGATGTCAGGTCCGCATGGGTCG'), id='Stv_94', name='Stv_94', description='Stv_94 old_barcode', dbxrefs=[]),\n",
       " SeqRecord(seq=Seq('AGTTTCCATACGCGGCGTGAATATCGCGGC'), id='Stv_35', name='Stv_35', description='Stv_35 old_barcode', dbxrefs=[]),\n",
       " SeqRecord(seq=Seq('AACGTCATCGGTGGATCCCAGAGTGCCAAA'), id='Stv_95', name='Stv_95', description='Stv_95 old_barcode', dbxrefs=[]),\n",
       " SeqRecord(seq=Seq('GCTACAGCGTTACGGGCCCAGACGTTTCAT'), id='Stv_36', name='Stv_36', description='Stv_36 old_barcode', dbxrefs=[]),\n",
       " SeqRecord(seq=Seq('GTCCGATGAAACGTCCCGTGTGCTGTCGCG'), id='Stv_99', name='Stv_99', description='Stv_99 old_barcode', dbxrefs=[]),\n",
       " SeqRecord(seq=Seq('TTTATCGTGCGTGTCCGCCAGTACCGTGAG'), id='Stv_37', name='Stv_37', description='Stv_37 old_barcode', dbxrefs=[]),\n",
       " SeqRecord(seq=Seq('GACACGACGTCCAAAGTTGGTCTCGCGCAA'), id='Stv_100', name='Stv_100', description='Stv_100 old_barcode', dbxrefs=[]),\n",
       " SeqRecord(seq=Seq('CGTGCGGGAACCGTATCCCTGGCGCGGACT'), id='Stv_39', name='Stv_39', description='Stv_39 old_barcode', dbxrefs=[]),\n",
       " SeqRecord(seq=Seq('ATGGCCACCCGACTGCGACGAACTCGATGC'), id='Stv_101', name='Stv_101', description='Stv_101 old_barcode', dbxrefs=[]),\n",
       " SeqRecord(seq=Seq('AATCCGGCGTACGTAAGGCAGCTTGCGTTA'), id='Stv_40', name='Stv_40', description='Stv_40 old_barcode', dbxrefs=[]),\n",
       " SeqRecord(seq=Seq('CTGGCGTTGCGCGATTGCCGCTTCAATCAA'), id='Stv_104', name='Stv_104', description='Stv_104 old_barcode', dbxrefs=[]),\n",
       " SeqRecord(seq=Seq('GCGGGATTCGTACGAGCCCTCTTGGACGGG'), id='Stv_42', name='Stv_42', description='Stv_42 old_barcode', dbxrefs=[]),\n",
       " SeqRecord(seq=Seq('GGCACGCTTCAACAAACGGCACACTCGGAT'), id='Stv_105', name='Stv_105', description='Stv_105 old_barcode', dbxrefs=[]),\n",
       " SeqRecord(seq=Seq('CTTTGTTCGGCTCGGAGCGTTACTGCGGGC'), id='Stv_44', name='Stv_44', description='Stv_44 old_barcode', dbxrefs=[]),\n",
       " SeqRecord(seq=Seq('TGACTCCCGACCTGCGCACTTGCCCGTGTT'), id='Stv_106', name='Stv_106', description='Stv_106 old_barcode', dbxrefs=[]),\n",
       " SeqRecord(seq=Seq('TAATTCCGGTATCGGGCCCTTTTGTCTGAC'), id='Stv_45', name='Stv_45', description='Stv_45 old_barcode', dbxrefs=[]),\n",
       " SeqRecord(seq=Seq('TTCCCACACGCCAAGCGCAGACGAACGGCA'), id='Stv_107', name='Stv_107', description='Stv_107 old_barcode', dbxrefs=[]),\n",
       " SeqRecord(seq=Seq('CGTGAGAATGCGTCGCGATACTGGTGTAAG'), id='Stv_46', name='Stv_46', description='Stv_46 old_barcode', dbxrefs=[]),\n",
       " SeqRecord(seq=Seq('GCATCGCCCGAAATTCCCTGGTGCGGTAAC'), id='Stv_109', name='Stv_109', description='Stv_109 old_barcode', dbxrefs=[]),\n",
       " SeqRecord(seq=Seq('TCTCATGGTCGCCGGACCGTGATGCCGTGT'), id='Stv_48', name='Stv_48', description='Stv_48 old_barcode', dbxrefs=[]),\n",
       " SeqRecord(seq=Seq('ATCGACCCTCGCCTGGATTTGCGCGAGGTG'), id='Stv_118', name='Stv_118', description='Stv_118 old_barcode', dbxrefs=[]),\n",
       " SeqRecord(seq=Seq('GCCATGGTACGACGGCAAGAGAGCGTGCGT'), id='Stv_50', name='Stv_50', description='Stv_50 old_barcode', dbxrefs=[]),\n",
       " SeqRecord(seq=Seq('GAAACGCACCTCACGTTCCTGCGCGGACTT'), id='Stv_119', name='Stv_119', description='Stv_119 old_barcode', dbxrefs=[]),\n",
       " SeqRecord(seq=Seq('ACACCCGATACGTCGTGGGACGTGGACCGT'), id='Stv_53', name='Stv_53', description='Stv_53 old_barcode', dbxrefs=[])]"
      ]
     },
     "execution_count": 9,
     "metadata": {},
     "output_type": "execute_result"
    }
   ],
   "source": [
    "sel_ctp12_readouts"
   ]
  },
  {
   "cell_type": "code",
   "execution_count": 12,
   "metadata": {},
   "outputs": [],
   "source": [
    "from ImageAnalysis3.library_tools.readouts import Generate_adaptors\n",
    "\n",
    "sel_ctp12_adaptors = Generate_adaptors(sel_ctp12_readouts, \n",
    "                                       [readout_site_dict['750'],readout_site_dict['647'],readout_site_dict['561']])\n"
   ]
  },
  {
   "cell_type": "markdown",
   "metadata": {},
   "source": [
    "# 2. Generate adaptors for RNA"
   ]
  },
  {
   "cell_type": "code",
   "execution_count": 13,
   "metadata": {},
   "outputs": [],
   "source": [
    "import pandas as pd"
   ]
  },
  {
   "cell_type": "code",
   "execution_count": 15,
   "metadata": {},
   "outputs": [],
   "source": [
    "save_df = pd.DataFrame([], columns=['Name', 'Sequence', 'Scale', 'Purification'])\n",
    "for _adt in sel_ctp12_adaptors:\n",
    "    _info = {'Name':_adt.id, \n",
    "             'Sequence':str(_adt.seq), \n",
    "             'Scale':'25nm', \n",
    "             'Purification':'STD'}\n",
    "    save_df = save_df.append(_info, ignore_index=True)"
   ]
  },
  {
   "cell_type": "code",
   "execution_count": 16,
   "metadata": {},
   "outputs": [
    {
     "data": {
      "text/html": [
       "<div>\n",
       "<style scoped>\n",
       "    .dataframe tbody tr th:only-of-type {\n",
       "        vertical-align: middle;\n",
       "    }\n",
       "\n",
       "    .dataframe tbody tr th {\n",
       "        vertical-align: top;\n",
       "    }\n",
       "\n",
       "    .dataframe thead th {\n",
       "        text-align: right;\n",
       "    }\n",
       "</style>\n",
       "<table border=\"1\" class=\"dataframe\">\n",
       "  <thead>\n",
       "    <tr style=\"text-align: right;\">\n",
       "      <th></th>\n",
       "      <th>Name</th>\n",
       "      <th>Sequence</th>\n",
       "      <th>Scale</th>\n",
       "      <th>Purification</th>\n",
       "    </tr>\n",
       "  </thead>\n",
       "  <tbody>\n",
       "    <tr>\n",
       "      <th>0</th>\n",
       "      <td>Stv_91_2xStv_82rc</td>\n",
       "      <td>TGACGTCGGTTTGGACGAGATTTGCACTGCCGTCCTTGACTTTGCA...</td>\n",
       "      <td>25nm</td>\n",
       "      <td>STD</td>\n",
       "    </tr>\n",
       "    <tr>\n",
       "      <th>1</th>\n",
       "      <td>Stv_32_2xStv_1rc</td>\n",
       "      <td>CGTTCGTACCGCGTACTTCGGATCCGATTGGAACCGTCCCGATCCG...</td>\n",
       "      <td>25nm</td>\n",
       "      <td>STD</td>\n",
       "    </tr>\n",
       "    <tr>\n",
       "      <th>2</th>\n",
       "      <td>Stv_92_2xStv_79rc</td>\n",
       "      <td>CCCTTGTGAGCGCCCGACATTGCGAACTGTCCGGCTTTCATGCGAA...</td>\n",
       "      <td>25nm</td>\n",
       "      <td>STD</td>\n",
       "    </tr>\n",
       "    <tr>\n",
       "      <th>3</th>\n",
       "      <td>Stv_33_2xStv_82rc</td>\n",
       "      <td>AGTGCGCACGAGTTGAACTGTTTGCACTGCCGTCCTTGACTTTGCA...</td>\n",
       "      <td>25nm</td>\n",
       "      <td>STD</td>\n",
       "    </tr>\n",
       "    <tr>\n",
       "      <th>4</th>\n",
       "      <td>Stv_94_2xStv_1rc</td>\n",
       "      <td>TGTCAGGTCCGCATGGGTCGGATCCGATTGGAACCGTCCCGATCCG...</td>\n",
       "      <td>25nm</td>\n",
       "      <td>STD</td>\n",
       "    </tr>\n",
       "    <tr>\n",
       "      <th>5</th>\n",
       "      <td>Stv_35_2xStv_79rc</td>\n",
       "      <td>CGCGGCGTGAATATCGCGGCTGCGAACTGTCCGGCTTTCATGCGAA...</td>\n",
       "      <td>25nm</td>\n",
       "      <td>STD</td>\n",
       "    </tr>\n",
       "    <tr>\n",
       "      <th>6</th>\n",
       "      <td>Stv_95_2xStv_82rc</td>\n",
       "      <td>GTGGATCCCAGAGTGCCAAATTTGCACTGCCGTCCTTGACTTTGCA...</td>\n",
       "      <td>25nm</td>\n",
       "      <td>STD</td>\n",
       "    </tr>\n",
       "    <tr>\n",
       "      <th>7</th>\n",
       "      <td>Stv_36_2xStv_1rc</td>\n",
       "      <td>TACGGGCCCAGACGTTTCATGATCCGATTGGAACCGTCCCGATCCG...</td>\n",
       "      <td>25nm</td>\n",
       "      <td>STD</td>\n",
       "    </tr>\n",
       "    <tr>\n",
       "      <th>8</th>\n",
       "      <td>Stv_99_2xStv_79rc</td>\n",
       "      <td>ACGTCCCGTGTGCTGTCGCGTGCGAACTGTCCGGCTTTCATGCGAA...</td>\n",
       "      <td>25nm</td>\n",
       "      <td>STD</td>\n",
       "    </tr>\n",
       "    <tr>\n",
       "      <th>9</th>\n",
       "      <td>Stv_37_2xStv_82rc</td>\n",
       "      <td>GTGTCCGCCAGTACCGTGAGTTTGCACTGCCGTCCTTGACTTTGCA...</td>\n",
       "      <td>25nm</td>\n",
       "      <td>STD</td>\n",
       "    </tr>\n",
       "    <tr>\n",
       "      <th>10</th>\n",
       "      <td>Stv_100_2xStv_1rc</td>\n",
       "      <td>CCAAAGTTGGTCTCGCGCAAGATCCGATTGGAACCGTCCCGATCCG...</td>\n",
       "      <td>25nm</td>\n",
       "      <td>STD</td>\n",
       "    </tr>\n",
       "    <tr>\n",
       "      <th>11</th>\n",
       "      <td>Stv_39_2xStv_79rc</td>\n",
       "      <td>CCGTATCCCTGGCGCGGACTTGCGAACTGTCCGGCTTTCATGCGAA...</td>\n",
       "      <td>25nm</td>\n",
       "      <td>STD</td>\n",
       "    </tr>\n",
       "    <tr>\n",
       "      <th>12</th>\n",
       "      <td>Stv_101_2xStv_82rc</td>\n",
       "      <td>GACTGCGACGAACTCGATGCTTTGCACTGCCGTCCTTGACTTTGCA...</td>\n",
       "      <td>25nm</td>\n",
       "      <td>STD</td>\n",
       "    </tr>\n",
       "    <tr>\n",
       "      <th>13</th>\n",
       "      <td>Stv_40_2xStv_1rc</td>\n",
       "      <td>ACGTAAGGCAGCTTGCGTTAGATCCGATTGGAACCGTCCCGATCCG...</td>\n",
       "      <td>25nm</td>\n",
       "      <td>STD</td>\n",
       "    </tr>\n",
       "    <tr>\n",
       "      <th>14</th>\n",
       "      <td>Stv_104_2xStv_79rc</td>\n",
       "      <td>GCGATTGCCGCTTCAATCAATGCGAACTGTCCGGCTTTCATGCGAA...</td>\n",
       "      <td>25nm</td>\n",
       "      <td>STD</td>\n",
       "    </tr>\n",
       "    <tr>\n",
       "      <th>15</th>\n",
       "      <td>Stv_42_2xStv_82rc</td>\n",
       "      <td>TACGAGCCCTCTTGGACGGGTTTGCACTGCCGTCCTTGACTTTGCA...</td>\n",
       "      <td>25nm</td>\n",
       "      <td>STD</td>\n",
       "    </tr>\n",
       "    <tr>\n",
       "      <th>16</th>\n",
       "      <td>Stv_105_2xStv_1rc</td>\n",
       "      <td>AACAAACGGCACACTCGGATGATCCGATTGGAACCGTCCCGATCCG...</td>\n",
       "      <td>25nm</td>\n",
       "      <td>STD</td>\n",
       "    </tr>\n",
       "    <tr>\n",
       "      <th>17</th>\n",
       "      <td>Stv_44_2xStv_79rc</td>\n",
       "      <td>CTCGGAGCGTTACTGCGGGCTGCGAACTGTCCGGCTTTCATGCGAA...</td>\n",
       "      <td>25nm</td>\n",
       "      <td>STD</td>\n",
       "    </tr>\n",
       "    <tr>\n",
       "      <th>18</th>\n",
       "      <td>Stv_106_2xStv_82rc</td>\n",
       "      <td>CCTGCGCACTTGCCCGTGTTTTTGCACTGCCGTCCTTGACTTTGCA...</td>\n",
       "      <td>25nm</td>\n",
       "      <td>STD</td>\n",
       "    </tr>\n",
       "    <tr>\n",
       "      <th>19</th>\n",
       "      <td>Stv_45_2xStv_1rc</td>\n",
       "      <td>ATCGGGCCCTTTTGTCTGACGATCCGATTGGAACCGTCCCGATCCG...</td>\n",
       "      <td>25nm</td>\n",
       "      <td>STD</td>\n",
       "    </tr>\n",
       "    <tr>\n",
       "      <th>20</th>\n",
       "      <td>Stv_107_2xStv_79rc</td>\n",
       "      <td>CCAAGCGCAGACGAACGGCATGCGAACTGTCCGGCTTTCATGCGAA...</td>\n",
       "      <td>25nm</td>\n",
       "      <td>STD</td>\n",
       "    </tr>\n",
       "    <tr>\n",
       "      <th>21</th>\n",
       "      <td>Stv_46_2xStv_82rc</td>\n",
       "      <td>CGTCGCGATACTGGTGTAAGTTTGCACTGCCGTCCTTGACTTTGCA...</td>\n",
       "      <td>25nm</td>\n",
       "      <td>STD</td>\n",
       "    </tr>\n",
       "    <tr>\n",
       "      <th>22</th>\n",
       "      <td>Stv_109_2xStv_1rc</td>\n",
       "      <td>AAATTCCCTGGTGCGGTAACGATCCGATTGGAACCGTCCCGATCCG...</td>\n",
       "      <td>25nm</td>\n",
       "      <td>STD</td>\n",
       "    </tr>\n",
       "    <tr>\n",
       "      <th>23</th>\n",
       "      <td>Stv_48_2xStv_79rc</td>\n",
       "      <td>GCCGGACCGTGATGCCGTGTTGCGAACTGTCCGGCTTTCATGCGAA...</td>\n",
       "      <td>25nm</td>\n",
       "      <td>STD</td>\n",
       "    </tr>\n",
       "    <tr>\n",
       "      <th>24</th>\n",
       "      <td>Stv_118_2xStv_82rc</td>\n",
       "      <td>GCCTGGATTTGCGCGAGGTGTTTGCACTGCCGTCCTTGACTTTGCA...</td>\n",
       "      <td>25nm</td>\n",
       "      <td>STD</td>\n",
       "    </tr>\n",
       "    <tr>\n",
       "      <th>25</th>\n",
       "      <td>Stv_50_2xStv_1rc</td>\n",
       "      <td>GACGGCAAGAGAGCGTGCGTGATCCGATTGGAACCGTCCCGATCCG...</td>\n",
       "      <td>25nm</td>\n",
       "      <td>STD</td>\n",
       "    </tr>\n",
       "    <tr>\n",
       "      <th>26</th>\n",
       "      <td>Stv_119_2xStv_79rc</td>\n",
       "      <td>TCACGTTCCTGCGCGGACTTTGCGAACTGTCCGGCTTTCATGCGAA...</td>\n",
       "      <td>25nm</td>\n",
       "      <td>STD</td>\n",
       "    </tr>\n",
       "    <tr>\n",
       "      <th>27</th>\n",
       "      <td>Stv_53_2xStv_82rc</td>\n",
       "      <td>CGTCGTGGGACGTGGACCGTTTTGCACTGCCGTCCTTGACTTTGCA...</td>\n",
       "      <td>25nm</td>\n",
       "      <td>STD</td>\n",
       "    </tr>\n",
       "  </tbody>\n",
       "</table>\n",
       "</div>"
      ],
      "text/plain": [
       "                  Name                                           Sequence  \\\n",
       "0    Stv_91_2xStv_82rc  TGACGTCGGTTTGGACGAGATTTGCACTGCCGTCCTTGACTTTGCA...   \n",
       "1     Stv_32_2xStv_1rc  CGTTCGTACCGCGTACTTCGGATCCGATTGGAACCGTCCCGATCCG...   \n",
       "2    Stv_92_2xStv_79rc  CCCTTGTGAGCGCCCGACATTGCGAACTGTCCGGCTTTCATGCGAA...   \n",
       "3    Stv_33_2xStv_82rc  AGTGCGCACGAGTTGAACTGTTTGCACTGCCGTCCTTGACTTTGCA...   \n",
       "4     Stv_94_2xStv_1rc  TGTCAGGTCCGCATGGGTCGGATCCGATTGGAACCGTCCCGATCCG...   \n",
       "5    Stv_35_2xStv_79rc  CGCGGCGTGAATATCGCGGCTGCGAACTGTCCGGCTTTCATGCGAA...   \n",
       "6    Stv_95_2xStv_82rc  GTGGATCCCAGAGTGCCAAATTTGCACTGCCGTCCTTGACTTTGCA...   \n",
       "7     Stv_36_2xStv_1rc  TACGGGCCCAGACGTTTCATGATCCGATTGGAACCGTCCCGATCCG...   \n",
       "8    Stv_99_2xStv_79rc  ACGTCCCGTGTGCTGTCGCGTGCGAACTGTCCGGCTTTCATGCGAA...   \n",
       "9    Stv_37_2xStv_82rc  GTGTCCGCCAGTACCGTGAGTTTGCACTGCCGTCCTTGACTTTGCA...   \n",
       "10   Stv_100_2xStv_1rc  CCAAAGTTGGTCTCGCGCAAGATCCGATTGGAACCGTCCCGATCCG...   \n",
       "11   Stv_39_2xStv_79rc  CCGTATCCCTGGCGCGGACTTGCGAACTGTCCGGCTTTCATGCGAA...   \n",
       "12  Stv_101_2xStv_82rc  GACTGCGACGAACTCGATGCTTTGCACTGCCGTCCTTGACTTTGCA...   \n",
       "13    Stv_40_2xStv_1rc  ACGTAAGGCAGCTTGCGTTAGATCCGATTGGAACCGTCCCGATCCG...   \n",
       "14  Stv_104_2xStv_79rc  GCGATTGCCGCTTCAATCAATGCGAACTGTCCGGCTTTCATGCGAA...   \n",
       "15   Stv_42_2xStv_82rc  TACGAGCCCTCTTGGACGGGTTTGCACTGCCGTCCTTGACTTTGCA...   \n",
       "16   Stv_105_2xStv_1rc  AACAAACGGCACACTCGGATGATCCGATTGGAACCGTCCCGATCCG...   \n",
       "17   Stv_44_2xStv_79rc  CTCGGAGCGTTACTGCGGGCTGCGAACTGTCCGGCTTTCATGCGAA...   \n",
       "18  Stv_106_2xStv_82rc  CCTGCGCACTTGCCCGTGTTTTTGCACTGCCGTCCTTGACTTTGCA...   \n",
       "19    Stv_45_2xStv_1rc  ATCGGGCCCTTTTGTCTGACGATCCGATTGGAACCGTCCCGATCCG...   \n",
       "20  Stv_107_2xStv_79rc  CCAAGCGCAGACGAACGGCATGCGAACTGTCCGGCTTTCATGCGAA...   \n",
       "21   Stv_46_2xStv_82rc  CGTCGCGATACTGGTGTAAGTTTGCACTGCCGTCCTTGACTTTGCA...   \n",
       "22   Stv_109_2xStv_1rc  AAATTCCCTGGTGCGGTAACGATCCGATTGGAACCGTCCCGATCCG...   \n",
       "23   Stv_48_2xStv_79rc  GCCGGACCGTGATGCCGTGTTGCGAACTGTCCGGCTTTCATGCGAA...   \n",
       "24  Stv_118_2xStv_82rc  GCCTGGATTTGCGCGAGGTGTTTGCACTGCCGTCCTTGACTTTGCA...   \n",
       "25    Stv_50_2xStv_1rc  GACGGCAAGAGAGCGTGCGTGATCCGATTGGAACCGTCCCGATCCG...   \n",
       "26  Stv_119_2xStv_79rc  TCACGTTCCTGCGCGGACTTTGCGAACTGTCCGGCTTTCATGCGAA...   \n",
       "27   Stv_53_2xStv_82rc  CGTCGTGGGACGTGGACCGTTTTGCACTGCCGTCCTTGACTTTGCA...   \n",
       "\n",
       "   Scale Purification  \n",
       "0   25nm          STD  \n",
       "1   25nm          STD  \n",
       "2   25nm          STD  \n",
       "3   25nm          STD  \n",
       "4   25nm          STD  \n",
       "5   25nm          STD  \n",
       "6   25nm          STD  \n",
       "7   25nm          STD  \n",
       "8   25nm          STD  \n",
       "9   25nm          STD  \n",
       "10  25nm          STD  \n",
       "11  25nm          STD  \n",
       "12  25nm          STD  \n",
       "13  25nm          STD  \n",
       "14  25nm          STD  \n",
       "15  25nm          STD  \n",
       "16  25nm          STD  \n",
       "17  25nm          STD  \n",
       "18  25nm          STD  \n",
       "19  25nm          STD  \n",
       "20  25nm          STD  \n",
       "21  25nm          STD  \n",
       "22  25nm          STD  \n",
       "23  25nm          STD  \n",
       "24  25nm          STD  \n",
       "25  25nm          STD  \n",
       "26  25nm          STD  \n",
       "27  25nm          STD  "
      ]
     },
     "execution_count": 16,
     "metadata": {},
     "output_type": "execute_result"
    }
   ],
   "source": [
    "save_df"
   ]
  },
  {
   "cell_type": "code",
   "execution_count": 17,
   "metadata": {},
   "outputs": [],
   "source": [
    "save_df.to_csv(os.path.join(adaptor_folder, 'Order_20220308_stv_adaptors_ctp12.csv'),\n",
    "               index=None)"
   ]
  },
  {
   "cell_type": "code",
   "execution_count": 18,
   "metadata": {},
   "outputs": [
    {
     "name": "stdout",
     "output_type": "stream",
     "text": [
      "\\\\10.245.74.212\\Chromatin_NAS_2\\Chromatin_Libraries\\Adaptors\\Order_20220308_stv_adaptors_ctp12.csv\n"
     ]
    }
   ],
   "source": [
    "print(os.path.join(adaptor_folder, 'Order_20220308_stv_adaptors_ctp12.csv'))"
   ]
  },
  {
   "cell_type": "code",
   "execution_count": null,
   "metadata": {},
   "outputs": [],
   "source": []
  }
 ],
 "metadata": {
  "kernelspec": {
   "display_name": "Python 3",
   "language": "python",
   "name": "python3"
  },
  "language_info": {
   "codemirror_mode": {
    "name": "ipython",
    "version": 3
   },
   "file_extension": ".py",
   "mimetype": "text/x-python",
   "name": "python",
   "nbconvert_exporter": "python",
   "pygments_lexer": "ipython3",
   "version": "3.7.9"
  }
 },
 "nbformat": 4,
 "nbformat_minor": 4
}
