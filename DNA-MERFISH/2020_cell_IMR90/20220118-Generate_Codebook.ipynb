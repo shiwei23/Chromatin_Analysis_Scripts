{
 "cells": [
  {
   "cell_type": "code",
   "execution_count": 2,
   "id": "9052d364",
   "metadata": {},
   "outputs": [
    {
     "name": "stdout",
     "output_type": "stream",
     "text": [
      "30608\n"
     ]
    }
   ],
   "source": [
    "%run \"..\\..\\Startup_py3.py\"\n",
    "sys.path.append(r\"..\\..\\..\\..\\Documents\")\n",
    "\n",
    "import ImageAnalysis3 as ia\n",
    "%matplotlib notebook\n",
    "\n",
    "from ImageAnalysis3 import *\n",
    "print(os.getpid())\n",
    "\n",
    "import h5py\n",
    "from ImageAnalysis3.classes import _allowed_kwds\n",
    "import ast"
   ]
  },
  {
   "cell_type": "code",
   "execution_count": 7,
   "id": "0b85211f",
   "metadata": {},
   "outputs": [
    {
     "name": "stdout",
     "output_type": "stream",
     "text": [
      " Volume in drive X is Chromatin_NAS_2\n",
      " Volume Serial Number is C0AA-8EC7\n",
      "\n",
      " Directory of X:\\\n",
      "\n",
      "01/18/2022  03:46 PM    <DIR>          .\n",
      "11/03/2021  10:46 AM    <DIR>          ..\n",
      "07/07/2019  11:54 PM    <DIR>          20190616_IMR90_CTP05_intronRNA\n",
      "08/26/2019  06:44 PM    <DIR>          20190627_IMR90_CTP05_DNA\n",
      "01/18/2022  04:08 PM    <DIR>          20190727_IMR90_intron-DNA-MERFISH\n",
      "08/06/2021  07:08 PM    <DIR>          20200310_CTP-07_chr2_IMR90_new\n",
      "11/18/2021  04:16 PM    <DIR>          Chromatin_Libraries\n",
      "12/02/2019  02:56 PM    <DIR>          Codes\n",
      "12/21/2021  08:18 PM    <DIR>          Download_from_archive\n",
      "11/18/2021  04:16 PM    <DIR>          Epigenetics\n",
      "06/30/2021  01:38 PM           115,363 fullsizerender_BAD_icon.ico\n",
      "04/28/2021  02:31 PM    <DIR>          Imaging_settings\n",
      "08/02/2021  05:17 PM    <DIR>          IMR90_reanalysis_results\n",
      "11/01/2021  08:10 PM    <DIR>          Kolmogorov_backup_info\n",
      "09/29/2021  09:55 PM    <DIR>          MOp_atact_bed\n",
      "11/08/2021  09:30 PM    <DIR>          Orders\n",
      "05/19/2021  02:32 PM    <DIR>          Pu\n",
      "08/27/2020  06:05 PM    <DIR>          Shiwei temp\n",
      "04/05/2021  03:32 PM            48,287 Super_enhancer_list_mTEC.bed\n",
      "08/04/2021  03:33 PM    <DIR>          test_git\n",
      "               2 File(s)        163,650 bytes\n",
      "              18 Dir(s)  13,878,827,270,144 bytes free\n"
     ]
    }
   ],
   "source": [
    "!dir X:\\"
   ]
  },
  {
   "cell_type": "code",
   "execution_count": null,
   "id": "4457aa0f",
   "metadata": {},
   "outputs": [],
   "source": []
  }
 ],
 "metadata": {
  "kernelspec": {
   "display_name": "Python 3",
   "language": "python",
   "name": "python3"
  },
  "language_info": {
   "codemirror_mode": {
    "name": "ipython",
    "version": 3
   },
   "file_extension": ".py",
   "mimetype": "text/x-python",
   "name": "python",
   "nbconvert_exporter": "python",
   "pygments_lexer": "ipython3",
   "version": "3.7.10"
  }
 },
 "nbformat": 4,
 "nbformat_minor": 5
}
