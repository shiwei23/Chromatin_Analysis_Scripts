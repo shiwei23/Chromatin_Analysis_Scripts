{
 "cells": [
  {
   "cell_type": "code",
   "execution_count": 2,
   "metadata": {},
   "outputs": [
    {
     "name": "stdout",
     "output_type": "stream",
     "text": [
      "21600\n"
     ]
    }
   ],
   "source": [
    "%run \"C:\\Users\\puzheng\\Documents\\ImageAnalysis3\\required_files\\Startup_py3.py\"\n",
    "sys.path.append(r\"C:\\Users\\puzheng\\Documents\")\n",
    "\n",
    "import ImageAnalysis3 as ia\n",
    "%matplotlib notebook\n",
    "\n",
    "from ImageAnalysis3 import *\n",
    "print(os.getpid())"
   ]
  },
  {
   "cell_type": "code",
   "execution_count": 12,
   "metadata": {},
   "outputs": [
    {
     "name": "stdout",
     "output_type": "stream",
     "text": [
      "Get Folder Names: (ia.get_img_info.get_folders)\n",
      "- Number of folders: 12\n",
      "- Number of field of views: 82\n"
     ]
    }
   ],
   "source": [
    "data_folder = r'\\\\10.245.74.158\\Chromatin_NAS_5\\20201209-NO_Acr_ctp08_P_brain'\n",
    "dst_folder = r'B:\\20201209-NO_Acr_ctp08_P_brain\\before_clearing'\n",
    "folders, fovs = io_tools.data.get_folders(data_folder)\n",
    "fov_id = 3"
   ]
  },
  {
   "cell_type": "code",
   "execution_count": 18,
   "metadata": {},
   "outputs": [],
   "source": [
    "import shutil"
   ]
  },
  {
   "cell_type": "code",
   "execution_count": 20,
   "metadata": {},
   "outputs": [
    {
     "name": "stdout",
     "output_type": "stream",
     "text": [
      "\\\\10.245.74.158\\Chromatin_NAS_5\\20201209-NO_Acr_ctp08_P_brain\\H0R0\n",
      "\\\\10.245.74.158\\Chromatin_NAS_5\\20201209-NO_Acr_ctp08_P_brain\\H1R1\n",
      "\\\\10.245.74.158\\Chromatin_NAS_5\\20201209-NO_Acr_ctp08_P_brain\\H2R2\n",
      "\\\\10.245.74.158\\Chromatin_NAS_5\\20201209-NO_Acr_ctp08_P_brain\\H3R3\n",
      "\\\\10.245.74.158\\Chromatin_NAS_5\\20201209-NO_Acr_ctp08_P_brain\\H4R4\n",
      "\\\\10.245.74.158\\Chromatin_NAS_5\\20201209-NO_Acr_ctp08_P_brain\\H5R5\n",
      "\\\\10.245.74.158\\Chromatin_NAS_5\\20201209-NO_Acr_ctp08_P_brain\\H6R6\n",
      "\\\\10.245.74.158\\Chromatin_NAS_5\\20201209-NO_Acr_ctp08_P_brain\\H7R7\n",
      "\\\\10.245.74.158\\Chromatin_NAS_5\\20201209-NO_Acr_ctp08_P_brain\\H8R8\n",
      "\\\\10.245.74.158\\Chromatin_NAS_5\\20201209-NO_Acr_ctp08_P_brain\\H9R9\n",
      "\\\\10.245.74.158\\Chromatin_NAS_5\\20201209-NO_Acr_ctp08_P_brain\\H10R10\n",
      "\\\\10.245.74.158\\Chromatin_NAS_5\\20201209-NO_Acr_ctp08_P_brain\\H11R11\n"
     ]
    }
   ],
   "source": [
    "for _fd in folders:\n",
    "    print(_fd)\n",
    "    src_file = os.path.join(_fd, fovs[fov_id])\n",
    "    dst_file = os.path.join(dst_folder, os.path.basename(_fd), fovs[fov_id])\n",
    "    if not os.path.exists(os.path.dirname(dst_file)):\n",
    "        os.makedirs(os.path.dirname(dst_file))\n",
    "    shutil.copyfile(src_file, dst_file)"
   ]
  },
  {
   "cell_type": "code",
   "execution_count": 10,
   "metadata": {},
   "outputs": [
    {
     "data": {
      "text/plain": [
       "'B:\\\\20201209-NO_Acr_ctp08_P_brain\\\\before_clearing\\\\H0R0\\\\Conv_zscan_03.dax'"
      ]
     },
     "execution_count": 10,
     "metadata": {},
     "output_type": "execute_result"
    }
   ],
   "source": []
  },
  {
   "cell_type": "code",
   "execution_count": null,
   "metadata": {},
   "outputs": [],
   "source": [
    "shutil.copyfile(src, dst, *, follow_symlinks=True)"
   ]
  }
 ],
 "metadata": {
  "kernelspec": {
   "display_name": "Python 3",
   "language": "python",
   "name": "python3"
  },
  "language_info": {
   "codemirror_mode": {
    "name": "ipython",
    "version": 3
   },
   "file_extension": ".py",
   "mimetype": "text/x-python",
   "name": "python",
   "nbconvert_exporter": "python",
   "pygments_lexer": "ipython3",
   "version": "3.7.9"
  }
 },
 "nbformat": 4,
 "nbformat_minor": 4
}
