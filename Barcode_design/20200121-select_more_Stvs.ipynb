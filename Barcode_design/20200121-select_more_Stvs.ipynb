{
 "cells": [
  {
   "cell_type": "markdown",
   "metadata": {},
   "source": [
    "Stv88\n",
    "\n",
    "Stv90\n",
    "\n",
    "Stv91\n",
    "\n",
    "Stv94\n",
    "\n",
    "Stv104"
   ]
  },
  {
   "cell_type": "markdown",
   "metadata": {},
   "source": [
    "Stv_15\tGCCCGTATTCCCGCTTGCGAGTAGGGCAAT\n",
    "Stv_24\tGGGAAACGGTTGTCGCTACCGGCTTTGCTA\n",
    "Stv_47\tATCGGAACGGTGACTCGGCTCAGTCGCGGC\n",
    "Stv_52\tGCACCGGTCGGGATTCCGTAGGCACGCCGA\n",
    "Stv_77\tgcgtcgatcggagaagcgctcgggtatgac\n",
    "Stv_124\tatggcacccactcgaggttactccgaaagg"
   ]
  },
  {
   "cell_type": "code",
   "execution_count": 2,
   "metadata": {},
   "outputs": [],
   "source": [
    "%run \"E:\\Users\\puzheng\\Documents\\Startup_py3.py\"\n",
    "sys.path.append(r\"E:\\Users\\puzheng\\Documents\")\n",
    "\n",
    "import ImageAnalysis3 as ia\n",
    "%matplotlib notebook\n",
    "\n",
    "from ImageAnalysis3 import library_tools\n",
    "from ImageAnalysis3.library_tools import _readout_folder\n",
    "from ImageAnalysis3.library_tools import readouts\n"
   ]
  },
  {
   "cell_type": "code",
   "execution_count": 3,
   "metadata": {},
   "outputs": [],
   "source": [
    "from Bio import SeqIO\n",
    "from Bio.Seq import Seq\n",
    "from Bio.Alphabet import IUPAC\n",
    "from Bio.SeqRecord import SeqRecord"
   ]
  },
  {
   "cell_type": "code",
   "execution_count": 6,
   "metadata": {},
   "outputs": [
    {
     "name": "stdout",
     "output_type": "stream",
     "text": [
      "-- saving filtered readouts to file: \\\\10.245.74.212\\Chromatin_NAS_2\\Libraries\\Readouts\\20200121_extend_stv.fasta\n"
     ]
    }
   ],
   "source": [
    "readout_folder = r'\\\\10.245.74.212\\Chromatin_NAS_2\\Libraries\\Readouts'\n",
    "\n",
    "\n",
    "records = [SeqRecord(Seq(\"GCCCGTATTCCCGCTTGCGAGTAGGGCAAT\".upper()), id='Stv_15', description=''),\n",
    "           SeqRecord(Seq(\"GGGAAACGGTTGTCGCTACCGGCTTTGCTA\".upper()), id='Stv_24', description=''),\n",
    "           SeqRecord(Seq(\"ATCGGAACGGTGACTCGGCTCAGTCGCGGC\".upper()), id='Stv_47', description=''),\n",
    "           SeqRecord(Seq(\"GCACCGGTCGGGATTCCGTAGGCACGCCGA\".upper()), id='Stv_52', description=''),\n",
    "           SeqRecord(Seq(\"gcgtcgatcggagaagcgctcgggtatgac\".upper()), id='Stv_77', description=''),\n",
    "           SeqRecord(Seq(\"atggcacccactcgaggttactccgaaagg\".upper()), id='Stv_124', description=''),\n",
    "]\n",
    "\n",
    "# save temp\n",
    "save_filename = os.path.join(readout_folder, '20200121_extend_stv.fasta')\n",
    "with open(save_filename, 'w') as _output_handle:\n",
    "    print(f\"-- saving filtered readouts to file: {save_filename}\")\n",
    "    SeqIO.write(records, _output_handle, \"fasta\")"
   ]
  },
  {
   "cell_type": "code",
   "execution_count": 7,
   "metadata": {},
   "outputs": [
    {
     "name": "stdout",
     "output_type": "stream",
     "text": [
      "-- saving filtered readouts to file: \\\\10.245.74.212\\Chromatin_NAS_2\\Libraries\\Readouts\\20200121_extend_stv_binding_sites.fasta\n"
     ]
    }
   ],
   "source": [
    "binding_sites = []\n",
    "for _record in records:\n",
    "    _site = _record[-20:].reverse_complement()\n",
    "    _site.id = _record.id+\"_last20_site\"\n",
    "    _site.description=''\n",
    "    binding_sites.append(_site)\n",
    "save_filename = os.path.join(readout_folder, '20200121_extend_stv_binding_sites.fasta')\n",
    "with open(save_filename, 'w') as _output_handle:\n",
    "    print(f\"-- saving filtered readouts to file: {save_filename}\")\n",
    "    SeqIO.write(binding_sites, _output_handle, \"fasta\")"
   ]
  },
  {
   "cell_type": "code",
   "execution_count": 8,
   "metadata": {},
   "outputs": [
    {
     "data": {
      "text/plain": [
       "<bound method SeqRecord.reverse_complement of SeqRecord(seq=Seq('GCCCGTATTCCCGCTTGCGAGTAGGGCAAT'), id='Stv_15', name='<unknown name>', description='', dbxrefs=[])>"
      ]
     },
     "execution_count": 8,
     "metadata": {},
     "output_type": "execute_result"
    }
   ],
   "source": [
    "records[0].reverse_complement"
   ]
  },
  {
   "cell_type": "code",
   "execution_count": 9,
   "metadata": {},
   "outputs": [],
   "source": [
    "# load readouts\n",
    "readout_folder = r'\\\\10.245.74.212\\Chromatin_NAS_2\\Libraries\\Readouts'\n",
    "readout_start = 0\n",
    "\n",
    "readouts = library_tools.probes.load_readouts(1356, \n",
    "                                              _type='designed_readouts', \n",
    "                                              _readout_folder=readout_folder, )"
   ]
  },
  {
   "cell_type": "code",
   "execution_count": 10,
   "metadata": {},
   "outputs": [
    {
     "name": "stdout",
     "output_type": "stream",
     "text": [
      "- Screen sequences against given fasta file:\\\\10.245.74.212\\Chromatin_NAS_2\\Libraries\\Adaptors\\NDB_adaptors.fasta\n",
      "-- 6 sequences loaded.\n",
      "-- constructing reference table for fasta file\n",
      "Mapping no. of seqs: 1283\n",
      "-- 6 sequences kept by allowing hits:0\n"
     ]
    }
   ],
   "source": [
    "adaptor_folder = r'\\\\10.245.74.212\\Chromatin_NAS_2\\Libraries\\Adaptors'\n",
    "ndb_adaptor_file = os.path.join(adaptor_folder, 'NDB_adaptors.fasta')\n",
    "\n",
    "saved_readouts = library_tools.readouts.Screen_seqs_against_fasta(records, ndb_adaptor_file)"
   ]
  },
  {
   "cell_type": "code",
   "execution_count": 11,
   "metadata": {},
   "outputs": [
    {
     "name": "stdout",
     "output_type": "stream",
     "text": [
      "- Screen sequences against given fasta file:\\\\10.245.74.212\\Chromatin_NAS_2\\Libraries\\Adaptors\\Stv_adaptors.fasta\n",
      "-- 6 sequences loaded.\n",
      "-- constructing reference table for fasta file\n",
      "Mapping no. of seqs: 75\n",
      "-- 6 sequences kept by allowing hits:0\n"
     ]
    }
   ],
   "source": [
    "adaptor_folder = r'\\\\10.245.74.212\\Chromatin_NAS_2\\Libraries\\Adaptors'\n",
    "stv_adaptor_file = os.path.join(adaptor_folder, 'Stv_adaptors.fasta')\n",
    "\n",
    "saved_readouts = library_tools.readouts.Screen_seqs_against_fasta(records, stv_adaptor_file)"
   ]
  },
  {
   "cell_type": "markdown",
   "metadata": {},
   "source": [
    "# generate adaptors and save"
   ]
  },
  {
   "cell_type": "code",
   "execution_count": 12,
   "metadata": {},
   "outputs": [
    {
     "name": "stdout",
     "output_type": "stream",
     "text": [
      "[SeqRecord(seq=Seq('TTTGCACTGCCGTCCTTGAC', SingleLetterAlphabet()), id='Stv_82', name='Stv_82', description='Stv_82 cy7 rev-com_last20', dbxrefs=[]), SeqRecord(seq=Seq('GATCCGATTGGAACCGTCCC', SingleLetterAlphabet()), id='Stv_1', name='Stv_1', description='Stv_1 cy5 rev-com_last20', dbxrefs=[]), SeqRecord(seq=Seq('TGCGAACTGTCCGGCTTTCA', SingleLetterAlphabet()), id='Stv_79', name='Stv_79', description='Stv_79 cy3 rev-com_last20', dbxrefs=[])]\n"
     ]
    }
   ],
   "source": [
    "# load readout sites\n",
    "adaptor_folder = r'\\\\10.245.74.212\\Chromatin_NAS_2\\Libraries\\Adaptors'\n",
    "readout_site_file = os.path.join(adaptor_folder, 'Readout_sites.fasta')\n",
    "readout_sites = []\n",
    "with open(readout_site_file, 'r') as _rd_handle:\n",
    "    for _readout in SeqIO.parse(_rd_handle, \"fasta\"):\n",
    "        readout_sites.append(_readout)\n",
    "print(readout_sites)"
   ]
  },
  {
   "cell_type": "code",
   "execution_count": 16,
   "metadata": {},
   "outputs": [],
   "source": [
    "reload(ia.library_tools.readouts)\n",
    "from ImageAnalysis3.library_tools.readouts import Generate_adaptors\n",
    "\n",
    "saved_adaptors = Generate_adaptors(saved_readouts, readout_sites)"
   ]
  },
  {
   "cell_type": "code",
   "execution_count": 22,
   "metadata": {},
   "outputs": [],
   "source": [
    "# generate csv file to order in IDT\n",
    "import csv\n",
    "\n",
    "with open(os.path.join(adaptor_folder, '20200121_extend_stv_adaptors.csv'), 'w') as csvfile:\n",
    "    csvwriter = csv.writer(csvfile, delimiter=',', lineterminator='\\n',\n",
    "                       quotechar='|', quoting=csv.QUOTE_MINIMAL)\n",
    "    # write header\n",
    "    _header = ['Name', 'Sequence', 'Scale', 'Purification']\n",
    "    csvwriter.writerow(_header)\n",
    "    # write sequence\n",
    "    for _adaptor in saved_adaptors:\n",
    "        _info = [_adaptor.id, str(_adaptor.seq), '25nm', 'STD']\n",
    "        csvwriter.writerow(_info)"
   ]
  },
  {
   "cell_type": "code",
   "execution_count": 20,
   "metadata": {},
   "outputs": [],
   "source": [
    "with open(os.path.join(adaptor_folder, '20200121_extend_stv_adaptors.fasta'), 'w') as _output_handle:\n",
    "    SeqIO.write(saved_adaptors, _output_handle, \"fasta\")"
   ]
  },
  {
   "cell_type": "code",
   "execution_count": null,
   "metadata": {},
   "outputs": [],
   "source": []
  }
 ],
 "metadata": {
  "kernelspec": {
   "display_name": "Python 3",
   "language": "python",
   "name": "python3"
  },
  "language_info": {
   "codemirror_mode": {
    "name": "ipython",
    "version": 3
   },
   "file_extension": ".py",
   "mimetype": "text/x-python",
   "name": "python",
   "nbconvert_exporter": "python",
   "pygments_lexer": "ipython3",
   "version": "3.7.3"
  }
 },
 "nbformat": 4,
 "nbformat_minor": 4
}
