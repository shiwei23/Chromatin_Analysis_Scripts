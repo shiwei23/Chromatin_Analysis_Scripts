{
 "cells": [
  {
   "cell_type": "code",
   "execution_count": 1,
   "id": "chubby-facility",
   "metadata": {},
   "outputs": [
    {
     "name": "stdout",
     "output_type": "stream",
     "text": [
      "13064\n"
     ]
    }
   ],
   "source": [
    "%run \"..\\Startup_py3.py\"\n",
    "sys.path.append(r\"..\\..\\..\\Documents\")\n",
    "\n",
    "import ImageAnalysis3 as ia\n",
    "%matplotlib notebook\n",
    "\n",
    "from ImageAnalysis3 import *\n",
    "print(os.getpid())\n",
    "\n",
    "# library design specific tools\n",
    "from ImageAnalysis3.library_tools import LibraryDesigner as ld\n",
    "from ImageAnalysis3.library_tools import LibraryTools as lt\n",
    "# biopython imports\n",
    "from Bio import SeqIO\n",
    "from Bio.Seq import Seq\n",
    "from Bio.SeqRecord import SeqRecord\n",
    "from Bio.Blast.Applications import NcbiblastnCommandline\n",
    "from Bio.Blast import NCBIXML"
   ]
  },
  {
   "cell_type": "code",
   "execution_count": 2,
   "id": "responsible-criminal",
   "metadata": {},
   "outputs": [
    {
     "name": "stdout",
     "output_type": "stream",
     "text": [
      "         name  color  brightness              sequence\n",
      "0     NDB_784    750    5.975574  ATGCCACTCGGATATTTCTA\n",
      "1     NDB_826    750    5.914067  GTCTAAGGACATCGACATAT\n",
      "2     NDB_376    750    5.576824  ATCAACGTACCCACAAAGTC\n",
      "3     NDB_865    750    5.548981  TCACATATCCGACCGGGATC\n",
      "4     NDB_817    750    5.469553  AATGCTTAGTCAACGAGTTC\n",
      "..        ...    ...         ...                   ...\n",
      "449  NDB_1071    561    3.042401  GGTTCTGCACCCGGTAGGTC\n",
      "450   NDB_576    561    3.039261  CAGCCGATGACGGGAAACGC\n",
      "451   NDB_870    561    3.037168  CTTAATATCTCGGCGGTCGT\n",
      "452   NDB_468    561    3.025657  CGAGCTCATAGCCATACGAA\n",
      "453   NDB_978    561    3.024198  ATAGTAAAGGCGATGCATTG\n",
      "\n",
      "[454 rows x 4 columns]\n"
     ]
    }
   ],
   "source": [
    "# load names\n",
    "readout_folder = r'\\\\10.245.74.212\\Chromatin_NAS_2\\Libraries\\Readouts'\n",
    "sel_filename = os.path.join(readout_folder, r'20-mer_barcode_screen.xlsx')\n",
    "import pandas as pd\n",
    "sel_df = pd.read_excel(sel_filename, )\n",
    "print(sel_df)"
   ]
  },
  {
   "cell_type": "code",
   "execution_count": 3,
   "id": "bridal-aurora",
   "metadata": {},
   "outputs": [],
   "source": [
    "# load readouts\n",
    "NDBs = []\n",
    "for _record in SeqIO.parse(os.path.join(readout_folder, 'updated_NDBs.fasta'), \"fasta\"):\n",
    "    NDBs.append(_record)\n"
   ]
  },
  {
   "cell_type": "code",
   "execution_count": 4,
   "id": "connected-radius",
   "metadata": {},
   "outputs": [],
   "source": [
    "sel_rds = {_ch:[] for _ch in np.unique(sel_df['color'])}\n",
    "for _rd_name, _ch in zip(sel_df['name'], sel_df['color']):\n",
    "    _match = [_rd for _rd in NDBs if _rd.id == _rd_name]\n",
    "    if len(_match) == 1:\n",
    "        sel_rds[_ch].append(_match[0])"
   ]
  },
  {
   "cell_type": "code",
   "execution_count": 6,
   "id": "senior-guide",
   "metadata": {},
   "outputs": [],
   "source": [
    "# save to file\n",
    "for _ch, _rds in sel_rds.items():\n",
    "    _save_filename = os.path.join(readout_folder, f\"highest_snr_{_ch}.fasta\")\n",
    "    with open(_save_filename, 'w') as _output_handle:\n",
    "        SeqIO.write(_rds, _output_handle, \"fasta\")"
   ]
  },
  {
   "cell_type": "code",
   "execution_count": 8,
   "id": "neutral-virgin",
   "metadata": {},
   "outputs": [],
   "source": [
    "# select top NDBs that higher than NDB292\n",
    "kept_rds = {_ch:[] for _ch in sel_rds}\n",
    "for _ch, _rds in sel_rds.items():\n",
    "    for _rd in _rds:\n",
    "        _ndb_id = int(_rd.id.split('NDB_')[1])\n",
    "        if _ndb_id > 630:\n",
    "            kept_rds[_ch].append(_rd)"
   ]
  },
  {
   "cell_type": "code",
   "execution_count": 9,
   "id": "suited-claim",
   "metadata": {},
   "outputs": [],
   "source": [
    "# save to file\n",
    "for _ch, _rds in kept_rds.items():\n",
    "    _save_filename = os.path.join(readout_folder, f\"snr_after_630_{_ch}.fasta\")\n",
    "    with open(_save_filename, 'w') as _output_handle:\n",
    "        SeqIO.write(_rds, _output_handle, \"fasta\")"
   ]
  },
  {
   "cell_type": "code",
   "execution_count": null,
   "id": "inner-trace",
   "metadata": {},
   "outputs": [],
   "source": []
  }
 ],
 "metadata": {
  "kernelspec": {
   "display_name": "Python 3",
   "language": "python",
   "name": "python3"
  },
  "language_info": {
   "codemirror_mode": {
    "name": "ipython",
    "version": 3
   },
   "file_extension": ".py",
   "mimetype": "text/x-python",
   "name": "python",
   "nbconvert_exporter": "python",
   "pygments_lexer": "ipython3",
   "version": "3.7.9"
  }
 },
 "nbformat": 4,
 "nbformat_minor": 5
}
