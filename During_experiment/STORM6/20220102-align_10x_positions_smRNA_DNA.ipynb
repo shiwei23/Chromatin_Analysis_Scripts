{
 "cells": [
  {
   "cell_type": "markdown",
   "metadata": {},
   "source": [
    "# calculate rotation and transposition matrix"
   ]
  },
  {
   "cell_type": "code",
   "execution_count": 1,
   "metadata": {
    "collapsed": false
   },
   "outputs": [],
   "source": [
    "import os\n",
    "\n",
    "old_folder = r'D:\\Pu\\20211229-P_brain_M1_nonclear\\Alignment'\n",
    "\n",
    "before_position_file = os.path.join(old_folder, '10x_positions_before.txt')\n",
    "\n",
    "new_folder = r'D:\\Pu\\20220102-CTP11-1000_CTP12-DNA_from_1229\\Alignment'\n",
    "\n",
    "after_position_file = os.path.join(new_folder, '10x_positions_after.txt')"
   ]
  },
  {
   "cell_type": "code",
   "execution_count": 2,
   "metadata": {
    "collapsed": false
   },
   "outputs": [
    {
     "data": {
      "text/plain": [
       "(True, True)"
      ]
     },
     "execution_count": 2,
     "metadata": {},
     "output_type": "execute_result"
    }
   ],
   "source": [
    "os.path.isfile(before_position_file), os.path.isfile(after_position_file)"
   ]
  },
  {
   "cell_type": "code",
   "execution_count": 3,
   "metadata": {
    "collapsed": true
   },
   "outputs": [],
   "source": [
    "import numpy as np\n",
    "import os, sys\n",
    "# 1. alignment for manually picked points\n",
    "def align_manual_points(pos_file_before, pos_file_after,\n",
    "                        save=True, save_folder=None, save_filename='', verbose=True):\n",
    "    \"\"\"Function to align two manually picked position files, \n",
    "    they should follow exactly the same order and of same length.\n",
    "    Inputs:\n",
    "        pos_file_before: full filename for positions file before translation\n",
    "        pos_file_after: full filename for positions file after translation\n",
    "        save: whether save rotation and translation info, bool (default: True)\n",
    "        save_folder: where to save rotation and translation info, None or string (default: same folder as pos_file_before)\n",
    "        save_filename: filename specified to save rotation and translation points\n",
    "        verbose: say something! bool (default: True)\n",
    "    Outputs:\n",
    "        R: rotation for positions, 2x2 array\n",
    "        T: traslation of positions, array of 2\n",
    "    Here's example for how to translate points\n",
    "        translated_ps_before = np.dot(ps_before, R) + t\n",
    "    \"\"\"\n",
    "    # load position_before\n",
    "    if os.path.isfile(pos_file_before):\n",
    "        ps_before = np.loadtxt(pos_file_before, delimiter=',')\n",
    "\n",
    "    # load position_after\n",
    "    if os.path.isfile(pos_file_after):\n",
    "        ps_after = np.loadtxt(pos_file_after, delimiter=',')\n",
    "\n",
    "    # do SVD decomposition to get best fit for rigid-translation\n",
    "    c_before = np.mean(ps_before, axis=0)\n",
    "    c_after = np.mean(ps_after, axis=0)\n",
    "    H = np.dot((ps_before - c_before).T, (ps_after - c_after))\n",
    "    U, _, V = np.linalg.svd(H)  # do SVD\n",
    "    # calcluate rotation\n",
    "    R = np.dot(V, U.T).T\n",
    "    if np.linalg.det(R) < 0:\n",
    "        R[:, -1] = -1 * R[:, -1]\n",
    "    # calculate translation\n",
    "    t = - np.dot(c_before, R) + c_after\n",
    "    # here's example for how to translate points\n",
    "    # translated_ps_before = np.dot(ps_before, R) + t\n",
    "    # save\n",
    "    if save:\n",
    "        if save_folder is None:\n",
    "            save_folder = os.path.dirname(pos_file_before)\n",
    "        if not os.path.exists(save_folder):\n",
    "            os.makedirs(save_folder)\n",
    "        if len(save_filename) > 0:\n",
    "            save_filename += '_'\n",
    "        rotation_name = os.path.join(save_folder, save_filename+'rotation')\n",
    "        translation_name = os.path.join(\n",
    "            save_folder, save_filename+'translation')\n",
    "        np.save(rotation_name, R)\n",
    "        np.save(translation_name, t)\n",
    "\n",
    "    return R, t"
   ]
  },
  {
   "cell_type": "code",
   "execution_count": 4,
   "metadata": {
    "collapsed": false
   },
   "outputs": [],
   "source": [
    "R, T = align_manual_points(before_position_file, after_position_file, save=False, save_folder=new_folder)\n"
   ]
  },
  {
   "cell_type": "code",
   "execution_count": 5,
   "metadata": {
    "collapsed": false
   },
   "outputs": [
    {
     "data": {
      "text/plain": [
       "(array([[ 0.99990725, -0.0136195 ],\n",
       "        [ 0.0136195 ,  0.99990725]]),\n",
       " array([2817.49498772, -216.30549335]))"
      ]
     },
     "execution_count": 5,
     "metadata": {},
     "output_type": "execute_result"
    }
   ],
   "source": [
    "R, T"
   ]
  },
  {
   "cell_type": "markdown",
   "metadata": {},
   "source": [
    "# transpose 60x positions"
   ]
  },
  {
   "cell_type": "code",
   "execution_count": 17,
   "metadata": {
    "collapsed": false
   },
   "outputs": [],
   "source": [
    "old_positions = np.loadtxt(os.path.join(os.path.dirname(old_folder), 'positions_all.txt'), delimiter=',')"
   ]
  },
  {
   "cell_type": "code",
   "execution_count": 18,
   "metadata": {
    "collapsed": false,
    "scrolled": true
   },
   "outputs": [
    {
     "name": "stdout",
     "output_type": "stream",
     "text": [
      "[[ -913.53251088  -839.04853402]\n",
      " [ -916.25641032 -1039.02998409]\n",
      " [ -918.98030975 -1239.01143416]\n",
      " [ -921.70420919 -1438.99288423]\n",
      " [ -724.44665856 -1641.69823373]\n",
      " [ -721.72275912 -1441.71678366]\n",
      " [ -718.99885969 -1241.73533359]\n",
      " [ -716.27496025 -1041.75388353]\n",
      " [ -713.55106081  -841.77243346]\n",
      " [ -513.56961074  -844.49633289]\n",
      " [ -516.29351018 -1044.47778296]\n",
      " [ -519.01740962 -1244.45923303]\n",
      " [ -521.74130905 -1444.4406831 ]\n",
      " [ -524.46520849 -1644.42213317]\n",
      " [ -324.48375842 -1647.14603261]\n",
      " [ -321.75985898 -1447.16458254]\n",
      " [ -319.03595955 -1247.18313247]\n",
      " [ -316.31206011 -1047.2016824 ]\n",
      " [ -313.58816067  -847.22023233]\n",
      " [ -110.88281116  -649.9626817 ]\n",
      " [ -113.6067106   -849.94413177]\n",
      " [ -116.33061004 -1049.92558184]\n",
      " [ -119.05450948 -1249.90703191]\n",
      " [ -121.77840891 -1449.88848198]\n",
      " [ -124.50230835 -1649.86993205]\n",
      " [ -127.22620779 -1849.85138212]\n",
      " [   72.75524228 -1852.57528155]\n",
      " [   75.47914172 -1652.59383148]\n",
      " [   78.20304115 -1452.61238142]\n",
      " [   80.92694059 -1252.63093135]\n",
      " [   83.65084003 -1052.64948128]\n",
      " [   86.37473947  -852.66803121]\n",
      " [   89.09863891  -652.68658114]\n",
      " [  289.08008898  -655.41048058]\n",
      " [  286.35618954  -855.39193064]\n",
      " [  283.6322901  -1055.37338071]\n",
      " [  280.90839066 -1255.35483078]\n",
      " [  278.18449122 -1455.33628085]\n",
      " [  275.46059179 -1655.31773092]\n",
      " [  272.73669235 -1855.29918099]\n",
      " [-1167.24555557  1217.5976633 ]\n",
      " [-1169.96945501  1017.61621323]\n",
      " [-1172.69335445   817.63476316]\n",
      " [-1175.41725389   617.65331309]\n",
      " [ -978.15970325   414.94796359]\n",
      " [ -975.43580382   614.92941366]\n",
      " [ -972.71190438   814.91086373]\n",
      " [ -969.98800494  1014.8923138 ]\n",
      " [ -967.2641055   1214.87376386]\n",
      " [ -761.83485656  1612.11276457]\n",
      " [ -767.28265543  1212.14986443]\n",
      " [ -770.00655487  1012.16841436]\n",
      " [ -772.73045431   812.18696429]\n",
      " [ -775.45435375   612.20551422]\n",
      " [ -778.17825318   412.22406415]\n",
      " [ -578.19680312   409.50016471]\n",
      " [ -575.47290368   609.48161478]\n",
      " [ -572.74900424   809.46306485]\n",
      " [ -570.0251048   1009.44451492]\n",
      " [ -567.30120536  1209.42596499]\n",
      " [ -561.85340649  1609.38886513]\n",
      " [ -361.87195642  1606.66496569]\n",
      " [ -367.31975529  1206.70206555]\n",
      " [ -370.04365473  1006.72061548]\n",
      " [ -372.76755417   806.73916541]\n",
      " [ -375.49145361   606.75771534]\n",
      " [ -378.21535305   406.77626527]\n",
      " [ -178.23390298   404.05236584]\n",
      " [ -175.51000354   604.03381591]\n",
      " [ -172.7861041    804.01526597]\n",
      " [ -170.06220466  1003.99671604]\n",
      " [ -167.33830523  1203.97816611]\n",
      " [ -161.89050635  1603.94106625]\n",
      " [   38.09094372  1601.21716681]\n",
      " [   32.64314484  1201.25426668]\n",
      " [   29.91924541  1001.27281661]\n",
      " [   27.19534597   801.29136654]\n",
      " [   24.47144653   601.30991647]\n",
      " [   21.74754709   401.3284664 ]\n",
      " [ 4591.03155656  1117.96358333]\n",
      " [ 4801.90860438  1915.16548417]\n",
      " [ 4799.18470494  1715.1840341 ]\n",
      " [ 4796.46080551  1515.20258403]\n",
      " [ 4793.73690607  1315.22113396]\n",
      " [ 4791.01300663  1115.2396839 ]\n",
      " [ 4990.9944567   1112.51578446]\n",
      " [ 4993.71835614  1312.49723453]\n",
      " [ 4996.44225557  1512.4786846 ]\n",
      " [ 4999.16615501  1712.46013467]\n",
      " [ 5199.14760508  1709.73623523]\n",
      " [ 5196.42370564  1509.75478516]\n",
      " [ 5193.69980621  1309.77333509]\n",
      " [ 5190.97590677  1109.79188502]\n",
      " [ 5390.95735684  1107.06798558]\n",
      " [ 5393.68125628  1307.04943565]\n",
      " [ 5396.40515571  1507.03088572]\n",
      " [ 5399.12905515  1707.01233579]\n",
      " [ 5401.85295459  1906.99378586]\n",
      " [ 5601.83440466  1904.26988642]\n",
      " [ 5599.11050522  1704.28843635]\n",
      " [ 5596.38660578  1504.30698628]\n",
      " [ 5593.66270634  1304.32553621]\n",
      " [ 5590.93880691  1104.34408614]\n",
      " [ 5790.92025698  1101.62018671]\n",
      " [ 5793.64415641  1301.60163678]\n",
      " [ 5796.36805585  1501.58308684]\n",
      " [ 5799.09195529  1701.56453691]\n",
      " [ 5801.81585473  1901.54598698]\n",
      " [ 6001.7973048   1898.82208755]\n",
      " [ 5999.07340536  1698.84063748]\n",
      " [ 5996.34950592  1498.85918741]\n",
      " [ 5993.62560648  1298.87773734]\n",
      " [ 5990.90170705  1098.89628727]\n",
      " [ 6190.88315712  1096.17238783]\n",
      " [ 6193.60705655  1296.1538379 ]\n",
      " [ 6196.33095599  1496.13528797]\n",
      " [ 6199.05485543  1696.11673804]\n",
      " [ 6393.58850662  1293.42993846]\n",
      " [ 4854.83310112  -873.51396991]\n",
      " [ 4857.55700056  -673.53251984]\n",
      " [ 4860.2809      -473.55106977]\n",
      " [ 5062.98624951  -276.29351914]\n",
      " [ 5060.26235007  -476.27496921]\n",
      " [ 5057.53845063  -676.25641928]\n",
      " [ 5054.81455119  -876.23786935]\n",
      " [ 5052.09065175 -1076.21931942]\n",
      " [ 5252.07210182 -1078.94321886]\n",
      " [ 5254.79600126  -878.96176879]\n",
      " [ 5257.5199007   -678.98031872]\n",
      " [ 5260.24380014  -478.99886865]\n",
      " [ 5262.96769958  -279.01741858]\n",
      " [ 5462.94914964  -281.74131802]\n",
      " [ 5460.22525021  -481.72276809]\n",
      " [ 5457.50135077  -681.70421816]\n",
      " [ 5454.77745133  -881.68566823]\n",
      " [ 5452.05355189 -1081.6671183 ]\n",
      " [ 5652.03500196 -1084.39101773]\n",
      " [ 5654.7589014   -884.40956766]\n",
      " [ 5657.48280084  -684.4281176 ]\n",
      " [ 5660.20670028  -484.44666753]\n",
      " [ 5662.93059971  -284.46521746]\n",
      " [ 5862.91204978  -287.18911689]\n",
      " [ 5860.18815035  -487.17056696]\n",
      " [ 5857.46425091  -687.15201703]\n",
      " [ 5854.74035147  -887.1334671 ]\n",
      " [ 5852.01645203 -1087.11491717]\n",
      " [ 6051.9979021  -1089.83881661]\n",
      " [ 6054.72180154  -889.85736654]\n",
      " [ 6057.44570098  -689.87591647]\n",
      " [ 6060.16960042  -489.8944664 ]\n",
      " [ 6062.89349985  -289.91301633]\n",
      " [ 6262.87494992  -292.63691577]\n",
      " [ 6260.15105048  -492.61836584]\n",
      " [ 6257.42715105  -692.59981591]\n",
      " [ 6254.70325161  -892.58126598]\n",
      " [ 6251.97935217 -1092.56271605]\n",
      " [ 6454.68470168  -895.30516542]\n",
      " [ 6457.40860112  -695.32371535]\n",
      " [ 6462.85639999  -295.36081521]]\n"
     ]
    }
   ],
   "source": [
    "new_positions = np.dot(old_positions, R) + T\n",
    "print(new_positions)"
   ]
  },
  {
   "cell_type": "code",
   "execution_count": 8,
   "metadata": {
    "collapsed": false
   },
   "outputs": [
    {
     "name": "stdout",
     "output_type": "stream",
     "text": [
      "D:\\Pu\\20220102-CTP11-1000_CTP12-DNA_from_1229\\Alignment\\translated_positions_all.txt\n"
     ]
    }
   ],
   "source": [
    "save_filename = os.path.join(new_folder, 'translated_positions_all.txt')\n",
    "print(save_filename)\n",
    "np.savetxt(save_filename, new_positions, fmt='%.2f', delimiter=',')"
   ]
  },
  {
   "cell_type": "code",
   "execution_count": 10,
   "metadata": {
    "collapsed": false
   },
   "outputs": [
    {
     "name": "stdout",
     "output_type": "stream",
     "text": [
      "[[-1257.14813779 -1492.79929711]\n",
      " [-1427.50624004  1416.83076176]\n",
      " [ 6654.32700491 -1297.39148657]\n",
      " [ 6114.52176835  1858.73311879]]\n"
     ]
    }
   ],
   "source": [
    "# translate fine adjust positions if applicable\n",
    "old_fine_positions = np.loadtxt(os.path.join(os.path.dirname(old_folder), 'positions_fine_adjust_before.txt'), delimiter=',')\n",
    "new_fine_positions = np.dot(old_fine_positions, R) + T\n",
    "print(new_fine_positions) \n"
   ]
  },
  {
   "cell_type": "markdown",
   "metadata": {},
   "source": [
    "# further adjust manually"
   ]
  },
  {
   "cell_type": "code",
   "execution_count": 15,
   "metadata": {
    "collapsed": false
   },
   "outputs": [
    {
     "data": {
      "text/plain": [
       "array([[-1.85186221, 18.99929711],\n",
       "       [-2.49375996, 19.16923824],\n",
       "       [-1.32700491, 18.89148657]])"
      ]
     },
     "execution_count": 15,
     "metadata": {},
     "output_type": "execute_result"
    }
   ],
   "source": [
    "#before_adjust = np.array([[-6101.45,-2075.75],\n",
    "#                         [-4498.45,-2250.06],\n",
    "#                         [-5118.13,100.40],\n",
    "#                         ])\n",
    "before_adjust = new_fine_positions[:3]\n",
    "\n",
    "\n",
    "after_adjust = np.array([[-1259., -1473.8],\n",
    "                        [-1430.0, 1436.0],\n",
    "                        [6653.,-1278.5],\n",
    "                        ])\n",
    "\n",
    "\n",
    "after_adjust -before_adjust"
   ]
  },
  {
   "cell_type": "code",
   "execution_count": 19,
   "metadata": {
    "collapsed": false
   },
   "outputs": [
    {
     "data": {
      "text/plain": [
       "array([-1.8908757 , 19.02000731])"
      ]
     },
     "execution_count": 19,
     "metadata": {},
     "output_type": "execute_result"
    }
   ],
   "source": [
    "manual_shift = np.mean(after_adjust -before_adjust, axis=0)\n",
    "manual_shift"
   ]
  },
  {
   "cell_type": "code",
   "execution_count": 20,
   "metadata": {
    "collapsed": true
   },
   "outputs": [],
   "source": [
    "#manual_shift = np.array([-28.1,  -8.7])\n",
    "adjusted_new_positions = new_positions + manual_shift"
   ]
  },
  {
   "cell_type": "code",
   "execution_count": 21,
   "metadata": {
    "collapsed": false
   },
   "outputs": [
    {
     "name": "stdout",
     "output_type": "stream",
     "text": [
      "D:\\Pu\\20220102-CTP11-1000_CTP12-DNA_from_1229\\Alignment\\adjusted_translated_positions_all.txt\n"
     ]
    }
   ],
   "source": [
    "adj_save_filename = os.path.join(new_folder, 'adjusted_translated_positions_all.txt')\n",
    "print(adj_save_filename)\n",
    "np.savetxt(adj_save_filename, adjusted_new_positions, fmt='%.2f', delimiter=',')"
   ]
  },
  {
   "cell_type": "code",
   "execution_count": 22,
   "metadata": {
    "collapsed": false
   },
   "outputs": [
    {
     "name": "stdout",
     "output_type": "stream",
     "text": [
      "[[-1259.03901348 -1473.7792898 ]\n",
      " [-1429.39711573  1435.85076907]\n",
      " [ 6652.43612922 -1278.37147927]\n",
      " [ 6112.63089266  1877.7531261 ]]\n"
     ]
    }
   ],
   "source": [
    "\n",
    "print(new_fine_positions + manual_shift)"
   ]
  },
  {
   "cell_type": "code",
   "execution_count": null,
   "metadata": {
    "collapsed": true
   },
   "outputs": [],
   "source": []
  }
 ],
 "metadata": {
  "kernelspec": {
   "display_name": "Python 3",
   "language": "python",
   "name": "python3"
  },
  "language_info": {
   "codemirror_mode": {
    "name": "ipython",
    "version": 3
   },
   "file_extension": ".py",
   "mimetype": "text/x-python",
   "name": "python",
   "nbconvert_exporter": "python",
   "pygments_lexer": "ipython3",
   "version": "3.9.5"
  }
 },
 "nbformat": 4,
 "nbformat_minor": 4
}
