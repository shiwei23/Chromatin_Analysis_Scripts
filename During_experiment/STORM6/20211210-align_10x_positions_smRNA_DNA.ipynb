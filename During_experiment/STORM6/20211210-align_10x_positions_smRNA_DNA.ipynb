{
 "cells": [
  {
   "cell_type": "markdown",
   "metadata": {},
   "source": [
    "# calculate rotation and transposition matrix"
   ]
  },
  {
   "cell_type": "code",
   "execution_count": 34,
   "metadata": {
    "collapsed": false
   },
   "outputs": [],
   "source": [
    "import os\n",
    "\n",
    "old_folder = r'D:\\Pu\\20211217-P_brain_M1_nonclear\\Alignment'\n",
    "\n",
    "before_position_file = os.path.join(old_folder, '10x_positions_before.txt')\n",
    "\n",
    "new_folder = r'D:\\Pu\\20211226-P_brain_CTP11-1000_CTP12-DNA_from-1217\\Alignment'\n",
    "\n",
    "after_position_file = os.path.join(new_folder, '10x_positions_after.txt')"
   ]
  },
  {
   "cell_type": "code",
   "execution_count": 35,
   "metadata": {
    "collapsed": false
   },
   "outputs": [
    {
     "data": {
      "text/plain": [
       "(True, True)"
      ]
     },
     "execution_count": 35,
     "metadata": {},
     "output_type": "execute_result"
    }
   ],
   "source": [
    "os.path.isfile(before_position_file), os.path.isfile(after_position_file)"
   ]
  },
  {
   "cell_type": "code",
   "execution_count": 36,
   "metadata": {
    "collapsed": true
   },
   "outputs": [],
   "source": [
    "import numpy as np\n",
    "import os, sys\n",
    "# 1. alignment for manually picked points\n",
    "def align_manual_points(pos_file_before, pos_file_after,\n",
    "                        save=True, save_folder=None, save_filename='', verbose=True):\n",
    "    \"\"\"Function to align two manually picked position files, \n",
    "    they should follow exactly the same order and of same length.\n",
    "    Inputs:\n",
    "        pos_file_before: full filename for positions file before translation\n",
    "        pos_file_after: full filename for positions file after translation\n",
    "        save: whether save rotation and translation info, bool (default: True)\n",
    "        save_folder: where to save rotation and translation info, None or string (default: same folder as pos_file_before)\n",
    "        save_filename: filename specified to save rotation and translation points\n",
    "        verbose: say something! bool (default: True)\n",
    "    Outputs:\n",
    "        R: rotation for positions, 2x2 array\n",
    "        T: traslation of positions, array of 2\n",
    "    Here's example for how to translate points\n",
    "        translated_ps_before = np.dot(ps_before, R) + t\n",
    "    \"\"\"\n",
    "    # load position_before\n",
    "    if os.path.isfile(pos_file_before):\n",
    "        ps_before = np.loadtxt(pos_file_before, delimiter=',')\n",
    "\n",
    "    # load position_after\n",
    "    if os.path.isfile(pos_file_after):\n",
    "        ps_after = np.loadtxt(pos_file_after, delimiter=',')\n",
    "\n",
    "    # do SVD decomposition to get best fit for rigid-translation\n",
    "    c_before = np.mean(ps_before, axis=0)\n",
    "    c_after = np.mean(ps_after, axis=0)\n",
    "    H = np.dot((ps_before - c_before).T, (ps_after - c_after))\n",
    "    U, _, V = np.linalg.svd(H)  # do SVD\n",
    "    # calcluate rotation\n",
    "    R = np.dot(V, U.T).T\n",
    "    if np.linalg.det(R) < 0:\n",
    "        R[:, -1] = -1 * R[:, -1]\n",
    "    # calculate translation\n",
    "    t = - np.dot(c_before, R) + c_after\n",
    "    # here's example for how to translate points\n",
    "    # translated_ps_before = np.dot(ps_before, R) + t\n",
    "    # save\n",
    "    if save:\n",
    "        if save_folder is None:\n",
    "            save_folder = os.path.dirname(pos_file_before)\n",
    "        if not os.path.exists(save_folder):\n",
    "            os.makedirs(save_folder)\n",
    "        if len(save_filename) > 0:\n",
    "            save_filename += '_'\n",
    "        rotation_name = os.path.join(save_folder, save_filename+'rotation')\n",
    "        translation_name = os.path.join(\n",
    "            save_folder, save_filename+'translation')\n",
    "        np.save(rotation_name, R)\n",
    "        np.save(translation_name, t)\n",
    "\n",
    "    return R, t"
   ]
  },
  {
   "cell_type": "code",
   "execution_count": 37,
   "metadata": {
    "collapsed": false
   },
   "outputs": [],
   "source": [
    "R, T = align_manual_points(before_position_file, after_position_file, save=False, save_folder=new_folder)\n"
   ]
  },
  {
   "cell_type": "code",
   "execution_count": 38,
   "metadata": {
    "collapsed": false
   },
   "outputs": [
    {
     "data": {
      "text/plain": [
       "(array([[ 0.99999531, -0.00306106],\n",
       "        [ 0.00306106,  0.99999531]]),\n",
       " array([-2338.22196778,   332.89137225]))"
      ]
     },
     "execution_count": 38,
     "metadata": {},
     "output_type": "execute_result"
    }
   ],
   "source": [
    "R, T"
   ]
  },
  {
   "cell_type": "markdown",
   "metadata": {},
   "source": [
    "# transpose 60x positions"
   ]
  },
  {
   "cell_type": "code",
   "execution_count": 12,
   "metadata": {
    "collapsed": false
   },
   "outputs": [],
   "source": [
    "\n",
    "old_positions = np.loadtxt(os.path.join(os.path.dirname(old_folder), 'positions_all.txt'), delimiter=',')"
   ]
  },
  {
   "cell_type": "code",
   "execution_count": 13,
   "metadata": {
    "collapsed": false,
    "scrolled": true
   },
   "outputs": [
    {
     "name": "stdout",
     "output_type": "stream",
     "text": [
      "[[-6.10145037e+03 -2.07574894e+03]\n",
      " [-6.10465801e+03 -1.87577466e+03]\n",
      " [-5.90789137e+03 -1.67259275e+03]\n",
      " [-5.90468373e+03 -1.87256702e+03]\n",
      " [-5.90147609e+03 -2.07254130e+03]\n",
      " [-5.89826846e+03 -2.27251558e+03]\n",
      " [-5.89506082e+03 -2.47248985e+03]\n",
      " [-5.69508655e+03 -2.46928222e+03]\n",
      " [-5.69829418e+03 -2.26930794e+03]\n",
      " [-5.70150182e+03 -2.06933366e+03]\n",
      " [-5.70470946e+03 -1.86935939e+03]\n",
      " [-5.70791709e+03 -1.66938511e+03]\n",
      " [-5.50794282e+03 -1.66617748e+03]\n",
      " [-5.50473518e+03 -1.86615175e+03]\n",
      " [-5.50152754e+03 -2.06612603e+03]\n",
      " [-5.49831991e+03 -2.26610030e+03]\n",
      " [-5.49511227e+03 -2.46607458e+03]\n",
      " [-5.29193036e+03 -2.66284122e+03]\n",
      " [-5.29513799e+03 -2.46286694e+03]\n",
      " [-5.29834563e+03 -2.26289267e+03]\n",
      " [-5.30155327e+03 -2.06291839e+03]\n",
      " [-5.30476090e+03 -1.86294411e+03]\n",
      " [-5.30796854e+03 -1.66296984e+03]\n",
      " [-5.31117618e+03 -1.46299556e+03]\n",
      " [-5.11120190e+03 -1.45978793e+03]\n",
      " [-5.10799426e+03 -1.65976220e+03]\n",
      " [-5.10478663e+03 -1.85973648e+03]\n",
      " [-5.10157899e+03 -2.05971075e+03]\n",
      " [-5.09837135e+03 -2.25968503e+03]\n",
      " [-5.09516372e+03 -2.45965931e+03]\n",
      " [-5.09195608e+03 -2.65963358e+03]\n",
      " [-4.89198181e+03 -2.65642595e+03]\n",
      " [-4.89518944e+03 -2.45645167e+03]\n",
      " [-4.89839708e+03 -2.25647739e+03]\n",
      " [-4.90160471e+03 -2.05650312e+03]\n",
      " [-4.90481235e+03 -1.85652884e+03]\n",
      " [-4.90801999e+03 -1.65655457e+03]\n",
      " [-4.91122762e+03 -1.45658029e+03]\n",
      " [-4.71446098e+03 -1.25339838e+03]\n",
      " [-4.71125335e+03 -1.45337265e+03]\n",
      " [-4.70804571e+03 -1.65334693e+03]\n",
      " [-4.70483808e+03 -1.85332121e+03]\n",
      " [-4.70163044e+03 -2.05329548e+03]\n",
      " [-4.69842280e+03 -2.25326976e+03]\n",
      " [-4.69521517e+03 -2.45324403e+03]\n",
      " [-4.69200753e+03 -2.65321831e+03]\n",
      " [-4.68879989e+03 -2.85319259e+03]\n",
      " [-4.48882562e+03 -2.84998495e+03]\n",
      " [-4.49203325e+03 -2.65001067e+03]\n",
      " [-4.49524089e+03 -2.45003640e+03]\n",
      " [-4.49844853e+03 -2.25006212e+03]\n",
      " [-4.50165616e+03 -2.05008785e+03]\n",
      " [-4.50486380e+03 -1.85011357e+03]\n",
      " [-4.50807144e+03 -1.65013929e+03]\n",
      " [-4.51127907e+03 -1.45016502e+03]\n",
      " [-4.51448671e+03 -1.25019074e+03]\n",
      " [-4.29526661e+03 -2.44682876e+03]\n",
      " [-4.29205898e+03 -2.64680304e+03]\n",
      " [-6.12120441e+03  2.84337799e+02]\n",
      " [-6.11799678e+03  8.43635229e+01]\n",
      " [-6.11478914e+03 -1.15610753e+02]\n",
      " [-6.11158150e+03 -3.15585029e+02]\n",
      " [-5.90839959e+03 -5.12351669e+02]\n",
      " [-5.91160723e+03 -3.12377393e+02]\n",
      " [-5.91481486e+03 -1.12403117e+02]\n",
      " [-5.91802250e+03  8.75711593e+01]\n",
      " [-5.92123014e+03  2.87545435e+02]\n",
      " [-5.72125586e+03  2.90753072e+02]\n",
      " [-5.71804822e+03  9.07787956e+01]\n",
      " [-5.71484059e+03 -1.09195480e+02]\n",
      " [-5.71163295e+03 -3.09169756e+02]\n",
      " [-5.70842531e+03 -5.09144032e+02]\n",
      " [-5.50845104e+03 -5.05936396e+02]\n",
      " [-5.51165867e+03 -3.05962120e+02]\n",
      " [-5.51486631e+03 -1.05987844e+02]\n",
      " [-5.51807395e+03  9.39864320e+01]\n",
      " [-5.52128158e+03  2.93960708e+02]\n",
      " [-5.32130731e+03  2.97168344e+02]\n",
      " [-5.31809967e+03  9.71940684e+01]\n",
      " [-5.31489203e+03 -1.02780208e+02]\n",
      " [-5.31168440e+03 -3.02754484e+02]\n",
      " [-5.30847676e+03 -5.02728760e+02]\n",
      " [-5.10529485e+03 -6.99495399e+02]\n",
      " [-5.10850249e+03 -4.99521123e+02]\n",
      " [-5.11171012e+03 -2.99546847e+02]\n",
      " [-5.11491776e+03 -9.95725713e+01]\n",
      " [-5.11812540e+03  1.00401705e+02]\n",
      " [-5.12133303e+03  3.00375981e+02]\n",
      " [-4.92135876e+03  3.03583617e+02]\n",
      " [-4.91815112e+03  1.03609341e+02]\n",
      " [-4.91494348e+03 -9.63649349e+01]\n",
      " [-4.91173585e+03 -2.96339211e+02]\n",
      " [-4.90852821e+03 -4.96313487e+02]\n",
      " [-4.90532057e+03 -6.96287763e+02]\n",
      " [-4.70534630e+03 -6.93080127e+02]\n",
      " [-4.70855393e+03 -4.93105851e+02]\n",
      " [-4.71176157e+03 -2.93131575e+02]\n",
      " [-4.71496921e+03 -9.31572986e+01]\n",
      " [-4.71817684e+03  1.06816977e+02]\n",
      " [-4.72138448e+03  3.06791253e+02]\n",
      " [ 3.50862599e+02  1.60162066e+00]\n",
      " [ 3.47654963e+02  2.01575897e+02]\n",
      " [ 3.44447326e+02  4.01550173e+02]\n",
      " [ 5.31591057e+02  1.20465491e+03]\n",
      " [ 5.34798693e+02  1.00468064e+03]\n",
      " [ 5.38006330e+02  8.04706361e+02]\n",
      " [ 5.41213966e+02  6.04732085e+02]\n",
      " [ 5.44421603e+02  4.04757809e+02]\n",
      " [ 5.47629239e+02  2.04783533e+02]\n",
      " [ 5.50836875e+02  4.80925702e+00]\n",
      " [ 5.54044512e+02 -1.95165019e+02]\n",
      " [ 5.57252148e+02 -3.95139295e+02]\n",
      " [ 7.54018788e+02 -1.91957383e+02]\n",
      " [ 7.50811151e+02  8.01689337e+00]\n",
      " [ 7.47603515e+02  2.07991169e+02]\n",
      " [ 7.44395879e+02  4.07965445e+02]\n",
      " [ 7.41188242e+02  6.07939721e+02]\n",
      " [ 7.37980606e+02  8.07913997e+02]\n",
      " [ 7.34772969e+02  1.00788827e+03]\n",
      " [ 9.34747245e+02  1.01109591e+03]\n",
      " [ 9.37954882e+02  8.11121634e+02]\n",
      " [ 9.41162518e+02  6.11147358e+02]\n",
      " [ 9.44370155e+02  4.11173082e+02]\n",
      " [ 9.47577791e+02  2.11198806e+02]\n",
      " [ 9.50785427e+02  1.12245297e+01]\n",
      " [ 9.53993064e+02 -1.88749746e+02]\n",
      " [ 1.15396734e+03 -1.85542110e+02]\n",
      " [ 1.15075970e+03  1.44321661e+01]\n",
      " [ 1.14755207e+03  2.14406442e+02]\n",
      " [ 1.14434443e+03  4.14380718e+02]\n",
      " [ 1.14113679e+03  6.14354994e+02]\n",
      " [ 1.13792916e+03  8.14329270e+02]\n",
      " [ 1.13472152e+03  1.01430355e+03]\n",
      " [ 1.33469580e+03  1.01751118e+03]\n",
      " [ 1.33790343e+03  8.17536907e+02]\n",
      " [ 1.34111107e+03  6.17562630e+02]\n",
      " [ 1.34431871e+03  4.17588354e+02]\n",
      " [ 1.34752634e+03  2.17614078e+02]\n",
      " [ 1.35073398e+03  1.76398024e+01]\n",
      " [ 1.35394162e+03 -1.82334474e+02]\n",
      " [ 1.55070826e+03  2.08474388e+01]\n",
      " [ 1.54750062e+03  2.20821715e+02]\n",
      " [ 1.54429298e+03  4.20795991e+02]\n",
      " [ 1.54108535e+03  6.20770267e+02]\n",
      " [ 1.53787771e+03  8.20744543e+02]\n",
      " [ 1.73785199e+03  8.23952179e+02]\n",
      " [ 1.74105962e+03  6.23977903e+02]\n",
      " [ 1.74426726e+03  4.24003627e+02]\n",
      " [ 1.74747489e+03  2.24029351e+02]\n",
      " [ 1.75068253e+03  2.40550752e+01]\n",
      " [ 1.95065681e+03  2.72627115e+01]\n",
      " [ 1.94744917e+03  2.27236988e+02]\n",
      " [ 1.94424153e+03  4.27211264e+02]\n",
      " [ 1.94103390e+03  6.27185540e+02]\n",
      " [ 1.93782626e+03  8.27159816e+02]\n",
      " [ 2.14421581e+03  4.30418900e+02]\n",
      " [ 2.14742345e+03  2.30444624e+02]\n",
      " [ 3.76947667e+02 -1.40016032e+03]\n",
      " [ 3.73740031e+02 -1.20018604e+03]\n",
      " [ 5.67299034e+02 -7.97029852e+02]\n",
      " [ 5.70506670e+02 -9.97004128e+02]\n",
      " [ 5.73714307e+02 -1.19697840e+03]\n",
      " [ 5.76921943e+02 -1.39695268e+03]\n",
      " [ 5.80129579e+02 -1.59692696e+03]\n",
      " [ 5.83337216e+02 -1.79690123e+03]\n",
      " [ 5.86544852e+02 -1.99687551e+03]\n",
      " [ 5.89752488e+02 -2.19684978e+03]\n",
      " [ 7.89726764e+02 -2.19364215e+03]\n",
      " [ 7.86519128e+02 -1.99366787e+03]\n",
      " [ 7.83311492e+02 -1.79369360e+03]\n",
      " [ 7.80103855e+02 -1.59371932e+03]\n",
      " [ 7.76896219e+02 -1.39374504e+03]\n",
      " [ 7.73688583e+02 -1.19377077e+03]\n",
      " [ 7.70480946e+02 -9.93796492e+02]\n",
      " [ 9.70455222e+02 -9.90588856e+02]\n",
      " [ 9.73662859e+02 -1.19056313e+03]\n",
      " [ 9.76870495e+02 -1.39053741e+03]\n",
      " [ 9.80078131e+02 -1.59051168e+03]\n",
      " [ 9.83285768e+02 -1.79048596e+03]\n",
      " [ 9.86493404e+02 -1.99046024e+03]\n",
      " [ 9.89701040e+02 -2.19043451e+03]\n",
      " [ 1.18967532e+03 -2.18722688e+03]\n",
      " [ 1.18646768e+03 -1.98725260e+03]\n",
      " [ 1.18326004e+03 -1.78727832e+03]\n",
      " [ 1.18005241e+03 -1.58730405e+03]\n",
      " [ 1.17684477e+03 -1.38732977e+03]\n",
      " [ 1.17363713e+03 -1.18735550e+03]\n",
      " [ 1.17042950e+03 -9.87381219e+02]\n",
      " [ 1.37040377e+03 -9.84173583e+02]\n",
      " [ 1.37361141e+03 -1.18414786e+03]\n",
      " [ 1.37681905e+03 -1.38412213e+03]\n",
      " [ 1.38002668e+03 -1.58409641e+03]\n",
      " [ 1.38323432e+03 -1.78407069e+03]\n",
      " [ 1.38644196e+03 -1.98404496e+03]\n",
      " [ 1.38964959e+03 -2.18401924e+03]\n",
      " [ 1.58962387e+03 -2.18081160e+03]\n",
      " [ 1.58641623e+03 -1.98083733e+03]\n",
      " [ 1.58320860e+03 -1.78086305e+03]\n",
      " [ 1.58000096e+03 -1.58088877e+03]\n",
      " [ 1.57679332e+03 -1.38091450e+03]\n",
      " [ 1.57358569e+03 -1.18094022e+03]\n",
      " [ 1.77355996e+03 -1.17773259e+03]\n",
      " [ 1.77676760e+03 -1.37770686e+03]\n",
      " [ 1.77997524e+03 -1.57768114e+03]\n",
      " [ 1.78318287e+03 -1.77765541e+03]\n",
      " [ 1.78639051e+03 -1.97762969e+03]\n",
      " [ 1.98636478e+03 -1.97442205e+03]\n",
      " [ 1.98315715e+03 -1.77444778e+03]\n",
      " [ 1.97994951e+03 -1.57447350e+03]\n",
      " [ 1.97674188e+03 -1.37449923e+03]\n",
      " [ 1.97353424e+03 -1.17452495e+03]]\n"
     ]
    }
   ],
   "source": [
    "new_positions = np.dot(old_positions, R) + T\n",
    "print(new_positions)"
   ]
  },
  {
   "cell_type": "code",
   "execution_count": 14,
   "metadata": {
    "collapsed": false
   },
   "outputs": [
    {
     "name": "stdout",
     "output_type": "stream",
     "text": [
      "D:\\Pu\\20211220-P_brain_CTP11-1000_CTP12-DNA_from_1216\\Alignments\\translated_positions_all.txt\n"
     ]
    }
   ],
   "source": [
    "save_filename = os.path.join(new_folder, 'translated_positions_all.txt')\n",
    "print(save_filename)\n",
    "np.savetxt(save_filename, new_positions, fmt='%.2f', delimiter=',')"
   ]
  },
  {
   "cell_type": "markdown",
   "metadata": {},
   "source": [
    "# further adjust manually"
   ]
  },
  {
   "cell_type": "code",
   "execution_count": 17,
   "metadata": {
    "collapsed": false
   },
   "outputs": [
    {
     "data": {
      "text/plain": [
       "array([[41.45, 13.75],\n",
       "       [43.45, 13.06],\n",
       "       [45.93, 15.1 ]])"
      ]
     },
     "execution_count": 17,
     "metadata": {},
     "output_type": "execute_result"
    }
   ],
   "source": [
    "before_adjust = np.array([[-6101.45,-2075.75],\n",
    "                         [-4498.45,-2250.06],\n",
    "                         [-5118.13,100.40],\n",
    "                         ])\n",
    "\n",
    "\n",
    "after_adjust = np.array([[-6060, -2062],\n",
    "                        [-4455.0,-2237.0],\n",
    "                        [-5072.2,115.5],\n",
    "                        ])\n",
    "\n",
    "\n",
    "after_adjust -before_adjust"
   ]
  },
  {
   "cell_type": "code",
   "execution_count": 18,
   "metadata": {
    "collapsed": false
   },
   "outputs": [
    {
     "data": {
      "text/plain": [
       "array([43.61, 13.97])"
      ]
     },
     "execution_count": 18,
     "metadata": {},
     "output_type": "execute_result"
    }
   ],
   "source": [
    "manual_shift = np.mean(after_adjust -before_adjust, axis=0)\n",
    "manual_shift"
   ]
  },
  {
   "cell_type": "code",
   "execution_count": 19,
   "metadata": {
    "collapsed": true
   },
   "outputs": [],
   "source": [
    "#manual_shift = np.array([-28.1,  -8.7])\n",
    "adjusted_new_positions = new_positions + manual_shift"
   ]
  },
  {
   "cell_type": "code",
   "execution_count": 20,
   "metadata": {
    "collapsed": false
   },
   "outputs": [
    {
     "name": "stdout",
     "output_type": "stream",
     "text": [
      "D:\\Pu\\20211220-P_brain_CTP11-1000_CTP12-DNA_from_1216\\Alignments\\adjusted_translated_positions_all.txt\n"
     ]
    }
   ],
   "source": [
    "adj_save_filename = os.path.join(new_folder, 'adjusted_translated_positions_all.txt')\n",
    "print(adj_save_filename)\n",
    "np.savetxt(adj_save_filename, adjusted_new_positions, fmt='%.2f', delimiter=',')"
   ]
  },
  {
   "cell_type": "code",
   "execution_count": null,
   "metadata": {
    "collapsed": true
   },
   "outputs": [],
   "source": []
  }
 ],
 "metadata": {
  "kernelspec": {
   "display_name": "Python 3",
   "language": "python",
   "name": "python3"
  },
  "language_info": {
   "codemirror_mode": {
    "name": "ipython",
    "version": 3
   },
   "file_extension": ".py",
   "mimetype": "text/x-python",
   "name": "python",
   "nbconvert_exporter": "python",
   "pygments_lexer": "ipython3",
   "version": "3.9.5"
  }
 },
 "nbformat": 4,
 "nbformat_minor": 4
}
