{
 "cells": [
  {
   "cell_type": "markdown",
   "metadata": {},
   "source": [
    "# calculate rotation and transposition matrix"
   ]
  },
  {
   "cell_type": "code",
   "execution_count": 8,
   "metadata": {
    "collapsed": false
   },
   "outputs": [],
   "source": [
    "import os\n",
    "\n",
    "data_folder = r'D:\\Pu\\20211208-P_brain_CTP11-500_M1_DNA_RNA-seq_hybrid'\n",
    "before_position_file = os.path.join(data_folder, 'positions_before_align.txt')\n",
    "after_position_file = os.path.join(data_folder, 'positions_after_align.txt')\n"
   ]
  },
  {
   "cell_type": "code",
   "execution_count": 9,
   "metadata": {
    "collapsed": true
   },
   "outputs": [],
   "source": [
    "import numpy as np\n",
    "import os, sys\n",
    "# 1. alignment for manually picked points\n",
    "def align_manual_points(pos_file_before, pos_file_after,\n",
    "                        save=True, save_folder=None, save_filename='', verbose=True):\n",
    "    \"\"\"Function to align two manually picked position files, \n",
    "    they should follow exactly the same order and of same length.\n",
    "    Inputs:\n",
    "        pos_file_before: full filename for positions file before translation\n",
    "        pos_file_after: full filename for positions file after translation\n",
    "        save: whether save rotation and translation info, bool (default: True)\n",
    "        save_folder: where to save rotation and translation info, None or string (default: same folder as pos_file_before)\n",
    "        save_filename: filename specified to save rotation and translation points\n",
    "        verbose: say something! bool (default: True)\n",
    "    Outputs:\n",
    "        R: rotation for positions, 2x2 array\n",
    "        T: traslation of positions, array of 2\n",
    "    Here's example for how to translate points\n",
    "        translated_ps_before = np.dot(ps_before, R) + t\n",
    "    \"\"\"\n",
    "    # load position_before\n",
    "    if os.path.isfile(pos_file_before):\n",
    "        ps_before = np.loadtxt(pos_file_before, delimiter=',')\n",
    "\n",
    "    # load position_after\n",
    "    if os.path.isfile(pos_file_after):\n",
    "        ps_after = np.loadtxt(pos_file_after, delimiter=',')\n",
    "\n",
    "    # do SVD decomposition to get best fit for rigid-translation\n",
    "    c_before = np.mean(ps_before, axis=0)\n",
    "    c_after = np.mean(ps_after, axis=0)\n",
    "    H = np.dot((ps_before - c_before).T, (ps_after - c_after))\n",
    "    U, _, V = np.linalg.svd(H)  # do SVD\n",
    "    # calcluate rotation\n",
    "    R = np.dot(V, U.T).T\n",
    "    if np.linalg.det(R) < 0:\n",
    "        R[:, -1] = -1 * R[:, -1]\n",
    "    # calculate translation\n",
    "    t = - np.dot(c_before, R) + c_after\n",
    "    # here's example for how to translate points\n",
    "    # translated_ps_before = np.dot(ps_before, R) + t\n",
    "    # save\n",
    "    if save:\n",
    "        if save_folder is None:\n",
    "            save_folder = os.path.dirname(pos_file_before)\n",
    "        if not os.path.exists(save_folder):\n",
    "            os.makedirs(save_folder)\n",
    "        if len(save_filename) > 0:\n",
    "            save_filename += '_'\n",
    "        rotation_name = os.path.join(save_folder, save_filename+'rotation')\n",
    "        translation_name = os.path.join(\n",
    "            save_folder, save_filename+'translation')\n",
    "        np.save(rotation_name, R)\n",
    "        np.save(translation_name, t)\n",
    "\n",
    "    return R, t"
   ]
  },
  {
   "cell_type": "code",
   "execution_count": 10,
   "metadata": {
    "collapsed": false
   },
   "outputs": [],
   "source": [
    "R, T = align_manual_points(before_position_file, after_position_file, save=False)\n"
   ]
  },
  {
   "cell_type": "code",
   "execution_count": 11,
   "metadata": {
    "collapsed": false
   },
   "outputs": [
    {
     "data": {
      "text/plain": [
       "(array([[ 0.99986777, -0.01626156],\n",
       "        [ 0.01626156,  0.99986777]]),\n",
       " array([-389.64807599,   53.53981124]))"
      ]
     },
     "execution_count": 11,
     "metadata": {},
     "output_type": "execute_result"
    }
   ],
   "source": [
    "R, T"
   ]
  },
  {
   "cell_type": "markdown",
   "metadata": {},
   "source": [
    "# transpose 60x positions"
   ]
  },
  {
   "cell_type": "code",
   "execution_count": 12,
   "metadata": {
    "collapsed": true
   },
   "outputs": [],
   "source": [
    "old_positions = np.loadtxt(os.path.join(data_folder, 'positions_all.txt'), delimiter=',')"
   ]
  },
  {
   "cell_type": "code",
   "execution_count": 13,
   "metadata": {
    "collapsed": false,
    "scrolled": true
   },
   "outputs": [
    {
     "name": "stdout",
     "output_type": "stream",
     "text": [
      "[[-7512.06312574 -4194.10024285]\n",
      " [-7312.08957133 -4197.3525555 ]\n",
      " [-7112.11601692 -4200.60486815]\n",
      " [-6912.14246251 -4203.85718079]\n",
      " [-6712.16890811 -4207.10949344]\n",
      " [-7508.81081309 -3994.12668845]\n",
      " [-7308.83725868 -3997.37900109]\n",
      " [-7108.86370428 -4000.63131374]\n",
      " [-6908.89014987 -4003.88362639]\n",
      " [-6708.91659546 -4007.13593903]\n",
      " [-6508.94304105 -4010.38825168]\n",
      " [-7705.53205485 -3790.90082139]\n",
      " [-7505.55850045 -3794.15313404]\n",
      " [-7305.58494604 -3797.40544669]\n",
      " [-7105.61139163 -3800.65775933]\n",
      " [-6905.63783722 -3803.91007198]\n",
      " [-6705.66428281 -3807.16238462]\n",
      " [-6505.69072841 -3810.41469727]\n",
      " [-6305.717174   -3813.66700992]\n",
      " [-7702.27974221 -3590.92726699]\n",
      " [-7502.3061878  -3594.17957963]\n",
      " [-7302.33263339 -3597.43189228]\n",
      " [-7102.35907898 -3600.68420492]\n",
      " [-6902.38552458 -3603.93651757]\n",
      " [-6702.41197017 -3607.18883022]\n",
      " [-6502.43841576 -3610.44114286]\n",
      " [-6302.46486135 -3613.69345551]\n",
      " [-6102.49130694 -3616.94576815]\n",
      " [-7899.00098397 -3387.70139993]\n",
      " [-7699.02742956 -3390.95371258]\n",
      " [-7499.05387515 -3394.20602522]\n",
      " [-7299.08032074 -3397.45833787]\n",
      " [-7099.10676634 -3400.71065052]\n",
      " [-6899.13321193 -3403.96296316]\n",
      " [-6699.15965752 -3407.21527581]\n",
      " [-6499.18610311 -3410.46758845]\n",
      " [-6299.21254871 -3413.7199011 ]\n",
      " [-6099.2389943  -3416.97221375]\n",
      " [-5899.26543989 -3420.22452639]\n",
      " [-8095.72222573 -3184.47553288]\n",
      " [-7895.74867132 -3187.72784552]\n",
      " [-7695.77511691 -3190.98015817]\n",
      " [-7495.80156251 -3194.23247082]\n",
      " [-7295.8280081  -3197.48478346]\n",
      " [-7095.85445369 -3200.73709611]\n",
      " [-6895.88089928 -3203.98940875]\n",
      " [-6695.90734488 -3207.2417214 ]\n",
      " [-6495.93379047 -3210.49403405]\n",
      " [-6295.96023606 -3213.74634669]\n",
      " [-6095.98668165 -3216.99865934]\n",
      " [-5896.01312724 -3220.25097199]\n",
      " [-8092.46991308 -2984.50197847]\n",
      " [-7892.49635868 -2987.75429112]\n",
      " [-7692.52280427 -2991.00660376]\n",
      " [-7492.54924986 -2994.25891641]\n",
      " [-7292.57569545 -2997.51122905]\n",
      " [-7092.60214104 -3000.7635417 ]\n",
      " [-6892.62858664 -3004.01585435]\n",
      " [-6692.65503223 -3007.26816699]\n",
      " [-6492.68147782 -3010.52047964]\n",
      " [-6292.70792341 -3013.77279229]\n",
      " [-6092.73436901 -3017.02510493]\n",
      " [-5892.7608146  -3020.27741758]\n",
      " [-5692.78726019 -3023.52973022]\n",
      " [-7689.27049162 -2791.03304935]\n",
      " [-7489.29693721 -2794.285362  ]\n",
      " [-7289.32338281 -2797.53767465]\n",
      " [-7089.3498284  -2800.78998729]\n",
      " [-6889.37627399 -2804.04229994]\n",
      " [-6689.40271958 -2807.29461259]\n",
      " [-6489.42916518 -2810.54692523]\n",
      " [-6289.45561077 -2813.79923788]\n",
      " [-6089.48205636 -2817.05155052]\n",
      " [-5889.50850195 -2820.30386317]\n",
      " [-5689.53494754 -2823.55617582]\n",
      " [-7486.04462457 -2594.31180759]\n",
      " [-7286.07107016 -2597.56412024]\n",
      " [-7086.09751575 -2600.81643289]\n",
      " [-6886.12396134 -2604.06874553]\n",
      " [-6686.15040694 -2607.32105818]\n",
      " [-6486.17685253 -2610.57337082]\n",
      " [-6286.20329812 -2613.82568347]\n",
      " [-6086.22974371 -2617.07799612]\n",
      " [-7282.81875751 -2397.59056583]\n",
      " [-7082.84520311 -2400.84287848]\n",
      " [-6882.8716487  -2404.09519112]\n",
      " [-6682.89809429 -2407.34750377]\n",
      " [-6482.92453988 -2410.59981642]\n",
      " [-7079.59289046 -2200.86932407]\n",
      " [-6879.61933605 -2204.12163672]\n",
      " [-6679.64578164 -2207.37394936]\n",
      " [-7076.34057781 -2000.89576966]\n",
      " [-6876.36702341 -2004.14808231]]\n"
     ]
    }
   ],
   "source": [
    "new_positions = np.dot(old_positions, R) + T\n",
    "print(new_positions)"
   ]
  },
  {
   "cell_type": "code",
   "execution_count": 14,
   "metadata": {
    "collapsed": false
   },
   "outputs": [
    {
     "name": "stdout",
     "output_type": "stream",
     "text": [
      "D:\\Pu\\20211208-P_brain_CTP11-500_M1_DNA_RNA-seq_hybrid\\translated_positions_all.txt\n"
     ]
    }
   ],
   "source": [
    "save_filename = os.path.join(data_folder, 'translated_positions_all.txt')\n",
    "print(save_filename)\n",
    "np.savetxt(save_filename, new_positions, fmt='%.2f', delimiter=',')"
   ]
  },
  {
   "cell_type": "markdown",
   "metadata": {},
   "source": [
    "# further adjust manually"
   ]
  },
  {
   "cell_type": "code",
   "execution_count": 8,
   "metadata": {
    "collapsed": true
   },
   "outputs": [],
   "source": [
    "manual_shift = np.array([-28.1,  -8.7])\n",
    "adjusted_new_positions = new_positions + manual_shift"
   ]
  },
  {
   "cell_type": "code",
   "execution_count": 9,
   "metadata": {
    "collapsed": false
   },
   "outputs": [
    {
     "name": "stdout",
     "output_type": "stream",
     "text": [
      "\\\\storm6-pc\\STORM6-FLASHDrive\\Pu\\20201127-NOAcr_CTP-08_E14_brain_no_clearing\\adjusted_translated_positions_all.txt\n"
     ]
    }
   ],
   "source": [
    "adj_save_filename = os.path.join(data_folder, 'adjusted_translated_positions_all.txt')\n",
    "print(adj_save_filename)\n",
    "np.savetxt(adj_save_filename, adjusted_new_positions, fmt='%.2f', delimiter=',')"
   ]
  },
  {
   "cell_type": "code",
   "execution_count": null,
   "metadata": {
    "collapsed": true
   },
   "outputs": [],
   "source": []
  }
 ],
 "metadata": {
  "kernelspec": {
   "display_name": "Python 3",
   "language": "python",
   "name": "python3"
  },
  "language_info": {
   "codemirror_mode": {
    "name": "ipython",
    "version": 3
   },
   "file_extension": ".py",
   "mimetype": "text/x-python",
   "name": "python",
   "nbconvert_exporter": "python",
   "pygments_lexer": "ipython3",
   "version": "3.9.5"
  }
 },
 "nbformat": 4,
 "nbformat_minor": 4
}
