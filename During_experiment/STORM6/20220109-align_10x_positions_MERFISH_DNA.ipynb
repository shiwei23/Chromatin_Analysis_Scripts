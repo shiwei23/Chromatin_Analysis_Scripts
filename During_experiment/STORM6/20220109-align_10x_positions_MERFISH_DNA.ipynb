{
 "cells": [
  {
   "cell_type": "markdown",
   "metadata": {},
   "source": [
    "# calculate rotation and transposition matrix"
   ]
  },
  {
   "cell_type": "code",
   "execution_count": 1,
   "metadata": {
    "collapsed": false
   },
   "outputs": [],
   "source": [
    "import os\n",
    "\n",
    "old_folder = r'D:\\Pu\\20211230-P_brain_M1_nonclear\\Alignment'\n",
    "\n",
    "before_position_file = os.path.join(old_folder, '10x_positions_before.txt')\n",
    "\n",
    "new_folder = r'D:\\Pu\\20220109-CTP11-1000_CTP12-DNA_from_1230\\Alignment'\n",
    "\n",
    "after_position_file = os.path.join(new_folder, '10x_positions_after.txt')"
   ]
  },
  {
   "cell_type": "code",
   "execution_count": 2,
   "metadata": {
    "collapsed": false
   },
   "outputs": [
    {
     "data": {
      "text/plain": [
       "(True, True)"
      ]
     },
     "execution_count": 2,
     "metadata": {},
     "output_type": "execute_result"
    }
   ],
   "source": [
    "os.path.isfile(before_position_file), os.path.isfile(after_position_file)"
   ]
  },
  {
   "cell_type": "code",
   "execution_count": 3,
   "metadata": {
    "collapsed": true
   },
   "outputs": [],
   "source": [
    "import numpy as np\n",
    "import os, sys\n",
    "# 1. alignment for manually picked points\n",
    "def align_manual_points(pos_file_before, pos_file_after,\n",
    "                        save=True, save_folder=None, save_filename='', verbose=True):\n",
    "    \"\"\"Function to align two manually picked position files, \n",
    "    they should follow exactly the same order and of same length.\n",
    "    Inputs:\n",
    "        pos_file_before: full filename for positions file before translation\n",
    "        pos_file_after: full filename for positions file after translation\n",
    "        save: whether save rotation and translation info, bool (default: True)\n",
    "        save_folder: where to save rotation and translation info, None or string (default: same folder as pos_file_before)\n",
    "        save_filename: filename specified to save rotation and translation points\n",
    "        verbose: say something! bool (default: True)\n",
    "    Outputs:\n",
    "        R: rotation for positions, 2x2 array\n",
    "        T: traslation of positions, array of 2\n",
    "    Here's example for how to translate points\n",
    "        translated_ps_before = np.dot(ps_before, R) + t\n",
    "    \"\"\"\n",
    "    # load position_before\n",
    "    if os.path.isfile(pos_file_before):\n",
    "        ps_before = np.loadtxt(pos_file_before, delimiter=',')\n",
    "\n",
    "    # load position_after\n",
    "    if os.path.isfile(pos_file_after):\n",
    "        ps_after = np.loadtxt(pos_file_after, delimiter=',')\n",
    "\n",
    "    # do SVD decomposition to get best fit for rigid-translation\n",
    "    c_before = np.mean(ps_before, axis=0)\n",
    "    c_after = np.mean(ps_after, axis=0)\n",
    "    H = np.dot((ps_before - c_before).T, (ps_after - c_after))\n",
    "    U, _, V = np.linalg.svd(H)  # do SVD\n",
    "    # calcluate rotation\n",
    "    R = np.dot(V, U.T).T\n",
    "    if np.linalg.det(R) < 0:\n",
    "        R[:, -1] = -1 * R[:, -1]\n",
    "    # calculate translation\n",
    "    t = - np.dot(c_before, R) + c_after\n",
    "    # here's example for how to translate points\n",
    "    # translated_ps_before = np.dot(ps_before, R) + t\n",
    "    # save\n",
    "    if save:\n",
    "        if save_folder is None:\n",
    "            save_folder = os.path.dirname(pos_file_before)\n",
    "        if not os.path.exists(save_folder):\n",
    "            os.makedirs(save_folder)\n",
    "        if len(save_filename) > 0:\n",
    "            save_filename += '_'\n",
    "        rotation_name = os.path.join(save_folder, save_filename+'rotation')\n",
    "        translation_name = os.path.join(\n",
    "            save_folder, save_filename+'translation')\n",
    "        np.save(rotation_name, R)\n",
    "        np.save(translation_name, t)\n",
    "\n",
    "    return R, t"
   ]
  },
  {
   "cell_type": "code",
   "execution_count": 4,
   "metadata": {
    "collapsed": false
   },
   "outputs": [],
   "source": [
    "R, T = align_manual_points(before_position_file, after_position_file, save=False, save_folder=new_folder)\n"
   ]
  },
  {
   "cell_type": "code",
   "execution_count": 5,
   "metadata": {
    "collapsed": false
   },
   "outputs": [
    {
     "data": {
      "text/plain": [
       "(array([[ 0.99999663, -0.0025952 ],\n",
       "        [ 0.0025952 ,  0.99999663]]),\n",
       " array([-663.41808681,  539.80114533]))"
      ]
     },
     "execution_count": 5,
     "metadata": {},
     "output_type": "execute_result"
    }
   ],
   "source": [
    "R, T"
   ]
  },
  {
   "cell_type": "markdown",
   "metadata": {},
   "source": [
    "# transpose 60x positions"
   ]
  },
  {
   "cell_type": "code",
   "execution_count": 6,
   "metadata": {
    "collapsed": false
   },
   "outputs": [],
   "source": [
    "old_positions = np.loadtxt(os.path.join(os.path.dirname(old_folder), 'positions_all.txt'), delimiter=',')"
   ]
  },
  {
   "cell_type": "code",
   "execution_count": 7,
   "metadata": {
    "collapsed": false,
    "scrolled": true
   },
   "outputs": [
    {
     "name": "stdout",
     "output_type": "stream",
     "text": [
      "[[-4061.19405481  1439.72208144]\n",
      " [-4061.71309466  1239.72275495]\n",
      " [-4062.23213451  1039.72342846]\n",
      " [-4062.75117435   839.72410196]\n",
      " [-3862.75184786   839.20506212]\n",
      " [-3862.23280801  1039.20438861]\n",
      " [-3861.71376817  1239.2037151 ]\n",
      " [-3861.19472832  1439.2030416 ]\n",
      " [-3661.19540183  1438.68400175]\n",
      " [-3661.71444167  1238.68467526]\n",
      " [-3662.23348152  1038.68534876]\n",
      " [-3662.75252137   838.68602227]\n",
      " [-3663.27156121   638.68669578]\n",
      " [-3463.27223472   638.16765593]\n",
      " [-3462.75319487   838.16698242]\n",
      " [-3462.23415503  1038.16630892]\n",
      " [-3461.71511518  1238.16563541]\n",
      " [-3461.19607533  1438.1649619 ]\n",
      " [-3261.19674884  1437.64592205]\n",
      " [-3261.71578869  1237.64659556]\n",
      " [-3262.23482853  1037.64726907]\n",
      " [-3262.75386838   837.64794258]\n",
      " [-3263.27290823   637.64861608]\n",
      " [-3063.27358174   637.12957624]\n",
      " [-3062.75454189   837.12890273]\n",
      " [-3062.23550204  1037.12822922]\n",
      " [-3061.71646219  1237.12755571]\n",
      " [-3061.19742235  1437.12688221]\n",
      " [-2861.19809585  1436.60784236]\n",
      " [-2861.7171357   1236.60851587]\n",
      " [-2862.23617555  1036.60918937]\n",
      " [-2862.7552154    836.60986288]\n",
      " [-2863.27425524   636.61053639]\n",
      " [-2663.7939686    436.09217005]\n",
      " [-2663.27492875   636.09149654]\n",
      " [-2662.7558889    836.09082303]\n",
      " [-2662.23684906  1036.09014953]\n",
      " [-2661.71780921  1236.08947602]\n",
      " [-2661.19876936  1436.08880251]\n",
      " [-4101.94544138  3731.93555852]\n",
      " [-3901.94611489  3731.41651867]\n",
      " [-3902.46515473  3531.41719218]\n",
      " [-3902.98419458  3331.41786569]\n",
      " [-3903.50323443  3131.41853919]\n",
      " [-3904.02227428  2931.4192127 ]\n",
      " [-3704.02294778  2930.90017285]\n",
      " [-3703.50390794  3130.89949935]\n",
      " [-3702.98486809  3330.89882584]\n",
      " [-3702.46582824  3530.89815233]\n",
      " [-3701.94678839  3730.89747883]\n",
      " [-3501.9474619   3730.37843898]\n",
      " [-3502.46650175  3530.37911249]\n",
      " [-3502.98554159  3330.37978599]\n",
      " [-3503.50458144  3130.3804595 ]\n",
      " [-3504.02362129  2930.38113301]\n",
      " [-3304.0242948   2929.86209316]\n",
      " [-3303.50525495  3129.86141965]\n",
      " [-3302.9862151   3329.86074615]\n",
      " [-3302.46717525  3529.86007264]\n",
      " [-3301.94813541  3729.85939913]\n",
      " [-3101.42976907  3929.33968578]\n",
      " [-3101.94880891  3729.34035928]\n",
      " [-3102.46784876  3529.34103279]\n",
      " [-3102.98688861  3329.3417063 ]\n",
      " [-3103.50592846  3129.3423798 ]\n",
      " [-3104.0249683   2929.34305331]\n",
      " [-2904.54468166  2728.82468697]\n",
      " [-2904.02564181  2928.82401346]\n",
      " [-2903.50660196  3128.82333996]\n",
      " [-2902.98756212  3328.82266645]\n",
      " [-2902.46852227  3528.82199294]\n",
      " [-2901.94948242  3728.82131944]\n",
      " [-2901.43044257  3928.82064593]\n",
      " [-2701.95015593  3728.30227959]\n",
      " [-2702.46919578  3528.3029531 ]\n",
      " [-2702.98823562  3328.3036266 ]\n",
      " [-2703.50727547  3128.30430011]\n",
      " [-2704.02631532  2928.30497362]\n",
      " [-2704.54535516  2728.30564712]\n",
      " [ 5271.80376338  3237.80714775]\n",
      " [ 5271.28472353  3037.80782126]\n",
      " [ 5270.76568368  2837.80849477]\n",
      " [ 5270.24664384  2637.80916827]\n",
      " [ 5469.72693048  2437.29080193]\n",
      " [ 5470.24597033  2637.29012843]\n",
      " [ 5470.76501018  2837.28945492]\n",
      " [ 5471.28405002  3037.28878141]\n",
      " [ 5471.80308987  3237.2881079 ]\n",
      " [ 5671.80241636  3236.76906806]\n",
      " [ 5671.28337652  3036.76974156]\n",
      " [ 5670.76433667  2836.77041507]\n",
      " [ 5670.24529682  2636.77108858]\n",
      " [ 5669.72625697  2436.77176208]\n",
      " [ 5869.72558347  2436.25272224]\n",
      " [ 5870.24462331  2636.25204873]\n",
      " [ 5870.76366316  2836.25137522]\n",
      " [ 5871.28270301  3036.25070172]\n",
      " [ 5871.80174286  3236.25002821]\n",
      " [ 6071.80106935  3235.73098836]\n",
      " [ 6071.2820295   3035.73166187]\n",
      " [ 6070.76298965  2835.73233538]\n",
      " [ 6070.24394981  2635.73300888]\n",
      " [ 6069.72490996  2435.73368239]\n",
      " [ 6269.20519661  2235.21531605]\n",
      " [ 6269.72423645  2435.21464254]\n",
      " [ 6270.2432763   2635.21396904]\n",
      " [ 6270.76231615  2835.21329553]\n",
      " [ 6271.28135599  3035.21262202]\n",
      " [ 6271.80039584  3235.21194852]\n",
      " [ 6471.79972233  3234.69290867]\n",
      " [ 6471.28068249  3034.69358218]\n",
      " [ 6470.76164264  2834.69425568]\n",
      " [ 6470.24260279  2634.69492919]\n",
      " [ 6469.72356295  2434.6956027 ]\n",
      " [ 6469.2045231   2234.6962762 ]\n",
      " [ 6669.20384959  2234.17723636]\n",
      " [ 6669.72288944  2434.17656285]\n",
      " [ 6670.24192929  2634.17588934]\n",
      " [ 6670.76096913  2834.17521583]\n",
      " [ 6671.28000898  3034.17454233]\n",
      " [ 5412.53449219  1091.63469616]\n",
      " [ 5412.01545234   891.63536967]\n",
      " [ 5411.49641249   691.63604317]\n",
      " [ 5410.97737264   491.63671668]\n",
      " [ 5610.45765929   291.11835034]\n",
      " [ 5610.97669914   491.11767683]\n",
      " [ 5611.49573898   691.11700333]\n",
      " [ 5612.01477883   891.11632982]\n",
      " [ 5612.53381868  1091.11565631]\n",
      " [ 5812.53314517  1090.59661647]\n",
      " [ 5812.01410532   890.59728997]\n",
      " [ 5811.49506548   690.59796348]\n",
      " [ 5810.97602563   490.59863699]\n",
      " [ 5810.45698578   290.59931049]\n",
      " [ 6010.45631228   290.08027065]\n",
      " [ 6010.97535212   490.07959714]\n",
      " [ 6011.49439197   690.07892363]\n",
      " [ 6012.01343182   890.07825013]\n",
      " [ 6012.53247167  1090.07757662]\n",
      " [ 6212.53179816  1089.55853677]\n",
      " [ 6212.01275831   889.55921028]\n",
      " [ 6211.49371846   689.55988379]\n",
      " [ 6210.97467862   489.56055729]\n",
      " [ 6210.45563877   289.5612308 ]\n",
      " [ 6410.45496526   289.04219095]\n",
      " [ 6410.97400511   489.04151745]\n",
      " [ 6411.49304496   689.04084394]\n",
      " [ 6412.0120848    889.04017043]\n",
      " [ 6412.53112465  1089.03949692]\n",
      " [ 6612.53045114  1088.52045708]\n",
      " [ 6612.0114113    888.52113058]\n",
      " [ 6611.49237145   688.52180409]\n",
      " [ 6610.9733316    488.5224776 ]\n",
      " [ 6610.45429176   288.5231511 ]\n",
      " [ 6810.45361825   288.00411126]\n",
      " [ 6810.9726581    488.00343775]\n",
      " [ 6811.49169794   688.00276424]\n",
      " [ 6812.01073779   888.00209074]\n",
      " [ 6812.52977764  1088.00141723]]\n"
     ]
    }
   ],
   "source": [
    "new_positions = np.dot(old_positions, R) + T\n",
    "print(new_positions)"
   ]
  },
  {
   "cell_type": "code",
   "execution_count": 8,
   "metadata": {
    "collapsed": false
   },
   "outputs": [
    {
     "name": "stdout",
     "output_type": "stream",
     "text": [
      "D:\\Pu\\20220109-CTP11-1000_CTP12-DNA_from_1230\\Alignment\\translated_positions_all.txt\n"
     ]
    }
   ],
   "source": [
    "save_filename = os.path.join(new_folder, 'translated_positions_all.txt')\n",
    "print(save_filename)\n",
    "np.savetxt(save_filename, new_positions, fmt='%.2f', delimiter=',')"
   ]
  },
  {
   "cell_type": "markdown",
   "metadata": {},
   "source": [
    "# further adjust manually"
   ]
  },
  {
   "cell_type": "code",
   "execution_count": 11,
   "metadata": {
    "collapsed": false
   },
   "outputs": [
    {
     "name": "stdout",
     "output_type": "stream",
     "text": [
      "[[-4154.69018517   767.01245716]\n",
      " [-4104.77180943  3856.64331347]\n",
      " [ 2564.46798326  1570.62760921]\n",
      " [ 3874.23008241  2980.03326184]]\n"
     ]
    }
   ],
   "source": [
    "manual_positions_before = np.array([[-3491.85,218.15],\n",
    "                                    [-3449.95,3307.90],\n",
    "                                    [3225.20,1039.20],\n",
    "                                    [4531.30,2452.00],\n",
    "                                   ])\n",
    "\n",
    "translated_manual_positions = np.dot(manual_positions_before, R) + T\n",
    "print(translated_manual_positions)"
   ]
  },
  {
   "cell_type": "code",
   "execution_count": null,
   "metadata": {
    "collapsed": true
   },
   "outputs": [],
   "source": []
  },
  {
   "cell_type": "code",
   "execution_count": 34,
   "metadata": {
    "collapsed": false
   },
   "outputs": [
    {
     "data": {
      "text/plain": [
       "array([[-33.30981483,  17.98754284],\n",
       "       [-32.22819057,  17.85668653],\n",
       "       [-31.46798326,  16.37239079]])"
      ]
     },
     "execution_count": 34,
     "metadata": {},
     "output_type": "execute_result"
    }
   ],
   "source": [
    "manual_positions_after = np.array([[-4188, 785],\n",
    "                        [-4137,3874.5],\n",
    "                        [2533,1587],\n",
    "                        ])\n",
    "\n",
    "\n",
    "manual_positions_after - translated_manual_positions[:len(manual_positions_after)]"
   ]
  },
  {
   "cell_type": "code",
   "execution_count": 35,
   "metadata": {
    "collapsed": false
   },
   "outputs": [
    {
     "data": {
      "text/plain": [
       "array([-32.33532956,  17.40554006])"
      ]
     },
     "execution_count": 35,
     "metadata": {},
     "output_type": "execute_result"
    }
   ],
   "source": [
    "manual_shift = np.mean(manual_positions_after - translated_manual_positions[:len(manual_positions_after)], axis=0)\n",
    "manual_shift"
   ]
  },
  {
   "cell_type": "code",
   "execution_count": 29,
   "metadata": {
    "collapsed": true
   },
   "outputs": [],
   "source": [
    "adjusted_new_positions = new_positions + manual_shift"
   ]
  },
  {
   "cell_type": "code",
   "execution_count": 30,
   "metadata": {
    "collapsed": false
   },
   "outputs": [
    {
     "name": "stdout",
     "output_type": "stream",
     "text": [
      "D:\\Pu\\20220109-CTP11-1000_CTP12-DNA_from_1230\\Alignment\\adjusted_translated_positions_all.txt\n"
     ]
    }
   ],
   "source": [
    "adj_save_filename = os.path.join(new_folder, 'adjusted_translated_positions_all.txt')\n",
    "print(adj_save_filename)\n",
    "np.savetxt(adj_save_filename, adjusted_new_positions, fmt='%.2f', delimiter=',')"
   ]
  },
  {
   "cell_type": "code",
   "execution_count": null,
   "metadata": {
    "collapsed": true
   },
   "outputs": [],
   "source": []
  }
 ],
 "metadata": {
  "kernelspec": {
   "display_name": "Python 3",
   "language": "python",
   "name": "python3"
  },
  "language_info": {
   "codemirror_mode": {
    "name": "ipython",
    "version": 3
   },
   "file_extension": ".py",
   "mimetype": "text/x-python",
   "name": "python",
   "nbconvert_exporter": "python",
   "pygments_lexer": "ipython3",
   "version": "3.9.5"
  }
 },
 "nbformat": 4,
 "nbformat_minor": 4
}
