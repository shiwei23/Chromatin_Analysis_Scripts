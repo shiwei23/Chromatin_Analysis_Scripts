{
 "cells": [
  {
   "cell_type": "markdown",
   "id": "outer-sheet",
   "metadata": {},
   "source": [
    "# Calculate volume to dissolve Speed-Vac libraries\n",
    "\n",
    "by Pu Zheng\n",
    "\n",
    "2021.6.7"
   ]
  },
  {
   "cell_type": "markdown",
   "id": "built-texture",
   "metadata": {},
   "source": [
    "## change the formula in one of the following box:"
   ]
  },
  {
   "cell_type": "code",
   "execution_count": 9,
   "id": "ruled-medicine",
   "metadata": {},
   "outputs": [
    {
     "name": "stdout",
     "output_type": "stream",
     "text": [
      "0.0015282\n",
      "5.8446475695108425e-08\n",
      "1.3720796228633102e-12\n",
      "final in ul: 137.2 ul\n"
     ]
    }
   ],
   "source": [
    "# test formula\n",
    "vol = 9e3 # ul\n",
    "conc = 169.8e-9 # g/ul\n",
    "num_pb = 26147\n",
    "pb_len = 140\n",
    "pb_mw = (pb_len * 303.7 + 79) # g/mol\n",
    "\n",
    "mass_total = vol * conc\n",
    "mass_per_pb = mass_total / num_pb\n",
    "mol_per_pb = mass_per_pb / pb_mw\n",
    "print(mass_total)\n",
    "print(mass_per_pb)\n",
    "print(mol_per_pb)\n",
    "target_conc = 1e-8 * 1e-6 # mol/ul\n",
    "final_vol = mol_per_pb / target_conc\n",
    "print(f\"final in ul: {final_vol:.1f} ul\")"
   ]
  },
  {
   "cell_type": "code",
   "execution_count": 1,
   "id": "stock-essex",
   "metadata": {},
   "outputs": [
    {
     "name": "stdout",
     "output_type": "stream",
     "text": [
      "0.0013112999999999998\n",
      "8.914950030593513e-08\n",
      "1.953576287547336e-12\n",
      "final in ul: 195.3576287547336\n"
     ]
    }
   ],
   "source": [
    "# RNA\n",
    "vol = 9e3 # ul\n",
    "conc = 145.7e-9 # g/ul\n",
    "num_pb = 14709\n",
    "pb_len = 150\n",
    "pb_mw = (pb_len * 303.7 + 79) # g/mol\n",
    "\n",
    "mass_total = vol * conc\n",
    "mass_per_pb = mass_total / num_pb\n",
    "mol_per_pb = mass_per_pb / pb_mw\n",
    "print(mass_total)\n",
    "print(mass_per_pb)\n",
    "print(mol_per_pb)\n",
    "target_conc = 1e-8 * 1e-6 # mol/ul\n",
    "final_vol = mol_per_pb / target_conc\n",
    "print(\"final in ul:\", final_vol)"
   ]
  },
  {
   "cell_type": "code",
   "execution_count": 2,
   "id": "general-examination",
   "metadata": {},
   "outputs": [
    {
     "name": "stdout",
     "output_type": "stream",
     "text": [
      "0.0014858999999999999\n",
      "2.727172616316417e-08\n",
      "6.402264517023305e-13\n",
      "final in ul: 64.02264517023305\n"
     ]
    }
   ],
   "source": [
    "# DNA TSS\n",
    "vol = 9e3 # ul\n",
    "conc = 165.1e-9 # g/ul\n",
    "num_pb = 54485\n",
    "pb_len = 140\n",
    "pb_mw = (pb_len * 303.7 + 79) # g/mol\n",
    "\n",
    "mass_total = vol * conc\n",
    "mass_per_pb = mass_total / num_pb\n",
    "mol_per_pb = mass_per_pb / pb_mw\n",
    "print(mass_total)\n",
    "print(mass_per_pb)\n",
    "print(mol_per_pb)\n",
    "target_conc = 1e-8 * 1e-6 # mol/ul\n",
    "final_vol = mol_per_pb / target_conc\n",
    "print(\"final in ul:\", final_vol)"
   ]
  },
  {
   "cell_type": "code",
   "execution_count": 3,
   "id": "developed-clause",
   "metadata": {},
   "outputs": [
    {
     "name": "stdout",
     "output_type": "stream",
     "text": [
      "0.0015282\n",
      "5.8446475695108425e-08\n",
      "1.3720796228633102e-12\n",
      "final in ul: 137.20796228633102\n"
     ]
    }
   ],
   "source": [
    "# DNA TSS\n",
    "vol = 9e3 # ul\n",
    "conc = 169.8e-9 # g/ul\n",
    "num_pb = 26147\n",
    "pb_len = 140\n",
    "pb_mw = (pb_len * 303.7 + 79) # g/mol\n",
    "\n",
    "mass_total = vol * conc\n",
    "mass_per_pb = mass_total / num_pb\n",
    "mol_per_pb = mass_per_pb / pb_mw\n",
    "print(mass_total)\n",
    "print(mass_per_pb)\n",
    "print(mol_per_pb)\n",
    "target_conc = 1e-8 * 1e-6 # mol/ul\n",
    "final_vol = mol_per_pb / target_conc\n",
    "print(\"final in ul:\", final_vol)"
   ]
  },
  {
   "cell_type": "code",
   "execution_count": null,
   "id": "numeric-optics",
   "metadata": {},
   "outputs": [],
   "source": []
  }
 ],
 "metadata": {
  "kernelspec": {
   "display_name": "Python 3",
   "language": "python",
   "name": "python3"
  },
  "language_info": {
   "codemirror_mode": {
    "name": "ipython",
    "version": 3
   },
   "file_extension": ".py",
   "mimetype": "text/x-python",
   "name": "python",
   "nbconvert_exporter": "python",
   "pygments_lexer": "ipython3",
   "version": "3.7.9"
  }
 },
 "nbformat": 4,
 "nbformat_minor": 5
}
