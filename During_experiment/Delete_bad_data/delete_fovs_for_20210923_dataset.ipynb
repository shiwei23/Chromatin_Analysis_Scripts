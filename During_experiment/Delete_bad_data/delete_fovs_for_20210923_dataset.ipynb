{
 "cells": [
  {
   "cell_type": "code",
   "execution_count": 2,
   "id": "a93e372e",
   "metadata": {},
   "outputs": [
    {
     "name": "stdout",
     "output_type": "stream",
     "text": [
      "23548\n"
     ]
    }
   ],
   "source": [
    "# Note: this part may need to be run twice\n",
    "%run \"..\\..\\Startup_py3.py\"\n",
    "sys.path.append(r\"..\\..\\..\\..\\Documents\")\n",
    "\n",
    "import ImageAnalysis3 as ia\n",
    "%matplotlib notebook\n",
    "\n",
    "from ImageAnalysis3 import *\n",
    "print(os.getpid())\n",
    "\n",
    "import h5py\n",
    "from ImageAnalysis3.classes import _allowed_kwds\n",
    "import ast"
   ]
  },
  {
   "cell_type": "code",
   "execution_count": 3,
   "id": "a3b12991",
   "metadata": {},
   "outputs": [],
   "source": [
    "data_folder = r'\\\\10.245.74.158\\Chromatin_NAS_5\\20210923-Thymus_AireKO-GFP_CTP-10_DNA'"
   ]
  },
  {
   "cell_type": "code",
   "execution_count": 4,
   "id": "8c4d9ad6",
   "metadata": {},
   "outputs": [
    {
     "name": "stdout",
     "output_type": "stream",
     "text": [
      "Get Folder Names: (ia.get_img_info.get_folders)\n",
      "- Number of folders: 25\n",
      "- Number of field of views: 87\n"
     ]
    }
   ],
   "source": [
    "folders, fovs = get_img_info.get_folders(data_folder)"
   ]
  },
  {
   "cell_type": "code",
   "execution_count": 9,
   "id": "6086b669",
   "metadata": {},
   "outputs": [],
   "source": [
    "\n",
    "kept_fovs = np.arange(7,17)\n",
    "kept_fov_names = [fovs[_i].split(os.extsep+fovs[_i].split(os.extsep)[-1])[0] for _i in kept_fovs]"
   ]
  },
  {
   "cell_type": "code",
   "execution_count": 10,
   "id": "d1655a88",
   "metadata": {},
   "outputs": [
    {
     "data": {
      "text/plain": [
       "['Conv_zscan_07',\n",
       " 'Conv_zscan_08',\n",
       " 'Conv_zscan_09',\n",
       " 'Conv_zscan_10',\n",
       " 'Conv_zscan_11',\n",
       " 'Conv_zscan_12',\n",
       " 'Conv_zscan_13',\n",
       " 'Conv_zscan_14',\n",
       " 'Conv_zscan_15',\n",
       " 'Conv_zscan_16']"
      ]
     },
     "execution_count": 10,
     "metadata": {},
     "output_type": "execute_result"
    }
   ],
   "source": [
    "kept_fov_names"
   ]
  },
  {
   "cell_type": "code",
   "execution_count": 14,
   "id": "66bb8fa8",
   "metadata": {},
   "outputs": [],
   "source": [
    "\n",
    "for _fd in folders:\n",
    "    _files = os.listdir(_fd)\n",
    "    for _fl in _files:\n",
    "        _filename = os.path.join(_fd, _fl)\n",
    "        _file_basename = _fl.split(os.extsep+_fl.split(os.extsep)[-1])[0]\n",
    "        if _file_basename in kept_fov_names:\n",
    "            #print(_filename)\n",
    "            continue\n",
    "        else:\n",
    "            os.remove(_filename)"
   ]
  },
  {
   "cell_type": "code",
   "execution_count": null,
   "id": "fa96a258",
   "metadata": {},
   "outputs": [],
   "source": []
  }
 ],
 "metadata": {
  "kernelspec": {
   "display_name": "Python 3",
   "language": "python",
   "name": "python3"
  },
  "language_info": {
   "codemirror_mode": {
    "name": "ipython",
    "version": 3
   },
   "file_extension": ".py",
   "mimetype": "text/x-python",
   "name": "python",
   "nbconvert_exporter": "python",
   "pygments_lexer": "ipython3",
   "version": "3.7.10"
  }
 },
 "nbformat": 4,
 "nbformat_minor": 5
}
