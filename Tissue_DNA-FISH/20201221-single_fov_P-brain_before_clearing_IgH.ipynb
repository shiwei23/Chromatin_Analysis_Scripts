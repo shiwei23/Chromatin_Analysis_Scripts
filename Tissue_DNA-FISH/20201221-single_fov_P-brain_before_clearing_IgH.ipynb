{
 "cells": [
  {
   "cell_type": "code",
   "execution_count": 1,
   "metadata": {},
   "outputs": [
    {
     "name": "stdout",
     "output_type": "stream",
     "text": [
      "19096\n"
     ]
    }
   ],
   "source": [
    "%run \"C:\\Users\\shiwei\\Data Analysis\\ImageAnalysis3\\required_files\\Startup_py3.py\"\n",
    "sys.path.append(r\"C:\\Users\\shiwei\\Data Analysis\")\n",
    "\n",
    "import ImageAnalysis3 as ia\n",
    "%matplotlib notebook\n",
    "\n",
    "from ImageAnalysis3 import *\n",
    "print(os.getpid())"
   ]
  },
  {
   "cell_type": "code",
   "execution_count": 1,
   "metadata": {},
   "outputs": [
    {
     "name": "stdout",
     "output_type": "stream",
     "text": [
      "30496\n"
     ]
    }
   ],
   "source": [
    "%run \"E:\\Users\\puzheng\\Documents\\Startup_py3.py\"\n",
    "sys.path.append(r\"E:\\Users\\puzheng\\Documents\")\n",
    "\n",
    "import ImageAnalysis3 as ia\n",
    "%matplotlib notebook\n",
    "\n",
    "from ImageAnalysis3 import *\n",
    "print(os.getpid())"
   ]
  },
  {
   "cell_type": "markdown",
   "metadata": {},
   "source": [
    "# 0. required packages for h5py"
   ]
  },
  {
   "cell_type": "code",
   "execution_count": 2,
   "metadata": {},
   "outputs": [],
   "source": [
    "import h5py\n",
    "from ImageAnalysis3.classes import _allowed_kwds\n",
    "import ast"
   ]
  },
  {
   "cell_type": "markdown",
   "metadata": {},
   "source": [
    "# 1. Create field-of-view class"
   ]
  },
  {
   "cell_type": "code",
   "execution_count": 24,
   "metadata": {},
   "outputs": [],
   "source": [
    "reload(ia)\n",
    "reload(classes)\n",
    "reload(classes.batch_functions)\n",
    "reload(classes.field_of_view)\n",
    "reload(io_tools.load)\n",
    "\n",
    "reload(visual_tools)\n",
    "reload(ia.correction_tools)\n",
    "reload(ia.correction_tools.alignment)\n",
    "reload(ia.spot_tools.matching)\n",
    "reload(ia.segmentation_tools.chromosome)\n",
    "reload(ia.spot_tools.fitting)\n",
    "\n",
    "fov_param = {'data_folder':r'\\\\10.245.74.158\\Chromatin_NAS_1\\20201221-Acr_ctp08_P_brain\\Before_clearing',\n",
    "             'save_folder':r'D:\\Pu_Temp\\20201221-acr\\before_clearing',\n",
    "             #'save_folder':r'D:\\Pu_Temp\\202009_IgH_proB_DMSO_2color',\n",
    "             'experiment_type': 'DNA',\n",
    "             'num_threads': 12,\n",
    "             'correction_folder':r'\\\\10.245.74.158\\Chromatin_NAS_0\\Corrections\\20201204-Corrections_3color_50',\n",
    "             'shared_parameters':{\n",
    "                     'single_im_size':[50,2048,2048],\n",
    "                     'corr_channels':['750','647'],\n",
    "                     'num_empty_frames': 0, \n",
    "                     'corr_hot_pixel':True,\n",
    "                     'corr_Z_shift':False,\n",
    "                     'min_num_seeds':500,\n",
    "                     'max_num_seeds': 2500,\n",
    "                     'spot_seeding_th':150,\n",
    "                     'normalize_intensity_local':False,\n",
    "                     'normalize_intensity_background':False,\n",
    "                 },             \n",
    "             }"
   ]
  },
  {
   "cell_type": "code",
   "execution_count": 25,
   "metadata": {},
   "outputs": [
    {
     "data": {
      "text/plain": [
       "2"
      ]
     },
     "execution_count": 25,
     "metadata": {},
     "output_type": "execute_result"
    }
   ],
   "source": [
    "fov.bead_channel_index"
   ]
  },
  {
   "cell_type": "code",
   "execution_count": 26,
   "metadata": {
    "scrolled": true
   },
   "outputs": [
    {
     "name": "stdout",
     "output_type": "stream",
     "text": [
      "Get Folder Names: (ia.get_img_info.get_folders)\n",
      "- Number of folders: 11\n",
      "- Number of field of views: 88\n",
      "- Importing csv file: \\\\10.245.74.158\\Chromatin_NAS_1\\20201221-Acr_ctp08_P_brain\\Before_clearing\\Analysis\\Color_Usage.csv\n",
      "- header: ['Hyb', '750', '647', '561', '405']\n",
      "-- Hyb H0R0 exists in this data\n",
      "-- DAPI exists in hyb: H0R0\n",
      "- 11 folders are found according to color-usage annotation.\n",
      "+ loading fov_info from file: D:\\Pu_Temp\\20201221-acr\\before_clearing\\Conv_zscan_05.hdf5\n",
      "++ base attributes loaded:['ref_im'] in 0.851s.\n",
      "+ loading correction from file: D:\\Pu_Temp\\20201221-acr\\before_clearing\\Conv_zscan_05.hdf5\n",
      "++ load bleed correction profile directly from savefile.\n",
      "++ load chromatic correction profile directly from savefile.\n",
      "++ load chromatic_constants correction profile directly from savefile.\n",
      "++ load illumination correction profile directly from savefile.\n",
      "+ loading segmentation from file: D:\\Pu_Temp\\20201221-acr\\before_clearing\\Conv_zscan_05.hdf5\n",
      "++ base attributes loaded:[] in 0.001s.\n",
      "-- saving fov_info to file: D:\\Pu_Temp\\20201221-acr\\before_clearing\\Conv_zscan_05.hdf5\n",
      "++ base attributes saved:['analysis_folder', 'annotated_folders', 'bead_channel_index', 'channels', 'color_dic', 'color_filename', 'color_format', 'correction_folder', 'dapi_channel_index', 'data_folder', 'drift', 'drift_filename', 'drift_folder', 'experiment_folder', 'folders', 'fov_id', 'fov_name', 'map_folder', 'num_threads', 'ref_filename', 'ref_id', 'ref_im', 'rotation', 'save_filename', 'save_folder', 'segmentation_dim', 'segmentation_folder', 'shared_parameters', 'use_dapi'] in 6.437s.\n"
     ]
    }
   ],
   "source": [
    "sel_fov_id = 5\n",
    "fov = classes.field_of_view.Field_of_View(fov_param, _fov_id=sel_fov_id,\n",
    "                                          _color_info_kwargs={\n",
    "                                              '_color_filename':'Color_Usage',\n",
    "                                          }, \n",
    "                                          _prioritize_saved_attrs=False,\n",
    "                                          )"
   ]
  },
  {
   "cell_type": "markdown",
   "metadata": {},
   "source": [
    "## 2. Process image into candidate spots"
   ]
  },
  {
   "cell_type": "code",
   "execution_count": null,
   "metadata": {},
   "outputs": [
    {
     "name": "stdout",
     "output_type": "stream",
     "text": [
      "-- No folder selected, allow processing all 11 folders\n",
      "-- checking unique, region:[45] in 0.003s.\n",
      "-- checking unique, region:[96 97] in 0.002s.\n",
      "-- checking unique, region:[ 99 100] in 0.002s.\n",
      "-- checking unique, region:[102 103] in 0.003s.\n",
      "-- checking unique, region:[105 106] in 0.003s.\n",
      "-- checking unique, region:[108 109] in 0.003s.\n",
      "-- checking unique, region:[111 112] in 0.002s.\n",
      "-- checking unique, region:[114 113] in 0.003s.\n",
      "-- checking unique, region:[98 95] in 0.004s.\n",
      "-- checking unique, region:[104 101] in 0.003s.\n",
      "-- checking unique, region:[110 107] in 0.003s.\n",
      "+ Start multi-processing of pre-processing for 11 images with 12 threads\n",
      "++ processed unique ids: [ 45  95  96  97  98  99 100 101 102 103 104 105 106 107 108 109 110 111\n",
      " 112 113 114] "
     ]
    }
   ],
   "source": [
    "reload(io_tools.load)\n",
    "reload(spot_tools.fitting)\n",
    "reload(correction_tools.chromatic)\n",
    "reload(classes.batch_functions)\n",
    "\n",
    "# process image into spots\n",
    "id_list, spot_list = fov._process_image_to_spots('unique', \n",
    "                                                 #_sel_ids=np.arange(41,47),\n",
    "                                                 _load_common_reference=True,\n",
    "                                                 _load_with_multiple=False,\n",
    "                                                 _save_images=True,\n",
    "                                                 _warp_images=False, \n",
    "                                                 _overwrite_drift=False,\n",
    "                                                 _overwrite_image=False,\n",
    "                                                 _overwrite_spot=False,\n",
    "                                                 _verbose=True)"
   ]
  },
  {
   "cell_type": "code",
   "execution_count": null,
   "metadata": {},
   "outputs": [],
   "source": []
  },
  {
   "cell_type": "markdown",
   "metadata": {},
   "source": [
    "# 3. Find chromosomes"
   ]
  },
  {
   "cell_type": "markdown",
   "metadata": {},
   "source": [
    "## 3.1 load chromosome image"
   ]
  },
  {
   "cell_type": "code",
   "execution_count": null,
   "metadata": {},
   "outputs": [],
   "source": [
    "chrom_im = fov._load_chromosome_image(_type='forward', _overwrite=False)"
   ]
  },
  {
   "cell_type": "code",
   "execution_count": null,
   "metadata": {},
   "outputs": [],
   "source": [
    "# visualize chromsome image:\n",
    "visual_tools.imshow_mark_3d_v2([fov.chrom_im])"
   ]
  },
  {
   "cell_type": "markdown",
   "metadata": {},
   "source": [
    "## 3.2 find candidate chromosomes"
   ]
  },
  {
   "cell_type": "code",
   "execution_count": null,
   "metadata": {},
   "outputs": [],
   "source": [
    "chrom_coords = fov._find_candidate_chromosomes_by_segmentation(_filt_size=4,\n",
    "                                                               _binary_per_th=99.7, \n",
    "                                                               _morphology_size=2,\n",
    "                                                               _overwrite=True)"
   ]
  },
  {
   "cell_type": "markdown",
   "metadata": {},
   "source": [
    "## 3.3 select among candidate chromosomes"
   ]
  },
  {
   "cell_type": "code",
   "execution_count": null,
   "metadata": {},
   "outputs": [],
   "source": [
    "chrom_coords = fov._select_chromosome_by_candidate_spots(_good_chr_loss_th=0.5,\n",
    "                                                         _cand_spot_intensity_th=0.5,\n",
    "                                                         _save=True, \n",
    "                                                         _overwrite=True)"
   ]
  },
  {
   "cell_type": "markdown",
   "metadata": {},
   "source": [
    "### visualize chromosomes selections"
   ]
  },
  {
   "cell_type": "code",
   "execution_count": null,
   "metadata": {},
   "outputs": [],
   "source": [
    "%matplotlib notebook\n",
    "%matplotlib notebook\n",
    "## visualize\n",
    "coord_dict = {'coords':[np.flipud(_coord) for _coord in fov.chrom_coords],\n",
    "              'class_ids':list(np.zeros(len(fov.chrom_coords),dtype=np.int)),\n",
    "             }\n",
    "\n",
    "visual_tools.imshow_mark_3d_v2([fov.chrom_im], \n",
    "                               given_dic=coord_dict,\n",
    "                               save_file=None,\n",
    "                               )\n"
   ]
  },
  {
   "cell_type": "markdown",
   "metadata": {},
   "source": [
    "## select spots based on chromosomes"
   ]
  },
  {
   "cell_type": "code",
   "execution_count": null,
   "metadata": {},
   "outputs": [],
   "source": [
    "fov._load_from_file('unique')"
   ]
  },
  {
   "cell_type": "code",
   "execution_count": null,
   "metadata": {},
   "outputs": [],
   "source": [
    "intensity_th = 0.5\n",
    "from ImageAnalysis3.spot_tools.picking import assign_spots_to_chromosomes\n",
    "\n",
    "kept_spots_list = []\n",
    "for _spots in fov.unique_spots_list:\n",
    "    kept_spots_list.append(_spots[_spots[:,0] > intensity_th])\n",
    "# finalize candidate spots\n",
    "cand_chr_spots_list = [[] for _ct in fov.chrom_coords]\n",
    "for _spots in kept_spots_list:\n",
    "    _cands_list = assign_spots_to_chromosomes(_spots, fov.chrom_coords)\n",
    "    for _i, _cands in enumerate(_cands_list):\n",
    "        cand_chr_spots_list[_i].append(_cands)\n",
    "print(f\"kept chromosomes: {len(fov.chrom_coords)}\")"
   ]
  },
  {
   "cell_type": "code",
   "execution_count": null,
   "metadata": {},
   "outputs": [],
   "source": [
    "reload(spot_tools.picking)\n",
    "from ImageAnalysis3.spot_tools.picking import convert_spots_to_hzxys\n",
    "\n",
    "dna_cand_hzxys_list = [convert_spots_to_hzxys(_spots, fov.shared_parameters['distance_zxy'])\n",
    "                       for _spots in cand_chr_spots_list]\n",
    "dna_reg_ids = fov.unique_ids"
   ]
  },
  {
   "cell_type": "code",
   "execution_count": null,
   "metadata": {},
   "outputs": [],
   "source": [
    "# select_hzxys close to the chromosome center\n",
    "dist_th = 3000 # upper limit is 5000nm\n",
    "sel_dna_cand_hzxys_list = []\n",
    "for _cand_hzxys, _chrom_coord in zip(dna_cand_hzxys_list, fov.chrom_coords):\n",
    "    _sel_cands_list = []\n",
    "    \n",
    "    for _cands in _cand_hzxys:\n",
    "        if len(_cands) == 0:\n",
    "            _sel_cands_list.append([])\n",
    "        else:\n",
    "            _dists = np.linalg.norm(_cands[:,1:4] - _chrom_coord*np.array([200,108,108]), axis=1)\n",
    "            _sel_cands_list.append(_cands[_dists < dist_th])\n",
    "            \n",
    "    # append\n",
    "    sel_dna_cand_hzxys_list.append(_sel_cands_list)"
   ]
  },
  {
   "cell_type": "markdown",
   "metadata": {},
   "source": [
    "### EM pick spots"
   ]
  },
  {
   "cell_type": "code",
   "execution_count": null,
   "metadata": {
    "scrolled": true
   },
   "outputs": [],
   "source": [
    "reload(ia.spot_tools.picking)\n",
    "# load functions\n",
    "from ImageAnalysis3.spot_tools.picking import Pick_spots_by_intensity, EM_pick_scores_in_population, generate_reference_from_population,evaluate_differences\n",
    "\n",
    "%matplotlib inline\n",
    "niter= 10\n",
    "nkeep = len(sel_dna_cand_hzxys_list)\n",
    "num_threads = 12\n",
    "# initialize\n",
    "init_dna_hzxys = Pick_spots_by_intensity(sel_dna_cand_hzxys_list[:nkeep])\n",
    "# set save list\n",
    "sel_dna_hzxys_list, sel_dna_scores_list, all_dna_scores_list = [init_dna_hzxys], [], []\n",
    "for _iter in range(niter):\n",
    "    print(f\"- iter:{_iter}\")\n",
    "    # generate reference\n",
    "    ref_ct_dists, ref_local_dists, ref_ints = generate_reference_from_population(\n",
    "        sel_dna_hzxys_list[-1], dna_reg_ids, \n",
    "        sel_dna_hzxys_list[-1][:nkeep], dna_reg_ids,\n",
    "        num_threads=num_threads,\n",
    "        collapse_regions=True,\n",
    "    )\n",
    "    plt.figure(figsize=(4,2))\n",
    "    plt.hist(np.ravel(ref_ints), bins=np.arange(0,20,0.5))\n",
    "    plt.figure(figsize=(4,2))\n",
    "    plt.hist(np.ravel(ref_ct_dists), bins=np.arange(0,5000,100))\n",
    "    plt.figure(figsize=(4,2))\n",
    "    plt.hist(np.ravel(ref_local_dists), bins=np.arange(0,5000,100))\n",
    "    plt.show()\n",
    "    # scoring\n",
    "    sel_hzxys, sel_scores, all_scores = EM_pick_scores_in_population(\n",
    "            sel_dna_cand_hzxys_list[:nkeep], dna_reg_ids, sel_dna_hzxys_list[-1], \n",
    "            ref_ct_dists, ref_local_dists, ref_ints,\n",
    "            sel_dna_hzxys_list[-1], dna_reg_ids, num_threads=num_threads,\n",
    "        )\n",
    "    update_rate = evaluate_differences(sel_hzxys, sel_dna_hzxys_list[-1])\n",
    "    print(f\"-- region kept: {update_rate:.4f}\")\n",
    "    sel_dna_hzxys_list.append(sel_hzxys)\n",
    "    sel_dna_scores_list.append(sel_scores)\n",
    "    all_dna_scores_list.append(all_scores)\n",
    "    \n",
    "    if update_rate > 0.99:\n",
    "        break"
   ]
  },
  {
   "cell_type": "code",
   "execution_count": null,
   "metadata": {},
   "outputs": [],
   "source": [
    "from scipy.spatial.distance import pdist, squareform\n",
    "sel_iter = -1\n",
    "\n",
    "final_dna_hzxys_list = []\n",
    "distmap_list = []\n",
    "score_th = np.exp(-6)\n",
    "bad_spot_percentage = 0.6\n",
    "for _hzxys, _scores in zip(sel_dna_hzxys_list[sel_iter], sel_dna_scores_list[sel_iter]):\n",
    "    _kept_hzxys = np.array(_hzxys).copy()\n",
    "    _kept_hzxys[_scores < score_th] = np.nan\n",
    "    if np.mean(np.isnan(_kept_hzxys).sum(1)>0)<bad_spot_percentage:\n",
    "        final_dna_hzxys_list.append(_kept_hzxys)\n",
    "        distmap_list.append(squareform(pdist(_kept_hzxys[:,1:4])))\n",
    "\n",
    "distmap_list = np.array(distmap_list)\n",
    "median_distmap = np.nanmedian(distmap_list, axis=0)"
   ]
  },
  {
   "cell_type": "code",
   "execution_count": null,
   "metadata": {},
   "outputs": [],
   "source": [
    "loss_rates = np.mean(np.sum(np.isnan(final_dna_hzxys_list), axis=2)>0, axis=0)\n",
    "fig, ax = plt.subplots(figsize=(4,2),dpi=200)\n",
    "ax.plot(loss_rates, '.-')\n",
    "#ax.set_xticks(np.arange(0,150,20))\n",
    "plt.show()"
   ]
  },
  {
   "cell_type": "code",
   "execution_count": null,
   "metadata": {},
   "outputs": [],
   "source": [
    "fig, ax = plt.subplots(figsize=(4,3),dpi=200)\n",
    "ax = ia.figure_tools.distmap.plot_distance_map(median_distmap,\n",
    "                                               #median_distmap[kept_inds][:,kept_inds], \n",
    "                                               color_limits=[0,800],\n",
    "                                               ax=ax,\n",
    "                                               ticks=np.arange(0,150,20), \n",
    "                                               figure_dpi=200)\n",
    "ax.set_title(f\"before clearing, n={len(distmap_list)}\", fontsize=7.5)\n",
    "plt.gcf().subplots_adjust(bottom=0.1)\n",
    "plt.show()"
   ]
  },
  {
   "cell_type": "code",
   "execution_count": null,
   "metadata": {},
   "outputs": [],
   "source": [
    "plt.figure()\n",
    "for _reg_id in range(3):\n",
    "    plt.hist(fov.unique_spots_list[_reg_id][:,0], bins=np.arange(0,4000,40), \n",
    "             label=f\"{_reg_id}\", alpha=0.5)\n",
    "plt.legend()\n",
    "plt.show()"
   ]
  },
  {
   "cell_type": "code",
   "execution_count": null,
   "metadata": {},
   "outputs": [],
   "source": [
    "plt.figure()\n",
    "for _reg_id in range(3):\n",
    "    plt.hist(fov.unique_spots_list[_reg_id][:,4], bins=np.arange(0,4000,40), \n",
    "             label=f\"{_reg_id}\", alpha=0.5)\n",
    "plt.legend()\n",
    "plt.show()"
   ]
  },
  {
   "cell_type": "code",
   "execution_count": null,
   "metadata": {},
   "outputs": [],
   "source": [
    "sel_ids = []\n",
    "for _fd, _infos in fov.color_dic.items():\n",
    "    for _info in _infos[:2]:\n",
    "        if _info[0] == 'u':\n",
    "            sel_ids.append(int(_info[1:]))\n",
    "sel_ids = np.array(sel_ids)"
   ]
  },
  {
   "cell_type": "code",
   "execution_count": null,
   "metadata": {},
   "outputs": [],
   "source": [
    "np.sort(sel_ids)"
   ]
  },
  {
   "cell_type": "code",
   "execution_count": null,
   "metadata": {},
   "outputs": [],
   "source": [
    "sel_inds = np.sort([np.where(_id==fov.unique_ids)[0][0] for _id in sel_ids])"
   ]
  },
  {
   "cell_type": "code",
   "execution_count": null,
   "metadata": {},
   "outputs": [],
   "source": []
  },
  {
   "cell_type": "code",
   "execution_count": null,
   "metadata": {},
   "outputs": [],
   "source": [
    "fig, ax = plt.subplots(figsize=(4,3),dpi=200)\n",
    "ax = ia.figure_tools.distmap.plot_distance_map(#median_distmap,\n",
    "                                               median_distmap[sel_inds][:,sel_inds], \n",
    "                                               color_limits=[0,800],\n",
    "                                               ax=ax,\n",
    "                                               ticks=np.arange(0,150,20), \n",
    "                                               figure_dpi=200)\n",
    "ax.set_title(f\"before clearing, n={len(distmap_list)}\", fontsize=7.5)\n",
    "plt.gcf().subplots_adjust(bottom=0.1)\n",
    "plt.show()"
   ]
  },
  {
   "cell_type": "code",
   "execution_count": null,
   "metadata": {},
   "outputs": [],
   "source": [
    "fov.unique_spots_list[0].shape"
   ]
  },
  {
   "cell_type": "code",
   "execution_count": null,
   "metadata": {},
   "outputs": [],
   "source": []
  }
 ],
 "metadata": {
  "kernelspec": {
   "display_name": "Python 3",
   "language": "python",
   "name": "python3"
  },
  "language_info": {
   "codemirror_mode": {
    "name": "ipython",
    "version": 3
   },
   "file_extension": ".py",
   "mimetype": "text/x-python",
   "name": "python",
   "nbconvert_exporter": "python",
   "pygments_lexer": "ipython3",
   "version": "3.7.3"
  }
 },
 "nbformat": 4,
 "nbformat_minor": 4
}
