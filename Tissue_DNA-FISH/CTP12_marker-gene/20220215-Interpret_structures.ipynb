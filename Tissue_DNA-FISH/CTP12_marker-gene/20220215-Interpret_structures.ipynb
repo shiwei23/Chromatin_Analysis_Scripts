{
 "cells": [
  {
   "cell_type": "markdown",
   "id": "5b7272cc",
   "metadata": {},
   "source": [
    "# Analysis of DNA-MERFISH for CTP11\n",
    "\n",
    "by Pu Zheng\n",
    "\n",
    "2022.02.15\n",
    "\n",
    "analysis for dataset:\n",
    "\n",
    "\\\\10.245.74.158\\Chromatin_NAS_0\\20220215-P_brain_CTP11-1000_CTP12_from0208\n",
    "\n",
    "This data is DNA of uncleared MERFISH RNA:\n",
    "    \\\\10.245.74.158\\Chromatin_NAS_0\\20220208-P_brain_M1_nonclear\n"
   ]
  },
  {
   "cell_type": "code",
   "execution_count": 1,
   "id": "8259c89d",
   "metadata": {},
   "outputs": [
    {
     "name": "stdout",
     "output_type": "stream",
     "text": [
      "10780\n"
     ]
    }
   ],
   "source": [
    "%run \"..\\..\\Startup_py3.py\"\n",
    "sys.path.append(r\"..\\..\\..\\..\\Documents\")\n",
    "\n",
    "import ImageAnalysis3 as ia\n",
    "%matplotlib notebook\n",
    "\n",
    "from ImageAnalysis3 import *\n",
    "print(os.getpid())\n",
    "\n",
    "import h5py\n",
    "from ImageAnalysis3.classes import _allowed_kwds\n",
    "import ast"
   ]
  },
  {
   "cell_type": "markdown",
   "id": "95ef6f02",
   "metadata": {},
   "source": [
    "# 1. Pre-processing info"
   ]
  },
  {
   "cell_type": "code",
   "execution_count": 3,
   "id": "36432f56",
   "metadata": {},
   "outputs": [],
   "source": [
    "fov_param = {'data_folder':r'\\\\10.245.74.158\\Chromatin_NAS_0\\20220215-P_brain_CTP11-1000_CTP12_from0208',\n",
    "             'save_folder':r'\\\\mendel\\Mendel_SSD1\\Pu_Temp\\20220215-P_brain_CTP11-1000_CTP12_from0208',\n",
    "             'experiment_type': 'DNA',\n",
    "             'num_threads': 25,\n",
    "             'correction_folder':r'\\\\10.245.74.158\\Chromatin_NAS_0\\Corrections\\20210621-Corrections_lumencor_from_60_to_50',\n",
    "             'shared_parameters':{\n",
    "                     'single_im_size':[50,2048,2048],\n",
    "                     'distance_zxy': [250, 108, 108],\n",
    "                     'corr_channels':['750','647'],\n",
    "                     'num_empty_frames': 0, \n",
    "                     'num_buffer_frames':0,\n",
    "                     'corr_hot_pixel':True,\n",
    "                     'corr_Z_shift':True,\n",
    "                     'corr_bleed':True,\n",
    "                     'min_num_seeds':10,\n",
    "                     'max_num_seeds': None,\n",
    "                     'spot_seeding_th': 1000,\n",
    "                     'normalize_intensity_local':False,\n",
    "                     'normalize_intensity_background':False,\n",
    "                     'corr_gaussian_highpass':False\n",
    "                 }, \n",
    "             }"
   ]
  },
  {
   "cell_type": "markdown",
   "id": "0609c9af",
   "metadata": {},
   "source": [
    "## 1.1 define required floders"
   ]
  },
  {
   "cell_type": "code",
   "execution_count": 4,
   "id": "ce4510b9",
   "metadata": {},
   "outputs": [
    {
     "name": "stdout",
     "output_type": "stream",
     "text": [
      "131 fovs detected\n",
      "Use segmentation_folder: \\\\mendel\\Mendel_SSD1\\Pu_Temp\\20220215-P_brain_CTP11-1000_CTP12_from0208\\Segmentation\\Tests\n",
      "Use cand_spot_folder: \\\\mendel\\Mendel_SSD1\\Pu_Temp\\20220215-P_brain_CTP11-1000_CTP12_from0208\\CandSpots\\Tests\n",
      "Use decoder_folder: \\\\mendel\\Mendel_SSD1\\Pu_Temp\\20220215-P_brain_CTP11-1000_CTP12_from0208\\Decoder\\Tests\n"
     ]
    }
   ],
   "source": [
    "save_folder = fov_param['save_folder']\n",
    "\n",
    "save_filenames = [os.path.join(save_folder, _fl) for _fl in os.listdir(save_folder)\n",
    "                  if _fl.split(os.extsep)[-1]=='hdf5']\n",
    "# extract fov_id\n",
    "save_fov_ids = [int(os.path.basename(_fl).split('.hdf5')[0].split('_')[-1]) for _fl in save_filenames]\n",
    "\n",
    "debug = False\n",
    "\n",
    "print(f\"{len(save_filenames)} fovs detected\")\n",
    "\n",
    "segmentation_folder = os.path.join(save_folder, 'Segmentation', 'Tests')\n",
    "if not os.path.exists(segmentation_folder):\n",
    "    os.makedirs(segmentation_folder)\n",
    "    print(f\"Creating segmentation_folder: {segmentation_folder}\")\n",
    "else:\n",
    "    print(f\"Use segmentation_folder: {segmentation_folder}\")\n",
    "\n",
    "cand_spot_folder = os.path.join(save_folder, 'CandSpots', 'Tests')\n",
    "if not os.path.exists(cand_spot_folder):\n",
    "    os.makedirs(cand_spot_folder)\n",
    "    print(f\"Creating cand_spot_folder: {cand_spot_folder}\")\n",
    "else:\n",
    "    print(f\"Use cand_spot_folder: {cand_spot_folder}\")\n",
    "\n",
    "decoder_folder = cand_spot_folder.replace('CandSpots', 'Decoder')\n",
    "if debug:\n",
    "    _version = 0\n",
    "    while os.path.exists(os.path.join(decoder_folder, f'v{_version}')):\n",
    "        _version += 1\n",
    "    decoder_folder = os.path.join(decoder_folder, f'v{_version}')\n",
    "if not os.path.exists(decoder_folder):\n",
    "    os.makedirs(decoder_folder)\n",
    "    print(f\"Creating decoder_folder: {decoder_folder}\")\n",
    "else:\n",
    "    print(f\"Use decoder_folder: {decoder_folder}\")\n"
   ]
  },
  {
   "cell_type": "code",
   "execution_count": null,
   "id": "8caddf3b",
   "metadata": {},
   "outputs": [],
   "source": []
  }
 ],
 "metadata": {
  "kernelspec": {
   "display_name": "ia3",
   "language": "python",
   "name": "ia3"
  },
  "language_info": {
   "codemirror_mode": {
    "name": "ipython",
    "version": 3
   },
   "file_extension": ".py",
   "mimetype": "text/x-python",
   "name": "python",
   "nbconvert_exporter": "python",
   "pygments_lexer": "ipython3",
   "version": "3.9.7"
  }
 },
 "nbformat": 4,
 "nbformat_minor": 5
}
