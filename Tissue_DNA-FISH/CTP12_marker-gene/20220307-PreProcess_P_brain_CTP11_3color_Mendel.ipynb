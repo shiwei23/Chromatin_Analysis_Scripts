{
 "cells": [
  {
   "cell_type": "markdown",
   "metadata": {},
   "source": [
    "# Analysis of DNA-MERFISH for CTP11\n",
    "\n",
    "by Pu Zheng\n",
    "\n",
    "2022.02.15\n",
    "\n",
    "analysis for dataset:\n",
    "\n",
    "\\\\10.245.74.158\\Chromatin_NAS_1\\20220307-P_brain_CTP11_from_0303\n",
    "\n",
    "This data is DNA of uncleared MERFISH RNA:\n",
    "    \\\\10.245.74.158\\Chromatin_NAS_0\\20220303-P_brain_M1_nonclear_adaptor\n"
   ]
  },
  {
   "cell_type": "code",
   "execution_count": 1,
   "metadata": {},
   "outputs": [
    {
     "name": "stdout",
     "output_type": "stream",
     "text": [
      "60612\n"
     ]
    }
   ],
   "source": [
    "%run \"..\\..\\Startup_py3.py\"\n",
    "sys.path.append(r\"..\\..\\..\\..\\Documents\")\n",
    "\n",
    "import ImageAnalysis3 as ia\n",
    "%matplotlib notebook\n",
    "\n",
    "from ImageAnalysis3 import *\n",
    "print(os.getpid())\n",
    "\n",
    "import h5py\n",
    "from ImageAnalysis3.classes import _allowed_kwds\n",
    "import ast"
   ]
  },
  {
   "cell_type": "markdown",
   "metadata": {},
   "source": [
    "# 0. fov parameters"
   ]
  },
  {
   "cell_type": "code",
   "execution_count": 5,
   "metadata": {},
   "outputs": [],
   "source": [
    "reload(ia)\n",
    "reload(classes)\n",
    "reload(classes.batch_functions)\n",
    "reload(classes.field_of_view)\n",
    "reload(io_tools.load)\n",
    "reload(get_img_info)\n",
    "reload(visual_tools)\n",
    "reload(ia.correction_tools)\n",
    "reload(ia.correction_tools.alignment)\n",
    "reload(ia.spot_tools.matching)\n",
    "reload(ia.segmentation_tools.chromosome)\n",
    "reload(ia.spot_tools.fitting)\n",
    "\n",
    "fov_param = {'data_folder':r'\\\\10.245.74.158\\Chromatin_NAS_1\\20220307-P_brain_CTP11_from_0303',\n",
    "             'save_folder':r'\\\\mendel\\Mendel_SSD4\\Pu_Temp\\20220307-P_brain_CTP11_from_0303',\n",
    "             'experiment_type': 'DNA',\n",
    "             'num_threads': 44,\n",
    "             'correction_folder':r'\\\\10.245.74.158\\Chromatin_NAS_0\\Corrections\\20210621-Corrections_lumencor_from_60_to_50',\n",
    "             'shared_parameters':{\n",
    "                     'single_im_size':[50,2048,2048],\n",
    "                     'distance_zxy': [250, 108, 108],\n",
    "                     'corr_channels':['750','647','561'],\n",
    "                     'num_empty_frames': 0, \n",
    "                     'num_buffer_frames':0,\n",
    "                     'corr_hot_pixel':True,\n",
    "                     'corr_Z_shift':False,\n",
    "                     'corr_bleed':True,\n",
    "                     'min_num_seeds':10,\n",
    "                     'max_num_seeds': 20000,\n",
    "                     'spot_seeding_th': 1000,\n",
    "                     'normalize_intensity_local':False,\n",
    "                     'normalize_intensity_background':False,\n",
    "                     'corr_gaussian_highpass':False,\n",
    "                 }, \n",
    "             }"
   ]
  },
  {
   "cell_type": "markdown",
   "metadata": {},
   "source": [
    "# 1. Process Fov"
   ]
  },
  {
   "cell_type": "code",
   "execution_count": null,
   "metadata": {},
   "outputs": [
    {
     "name": "stdout",
     "output_type": "stream",
     "text": [
      "Get Folder Names: (ia.get_img_info.get_folders)\n",
      "- Number of folders: 9\n",
      "- Number of field of views: 158\n",
      "- Importing csv format color_usage file: \\\\10.245.74.158\\Chromatin_NAS_1\\20220307-P_brain_CTP11_from_0303\\Analysis\\Color_Usage.csv\n",
      "- header: ['Hyb', '750', '647', '561', '488', '405']\n",
      "dict_keys(['H0C1', 'H1C2', 'H2C3', 'H3C4', 'H4C5', 'H5C6', 'H6C7', 'H7C8', 'H8C9', 'H9C10', 'H10C11', 'H11C12', 'H12C13', 'H13C14', 'H14C15', 'H15C16', 'H16C17', 'H17C18', 'H18C19', 'H19C20', 'H20C21', 'H21C22', 'H22C23', 'H23C24', 'H24C25', 'H25C26', 'H26C27', 'H27C28', 'H28C29', 'H29C30', 'H30C31', 'H31C32', 'H32C33', 'H33U1', 'H34U2', 'H35U3', 'H36U4', 'H37U5', 'H38U6', 'H39U7', 'H40U8', 'H41U9', 'H42U10', 'H43U11', 'H44U12', 'H45U13', 'H46U14'])\n",
      "- 9 folders are found according to color-usage annotation.\n",
      "+ loading fov_info from file: \\\\mendel\\Mendel_SSD4\\Pu_Temp\\20220307-P_brain_CTP11_from_0303\\Conv_zscan_000.hdf5\n",
      "++ base attributes loaded:['combo_ref_im', 'dapi_im', 'unique_ref_im'] in 6.687s.\n",
      "+ loading correction from file: \\\\mendel\\Mendel_SSD4\\Pu_Temp\\20220307-P_brain_CTP11_from_0303\\Conv_zscan_000.hdf5\n",
      "++ load bleed correction profile directly from savefile.\n"
     ]
    }
   ],
   "source": [
    "_overwrite = True\n",
    "_save_images = True\n",
    "sel_fov_ids = np.arange(0, 10) # test dataset save image\n",
    "\n",
    "for _fov_id in sel_fov_ids:\n",
    "    \n",
    "    if 'bad_fovs_ids' in locals() and  _fov_id in bad_fovs_ids:\n",
    "        continue\n",
    "    \n",
    "    fov = classes.field_of_view.Field_of_View(fov_param, _fov_id=_fov_id,\n",
    "                                              _color_info_kwargs={\n",
    "                                                  '_color_filename':'Color_Usage',\n",
    "                                              }, \n",
    "                                              _prioritize_saved_attrs=False,\n",
    "                                              _save_info_to_file=False, # whether overwrite\n",
    "                                              )\n",
    "    \n",
    "    # 2. Process image into candidate spots\n",
    "    fov.parallel = True\n",
    "    fov.combo_ref_id = 0\n",
    "    fov._process_image_to_spots('combo', \n",
    "                                _load_common_reference=True, _load_with_multiple=False,\n",
    "                                _save_images=_save_images,\n",
    "                                _warp_images=False, \n",
    "                                _fit_spots=True,\n",
    "                                _overwrite_drift=False, _overwrite_image=_overwrite,\n",
    "                                _overwrite_spot=_overwrite,\n",
    "                                _verbose=True)\n",
    "    # 3. Process image into candidate spots\n",
    "    fov.unique_ref_id = 0\n",
    "    fov._process_image_to_spots('unique', \n",
    "                                _load_common_reference=True, _load_with_multiple=False,\n",
    "                                _save_images=_save_images, _warp_images=False, _verbose=True)\n",
    "    # 4. Process DAPI image\n",
    "    fov._load_dapi_image()"
   ]
  },
  {
   "cell_type": "code",
   "execution_count": null,
   "metadata": {},
   "outputs": [],
   "source": []
  }
 ],
 "metadata": {
  "kernelspec": {
   "display_name": "Python 3",
   "language": "python",
   "name": "python3"
  },
  "language_info": {
   "codemirror_mode": {
    "name": "ipython",
    "version": 3
   },
   "file_extension": ".py",
   "mimetype": "text/x-python",
   "name": "python",
   "nbconvert_exporter": "python",
   "pygments_lexer": "ipython3",
   "version": "3.7.9"
  }
 },
 "nbformat": 4,
 "nbformat_minor": 4
}
