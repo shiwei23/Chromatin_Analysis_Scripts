{
 "cells": [
  {
   "cell_type": "markdown",
   "id": "f77b2855",
   "metadata": {},
   "source": [
    "# analysis of sequential RNA-FISH for CTP12\n",
    "\n",
    "by Pu Zheng\n",
    "\n",
    "2021.11.30\n",
    "\n",
    "analysis for dataset:\n",
    "\n",
    "\\\\10.245.74.158\\Chromatin_NAS_6\\20211216-P_brain_CTP12-RNA"
   ]
  },
  {
   "cell_type": "markdown",
   "id": "d018727f",
   "metadata": {},
   "source": [
    "# Load basic functions"
   ]
  },
  {
   "cell_type": "code",
   "execution_count": 2,
   "id": "d18f6b4c",
   "metadata": {},
   "outputs": [
    {
     "name": "stdout",
     "output_type": "stream",
     "text": [
      "17356\n"
     ]
    }
   ],
   "source": [
    "%run \"..\\..\\Startup_py3.py\"\n",
    "sys.path.append(r\"..\\..\\..\\..\\Documents\")\n",
    "\n",
    "import ImageAnalysis3 as ia\n",
    "%matplotlib notebook\n",
    "\n",
    "from ImageAnalysis3 import *\n",
    "print(os.getpid())\n",
    "\n",
    "import h5py\n",
    "from ImageAnalysis3.classes import _allowed_kwds\n",
    "import ast"
   ]
  },
  {
   "cell_type": "markdown",
   "id": "74dcd941",
   "metadata": {},
   "source": [
    "# 0. fov parameters"
   ]
  },
  {
   "cell_type": "code",
   "execution_count": 4,
   "id": "4a8815cb",
   "metadata": {},
   "outputs": [],
   "source": [
    "reload(ia)\n",
    "reload(classes)\n",
    "reload(classes.batch_functions)\n",
    "reload(classes.field_of_view)\n",
    "reload(io_tools.load)\n",
    "reload(get_img_info)\n",
    "reload(visual_tools)\n",
    "reload(ia.correction_tools)\n",
    "reload(ia.correction_tools.alignment)\n",
    "reload(ia.spot_tools.matching)\n",
    "reload(ia.segmentation_tools.chromosome)\n",
    "reload(ia.spot_tools.fitting)\n",
    "\n",
    "fov_param = {'data_folder':r'\\\\10.245.74.158\\Chromatin_NAS_6\\20211216-P_brain_CTP12-RNA',\n",
    "             'save_folder':r'D:\\Pu_Temp\\20211216-P_brain_CTP12-RNA',\n",
    "             'experiment_type': 'RNA',\n",
    "             'num_threads': 16,\n",
    "             'correction_folder':r'\\\\10.245.74.158\\Chromatin_NAS_0\\Corrections\\20210621-Corrections_lumencor_from_60_to_50',\n",
    "             'shared_parameters':{\n",
    "                     'single_im_size':[50,2048,2048],\n",
    "                     'distance_zxy': [250, 108, 108],\n",
    "                     'corr_channels':['750','647'],\n",
    "                     'num_empty_frames': 0, \n",
    "                     'num_buffer_frames':0,\n",
    "                     'corr_hot_pixel':True,\n",
    "                     'corr_Z_shift':True,\n",
    "                     'corr_bleed':True,\n",
    "                     'min_num_seeds':100,\n",
    "                     'max_num_seeds': None,\n",
    "                     'spot_seeding_th': 1500,\n",
    "                     'normalize_intensity_local':False,\n",
    "                     'normalize_intensity_background':False,\n",
    "                     'corr_gaussian_highpass':True\n",
    "                 }, \n",
    "             }"
   ]
  },
  {
   "cell_type": "code",
   "execution_count": null,
   "id": "5658978f",
   "metadata": {
    "scrolled": true
   },
   "outputs": [
    {
     "name": "stdout",
     "output_type": "stream",
     "text": [
      "Get Folder Names: (ia.get_img_info.get_folders)\n",
      "- Number of folders: 14\n",
      "- Number of field of views: 211\n",
      "- Importing csv format color_usage file: \\\\10.245.74.158\\Chromatin_NAS_6\\20211216-P_brain_CTP12-RNA\\Analysis\\Color_Usage.csv\n",
      "- header: ['Hyb', '750', '647', '561', '488', '405']\n",
      "dict_keys(['H0R1', 'H1R2', 'H2R3', 'H3R4', 'H4R5', 'H5R6', 'H6R7', 'H7R8', 'H8R9', 'H9R10', 'H10R11', 'H11R12', 'H12R13', 'H13R14'])\n",
      "- 14 folders are found according to color-usage annotation.\n",
      "++ load bleed correction profile from original file.\n",
      "-- loading bleedthrough correction profile from file:bleedthrough_correction_750_647_2048_2048.npy\n",
      "++ load chromatic correction profile from original file.\n",
      "-- loading chromatic correction profile from file:\n",
      "\t 750 chromatic_correction_750_647_50_2048_2048.npy\n",
      "\t 647 None\n",
      "++ load chromatic_constants correction profile from original file.\n",
      "-- loading chromatic_constants correction profile from file:\n",
      "\t 750 chromatic_correction_750_647_50_2048_2048_const.pkl\n",
      "\t 647 None\n",
      "++ load illumination correction profile from original file.\n",
      "-- loading illumination correction profile from file:\n",
      "\t 750 illumination_correction_750_2048x2048.npy\n",
      "\t 647 illumination_correction_647_2048x2048.npy\n",
      "\t 561 illumination_correction_561_2048x2048.npy\n",
      "\t 488 illumination_correction_488_2048x2048.npy\n",
      "\t 405 illumination_correction_405_2048x2048.npy\n",
      "- Creating save file for fov:Conv_zscan_030.dax: D:\\Pu_Temp\\20211216-P_brain_CTP12-RNA\\Conv_zscan_030.hdf5.\n",
      "* create savefile: D:\\Pu_Temp\\20211216-P_brain_CTP12-RNA\\Conv_zscan_030.hdf5\n",
      "-- saving fov_info to file: D:\\Pu_Temp\\20211216-P_brain_CTP12-RNA\\Conv_zscan_030.hdf5\n",
      "++ base attributes saved:['analysis_folder', 'annotated_folders', 'channels', 'color_dic', 'color_filename', 'color_format', 'correction_folder', 'dapi_channel', 'dapi_channel_index', 'data_folder', 'debug', 'drift', 'drift_channel', 'drift_filename', 'drift_folder', 'experiment_folder', 'folders', 'fov_id', 'fov_name', 'map_folder', 'num_threads', 'parallel', 'ref_filename', 'ref_id', 'rotation', 'save_filename', 'save_folder', 'segmentation_dim', 'segmentation_folder', 'shared_parameters', 'use_dapi', 'verbose'] in 0.012s.\n",
      "-- saving segmentation to file: D:\\Pu_Temp\\20211216-P_brain_CTP12-RNA\\Conv_zscan_030.hdf5\n",
      "-- saving correction to file: D:\\Pu_Temp\\20211216-P_brain_CTP12-RNA\\Conv_zscan_030.hdf5\n",
      "-- saving 750_illumination profile to save_file: D:\\Pu_Temp\\20211216-P_brain_CTP12-RNA\\Conv_zscan_030.hdf5.\n",
      "-- saving 647_illumination profile to save_file: D:\\Pu_Temp\\20211216-P_brain_CTP12-RNA\\Conv_zscan_030.hdf5.\n",
      "-- saving 561_illumination profile to save_file: D:\\Pu_Temp\\20211216-P_brain_CTP12-RNA\\Conv_zscan_030.hdf5.\n",
      "-- saving 488_illumination profile to save_file: D:\\Pu_Temp\\20211216-P_brain_CTP12-RNA\\Conv_zscan_030.hdf5.\n",
      "-- saving 405_illumination profile to save_file: D:\\Pu_Temp\\20211216-P_brain_CTP12-RNA\\Conv_zscan_030.hdf5.\n",
      "-- saving 750_chromatic profile to save_file: D:\\Pu_Temp\\20211216-P_brain_CTP12-RNA\\Conv_zscan_030.hdf5.\n",
      "-- saving 647_chromatic profile to save_file: D:\\Pu_Temp\\20211216-P_brain_CTP12-RNA\\Conv_zscan_030.hdf5.\n",
      "-- saving 750_chromatic_constants profile with ['fitting_orders', 'constants', 'rsquares', 'ref_center'] to save_file: D:\\Pu_Temp\\20211216-P_brain_CTP12-RNA\\Conv_zscan_030.hdf5.\n",
      "-- 647_chromatic_constants profile already exist in save_file: D:\\Pu_Temp\\20211216-P_brain_CTP12-RNA\\Conv_zscan_030.hdf5, skip.\n",
      "-- saving 750_647_bleed profile to save_file: D:\\Pu_Temp\\20211216-P_brain_CTP12-RNA\\Conv_zscan_030.hdf5.\n",
      "dict_keys(['rna', 'protein'])\n",
      "save type: rna\"\n",
      "-- saving rna to file: D:\\Pu_Temp\\20211216-P_brain_CTP12-RNA\\Conv_zscan_030.hdf5\n",
      "--- rna attributes updated:['ids', 'channels', 'ims', 'spots', 'raw_spots', 'drifts', 'flags'] in 0.338s.\n",
      "save type: protein\"\n",
      "-- saving protein to file: D:\\Pu_Temp\\20211216-P_brain_CTP12-RNA\\Conv_zscan_030.hdf5\n",
      "--- protein attributes updated:['ids', 'channels', 'ims', 'spots', 'raw_spots', 'drifts', 'flags'] in 0.011s.\n",
      "-- folders not selected, allow processing all 14 folders\n",
      "+ load reference image from file:\\\\10.245.74.158\\Chromatin_NAS_6\\20211216-P_brain_CTP12-RNA\\H0R1\\Conv_zscan_030.dax\n",
      "- correct the whole fov for image: \\\\10.245.74.158\\Chromatin_NAS_6\\20211216-P_brain_CTP12-RNA\\H0R1\\Conv_zscan_030.dax\n",
      "-- loading illumination correction profile from file:\n",
      "\t 561 illumination_correction_561_2048x2048.npy\n",
      "-- loading image from file:\\\\10.245.74.158\\Chromatin_NAS_6\\20211216-P_brain_CTP12-RNA\\H0R1\\Conv_zscan_030.dax  in 7.071s\n",
      "-- removing hot pixels for channels:['561'] in 4.759s\n",
      "-- correct Z-shifts for channels:['561'] in 4.535s\n",
      "-- illumination correction for channels: 561, in 1.560s\n",
      "-- -- generate translation function with drift:[0. 0. 0.] in 0.000s\n",
      "-- finish correction in 18.235s\n",
      "-- saving fov_info to file: D:\\Pu_Temp\\20211216-P_brain_CTP12-RNA\\Conv_zscan_030.hdf5\n",
      "++ base attributes saved:['rna_ref_im'] in 5.208s.\n",
      "-- checking rna, region:[1 2] in 0.010s.\n",
      "-- checking rna, region:[3 4] in 0.006s.\n",
      "-- checking rna, region:[5 6] in 0.008s.\n",
      "-- checking rna, region:[7 8] in 0.002s.\n",
      "-- checking rna, region:[ 9 10] in 0.010s.\n",
      "-- checking rna, region:[11 12] in 0.008s.\n",
      "-- checking rna, region:[13 14] in 0.002s.\n",
      "-- checking rna, region:[15 16] in 0.010s.\n",
      "-- checking rna, region:[17 18] in 0.010s.\n",
      "-- checking rna, region:[19 20] in 0.006s.\n",
      "-- checking rna, region:[21 22] in 0.005s.\n",
      "-- checking rna, region:[23 24] in 0.010s.\n",
      "-- checking rna, region:[25 26] in 0.010s.\n",
      "-- checking rna, region:[27 28] in 0.008s.\n",
      "+ Start multi-processing of pre-processing for 14 images with 16 threads\n",
      "++ processing rna ids: [ 1  2  3  4  5  6  7  8  9 10 11 12 13 14 15 16 17 18 19 20 21 22 23 24\n",
      " 25 26 27 28] "
     ]
    }
   ],
   "source": [
    "fov_ids = np.arange(30,60)\n",
    "\n",
    "_overwrite = False\n",
    "\n",
    "for _fov_id in fov_ids:\n",
    "    # create fov class\n",
    "    fov = classes.field_of_view.Field_of_View(fov_param, _fov_id=_fov_id,\n",
    "                                              _color_info_kwargs={\n",
    "                                                  '_color_filename':'Color_Usage',\n",
    "                                              }, \n",
    "                                              _prioritize_saved_attrs=False,\n",
    "                                              _save_info_to_file=True,\n",
    "                                              )\n",
    "    \n",
    "    fov.shared_parameters['corr_gaussian_highpass'] = True\n",
    "    _warp = False\n",
    "    # 2. Process image into candidate spots\n",
    "    fov.parallel = True\n",
    "    fov.rna_ref_id = 0\n",
    "\n",
    "    fov._process_image_to_spots('rna', \n",
    "                                _load_common_reference=True, _load_with_multiple=False,\n",
    "                                _save_images=True,\n",
    "                                _warp_images=_warp, \n",
    "                                _fit_spots=True,\n",
    "                                _overwrite_drift=_overwrite, _overwrite_image=_overwrite,\n",
    "                                _overwrite_spot=_overwrite,\n",
    "                                _verbose=True)\n",
    "    \n",
    "    fov.shared_parameters['corr_gaussian_highpass'] = False\n",
    "\n",
    "    # 2. Process image into candidate spots\n",
    "    fov.parallel = False\n",
    "    fov.protein_ref_id = 0\n",
    "\n",
    "    fov._process_image_to_spots('protein', \n",
    "                                _load_common_reference=True, _load_with_multiple=False,\n",
    "                                _save_images=True,\n",
    "                                _warp_images=True, \n",
    "                                _fit_spots=False,\n",
    "                                _overwrite_drift=_overwrite, _overwrite_image=_overwrite,\n",
    "                                _overwrite_spot=_overwrite,\n",
    "                                _verbose=True)\n",
    "\n",
    "    dapi_im = fov._load_dapi_image()"
   ]
  },
  {
   "cell_type": "code",
   "execution_count": null,
   "id": "5865a4f5",
   "metadata": {},
   "outputs": [],
   "source": []
  },
  {
   "cell_type": "code",
   "execution_count": null,
   "id": "d4efb268",
   "metadata": {},
   "outputs": [],
   "source": []
  },
  {
   "cell_type": "code",
   "execution_count": 263,
   "id": "447fa3d8",
   "metadata": {},
   "outputs": [],
   "source": [
    "reload(ia.classes.preprocess)\n",
    "def generate_overlap_crops_3d(crop_size:list or np.ndarray, \n",
    "                              image_size:list or np.ndarray, \n",
    "                              overlap_size:list or np.ndarray):\n",
    "    \"\"\"Function to generate overlapping ImageCrop_3d\"\"\"\n",
    "    _ndim = 3\n",
    "    crop_size = np.array(crop_size).copy()[:_ndim]\n",
    "    image_size = np.array(image_size).copy()[:_ndim]\n",
    "    overlap_size = np.array(overlap_size).copy()[:_ndim]\n",
    "    \n",
    "    # check inputs\n",
    "    if (crop_size > image_size).any():\n",
    "        raise ValueError(f\"crop_size:{crop_size} is larger than image_size:{image_size}\")\n",
    "    if (overlap_size > crop_size).any():\n",
    "        raise ValueError(f\"overlap_size:{overlap_size} is larger than crop_size:{crop_size}\")\n",
    "    \n",
    "    overlap_size[image_size==crop_size] = 0\n",
    "    \n",
    "    # determine crop edges\n",
    "    num_crops = np.ceil(image_size / crop_size).astype(np.int32)\n",
    "    \n",
    "    crop_indices = np.indices(num_crops).reshape(_ndim, -1).transpose()\n",
    "    \n",
    "    all_crops = np.ndarray(num_crops, dtype=object)\n",
    "    \n",
    "    for _inds in crop_indices:\n",
    "        left_lim = np.max([_inds * crop_size - overlap_size, np.zeros(_ndim)], axis=0)\n",
    "        right_lim = np.min([(_inds+1) * crop_size, image_size], axis=0)\n",
    "        \n",
    "        _crop = ia.classes.preprocess.ImageCrop_3d(np.array([left_lim, right_lim]).transpose())\n",
    "        all_crops[tuple(_inds)] = _crop\n",
    "    \n",
    "    return all_crops"
   ]
  },
  {
   "cell_type": "code",
   "execution_count": 264,
   "id": "a3e97fc1",
   "metadata": {
    "scrolled": true
   },
   "outputs": [],
   "source": [
    "crops = generate_overlap_crops_3d(\n",
    "    [50,512,512],\n",
    "    fov.shared_parameters['single_im_size'],\n",
    "    [20,128,128],\n",
    ")"
   ]
  },
  {
   "cell_type": "code",
   "execution_count": 265,
   "id": "0b2ed056",
   "metadata": {},
   "outputs": [
    {
     "data": {
      "text/plain": [
       "array([[  0,  50],\n",
       "       [  0, 512],\n",
       "       [  0, 128]])"
      ]
     },
     "execution_count": 265,
     "metadata": {},
     "output_type": "execute_result"
    }
   ],
   "source": [
    "np.ravel(crops)[1].relative_overlap(np.ravel(crops)[0]).array"
   ]
  },
  {
   "cell_type": "code",
   "execution_count": 267,
   "id": "2432f7e3",
   "metadata": {},
   "outputs": [
    {
     "data": {
      "text/plain": [
       "1"
      ]
     },
     "execution_count": 267,
     "metadata": {},
     "output_type": "execute_result"
    }
   ],
   "source": [
    "np.ravel(crops)[1].distance_to_edge([1,2,3])"
   ]
  },
  {
   "cell_type": "code",
   "execution_count": 583,
   "id": "cff679df",
   "metadata": {},
   "outputs": [],
   "source": [
    "default_cellpose_kwargs = {\n",
    "    'diameter': 80, \n",
    "    'min_size': 200,\n",
    "    'stitch_threshold': 0.1,\n",
    "}\n",
    "\n",
    "def segmentation_3d_cellpose(raw_im, \n",
    "                             pixel_sizes,\n",
    "                             apply_gaussian=False,\n",
    "                             gaussian_size=1., \n",
    "                             apply_highpass_gaussian=False,\n",
    "                             highpass_gaussian_kwargs={},\n",
    "                             cellpose_gpu=True,\n",
    "                             cellpose_kwargs={},\n",
    "                             make_plot=True,\n",
    "                             ):\n",
    "    \"\"\"Function to segment single image\"\"\"\n",
    "    if apply_gaussian:\n",
    "        from scipy.ndimage.filters import gaussian_filter\n",
    "        _im = gaussian_filter(raw_im, gaussian_size)\n",
    "    else:\n",
    "        _im = raw_im.copy()\n",
    "    \n",
    "    if apply_highpass_gaussian:\n",
    "        _im = ia.correction_tools.filters.gaussian_high_pass_filter(\n",
    "            _im, **highpass_gaussian_kwargs,\n",
    "        )\n",
    "    # cellpose segmentation\n",
    "    import torch\n",
    "    if torch.cuda.is_available():\n",
    "        _use_gpu=True\n",
    "    else:\n",
    "        _use_gpu=False\n",
    "    blank_im = np.zeros(np.shape(_im), dtype=np.uint16)\n",
    "    model = models.Cellpose(gpu=_use_gpu, model_type='nuclei')\n",
    "    {_k:_v for _k,_v in default_cellpose_kwargs.items()}.update(cellpose_kwargs)\n",
    "\n",
    "    masks, flows, styles, diams = model.eval(np.stack([blank_im,blank_im,_im], axis=3), \n",
    "                                             channels=[0,0],\n",
    "                                             anisotropy=pixel_sizes[0]/pixel_sizes[1],\n",
    "                                             do_3D=True,\n",
    "                                             **default_cellpose_kwargs,\n",
    "                                             )\n",
    "    # visualize\n",
    "    ################\n",
    "    \n",
    "    return masks\n",
    "    "
   ]
  },
  {
   "cell_type": "code",
   "execution_count": 160,
   "id": "23e5bedb",
   "metadata": {
    "scrolled": true
   },
   "outputs": [
    {
     "name": "stdout",
     "output_type": "stream",
     "text": [
      "** TORCH CUDA version installed and working. **\n",
      ">>>> using GPU\n",
      "processing 1 image(s)\n",
      "multi-stack tiff read in as having 50 planes 3 channels\n"
     ]
    },
    {
     "name": "stderr",
     "output_type": "stream",
     "text": [
      "\r",
      "  0%|                                                                                            | 0/2 [00:00<?, ?it/s]"
     ]
    },
    {
     "name": "stdout",
     "output_type": "stream",
     "text": [
      "\n",
      " running YX: 50 planes of size (512, 512) \n",
      "\n",
      "\n"
     ]
    },
    {
     "name": "stderr",
     "output_type": "stream",
     "text": [
      "100%|████████████████████████████████████████████████████████████████████████████████████| 2/2 [00:00<00:00,  5.45it/s]\n",
      "100%|████████████████████████████████████████████████████████████████████████████████████| 2/2 [00:00<00:00, 12.12it/s]\n",
      "100%|████████████████████████████████████████████████████████████████████████████████████| 2/2 [00:00<00:00, 11.83it/s]\n",
      "100%|████████████████████████████████████████████████████████████████████████████████████| 2/2 [00:00<00:00, 12.10it/s]\n",
      "  0%|                                                                                           | 0/16 [00:00<?, ?it/s]"
     ]
    },
    {
     "name": "stdout",
     "output_type": "stream",
     "text": [
      "\n",
      " running ZY: 512 planes of size (50, 512) \n",
      "\n",
      "\n"
     ]
    },
    {
     "name": "stderr",
     "output_type": "stream",
     "text": [
      "100%|██████████████████████████████████████████████████████████████████████████████████| 16/16 [00:00<00:00, 24.69it/s]\n",
      "100%|██████████████████████████████████████████████████████████████████████████████████| 16/16 [00:00<00:00, 24.71it/s]\n",
      "100%|██████████████████████████████████████████████████████████████████████████████████| 16/16 [00:00<00:00, 24.98it/s]\n",
      "100%|██████████████████████████████████████████████████████████████████████████████████| 16/16 [00:00<00:00, 24.73it/s]\n",
      "  0%|                                                                                           | 0/16 [00:00<?, ?it/s]"
     ]
    },
    {
     "name": "stdout",
     "output_type": "stream",
     "text": [
      "\n",
      " running ZX: 512 planes of size (50, 512) \n",
      "\n",
      "\n"
     ]
    },
    {
     "name": "stderr",
     "output_type": "stream",
     "text": [
      "100%|██████████████████████████████████████████████████████████████████████████████████| 16/16 [00:00<00:00, 25.00it/s]\n",
      "100%|██████████████████████████████████████████████████████████████████████████████████| 16/16 [00:00<00:00, 24.94it/s]\n",
      "100%|██████████████████████████████████████████████████████████████████████████████████| 16/16 [00:00<00:00, 24.77it/s]\n",
      "100%|██████████████████████████████████████████████████████████████████████████████████| 16/16 [00:00<00:00, 24.88it/s]\n"
     ]
    },
    {
     "name": "stdout",
     "output_type": "stream",
     "text": [
      "flows computed 9.02s\n",
      "dynamics computed 11.38s\n",
      "masks computed 15.66s\n",
      "estimated masks for 1 image(s) in 33.65 sec\n",
      ">>>> TOTAL TIME 33.65 sec\n",
      "** TORCH CUDA version installed and working. **\n",
      ">>>> using GPU\n",
      "processing 1 image(s)\n",
      "multi-stack tiff read in as having 50 planes 3 channels\n"
     ]
    },
    {
     "name": "stderr",
     "output_type": "stream",
     "text": [
      "\r",
      "  0%|                                                                                            | 0/2 [00:00<?, ?it/s]"
     ]
    },
    {
     "name": "stdout",
     "output_type": "stream",
     "text": [
      "\n",
      " running YX: 50 planes of size (512, 640) \n",
      "\n",
      "\n"
     ]
    },
    {
     "name": "stderr",
     "output_type": "stream",
     "text": [
      "100%|████████████████████████████████████████████████████████████████████████████████████| 2/2 [00:00<00:00,  4.45it/s]\n",
      "100%|████████████████████████████████████████████████████████████████████████████████████| 2/2 [00:00<00:00,  9.77it/s]\n",
      "100%|████████████████████████████████████████████████████████████████████████████████████| 2/2 [00:00<00:00, 10.05it/s]\n",
      "100%|████████████████████████████████████████████████████████████████████████████████████| 2/2 [00:00<00:00, 10.00it/s]\n",
      "  0%|                                                                                           | 0/16 [00:00<?, ?it/s]"
     ]
    },
    {
     "name": "stdout",
     "output_type": "stream",
     "text": [
      "\n",
      " running ZY: 512 planes of size (50, 640) \n",
      "\n",
      "\n"
     ]
    },
    {
     "name": "stderr",
     "output_type": "stream",
     "text": [
      "100%|██████████████████████████████████████████████████████████████████████████████████| 16/16 [00:00<00:00, 20.30it/s]\n",
      "100%|██████████████████████████████████████████████████████████████████████████████████| 16/16 [00:00<00:00, 20.46it/s]\n",
      "100%|██████████████████████████████████████████████████████████████████████████████████| 16/16 [00:00<00:00, 20.60it/s]\n",
      "100%|██████████████████████████████████████████████████████████████████████████████████| 16/16 [00:00<00:00, 20.50it/s]\n",
      "  0%|                                                                                           | 0/20 [00:00<?, ?it/s]"
     ]
    },
    {
     "name": "stdout",
     "output_type": "stream",
     "text": [
      "\n",
      " running ZX: 640 planes of size (50, 512) \n",
      "\n",
      "\n"
     ]
    },
    {
     "name": "stderr",
     "output_type": "stream",
     "text": [
      "100%|██████████████████████████████████████████████████████████████████████████████████| 20/20 [00:00<00:00, 24.24it/s]\n",
      "100%|██████████████████████████████████████████████████████████████████████████████████| 20/20 [00:00<00:00, 24.01it/s]\n",
      "100%|██████████████████████████████████████████████████████████████████████████████████| 20/20 [00:00<00:00, 24.33it/s]\n",
      "100%|██████████████████████████████████████████████████████████████████████████████████| 20/20 [00:00<00:00, 24.64it/s]\n"
     ]
    },
    {
     "name": "stdout",
     "output_type": "stream",
     "text": [
      "flows computed 10.92s\n",
      "dynamics computed 14.88s\n",
      "masks computed 20.18s\n",
      "estimated masks for 1 image(s) in 41.58 sec\n",
      ">>>> TOTAL TIME 41.58 sec\n",
      "** TORCH CUDA version installed and working. **\n",
      ">>>> using GPU\n",
      "processing 1 image(s)\n",
      "multi-stack tiff read in as having 50 planes 3 channels\n"
     ]
    },
    {
     "name": "stderr",
     "output_type": "stream",
     "text": [
      "\r",
      "  0%|                                                                                            | 0/2 [00:00<?, ?it/s]"
     ]
    },
    {
     "name": "stdout",
     "output_type": "stream",
     "text": [
      "\n",
      " running YX: 50 planes of size (512, 640) \n",
      "\n",
      "\n"
     ]
    },
    {
     "name": "stderr",
     "output_type": "stream",
     "text": [
      "100%|████████████████████████████████████████████████████████████████████████████████████| 2/2 [00:00<00:00,  4.71it/s]\n",
      "100%|████████████████████████████████████████████████████████████████████████████████████| 2/2 [00:00<00:00,  9.80it/s]\n",
      "100%|████████████████████████████████████████████████████████████████████████████████████| 2/2 [00:00<00:00, 10.00it/s]\n",
      "100%|████████████████████████████████████████████████████████████████████████████████████| 2/2 [00:00<00:00,  9.90it/s]\n",
      "  0%|                                                                                           | 0/16 [00:00<?, ?it/s]"
     ]
    },
    {
     "name": "stdout",
     "output_type": "stream",
     "text": [
      "\n",
      " running ZY: 512 planes of size (50, 640) \n",
      "\n",
      "\n"
     ]
    },
    {
     "name": "stderr",
     "output_type": "stream",
     "text": [
      "100%|██████████████████████████████████████████████████████████████████████████████████| 16/16 [00:00<00:00, 20.48it/s]\n",
      "100%|██████████████████████████████████████████████████████████████████████████████████| 16/16 [00:00<00:00, 20.72it/s]\n",
      "100%|██████████████████████████████████████████████████████████████████████████████████| 16/16 [00:00<00:00, 20.54it/s]\n",
      "100%|██████████████████████████████████████████████████████████████████████████████████| 16/16 [00:00<00:00, 20.68it/s]\n",
      "  0%|                                                                                           | 0/20 [00:00<?, ?it/s]"
     ]
    },
    {
     "name": "stdout",
     "output_type": "stream",
     "text": [
      "\n",
      " running ZX: 640 planes of size (50, 512) \n",
      "\n",
      "\n"
     ]
    },
    {
     "name": "stderr",
     "output_type": "stream",
     "text": [
      "100%|██████████████████████████████████████████████████████████████████████████████████| 20/20 [00:00<00:00, 24.56it/s]\n",
      "100%|██████████████████████████████████████████████████████████████████████████████████| 20/20 [00:00<00:00, 24.69it/s]\n",
      "100%|██████████████████████████████████████████████████████████████████████████████████| 20/20 [00:00<00:00, 24.72it/s]\n",
      "100%|██████████████████████████████████████████████████████████████████████████████████| 20/20 [00:00<00:00, 24.69it/s]\n"
     ]
    },
    {
     "name": "stdout",
     "output_type": "stream",
     "text": [
      "flows computed 10.71s\n",
      "dynamics computed 15.57s\n",
      "masks computed 21.02s\n",
      "estimated masks for 1 image(s) in 42.38 sec\n",
      ">>>> TOTAL TIME 42.38 sec\n",
      "** TORCH CUDA version installed and working. **\n",
      ">>>> using GPU\n",
      "processing 1 image(s)\n",
      "multi-stack tiff read in as having 50 planes 3 channels\n"
     ]
    },
    {
     "name": "stderr",
     "output_type": "stream",
     "text": [
      "\r",
      "  0%|                                                                                            | 0/2 [00:00<?, ?it/s]"
     ]
    },
    {
     "name": "stdout",
     "output_type": "stream",
     "text": [
      "\n",
      " running YX: 50 planes of size (512, 640) \n",
      "\n",
      "\n"
     ]
    },
    {
     "name": "stderr",
     "output_type": "stream",
     "text": [
      "100%|████████████████████████████████████████████████████████████████████████████████████| 2/2 [00:00<00:00,  3.84it/s]\n",
      "100%|████████████████████████████████████████████████████████████████████████████████████| 2/2 [00:00<00:00,  9.80it/s]\n",
      "100%|████████████████████████████████████████████████████████████████████████████████████| 2/2 [00:00<00:00, 10.05it/s]\n",
      "100%|████████████████████████████████████████████████████████████████████████████████████| 2/2 [00:00<00:00,  9.90it/s]\n",
      "  0%|                                                                                           | 0/16 [00:00<?, ?it/s]"
     ]
    },
    {
     "name": "stdout",
     "output_type": "stream",
     "text": [
      "\n",
      " running ZY: 512 planes of size (50, 640) \n",
      "\n",
      "\n"
     ]
    },
    {
     "name": "stderr",
     "output_type": "stream",
     "text": [
      "100%|██████████████████████████████████████████████████████████████████████████████████| 16/16 [00:00<00:00, 20.54it/s]\n",
      "100%|██████████████████████████████████████████████████████████████████████████████████| 16/16 [00:00<00:00, 20.38it/s]\n",
      "100%|██████████████████████████████████████████████████████████████████████████████████| 16/16 [00:00<00:00, 20.57it/s]\n",
      "100%|██████████████████████████████████████████████████████████████████████████████████| 16/16 [00:00<00:00, 20.50it/s]\n",
      "  0%|                                                                                           | 0/20 [00:00<?, ?it/s]"
     ]
    },
    {
     "name": "stdout",
     "output_type": "stream",
     "text": [
      "\n",
      " running ZX: 640 planes of size (50, 512) \n",
      "\n",
      "\n"
     ]
    },
    {
     "name": "stderr",
     "output_type": "stream",
     "text": [
      "100%|██████████████████████████████████████████████████████████████████████████████████| 20/20 [00:00<00:00, 24.49it/s]\n",
      "100%|██████████████████████████████████████████████████████████████████████████████████| 20/20 [00:00<00:00, 24.81it/s]\n",
      "100%|██████████████████████████████████████████████████████████████████████████████████| 20/20 [00:00<00:00, 24.66it/s]\n",
      "100%|██████████████████████████████████████████████████████████████████████████████████| 20/20 [00:00<00:00, 24.75it/s]\n"
     ]
    },
    {
     "name": "stdout",
     "output_type": "stream",
     "text": [
      "flows computed 10.71s\n",
      "dynamics computed 14.26s\n",
      "masks computed 19.61s\n",
      "estimated masks for 1 image(s) in 41.68 sec\n",
      ">>>> TOTAL TIME 41.68 sec\n",
      "** TORCH CUDA version installed and working. **\n",
      ">>>> using GPU\n",
      "processing 1 image(s)\n",
      "multi-stack tiff read in as having 50 planes 3 channels\n",
      "\n",
      " running YX: 50 planes of size (640, 512) \n",
      "\n",
      "\n"
     ]
    },
    {
     "name": "stderr",
     "output_type": "stream",
     "text": [
      "100%|████████████████████████████████████████████████████████████████████████████████████| 2/2 [00:00<00:00,  4.10it/s]\n",
      "100%|████████████████████████████████████████████████████████████████████████████████████| 2/2 [00:00<00:00,  9.51it/s]\n",
      "100%|████████████████████████████████████████████████████████████████████████████████████| 2/2 [00:00<00:00,  9.17it/s]\n",
      "100%|████████████████████████████████████████████████████████████████████████████████████| 2/2 [00:00<00:00,  9.10it/s]\n",
      "  0%|                                                                                           | 0/20 [00:00<?, ?it/s]"
     ]
    },
    {
     "name": "stdout",
     "output_type": "stream",
     "text": [
      "\n",
      " running ZY: 640 planes of size (50, 512) \n",
      "\n",
      "\n"
     ]
    },
    {
     "name": "stderr",
     "output_type": "stream",
     "text": [
      "100%|██████████████████████████████████████████████████████████████████████████████████| 20/20 [00:00<00:00, 23.57it/s]\n",
      "100%|██████████████████████████████████████████████████████████████████████████████████| 20/20 [00:00<00:00, 24.36it/s]\n",
      "100%|██████████████████████████████████████████████████████████████████████████████████| 20/20 [00:00<00:00, 24.49it/s]\n",
      "100%|██████████████████████████████████████████████████████████████████████████████████| 20/20 [00:00<00:00, 24.33it/s]\n",
      "  0%|                                                                                           | 0/16 [00:00<?, ?it/s]"
     ]
    },
    {
     "name": "stdout",
     "output_type": "stream",
     "text": [
      "\n",
      " running ZX: 512 planes of size (50, 640) \n",
      "\n",
      "\n"
     ]
    },
    {
     "name": "stderr",
     "output_type": "stream",
     "text": [
      "100%|██████████████████████████████████████████████████████████████████████████████████| 16/16 [00:00<00:00, 19.65it/s]\n",
      "100%|██████████████████████████████████████████████████████████████████████████████████| 16/16 [00:00<00:00, 20.13it/s]\n",
      "100%|██████████████████████████████████████████████████████████████████████████████████| 16/16 [00:00<00:00, 20.46it/s]\n",
      "100%|██████████████████████████████████████████████████████████████████████████████████| 16/16 [00:00<00:00, 19.85it/s]\n"
     ]
    },
    {
     "name": "stdout",
     "output_type": "stream",
     "text": [
      "flows computed 11.15s\n",
      "dynamics computed 14.68s\n",
      "masks computed 20.29s\n",
      "estimated masks for 1 image(s) in 41.87 sec\n",
      ">>>> TOTAL TIME 41.87 sec\n",
      "** TORCH CUDA version installed and working. **\n",
      ">>>> using GPU\n",
      "processing 1 image(s)\n",
      "multi-stack tiff read in as having 50 planes 3 channels\n"
     ]
    },
    {
     "name": "stderr",
     "output_type": "stream",
     "text": [
      "\r",
      "  0%|                                                                                            | 0/2 [00:00<?, ?it/s]"
     ]
    },
    {
     "name": "stdout",
     "output_type": "stream",
     "text": [
      "\n",
      " running YX: 50 planes of size (640, 640) \n",
      "\n",
      "\n"
     ]
    },
    {
     "name": "stderr",
     "output_type": "stream",
     "text": [
      "100%|████████████████████████████████████████████████████████████████████████████████████| 2/2 [00:00<00:00,  3.31it/s]\n",
      "100%|████████████████████████████████████████████████████████████████████████████████████| 2/2 [00:00<00:00,  8.33it/s]\n",
      "100%|████████████████████████████████████████████████████████████████████████████████████| 2/2 [00:00<00:00,  8.25it/s]\n",
      "100%|████████████████████████████████████████████████████████████████████████████████████| 2/2 [00:00<00:00,  8.10it/s]\n",
      "  0%|                                                                                           | 0/20 [00:00<?, ?it/s]"
     ]
    },
    {
     "name": "stdout",
     "output_type": "stream",
     "text": [
      "\n",
      " running ZY: 640 planes of size (50, 640) \n",
      "\n",
      "\n"
     ]
    },
    {
     "name": "stderr",
     "output_type": "stream",
     "text": [
      "100%|██████████████████████████████████████████████████████████████████████████████████| 20/20 [00:00<00:00, 20.50it/s]\n",
      "100%|██████████████████████████████████████████████████████████████████████████████████| 20/20 [00:00<00:00, 20.60it/s]\n",
      "100%|██████████████████████████████████████████████████████████████████████████████████| 20/20 [00:00<00:00, 20.62it/s]\n",
      "100%|██████████████████████████████████████████████████████████████████████████████████| 20/20 [00:00<00:00, 20.60it/s]\n",
      "  0%|                                                                                           | 0/20 [00:00<?, ?it/s]"
     ]
    },
    {
     "name": "stdout",
     "output_type": "stream",
     "text": [
      "\n",
      " running ZX: 640 planes of size (50, 640) \n",
      "\n",
      "\n"
     ]
    },
    {
     "name": "stderr",
     "output_type": "stream",
     "text": [
      "100%|██████████████████████████████████████████████████████████████████████████████████| 20/20 [00:00<00:00, 20.72it/s]\n",
      "100%|██████████████████████████████████████████████████████████████████████████████████| 20/20 [00:00<00:00, 20.24it/s]\n",
      "100%|██████████████████████████████████████████████████████████████████████████████████| 20/20 [00:01<00:00, 20.00it/s]\n",
      "100%|██████████████████████████████████████████████████████████████████████████████████| 20/20 [00:00<00:00, 20.24it/s]\n"
     ]
    },
    {
     "name": "stdout",
     "output_type": "stream",
     "text": [
      "flows computed 12.88s\n",
      "dynamics computed 18.26s\n",
      "masks computed 25.63s\n",
      "estimated masks for 1 image(s) in 52.40 sec\n",
      ">>>> TOTAL TIME 52.40 sec\n",
      "** TORCH CUDA version installed and working. **\n",
      ">>>> using GPU\n",
      "processing 1 image(s)\n",
      "multi-stack tiff read in as having 50 planes 3 channels\n"
     ]
    },
    {
     "name": "stderr",
     "output_type": "stream",
     "text": [
      "\r",
      "  0%|                                                                                            | 0/2 [00:00<?, ?it/s]"
     ]
    },
    {
     "name": "stdout",
     "output_type": "stream",
     "text": [
      "\n",
      " running YX: 50 planes of size (640, 640) \n",
      "\n",
      "\n"
     ]
    },
    {
     "name": "stderr",
     "output_type": "stream",
     "text": [
      "100%|████████████████████████████████████████████████████████████████████████████████████| 2/2 [00:00<00:00,  4.14it/s]\n",
      "100%|████████████████████████████████████████████████████████████████████████████████████| 2/2 [00:00<00:00,  8.22it/s]\n",
      "100%|████████████████████████████████████████████████████████████████████████████████████| 2/2 [00:00<00:00,  8.13it/s]\n",
      "100%|████████████████████████████████████████████████████████████████████████████████████| 2/2 [00:00<00:00,  8.23it/s]\n",
      "  0%|                                                                                           | 0/20 [00:00<?, ?it/s]"
     ]
    },
    {
     "name": "stdout",
     "output_type": "stream",
     "text": [
      "\n",
      " running ZY: 640 planes of size (50, 640) \n",
      "\n",
      "\n"
     ]
    },
    {
     "name": "stderr",
     "output_type": "stream",
     "text": [
      "100%|██████████████████████████████████████████████████████████████████████████████████| 20/20 [00:00<00:00, 20.32it/s]\n",
      "100%|██████████████████████████████████████████████████████████████████████████████████| 20/20 [00:00<00:00, 20.12it/s]\n",
      "100%|██████████████████████████████████████████████████████████████████████████████████| 20/20 [00:00<00:00, 20.25it/s]\n",
      "100%|██████████████████████████████████████████████████████████████████████████████████| 20/20 [00:00<00:00, 20.32it/s]\n",
      "  0%|                                                                                           | 0/20 [00:00<?, ?it/s]"
     ]
    },
    {
     "name": "stdout",
     "output_type": "stream",
     "text": [
      "\n",
      " running ZX: 640 planes of size (50, 640) \n",
      "\n",
      "\n"
     ]
    },
    {
     "name": "stderr",
     "output_type": "stream",
     "text": [
      "100%|██████████████████████████████████████████████████████████████████████████████████| 20/20 [00:00<00:00, 20.19it/s]\n",
      "100%|██████████████████████████████████████████████████████████████████████████████████| 20/20 [00:00<00:00, 20.45it/s]\n",
      "100%|██████████████████████████████████████████████████████████████████████████████████| 20/20 [00:00<00:00, 20.15it/s]\n",
      "100%|██████████████████████████████████████████████████████████████████████████████████| 20/20 [00:00<00:00, 20.29it/s]\n"
     ]
    },
    {
     "name": "stdout",
     "output_type": "stream",
     "text": [
      "flows computed 12.93s\n",
      "dynamics computed 19.00s\n",
      "masks computed 26.37s\n",
      "estimated masks for 1 image(s) in 53.51 sec\n",
      ">>>> TOTAL TIME 53.51 sec\n",
      "** TORCH CUDA version installed and working. **\n",
      ">>>> using GPU\n",
      "processing 1 image(s)\n",
      "multi-stack tiff read in as having 50 planes 3 channels\n"
     ]
    },
    {
     "name": "stderr",
     "output_type": "stream",
     "text": [
      "\r",
      "  0%|                                                                                            | 0/2 [00:00<?, ?it/s]"
     ]
    },
    {
     "name": "stdout",
     "output_type": "stream",
     "text": [
      "\n",
      " running YX: 50 planes of size (640, 640) \n",
      "\n",
      "\n"
     ]
    },
    {
     "name": "stderr",
     "output_type": "stream",
     "text": [
      "100%|████████████████████████████████████████████████████████████████████████████████████| 2/2 [00:00<00:00,  3.72it/s]\n",
      "100%|████████████████████████████████████████████████████████████████████████████████████| 2/2 [00:00<00:00,  8.23it/s]\n",
      "100%|████████████████████████████████████████████████████████████████████████████████████| 2/2 [00:00<00:00,  8.28it/s]\n",
      "100%|████████████████████████████████████████████████████████████████████████████████████| 2/2 [00:00<00:00,  8.19it/s]\n",
      "  0%|                                                                                           | 0/20 [00:00<?, ?it/s]"
     ]
    },
    {
     "name": "stdout",
     "output_type": "stream",
     "text": [
      "\n",
      " running ZY: 640 planes of size (50, 640) \n",
      "\n",
      "\n"
     ]
    },
    {
     "name": "stderr",
     "output_type": "stream",
     "text": [
      "100%|██████████████████████████████████████████████████████████████████████████████████| 20/20 [00:00<00:00, 20.32it/s]\n",
      "100%|██████████████████████████████████████████████████████████████████████████████████| 20/20 [00:00<00:00, 20.58it/s]\n",
      "100%|██████████████████████████████████████████████████████████████████████████████████| 20/20 [00:00<00:00, 20.49it/s]\n",
      "100%|██████████████████████████████████████████████████████████████████████████████████| 20/20 [00:00<00:00, 20.51it/s]\n",
      "  0%|                                                                                           | 0/20 [00:00<?, ?it/s]"
     ]
    },
    {
     "name": "stdout",
     "output_type": "stream",
     "text": [
      "\n",
      " running ZX: 640 planes of size (50, 640) \n",
      "\n",
      "\n"
     ]
    },
    {
     "name": "stderr",
     "output_type": "stream",
     "text": [
      "100%|██████████████████████████████████████████████████████████████████████████████████| 20/20 [00:00<00:00, 20.23it/s]\n",
      "100%|██████████████████████████████████████████████████████████████████████████████████| 20/20 [00:00<00:00, 20.29it/s]\n",
      "100%|██████████████████████████████████████████████████████████████████████████████████| 20/20 [00:00<00:00, 20.49it/s]\n",
      "100%|██████████████████████████████████████████████████████████████████████████████████| 20/20 [00:00<00:00, 20.65it/s]\n"
     ]
    },
    {
     "name": "stdout",
     "output_type": "stream",
     "text": [
      "flows computed 12.85s\n",
      "dynamics computed 16.82s\n",
      "masks computed 23.87s\n",
      "estimated masks for 1 image(s) in 50.35 sec\n",
      ">>>> TOTAL TIME 50.35 sec\n",
      "** TORCH CUDA version installed and working. **\n",
      ">>>> using GPU\n",
      "processing 1 image(s)\n",
      "multi-stack tiff read in as having 50 planes 3 channels\n"
     ]
    },
    {
     "name": "stderr",
     "output_type": "stream",
     "text": [
      "\r",
      "  0%|                                                                                            | 0/2 [00:00<?, ?it/s]"
     ]
    },
    {
     "name": "stdout",
     "output_type": "stream",
     "text": [
      "\n",
      " running YX: 50 planes of size (640, 512) \n",
      "\n",
      "\n"
     ]
    },
    {
     "name": "stderr",
     "output_type": "stream",
     "text": [
      "100%|████████████████████████████████████████████████████████████████████████████████████| 2/2 [00:00<00:00,  3.61it/s]\n",
      "100%|████████████████████████████████████████████████████████████████████████████████████| 2/2 [00:00<00:00, 10.05it/s]\n",
      "100%|████████████████████████████████████████████████████████████████████████████████████| 2/2 [00:00<00:00, 10.15it/s]\n",
      "100%|████████████████████████████████████████████████████████████████████████████████████| 2/2 [00:00<00:00, 10.00it/s]\n",
      "  0%|                                                                                           | 0/20 [00:00<?, ?it/s]"
     ]
    },
    {
     "name": "stdout",
     "output_type": "stream",
     "text": [
      "\n",
      " running ZY: 640 planes of size (50, 512) \n",
      "\n",
      "\n"
     ]
    },
    {
     "name": "stderr",
     "output_type": "stream",
     "text": [
      "100%|██████████████████████████████████████████████████████████████████████████████████| 20/20 [00:00<00:00, 24.51it/s]\n",
      "100%|██████████████████████████████████████████████████████████████████████████████████| 20/20 [00:00<00:00, 24.52it/s]\n",
      "100%|██████████████████████████████████████████████████████████████████████████████████| 20/20 [00:00<00:00, 24.75it/s]\n",
      "100%|██████████████████████████████████████████████████████████████████████████████████| 20/20 [00:00<00:00, 24.52it/s]\n",
      "  0%|                                                                                           | 0/16 [00:00<?, ?it/s]"
     ]
    },
    {
     "name": "stdout",
     "output_type": "stream",
     "text": [
      "\n",
      " running ZX: 512 planes of size (50, 640) \n",
      "\n",
      "\n"
     ]
    },
    {
     "name": "stderr",
     "output_type": "stream",
     "text": [
      "100%|██████████████████████████████████████████████████████████████████████████████████| 16/16 [00:00<00:00, 20.33it/s]\n",
      "100%|██████████████████████████████████████████████████████████████████████████████████| 16/16 [00:00<00:00, 20.61it/s]\n",
      "100%|██████████████████████████████████████████████████████████████████████████████████| 16/16 [00:00<00:00, 20.58it/s]\n",
      "100%|██████████████████████████████████████████████████████████████████████████████████| 16/16 [00:00<00:00, 20.58it/s]\n"
     ]
    },
    {
     "name": "stdout",
     "output_type": "stream",
     "text": [
      "flows computed 10.80s\n",
      "dynamics computed 14.71s\n",
      "masks computed 19.98s\n",
      "estimated masks for 1 image(s) in 42.01 sec\n",
      ">>>> TOTAL TIME 42.01 sec\n",
      "** TORCH CUDA version installed and working. **\n",
      ">>>> using GPU\n",
      "processing 1 image(s)\n",
      "multi-stack tiff read in as having 50 planes 3 channels\n"
     ]
    },
    {
     "name": "stderr",
     "output_type": "stream",
     "text": [
      "\r",
      "  0%|                                                                                            | 0/2 [00:00<?, ?it/s]"
     ]
    },
    {
     "name": "stdout",
     "output_type": "stream",
     "text": [
      "\n",
      " running YX: 50 planes of size (640, 640) \n",
      "\n",
      "\n"
     ]
    },
    {
     "name": "stderr",
     "output_type": "stream",
     "text": [
      "100%|████████████████████████████████████████████████████████████████████████████████████| 2/2 [00:00<00:00,  3.74it/s]\n",
      "100%|████████████████████████████████████████████████████████████████████████████████████| 2/2 [00:00<00:00,  8.40it/s]\n",
      "100%|████████████████████████████████████████████████████████████████████████████████████| 2/2 [00:00<00:00,  8.21it/s]\n",
      "100%|████████████████████████████████████████████████████████████████████████████████████| 2/2 [00:00<00:00,  8.13it/s]\n",
      "  0%|                                                                                           | 0/20 [00:00<?, ?it/s]"
     ]
    },
    {
     "name": "stdout",
     "output_type": "stream",
     "text": [
      "\n",
      " running ZY: 640 planes of size (50, 640) \n",
      "\n",
      "\n"
     ]
    },
    {
     "name": "stderr",
     "output_type": "stream",
     "text": [
      "100%|██████████████████████████████████████████████████████████████████████████████████| 20/20 [00:00<00:00, 20.54it/s]\n",
      "100%|██████████████████████████████████████████████████████████████████████████████████| 20/20 [00:00<00:00, 20.51it/s]\n",
      "100%|██████████████████████████████████████████████████████████████████████████████████| 20/20 [00:00<00:00, 20.49it/s]\n",
      "100%|██████████████████████████████████████████████████████████████████████████████████| 20/20 [00:00<00:00, 20.60it/s]\n",
      "  0%|                                                                                           | 0/20 [00:00<?, ?it/s]"
     ]
    },
    {
     "name": "stdout",
     "output_type": "stream",
     "text": [
      "\n",
      " running ZX: 640 planes of size (50, 640) \n",
      "\n",
      "\n"
     ]
    },
    {
     "name": "stderr",
     "output_type": "stream",
     "text": [
      "100%|██████████████████████████████████████████████████████████████████████████████████| 20/20 [00:00<00:00, 20.50it/s]\n",
      "100%|██████████████████████████████████████████████████████████████████████████████████| 20/20 [00:00<00:00, 20.04it/s]\n",
      "100%|██████████████████████████████████████████████████████████████████████████████████| 20/20 [00:00<00:00, 20.43it/s]\n",
      "100%|██████████████████████████████████████████████████████████████████████████████████| 20/20 [00:01<00:00, 19.82it/s]\n"
     ]
    },
    {
     "name": "stdout",
     "output_type": "stream",
     "text": [
      "flows computed 12.91s\n",
      "dynamics computed 16.06s\n",
      "masks computed 22.74s\n",
      "estimated masks for 1 image(s) in 49.41 sec\n",
      ">>>> TOTAL TIME 49.41 sec\n",
      "** TORCH CUDA version installed and working. **\n",
      ">>>> using GPU\n",
      "processing 1 image(s)\n",
      "multi-stack tiff read in as having 50 planes 3 channels\n"
     ]
    },
    {
     "name": "stderr",
     "output_type": "stream",
     "text": [
      "\r",
      "  0%|                                                                                            | 0/2 [00:00<?, ?it/s]"
     ]
    },
    {
     "name": "stdout",
     "output_type": "stream",
     "text": [
      "\n",
      " running YX: 50 planes of size (640, 640) \n",
      "\n",
      "\n"
     ]
    },
    {
     "name": "stderr",
     "output_type": "stream",
     "text": [
      "100%|████████████████████████████████████████████████████████████████████████████████████| 2/2 [00:00<00:00,  4.19it/s]\n",
      "100%|████████████████████████████████████████████████████████████████████████████████████| 2/2 [00:00<00:00,  8.25it/s]\n",
      "100%|████████████████████████████████████████████████████████████████████████████████████| 2/2 [00:00<00:00,  8.13it/s]\n",
      "100%|████████████████████████████████████████████████████████████████████████████████████| 2/2 [00:00<00:00,  8.16it/s]\n",
      "  0%|                                                                                           | 0/20 [00:00<?, ?it/s]"
     ]
    },
    {
     "name": "stdout",
     "output_type": "stream",
     "text": [
      "\n",
      " running ZY: 640 planes of size (50, 640) \n",
      "\n",
      "\n"
     ]
    },
    {
     "name": "stderr",
     "output_type": "stream",
     "text": [
      "100%|██████████████████████████████████████████████████████████████████████████████████| 20/20 [00:00<00:00, 20.26it/s]\n",
      "100%|██████████████████████████████████████████████████████████████████████████████████| 20/20 [00:00<00:00, 20.47it/s]\n",
      "100%|██████████████████████████████████████████████████████████████████████████████████| 20/20 [00:00<00:00, 20.56it/s]\n",
      "100%|██████████████████████████████████████████████████████████████████████████████████| 20/20 [00:00<00:00, 20.46it/s]\n",
      "  0%|                                                                                           | 0/20 [00:00<?, ?it/s]"
     ]
    },
    {
     "name": "stdout",
     "output_type": "stream",
     "text": [
      "\n",
      " running ZX: 640 planes of size (50, 640) \n",
      "\n",
      "\n"
     ]
    },
    {
     "name": "stderr",
     "output_type": "stream",
     "text": [
      "100%|██████████████████████████████████████████████████████████████████████████████████| 20/20 [00:00<00:00, 20.52it/s]\n",
      "100%|██████████████████████████████████████████████████████████████████████████████████| 20/20 [00:00<00:00, 20.30it/s]\n",
      "100%|██████████████████████████████████████████████████████████████████████████████████| 20/20 [00:00<00:00, 20.44it/s]\n",
      "100%|██████████████████████████████████████████████████████████████████████████████████| 20/20 [00:00<00:00, 20.30it/s]\n"
     ]
    },
    {
     "name": "stdout",
     "output_type": "stream",
     "text": [
      "flows computed 12.85s\n",
      "dynamics computed 18.00s\n",
      "masks computed 24.93s\n",
      "estimated masks for 1 image(s) in 51.32 sec\n",
      ">>>> TOTAL TIME 51.32 sec\n",
      "** TORCH CUDA version installed and working. **\n",
      ">>>> using GPU\n",
      "processing 1 image(s)\n",
      "multi-stack tiff read in as having 50 planes 3 channels\n"
     ]
    },
    {
     "name": "stderr",
     "output_type": "stream",
     "text": [
      "\r",
      "  0%|                                                                                            | 0/2 [00:00<?, ?it/s]"
     ]
    },
    {
     "name": "stdout",
     "output_type": "stream",
     "text": [
      "\n",
      " running YX: 50 planes of size (640, 640) \n",
      "\n",
      "\n"
     ]
    },
    {
     "name": "stderr",
     "output_type": "stream",
     "text": [
      "100%|████████████████████████████████████████████████████████████████████████████████████| 2/2 [00:00<00:00,  4.29it/s]\n",
      "100%|████████████████████████████████████████████████████████████████████████████████████| 2/2 [00:00<00:00,  8.24it/s]\n",
      "100%|████████████████████████████████████████████████████████████████████████████████████| 2/2 [00:00<00:00,  8.30it/s]\n",
      "100%|████████████████████████████████████████████████████████████████████████████████████| 2/2 [00:00<00:00,  8.30it/s]\n",
      "  0%|                                                                                           | 0/20 [00:00<?, ?it/s]"
     ]
    },
    {
     "name": "stdout",
     "output_type": "stream",
     "text": [
      "\n",
      " running ZY: 640 planes of size (50, 640) \n",
      "\n",
      "\n"
     ]
    },
    {
     "name": "stderr",
     "output_type": "stream",
     "text": [
      "100%|██████████████████████████████████████████████████████████████████████████████████| 20/20 [00:00<00:00, 20.63it/s]\n",
      "100%|██████████████████████████████████████████████████████████████████████████████████| 20/20 [00:00<00:00, 20.79it/s]\n",
      "100%|██████████████████████████████████████████████████████████████████████████████████| 20/20 [00:00<00:00, 20.55it/s]\n",
      "100%|██████████████████████████████████████████████████████████████████████████████████| 20/20 [00:00<00:00, 20.14it/s]\n",
      "  0%|                                                                                           | 0/20 [00:00<?, ?it/s]"
     ]
    },
    {
     "name": "stdout",
     "output_type": "stream",
     "text": [
      "\n",
      " running ZX: 640 planes of size (50, 640) \n",
      "\n",
      "\n"
     ]
    },
    {
     "name": "stderr",
     "output_type": "stream",
     "text": [
      "100%|██████████████████████████████████████████████████████████████████████████████████| 20/20 [00:00<00:00, 20.23it/s]\n",
      "100%|██████████████████████████████████████████████████████████████████████████████████| 20/20 [00:00<00:00, 20.27it/s]\n",
      "100%|██████████████████████████████████████████████████████████████████████████████████| 20/20 [00:00<00:00, 20.35it/s]\n",
      "100%|██████████████████████████████████████████████████████████████████████████████████| 20/20 [00:00<00:00, 20.32it/s]\n"
     ]
    },
    {
     "name": "stdout",
     "output_type": "stream",
     "text": [
      "flows computed 12.84s\n",
      "dynamics computed 17.00s\n",
      "masks computed 23.99s\n",
      "estimated masks for 1 image(s) in 50.28 sec\n",
      ">>>> TOTAL TIME 50.28 sec\n",
      "** TORCH CUDA version installed and working. **\n",
      ">>>> using GPU\n",
      "processing 1 image(s)\n",
      "multi-stack tiff read in as having 50 planes 3 channels\n"
     ]
    },
    {
     "name": "stderr",
     "output_type": "stream",
     "text": [
      "\r",
      "  0%|                                                                                            | 0/2 [00:00<?, ?it/s]"
     ]
    },
    {
     "name": "stdout",
     "output_type": "stream",
     "text": [
      "\n",
      " running YX: 50 planes of size (640, 512) \n",
      "\n",
      "\n"
     ]
    },
    {
     "name": "stderr",
     "output_type": "stream",
     "text": [
      "100%|████████████████████████████████████████████████████████████████████████████████████| 2/2 [00:00<00:00,  5.38it/s]\n",
      "100%|████████████████████████████████████████████████████████████████████████████████████| 2/2 [00:00<00:00,  9.95it/s]\n",
      "100%|████████████████████████████████████████████████████████████████████████████████████| 2/2 [00:00<00:00,  9.92it/s]\n",
      "100%|████████████████████████████████████████████████████████████████████████████████████| 2/2 [00:00<00:00, 10.00it/s]\n",
      "  0%|                                                                                           | 0/20 [00:00<?, ?it/s]"
     ]
    },
    {
     "name": "stdout",
     "output_type": "stream",
     "text": [
      "\n",
      " running ZY: 640 planes of size (50, 512) \n",
      "\n",
      "\n"
     ]
    },
    {
     "name": "stderr",
     "output_type": "stream",
     "text": [
      "100%|██████████████████████████████████████████████████████████████████████████████████| 20/20 [00:00<00:00, 24.15it/s]\n",
      "100%|██████████████████████████████████████████████████████████████████████████████████| 20/20 [00:00<00:00, 24.72it/s]\n",
      "100%|██████████████████████████████████████████████████████████████████████████████████| 20/20 [00:00<00:00, 24.66it/s]\n",
      "100%|██████████████████████████████████████████████████████████████████████████████████| 20/20 [00:00<00:00, 24.64it/s]\n",
      "  0%|                                                                                           | 0/16 [00:00<?, ?it/s]"
     ]
    },
    {
     "name": "stdout",
     "output_type": "stream",
     "text": [
      "\n",
      " running ZX: 512 planes of size (50, 640) \n",
      "\n",
      "\n"
     ]
    },
    {
     "name": "stderr",
     "output_type": "stream",
     "text": [
      "100%|██████████████████████████████████████████████████████████████████████████████████| 16/16 [00:00<00:00, 20.17it/s]\n",
      "100%|██████████████████████████████████████████████████████████████████████████████████| 16/16 [00:00<00:00, 19.93it/s]\n",
      "100%|██████████████████████████████████████████████████████████████████████████████████| 16/16 [00:00<00:00, 19.95it/s]\n",
      "100%|██████████████████████████████████████████████████████████████████████████████████| 16/16 [00:00<00:00, 20.16it/s]\n"
     ]
    },
    {
     "name": "stdout",
     "output_type": "stream",
     "text": [
      "flows computed 10.74s\n",
      "dynamics computed 14.87s\n",
      "masks computed 21.19s\n",
      "estimated masks for 1 image(s) in 43.88 sec\n",
      ">>>> TOTAL TIME 43.88 sec\n",
      "** TORCH CUDA version installed and working. **\n",
      ">>>> using GPU\n",
      "processing 1 image(s)\n",
      "multi-stack tiff read in as having 50 planes 3 channels\n"
     ]
    },
    {
     "name": "stderr",
     "output_type": "stream",
     "text": [
      "\r",
      "  0%|                                                                                            | 0/2 [00:00<?, ?it/s]"
     ]
    },
    {
     "name": "stdout",
     "output_type": "stream",
     "text": [
      "\n",
      " running YX: 50 planes of size (640, 640) \n",
      "\n",
      "\n"
     ]
    },
    {
     "name": "stderr",
     "output_type": "stream",
     "text": [
      "100%|████████████████████████████████████████████████████████████████████████████████████| 2/2 [00:00<00:00,  4.47it/s]\n",
      "100%|████████████████████████████████████████████████████████████████████████████████████| 2/2 [00:00<00:00,  8.37it/s]\n",
      "100%|████████████████████████████████████████████████████████████████████████████████████| 2/2 [00:00<00:00,  8.31it/s]\n",
      "100%|████████████████████████████████████████████████████████████████████████████████████| 2/2 [00:00<00:00,  8.30it/s]\n",
      "  0%|                                                                                           | 0/20 [00:00<?, ?it/s]"
     ]
    },
    {
     "name": "stdout",
     "output_type": "stream",
     "text": [
      "\n",
      " running ZY: 640 planes of size (50, 640) \n",
      "\n",
      "\n"
     ]
    },
    {
     "name": "stderr",
     "output_type": "stream",
     "text": [
      "100%|██████████████████████████████████████████████████████████████████████████████████| 20/20 [00:00<00:00, 20.57it/s]\n",
      "100%|██████████████████████████████████████████████████████████████████████████████████| 20/20 [00:00<00:00, 20.47it/s]\n",
      "100%|██████████████████████████████████████████████████████████████████████████████████| 20/20 [00:00<00:00, 20.66it/s]\n",
      "100%|██████████████████████████████████████████████████████████████████████████████████| 20/20 [00:00<00:00, 20.49it/s]\n",
      "  0%|                                                                                           | 0/20 [00:00<?, ?it/s]"
     ]
    },
    {
     "name": "stdout",
     "output_type": "stream",
     "text": [
      "\n",
      " running ZX: 640 planes of size (50, 640) \n",
      "\n",
      "\n"
     ]
    },
    {
     "name": "stderr",
     "output_type": "stream",
     "text": [
      "100%|██████████████████████████████████████████████████████████████████████████████████| 20/20 [00:00<00:00, 20.65it/s]\n",
      "100%|██████████████████████████████████████████████████████████████████████████████████| 20/20 [00:00<00:00, 20.66it/s]\n",
      "100%|██████████████████████████████████████████████████████████████████████████████████| 20/20 [00:00<00:00, 20.62it/s]\n",
      "100%|██████████████████████████████████████████████████████████████████████████████████| 20/20 [00:00<00:00, 20.60it/s]\n"
     ]
    },
    {
     "name": "stdout",
     "output_type": "stream",
     "text": [
      "flows computed 12.68s\n",
      "dynamics computed 16.69s\n",
      "masks computed 23.32s\n",
      "estimated masks for 1 image(s) in 49.70 sec\n",
      ">>>> TOTAL TIME 49.70 sec\n",
      "** TORCH CUDA version installed and working. **\n",
      ">>>> using GPU\n",
      "processing 1 image(s)\n",
      "multi-stack tiff read in as having 50 planes 3 channels\n"
     ]
    },
    {
     "name": "stderr",
     "output_type": "stream",
     "text": [
      "\r",
      "  0%|                                                                                            | 0/2 [00:00<?, ?it/s]"
     ]
    },
    {
     "name": "stdout",
     "output_type": "stream",
     "text": [
      "\n",
      " running YX: 50 planes of size (640, 640) \n",
      "\n",
      "\n"
     ]
    },
    {
     "name": "stderr",
     "output_type": "stream",
     "text": [
      "100%|████████████████████████████████████████████████████████████████████████████████████| 2/2 [00:00<00:00,  3.46it/s]\n",
      "100%|████████████████████████████████████████████████████████████████████████████████████| 2/2 [00:00<00:00,  8.26it/s]\n",
      "100%|████████████████████████████████████████████████████████████████████████████████████| 2/2 [00:00<00:00,  8.20it/s]\n",
      "100%|████████████████████████████████████████████████████████████████████████████████████| 2/2 [00:00<00:00,  8.30it/s]\n",
      "  0%|                                                                                           | 0/20 [00:00<?, ?it/s]"
     ]
    },
    {
     "name": "stdout",
     "output_type": "stream",
     "text": [
      "\n",
      " running ZY: 640 planes of size (50, 640) \n",
      "\n",
      "\n"
     ]
    },
    {
     "name": "stderr",
     "output_type": "stream",
     "text": [
      "100%|██████████████████████████████████████████████████████████████████████████████████| 20/20 [00:00<00:00, 20.54it/s]\n",
      "100%|██████████████████████████████████████████████████████████████████████████████████| 20/20 [00:00<00:00, 20.55it/s]\n",
      "100%|██████████████████████████████████████████████████████████████████████████████████| 20/20 [00:00<00:00, 20.61it/s]\n",
      "100%|██████████████████████████████████████████████████████████████████████████████████| 20/20 [00:00<00:00, 20.43it/s]\n",
      "  0%|                                                                                           | 0/20 [00:00<?, ?it/s]"
     ]
    },
    {
     "name": "stdout",
     "output_type": "stream",
     "text": [
      "\n",
      " running ZX: 640 planes of size (50, 640) \n",
      "\n",
      "\n"
     ]
    },
    {
     "name": "stderr",
     "output_type": "stream",
     "text": [
      "100%|██████████████████████████████████████████████████████████████████████████████████| 20/20 [00:00<00:00, 20.08it/s]\n",
      "100%|██████████████████████████████████████████████████████████████████████████████████| 20/20 [00:00<00:00, 20.61it/s]\n",
      "100%|██████████████████████████████████████████████████████████████████████████████████| 20/20 [00:00<00:00, 20.47it/s]\n",
      "100%|██████████████████████████████████████████████████████████████████████████████████| 20/20 [00:00<00:00, 20.43it/s]\n"
     ]
    },
    {
     "name": "stdout",
     "output_type": "stream",
     "text": [
      "flows computed 12.75s\n",
      "dynamics computed 17.84s\n",
      "masks computed 24.88s\n",
      "estimated masks for 1 image(s) in 51.67 sec\n",
      ">>>> TOTAL TIME 51.67 sec\n",
      "** TORCH CUDA version installed and working. **\n",
      ">>>> using GPU\n",
      "processing 1 image(s)\n",
      "multi-stack tiff read in as having 50 planes 3 channels\n"
     ]
    },
    {
     "name": "stderr",
     "output_type": "stream",
     "text": [
      "\r",
      "  0%|                                                                                            | 0/2 [00:00<?, ?it/s]"
     ]
    },
    {
     "name": "stdout",
     "output_type": "stream",
     "text": [
      "\n",
      " running YX: 50 planes of size (640, 640) \n",
      "\n",
      "\n"
     ]
    },
    {
     "name": "stderr",
     "output_type": "stream",
     "text": [
      "100%|████████████████████████████████████████████████████████████████████████████████████| 2/2 [00:00<00:00,  5.11it/s]\n",
      "100%|████████████████████████████████████████████████████████████████████████████████████| 2/2 [00:00<00:00,  8.26it/s]\n",
      "100%|████████████████████████████████████████████████████████████████████████████████████| 2/2 [00:00<00:00,  8.26it/s]\n",
      "100%|████████████████████████████████████████████████████████████████████████████████████| 2/2 [00:00<00:00,  8.23it/s]\n",
      "  0%|                                                                                           | 0/20 [00:00<?, ?it/s]"
     ]
    },
    {
     "name": "stdout",
     "output_type": "stream",
     "text": [
      "\n",
      " running ZY: 640 planes of size (50, 640) \n",
      "\n",
      "\n"
     ]
    },
    {
     "name": "stderr",
     "output_type": "stream",
     "text": [
      "100%|██████████████████████████████████████████████████████████████████████████████████| 20/20 [00:00<00:00, 20.30it/s]\n",
      "100%|██████████████████████████████████████████████████████████████████████████████████| 20/20 [00:00<00:00, 20.71it/s]\n",
      "100%|██████████████████████████████████████████████████████████████████████████████████| 20/20 [00:00<00:00, 20.61it/s]\n",
      "100%|██████████████████████████████████████████████████████████████████████████████████| 20/20 [00:00<00:00, 20.60it/s]\n",
      "  0%|                                                                                           | 0/20 [00:00<?, ?it/s]"
     ]
    },
    {
     "name": "stdout",
     "output_type": "stream",
     "text": [
      "\n",
      " running ZX: 640 planes of size (50, 640) \n",
      "\n",
      "\n"
     ]
    },
    {
     "name": "stderr",
     "output_type": "stream",
     "text": [
      "100%|██████████████████████████████████████████████████████████████████████████████████| 20/20 [00:00<00:00, 20.58it/s]\n",
      "100%|██████████████████████████████████████████████████████████████████████████████████| 20/20 [00:00<00:00, 20.61it/s]\n",
      "100%|██████████████████████████████████████████████████████████████████████████████████| 20/20 [00:00<00:00, 20.66it/s]\n",
      "100%|██████████████████████████████████████████████████████████████████████████████████| 20/20 [00:00<00:00, 20.62it/s]\n"
     ]
    },
    {
     "name": "stdout",
     "output_type": "stream",
     "text": [
      "flows computed 12.60s\n",
      "dynamics computed 18.06s\n",
      "masks computed 25.09s\n",
      "estimated masks for 1 image(s) in 51.47 sec\n",
      ">>>> TOTAL TIME 51.47 sec\n"
     ]
    }
   ],
   "source": [
    "small_masks = []\n",
    "for _crop in np.ravel(crops):\n",
    "    _msk = segmentation_3d_cellpose(dapi_im[_crop.to_slices()], \n",
    "                                    fov.shared_parameters['distance_zxy'])\n",
    "    small_masks.append(_msk)"
   ]
  },
  {
   "cell_type": "code",
   "execution_count": 588,
   "id": "92679dd4",
   "metadata": {},
   "outputs": [],
   "source": [
    "torch.cuda.empty_cache()"
   ]
  },
  {
   "cell_type": "code",
   "execution_count": 593,
   "id": "059da2f6",
   "metadata": {},
   "outputs": [],
   "source": [
    "?cellpose.models.Cellpose.eval"
   ]
  },
  {
   "cell_type": "code",
   "execution_count": 594,
   "id": "082afac1",
   "metadata": {},
   "outputs": [
    {
     "ename": "NameError",
     "evalue": "name 'rescale' is not defined",
     "output_type": "error",
     "traceback": [
      "\u001b[1;31m---------------------------------------------------------------------------\u001b[0m",
      "\u001b[1;31mNameError\u001b[0m                                 Traceback (most recent call last)",
      "\u001b[1;32m<ipython-input-594-d8b91b132cf6>\u001b[0m in \u001b[0;36m<module>\u001b[1;34m()\u001b[0m\n\u001b[1;32m----> 1\u001b[1;33m \u001b[0mrescale\u001b[0m\u001b[1;33m\u001b[0m\u001b[1;33m\u001b[0m\u001b[0m\n\u001b[0m",
      "\u001b[1;31mNameError\u001b[0m: name 'rescale' is not defined"
     ]
    }
   ],
   "source": [
    "rescale"
   ]
  },
  {
   "cell_type": "code",
   "execution_count": 595,
   "id": "4b9c27aa",
   "metadata": {},
   "outputs": [
    {
     "name": "stdout",
     "output_type": "stream",
     "text": [
      "** TORCH CUDA version installed and working. **\n",
      ">>>> using GPU\n",
      "processing 1 image(s)\n",
      "multi-stack tiff read in as having 50 planes 3 channels\n"
     ]
    },
    {
     "name": "stderr",
     "output_type": "stream",
     "text": [
      "\r",
      "  0%|                                                                                           | 0/13 [00:00<?, ?it/s]"
     ]
    },
    {
     "name": "stdout",
     "output_type": "stream",
     "text": [
      "\n",
      " running YX: 50 planes of size (2048, 2048) \n",
      "\n",
      "\n"
     ]
    },
    {
     "name": "stderr",
     "output_type": "stream",
     "text": [
      "  0%|                                                                                           | 0/13 [00:00<?, ?it/s]\n"
     ]
    },
    {
     "ename": "RuntimeError",
     "evalue": "CUDA out of memory. Tried to allocate 222.00 MiB (GPU 0; 8.00 GiB total capacity; 5.94 GiB already allocated; 0 bytes free; 6.29 GiB reserved in total by PyTorch)",
     "output_type": "error",
     "traceback": [
      "\u001b[1;31m---------------------------------------------------------------------------\u001b[0m",
      "\u001b[1;31mRuntimeError\u001b[0m                              Traceback (most recent call last)",
      "\u001b[1;32m<ipython-input-595-a80e26552aad>\u001b[0m in \u001b[0;36m<module>\u001b[1;34m()\u001b[0m\n\u001b[0;32m      4\u001b[0m                                cellpose_kwargs={'diameter': 50, \n\u001b[0;32m      5\u001b[0m                                                 \u001b[1;34m'rescale'\u001b[0m\u001b[1;33m:\u001b[0m\u001b[1;36m3\u001b[0m\u001b[1;33m,\u001b[0m\u001b[1;33m\u001b[0m\u001b[1;33m\u001b[0m\u001b[0m\n\u001b[1;32m----> 6\u001b[1;33m                                                 'resample':False,}\n\u001b[0m\u001b[0;32m      7\u001b[0m                                )\n",
      "\u001b[1;32m<ipython-input-583-857395a86e79>\u001b[0m in \u001b[0;36msegmentation_3d_cellpose\u001b[1;34m(raw_im, pixel_sizes, apply_gaussian, gaussian_size, apply_highpass_gaussian, highpass_gaussian_kwargs, cellpose_gpu, cellpose_kwargs, make_plot)\u001b[0m\n\u001b[0;32m     40\u001b[0m                                              \u001b[0manisotropy\u001b[0m\u001b[1;33m=\u001b[0m\u001b[0mpixel_sizes\u001b[0m\u001b[1;33m[\u001b[0m\u001b[1;36m0\u001b[0m\u001b[1;33m]\u001b[0m\u001b[1;33m/\u001b[0m\u001b[0mpixel_sizes\u001b[0m\u001b[1;33m[\u001b[0m\u001b[1;36m1\u001b[0m\u001b[1;33m]\u001b[0m\u001b[1;33m,\u001b[0m\u001b[1;33m\u001b[0m\u001b[1;33m\u001b[0m\u001b[0m\n\u001b[0;32m     41\u001b[0m                                              \u001b[0mdo_3D\u001b[0m\u001b[1;33m=\u001b[0m\u001b[1;32mTrue\u001b[0m\u001b[1;33m,\u001b[0m\u001b[1;33m\u001b[0m\u001b[1;33m\u001b[0m\u001b[0m\n\u001b[1;32m---> 42\u001b[1;33m                                              \u001b[1;33m**\u001b[0m\u001b[0mdefault_cellpose_kwargs\u001b[0m\u001b[1;33m,\u001b[0m\u001b[1;33m\u001b[0m\u001b[1;33m\u001b[0m\u001b[0m\n\u001b[0m\u001b[0;32m     43\u001b[0m                                              )\n\u001b[0;32m     44\u001b[0m     \u001b[1;31m# visualize\u001b[0m\u001b[1;33m\u001b[0m\u001b[1;33m\u001b[0m\u001b[1;33m\u001b[0m\u001b[0m\n",
      "\u001b[1;32mE:\\Users\\puzheng\\anaconda3\\lib\\site-packages\\cellpose\\models.py\u001b[0m in \u001b[0;36meval\u001b[1;34m(self, x, batch_size, channels, invert, normalize, diameter, do_3D, anisotropy, net_avg, augment, tile, tile_overlap, resample, interp, flow_threshold, cellprob_threshold, min_size, stitch_threshold, rescale, progress)\u001b[0m\n\u001b[0;32m    280\u001b[0m                                             \u001b[0mcellprob_threshold\u001b[0m\u001b[1;33m=\u001b[0m\u001b[0mcellprob_threshold\u001b[0m\u001b[1;33m,\u001b[0m\u001b[1;33m\u001b[0m\u001b[1;33m\u001b[0m\u001b[0m\n\u001b[0;32m    281\u001b[0m                                             \u001b[0mmin_size\u001b[0m\u001b[1;33m=\u001b[0m\u001b[0mmin_size\u001b[0m\u001b[1;33m,\u001b[0m\u001b[1;33m\u001b[0m\u001b[1;33m\u001b[0m\u001b[0m\n\u001b[1;32m--> 282\u001b[1;33m                                             stitch_threshold=stitch_threshold)\n\u001b[0m\u001b[0;32m    283\u001b[0m         \u001b[0mprint\u001b[0m\u001b[1;33m(\u001b[0m\u001b[1;34m'estimated masks for %d image(s) in %0.2f sec'\u001b[0m\u001b[1;33m%\u001b[0m\u001b[1;33m(\u001b[0m\u001b[0mnimg\u001b[0m\u001b[1;33m,\u001b[0m \u001b[0mtime\u001b[0m\u001b[1;33m.\u001b[0m\u001b[0mtime\u001b[0m\u001b[1;33m(\u001b[0m\u001b[1;33m)\u001b[0m\u001b[1;33m-\u001b[0m\u001b[0mtic\u001b[0m\u001b[1;33m)\u001b[0m\u001b[1;33m)\u001b[0m\u001b[1;33m\u001b[0m\u001b[1;33m\u001b[0m\u001b[0m\n\u001b[0;32m    284\u001b[0m         \u001b[0mprint\u001b[0m\u001b[1;33m(\u001b[0m\u001b[1;34m'>>>> TOTAL TIME %0.2f sec'\u001b[0m\u001b[1;33m%\u001b[0m\u001b[1;33m(\u001b[0m\u001b[0mtime\u001b[0m\u001b[1;33m.\u001b[0m\u001b[0mtime\u001b[0m\u001b[1;33m(\u001b[0m\u001b[1;33m)\u001b[0m\u001b[1;33m-\u001b[0m\u001b[0mtic0\u001b[0m\u001b[1;33m)\u001b[0m\u001b[1;33m)\u001b[0m\u001b[1;33m\u001b[0m\u001b[1;33m\u001b[0m\u001b[0m\n",
      "\u001b[1;32mE:\\Users\\puzheng\\anaconda3\\lib\\site-packages\\cellpose\\models.py\u001b[0m in \u001b[0;36meval\u001b[1;34m(self, imgs, batch_size, channels, normalize, invert, rescale, diameter, do_3D, anisotropy, net_avg, augment, tile, tile_overlap, resample, interp, flow_threshold, cellprob_threshold, compute_masks, min_size, stitch_threshold, progress)\u001b[0m\n\u001b[0;32m    529\u001b[0m                 yf, style = self._run_3D(x[i], rsz=rescale[i], anisotropy=anisotropy, \n\u001b[0;32m    530\u001b[0m                                          \u001b[0mnet_avg\u001b[0m\u001b[1;33m=\u001b[0m\u001b[0mnet_avg\u001b[0m\u001b[1;33m,\u001b[0m \u001b[0maugment\u001b[0m\u001b[1;33m=\u001b[0m\u001b[0maugment\u001b[0m\u001b[1;33m,\u001b[0m \u001b[0mtile\u001b[0m\u001b[1;33m=\u001b[0m\u001b[0mtile\u001b[0m\u001b[1;33m,\u001b[0m\u001b[1;33m\u001b[0m\u001b[1;33m\u001b[0m\u001b[0m\n\u001b[1;32m--> 531\u001b[1;33m                                          tile_overlap=tile_overlap, progress=progress)\n\u001b[0m\u001b[0;32m    532\u001b[0m                 \u001b[0mcellprob\u001b[0m \u001b[1;33m=\u001b[0m \u001b[0myf\u001b[0m\u001b[1;33m[\u001b[0m\u001b[1;36m0\u001b[0m\u001b[1;33m]\u001b[0m\u001b[1;33m[\u001b[0m\u001b[1;33m-\u001b[0m\u001b[1;36m1\u001b[0m\u001b[1;33m]\u001b[0m \u001b[1;33m+\u001b[0m \u001b[0myf\u001b[0m\u001b[1;33m[\u001b[0m\u001b[1;36m1\u001b[0m\u001b[1;33m]\u001b[0m\u001b[1;33m[\u001b[0m\u001b[1;33m-\u001b[0m\u001b[1;36m1\u001b[0m\u001b[1;33m]\u001b[0m \u001b[1;33m+\u001b[0m \u001b[0myf\u001b[0m\u001b[1;33m[\u001b[0m\u001b[1;36m2\u001b[0m\u001b[1;33m]\u001b[0m\u001b[1;33m[\u001b[0m\u001b[1;33m-\u001b[0m\u001b[1;36m1\u001b[0m\u001b[1;33m]\u001b[0m\u001b[1;33m\u001b[0m\u001b[1;33m\u001b[0m\u001b[0m\n\u001b[0;32m    533\u001b[0m                 dP = np.stack((yf[1][0] + yf[2][0], yf[0][0] + yf[2][1], yf[0][1] + yf[1][1]), \n",
      "\u001b[1;32mE:\\Users\\puzheng\\anaconda3\\lib\\site-packages\\cellpose\\core.py\u001b[0m in \u001b[0;36m_run_3D\u001b[1;34m(self, imgs, rsz, anisotropy, net_avg, augment, tile, tile_overlap, bsize, progress)\u001b[0m\n\u001b[0;32m    684\u001b[0m             \u001b[0mprint\u001b[0m\u001b[1;33m(\u001b[0m\u001b[1;34m'\\n running %s: %d planes of size (%d, %d) \\n\\n'\u001b[0m\u001b[1;33m%\u001b[0m\u001b[1;33m(\u001b[0m\u001b[0msstr\u001b[0m\u001b[1;33m[\u001b[0m\u001b[0mp\u001b[0m\u001b[1;33m]\u001b[0m\u001b[1;33m,\u001b[0m \u001b[0mshape\u001b[0m\u001b[1;33m[\u001b[0m\u001b[1;36m0\u001b[0m\u001b[1;33m]\u001b[0m\u001b[1;33m,\u001b[0m \u001b[0mshape\u001b[0m\u001b[1;33m[\u001b[0m\u001b[1;36m1\u001b[0m\u001b[1;33m]\u001b[0m\u001b[1;33m,\u001b[0m \u001b[0mshape\u001b[0m\u001b[1;33m[\u001b[0m\u001b[1;36m2\u001b[0m\u001b[1;33m]\u001b[0m\u001b[1;33m)\u001b[0m\u001b[1;33m)\u001b[0m\u001b[1;33m\u001b[0m\u001b[1;33m\u001b[0m\u001b[0m\n\u001b[0;32m    685\u001b[0m             y, style = self._run_nets(xsl, net_avg=net_avg, augment=augment, tile=tile, \n\u001b[1;32m--> 686\u001b[1;33m                                       bsize=bsize, tile_overlap=tile_overlap)\n\u001b[0m\u001b[0;32m    687\u001b[0m             \u001b[0my\u001b[0m \u001b[1;33m=\u001b[0m \u001b[0mtransforms\u001b[0m\u001b[1;33m.\u001b[0m\u001b[0mresize_image\u001b[0m\u001b[1;33m(\u001b[0m\u001b[0my\u001b[0m\u001b[1;33m,\u001b[0m \u001b[0mshape\u001b[0m\u001b[1;33m[\u001b[0m\u001b[1;36m1\u001b[0m\u001b[1;33m]\u001b[0m\u001b[1;33m,\u001b[0m \u001b[0mshape\u001b[0m\u001b[1;33m[\u001b[0m\u001b[1;36m2\u001b[0m\u001b[1;33m]\u001b[0m\u001b[1;33m)\u001b[0m\u001b[1;33m\u001b[0m\u001b[1;33m\u001b[0m\u001b[0m\n\u001b[0;32m    688\u001b[0m             \u001b[0myf\u001b[0m\u001b[1;33m[\u001b[0m\u001b[0mp\u001b[0m\u001b[1;33m]\u001b[0m \u001b[1;33m=\u001b[0m \u001b[0my\u001b[0m\u001b[1;33m.\u001b[0m\u001b[0mtranspose\u001b[0m\u001b[1;33m(\u001b[0m\u001b[0mipm\u001b[0m\u001b[1;33m[\u001b[0m\u001b[0mp\u001b[0m\u001b[1;33m]\u001b[0m\u001b[1;33m)\u001b[0m\u001b[1;33m\u001b[0m\u001b[1;33m\u001b[0m\u001b[0m\n",
      "\u001b[1;32mE:\\Users\\puzheng\\anaconda3\\lib\\site-packages\\cellpose\\core.py\u001b[0m in \u001b[0;36m_run_nets\u001b[1;34m(self, img, net_avg, augment, tile, tile_overlap, bsize, progress)\u001b[0m\n\u001b[0;32m    434\u001b[0m                     \u001b[0mself\u001b[0m\u001b[1;33m.\u001b[0m\u001b[0mnet\u001b[0m\u001b[1;33m.\u001b[0m\u001b[0mcollect_params\u001b[0m\u001b[1;33m(\u001b[0m\u001b[1;33m)\u001b[0m\u001b[1;33m.\u001b[0m\u001b[0mgrad_req\u001b[0m \u001b[1;33m=\u001b[0m \u001b[1;34m'null'\u001b[0m\u001b[1;33m\u001b[0m\u001b[1;33m\u001b[0m\u001b[0m\n\u001b[0;32m    435\u001b[0m                 y0, style = self._run_net(img, augment=augment, tile=tile, \n\u001b[1;32m--> 436\u001b[1;33m                                           tile_overlap=tile_overlap, bsize=bsize)\n\u001b[0m\u001b[0;32m    437\u001b[0m \u001b[1;33m\u001b[0m\u001b[0m\n\u001b[0;32m    438\u001b[0m                 \u001b[1;32mif\u001b[0m \u001b[0mj\u001b[0m\u001b[1;33m==\u001b[0m\u001b[1;36m0\u001b[0m\u001b[1;33m:\u001b[0m\u001b[1;33m\u001b[0m\u001b[1;33m\u001b[0m\u001b[0m\n",
      "\u001b[1;32mE:\\Users\\puzheng\\anaconda3\\lib\\site-packages\\cellpose\\core.py\u001b[0m in \u001b[0;36m_run_net\u001b[1;34m(self, imgs, augment, tile, tile_overlap, bsize)\u001b[0m\n\u001b[0;32m    501\u001b[0m         \u001b[1;31m# run network\u001b[0m\u001b[1;33m\u001b[0m\u001b[1;33m\u001b[0m\u001b[1;33m\u001b[0m\u001b[0m\n\u001b[0;32m    502\u001b[0m         \u001b[1;32mif\u001b[0m \u001b[0mtile\u001b[0m \u001b[1;32mor\u001b[0m \u001b[0maugment\u001b[0m \u001b[1;32mor\u001b[0m \u001b[0mimgs\u001b[0m\u001b[1;33m.\u001b[0m\u001b[0mndim\u001b[0m\u001b[1;33m==\u001b[0m\u001b[1;36m4\u001b[0m\u001b[1;33m:\u001b[0m\u001b[1;33m\u001b[0m\u001b[1;33m\u001b[0m\u001b[0m\n\u001b[1;32m--> 503\u001b[1;33m             \u001b[0my\u001b[0m\u001b[1;33m,\u001b[0m\u001b[0mstyle\u001b[0m \u001b[1;33m=\u001b[0m \u001b[0mself\u001b[0m\u001b[1;33m.\u001b[0m\u001b[0m_run_tiled\u001b[0m\u001b[1;33m(\u001b[0m\u001b[0mimgs\u001b[0m\u001b[1;33m,\u001b[0m \u001b[0maugment\u001b[0m\u001b[1;33m=\u001b[0m\u001b[0maugment\u001b[0m\u001b[1;33m,\u001b[0m \u001b[0mbsize\u001b[0m\u001b[1;33m=\u001b[0m\u001b[0mbsize\u001b[0m\u001b[1;33m,\u001b[0m \u001b[0mtile_overlap\u001b[0m\u001b[1;33m=\u001b[0m\u001b[0mtile_overlap\u001b[0m\u001b[1;33m)\u001b[0m\u001b[1;33m\u001b[0m\u001b[1;33m\u001b[0m\u001b[0m\n\u001b[0m\u001b[0;32m    504\u001b[0m         \u001b[1;32melse\u001b[0m\u001b[1;33m:\u001b[0m\u001b[1;33m\u001b[0m\u001b[1;33m\u001b[0m\u001b[0m\n\u001b[0;32m    505\u001b[0m             \u001b[0mimgs\u001b[0m \u001b[1;33m=\u001b[0m \u001b[0mnp\u001b[0m\u001b[1;33m.\u001b[0m\u001b[0mexpand_dims\u001b[0m\u001b[1;33m(\u001b[0m\u001b[0mimgs\u001b[0m\u001b[1;33m,\u001b[0m \u001b[0maxis\u001b[0m\u001b[1;33m=\u001b[0m\u001b[1;36m0\u001b[0m\u001b[1;33m)\u001b[0m\u001b[1;33m\u001b[0m\u001b[1;33m\u001b[0m\u001b[0m\n",
      "\u001b[1;32mE:\\Users\\puzheng\\anaconda3\\lib\\site-packages\\cellpose\\core.py\u001b[0m in \u001b[0;36m_run_tiled\u001b[1;34m(self, imgi, augment, bsize, tile_overlap)\u001b[0m\n\u001b[0;32m    577\u001b[0m                                                                         augment=augment, tile_overlap=tile_overlap)\n\u001b[0;32m    578\u001b[0m                         \u001b[0mIMGa\u001b[0m\u001b[1;33m[\u001b[0m\u001b[0mi\u001b[0m\u001b[1;33m*\u001b[0m\u001b[0mntiles\u001b[0m\u001b[1;33m:\u001b[0m\u001b[1;33m(\u001b[0m\u001b[0mi\u001b[0m\u001b[1;33m+\u001b[0m\u001b[1;36m1\u001b[0m\u001b[1;33m)\u001b[0m\u001b[1;33m*\u001b[0m\u001b[0mntiles\u001b[0m\u001b[1;33m]\u001b[0m \u001b[1;33m=\u001b[0m \u001b[0mnp\u001b[0m\u001b[1;33m.\u001b[0m\u001b[0mreshape\u001b[0m\u001b[1;33m(\u001b[0m\u001b[0mIMG\u001b[0m\u001b[1;33m,\u001b[0m \u001b[1;33m(\u001b[0m\u001b[0mny\u001b[0m\u001b[1;33m*\u001b[0m\u001b[0mnx\u001b[0m\u001b[1;33m,\u001b[0m \u001b[0mnchan\u001b[0m\u001b[1;33m,\u001b[0m \u001b[0mly\u001b[0m\u001b[1;33m,\u001b[0m \u001b[0mlx\u001b[0m\u001b[1;33m)\u001b[0m\u001b[1;33m)\u001b[0m\u001b[1;33m\u001b[0m\u001b[1;33m\u001b[0m\u001b[0m\n\u001b[1;32m--> 579\u001b[1;33m                     \u001b[0mya\u001b[0m\u001b[1;33m,\u001b[0m \u001b[0mstylea\u001b[0m \u001b[1;33m=\u001b[0m \u001b[0mself\u001b[0m\u001b[1;33m.\u001b[0m\u001b[0mnetwork\u001b[0m\u001b[1;33m(\u001b[0m\u001b[0mIMGa\u001b[0m\u001b[1;33m)\u001b[0m\u001b[1;33m\u001b[0m\u001b[1;33m\u001b[0m\u001b[0m\n\u001b[0m\u001b[0;32m    580\u001b[0m                     \u001b[1;32mfor\u001b[0m \u001b[0mi\u001b[0m \u001b[1;32min\u001b[0m \u001b[0mrange\u001b[0m\u001b[1;33m(\u001b[0m\u001b[0mmin\u001b[0m\u001b[1;33m(\u001b[0m\u001b[0mLz\u001b[0m\u001b[1;33m-\u001b[0m\u001b[0mk\u001b[0m\u001b[1;33m*\u001b[0m\u001b[0mnimgs\u001b[0m\u001b[1;33m,\u001b[0m \u001b[0mnimgs\u001b[0m\u001b[1;33m)\u001b[0m\u001b[1;33m)\u001b[0m\u001b[1;33m:\u001b[0m\u001b[1;33m\u001b[0m\u001b[1;33m\u001b[0m\u001b[0m\n\u001b[0;32m    581\u001b[0m                         \u001b[0my\u001b[0m \u001b[1;33m=\u001b[0m \u001b[0mya\u001b[0m\u001b[1;33m[\u001b[0m\u001b[0mi\u001b[0m\u001b[1;33m*\u001b[0m\u001b[0mntiles\u001b[0m\u001b[1;33m:\u001b[0m\u001b[1;33m(\u001b[0m\u001b[0mi\u001b[0m\u001b[1;33m+\u001b[0m\u001b[1;36m1\u001b[0m\u001b[1;33m)\u001b[0m\u001b[1;33m*\u001b[0m\u001b[0mntiles\u001b[0m\u001b[1;33m]\u001b[0m\u001b[1;33m\u001b[0m\u001b[1;33m\u001b[0m\u001b[0m\n",
      "\u001b[1;32mE:\\Users\\puzheng\\anaconda3\\lib\\site-packages\\cellpose\\core.py\u001b[0m in \u001b[0;36mnetwork\u001b[1;34m(self, x)\u001b[0m\n\u001b[0;32m    383\u001b[0m             \u001b[1;32mif\u001b[0m \u001b[0mself\u001b[0m\u001b[1;33m.\u001b[0m\u001b[0mmkldnn\u001b[0m\u001b[1;33m:\u001b[0m\u001b[1;33m\u001b[0m\u001b[1;33m\u001b[0m\u001b[0m\n\u001b[0;32m    384\u001b[0m                 \u001b[0mself\u001b[0m\u001b[1;33m.\u001b[0m\u001b[0mnet\u001b[0m \u001b[1;33m=\u001b[0m \u001b[0mmkldnn_utils\u001b[0m\u001b[1;33m.\u001b[0m\u001b[0mto_mkldnn\u001b[0m\u001b[1;33m(\u001b[0m\u001b[0mself\u001b[0m\u001b[1;33m.\u001b[0m\u001b[0mnet\u001b[0m\u001b[1;33m)\u001b[0m\u001b[1;33m\u001b[0m\u001b[1;33m\u001b[0m\u001b[0m\n\u001b[1;32m--> 385\u001b[1;33m         \u001b[0my\u001b[0m\u001b[1;33m,\u001b[0m \u001b[0mstyle\u001b[0m \u001b[1;33m=\u001b[0m \u001b[0mself\u001b[0m\u001b[1;33m.\u001b[0m\u001b[0mnet\u001b[0m\u001b[1;33m(\u001b[0m\u001b[0mX\u001b[0m\u001b[1;33m)\u001b[0m\u001b[1;33m\u001b[0m\u001b[1;33m\u001b[0m\u001b[0m\n\u001b[0m\u001b[0;32m    386\u001b[0m         \u001b[1;32mif\u001b[0m \u001b[0mself\u001b[0m\u001b[1;33m.\u001b[0m\u001b[0mmkldnn\u001b[0m\u001b[1;33m:\u001b[0m\u001b[1;33m\u001b[0m\u001b[1;33m\u001b[0m\u001b[0m\n\u001b[0;32m    387\u001b[0m             \u001b[0mself\u001b[0m\u001b[1;33m.\u001b[0m\u001b[0mnet\u001b[0m\u001b[1;33m.\u001b[0m\u001b[0mto\u001b[0m\u001b[1;33m(\u001b[0m\u001b[0mtorch_CPU\u001b[0m\u001b[1;33m)\u001b[0m\u001b[1;33m\u001b[0m\u001b[1;33m\u001b[0m\u001b[0m\n",
      "\u001b[1;32mE:\\Users\\puzheng\\anaconda3\\lib\\site-packages\\torch\\nn\\modules\\module.py\u001b[0m in \u001b[0;36m_call_impl\u001b[1;34m(self, *input, **kwargs)\u001b[0m\n\u001b[0;32m    887\u001b[0m             \u001b[0mresult\u001b[0m \u001b[1;33m=\u001b[0m \u001b[0mself\u001b[0m\u001b[1;33m.\u001b[0m\u001b[0m_slow_forward\u001b[0m\u001b[1;33m(\u001b[0m\u001b[1;33m*\u001b[0m\u001b[0minput\u001b[0m\u001b[1;33m,\u001b[0m \u001b[1;33m**\u001b[0m\u001b[0mkwargs\u001b[0m\u001b[1;33m)\u001b[0m\u001b[1;33m\u001b[0m\u001b[1;33m\u001b[0m\u001b[0m\n\u001b[0;32m    888\u001b[0m         \u001b[1;32melse\u001b[0m\u001b[1;33m:\u001b[0m\u001b[1;33m\u001b[0m\u001b[1;33m\u001b[0m\u001b[0m\n\u001b[1;32m--> 889\u001b[1;33m             \u001b[0mresult\u001b[0m \u001b[1;33m=\u001b[0m \u001b[0mself\u001b[0m\u001b[1;33m.\u001b[0m\u001b[0mforward\u001b[0m\u001b[1;33m(\u001b[0m\u001b[1;33m*\u001b[0m\u001b[0minput\u001b[0m\u001b[1;33m,\u001b[0m \u001b[1;33m**\u001b[0m\u001b[0mkwargs\u001b[0m\u001b[1;33m)\u001b[0m\u001b[1;33m\u001b[0m\u001b[1;33m\u001b[0m\u001b[0m\n\u001b[0m\u001b[0;32m    890\u001b[0m         for hook in itertools.chain(\n\u001b[0;32m    891\u001b[0m                 \u001b[0m_global_forward_hooks\u001b[0m\u001b[1;33m.\u001b[0m\u001b[0mvalues\u001b[0m\u001b[1;33m(\u001b[0m\u001b[1;33m)\u001b[0m\u001b[1;33m,\u001b[0m\u001b[1;33m\u001b[0m\u001b[1;33m\u001b[0m\u001b[0m\n",
      "\u001b[1;32mE:\\Users\\puzheng\\anaconda3\\lib\\site-packages\\cellpose\\resnet_torch.py\u001b[0m in \u001b[0;36mforward\u001b[1;34m(self, data)\u001b[0m\n\u001b[0;32m    189\u001b[0m         \u001b[1;32mif\u001b[0m \u001b[0mself\u001b[0m\u001b[1;33m.\u001b[0m\u001b[0mmkldnn\u001b[0m\u001b[1;33m:\u001b[0m\u001b[1;33m\u001b[0m\u001b[1;33m\u001b[0m\u001b[0m\n\u001b[0;32m    190\u001b[0m             \u001b[0mdata\u001b[0m \u001b[1;33m=\u001b[0m \u001b[0mdata\u001b[0m\u001b[1;33m.\u001b[0m\u001b[0mto_mkldnn\u001b[0m\u001b[1;33m(\u001b[0m\u001b[1;33m)\u001b[0m\u001b[1;33m\u001b[0m\u001b[1;33m\u001b[0m\u001b[0m\n\u001b[1;32m--> 191\u001b[1;33m         \u001b[0mT0\u001b[0m    \u001b[1;33m=\u001b[0m \u001b[0mself\u001b[0m\u001b[1;33m.\u001b[0m\u001b[0mdownsample\u001b[0m\u001b[1;33m(\u001b[0m\u001b[0mdata\u001b[0m\u001b[1;33m)\u001b[0m\u001b[1;33m\u001b[0m\u001b[1;33m\u001b[0m\u001b[0m\n\u001b[0m\u001b[0;32m    192\u001b[0m         \u001b[1;32mif\u001b[0m \u001b[0mself\u001b[0m\u001b[1;33m.\u001b[0m\u001b[0mmkldnn\u001b[0m\u001b[1;33m:\u001b[0m\u001b[1;33m\u001b[0m\u001b[1;33m\u001b[0m\u001b[0m\n\u001b[0;32m    193\u001b[0m             \u001b[0mstyle\u001b[0m \u001b[1;33m=\u001b[0m \u001b[0mself\u001b[0m\u001b[1;33m.\u001b[0m\u001b[0mmake_style\u001b[0m\u001b[1;33m(\u001b[0m\u001b[0mT0\u001b[0m\u001b[1;33m[\u001b[0m\u001b[1;33m-\u001b[0m\u001b[1;36m1\u001b[0m\u001b[1;33m]\u001b[0m\u001b[1;33m.\u001b[0m\u001b[0mto_dense\u001b[0m\u001b[1;33m(\u001b[0m\u001b[1;33m)\u001b[0m\u001b[1;33m)\u001b[0m\u001b[1;33m\u001b[0m\u001b[1;33m\u001b[0m\u001b[0m\n",
      "\u001b[1;32mE:\\Users\\puzheng\\anaconda3\\lib\\site-packages\\torch\\nn\\modules\\module.py\u001b[0m in \u001b[0;36m_call_impl\u001b[1;34m(self, *input, **kwargs)\u001b[0m\n\u001b[0;32m    887\u001b[0m             \u001b[0mresult\u001b[0m \u001b[1;33m=\u001b[0m \u001b[0mself\u001b[0m\u001b[1;33m.\u001b[0m\u001b[0m_slow_forward\u001b[0m\u001b[1;33m(\u001b[0m\u001b[1;33m*\u001b[0m\u001b[0minput\u001b[0m\u001b[1;33m,\u001b[0m \u001b[1;33m**\u001b[0m\u001b[0mkwargs\u001b[0m\u001b[1;33m)\u001b[0m\u001b[1;33m\u001b[0m\u001b[1;33m\u001b[0m\u001b[0m\n\u001b[0;32m    888\u001b[0m         \u001b[1;32melse\u001b[0m\u001b[1;33m:\u001b[0m\u001b[1;33m\u001b[0m\u001b[1;33m\u001b[0m\u001b[0m\n\u001b[1;32m--> 889\u001b[1;33m             \u001b[0mresult\u001b[0m \u001b[1;33m=\u001b[0m \u001b[0mself\u001b[0m\u001b[1;33m.\u001b[0m\u001b[0mforward\u001b[0m\u001b[1;33m(\u001b[0m\u001b[1;33m*\u001b[0m\u001b[0minput\u001b[0m\u001b[1;33m,\u001b[0m \u001b[1;33m**\u001b[0m\u001b[0mkwargs\u001b[0m\u001b[1;33m)\u001b[0m\u001b[1;33m\u001b[0m\u001b[1;33m\u001b[0m\u001b[0m\n\u001b[0m\u001b[0;32m    890\u001b[0m         for hook in itertools.chain(\n\u001b[0;32m    891\u001b[0m                 \u001b[0m_global_forward_hooks\u001b[0m\u001b[1;33m.\u001b[0m\u001b[0mvalues\u001b[0m\u001b[1;33m(\u001b[0m\u001b[1;33m)\u001b[0m\u001b[1;33m,\u001b[0m\u001b[1;33m\u001b[0m\u001b[1;33m\u001b[0m\u001b[0m\n",
      "\u001b[1;32mE:\\Users\\puzheng\\anaconda3\\lib\\site-packages\\cellpose\\resnet_torch.py\u001b[0m in \u001b[0;36mforward\u001b[1;34m(self, x)\u001b[0m\n\u001b[0;32m     81\u001b[0m             \u001b[1;32melse\u001b[0m\u001b[1;33m:\u001b[0m\u001b[1;33m\u001b[0m\u001b[1;33m\u001b[0m\u001b[0m\n\u001b[0;32m     82\u001b[0m                 \u001b[0my\u001b[0m \u001b[1;33m=\u001b[0m \u001b[0mx\u001b[0m\u001b[1;33m\u001b[0m\u001b[1;33m\u001b[0m\u001b[0m\n\u001b[1;32m---> 83\u001b[1;33m             \u001b[0mxd\u001b[0m\u001b[1;33m.\u001b[0m\u001b[0mappend\u001b[0m\u001b[1;33m(\u001b[0m\u001b[0mself\u001b[0m\u001b[1;33m.\u001b[0m\u001b[0mdown\u001b[0m\u001b[1;33m[\u001b[0m\u001b[0mn\u001b[0m\u001b[1;33m]\u001b[0m\u001b[1;33m(\u001b[0m\u001b[0my\u001b[0m\u001b[1;33m)\u001b[0m\u001b[1;33m)\u001b[0m\u001b[1;33m\u001b[0m\u001b[1;33m\u001b[0m\u001b[0m\n\u001b[0m\u001b[0;32m     84\u001b[0m         \u001b[1;32mreturn\u001b[0m \u001b[0mxd\u001b[0m\u001b[1;33m\u001b[0m\u001b[1;33m\u001b[0m\u001b[0m\n\u001b[0;32m     85\u001b[0m \u001b[1;33m\u001b[0m\u001b[0m\n",
      "\u001b[1;32mE:\\Users\\puzheng\\anaconda3\\lib\\site-packages\\torch\\nn\\modules\\module.py\u001b[0m in \u001b[0;36m_call_impl\u001b[1;34m(self, *input, **kwargs)\u001b[0m\n\u001b[0;32m    887\u001b[0m             \u001b[0mresult\u001b[0m \u001b[1;33m=\u001b[0m \u001b[0mself\u001b[0m\u001b[1;33m.\u001b[0m\u001b[0m_slow_forward\u001b[0m\u001b[1;33m(\u001b[0m\u001b[1;33m*\u001b[0m\u001b[0minput\u001b[0m\u001b[1;33m,\u001b[0m \u001b[1;33m**\u001b[0m\u001b[0mkwargs\u001b[0m\u001b[1;33m)\u001b[0m\u001b[1;33m\u001b[0m\u001b[1;33m\u001b[0m\u001b[0m\n\u001b[0;32m    888\u001b[0m         \u001b[1;32melse\u001b[0m\u001b[1;33m:\u001b[0m\u001b[1;33m\u001b[0m\u001b[1;33m\u001b[0m\u001b[0m\n\u001b[1;32m--> 889\u001b[1;33m             \u001b[0mresult\u001b[0m \u001b[1;33m=\u001b[0m \u001b[0mself\u001b[0m\u001b[1;33m.\u001b[0m\u001b[0mforward\u001b[0m\u001b[1;33m(\u001b[0m\u001b[1;33m*\u001b[0m\u001b[0minput\u001b[0m\u001b[1;33m,\u001b[0m \u001b[1;33m**\u001b[0m\u001b[0mkwargs\u001b[0m\u001b[1;33m)\u001b[0m\u001b[1;33m\u001b[0m\u001b[1;33m\u001b[0m\u001b[0m\n\u001b[0m\u001b[0;32m    890\u001b[0m         for hook in itertools.chain(\n\u001b[0;32m    891\u001b[0m                 \u001b[0m_global_forward_hooks\u001b[0m\u001b[1;33m.\u001b[0m\u001b[0mvalues\u001b[0m\u001b[1;33m(\u001b[0m\u001b[1;33m)\u001b[0m\u001b[1;33m,\u001b[0m\u001b[1;33m\u001b[0m\u001b[1;33m\u001b[0m\u001b[0m\n",
      "\u001b[1;32mE:\\Users\\puzheng\\anaconda3\\lib\\site-packages\\cellpose\\resnet_torch.py\u001b[0m in \u001b[0;36mforward\u001b[1;34m(self, x)\u001b[0m\n\u001b[0;32m     44\u001b[0m \u001b[1;33m\u001b[0m\u001b[0m\n\u001b[0;32m     45\u001b[0m     \u001b[1;32mdef\u001b[0m \u001b[0mforward\u001b[0m\u001b[1;33m(\u001b[0m\u001b[0mself\u001b[0m\u001b[1;33m,\u001b[0m \u001b[0mx\u001b[0m\u001b[1;33m)\u001b[0m\u001b[1;33m:\u001b[0m\u001b[1;33m\u001b[0m\u001b[1;33m\u001b[0m\u001b[0m\n\u001b[1;32m---> 46\u001b[1;33m         \u001b[0mx\u001b[0m \u001b[1;33m=\u001b[0m \u001b[0mself\u001b[0m\u001b[1;33m.\u001b[0m\u001b[0mproj\u001b[0m\u001b[1;33m(\u001b[0m\u001b[0mx\u001b[0m\u001b[1;33m)\u001b[0m \u001b[1;33m+\u001b[0m \u001b[0mself\u001b[0m\u001b[1;33m.\u001b[0m\u001b[0mconv\u001b[0m\u001b[1;33m[\u001b[0m\u001b[1;36m1\u001b[0m\u001b[1;33m]\u001b[0m\u001b[1;33m(\u001b[0m\u001b[0mself\u001b[0m\u001b[1;33m.\u001b[0m\u001b[0mconv\u001b[0m\u001b[1;33m[\u001b[0m\u001b[1;36m0\u001b[0m\u001b[1;33m]\u001b[0m\u001b[1;33m(\u001b[0m\u001b[0mx\u001b[0m\u001b[1;33m)\u001b[0m\u001b[1;33m)\u001b[0m\u001b[1;33m\u001b[0m\u001b[1;33m\u001b[0m\u001b[0m\n\u001b[0m\u001b[0;32m     47\u001b[0m         \u001b[0mx\u001b[0m \u001b[1;33m=\u001b[0m \u001b[0mx\u001b[0m \u001b[1;33m+\u001b[0m \u001b[0mself\u001b[0m\u001b[1;33m.\u001b[0m\u001b[0mconv\u001b[0m\u001b[1;33m[\u001b[0m\u001b[1;36m3\u001b[0m\u001b[1;33m]\u001b[0m\u001b[1;33m(\u001b[0m\u001b[0mself\u001b[0m\u001b[1;33m.\u001b[0m\u001b[0mconv\u001b[0m\u001b[1;33m[\u001b[0m\u001b[1;36m2\u001b[0m\u001b[1;33m]\u001b[0m\u001b[1;33m(\u001b[0m\u001b[0mx\u001b[0m\u001b[1;33m)\u001b[0m\u001b[1;33m)\u001b[0m\u001b[1;33m\u001b[0m\u001b[1;33m\u001b[0m\u001b[0m\n\u001b[0;32m     48\u001b[0m         \u001b[1;32mreturn\u001b[0m \u001b[0mx\u001b[0m\u001b[1;33m\u001b[0m\u001b[1;33m\u001b[0m\u001b[0m\n",
      "\u001b[1;32mE:\\Users\\puzheng\\anaconda3\\lib\\site-packages\\torch\\nn\\modules\\module.py\u001b[0m in \u001b[0;36m_call_impl\u001b[1;34m(self, *input, **kwargs)\u001b[0m\n\u001b[0;32m    887\u001b[0m             \u001b[0mresult\u001b[0m \u001b[1;33m=\u001b[0m \u001b[0mself\u001b[0m\u001b[1;33m.\u001b[0m\u001b[0m_slow_forward\u001b[0m\u001b[1;33m(\u001b[0m\u001b[1;33m*\u001b[0m\u001b[0minput\u001b[0m\u001b[1;33m,\u001b[0m \u001b[1;33m**\u001b[0m\u001b[0mkwargs\u001b[0m\u001b[1;33m)\u001b[0m\u001b[1;33m\u001b[0m\u001b[1;33m\u001b[0m\u001b[0m\n\u001b[0;32m    888\u001b[0m         \u001b[1;32melse\u001b[0m\u001b[1;33m:\u001b[0m\u001b[1;33m\u001b[0m\u001b[1;33m\u001b[0m\u001b[0m\n\u001b[1;32m--> 889\u001b[1;33m             \u001b[0mresult\u001b[0m \u001b[1;33m=\u001b[0m \u001b[0mself\u001b[0m\u001b[1;33m.\u001b[0m\u001b[0mforward\u001b[0m\u001b[1;33m(\u001b[0m\u001b[1;33m*\u001b[0m\u001b[0minput\u001b[0m\u001b[1;33m,\u001b[0m \u001b[1;33m**\u001b[0m\u001b[0mkwargs\u001b[0m\u001b[1;33m)\u001b[0m\u001b[1;33m\u001b[0m\u001b[1;33m\u001b[0m\u001b[0m\n\u001b[0m\u001b[0;32m    890\u001b[0m         for hook in itertools.chain(\n\u001b[0;32m    891\u001b[0m                 \u001b[0m_global_forward_hooks\u001b[0m\u001b[1;33m.\u001b[0m\u001b[0mvalues\u001b[0m\u001b[1;33m(\u001b[0m\u001b[1;33m)\u001b[0m\u001b[1;33m,\u001b[0m\u001b[1;33m\u001b[0m\u001b[1;33m\u001b[0m\u001b[0m\n",
      "\u001b[1;32mE:\\Users\\puzheng\\anaconda3\\lib\\site-packages\\torch\\nn\\modules\\container.py\u001b[0m in \u001b[0;36mforward\u001b[1;34m(self, input)\u001b[0m\n\u001b[0;32m    117\u001b[0m     \u001b[1;32mdef\u001b[0m \u001b[0mforward\u001b[0m\u001b[1;33m(\u001b[0m\u001b[0mself\u001b[0m\u001b[1;33m,\u001b[0m \u001b[0minput\u001b[0m\u001b[1;33m)\u001b[0m\u001b[1;33m:\u001b[0m\u001b[1;33m\u001b[0m\u001b[1;33m\u001b[0m\u001b[0m\n\u001b[0;32m    118\u001b[0m         \u001b[1;32mfor\u001b[0m \u001b[0mmodule\u001b[0m \u001b[1;32min\u001b[0m \u001b[0mself\u001b[0m\u001b[1;33m:\u001b[0m\u001b[1;33m\u001b[0m\u001b[1;33m\u001b[0m\u001b[0m\n\u001b[1;32m--> 119\u001b[1;33m             \u001b[0minput\u001b[0m \u001b[1;33m=\u001b[0m \u001b[0mmodule\u001b[0m\u001b[1;33m(\u001b[0m\u001b[0minput\u001b[0m\u001b[1;33m)\u001b[0m\u001b[1;33m\u001b[0m\u001b[1;33m\u001b[0m\u001b[0m\n\u001b[0m\u001b[0;32m    120\u001b[0m         \u001b[1;32mreturn\u001b[0m \u001b[0minput\u001b[0m\u001b[1;33m\u001b[0m\u001b[1;33m\u001b[0m\u001b[0m\n\u001b[0;32m    121\u001b[0m \u001b[1;33m\u001b[0m\u001b[0m\n",
      "\u001b[1;32mE:\\Users\\puzheng\\anaconda3\\lib\\site-packages\\torch\\nn\\modules\\module.py\u001b[0m in \u001b[0;36m_call_impl\u001b[1;34m(self, *input, **kwargs)\u001b[0m\n\u001b[0;32m    887\u001b[0m             \u001b[0mresult\u001b[0m \u001b[1;33m=\u001b[0m \u001b[0mself\u001b[0m\u001b[1;33m.\u001b[0m\u001b[0m_slow_forward\u001b[0m\u001b[1;33m(\u001b[0m\u001b[1;33m*\u001b[0m\u001b[0minput\u001b[0m\u001b[1;33m,\u001b[0m \u001b[1;33m**\u001b[0m\u001b[0mkwargs\u001b[0m\u001b[1;33m)\u001b[0m\u001b[1;33m\u001b[0m\u001b[1;33m\u001b[0m\u001b[0m\n\u001b[0;32m    888\u001b[0m         \u001b[1;32melse\u001b[0m\u001b[1;33m:\u001b[0m\u001b[1;33m\u001b[0m\u001b[1;33m\u001b[0m\u001b[0m\n\u001b[1;32m--> 889\u001b[1;33m             \u001b[0mresult\u001b[0m \u001b[1;33m=\u001b[0m \u001b[0mself\u001b[0m\u001b[1;33m.\u001b[0m\u001b[0mforward\u001b[0m\u001b[1;33m(\u001b[0m\u001b[1;33m*\u001b[0m\u001b[0minput\u001b[0m\u001b[1;33m,\u001b[0m \u001b[1;33m**\u001b[0m\u001b[0mkwargs\u001b[0m\u001b[1;33m)\u001b[0m\u001b[1;33m\u001b[0m\u001b[1;33m\u001b[0m\u001b[0m\n\u001b[0m\u001b[0;32m    890\u001b[0m         for hook in itertools.chain(\n\u001b[0;32m    891\u001b[0m                 \u001b[0m_global_forward_hooks\u001b[0m\u001b[1;33m.\u001b[0m\u001b[0mvalues\u001b[0m\u001b[1;33m(\u001b[0m\u001b[1;33m)\u001b[0m\u001b[1;33m,\u001b[0m\u001b[1;33m\u001b[0m\u001b[1;33m\u001b[0m\u001b[0m\n",
      "\u001b[1;32mE:\\Users\\puzheng\\anaconda3\\lib\\site-packages\\torch\\nn\\modules\\conv.py\u001b[0m in \u001b[0;36mforward\u001b[1;34m(self, input)\u001b[0m\n\u001b[0;32m    397\u001b[0m \u001b[1;33m\u001b[0m\u001b[0m\n\u001b[0;32m    398\u001b[0m     \u001b[1;32mdef\u001b[0m \u001b[0mforward\u001b[0m\u001b[1;33m(\u001b[0m\u001b[0mself\u001b[0m\u001b[1;33m,\u001b[0m \u001b[0minput\u001b[0m\u001b[1;33m:\u001b[0m \u001b[0mTensor\u001b[0m\u001b[1;33m)\u001b[0m \u001b[1;33m->\u001b[0m \u001b[0mTensor\u001b[0m\u001b[1;33m:\u001b[0m\u001b[1;33m\u001b[0m\u001b[1;33m\u001b[0m\u001b[0m\n\u001b[1;32m--> 399\u001b[1;33m         \u001b[1;32mreturn\u001b[0m \u001b[0mself\u001b[0m\u001b[1;33m.\u001b[0m\u001b[0m_conv_forward\u001b[0m\u001b[1;33m(\u001b[0m\u001b[0minput\u001b[0m\u001b[1;33m,\u001b[0m \u001b[0mself\u001b[0m\u001b[1;33m.\u001b[0m\u001b[0mweight\u001b[0m\u001b[1;33m,\u001b[0m \u001b[0mself\u001b[0m\u001b[1;33m.\u001b[0m\u001b[0mbias\u001b[0m\u001b[1;33m)\u001b[0m\u001b[1;33m\u001b[0m\u001b[1;33m\u001b[0m\u001b[0m\n\u001b[0m\u001b[0;32m    400\u001b[0m \u001b[1;33m\u001b[0m\u001b[0m\n\u001b[0;32m    401\u001b[0m \u001b[1;32mclass\u001b[0m \u001b[0mConv3d\u001b[0m\u001b[1;33m(\u001b[0m\u001b[0m_ConvNd\u001b[0m\u001b[1;33m)\u001b[0m\u001b[1;33m:\u001b[0m\u001b[1;33m\u001b[0m\u001b[1;33m\u001b[0m\u001b[0m\n",
      "\u001b[1;32mE:\\Users\\puzheng\\anaconda3\\lib\\site-packages\\torch\\nn\\modules\\conv.py\u001b[0m in \u001b[0;36m_conv_forward\u001b[1;34m(self, input, weight, bias)\u001b[0m\n\u001b[0;32m    394\u001b[0m                             _pair(0), self.dilation, self.groups)\n\u001b[0;32m    395\u001b[0m         return F.conv2d(input, weight, bias, self.stride,\n\u001b[1;32m--> 396\u001b[1;33m                         self.padding, self.dilation, self.groups)\n\u001b[0m\u001b[0;32m    397\u001b[0m \u001b[1;33m\u001b[0m\u001b[0m\n\u001b[0;32m    398\u001b[0m     \u001b[1;32mdef\u001b[0m \u001b[0mforward\u001b[0m\u001b[1;33m(\u001b[0m\u001b[0mself\u001b[0m\u001b[1;33m,\u001b[0m \u001b[0minput\u001b[0m\u001b[1;33m:\u001b[0m \u001b[0mTensor\u001b[0m\u001b[1;33m)\u001b[0m \u001b[1;33m->\u001b[0m \u001b[0mTensor\u001b[0m\u001b[1;33m:\u001b[0m\u001b[1;33m\u001b[0m\u001b[1;33m\u001b[0m\u001b[0m\n",
      "\u001b[1;31mRuntimeError\u001b[0m: CUDA out of memory. Tried to allocate 222.00 MiB (GPU 0; 8.00 GiB total capacity; 5.94 GiB already allocated; 0 bytes free; 6.29 GiB reserved in total by PyTorch)"
     ]
    }
   ],
   "source": [
    "_msk = segmentation_3d_cellpose(dapi_im,#[_crop.to_slices()], \n",
    "                                fov.shared_parameters['distance_zxy'],\n",
    "                                \n",
    "                               cellpose_kwargs={'diameter': 50, \n",
    "                                                'rescale':3, \n",
    "                                                'resample':False,}\n",
    "                               )"
   ]
  },
  {
   "cell_type": "code",
   "execution_count": 145,
   "id": "d5dadf68",
   "metadata": {},
   "outputs": [
    {
     "data": {
      "text/plain": [
       "[250, 108, 108]"
      ]
     },
     "execution_count": 145,
     "metadata": {},
     "output_type": "execute_result"
    }
   ],
   "source": [
    "fov.shared_parameters['distance_zxy']"
   ]
  },
  {
   "cell_type": "code",
   "execution_count": 184,
   "id": "b9dbac68",
   "metadata": {},
   "outputs": [
    {
     "data": {
      "text/plain": [
       "<module 'ImageAnalysis3.classes.preprocess' from 'E:\\\\Users\\\\puzheng\\\\Documents\\\\ImageAnalysis3\\\\classes\\\\preprocess.py'>"
      ]
     },
     "execution_count": 184,
     "metadata": {},
     "output_type": "execute_result"
    }
   ],
   "source": [
    "reload(ia.classes.preprocess)"
   ]
  },
  {
   "cell_type": "code",
   "execution_count": 597,
   "id": "6704495f",
   "metadata": {},
   "outputs": [],
   "source": [
    "torch.cuda.empty_cache()"
   ]
  },
  {
   "cell_type": "code",
   "execution_count": 571,
   "id": "0401ba1a",
   "metadata": {},
   "outputs": [],
   "source": [
    "def merge_splitted_masks(crops,\n",
    "                         masks,\n",
    "                         image_size, \n",
    "                         min_size=1500,\n",
    "                         merge_per_th=0.,\n",
    "                         ):\n",
    "    \n",
    "    merged_mask = np.zeros(image_size, dtype=np.uint16)\n",
    "    processed_crops = []\n",
    "    processed_masks = []\n",
    "    # loop through masks\n",
    "    \n",
    "    for _i, (_crop, _mask) in enumerate(zip(crops, masks)):\n",
    "        # update mask to prevent sharing labels\n",
    "        _updated_mask = _mask.copy() + np.max(merged_mask)\n",
    "        _updated_mask[_updated_mask==np.max(merged_mask)] = 0\n",
    "        # case 1: if entirely empty, update given area directly\n",
    "        _target_msk = merged_mask[_crop.to_slices()]\n",
    "        if (_target_msk==0).all():\n",
    "            merged_mask[_crop.to_slices()] = _updated_mask\n",
    "        # case 2: find overlapping area\n",
    "        else:\n",
    "            _overlap_crops = [_crop.overlap(_c2) \n",
    "                              for _c2 in processed_crops \n",
    "                              if _crop.overlap(_c2) is not None]\n",
    "            # generate overlap masks \n",
    "            _overlap_masks = [merge_overlapping_mask(_updated_mask, _crop,\n",
    "                                                    _m2, _c2, min_size, merge_per_th)\n",
    "                              for _c2, _m2 in zip(processed_crops, processed_masks) \n",
    "                              if _crop.overlap(_c2) is not None]\n",
    "            # update all first\n",
    "            merged_mask[_crop.to_slices()] = _updated_mask\n",
    "            # re-update overlap masks\\\\\n",
    "            print(len(_overlap_crops), len(_overlap_masks))\n",
    "            for _oc, _om in zip(_overlap_crops, _overlap_masks):\n",
    "                merged_mask[_oc.to_slices()] = _om\n",
    "                \n",
    "        # append this processed crop\n",
    "        processed_crops.append(_crop)\n",
    "        processed_masks.append(_updated_mask)\n",
    "    \n",
    "    \n",
    "    return merged_mask"
   ]
  },
  {
   "cell_type": "code",
   "execution_count": 572,
   "id": "454942c9",
   "metadata": {
    "scrolled": true
   },
   "outputs": [
    {
     "name": "stderr",
     "output_type": "stream",
     "text": [
      "E:\\Users\\puzheng\\anaconda3\\lib\\site-packages\\ipykernel_launcher.py:69: RuntimeWarning: invalid value encountered in long_scalars\n"
     ]
    },
    {
     "name": "stdout",
     "output_type": "stream",
     "text": [
      "1 1\n",
      "1 1\n",
      "1 1\n",
      "2 2\n",
      "4 4\n",
      "4 4\n",
      "3 3\n",
      "2 2\n",
      "4 4\n",
      "4 4\n",
      "3 3\n",
      "2 2\n",
      "4 4\n",
      "4 4\n",
      "3 3\n"
     ]
    }
   ],
   "source": [
    "mmsk = merge_splitted_masks(np.ravel(crops), small_masks, fov.shared_parameters['single_im_size'])"
   ]
  },
  {
   "cell_type": "code",
   "execution_count": null,
   "id": "79bc8dab",
   "metadata": {},
   "outputs": [],
   "source": []
  },
  {
   "cell_type": "code",
   "execution_count": 568,
   "id": "f1388447",
   "metadata": {},
   "outputs": [],
   "source": [
    "def merge_overlapping_mask(mask1, crop1,\n",
    "                           mask2, crop2,\n",
    "                           min_size=200,\n",
    "                           merge_per_th=0.,\n",
    "                           verbose=False,\n",
    "                           ):\n",
    "    from scipy.ndimage.measurements import center_of_mass\n",
    "    if verbose:\n",
    "        print(f\"-- merge overlapping mask\")\n",
    "    \n",
    "    _o1_crop = crop1.relative_overlap(crop2)\n",
    "    _o2_crop = crop2.relative_overlap(crop1)\n",
    "        \n",
    "    _o1_mask = mask1[_o1_crop.to_slices()]\n",
    "    _o2_mask = mask2[_o2_crop.to_slices()]\n",
    "    \n",
    "    _overlap_mask = np.zeros(np.shape(_o1_mask), dtype=np.uint16)\n",
    "    \n",
    "    for _m1 in np.unique(_o1_mask):\n",
    "        if _m1 > 0:\n",
    "            _overlap_markers = np.unique(_o2_mask[_o1_mask==_m1])\n",
    "            # remove small markers\n",
    "            _o_sizes = np.array([np.sum(_o2_mask==_om) for _om in _overlap_markers])\n",
    "            _overlap_markers = _overlap_markers[(_overlap_markers>0) * (_o_sizes > min_size)]\n",
    "            if len(_overlap_markers) == 0:\n",
    "                if verbose:\n",
    "                    print(f'--- save uinque mask {_mk}')\n",
    "                _overlap_mask[_o1_mask==_m1] = _m1\n",
    "            else:\n",
    "                # keep the largest sized marker first\n",
    "                #print(_m1, _overlap_markers)\n",
    "                #_m1_size = np.sum(mask1==_m1)\n",
    "                #_m2_sizes = [np.sum(mask1==_m2) for _m2 in _overlap_markers]\n",
    "                \n",
    "                _mks = [_m1]+list(_overlap_markers)\n",
    "                _crop_ref_dicts = {_m1:_o1_mask}\n",
    "                _crop_ref_dicts.update({_m2:_o2_mask for _m2 in _overlap_markers})\n",
    "                _ref_dicts = {_m1:[crop1, mask1]}\n",
    "                _ref_dicts.update({_m2:[crop2, mask2] for _m2 in _overlap_markers})\n",
    "                # size \n",
    "                _sizes = [np.sum(_crop_ref_dicts[_mk]==_mk) for _mk in _mks] #[_m1_size]+list(_m2_sizes)\n",
    "                # dist\n",
    "                #_m1_dist = crop1.distance_to_edge(center_of_mass(mask1, labels=mask1, index=[_m1])[0],)\n",
    "                #_m2_cts = center_of_mass(mask2, labels=mask2, index=_overlap_markers)\n",
    "                #_m2_dists = [crop2.distance_to_edge(_ct) for _ct in _m2_cts]\n",
    "                #_dists = [_m1_dist] + _m2_dists\n",
    "                _dists = [np.sum(mask1==_m1)] + [np.sum(mask2==_m2) for _m2 in _overlap_markers]\n",
    "                \n",
    "                # initialize target mask\n",
    "                _target_mk = _mks[np.argmax(_sizes)]\n",
    "                _target_dist = _dists[_mks.index(_target_mk)]\n",
    "                \n",
    "                #_dists = [_c.distance_to_edge(center_of_mass(_m, labels=_m, index=[_mk])[0],\n",
    "                #                            ) for _mk, (_c,_m) in _ref_dicts.items()]\n",
    "                #print('dists', _dists)\n",
    "                for _i in np.argsort(_sizes)[::-1]:\n",
    "                    \n",
    "                    _mk = _mks[_i]\n",
    "                    _dist = _dists[_i]\n",
    "\n",
    "                    _ref_mask = _crop_ref_dicts[_mk]\n",
    "                    _share_mask = (_ref_mask==_mk) * (_overlap_mask==_target_mk)\n",
    "                    _valid_mask = (_ref_mask==_mk) * (_overlap_mask==0)\n",
    "                    #print(_mk, np.sum(_share_mask),np.sum(_valid_mask),\n",
    "                    #      np.sum(_share_mask) / np.sum(_ref_mask==_mk), \n",
    "                    #      np.sum(_share_mask) / np.sum(_overlap_mask==_target_mk), )\n",
    "\n",
    "                    \n",
    "                    if (np.sum(_share_mask) / np.sum(_ref_mask==_mk) > merge_per_th \\\n",
    "                        or np.sum(_share_mask) / np.sum(_overlap_mask==_target_mk) > merge_per_th):\n",
    "\n",
    "                        # choose which mask to be used\n",
    "                        #_target_crop, _target_mask = _ref_dicts[_target_mk]\n",
    "                        \n",
    "                        #_target_dist = _target_crop.distance_to_edge(\n",
    "                        #                    center_of_mass(_target_mask, labels=_target_mask, index=[_target_mk])[0],\n",
    "                        #                    )\n",
    "                        #_new_crop, _new_mask = _ref_dicts[_mk]\n",
    "                        #_new_dist = _new_crop.distance_to_edge(\n",
    "                        #                    center_of_mass(_new_mask, labels=_new_mask, index=[_mk])[0],\n",
    "                        #                    )\n",
    "                        #print(_target_dist, _new_dist)\n",
    "                        \n",
    "                        if _target_dist > _dist:\n",
    "                            if verbose:\n",
    "                                print(f'--- merge mask {_mk} into {_target_mk}')\n",
    "                            _overlap_mask[_valid_mask] = _target_mk\n",
    "                        else:\n",
    "                            if verbose:\n",
    "                                print(f'--- merge mask {_target_mk} into {_mk}')\n",
    "                            _overlap_mask[_valid_mask] = _mk\n",
    "                            _overlap_mask[_overlap_mask==_target_mk] = _mk\n",
    "                            # update target mask\n",
    "                            _target_mk = _mk\n",
    "                            _target_dist = _dists[_mks.index(_target_mk)]\n",
    "                    \n",
    "                    elif np.sum(_valid_mask) > min_size:\n",
    "                        if verbose:\n",
    "                            print(f'--- save mask {_mk}')\n",
    "                        _overlap_mask[_valid_mask] = _mk\n",
    "                        # update target mask\n",
    "                        _target_mk = _mk\n",
    "                        _target_dist = _dists[_mks.index(_target_mk)]\n",
    "                    else:\n",
    "                        if verbose:\n",
    "                            print(f\"--- skip mask: {_mk}\")\n",
    "                            \n",
    "    if verbose:\n",
    "        print(f\"-- {np.sum(np.unique(_overlap_mask) >0)} labels saved.\")\n",
    "    return _overlap_mask#, _o1_mask, _o2_mask\n",
    "                    \n",
    "                \n",
    "                "
   ]
  },
  {
   "cell_type": "code",
   "execution_count": 565,
   "id": "2c1bf5ff",
   "metadata": {},
   "outputs": [
    {
     "name": "stdout",
     "output_type": "stream",
     "text": [
      "-- merge overlapping mask\n"
     ]
    },
    {
     "name": "stderr",
     "output_type": "stream",
     "text": [
      "E:\\Users\\puzheng\\anaconda3\\lib\\site-packages\\ipykernel_launcher.py:69: RuntimeWarning: invalid value encountered in long_scalars\n"
     ]
    },
    {
     "name": "stdout",
     "output_type": "stream",
     "text": [
      "--- save mask 40\n",
      "--- merge mask 22 into 40\n",
      "--- save mask 53\n",
      "--- merge mask 24 into 53\n",
      "--- save mask 51\n",
      "--- merge mask 51 into 25\n",
      "--- merge mask 56 into 25\n",
      "--- save mask 47\n",
      "--- merge mask 47 into 26\n",
      "-- 4 labels saved.\n",
      "Wall time: 1.76 s\n"
     ]
    }
   ],
   "source": [
    "%%time\n",
    "ids = [5,6]\n",
    "_upmsk = small_masks[ids[1]].copy() + small_masks[ids[0]].max()\n",
    "_upmsk[_upmsk==small_masks[ids[0]].max()] = 0\n",
    "omsks = merge_overlapping_mask(small_masks[ids[0]], np.ravel(crops)[ids[0]],\n",
    "                       _upmsk, np.ravel(crops)[ids[1]], \n",
    "                               min_size=1500, verbose=True)"
   ]
  }
 ],
 "metadata": {
  "kernelspec": {
   "display_name": "Python 3",
   "language": "python",
   "name": "python3"
  },
  "language_info": {
   "codemirror_mode": {
    "name": "ipython",
    "version": 3
   },
   "file_extension": ".py",
   "mimetype": "text/x-python",
   "name": "python",
   "nbconvert_exporter": "python",
   "pygments_lexer": "ipython3",
   "version": "3.7.10"
  }
 },
 "nbformat": 4,
 "nbformat_minor": 5
}
