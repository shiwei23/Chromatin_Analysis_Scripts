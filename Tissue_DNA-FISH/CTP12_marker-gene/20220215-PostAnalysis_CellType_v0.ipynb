{
 "cells": [
  {
   "cell_type": "markdown",
   "metadata": {},
   "source": [
    "# Analysis of DNA-MERFISH for CTP11\n",
    "\n",
    "by Pu Zheng\n",
    "\n",
    "2022.02.15\n",
    "\n",
    "analysis for dataset:\n",
    "\n",
    "\\\\10.245.74.158\\Chromatin_NAS_0\\20220215-P_brain_CTP11-1000_CTP12_from0208\n",
    "\n",
    "This data is DNA of uncleared MERFISH RNA:\n",
    "    \\\\10.245.74.158\\Chromatin_NAS_0\\20220208-P_brain_M1_nonclear\n"
   ]
  },
  {
   "cell_type": "code",
   "execution_count": 1,
   "metadata": {},
   "outputs": [
    {
     "name": "stdout",
     "output_type": "stream",
     "text": [
      "58596\n"
     ]
    }
   ],
   "source": [
    "%run \"..\\..\\Startup_py3.py\"\n",
    "sys.path.append(r\"..\\..\\..\\..\\Documents\")\n",
    "\n",
    "import ImageAnalysis3 as ia\n",
    "%matplotlib notebook\n",
    "\n",
    "from ImageAnalysis3 import *\n",
    "print(os.getpid())\n",
    "\n",
    "import h5py\n",
    "from ImageAnalysis3.classes import _allowed_kwds\n",
    "import ast\n",
    "\n",
    "import pandas as pd\n",
    "from tqdm import tqdm"
   ]
  },
  {
   "cell_type": "code",
   "execution_count": 2,
   "metadata": {},
   "outputs": [],
   "source": [
    "fov_param = {'data_folder':r'\\\\10.245.74.158\\Chromatin_NAS_0\\20220215-P_brain_CTP11-1000_CTP12_from0208',\n",
    "             'save_folder':r'\\\\mendel\\Mendel_SSD1\\Pu_Temp\\20220215-P_brain_CTP11-1000_CTP12_from0208',\n",
    "             'experiment_type': 'DNA',\n",
    "             'num_threads': 25,\n",
    "             'correction_folder':r'\\\\10.245.74.158\\Chromatin_NAS_0\\Corrections\\20210621-Corrections_lumencor_from_60_to_50',\n",
    "             'shared_parameters':{\n",
    "                     'single_im_size':[50,2048,2048],\n",
    "                     'distance_zxy': [250, 108, 108],\n",
    "                     'corr_channels':['750','647'],\n",
    "                     'num_empty_frames': 0, \n",
    "                     'num_buffer_frames':0,\n",
    "                     'corr_hot_pixel':True,\n",
    "                     'corr_Z_shift':True,\n",
    "                     'corr_bleed':True,\n",
    "                     'min_num_seeds':10,\n",
    "                     'max_num_seeds': 2000,\n",
    "                     'spot_seeding_th': 1000,\n",
    "                     'normalize_intensity_local':False,\n",
    "                     'normalize_intensity_background':False,\n",
    "                     'corr_gaussian_highpass':False\n",
    "                 }, \n",
    "             }"
   ]
  },
  {
   "cell_type": "markdown",
   "metadata": {},
   "source": [
    "## 1.1 define required floders"
   ]
  },
  {
   "cell_type": "code",
   "execution_count": 3,
   "metadata": {},
   "outputs": [
    {
     "name": "stdout",
     "output_type": "stream",
     "text": [
      "163 fovs detected\n",
      "Use segmentation_folder: \\\\mendel\\Mendel_SSD1\\Pu_Temp\\20220215-P_brain_CTP11-1000_CTP12_from0208\\Segmentation\\Tests\n",
      "Use cand_spot_folder: \\\\mendel\\Mendel_SSD1\\Pu_Temp\\20220215-P_brain_CTP11-1000_CTP12_from0208\\CandSpots\\Tests\n",
      "Use decoder_folder: \\\\mendel\\Mendel_SSD1\\Pu_Temp\\20220215-P_brain_CTP11-1000_CTP12_from0208\\Decoder\\Tests\n"
     ]
    }
   ],
   "source": [
    "save_folder = fov_param['save_folder']\n",
    "\n",
    "save_filenames = [os.path.join(save_folder, _fl) for _fl in os.listdir(save_folder)\n",
    "                  if _fl.split(os.extsep)[-1]=='hdf5']\n",
    "# extract fov_id\n",
    "save_fov_ids = [int(os.path.basename(_fl).split('.hdf5')[0].split('_')[-1]) for _fl in save_filenames]\n",
    "\n",
    "debug = False\n",
    "\n",
    "print(f\"{len(save_filenames)} fovs detected\")\n",
    "\n",
    "segmentation_folder = os.path.join(save_folder, 'Segmentation', 'Tests')\n",
    "if not os.path.exists(segmentation_folder):\n",
    "    os.makedirs(segmentation_folder)\n",
    "    print(f\"Creating segmentation_folder: {segmentation_folder}\")\n",
    "else:\n",
    "    print(f\"Use segmentation_folder: {segmentation_folder}\")\n",
    "\n",
    "cand_spot_folder = os.path.join(save_folder, 'CandSpots', 'Tests')\n",
    "if not os.path.exists(cand_spot_folder):\n",
    "    os.makedirs(cand_spot_folder)\n",
    "    print(f\"Creating cand_spot_folder: {cand_spot_folder}\")\n",
    "else:\n",
    "    print(f\"Use cand_spot_folder: {cand_spot_folder}\")\n",
    "\n",
    "decoder_folder = cand_spot_folder.replace('CandSpots', 'Decoder')\n",
    "if debug:\n",
    "    _version = 0\n",
    "    while os.path.exists(os.path.join(decoder_folder, f'v{_version}')):\n",
    "        _version += 1\n",
    "    decoder_folder = os.path.join(decoder_folder, f'v{_version}')\n",
    "if not os.path.exists(decoder_folder):\n",
    "    os.makedirs(decoder_folder)\n",
    "    print(f\"Creating decoder_folder: {decoder_folder}\")\n",
    "else:\n",
    "    print(f\"Use decoder_folder: {decoder_folder}\")\n"
   ]
  },
  {
   "cell_type": "raw",
   "metadata": {},
   "source": [
    "save_fov_ids = save_fov_ids[:30]\n",
    "save_filenames = save_filenames[:30]"
   ]
  },
  {
   "cell_type": "markdown",
   "metadata": {},
   "source": [
    "## 1.2 get dict for cell uid"
   ]
  },
  {
   "cell_type": "code",
   "execution_count": 4,
   "metadata": {},
   "outputs": [
    {
     "name": "stdout",
     "output_type": "stream",
     "text": [
      "22712\n",
      "Wall time: 6.5 s\n"
     ]
    }
   ],
   "source": [
    "%%time\n",
    "_total_seg_save_file = os.path.join(segmentation_folder, 'full_segmentation.hdf5')\n",
    "\n",
    "fovcell_2_uid = {}\n",
    "with h5py.File(_total_seg_save_file, 'r') as _f:\n",
    "    for _fov_id in _f.keys():\n",
    "        _fov_group = _f[_fov_id]\n",
    "        _uid_group = _fov_group['cell_2_uid']\n",
    "        for _cell_id in _uid_group.keys():\n",
    "            fovcell_2_uid[(_fov_id, _cell_id)] = _uid_group[_cell_id][:][0].decode()\n",
    "print(len(fovcell_2_uid))"
   ]
  },
  {
   "cell_type": "markdown",
   "metadata": {},
   "source": [
    "## 1.3 get cell_uid to cell-class"
   ]
  },
  {
   "cell_type": "code",
   "execution_count": 5,
   "metadata": {},
   "outputs": [
    {
     "name": "stdout",
     "output_type": "stream",
     "text": [
      "Wall time: 7.92 s\n"
     ]
    }
   ],
   "source": [
    "%%time\n",
    "import scanpy as sc\n",
    "\n",
    "# load cell type info\n",
    "merfish_cluster_file = r'\\\\mendel\\Mendel_SSD1\\Pu_Temp\\20220208MO4_nonclear\\filtered_cluster_data_labeled.h5ad'\n",
    "\n",
    "merfish_df = sc.read_h5ad(merfish_cluster_file)\n",
    "\n",
    "uid_2_class = {_uid:_class for _uid, _class in zip(merfish_df.obs.index, merfish_df.obs['subclass_manual_label'])}"
   ]
  },
  {
   "cell_type": "markdown",
   "metadata": {},
   "source": [
    "# 2. export spot_groups"
   ]
  },
  {
   "cell_type": "code",
   "execution_count": null,
   "metadata": {},
   "outputs": [],
   "source": []
  },
  {
   "cell_type": "code",
   "execution_count": 27,
   "metadata": {
    "scrolled": true
   },
   "outputs": [
    {
     "name": "stderr",
     "output_type": "stream",
     "text": [
      "  1%|█▏                                                                                                                                                                  | 1/141 [00:00<00:14,  9.42it/s]"
     ]
    },
    {
     "name": "stdout",
     "output_type": "stream",
     "text": [
      "H:\\20220215-Export\\DecodeGroup_Fov-0.hdf5\n",
      "H:\\20220215-Export\\DecodeGroup_Fov-1.hdf5\n",
      "H:\\20220215-Export\\DecodeGroup_Fov-2.hdf5\n",
      "H:\\20220215-Export\\DecodeGroup_Fov-3.hdf5\n",
      "H:\\20220215-Export\\DecodeGroup_Fov-4.hdf5\n",
      "H:\\20220215-Export\\DecodeGroup_Fov-5.hdf5\n",
      "H:\\20220215-Export\\DecodeGroup_Fov-6.hdf5\n",
      "H:\\20220215-Export\\DecodeGroup_Fov-7.hdf5\n",
      "H:\\20220215-Export\\DecodeGroup_Fov-8.hdf5\n",
      "H:\\20220215-Export\\DecodeGroup_Fov-9.hdf5\n",
      "H:\\20220215-Export\\DecodeGroup_Fov-10.hdf5\n",
      "H:\\20220215-Export\\DecodeGroup_Fov-11.hdf5\n",
      "H:\\20220215-Export\\DecodeGroup_Fov-12.hdf5\n",
      "H:\\20220215-Export\\DecodeGroup_Fov-13.hdf5\n",
      "H:\\20220215-Export\\DecodeGroup_Fov-14.hdf5\n",
      "H:\\20220215-Export\\DecodeGroup_Fov-15.hdf5\n",
      "H:\\20220215-Export\\DecodeGroup_Fov-16.hdf5\n",
      "H:\\20220215-Export\\DecodeGroup_Fov-17.hdf5\n",
      "H:\\20220215-Export\\DecodeGroup_Fov-18.hdf5\n",
      "H:\\20220215-Export\\DecodeGroup_Fov-19.hdf5\n",
      "H:\\20220215-Export\\DecodeGroup_Fov-20.hdf5\n",
      "H:\\20220215-Export\\DecodeGroup_Fov-21.hdf5\n",
      "H:\\20220215-Export\\DecodeGroup_Fov-22.hdf5\n",
      "H:\\20220215-Export\\DecodeGroup_Fov-23.hdf5\n",
      "H:\\20220215-Export\\DecodeGroup_Fov-24.hdf5\n",
      "H:\\20220215-Export\\DecodeGroup_Fov-25.hdf5\n",
      "H:\\20220215-Export\\DecodeGroup_Fov-26.hdf5\n",
      "H:\\20220215-Export\\DecodeGroup_Fov-27.hdf5\n",
      "H:\\20220215-Export\\DecodeGroup_Fov-28.hdf5\n"
     ]
    },
    {
     "name": "stderr",
     "output_type": "stream",
     "text": [
      "100%|██████████████████████████████████████████████████████████████████████████████████████████████████████████████████████████████████████████████████████████████████| 141/141 [00:11<00:00, 11.81it/s]\n",
      "  1%|█▋                                                                                                                                                                  | 2/189 [00:00<00:16, 11.04it/s]"
     ]
    },
    {
     "name": "stdout",
     "output_type": "stream",
     "text": [
      "H:\\20220215-Export\\DecodeGroup_Fov-29.hdf5\n"
     ]
    },
    {
     "name": "stderr",
     "output_type": "stream",
     "text": [
      "100%|██████████████████████████████████████████████████████████████████████████████████████████████████████████████████████████████████████████████████████████████████| 189/189 [00:17<00:00, 11.02it/s]\n",
      "  0%|                                                                                                                                                                            | 0/216 [00:00<?, ?it/s]"
     ]
    },
    {
     "name": "stdout",
     "output_type": "stream",
     "text": [
      "H:\\20220215-Export\\DecodeGroup_Fov-30.hdf5\n"
     ]
    },
    {
     "name": "stderr",
     "output_type": "stream",
     "text": [
      " 52%|████████████████████████████████████████████████████████████████████████████████████                                                                              | 112/216 [00:07<00:06, 15.04it/s]E:\\Users\\puzheng\\AppData\\anaconda3\\lib\\site-packages\\tables\\path.py:155: NaturalNameWarning: object name is not a valid Python identifier: 'Cell-200'; it does not match the pattern ``^[a-zA-Z_][a-zA-Z0-9_]*$``; you will not be able to use natural naming to access this object; using ``getattr()`` will still work, though\n",
      "  check_attribute_name(name)\n",
      "100%|██████████████████████████████████████████████████████████████████████████████████████████████████████████████████████████████████████████████████████████████████| 216/216 [00:18<00:00, 11.58it/s]\n",
      "  1%|█▌                                                                                                                                                                  | 2/212 [00:00<00:20, 10.46it/s]"
     ]
    },
    {
     "name": "stdout",
     "output_type": "stream",
     "text": [
      "H:\\20220215-Export\\DecodeGroup_Fov-31.hdf5\n"
     ]
    },
    {
     "name": "stderr",
     "output_type": "stream",
     "text": [
      " 59%|███████████████████████████████████████████████████████████████████████████████████████████████▌                                                                  | 125/212 [00:09<00:05, 17.02it/s]E:\\Users\\puzheng\\AppData\\anaconda3\\lib\\site-packages\\tables\\path.py:155: NaturalNameWarning: object name is not a valid Python identifier: 'Cell-211'; it does not match the pattern ``^[a-zA-Z_][a-zA-Z0-9_]*$``; you will not be able to use natural naming to access this object; using ``getattr()`` will still work, though\n",
      "  check_attribute_name(name)\n",
      "100%|██████████████████████████████████████████████████████████████████████████████████████████████████████████████████████████████████████████████████████████████████| 212/212 [00:19<00:00, 11.01it/s]\n",
      "  1%|▉                                                                                                                                                                   | 1/180 [00:00<00:18,  9.89it/s]"
     ]
    },
    {
     "name": "stdout",
     "output_type": "stream",
     "text": [
      "H:\\20220215-Export\\DecodeGroup_Fov-32.hdf5\n"
     ]
    },
    {
     "name": "stderr",
     "output_type": "stream",
     "text": [
      "100%|██████████████████████████████████████████████████████████████████████████████████████████████████████████████████████████████████████████████████████████████████| 180/180 [00:15<00:00, 11.77it/s]\n",
      "  1%|█▋                                                                                                                                                                  | 2/188 [00:00<00:17, 10.86it/s]"
     ]
    },
    {
     "name": "stdout",
     "output_type": "stream",
     "text": [
      "H:\\20220215-Export\\DecodeGroup_Fov-33.hdf5\n"
     ]
    },
    {
     "name": "stderr",
     "output_type": "stream",
     "text": [
      "100%|██████████████████████████████████████████████████████████████████████████████████████████████████████████████████████████████████████████████████████████████████| 188/188 [00:16<00:00, 11.26it/s]\n",
      "  0%|                                                                                                                                                                            | 0/109 [00:00<?, ?it/s]"
     ]
    },
    {
     "name": "stdout",
     "output_type": "stream",
     "text": [
      "H:\\20220215-Export\\DecodeGroup_Fov-34.hdf5\n"
     ]
    },
    {
     "name": "stderr",
     "output_type": "stream",
     "text": [
      "100%|██████████████████████████████████████████████████████████████████████████████████████████████████████████████████████████████████████████████████████████████████| 109/109 [00:09<00:00, 11.13it/s]\n",
      "  1%|█▎                                                                                                                                                                  | 1/125 [00:00<00:12,  9.99it/s]"
     ]
    },
    {
     "name": "stdout",
     "output_type": "stream",
     "text": [
      "H:\\20220215-Export\\DecodeGroup_Fov-35.hdf5\n"
     ]
    },
    {
     "name": "stderr",
     "output_type": "stream",
     "text": [
      "100%|██████████████████████████████████████████████████████████████████████████████████████████████████████████████████████████████████████████████████████████████████| 125/125 [00:11<00:00, 10.75it/s]\n",
      "  2%|██▉                                                                                                                                                                 | 2/112 [00:00<00:09, 11.62it/s]"
     ]
    },
    {
     "name": "stdout",
     "output_type": "stream",
     "text": [
      "H:\\20220215-Export\\DecodeGroup_Fov-36.hdf5\n"
     ]
    },
    {
     "name": "stderr",
     "output_type": "stream",
     "text": [
      "100%|██████████████████████████████████████████████████████████████████████████████████████████████████████████████████████████████████████████████████████████████████| 112/112 [00:09<00:00, 11.40it/s]\n",
      "  0%|                                                                                                                                                                            | 0/100 [00:00<?, ?it/s]"
     ]
    },
    {
     "name": "stdout",
     "output_type": "stream",
     "text": [
      "H:\\20220215-Export\\DecodeGroup_Fov-37.hdf5\n"
     ]
    },
    {
     "name": "stderr",
     "output_type": "stream",
     "text": [
      "100%|██████████████████████████████████████████████████████████████████████████████████████████████████████████████████████████████████████████████████████████████████| 100/100 [00:09<00:00, 10.98it/s]\n",
      "  2%|███                                                                                                                                                                 | 2/106 [00:00<00:07, 14.37it/s]"
     ]
    },
    {
     "name": "stdout",
     "output_type": "stream",
     "text": [
      "H:\\20220215-Export\\DecodeGroup_Fov-38.hdf5\n"
     ]
    },
    {
     "name": "stderr",
     "output_type": "stream",
     "text": [
      "100%|██████████████████████████████████████████████████████████████████████████████████████████████████████████████████████████████████████████████████████████████████| 106/106 [00:09<00:00, 10.81it/s]\n",
      "  0%|                                                                                                                                                                            | 0/182 [00:00<?, ?it/s]"
     ]
    },
    {
     "name": "stdout",
     "output_type": "stream",
     "text": [
      "H:\\20220215-Export\\DecodeGroup_Fov-39.hdf5\n"
     ]
    },
    {
     "name": "stderr",
     "output_type": "stream",
     "text": [
      "100%|██████████████████████████████████████████████████████████████████████████████████████████████████████████████████████████████████████████████████████████████████| 182/182 [00:21<00:00,  8.30it/s]\n",
      "  0%|                                                                                                                                                                            | 0/166 [00:00<?, ?it/s]"
     ]
    },
    {
     "name": "stdout",
     "output_type": "stream",
     "text": [
      "H:\\20220215-Export\\DecodeGroup_Fov-40.hdf5\n"
     ]
    },
    {
     "name": "stderr",
     "output_type": "stream",
     "text": [
      "100%|██████████████████████████████████████████████████████████████████████████████████████████████████████████████████████████████████████████████████████████████████| 166/166 [00:18<00:00,  8.75it/s]\n",
      "  0%|                                                                                                                                                                            | 0/116 [00:00<?, ?it/s]"
     ]
    },
    {
     "name": "stdout",
     "output_type": "stream",
     "text": [
      "H:\\20220215-Export\\DecodeGroup_Fov-41.hdf5\n"
     ]
    },
    {
     "name": "stderr",
     "output_type": "stream",
     "text": [
      "100%|██████████████████████████████████████████████████████████████████████████████████████████████████████████████████████████████████████████████████████████████████| 116/116 [00:11<00:00, 10.46it/s]\n",
      "  0%|                                                                                                                                                                            | 0/148 [00:00<?, ?it/s]"
     ]
    },
    {
     "name": "stdout",
     "output_type": "stream",
     "text": [
      "H:\\20220215-Export\\DecodeGroup_Fov-42.hdf5\n"
     ]
    },
    {
     "name": "stderr",
     "output_type": "stream",
     "text": [
      "100%|██████████████████████████████████████████████████████████████████████████████████████████████████████████████████████████████████████████████████████████████████| 148/148 [00:18<00:00,  8.06it/s]\n",
      "  1%|█▌                                                                                                                                                                  | 1/107 [00:00<00:11,  9.25it/s]"
     ]
    },
    {
     "name": "stdout",
     "output_type": "stream",
     "text": [
      "H:\\20220215-Export\\DecodeGroup_Fov-43.hdf5\n"
     ]
    },
    {
     "name": "stderr",
     "output_type": "stream",
     "text": [
      "100%|██████████████████████████████████████████████████████████████████████████████████████████████████████████████████████████████████████████████████████████████████| 107/107 [00:13<00:00,  7.74it/s]\n",
      "  1%|█▎                                                                                                                                                                  | 1/121 [00:00<00:13,  8.69it/s]"
     ]
    },
    {
     "name": "stdout",
     "output_type": "stream",
     "text": [
      "H:\\20220215-Export\\DecodeGroup_Fov-44.hdf5\n"
     ]
    },
    {
     "name": "stderr",
     "output_type": "stream",
     "text": [
      "100%|██████████████████████████████████████████████████████████████████████████████████████████████████████████████████████████████████████████████████████████████████| 121/121 [00:15<00:00,  7.93it/s]\n",
      "  1%|█                                                                                                                                                                   | 1/156 [00:00<00:19,  7.99it/s]"
     ]
    },
    {
     "name": "stdout",
     "output_type": "stream",
     "text": [
      "H:\\20220215-Export\\DecodeGroup_Fov-45.hdf5\n"
     ]
    },
    {
     "name": "stderr",
     "output_type": "stream",
     "text": [
      "100%|██████████████████████████████████████████████████████████████████████████████████████████████████████████████████████████████████████████████████████████████████| 156/156 [00:17<00:00,  9.14it/s]\n",
      "  0%|                                                                                                                                                                            | 0/113 [00:00<?, ?it/s]"
     ]
    },
    {
     "name": "stdout",
     "output_type": "stream",
     "text": [
      "H:\\20220215-Export\\DecodeGroup_Fov-46.hdf5\n"
     ]
    },
    {
     "name": "stderr",
     "output_type": "stream",
     "text": [
      "100%|██████████████████████████████████████████████████████████████████████████████████████████████████████████████████████████████████████████████████████████████████| 113/113 [00:11<00:00, 10.12it/s]\n",
      "  1%|█▏                                                                                                                                                                  | 1/133 [00:00<00:13,  9.89it/s]"
     ]
    },
    {
     "name": "stdout",
     "output_type": "stream",
     "text": [
      "H:\\20220215-Export\\DecodeGroup_Fov-47.hdf5\n"
     ]
    },
    {
     "name": "stderr",
     "output_type": "stream",
     "text": [
      "100%|██████████████████████████████████████████████████████████████████████████████████████████████████████████████████████████████████████████████████████████████████| 133/133 [00:13<00:00,  9.90it/s]\n",
      "  0%|                                                                                                                                                                            | 0/153 [00:00<?, ?it/s]"
     ]
    },
    {
     "name": "stdout",
     "output_type": "stream",
     "text": [
      "H:\\20220215-Export\\DecodeGroup_Fov-48.hdf5\n"
     ]
    },
    {
     "name": "stderr",
     "output_type": "stream",
     "text": [
      "100%|██████████████████████████████████████████████████████████████████████████████████████████████████████████████████████████████████████████████████████████████████| 153/153 [00:16<00:00,  9.50it/s]\n",
      "  1%|█▉                                                                                                                                                                  | 2/170 [00:00<00:15, 11.11it/s]"
     ]
    },
    {
     "name": "stdout",
     "output_type": "stream",
     "text": [
      "H:\\20220215-Export\\DecodeGroup_Fov-49.hdf5\n"
     ]
    },
    {
     "name": "stderr",
     "output_type": "stream",
     "text": [
      "100%|██████████████████████████████████████████████████████████████████████████████████████████████████████████████████████████████████████████████████████████████████| 170/170 [00:17<00:00,  9.45it/s]\n",
      "  1%|█▊                                                                                                                                                                  | 2/182 [00:00<00:15, 11.69it/s]"
     ]
    },
    {
     "name": "stdout",
     "output_type": "stream",
     "text": [
      "H:\\20220215-Export\\DecodeGroup_Fov-50.hdf5\n"
     ]
    },
    {
     "name": "stderr",
     "output_type": "stream",
     "text": [
      "100%|██████████████████████████████████████████████████████████████████████████████████████████████████████████████████████████████████████████████████████████████████| 182/182 [00:16<00:00, 10.80it/s]\n",
      "  0%|                                                                                                                                                                            | 0/157 [00:00<?, ?it/s]"
     ]
    },
    {
     "name": "stdout",
     "output_type": "stream",
     "text": [
      "H:\\20220215-Export\\DecodeGroup_Fov-51.hdf5\n"
     ]
    },
    {
     "name": "stderr",
     "output_type": "stream",
     "text": [
      "100%|██████████████████████████████████████████████████████████████████████████████████████████████████████████████████████████████████████████████████████████████████| 157/157 [00:17<00:00,  9.15it/s]\n",
      "  1%|█▏                                                                                                                                                                  | 1/133 [00:00<00:14,  9.00it/s]"
     ]
    },
    {
     "name": "stdout",
     "output_type": "stream",
     "text": [
      "H:\\20220215-Export\\DecodeGroup_Fov-52.hdf5\n"
     ]
    },
    {
     "name": "stderr",
     "output_type": "stream",
     "text": [
      "100%|██████████████████████████████████████████████████████████████████████████████████████████████████████████████████████████████████████████████████████████████████| 133/133 [00:15<00:00,  8.32it/s]\n",
      "  0%|                                                                                                                                                                            | 0/133 [00:00<?, ?it/s]"
     ]
    },
    {
     "name": "stdout",
     "output_type": "stream",
     "text": [
      "H:\\20220215-Export\\DecodeGroup_Fov-53.hdf5\n"
     ]
    },
    {
     "name": "stderr",
     "output_type": "stream",
     "text": [
      "100%|██████████████████████████████████████████████████████████████████████████████████████████████████████████████████████████████████████████████████████████████████| 133/133 [00:14<00:00,  9.00it/s]\n",
      "  2%|██▌                                                                                                                                                                 | 2/129 [00:00<00:06, 18.17it/s]"
     ]
    },
    {
     "name": "stdout",
     "output_type": "stream",
     "text": [
      "H:\\20220215-Export\\DecodeGroup_Fov-54.hdf5\n"
     ]
    },
    {
     "name": "stderr",
     "output_type": "stream",
     "text": [
      "100%|██████████████████████████████████████████████████████████████████████████████████████████████████████████████████████████████████████████████████████████████████| 129/129 [00:13<00:00,  9.34it/s]\n",
      "  1%|█                                                                                                                                                                   | 1/147 [00:00<00:16,  8.76it/s]"
     ]
    },
    {
     "name": "stdout",
     "output_type": "stream",
     "text": [
      "H:\\20220215-Export\\DecodeGroup_Fov-55.hdf5\n"
     ]
    },
    {
     "name": "stderr",
     "output_type": "stream",
     "text": [
      "100%|██████████████████████████████████████████████████████████████████████████████████████████████████████████████████████████████████████████████████████████████████| 147/147 [00:19<00:00,  7.45it/s]\n",
      "  1%|█                                                                                                                                                                   | 1/155 [00:00<00:17,  8.69it/s]"
     ]
    },
    {
     "name": "stdout",
     "output_type": "stream",
     "text": [
      "H:\\20220215-Export\\DecodeGroup_Fov-56.hdf5\n"
     ]
    },
    {
     "name": "stderr",
     "output_type": "stream",
     "text": [
      "100%|██████████████████████████████████████████████████████████████████████████████████████████████████████████████████████████████████████████████████████████████████| 155/155 [00:18<00:00,  8.46it/s]\n",
      "  1%|██▏                                                                                                                                                                 | 2/148 [00:00<00:12, 11.76it/s]"
     ]
    },
    {
     "name": "stdout",
     "output_type": "stream",
     "text": [
      "H:\\20220215-Export\\DecodeGroup_Fov-57.hdf5\n"
     ]
    },
    {
     "name": "stderr",
     "output_type": "stream",
     "text": [
      "100%|██████████████████████████████████████████████████████████████████████████████████████████████████████████████████████████████████████████████████████████████████| 148/148 [00:17<00:00,  8.43it/s]\n",
      "  1%|█                                                                                                                                                                   | 1/155 [00:00<00:17,  8.84it/s]"
     ]
    },
    {
     "name": "stdout",
     "output_type": "stream",
     "text": [
      "H:\\20220215-Export\\DecodeGroup_Fov-58.hdf5\n"
     ]
    },
    {
     "name": "stderr",
     "output_type": "stream",
     "text": [
      "100%|██████████████████████████████████████████████████████████████████████████████████████████████████████████████████████████████████████████████████████████████████| 155/155 [02:27<00:00,  1.05it/s]\n",
      "  1%|█▏                                                                                                                                                                  | 1/135 [00:00<00:15,  8.61it/s]"
     ]
    },
    {
     "name": "stdout",
     "output_type": "stream",
     "text": [
      "H:\\20220215-Export\\DecodeGroup_Fov-59.hdf5\n"
     ]
    },
    {
     "name": "stderr",
     "output_type": "stream",
     "text": [
      "100%|██████████████████████████████████████████████████████████████████████████████████████████████████████████████████████████████████████████████████████████████████| 135/135 [00:15<00:00,  8.71it/s]\n",
      "  1%|█▏                                                                                                                                                                  | 1/137 [00:00<00:14,  9.43it/s]"
     ]
    },
    {
     "name": "stdout",
     "output_type": "stream",
     "text": [
      "H:\\20220215-Export\\DecodeGroup_Fov-60.hdf5\n"
     ]
    },
    {
     "name": "stderr",
     "output_type": "stream",
     "text": [
      "100%|██████████████████████████████████████████████████████████████████████████████████████████████████████████████████████████████████████████████████████████████████| 137/137 [00:17<00:00,  8.03it/s]\n",
      "  1%|█▍                                                                                                                                                                  | 1/114 [00:00<00:12,  8.77it/s]"
     ]
    },
    {
     "name": "stdout",
     "output_type": "stream",
     "text": [
      "H:\\20220215-Export\\DecodeGroup_Fov-61.hdf5\n"
     ]
    },
    {
     "name": "stderr",
     "output_type": "stream",
     "text": [
      "100%|██████████████████████████████████████████████████████████████████████████████████████████████████████████████████████████████████████████████████████████████████| 114/114 [00:14<00:00,  7.92it/s]\n",
      "  1%|█▍                                                                                                                                                                  | 1/117 [00:00<00:13,  8.61it/s]"
     ]
    },
    {
     "name": "stdout",
     "output_type": "stream",
     "text": [
      "H:\\20220215-Export\\DecodeGroup_Fov-62.hdf5\n"
     ]
    },
    {
     "name": "stderr",
     "output_type": "stream",
     "text": [
      "100%|██████████████████████████████████████████████████████████████████████████████████████████████████████████████████████████████████████████████████████████████████| 117/117 [00:12<00:00,  9.43it/s]\n",
      "  0%|                                                                                                                                                                            | 0/128 [00:00<?, ?it/s]"
     ]
    },
    {
     "name": "stdout",
     "output_type": "stream",
     "text": [
      "H:\\20220215-Export\\DecodeGroup_Fov-63.hdf5\n"
     ]
    },
    {
     "name": "stderr",
     "output_type": "stream",
     "text": [
      "100%|██████████████████████████████████████████████████████████████████████████████████████████████████████████████████████████████████████████████████████████████████| 128/128 [00:11<00:00, 11.26it/s]\n",
      "  2%|███                                                                                                                                                                 | 2/105 [00:00<00:09, 11.42it/s]"
     ]
    },
    {
     "name": "stdout",
     "output_type": "stream",
     "text": [
      "H:\\20220215-Export\\DecodeGroup_Fov-64.hdf5\n"
     ]
    },
    {
     "name": "stderr",
     "output_type": "stream",
     "text": [
      "100%|██████████████████████████████████████████████████████████████████████████████████████████████████████████████████████████████████████████████████████████████████| 105/105 [00:09<00:00, 11.12it/s]\n",
      "  2%|██▉                                                                                                                                                                 | 2/110 [00:00<00:09, 11.42it/s]"
     ]
    },
    {
     "name": "stdout",
     "output_type": "stream",
     "text": [
      "H:\\20220215-Export\\DecodeGroup_Fov-65.hdf5\n"
     ]
    },
    {
     "name": "stderr",
     "output_type": "stream",
     "text": [
      "100%|██████████████████████████████████████████████████████████████████████████████████████████████████████████████████████████████████████████████████████████████████| 110/110 [00:09<00:00, 11.83it/s]\n",
      "  1%|██▏                                                                                                                                                                 | 2/146 [00:00<00:12, 11.62it/s]"
     ]
    },
    {
     "name": "stdout",
     "output_type": "stream",
     "text": [
      "H:\\20220215-Export\\DecodeGroup_Fov-66.hdf5\n"
     ]
    },
    {
     "name": "stderr",
     "output_type": "stream",
     "text": [
      "100%|██████████████████████████████████████████████████████████████████████████████████████████████████████████████████████████████████████████████████████████████████| 146/146 [00:13<00:00, 10.94it/s]\n",
      "  1%|██                                                                                                                                                                  | 2/155 [00:00<00:13, 11.69it/s]"
     ]
    },
    {
     "name": "stdout",
     "output_type": "stream",
     "text": [
      "H:\\20220215-Export\\DecodeGroup_Fov-67.hdf5\n"
     ]
    },
    {
     "name": "stderr",
     "output_type": "stream",
     "text": [
      "100%|██████████████████████████████████████████████████████████████████████████████████████████████████████████████████████████████████████████████████████████████████| 155/155 [00:13<00:00, 11.62it/s]\n",
      "  0%|                                                                                                                                                                            | 0/156 [00:00<?, ?it/s]"
     ]
    },
    {
     "name": "stdout",
     "output_type": "stream",
     "text": [
      "H:\\20220215-Export\\DecodeGroup_Fov-68.hdf5\n"
     ]
    },
    {
     "name": "stderr",
     "output_type": "stream",
     "text": [
      "100%|██████████████████████████████████████████████████████████████████████████████████████████████████████████████████████████████████████████████████████████████████| 156/156 [00:14<00:00, 10.70it/s]\n",
      "  2%|██▉                                                                                                                                                                 | 3/167 [00:00<00:08, 18.50it/s]"
     ]
    },
    {
     "name": "stdout",
     "output_type": "stream",
     "text": [
      "H:\\20220215-Export\\DecodeGroup_Fov-69.hdf5\n"
     ]
    },
    {
     "name": "stderr",
     "output_type": "stream",
     "text": [
      "100%|██████████████████████████████████████████████████████████████████████████████████████████████████████████████████████████████████████████████████████████████████| 167/167 [00:15<00:00, 11.11it/s]\n",
      "  1%|█▉                                                                                                                                                                  | 2/167 [00:00<00:15, 10.80it/s]"
     ]
    },
    {
     "name": "stdout",
     "output_type": "stream",
     "text": [
      "H:\\20220215-Export\\DecodeGroup_Fov-70.hdf5\n"
     ]
    },
    {
     "name": "stderr",
     "output_type": "stream",
     "text": [
      "100%|██████████████████████████████████████████████████████████████████████████████████████████████████████████████████████████████████████████████████████████████████| 167/167 [00:14<00:00, 11.80it/s]\n",
      "  1%|█▉                                                                                                                                                                  | 2/171 [00:00<00:15, 11.16it/s]"
     ]
    },
    {
     "name": "stdout",
     "output_type": "stream",
     "text": [
      "H:\\20220215-Export\\DecodeGroup_Fov-71.hdf5\n"
     ]
    },
    {
     "name": "stderr",
     "output_type": "stream",
     "text": [
      "100%|██████████████████████████████████████████████████████████████████████████████████████████████████████████████████████████████████████████████████████████████████| 171/171 [00:15<00:00, 10.96it/s]\n",
      "  0%|                                                                                                                                                                            | 0/144 [00:00<?, ?it/s]"
     ]
    },
    {
     "name": "stdout",
     "output_type": "stream",
     "text": [
      "H:\\20220215-Export\\DecodeGroup_Fov-72.hdf5\n"
     ]
    },
    {
     "name": "stderr",
     "output_type": "stream",
     "text": [
      "100%|██████████████████████████████████████████████████████████████████████████████████████████████████████████████████████████████████████████████████████████████████| 144/144 [00:14<00:00,  9.65it/s]\n",
      "  0%|                                                                                                                                                                            | 0/148 [00:00<?, ?it/s]"
     ]
    },
    {
     "name": "stdout",
     "output_type": "stream",
     "text": [
      "H:\\20220215-Export\\DecodeGroup_Fov-73.hdf5\n"
     ]
    },
    {
     "name": "stderr",
     "output_type": "stream",
     "text": [
      "100%|██████████████████████████████████████████████████████████████████████████████████████████████████████████████████████████████████████████████████████████████████| 148/148 [00:14<00:00,  9.90it/s]\n",
      "  1%|█▋                                                                                                                                                                   | 1/97 [00:00<00:09,  9.70it/s]"
     ]
    },
    {
     "name": "stdout",
     "output_type": "stream",
     "text": [
      "H:\\20220215-Export\\DecodeGroup_Fov-74.hdf5\n"
     ]
    },
    {
     "name": "stderr",
     "output_type": "stream",
     "text": [
      "100%|████████████████████████████████████████████████████████████████████████████████████████████████████████████████████████████████████████████████████████████████████| 97/97 [00:09<00:00, 10.54it/s]\n",
      "  2%|███▊                                                                                                                                                                | 3/127 [00:00<00:06, 18.17it/s]"
     ]
    },
    {
     "name": "stdout",
     "output_type": "stream",
     "text": [
      "H:\\20220215-Export\\DecodeGroup_Fov-75.hdf5\n"
     ]
    },
    {
     "name": "stderr",
     "output_type": "stream",
     "text": [
      "100%|██████████████████████████████████████████████████████████████████████████████████████████████████████████████████████████████████████████████████████████████████| 127/127 [00:10<00:00, 12.11it/s]\n",
      "  2%|██▋                                                                                                                                                                 | 2/124 [00:00<00:10, 11.83it/s]"
     ]
    },
    {
     "name": "stdout",
     "output_type": "stream",
     "text": [
      "H:\\20220215-Export\\DecodeGroup_Fov-76.hdf5\n"
     ]
    },
    {
     "name": "stderr",
     "output_type": "stream",
     "text": [
      "100%|██████████████████████████████████████████████████████████████████████████████████████████████████████████████████████████████████████████████████████████████████| 124/124 [00:10<00:00, 12.03it/s]\n",
      "  0%|                                                                                                                                                                            | 0/123 [00:00<?, ?it/s]"
     ]
    },
    {
     "name": "stdout",
     "output_type": "stream",
     "text": [
      "H:\\20220215-Export\\DecodeGroup_Fov-77.hdf5\n"
     ]
    },
    {
     "name": "stderr",
     "output_type": "stream",
     "text": [
      "100%|██████████████████████████████████████████████████████████████████████████████████████████████████████████████████████████████████████████████████████████████████| 123/123 [00:12<00:00,  9.98it/s]\n",
      "  1%|█                                                                                                                                                                   | 1/146 [00:00<00:19,  7.29it/s]"
     ]
    },
    {
     "name": "stdout",
     "output_type": "stream",
     "text": [
      "H:\\20220215-Export\\DecodeGroup_Fov-78.hdf5\n"
     ]
    },
    {
     "name": "stderr",
     "output_type": "stream",
     "text": [
      "100%|██████████████████████████████████████████████████████████████████████████████████████████████████████████████████████████████████████████████████████████████████| 146/146 [00:15<00:00,  9.51it/s]\n",
      "  1%|█▎                                                                                                                                                                  | 1/125 [00:00<00:13,  9.08it/s]"
     ]
    },
    {
     "name": "stdout",
     "output_type": "stream",
     "text": [
      "H:\\20220215-Export\\DecodeGroup_Fov-79.hdf5\n"
     ]
    },
    {
     "name": "stderr",
     "output_type": "stream",
     "text": [
      "100%|██████████████████████████████████████████████████████████████████████████████████████████████████████████████████████████████████████████████████████████████████| 125/125 [00:15<00:00,  8.25it/s]\n",
      "  1%|█▏                                                                                                                                                                  | 1/138 [00:00<00:16,  8.47it/s]"
     ]
    },
    {
     "name": "stdout",
     "output_type": "stream",
     "text": [
      "H:\\20220215-Export\\DecodeGroup_Fov-80.hdf5\n"
     ]
    },
    {
     "name": "stderr",
     "output_type": "stream",
     "text": [
      "100%|██████████████████████████████████████████████████████████████████████████████████████████████████████████████████████████████████████████████████████████████████| 138/138 [00:15<00:00,  9.12it/s]\n",
      "  0%|                                                                                                                                                                             | 0/14 [00:00<?, ?it/s]"
     ]
    },
    {
     "name": "stdout",
     "output_type": "stream",
     "text": [
      "H:\\20220215-Export\\DecodeGroup_Fov-81.hdf5\n"
     ]
    },
    {
     "name": "stderr",
     "output_type": "stream",
     "text": [
      "100%|████████████████████████████████████████████████████████████████████████████████████████████████████████████████████████████████████████████████████████████████████| 14/14 [00:01<00:00, 10.68it/s]\n",
      "  0%|                                                                                                                                                                             | 0/27 [00:00<?, ?it/s]"
     ]
    },
    {
     "name": "stdout",
     "output_type": "stream",
     "text": [
      "H:\\20220215-Export\\DecodeGroup_Fov-82.hdf5\n"
     ]
    },
    {
     "name": "stderr",
     "output_type": "stream",
     "text": [
      "100%|████████████████████████████████████████████████████████████████████████████████████████████████████████████████████████████████████████████████████████████████████| 27/27 [00:02<00:00, 11.51it/s]\n",
      "  0%|                                                                                                                                                                             | 0/24 [00:00<?, ?it/s]"
     ]
    },
    {
     "name": "stdout",
     "output_type": "stream",
     "text": [
      "H:\\20220215-Export\\DecodeGroup_Fov-83.hdf5\n"
     ]
    },
    {
     "name": "stderr",
     "output_type": "stream",
     "text": [
      "100%|████████████████████████████████████████████████████████████████████████████████████████████████████████████████████████████████████████████████████████████████████| 24/24 [00:02<00:00, 10.14it/s]\n",
      "  0%|                                                                                                                                                                             | 0/44 [00:00<?, ?it/s]"
     ]
    },
    {
     "name": "stdout",
     "output_type": "stream",
     "text": [
      "H:\\20220215-Export\\DecodeGroup_Fov-84.hdf5\n"
     ]
    },
    {
     "name": "stderr",
     "output_type": "stream",
     "text": [
      "100%|████████████████████████████████████████████████████████████████████████████████████████████████████████████████████████████████████████████████████████████████████| 44/44 [00:04<00:00,  8.82it/s]\n",
      "  4%|█████▉                                                                                                                                                               | 1/28 [00:00<00:02,  9.70it/s]"
     ]
    },
    {
     "name": "stdout",
     "output_type": "stream",
     "text": [
      "H:\\20220215-Export\\DecodeGroup_Fov-85.hdf5\n"
     ]
    },
    {
     "name": "stderr",
     "output_type": "stream",
     "text": [
      "100%|████████████████████████████████████████████████████████████████████████████████████████████████████████████████████████████████████████████████████████████████████| 28/28 [00:02<00:00, 10.50it/s]\n",
      " 11%|█████████████████▎                                                                                                                                                   | 2/19 [00:00<00:01, 16.51it/s]"
     ]
    },
    {
     "name": "stdout",
     "output_type": "stream",
     "text": [
      "H:\\20220215-Export\\DecodeGroup_Fov-86.hdf5\n"
     ]
    },
    {
     "name": "stderr",
     "output_type": "stream",
     "text": [
      "100%|████████████████████████████████████████████████████████████████████████████████████████████████████████████████████████████████████████████████████████████████████| 19/19 [00:02<00:00,  9.05it/s]\n",
      "100%|██████████████████████████████████████████████████████████████████████████████████████████████████████████████████████████████████████████████████████████████████████████████| 1/1 [00:00<?, ?it/s]\n",
      "  1%|█▎                                                                                                                                                                  | 1/126 [00:00<00:14,  8.54it/s]"
     ]
    },
    {
     "name": "stdout",
     "output_type": "stream",
     "text": [
      "H:\\20220215-Export\\DecodeGroup_Fov-87.hdf5\n",
      "H:\\20220215-Export\\DecodeGroup_Fov-88.hdf5\n"
     ]
    },
    {
     "name": "stderr",
     "output_type": "stream",
     "text": [
      "100%|██████████████████████████████████████████████████████████████████████████████████████████████████████████████████████████████████████████████████████████████████| 126/126 [01:33<00:00,  1.34it/s]\n",
      "  1%|█▍                                                                                                                                                                  | 1/114 [00:00<00:16,  6.84it/s]"
     ]
    },
    {
     "name": "stdout",
     "output_type": "stream",
     "text": [
      "H:\\20220215-Export\\DecodeGroup_Fov-89.hdf5\n"
     ]
    },
    {
     "name": "stderr",
     "output_type": "stream",
     "text": [
      "100%|██████████████████████████████████████████████████████████████████████████████████████████████████████████████████████████████████████████████████████████████████| 114/114 [00:13<00:00,  8.19it/s]\n",
      "  1%|█▋                                                                                                                                                                  | 1/100 [00:00<00:10,  9.08it/s]"
     ]
    },
    {
     "name": "stdout",
     "output_type": "stream",
     "text": [
      "H:\\20220215-Export\\DecodeGroup_Fov-90.hdf5\n"
     ]
    },
    {
     "name": "stderr",
     "output_type": "stream",
     "text": [
      "100%|██████████████████████████████████████████████████████████████████████████████████████████████████████████████████████████████████████████████████████████████████| 100/100 [00:12<00:00,  7.74it/s]\n",
      "  1%|█▋                                                                                                                                                                   | 1/97 [00:00<00:10,  9.34it/s]"
     ]
    },
    {
     "name": "stdout",
     "output_type": "stream",
     "text": [
      "H:\\20220215-Export\\DecodeGroup_Fov-91.hdf5\n"
     ]
    },
    {
     "name": "stderr",
     "output_type": "stream",
     "text": [
      "100%|████████████████████████████████████████████████████████████████████████████████████████████████████████████████████████████████████████████████████████████████████| 97/97 [00:11<00:00,  8.35it/s]\n",
      "  1%|█▌                                                                                                                                                                  | 1/103 [00:00<00:11,  8.61it/s]"
     ]
    },
    {
     "name": "stdout",
     "output_type": "stream",
     "text": [
      "H:\\20220215-Export\\DecodeGroup_Fov-92.hdf5\n"
     ]
    },
    {
     "name": "stderr",
     "output_type": "stream",
     "text": [
      "100%|██████████████████████████████████████████████████████████████████████████████████████████████████████████████████████████████████████████████████████████████████| 103/103 [00:09<00:00, 11.18it/s]\n",
      "  1%|█▊                                                                                                                                                                  | 2/179 [00:00<00:16, 10.69it/s]"
     ]
    },
    {
     "name": "stdout",
     "output_type": "stream",
     "text": [
      "H:\\20220215-Export\\DecodeGroup_Fov-93.hdf5\n"
     ]
    },
    {
     "name": "stderr",
     "output_type": "stream",
     "text": [
      "100%|██████████████████████████████████████████████████████████████████████████████████████████████████████████████████████████████████████████████████████████████████| 179/179 [00:17<00:00,  9.96it/s]\n",
      "  1%|█▋                                                                                                                                                                  | 2/192 [00:00<00:16, 11.76it/s]"
     ]
    },
    {
     "name": "stdout",
     "output_type": "stream",
     "text": [
      "H:\\20220215-Export\\DecodeGroup_Fov-94.hdf5\n"
     ]
    },
    {
     "name": "stderr",
     "output_type": "stream",
     "text": [
      "100%|██████████████████████████████████████████████████████████████████████████████████████████████████████████████████████████████████████████████████████████████████| 192/192 [00:16<00:00, 11.79it/s]\n",
      "  0%|                                                                                                                                                                            | 0/194 [00:00<?, ?it/s]"
     ]
    },
    {
     "name": "stdout",
     "output_type": "stream",
     "text": [
      "H:\\20220215-Export\\DecodeGroup_Fov-95.hdf5\n"
     ]
    },
    {
     "name": "stderr",
     "output_type": "stream",
     "text": [
      "100%|██████████████████████████████████████████████████████████████████████████████████████████████████████████████████████████████████████████████████████████████████| 194/194 [00:17<00:00, 11.37it/s]\n",
      "  1%|▊                                                                                                                                                                   | 1/196 [00:00<00:19,  9.80it/s]"
     ]
    },
    {
     "name": "stdout",
     "output_type": "stream",
     "text": [
      "H:\\20220215-Export\\DecodeGroup_Fov-96.hdf5\n"
     ]
    },
    {
     "name": "stderr",
     "output_type": "stream",
     "text": [
      " 54%|███████████████████████████████████████████████████████████████████████████████████████▌                                                                          | 106/196 [00:07<00:03, 25.12it/s]E:\\Users\\puzheng\\AppData\\anaconda3\\lib\\site-packages\\tables\\path.py:155: NaturalNameWarning: object name is not a valid Python identifier: 'Cell-195'; it does not match the pattern ``^[a-zA-Z_][a-zA-Z0-9_]*$``; you will not be able to use natural naming to access this object; using ``getattr()`` will still work, though\n",
      "  check_attribute_name(name)\n",
      "100%|██████████████████████████████████████████████████████████████████████████████████████████████████████████████████████████████████████████████████████████████████| 196/196 [00:17<00:00, 11.03it/s]\n",
      "  0%|                                                                                                                                                                            | 0/184 [00:00<?, ?it/s]"
     ]
    },
    {
     "name": "stdout",
     "output_type": "stream",
     "text": [
      "H:\\20220215-Export\\DecodeGroup_Fov-97.hdf5\n"
     ]
    },
    {
     "name": "stderr",
     "output_type": "stream",
     "text": [
      "100%|██████████████████████████████████████████████████████████████████████████████████████████████████████████████████████████████████████████████████████████████████| 184/184 [00:16<00:00, 10.90it/s]\n",
      "  0%|                                                                                                                                                                            | 0/180 [00:00<?, ?it/s]"
     ]
    },
    {
     "name": "stdout",
     "output_type": "stream",
     "text": [
      "H:\\20220215-Export\\DecodeGroup_Fov-98.hdf5\n"
     ]
    },
    {
     "name": "stderr",
     "output_type": "stream",
     "text": [
      "100%|██████████████████████████████████████████████████████████████████████████████████████████████████████████████████████████████████████████████████████████████████| 180/180 [00:18<00:00,  9.88it/s]\n",
      "  0%|                                                                                                                                                                            | 0/153 [00:00<?, ?it/s]"
     ]
    },
    {
     "name": "stdout",
     "output_type": "stream",
     "text": [
      "H:\\20220215-Export\\DecodeGroup_Fov-99.hdf5\n"
     ]
    },
    {
     "name": "stderr",
     "output_type": "stream",
     "text": [
      "100%|██████████████████████████████████████████████████████████████████████████████████████████████████████████████████████████████████████████████████████████████████| 153/153 [00:14<00:00, 10.86it/s]\n",
      "  1%|██                                                                                                                                                                  | 2/164 [00:00<00:14, 11.49it/s]"
     ]
    },
    {
     "name": "stdout",
     "output_type": "stream",
     "text": [
      "H:\\20220215-Export\\DecodeGroup_Fov-100.hdf5\n"
     ]
    },
    {
     "name": "stderr",
     "output_type": "stream",
     "text": [
      "100%|██████████████████████████████████████████████████████████████████████████████████████████████████████████████████████████████████████████████████████████████████| 164/164 [00:12<00:00, 12.70it/s]\n",
      "  2%|██▊                                                                                                                                                                 | 2/117 [00:00<00:10, 10.98it/s]"
     ]
    },
    {
     "name": "stdout",
     "output_type": "stream",
     "text": [
      "H:\\20220215-Export\\DecodeGroup_Fov-101.hdf5\n"
     ]
    },
    {
     "name": "stderr",
     "output_type": "stream",
     "text": [
      "100%|██████████████████████████████████████████████████████████████████████████████████████████████████████████████████████████████████████████████████████████████████| 117/117 [00:10<00:00, 11.28it/s]\n",
      "  0%|                                                                                                                                                                            | 0/123 [00:00<?, ?it/s]"
     ]
    },
    {
     "name": "stdout",
     "output_type": "stream",
     "text": [
      "H:\\20220215-Export\\DecodeGroup_Fov-102.hdf5\n"
     ]
    },
    {
     "name": "stderr",
     "output_type": "stream",
     "text": [
      "100%|██████████████████████████████████████████████████████████████████████████████████████████████████████████████████████████████████████████████████████████████████| 123/123 [00:10<00:00, 12.05it/s]\n",
      "  0%|                                                                                                                                                                            | 0/107 [00:00<?, ?it/s]"
     ]
    },
    {
     "name": "stdout",
     "output_type": "stream",
     "text": [
      "H:\\20220215-Export\\DecodeGroup_Fov-103.hdf5\n"
     ]
    },
    {
     "name": "stderr",
     "output_type": "stream",
     "text": [
      "100%|██████████████████████████████████████████████████████████████████████████████████████████████████████████████████████████████████████████████████████████████████| 107/107 [00:09<00:00, 11.43it/s]\n",
      "  1%|██                                                                                                                                                                  | 2/161 [00:00<00:14, 10.86it/s]"
     ]
    },
    {
     "name": "stdout",
     "output_type": "stream",
     "text": [
      "H:\\20220215-Export\\DecodeGroup_Fov-104.hdf5\n"
     ]
    },
    {
     "name": "stderr",
     "output_type": "stream",
     "text": [
      "100%|██████████████████████████████████████████████████████████████████████████████████████████████████████████████████████████████████████████████████████████████████| 161/161 [00:14<00:00, 10.80it/s]\n",
      "  1%|██▏                                                                                                                                                                 | 2/148 [00:00<00:12, 11.62it/s]"
     ]
    },
    {
     "name": "stdout",
     "output_type": "stream",
     "text": [
      "H:\\20220215-Export\\DecodeGroup_Fov-105.hdf5\n"
     ]
    },
    {
     "name": "stderr",
     "output_type": "stream",
     "text": [
      "100%|██████████████████████████████████████████████████████████████████████████████████████████████████████████████████████████████████████████████████████████████████| 148/148 [00:13<00:00, 10.83it/s]\n",
      "  1%|█▎                                                                                                                                                                  | 1/121 [00:00<00:12,  9.61it/s]"
     ]
    },
    {
     "name": "stdout",
     "output_type": "stream",
     "text": [
      "H:\\20220215-Export\\DecodeGroup_Fov-106.hdf5\n"
     ]
    },
    {
     "name": "stderr",
     "output_type": "stream",
     "text": [
      "100%|██████████████████████████████████████████████████████████████████████████████████████████████████████████████████████████████████████████████████████████████████| 121/121 [00:10<00:00, 11.56it/s]\n",
      "  0%|                                                                                                                                                                            | 0/124 [00:00<?, ?it/s]"
     ]
    },
    {
     "name": "stdout",
     "output_type": "stream",
     "text": [
      "H:\\20220215-Export\\DecodeGroup_Fov-107.hdf5\n"
     ]
    },
    {
     "name": "stderr",
     "output_type": "stream",
     "text": [
      "100%|██████████████████████████████████████████████████████████████████████████████████████████████████████████████████████████████████████████████████████████████████| 124/124 [00:11<00:00, 11.24it/s]\n",
      "  0%|                                                                                                                                                                            | 0/169 [00:00<?, ?it/s]"
     ]
    },
    {
     "name": "stdout",
     "output_type": "stream",
     "text": [
      "H:\\20220215-Export\\DecodeGroup_Fov-108.hdf5\n"
     ]
    },
    {
     "name": "stderr",
     "output_type": "stream",
     "text": [
      "100%|██████████████████████████████████████████████████████████████████████████████████████████████████████████████████████████████████████████████████████████████████| 169/169 [00:15<00:00, 11.24it/s]\n",
      "  0%|                                                                                                                                                                            | 0/181 [00:00<?, ?it/s]"
     ]
    },
    {
     "name": "stdout",
     "output_type": "stream",
     "text": [
      "H:\\20220215-Export\\DecodeGroup_Fov-109.hdf5\n"
     ]
    },
    {
     "name": "stderr",
     "output_type": "stream",
     "text": [
      "100%|██████████████████████████████████████████████████████████████████████████████████████████████████████████████████████████████████████████████████████████████████| 181/181 [00:17<00:00, 10.42it/s]\n",
      "  0%|                                                                                                                                                                            | 0/178 [00:00<?, ?it/s]"
     ]
    },
    {
     "name": "stdout",
     "output_type": "stream",
     "text": [
      "H:\\20220215-Export\\DecodeGroup_Fov-110.hdf5\n"
     ]
    },
    {
     "name": "stderr",
     "output_type": "stream",
     "text": [
      "100%|██████████████████████████████████████████████████████████████████████████████████████████████████████████████████████████████████████████████████████████████████| 178/178 [00:17<00:00, 10.11it/s]\n",
      "  0%|                                                                                                                                                                            | 0/200 [00:00<?, ?it/s]"
     ]
    },
    {
     "name": "stdout",
     "output_type": "stream",
     "text": [
      "H:\\20220215-Export\\DecodeGroup_Fov-111.hdf5\n"
     ]
    },
    {
     "name": "stderr",
     "output_type": "stream",
     "text": [
      "100%|██████████████████████████████████████████████████████████████████████████████████████████████████████████████████████████████████████████████████████████████████| 200/200 [00:18<00:00, 10.57it/s]\n",
      "  1%|██▎                                                                                                                                                                 | 2/143 [00:00<00:12, 11.29it/s]"
     ]
    },
    {
     "name": "stdout",
     "output_type": "stream",
     "text": [
      "H:\\20220215-Export\\DecodeGroup_Fov-112.hdf5\n"
     ]
    },
    {
     "name": "stderr",
     "output_type": "stream",
     "text": [
      "100%|██████████████████████████████████████████████████████████████████████████████████████████████████████████████████████████████████████████████████████████████████| 143/143 [00:13<00:00, 10.29it/s]\n",
      "  1%|██▏                                                                                                                                                                 | 2/150 [00:00<00:13, 10.57it/s]"
     ]
    },
    {
     "name": "stdout",
     "output_type": "stream",
     "text": [
      "H:\\20220215-Export\\DecodeGroup_Fov-113.hdf5\n"
     ]
    },
    {
     "name": "stderr",
     "output_type": "stream",
     "text": [
      "100%|██████████████████████████████████████████████████████████████████████████████████████████████████████████████████████████████████████████████████████████████████| 150/150 [00:19<00:00,  7.59it/s]\n",
      "  1%|▊                                                                                                                                                                   | 1/191 [00:00<00:23,  7.93it/s]"
     ]
    },
    {
     "name": "stdout",
     "output_type": "stream",
     "text": [
      "H:\\20220215-Export\\DecodeGroup_Fov-114.hdf5\n"
     ]
    },
    {
     "name": "stderr",
     "output_type": "stream",
     "text": [
      "100%|██████████████████████████████████████████████████████████████████████████████████████████████████████████████████████████████████████████████████████████████████| 191/191 [00:25<00:00,  7.45it/s]\n",
      "  0%|▊                                                                                                                                                                   | 1/204 [00:00<00:23,  8.54it/s]"
     ]
    },
    {
     "name": "stdout",
     "output_type": "stream",
     "text": [
      "H:\\20220215-Export\\DecodeGroup_Fov-115.hdf5\n"
     ]
    },
    {
     "name": "stderr",
     "output_type": "stream",
     "text": [
      "100%|██████████████████████████████████████████████████████████████████████████████████████████████████████████████████████████████████████████████████████████████████| 204/204 [00:26<00:00,  7.68it/s]\n",
      "  1%|▉                                                                                                                                                                   | 1/178 [00:00<00:18,  9.34it/s]"
     ]
    },
    {
     "name": "stdout",
     "output_type": "stream",
     "text": [
      "H:\\20220215-Export\\DecodeGroup_Fov-116.hdf5\n"
     ]
    },
    {
     "name": "stderr",
     "output_type": "stream",
     "text": [
      "100%|██████████████████████████████████████████████████████████████████████████████████████████████████████████████████████████████████████████████████████████████████| 178/178 [00:16<00:00, 10.51it/s]\n",
      "  1%|█▌                                                                                                                                                                  | 2/208 [00:00<00:20, 10.25it/s]"
     ]
    },
    {
     "name": "stdout",
     "output_type": "stream",
     "text": [
      "H:\\20220215-Export\\DecodeGroup_Fov-117.hdf5\n"
     ]
    },
    {
     "name": "stderr",
     "output_type": "stream",
     "text": [
      " 55%|█████████████████████████████████████████████████████████████████████████████████████████▌                                                                        | 115/208 [00:09<00:04, 20.90it/s]E:\\Users\\puzheng\\AppData\\anaconda3\\lib\\site-packages\\tables\\path.py:155: NaturalNameWarning: object name is not a valid Python identifier: 'Cell-202'; it does not match the pattern ``^[a-zA-Z_][a-zA-Z0-9_]*$``; you will not be able to use natural naming to access this object; using ``getattr()`` will still work, though\n",
      "  check_attribute_name(name)\n",
      "100%|██████████████████████████████████████████████████████████████████████████████████████████████████████████████████████████████████████████████████████████████████| 208/208 [00:20<00:00,  9.93it/s]\n",
      "  0%|                                                                                                                                                                            | 0/189 [00:00<?, ?it/s]"
     ]
    },
    {
     "name": "stdout",
     "output_type": "stream",
     "text": [
      "H:\\20220215-Export\\DecodeGroup_Fov-118.hdf5\n"
     ]
    },
    {
     "name": "stderr",
     "output_type": "stream",
     "text": [
      "100%|██████████████████████████████████████████████████████████████████████████████████████████████████████████████████████████████████████████████████████████████████| 189/189 [00:19<00:00,  9.71it/s]\n",
      "  1%|██▏                                                                                                                                                                 | 2/152 [00:00<00:14, 10.63it/s]"
     ]
    },
    {
     "name": "stdout",
     "output_type": "stream",
     "text": [
      "H:\\20220215-Export\\DecodeGroup_Fov-119.hdf5\n"
     ]
    },
    {
     "name": "stderr",
     "output_type": "stream",
     "text": [
      "100%|██████████████████████████████████████████████████████████████████████████████████████████████████████████████████████████████████████████████████████████████████| 152/152 [00:15<00:00,  9.84it/s]\n",
      "  1%|█                                                                                                                                                                   | 1/151 [00:00<00:15,  9.99it/s]"
     ]
    },
    {
     "name": "stdout",
     "output_type": "stream",
     "text": [
      "H:\\20220215-Export\\DecodeGroup_Fov-120.hdf5\n"
     ]
    },
    {
     "name": "stderr",
     "output_type": "stream",
     "text": [
      "100%|██████████████████████████████████████████████████████████████████████████████████████████████████████████████████████████████████████████████████████████████████| 151/151 [00:14<00:00, 10.23it/s]\n",
      "  0%|                                                                                                                                                                            | 0/123 [00:00<?, ?it/s]"
     ]
    },
    {
     "name": "stdout",
     "output_type": "stream",
     "text": [
      "H:\\20220215-Export\\DecodeGroup_Fov-121.hdf5\n"
     ]
    },
    {
     "name": "stderr",
     "output_type": "stream",
     "text": [
      "100%|██████████████████████████████████████████████████████████████████████████████████████████████████████████████████████████████████████████████████████████████████| 123/123 [00:11<00:00, 10.77it/s]\n",
      "  0%|                                                                                                                                                                            | 0/142 [00:00<?, ?it/s]"
     ]
    },
    {
     "name": "stdout",
     "output_type": "stream",
     "text": [
      "H:\\20220215-Export\\DecodeGroup_Fov-122.hdf5\n"
     ]
    },
    {
     "name": "stderr",
     "output_type": "stream",
     "text": [
      "100%|██████████████████████████████████████████████████████████████████████████████████████████████████████████████████████████████████████████████████████████████████| 142/142 [00:14<00:00,  9.87it/s]\n",
      "  1%|▉                                                                                                                                                                   | 1/178 [00:00<00:18,  9.34it/s]"
     ]
    },
    {
     "name": "stdout",
     "output_type": "stream",
     "text": [
      "H:\\20220215-Export\\DecodeGroup_Fov-123.hdf5\n"
     ]
    },
    {
     "name": "stderr",
     "output_type": "stream",
     "text": [
      "100%|██████████████████████████████████████████████████████████████████████████████████████████████████████████████████████████████████████████████████████████████████| 178/178 [00:20<00:00,  8.74it/s]\n",
      "  0%|                                                                                                                                                                            | 0/145 [00:00<?, ?it/s]"
     ]
    },
    {
     "name": "stdout",
     "output_type": "stream",
     "text": [
      "H:\\20220215-Export\\DecodeGroup_Fov-124.hdf5\n"
     ]
    },
    {
     "name": "stderr",
     "output_type": "stream",
     "text": [
      "100%|██████████████████████████████████████████████████████████████████████████████████████████████████████████████████████████████████████████████████████████████████| 145/145 [00:15<00:00,  9.14it/s]\n",
      "  1%|██▏                                                                                                                                                                 | 2/152 [00:00<00:13, 10.75it/s]"
     ]
    },
    {
     "name": "stdout",
     "output_type": "stream",
     "text": [
      "H:\\20220215-Export\\DecodeGroup_Fov-125.hdf5\n"
     ]
    },
    {
     "name": "stderr",
     "output_type": "stream",
     "text": [
      "100%|██████████████████████████████████████████████████████████████████████████████████████████████████████████████████████████████████████████████████████████████████| 152/152 [00:17<00:00,  8.82it/s]\n",
      "  0%|                                                                                                                                                                            | 0/206 [00:00<?, ?it/s]"
     ]
    },
    {
     "name": "stdout",
     "output_type": "stream",
     "text": [
      "H:\\20220215-Export\\DecodeGroup_Fov-126.hdf5\n"
     ]
    },
    {
     "name": "stderr",
     "output_type": "stream",
     "text": [
      "100%|██████████████████████████████████████████████████████████████████████████████████████████████████████████████████████████████████████████████████████████████████| 206/206 [00:25<00:00,  8.00it/s]\n",
      " 20%|█████████████████████████████████                                                                                                                                    | 2/10 [00:00<00:00, 11.90it/s]"
     ]
    },
    {
     "name": "stdout",
     "output_type": "stream",
     "text": [
      "H:\\20220215-Export\\DecodeGroup_Fov-127.hdf5\n"
     ]
    },
    {
     "name": "stderr",
     "output_type": "stream",
     "text": [
      "100%|████████████████████████████████████████████████████████████████████████████████████████████████████████████████████████████████████████████████████████████████████| 10/10 [00:00<00:00, 16.33it/s]\n",
      " 12%|████████████████████▋                                                                                                                                                | 2/16 [00:00<00:01, 12.33it/s]"
     ]
    },
    {
     "name": "stdout",
     "output_type": "stream",
     "text": [
      "H:\\20220215-Export\\DecodeGroup_Fov-128.hdf5\n"
     ]
    },
    {
     "name": "stderr",
     "output_type": "stream",
     "text": [
      "100%|████████████████████████████████████████████████████████████████████████████████████████████████████████████████████████████████████████████████████████████████████| 16/16 [00:01<00:00, 10.21it/s]\n",
      " 10%|████████████████▌                                                                                                                                                    | 2/20 [00:00<00:01, 11.55it/s]"
     ]
    },
    {
     "name": "stdout",
     "output_type": "stream",
     "text": [
      "H:\\20220215-Export\\DecodeGroup_Fov-129.hdf5\n"
     ]
    },
    {
     "name": "stderr",
     "output_type": "stream",
     "text": [
      "100%|████████████████████████████████████████████████████████████████████████████████████████████████████████████████████████████████████████████████████████████████████| 20/20 [00:01<00:00, 11.19it/s]\n",
      " 25%|█████████████████████████████████████████▌                                                                                                                            | 1/4 [00:00<00:00,  8.06it/s]"
     ]
    },
    {
     "name": "stdout",
     "output_type": "stream",
     "text": [
      "H:\\20220215-Export\\DecodeGroup_Fov-130.hdf5\n"
     ]
    },
    {
     "name": "stderr",
     "output_type": "stream",
     "text": [
      "100%|██████████████████████████████████████████████████████████████████████████████████████████████████████████████████████████████████████████████████████████████████████| 4/4 [00:00<00:00, 14.12it/s]\n",
      "  2%|███▌                                                                                                                                                                 | 2/93 [00:00<00:08, 11.29it/s]"
     ]
    },
    {
     "name": "stdout",
     "output_type": "stream",
     "text": [
      "H:\\20220215-Export\\DecodeGroup_Fov-131.hdf5\n"
     ]
    },
    {
     "name": "stderr",
     "output_type": "stream",
     "text": [
      "100%|████████████████████████████████████████████████████████████████████████████████████████████████████████████████████████████████████████████████████████████████████| 93/93 [00:08<00:00, 10.79it/s]\n",
      "  0%|                                                                                                                                                                            | 0/143 [00:00<?, ?it/s]"
     ]
    },
    {
     "name": "stdout",
     "output_type": "stream",
     "text": [
      "H:\\20220215-Export\\DecodeGroup_Fov-132.hdf5\n"
     ]
    },
    {
     "name": "stderr",
     "output_type": "stream",
     "text": [
      "100%|██████████████████████████████████████████████████████████████████████████████████████████████████████████████████████████████████████████████████████████████████| 143/143 [00:14<00:00,  9.69it/s]\n",
      "  1%|██▏                                                                                                                                                                 | 2/151 [00:00<00:13, 11.36it/s]"
     ]
    },
    {
     "name": "stdout",
     "output_type": "stream",
     "text": [
      "H:\\20220215-Export\\DecodeGroup_Fov-133.hdf5\n"
     ]
    },
    {
     "name": "stderr",
     "output_type": "stream",
     "text": [
      "100%|██████████████████████████████████████████████████████████████████████████████████████████████████████████████████████████████████████████████████████████████████| 151/151 [00:13<00:00, 11.00it/s]\n",
      "  0%|                                                                                                                                                                            | 0/130 [00:00<?, ?it/s]"
     ]
    },
    {
     "name": "stdout",
     "output_type": "stream",
     "text": [
      "H:\\20220215-Export\\DecodeGroup_Fov-134.hdf5\n"
     ]
    },
    {
     "name": "stderr",
     "output_type": "stream",
     "text": [
      "100%|██████████████████████████████████████████████████████████████████████████████████████████████████████████████████████████████████████████████████████████████████| 130/130 [00:10<00:00, 11.96it/s]\n",
      "  0%|                                                                                                                                                                            | 0/136 [00:00<?, ?it/s]"
     ]
    },
    {
     "name": "stdout",
     "output_type": "stream",
     "text": [
      "H:\\20220215-Export\\DecodeGroup_Fov-135.hdf5\n"
     ]
    },
    {
     "name": "stderr",
     "output_type": "stream",
     "text": [
      "100%|██████████████████████████████████████████████████████████████████████████████████████████████████████████████████████████████████████████████████████████████████| 136/136 [00:12<00:00, 10.83it/s]\n",
      "  1%|█▍                                                                                                                                                                  | 1/112 [00:00<00:13,  8.26it/s]"
     ]
    },
    {
     "name": "stdout",
     "output_type": "stream",
     "text": [
      "H:\\20220215-Export\\DecodeGroup_Fov-136.hdf5\n"
     ]
    },
    {
     "name": "stderr",
     "output_type": "stream",
     "text": [
      "100%|██████████████████████████████████████████████████████████████████████████████████████████████████████████████████████████████████████████████████████████████████| 112/112 [00:15<00:00,  7.37it/s]\n",
      "  1%|█                                                                                                                                                                   | 1/159 [00:00<00:18,  8.77it/s]"
     ]
    },
    {
     "name": "stdout",
     "output_type": "stream",
     "text": [
      "H:\\20220215-Export\\DecodeGroup_Fov-137.hdf5\n"
     ]
    },
    {
     "name": "stderr",
     "output_type": "stream",
     "text": [
      "100%|██████████████████████████████████████████████████████████████████████████████████████████████████████████████████████████████████████████████████████████████████| 159/159 [00:20<00:00,  7.84it/s]\n",
      "  1%|▉                                                                                                                                                                   | 1/182 [00:00<00:19,  9.25it/s]"
     ]
    },
    {
     "name": "stdout",
     "output_type": "stream",
     "text": [
      "H:\\20220215-Export\\DecodeGroup_Fov-138.hdf5\n"
     ]
    },
    {
     "name": "stderr",
     "output_type": "stream",
     "text": [
      "100%|██████████████████████████████████████████████████████████████████████████████████████████████████████████████████████████████████████████████████████████████████| 182/182 [00:18<00:00, 10.04it/s]\n",
      "  0%|                                                                                                                                                                            | 0/188 [00:00<?, ?it/s]"
     ]
    },
    {
     "name": "stdout",
     "output_type": "stream",
     "text": [
      "H:\\20220215-Export\\DecodeGroup_Fov-139.hdf5\n"
     ]
    },
    {
     "name": "stderr",
     "output_type": "stream",
     "text": [
      "100%|██████████████████████████████████████████████████████████████████████████████████████████████████████████████████████████████████████████████████████████████████| 188/188 [00:18<00:00, 10.39it/s]\n",
      "  1%|█▉                                                                                                                                                                  | 2/166 [00:00<00:15, 10.63it/s]"
     ]
    },
    {
     "name": "stdout",
     "output_type": "stream",
     "text": [
      "H:\\20220215-Export\\DecodeGroup_Fov-140.hdf5\n"
     ]
    },
    {
     "name": "stderr",
     "output_type": "stream",
     "text": [
      "100%|██████████████████████████████████████████████████████████████████████████████████████████████████████████████████████████████████████████████████████████████████| 166/166 [00:16<00:00, 10.28it/s]\n",
      "  0%|                                                                                                                                                                            | 0/155 [00:00<?, ?it/s]"
     ]
    },
    {
     "name": "stdout",
     "output_type": "stream",
     "text": [
      "H:\\20220215-Export\\DecodeGroup_Fov-141.hdf5\n"
     ]
    },
    {
     "name": "stderr",
     "output_type": "stream",
     "text": [
      "100%|██████████████████████████████████████████████████████████████████████████████████████████████████████████████████████████████████████████████████████████████████| 155/155 [00:15<00:00, 10.16it/s]\n",
      "  0%|                                                                                                                                                                            | 0/150 [00:00<?, ?it/s]"
     ]
    },
    {
     "name": "stdout",
     "output_type": "stream",
     "text": [
      "H:\\20220215-Export\\DecodeGroup_Fov-142.hdf5\n"
     ]
    },
    {
     "name": "stderr",
     "output_type": "stream",
     "text": [
      "100%|██████████████████████████████████████████████████████████████████████████████████████████████████████████████████████████████████████████████████████████████████| 150/150 [00:14<00:00, 10.15it/s]\n",
      "  2%|██▍                                                                                                                                                                 | 2/132 [00:00<00:11, 11.55it/s]"
     ]
    },
    {
     "name": "stdout",
     "output_type": "stream",
     "text": [
      "H:\\20220215-Export\\DecodeGroup_Fov-143.hdf5\n"
     ]
    },
    {
     "name": "stderr",
     "output_type": "stream",
     "text": [
      "100%|██████████████████████████████████████████████████████████████████████████████████████████████████████████████████████████████████████████████████████████████████| 132/132 [00:11<00:00, 11.62it/s]\n",
      "  0%|                                                                                                                                                                            | 0/142 [00:00<?, ?it/s]"
     ]
    },
    {
     "name": "stdout",
     "output_type": "stream",
     "text": [
      "H:\\20220215-Export\\DecodeGroup_Fov-144.hdf5\n"
     ]
    },
    {
     "name": "stderr",
     "output_type": "stream",
     "text": [
      "100%|██████████████████████████████████████████████████████████████████████████████████████████████████████████████████████████████████████████████████████████████████| 142/142 [00:12<00:00, 11.19it/s]\n",
      "  2%|██▌                                                                                                                                                                 | 2/125 [00:00<00:11, 10.80it/s]"
     ]
    },
    {
     "name": "stdout",
     "output_type": "stream",
     "text": [
      "H:\\20220215-Export\\DecodeGroup_Fov-145.hdf5\n"
     ]
    },
    {
     "name": "stderr",
     "output_type": "stream",
     "text": [
      "100%|██████████████████████████████████████████████████████████████████████████████████████████████████████████████████████████████████████████████████████████████████| 125/125 [00:12<00:00, 10.36it/s]\n",
      "  0%|                                                                                                                                                                            | 0/162 [00:00<?, ?it/s]"
     ]
    },
    {
     "name": "stdout",
     "output_type": "stream",
     "text": [
      "H:\\20220215-Export\\DecodeGroup_Fov-146.hdf5\n"
     ]
    },
    {
     "name": "stderr",
     "output_type": "stream",
     "text": [
      "100%|██████████████████████████████████████████████████████████████████████████████████████████████████████████████████████████████████████████████████████████████████| 162/162 [00:15<00:00, 10.13it/s]\n",
      "  1%|█▍                                                                                                                                                                  | 1/117 [00:00<00:11,  9.70it/s]"
     ]
    },
    {
     "name": "stdout",
     "output_type": "stream",
     "text": [
      "H:\\20220215-Export\\DecodeGroup_Fov-147.hdf5\n"
     ]
    },
    {
     "name": "stderr",
     "output_type": "stream",
     "text": [
      "100%|██████████████████████████████████████████████████████████████████████████████████████████████████████████████████████████████████████████████████████████████████| 117/117 [00:11<00:00,  9.97it/s]\n",
      "  2%|██▋                                                                                                                                                                 | 2/124 [00:00<00:11, 10.46it/s]"
     ]
    },
    {
     "name": "stdout",
     "output_type": "stream",
     "text": [
      "H:\\20220215-Export\\DecodeGroup_Fov-148.hdf5\n"
     ]
    },
    {
     "name": "stderr",
     "output_type": "stream",
     "text": [
      "100%|██████████████████████████████████████████████████████████████████████████████████████████████████████████████████████████████████████████████████████████████████| 124/124 [00:13<00:00,  9.03it/s]\n",
      "  1%|█▎                                                                                                                                                                  | 1/125 [00:00<00:14,  8.47it/s]"
     ]
    },
    {
     "name": "stdout",
     "output_type": "stream",
     "text": [
      "H:\\20220215-Export\\DecodeGroup_Fov-149.hdf5\n"
     ]
    },
    {
     "name": "stderr",
     "output_type": "stream",
     "text": [
      "100%|██████████████████████████████████████████████████████████████████████████████████████████████████████████████████████████████████████████████████████████████████| 125/125 [00:15<00:00,  8.09it/s]\n",
      "  1%|█▎                                                                                                                                                                  | 1/122 [00:00<00:15,  7.93it/s]"
     ]
    },
    {
     "name": "stdout",
     "output_type": "stream",
     "text": [
      "H:\\20220215-Export\\DecodeGroup_Fov-150.hdf5\n"
     ]
    },
    {
     "name": "stderr",
     "output_type": "stream",
     "text": [
      "100%|██████████████████████████████████████████████████████████████████████████████████████████████████████████████████████████████████████████████████████████████████| 122/122 [00:15<00:00,  7.97it/s]\n",
      "  1%|█▏                                                                                                                                                                  | 1/132 [00:00<00:15,  8.33it/s]"
     ]
    },
    {
     "name": "stdout",
     "output_type": "stream",
     "text": [
      "H:\\20220215-Export\\DecodeGroup_Fov-151.hdf5\n"
     ]
    },
    {
     "name": "stderr",
     "output_type": "stream",
     "text": [
      "100%|██████████████████████████████████████████████████████████████████████████████████████████████████████████████████████████████████████████████████████████████████| 132/132 [00:18<00:00,  7.23it/s]\n",
      "  1%|█                                                                                                                                                                   | 1/161 [00:00<00:18,  8.54it/s]"
     ]
    },
    {
     "name": "stdout",
     "output_type": "stream",
     "text": [
      "H:\\20220215-Export\\DecodeGroup_Fov-152.hdf5\n"
     ]
    },
    {
     "name": "stderr",
     "output_type": "stream",
     "text": [
      "100%|██████████████████████████████████████████████████████████████████████████████████████████████████████████████████████████████████████████████████████████████████| 161/161 [00:22<00:00,  7.07it/s]\n",
      "  1%|█                                                                                                                                                                   | 1/160 [00:00<00:19,  8.19it/s]"
     ]
    },
    {
     "name": "stdout",
     "output_type": "stream",
     "text": [
      "H:\\20220215-Export\\DecodeGroup_Fov-153.hdf5\n"
     ]
    },
    {
     "name": "stderr",
     "output_type": "stream",
     "text": [
      "100%|██████████████████████████████████████████████████████████████████████████████████████████████████████████████████████████████████████████████████████████████████| 160/160 [00:22<00:00,  7.12it/s]\n",
      "  1%|█▏                                                                                                                                                                  | 1/134 [00:00<00:15,  8.33it/s]"
     ]
    },
    {
     "name": "stdout",
     "output_type": "stream",
     "text": [
      "H:\\20220215-Export\\DecodeGroup_Fov-154.hdf5\n"
     ]
    },
    {
     "name": "stderr",
     "output_type": "stream",
     "text": [
      "100%|██████████████████████████████████████████████████████████████████████████████████████████████████████████████████████████████████████████████████████████████████| 134/134 [00:18<00:00,  7.18it/s]\n",
      "  1%|▉                                                                                                                                                                   | 1/169 [00:00<00:21,  7.75it/s]"
     ]
    },
    {
     "name": "stdout",
     "output_type": "stream",
     "text": [
      "H:\\20220215-Export\\DecodeGroup_Fov-155.hdf5\n"
     ]
    },
    {
     "name": "stderr",
     "output_type": "stream",
     "text": [
      "100%|██████████████████████████████████████████████████████████████████████████████████████████████████████████████████████████████████████████████████████████████████| 169/169 [00:35<00:00,  4.73it/s]\n",
      "  1%|▉                                                                                                                                                                   | 1/176 [00:00<00:17,  9.99it/s]"
     ]
    },
    {
     "name": "stdout",
     "output_type": "stream",
     "text": [
      "H:\\20220215-Export\\DecodeGroup_Fov-156.hdf5\n"
     ]
    },
    {
     "name": "stderr",
     "output_type": "stream",
     "text": [
      "100%|██████████████████████████████████████████████████████████████████████████████████████████████████████████████████████████████████████████████████████████████████| 176/176 [00:23<00:00,  7.50it/s]\n",
      "  1%|▉                                                                                                                                                                   | 1/181 [00:00<00:20,  8.61it/s]"
     ]
    },
    {
     "name": "stdout",
     "output_type": "stream",
     "text": [
      "H:\\20220215-Export\\DecodeGroup_Fov-157.hdf5\n"
     ]
    },
    {
     "name": "stderr",
     "output_type": "stream",
     "text": [
      "100%|██████████████████████████████████████████████████████████████████████████████████████████████████████████████████████████████████████████████████████████████████| 181/181 [00:23<00:00,  7.65it/s]\n",
      "  1%|█                                                                                                                                                                   | 1/147 [00:00<00:17,  8.33it/s]"
     ]
    },
    {
     "name": "stdout",
     "output_type": "stream",
     "text": [
      "H:\\20220215-Export\\DecodeGroup_Fov-158.hdf5\n"
     ]
    },
    {
     "name": "stderr",
     "output_type": "stream",
     "text": [
      "100%|██████████████████████████████████████████████████████████████████████████████████████████████████████████████████████████████████████████████████████████████████| 147/147 [00:17<00:00,  8.62it/s]\n",
      "  1%|█▎                                                                                                                                                                  | 1/128 [00:00<00:14,  8.62it/s]"
     ]
    },
    {
     "name": "stdout",
     "output_type": "stream",
     "text": [
      "H:\\20220215-Export\\DecodeGroup_Fov-159.hdf5\n"
     ]
    },
    {
     "name": "stderr",
     "output_type": "stream",
     "text": [
      "100%|██████████████████████████████████████████████████████████████████████████████████████████████████████████████████████████████████████████████████████████████████| 128/128 [00:13<00:00,  9.15it/s]\n",
      "  1%|█                                                                                                                                                                   | 1/154 [00:00<00:17,  8.84it/s]"
     ]
    },
    {
     "name": "stdout",
     "output_type": "stream",
     "text": [
      "H:\\20220215-Export\\DecodeGroup_Fov-160.hdf5\n"
     ]
    },
    {
     "name": "stderr",
     "output_type": "stream",
     "text": [
      "100%|██████████████████████████████████████████████████████████████████████████████████████████████████████████████████████████████████████████████████████████████████| 154/154 [00:20<00:00,  7.54it/s]\n",
      "  1%|█▎                                                                                                                                                                  | 1/128 [00:00<00:15,  8.40it/s]"
     ]
    },
    {
     "name": "stdout",
     "output_type": "stream",
     "text": [
      "H:\\20220215-Export\\DecodeGroup_Fov-161.hdf5\n"
     ]
    },
    {
     "name": "stderr",
     "output_type": "stream",
     "text": [
      "100%|██████████████████████████████████████████████████████████████████████████████████████████████████████████████████████████████████████████████████████████████████| 128/128 [00:14<00:00,  8.72it/s]\n",
      "  0%|                                                                                                                                                                            | 0/170 [00:00<?, ?it/s]"
     ]
    },
    {
     "name": "stdout",
     "output_type": "stream",
     "text": [
      "H:\\20220215-Export\\DecodeGroup_Fov-162.hdf5\n"
     ]
    },
    {
     "name": "stderr",
     "output_type": "stream",
     "text": [
      "100%|██████████████████████████████████████████████████████████████████████████████████████████████████████████████████████████████████████████████████████████████████| 170/170 [00:22<00:00,  7.72it/s]"
     ]
    },
    {
     "name": "stdout",
     "output_type": "stream",
     "text": [
      "Wall time: 36min 1s\n"
     ]
    },
    {
     "name": "stderr",
     "output_type": "stream",
     "text": [
      "\n"
     ]
    }
   ],
   "source": [
    "%%time\n",
    "from ImageAnalysis3.classes import decode\n",
    "# loop through fovs\n",
    "load_key = 'spot_groups'\n",
    "# save into file\n",
    "export_decode_folder = r'H:\\20220215-Export'\n",
    "\n",
    "overwrite_export = False\n",
    "\n",
    "SpotGroupDfs = []\n",
    "for _fov_id in save_fov_ids:\n",
    "    _export_filename = os.path.join(export_decode_folder, f\"DecodeGroup_Fov-{_fov_id}.hdf5\")\n",
    "    print(_export_filename)\n",
    "    if os.path.exists(_export_filename) and not overwrite_export:\n",
    "        continue\n",
    "    _cell_ids = [_g[1] for _g in fovcell_2_uid.keys() if str(_g[0])==str(_fov_id)]\n",
    "    for _cell_id in tqdm(_cell_ids):\n",
    "        _decoder_filename = os.path.join(decoder_folder, \n",
    "                                         f\"Fov-{_fov_id}_Cell-{_cell_id}_Decoder.hdf5\")\n",
    "        if os.path.isfile(_decoder_filename):\n",
    "            #print(_fov_id, _cell_id)\n",
    "            _df = pd.read_hdf(_decoder_filename, load_key)\n",
    "            _uid = fovcell_2_uid[(str(_fov_id), _cell_id)]\n",
    "            _df['uid'] = _uid\n",
    "            # merfish class\n",
    "            _class = merfish_df.obs.loc[merfish_df.obs.index==_uid,'subclass_manual_label'].values\n",
    "            if len(_class) == 0:\n",
    "                _df['manual_class'] = None\n",
    "            else:\n",
    "                _df['manual_class'] = _class[0]\n",
    "                \n",
    "            SpotGroupDfs.append(_df)\n",
    "            # save this df\n",
    "            _df.to_hdf(_export_filename, f\"Cell-{_cell_id}\", complevel=1, complib='blosc:zstd')\n",
    "            # save EM picked spots\n",
    "            _dict = ia.classes.decode.load_hdf5_dict(_decoder_filename, 'chr_2_zxys_list')\n",
    "            if isinstance(_dict, dict):\n",
    "                ia.classes.decode.save_hdf5_dict(_export_filename, f\"Cell-{_cell_id}_EM\", _dict)\n"
   ]
  },
  {
   "cell_type": "code",
   "execution_count": 19,
   "metadata": {},
   "outputs": [
    {
     "data": {
      "text/plain": [
       "<module 'ImageAnalysis3.classes.decode' from 'E:\\\\Users\\\\puzheng\\\\Documents\\\\ImageAnalysis3\\\\classes\\\\decode.py'>"
      ]
     },
     "execution_count": 19,
     "metadata": {},
     "output_type": "execute_result"
    }
   ],
   "source": [
    "reload(decode)"
   ]
  },
  {
   "cell_type": "code",
   "execution_count": 22,
   "metadata": {},
   "outputs": [
    {
     "name": "stdout",
     "output_type": "stream",
     "text": [
      "- Update Cell-1_EM into H:\\20220215-Export\\DecodeGroup_Fov-0.hdf5\n",
      "-- overwrite 1 in Cell-1_EM\n",
      "-- saving 1 in Cell-1_EM\n",
      "-- overwrite 10 in Cell-1_EM\n",
      "-- saving 10 in Cell-1_EM\n",
      "-- overwrite 11 in Cell-1_EM\n",
      "-- saving 11 in Cell-1_EM\n",
      "-- overwrite 12 in Cell-1_EM\n",
      "-- saving 12 in Cell-1_EM\n",
      "-- overwrite 13 in Cell-1_EM\n",
      "-- saving 13 in Cell-1_EM\n",
      "-- overwrite 14 in Cell-1_EM\n",
      "-- saving 14 in Cell-1_EM\n",
      "-- overwrite 15 in Cell-1_EM\n",
      "-- saving 15 in Cell-1_EM\n",
      "-- overwrite 16 in Cell-1_EM\n",
      "-- saving 16 in Cell-1_EM\n",
      "-- overwrite 17 in Cell-1_EM\n",
      "-- saving 17 in Cell-1_EM\n",
      "-- overwrite 18 in Cell-1_EM\n",
      "-- saving 18 in Cell-1_EM\n",
      "-- overwrite 19 in Cell-1_EM\n",
      "-- saving 19 in Cell-1_EM\n",
      "-- overwrite 2 in Cell-1_EM\n",
      "-- saving 2 in Cell-1_EM\n",
      "-- overwrite 3 in Cell-1_EM\n",
      "-- saving 3 in Cell-1_EM\n",
      "-- overwrite 4 in Cell-1_EM\n",
      "-- saving 4 in Cell-1_EM\n",
      "-- overwrite 5 in Cell-1_EM\n",
      "-- saving 5 in Cell-1_EM\n",
      "-- overwrite 6 in Cell-1_EM\n",
      "-- saving 6 in Cell-1_EM\n",
      "-- overwrite 7 in Cell-1_EM\n",
      "-- saving 7 in Cell-1_EM\n",
      "-- overwrite 8 in Cell-1_EM\n",
      "-- saving 8 in Cell-1_EM\n",
      "-- overwrite 9 in Cell-1_EM\n",
      "-- saving 9 in Cell-1_EM\n",
      "-- overwrite X in Cell-1_EM\n",
      "-- saving X in Cell-1_EM\n"
     ]
    }
   ],
   "source": []
  },
  {
   "cell_type": "code",
   "execution_count": 15,
   "metadata": {},
   "outputs": [],
   "source": [
    "test_dict = ia.classes.decode.load_hdf5_dict(_export_filename, f\"Cell-{_cell_id}_EM\")"
   ]
  },
  {
   "cell_type": "code",
   "execution_count": 14,
   "metadata": {},
   "outputs": [
    {
     "name": "stdout",
     "output_type": "stream",
     "text": [
      "- Update Cell-1_EM into H:\\20220215-Export\\DecodeGroup_Fov-0.hdf5\n",
      "-- saving 1 in Cell-1_EM\n",
      "-- saving 10 in Cell-1_EM\n",
      "-- saving 11 in Cell-1_EM\n",
      "-- saving 12 in Cell-1_EM\n",
      "-- saving 13 in Cell-1_EM\n",
      "-- saving 14 in Cell-1_EM\n",
      "-- saving 15 in Cell-1_EM\n",
      "-- saving 16 in Cell-1_EM\n",
      "-- saving 17 in Cell-1_EM\n",
      "-- saving 18 in Cell-1_EM\n",
      "-- saving 19 in Cell-1_EM\n",
      "-- saving 2 in Cell-1_EM\n",
      "-- saving 3 in Cell-1_EM\n",
      "-- saving 4 in Cell-1_EM\n",
      "-- saving 5 in Cell-1_EM\n",
      "-- saving 6 in Cell-1_EM\n",
      "-- saving 7 in Cell-1_EM\n",
      "-- saving 8 in Cell-1_EM\n",
      "-- saving 9 in Cell-1_EM\n",
      "-- saving X in Cell-1_EM\n"
     ]
    }
   ],
   "source": [
    "save_hdf5_dict(_export_filename, f\"Cell-{_cell_id}_EM\", _dict, _verbose=True)"
   ]
  },
  {
   "cell_type": "code",
   "execution_count": 40,
   "metadata": {},
   "outputs": [
    {
     "data": {
      "text/html": [
       "<div>\n",
       "<style scoped>\n",
       "    .dataframe tbody tr th:only-of-type {\n",
       "        vertical-align: middle;\n",
       "    }\n",
       "\n",
       "    .dataframe tbody tr th {\n",
       "        vertical-align: top;\n",
       "    }\n",
       "\n",
       "    .dataframe thead th {\n",
       "        text-align: right;\n",
       "    }\n",
       "</style>\n",
       "<table border=\"1\" class=\"dataframe\">\n",
       "  <thead>\n",
       "    <tr style=\"text-align: right;\">\n",
       "      <th></th>\n",
       "      <th>fov_id</th>\n",
       "      <th>cell_id</th>\n",
       "      <th>uid</th>\n",
       "      <th>homolog</th>\n",
       "      <th>height_0</th>\n",
       "      <th>z_0</th>\n",
       "      <th>x_0</th>\n",
       "      <th>y_0</th>\n",
       "      <th>background_0</th>\n",
       "      <th>sigma_z_0</th>\n",
       "      <th>...</th>\n",
       "      <th>cand_spot_ind_2</th>\n",
       "      <th>pixel_z</th>\n",
       "      <th>pixel_x</th>\n",
       "      <th>pixel_y</th>\n",
       "      <th>region_id</th>\n",
       "      <th>start</th>\n",
       "      <th>end</th>\n",
       "      <th>chr</th>\n",
       "      <th>chr_order</th>\n",
       "      <th>manual_class</th>\n",
       "    </tr>\n",
       "  </thead>\n",
       "  <tbody>\n",
       "    <tr>\n",
       "      <th>0</th>\n",
       "      <td>155</td>\n",
       "      <td>10</td>\n",
       "      <td>84117227764919051091421468008484379541</td>\n",
       "      <td>None</td>\n",
       "      <td>14087.587891</td>\n",
       "      <td>20.728237</td>\n",
       "      <td>150.847763</td>\n",
       "      <td>898.539978</td>\n",
       "      <td>7165.588867</td>\n",
       "      <td>1.405249</td>\n",
       "      <td>...</td>\n",
       "      <td>2248.0</td>\n",
       "      <td>250</td>\n",
       "      <td>108</td>\n",
       "      <td>108</td>\n",
       "      <td>424</td>\n",
       "      <td>58740000</td>\n",
       "      <td>58760000</td>\n",
       "      <td>7</td>\n",
       "      <td>14</td>\n",
       "      <td>None</td>\n",
       "    </tr>\n",
       "    <tr>\n",
       "      <th>1</th>\n",
       "      <td>155</td>\n",
       "      <td>10</td>\n",
       "      <td>84117227764919051091421468008484379541</td>\n",
       "      <td>None</td>\n",
       "      <td>12164.538086</td>\n",
       "      <td>31.101160</td>\n",
       "      <td>148.940079</td>\n",
       "      <td>913.794250</td>\n",
       "      <td>8104.825684</td>\n",
       "      <td>2.300524</td>\n",
       "      <td>...</td>\n",
       "      <td>5004.0</td>\n",
       "      <td>250</td>\n",
       "      <td>108</td>\n",
       "      <td>108</td>\n",
       "      <td>222</td>\n",
       "      <td>13740000</td>\n",
       "      <td>13760000</td>\n",
       "      <td>4</td>\n",
       "      <td>4</td>\n",
       "      <td>None</td>\n",
       "    </tr>\n",
       "    <tr>\n",
       "      <th>2</th>\n",
       "      <td>155</td>\n",
       "      <td>10</td>\n",
       "      <td>84117227764919051091421468008484379541</td>\n",
       "      <td>None</td>\n",
       "      <td>24108.703125</td>\n",
       "      <td>13.068707</td>\n",
       "      <td>165.707489</td>\n",
       "      <td>898.841248</td>\n",
       "      <td>9648.040039</td>\n",
       "      <td>1.396377</td>\n",
       "      <td>...</td>\n",
       "      <td>3493.0</td>\n",
       "      <td>250</td>\n",
       "      <td>108</td>\n",
       "      <td>108</td>\n",
       "      <td>774</td>\n",
       "      <td>33740000</td>\n",
       "      <td>33760000</td>\n",
       "      <td>14</td>\n",
       "      <td>8</td>\n",
       "      <td>None</td>\n",
       "    </tr>\n",
       "    <tr>\n",
       "      <th>3</th>\n",
       "      <td>155</td>\n",
       "      <td>10</td>\n",
       "      <td>84117227764919051091421468008484379541</td>\n",
       "      <td>None</td>\n",
       "      <td>14932.439453</td>\n",
       "      <td>14.291443</td>\n",
       "      <td>155.372650</td>\n",
       "      <td>923.636169</td>\n",
       "      <td>15775.420898</td>\n",
       "      <td>1.587620</td>\n",
       "      <td>...</td>\n",
       "      <td>1034.0</td>\n",
       "      <td>250</td>\n",
       "      <td>108</td>\n",
       "      <td>108</td>\n",
       "      <td>601</td>\n",
       "      <td>98740000</td>\n",
       "      <td>98760000</td>\n",
       "      <td>10</td>\n",
       "      <td>38</td>\n",
       "      <td>None</td>\n",
       "    </tr>\n",
       "    <tr>\n",
       "      <th>4</th>\n",
       "      <td>155</td>\n",
       "      <td>10</td>\n",
       "      <td>84117227764919051091421468008484379541</td>\n",
       "      <td>None</td>\n",
       "      <td>14436.699219</td>\n",
       "      <td>10.253874</td>\n",
       "      <td>179.842529</td>\n",
       "      <td>877.072876</td>\n",
       "      <td>8155.116211</td>\n",
       "      <td>1.367506</td>\n",
       "      <td>...</td>\n",
       "      <td>7929.0</td>\n",
       "      <td>250</td>\n",
       "      <td>108</td>\n",
       "      <td>108</td>\n",
       "      <td>493</td>\n",
       "      <td>83740000</td>\n",
       "      <td>83760000</td>\n",
       "      <td>8</td>\n",
       "      <td>31</td>\n",
       "      <td>None</td>\n",
       "    </tr>\n",
       "    <tr>\n",
       "      <th>...</th>\n",
       "      <td>...</td>\n",
       "      <td>...</td>\n",
       "      <td>...</td>\n",
       "      <td>...</td>\n",
       "      <td>...</td>\n",
       "      <td>...</td>\n",
       "      <td>...</td>\n",
       "      <td>...</td>\n",
       "      <td>...</td>\n",
       "      <td>...</td>\n",
       "      <td>...</td>\n",
       "      <td>...</td>\n",
       "      <td>...</td>\n",
       "      <td>...</td>\n",
       "      <td>...</td>\n",
       "      <td>...</td>\n",
       "      <td>...</td>\n",
       "      <td>...</td>\n",
       "      <td>...</td>\n",
       "      <td>...</td>\n",
       "      <td>...</td>\n",
       "    </tr>\n",
       "    <tr>\n",
       "      <th>2770</th>\n",
       "      <td>155</td>\n",
       "      <td>10</td>\n",
       "      <td>84117227764919051091421468008484379541</td>\n",
       "      <td>None</td>\n",
       "      <td>1564.505737</td>\n",
       "      <td>28.235369</td>\n",
       "      <td>184.814194</td>\n",
       "      <td>906.510986</td>\n",
       "      <td>17129.396484</td>\n",
       "      <td>3.232861</td>\n",
       "      <td>...</td>\n",
       "      <td>NaN</td>\n",
       "      <td>250</td>\n",
       "      <td>108</td>\n",
       "      <td>108</td>\n",
       "      <td>728</td>\n",
       "      <td>41240000</td>\n",
       "      <td>41260000</td>\n",
       "      <td>13</td>\n",
       "      <td>14</td>\n",
       "      <td>None</td>\n",
       "    </tr>\n",
       "    <tr>\n",
       "      <th>2771</th>\n",
       "      <td>155</td>\n",
       "      <td>10</td>\n",
       "      <td>84117227764919051091421468008484379541</td>\n",
       "      <td>None</td>\n",
       "      <td>1353.636597</td>\n",
       "      <td>13.980452</td>\n",
       "      <td>161.147766</td>\n",
       "      <td>939.599487</td>\n",
       "      <td>5755.016602</td>\n",
       "      <td>2.703635</td>\n",
       "      <td>...</td>\n",
       "      <td>NaN</td>\n",
       "      <td>250</td>\n",
       "      <td>108</td>\n",
       "      <td>108</td>\n",
       "      <td>710</td>\n",
       "      <td>116240000</td>\n",
       "      <td>116260000</td>\n",
       "      <td>12</td>\n",
       "      <td>41</td>\n",
       "      <td>None</td>\n",
       "    </tr>\n",
       "    <tr>\n",
       "      <th>2772</th>\n",
       "      <td>155</td>\n",
       "      <td>10</td>\n",
       "      <td>84117227764919051091421468008484379541</td>\n",
       "      <td>None</td>\n",
       "      <td>3868.593262</td>\n",
       "      <td>37.041904</td>\n",
       "      <td>196.560822</td>\n",
       "      <td>923.428955</td>\n",
       "      <td>7914.474609</td>\n",
       "      <td>2.849716</td>\n",
       "      <td>...</td>\n",
       "      <td>NaN</td>\n",
       "      <td>250</td>\n",
       "      <td>108</td>\n",
       "      <td>108</td>\n",
       "      <td>714</td>\n",
       "      <td>6240000</td>\n",
       "      <td>6260000</td>\n",
       "      <td>13</td>\n",
       "      <td>1</td>\n",
       "      <td>None</td>\n",
       "    </tr>\n",
       "    <tr>\n",
       "      <th>2773</th>\n",
       "      <td>155</td>\n",
       "      <td>10</td>\n",
       "      <td>84117227764919051091421468008484379541</td>\n",
       "      <td>None</td>\n",
       "      <td>1338.130615</td>\n",
       "      <td>13.966309</td>\n",
       "      <td>187.581253</td>\n",
       "      <td>931.588501</td>\n",
       "      <td>16499.000000</td>\n",
       "      <td>4.000000</td>\n",
       "      <td>...</td>\n",
       "      <td>NaN</td>\n",
       "      <td>250</td>\n",
       "      <td>108</td>\n",
       "      <td>108</td>\n",
       "      <td>718</td>\n",
       "      <td>16240000</td>\n",
       "      <td>16260000</td>\n",
       "      <td>13</td>\n",
       "      <td>5</td>\n",
       "      <td>None</td>\n",
       "    </tr>\n",
       "    <tr>\n",
       "      <th>2774</th>\n",
       "      <td>155</td>\n",
       "      <td>10</td>\n",
       "      <td>84117227764919051091421468008484379541</td>\n",
       "      <td>None</td>\n",
       "      <td>2973.227295</td>\n",
       "      <td>32.310719</td>\n",
       "      <td>158.929581</td>\n",
       "      <td>880.944275</td>\n",
       "      <td>15099.270508</td>\n",
       "      <td>3.518044</td>\n",
       "      <td>...</td>\n",
       "      <td>NaN</td>\n",
       "      <td>250</td>\n",
       "      <td>108</td>\n",
       "      <td>108</td>\n",
       "      <td>820</td>\n",
       "      <td>23740000</td>\n",
       "      <td>23760000</td>\n",
       "      <td>15</td>\n",
       "      <td>8</td>\n",
       "      <td>None</td>\n",
       "    </tr>\n",
       "  </tbody>\n",
       "</table>\n",
       "<p>2775 rows × 55 columns</p>\n",
       "</div>"
      ],
      "text/plain": [
       "      fov_id  cell_id                                     uid homolog  \\\n",
       "0        155       10  84117227764919051091421468008484379541    None   \n",
       "1        155       10  84117227764919051091421468008484379541    None   \n",
       "2        155       10  84117227764919051091421468008484379541    None   \n",
       "3        155       10  84117227764919051091421468008484379541    None   \n",
       "4        155       10  84117227764919051091421468008484379541    None   \n",
       "...      ...      ...                                     ...     ...   \n",
       "2770     155       10  84117227764919051091421468008484379541    None   \n",
       "2771     155       10  84117227764919051091421468008484379541    None   \n",
       "2772     155       10  84117227764919051091421468008484379541    None   \n",
       "2773     155       10  84117227764919051091421468008484379541    None   \n",
       "2774     155       10  84117227764919051091421468008484379541    None   \n",
       "\n",
       "          height_0        z_0         x_0         y_0  background_0  \\\n",
       "0     14087.587891  20.728237  150.847763  898.539978   7165.588867   \n",
       "1     12164.538086  31.101160  148.940079  913.794250   8104.825684   \n",
       "2     24108.703125  13.068707  165.707489  898.841248   9648.040039   \n",
       "3     14932.439453  14.291443  155.372650  923.636169  15775.420898   \n",
       "4     14436.699219  10.253874  179.842529  877.072876   8155.116211   \n",
       "...            ...        ...         ...         ...           ...   \n",
       "2770   1564.505737  28.235369  184.814194  906.510986  17129.396484   \n",
       "2771   1353.636597  13.980452  161.147766  939.599487   5755.016602   \n",
       "2772   3868.593262  37.041904  196.560822  923.428955   7914.474609   \n",
       "2773   1338.130615  13.966309  187.581253  931.588501  16499.000000   \n",
       "2774   2973.227295  32.310719  158.929581  880.944275  15099.270508   \n",
       "\n",
       "      sigma_z_0  ...  cand_spot_ind_2  pixel_z  pixel_x  pixel_y  region_id  \\\n",
       "0      1.405249  ...           2248.0      250      108      108        424   \n",
       "1      2.300524  ...           5004.0      250      108      108        222   \n",
       "2      1.396377  ...           3493.0      250      108      108        774   \n",
       "3      1.587620  ...           1034.0      250      108      108        601   \n",
       "4      1.367506  ...           7929.0      250      108      108        493   \n",
       "...         ...  ...              ...      ...      ...      ...        ...   \n",
       "2770   3.232861  ...              NaN      250      108      108        728   \n",
       "2771   2.703635  ...              NaN      250      108      108        710   \n",
       "2772   2.849716  ...              NaN      250      108      108        714   \n",
       "2773   4.000000  ...              NaN      250      108      108        718   \n",
       "2774   3.518044  ...              NaN      250      108      108        820   \n",
       "\n",
       "          start        end  chr  chr_order  manual_class  \n",
       "0      58740000   58760000    7         14          None  \n",
       "1      13740000   13760000    4          4          None  \n",
       "2      33740000   33760000   14          8          None  \n",
       "3      98740000   98760000   10         38          None  \n",
       "4      83740000   83760000    8         31          None  \n",
       "...         ...        ...  ...        ...           ...  \n",
       "2770   41240000   41260000   13         14          None  \n",
       "2771  116240000  116260000   12         41          None  \n",
       "2772    6240000    6260000   13          1          None  \n",
       "2773   16240000   16260000   13          5          None  \n",
       "2774   23740000   23760000   15          8          None  \n",
       "\n",
       "[2775 rows x 55 columns]"
      ]
     },
     "execution_count": 40,
     "metadata": {},
     "output_type": "execute_result"
    }
   ],
   "source": [
    "'\\\\mendel\\Mendel_SSD1\\Pu_Temp\\20220215-P_brain_CTP11-1000_CTP12_from0208\\Decoder\\Tests\\Fov-155_Cell-100_Decoder.hdf5'"
   ]
  },
  {
   "cell_type": "code",
   "execution_count": 33,
   "metadata": {},
   "outputs": [],
   "source": [
    "# test loading\n",
    "_export_filename = os.path.join(export_decode_folder, f\"DecodeGroup_Fov-{save_fov_ids[0]}.hdf5\")\n",
    "pd.read_hdf(_export_filename, 'Cell-1')"
   ]
  },
  {
   "cell_type": "markdown",
   "metadata": {},
   "source": [
    "# 3. load chr_2_zxys_list"
   ]
  },
  {
   "cell_type": "markdown",
   "metadata": {},
   "source": [
    "## 3.1 load codebook"
   ]
  },
  {
   "cell_type": "code",
   "execution_count": 6,
   "metadata": {},
   "outputs": [
    {
     "data": {
      "text/html": [
       "<div>\n",
       "<style scoped>\n",
       "    .dataframe tbody tr th:only-of-type {\n",
       "        vertical-align: middle;\n",
       "    }\n",
       "\n",
       "    .dataframe tbody tr th {\n",
       "        vertical-align: top;\n",
       "    }\n",
       "\n",
       "    .dataframe thead th {\n",
       "        text-align: right;\n",
       "    }\n",
       "</style>\n",
       "<table border=\"1\" class=\"dataframe\">\n",
       "  <thead>\n",
       "    <tr style=\"text-align: right;\">\n",
       "      <th></th>\n",
       "      <th>name</th>\n",
       "      <th>id</th>\n",
       "      <th>NDB_784</th>\n",
       "      <th>NDB_755</th>\n",
       "      <th>NDB_826</th>\n",
       "      <th>NDB_713</th>\n",
       "      <th>NDB_865</th>\n",
       "      <th>NDB_725</th>\n",
       "      <th>NDB_817</th>\n",
       "      <th>NDB_710</th>\n",
       "      <th>...</th>\n",
       "      <th>NDB_824</th>\n",
       "      <th>NDB_712</th>\n",
       "      <th>NDB_818</th>\n",
       "      <th>NDB_940</th>\n",
       "      <th>NDB_872</th>\n",
       "      <th>NDB_934</th>\n",
       "      <th>NDB_926</th>\n",
       "      <th>NDB_910</th>\n",
       "      <th>chr</th>\n",
       "      <th>chr_order</th>\n",
       "    </tr>\n",
       "  </thead>\n",
       "  <tbody>\n",
       "    <tr>\n",
       "      <th>0</th>\n",
       "      <td>1:3740000-3760000</td>\n",
       "      <td>1</td>\n",
       "      <td>0</td>\n",
       "      <td>0</td>\n",
       "      <td>0</td>\n",
       "      <td>0</td>\n",
       "      <td>0</td>\n",
       "      <td>0</td>\n",
       "      <td>0</td>\n",
       "      <td>0</td>\n",
       "      <td>...</td>\n",
       "      <td>0</td>\n",
       "      <td>0</td>\n",
       "      <td>0</td>\n",
       "      <td>0</td>\n",
       "      <td>0</td>\n",
       "      <td>0</td>\n",
       "      <td>0</td>\n",
       "      <td>0</td>\n",
       "      <td>1</td>\n",
       "      <td>0</td>\n",
       "    </tr>\n",
       "    <tr>\n",
       "      <th>1</th>\n",
       "      <td>1:6240000-6260000</td>\n",
       "      <td>2</td>\n",
       "      <td>0</td>\n",
       "      <td>0</td>\n",
       "      <td>0</td>\n",
       "      <td>0</td>\n",
       "      <td>0</td>\n",
       "      <td>0</td>\n",
       "      <td>0</td>\n",
       "      <td>0</td>\n",
       "      <td>...</td>\n",
       "      <td>0</td>\n",
       "      <td>0</td>\n",
       "      <td>0</td>\n",
       "      <td>0</td>\n",
       "      <td>0</td>\n",
       "      <td>0</td>\n",
       "      <td>0</td>\n",
       "      <td>0</td>\n",
       "      <td>1</td>\n",
       "      <td>1</td>\n",
       "    </tr>\n",
       "    <tr>\n",
       "      <th>2</th>\n",
       "      <td>1:8740000-8760000</td>\n",
       "      <td>3</td>\n",
       "      <td>0</td>\n",
       "      <td>0</td>\n",
       "      <td>0</td>\n",
       "      <td>0</td>\n",
       "      <td>0</td>\n",
       "      <td>0</td>\n",
       "      <td>0</td>\n",
       "      <td>0</td>\n",
       "      <td>...</td>\n",
       "      <td>0</td>\n",
       "      <td>0</td>\n",
       "      <td>0</td>\n",
       "      <td>0</td>\n",
       "      <td>0</td>\n",
       "      <td>0</td>\n",
       "      <td>0</td>\n",
       "      <td>0</td>\n",
       "      <td>1</td>\n",
       "      <td>2</td>\n",
       "    </tr>\n",
       "    <tr>\n",
       "      <th>3</th>\n",
       "      <td>1:11240000-11260000</td>\n",
       "      <td>4</td>\n",
       "      <td>0</td>\n",
       "      <td>0</td>\n",
       "      <td>0</td>\n",
       "      <td>0</td>\n",
       "      <td>0</td>\n",
       "      <td>0</td>\n",
       "      <td>0</td>\n",
       "      <td>0</td>\n",
       "      <td>...</td>\n",
       "      <td>0</td>\n",
       "      <td>0</td>\n",
       "      <td>0</td>\n",
       "      <td>1</td>\n",
       "      <td>0</td>\n",
       "      <td>0</td>\n",
       "      <td>0</td>\n",
       "      <td>0</td>\n",
       "      <td>1</td>\n",
       "      <td>3</td>\n",
       "    </tr>\n",
       "    <tr>\n",
       "      <th>4</th>\n",
       "      <td>1:13740000-13760000</td>\n",
       "      <td>5</td>\n",
       "      <td>0</td>\n",
       "      <td>0</td>\n",
       "      <td>0</td>\n",
       "      <td>0</td>\n",
       "      <td>0</td>\n",
       "      <td>0</td>\n",
       "      <td>0</td>\n",
       "      <td>0</td>\n",
       "      <td>...</td>\n",
       "      <td>0</td>\n",
       "      <td>0</td>\n",
       "      <td>1</td>\n",
       "      <td>0</td>\n",
       "      <td>0</td>\n",
       "      <td>0</td>\n",
       "      <td>0</td>\n",
       "      <td>0</td>\n",
       "      <td>1</td>\n",
       "      <td>4</td>\n",
       "    </tr>\n",
       "    <tr>\n",
       "      <th>...</th>\n",
       "      <td>...</td>\n",
       "      <td>...</td>\n",
       "      <td>...</td>\n",
       "      <td>...</td>\n",
       "      <td>...</td>\n",
       "      <td>...</td>\n",
       "      <td>...</td>\n",
       "      <td>...</td>\n",
       "      <td>...</td>\n",
       "      <td>...</td>\n",
       "      <td>...</td>\n",
       "      <td>...</td>\n",
       "      <td>...</td>\n",
       "      <td>...</td>\n",
       "      <td>...</td>\n",
       "      <td>...</td>\n",
       "      <td>...</td>\n",
       "      <td>...</td>\n",
       "      <td>...</td>\n",
       "      <td>...</td>\n",
       "      <td>...</td>\n",
       "    </tr>\n",
       "    <tr>\n",
       "      <th>983</th>\n",
       "      <td>X:161240000-161260000</td>\n",
       "      <td>1057</td>\n",
       "      <td>0</td>\n",
       "      <td>0</td>\n",
       "      <td>1</td>\n",
       "      <td>0</td>\n",
       "      <td>0</td>\n",
       "      <td>0</td>\n",
       "      <td>0</td>\n",
       "      <td>0</td>\n",
       "      <td>...</td>\n",
       "      <td>0</td>\n",
       "      <td>0</td>\n",
       "      <td>0</td>\n",
       "      <td>0</td>\n",
       "      <td>0</td>\n",
       "      <td>1</td>\n",
       "      <td>0</td>\n",
       "      <td>0</td>\n",
       "      <td>X</td>\n",
       "      <td>52</td>\n",
       "    </tr>\n",
       "    <tr>\n",
       "      <th>984</th>\n",
       "      <td>X:163740000-163760000</td>\n",
       "      <td>1058</td>\n",
       "      <td>0</td>\n",
       "      <td>0</td>\n",
       "      <td>0</td>\n",
       "      <td>0</td>\n",
       "      <td>0</td>\n",
       "      <td>0</td>\n",
       "      <td>0</td>\n",
       "      <td>0</td>\n",
       "      <td>...</td>\n",
       "      <td>0</td>\n",
       "      <td>0</td>\n",
       "      <td>0</td>\n",
       "      <td>0</td>\n",
       "      <td>1</td>\n",
       "      <td>0</td>\n",
       "      <td>0</td>\n",
       "      <td>0</td>\n",
       "      <td>X</td>\n",
       "      <td>53</td>\n",
       "    </tr>\n",
       "    <tr>\n",
       "      <th>985</th>\n",
       "      <td>X:166240000-166260000</td>\n",
       "      <td>1059</td>\n",
       "      <td>0</td>\n",
       "      <td>0</td>\n",
       "      <td>0</td>\n",
       "      <td>0</td>\n",
       "      <td>0</td>\n",
       "      <td>1</td>\n",
       "      <td>0</td>\n",
       "      <td>0</td>\n",
       "      <td>...</td>\n",
       "      <td>0</td>\n",
       "      <td>0</td>\n",
       "      <td>0</td>\n",
       "      <td>0</td>\n",
       "      <td>0</td>\n",
       "      <td>0</td>\n",
       "      <td>0</td>\n",
       "      <td>0</td>\n",
       "      <td>X</td>\n",
       "      <td>54</td>\n",
       "    </tr>\n",
       "    <tr>\n",
       "      <th>986</th>\n",
       "      <td>X:168740000-168760000</td>\n",
       "      <td>1060</td>\n",
       "      <td>0</td>\n",
       "      <td>0</td>\n",
       "      <td>0</td>\n",
       "      <td>0</td>\n",
       "      <td>0</td>\n",
       "      <td>0</td>\n",
       "      <td>0</td>\n",
       "      <td>0</td>\n",
       "      <td>...</td>\n",
       "      <td>0</td>\n",
       "      <td>0</td>\n",
       "      <td>0</td>\n",
       "      <td>0</td>\n",
       "      <td>0</td>\n",
       "      <td>0</td>\n",
       "      <td>0</td>\n",
       "      <td>0</td>\n",
       "      <td>X</td>\n",
       "      <td>55</td>\n",
       "    </tr>\n",
       "    <tr>\n",
       "      <th>987</th>\n",
       "      <td>Y:1240000-1260000</td>\n",
       "      <td>1062</td>\n",
       "      <td>0</td>\n",
       "      <td>0</td>\n",
       "      <td>0</td>\n",
       "      <td>0</td>\n",
       "      <td>0</td>\n",
       "      <td>0</td>\n",
       "      <td>0</td>\n",
       "      <td>1</td>\n",
       "      <td>...</td>\n",
       "      <td>0</td>\n",
       "      <td>0</td>\n",
       "      <td>0</td>\n",
       "      <td>0</td>\n",
       "      <td>0</td>\n",
       "      <td>0</td>\n",
       "      <td>0</td>\n",
       "      <td>0</td>\n",
       "      <td>Y</td>\n",
       "      <td>0</td>\n",
       "    </tr>\n",
       "  </tbody>\n",
       "</table>\n",
       "<p>988 rows × 103 columns</p>\n",
       "</div>"
      ],
      "text/plain": [
       "                      name    id  NDB_784  NDB_755  NDB_826  NDB_713  NDB_865  \\\n",
       "0        1:3740000-3760000     1        0        0        0        0        0   \n",
       "1        1:6240000-6260000     2        0        0        0        0        0   \n",
       "2        1:8740000-8760000     3        0        0        0        0        0   \n",
       "3      1:11240000-11260000     4        0        0        0        0        0   \n",
       "4      1:13740000-13760000     5        0        0        0        0        0   \n",
       "..                     ...   ...      ...      ...      ...      ...      ...   \n",
       "983  X:161240000-161260000  1057        0        0        1        0        0   \n",
       "984  X:163740000-163760000  1058        0        0        0        0        0   \n",
       "985  X:166240000-166260000  1059        0        0        0        0        0   \n",
       "986  X:168740000-168760000  1060        0        0        0        0        0   \n",
       "987      Y:1240000-1260000  1062        0        0        0        0        0   \n",
       "\n",
       "     NDB_725  NDB_817  NDB_710  ...  NDB_824  NDB_712  NDB_818  NDB_940  \\\n",
       "0          0        0        0  ...        0        0        0        0   \n",
       "1          0        0        0  ...        0        0        0        0   \n",
       "2          0        0        0  ...        0        0        0        0   \n",
       "3          0        0        0  ...        0        0        0        1   \n",
       "4          0        0        0  ...        0        0        1        0   \n",
       "..       ...      ...      ...  ...      ...      ...      ...      ...   \n",
       "983        0        0        0  ...        0        0        0        0   \n",
       "984        0        0        0  ...        0        0        0        0   \n",
       "985        1        0        0  ...        0        0        0        0   \n",
       "986        0        0        0  ...        0        0        0        0   \n",
       "987        0        0        1  ...        0        0        0        0   \n",
       "\n",
       "     NDB_872  NDB_934  NDB_926  NDB_910  chr  chr_order  \n",
       "0          0        0        0        0    1          0  \n",
       "1          0        0        0        0    1          1  \n",
       "2          0        0        0        0    1          2  \n",
       "3          0        0        0        0    1          3  \n",
       "4          0        0        0        0    1          4  \n",
       "..       ...      ...      ...      ...  ...        ...  \n",
       "983        0        1        0        0    X         52  \n",
       "984        1        0        0        0    X         53  \n",
       "985        0        0        0        0    X         54  \n",
       "986        0        0        0        0    X         55  \n",
       "987        0        0        0        0    Y          0  \n",
       "\n",
       "[988 rows x 103 columns]"
      ]
     },
     "execution_count": 6,
     "metadata": {},
     "output_type": "execute_result"
    }
   ],
   "source": [
    "import pandas as pd\n",
    "codebook_filename = r'\\\\10.245.74.212\\Chromatin_NAS_2\\Chromatin_Libraries\\CTP-11_brain\\Summary_tables\\CTP11-mouse-genome-1000_codebook.csv'\n",
    "#\n",
    "codebook_df = pd.read_csv(codebook_filename, header=0)\n",
    "codebook_df"
   ]
  },
  {
   "cell_type": "markdown",
   "metadata": {},
   "source": [
    "## 3.2 load chr_2_zxys_list"
   ]
  },
  {
   "cell_type": "code",
   "execution_count": 14,
   "metadata": {},
   "outputs": [
    {
     "name": "stdout",
     "output_type": "stream",
     "text": [
      "\\\\mendel\\Mendel_SSD1\\Pu_Temp\\20220215-P_brain_CTP11-1000_CTP12_from0208\\Decoder\\Tests 18720\n"
     ]
    }
   ],
   "source": [
    "#decoder_folder = os.path.join(save_folder, 'Decoder')\n",
    "decoder_filenames = [os.path.join(decoder_folder, _fl) for _fl in os.listdir(decoder_folder) \n",
    "                     if '_Decoder.hdf5' in _fl]\n",
    "print(decoder_folder, len(decoder_filenames))"
   ]
  },
  {
   "cell_type": "code",
   "execution_count": 16,
   "metadata": {},
   "outputs": [],
   "source": [
    "import re\n",
    "import multiprocessing as mp\n",
    "from ImageAnalysis3.classes.decode import load_hdf5_dict\n",
    "from ImageAnalysis3.classes.decode import DNA_Merfish_Decoder"
   ]
  },
  {
   "cell_type": "code",
   "execution_count": 17,
   "metadata": {},
   "outputs": [
    {
     "name": "stdout",
     "output_type": "stream",
     "text": [
      "Directly load all all_zxys_list\n",
      "Wall time: 863 ms\n"
     ]
    }
   ],
   "source": [
    "%%time\n",
    "overwrite_coodinates=False\n",
    "\n",
    "coord_savefile = os.path.join(decoder_folder, f'all_coordinates_Fov-{min(save_fov_ids)}-{max(save_fov_ids)}.npy')\n",
    "uid_savefile = os.path.join(decoder_folder, f'all_uids_Fov-{min(save_fov_ids)}-{max(save_fov_ids)}.npy')\n",
    "\n",
    "if os.path.exists(coord_savefile) and os.path.exists(uid_savefile) and not overwrite_coodinates:\n",
    "    print(\"Directly load all all_zxys_list\")\n",
    "    all_zxys_list = np.load(coord_savefile)\n",
    "    uid_list = np.load(uid_savefile)\n",
    "else:\n",
    "    print(\"Batch load all_zxys_list\")\n",
    "    # Batch loading\n",
    "    load_args = [(_fl, 'chr_2_zxys_list') for _fl in decoder_filenames]\n",
    "    print(len(load_args))\n",
    "    with mp.Pool(44) as load_pool:\n",
    "        all_chr_2_zxys_list = load_pool.starmap(load_hdf5_dict, \n",
    "                                                load_args, \n",
    "                                                chunksize=1)\n",
    "        load_pool.close()\n",
    "        load_pool.join()\n",
    "        load_pool.terminate()\n",
    "    # Batch summarize\n",
    "    kept_decoder_filenames = [_fl for _fl,_item in zip(decoder_filenames, all_chr_2_zxys_list) if _item is not None]\n",
    "    all_chr_2_zxys_list = [_item for _item in all_chr_2_zxys_list if _item is not None]\n",
    "    print(len(kept_decoder_filenames), len(all_chr_2_zxys_list))\n",
    "\n",
    "    summary_args = [(_item, codebook_df) for _item in all_chr_2_zxys_list ]\n",
    "    print(len(summary_args))\n",
    "    with mp.Pool(44) as summary_pool: \n",
    "        all_zxys_list = summary_pool.starmap(DNA_Merfish_Decoder.summarize_zxys_by_regions, \n",
    "                                             summary_args, chunksize=1)\n",
    "        summary_pool.close()\n",
    "        summary_pool.join()\n",
    "        summary_pool.terminate()\n",
    "    # UIDs    \n",
    "    uid_list = [fovcell_2_uid[\n",
    "        re.findall(r'Fov-([0-9]+)_Cell-([0-9]+)_Decoder.hdf5', os.path.basename(_fl))[0]\n",
    "               ] for _fl in kept_decoder_filenames]\n",
    "    # SAVE\n",
    "    print(f\"saving coordinates into file: {coord_savefile}.\")\n",
    "    np.save(coord_savefile.split('.npy')[0], all_zxys_list)\n",
    "    # save UID\n",
    "    np.save(uid_savefile.split('.npy')[0], uid_list)"
   ]
  },
  {
   "cell_type": "markdown",
   "metadata": {},
   "source": [
    "# 4. Summarize"
   ]
  },
  {
   "cell_type": "code",
   "execution_count": 18,
   "metadata": {},
   "outputs": [
    {
     "name": "stdout",
     "output_type": "stream",
     "text": [
      "Use decode_figure_folder: \\\\mendel\\Mendel_SSD1\\Pu_Temp\\20220215-P_brain_CTP11-1000_CTP12_from0208\\Decoder\\Tests\\Figures\n"
     ]
    }
   ],
   "source": [
    "save_figure = True\n",
    "\n",
    "decode_figure_folder = os.path.join(decoder_folder, 'Figures')\n",
    "if not os.path.exists(decode_figure_folder):\n",
    "    os.makedirs(decode_figure_folder)\n",
    "    print(f\"Creating decode_figure_folder: {decode_figure_folder}\")\n",
    "else:\n",
    "    print(f\"Use decode_figure_folder: {decode_figure_folder}\")"
   ]
  },
  {
   "cell_type": "code",
   "execution_count": 19,
   "metadata": {},
   "outputs": [
    {
     "data": {
      "application/javascript": [
       "/* Put everything inside the global mpl namespace */\n",
       "/* global mpl */\n",
       "window.mpl = {};\n",
       "\n",
       "mpl.get_websocket_type = function () {\n",
       "    if (typeof WebSocket !== 'undefined') {\n",
       "        return WebSocket;\n",
       "    } else if (typeof MozWebSocket !== 'undefined') {\n",
       "        return MozWebSocket;\n",
       "    } else {\n",
       "        alert(\n",
       "            'Your browser does not have WebSocket support. ' +\n",
       "                'Please try Chrome, Safari or Firefox ≥ 6. ' +\n",
       "                'Firefox 4 and 5 are also supported but you ' +\n",
       "                'have to enable WebSockets in about:config.'\n",
       "        );\n",
       "    }\n",
       "};\n",
       "\n",
       "mpl.figure = function (figure_id, websocket, ondownload, parent_element) {\n",
       "    this.id = figure_id;\n",
       "\n",
       "    this.ws = websocket;\n",
       "\n",
       "    this.supports_binary = this.ws.binaryType !== undefined;\n",
       "\n",
       "    if (!this.supports_binary) {\n",
       "        var warnings = document.getElementById('mpl-warnings');\n",
       "        if (warnings) {\n",
       "            warnings.style.display = 'block';\n",
       "            warnings.textContent =\n",
       "                'This browser does not support binary websocket messages. ' +\n",
       "                'Performance may be slow.';\n",
       "        }\n",
       "    }\n",
       "\n",
       "    this.imageObj = new Image();\n",
       "\n",
       "    this.context = undefined;\n",
       "    this.message = undefined;\n",
       "    this.canvas = undefined;\n",
       "    this.rubberband_canvas = undefined;\n",
       "    this.rubberband_context = undefined;\n",
       "    this.format_dropdown = undefined;\n",
       "\n",
       "    this.image_mode = 'full';\n",
       "\n",
       "    this.root = document.createElement('div');\n",
       "    this.root.setAttribute('style', 'display: inline-block');\n",
       "    this._root_extra_style(this.root);\n",
       "\n",
       "    parent_element.appendChild(this.root);\n",
       "\n",
       "    this._init_header(this);\n",
       "    this._init_canvas(this);\n",
       "    this._init_toolbar(this);\n",
       "\n",
       "    var fig = this;\n",
       "\n",
       "    this.waiting = false;\n",
       "\n",
       "    this.ws.onopen = function () {\n",
       "        fig.send_message('supports_binary', { value: fig.supports_binary });\n",
       "        fig.send_message('send_image_mode', {});\n",
       "        if (mpl.ratio !== 1) {\n",
       "            fig.send_message('set_dpi_ratio', { dpi_ratio: mpl.ratio });\n",
       "        }\n",
       "        fig.send_message('refresh', {});\n",
       "    };\n",
       "\n",
       "    this.imageObj.onload = function () {\n",
       "        if (fig.image_mode === 'full') {\n",
       "            // Full images could contain transparency (where diff images\n",
       "            // almost always do), so we need to clear the canvas so that\n",
       "            // there is no ghosting.\n",
       "            fig.context.clearRect(0, 0, fig.canvas.width, fig.canvas.height);\n",
       "        }\n",
       "        fig.context.drawImage(fig.imageObj, 0, 0);\n",
       "    };\n",
       "\n",
       "    this.imageObj.onunload = function () {\n",
       "        fig.ws.close();\n",
       "    };\n",
       "\n",
       "    this.ws.onmessage = this._make_on_message_function(this);\n",
       "\n",
       "    this.ondownload = ondownload;\n",
       "};\n",
       "\n",
       "mpl.figure.prototype._init_header = function () {\n",
       "    var titlebar = document.createElement('div');\n",
       "    titlebar.classList =\n",
       "        'ui-dialog-titlebar ui-widget-header ui-corner-all ui-helper-clearfix';\n",
       "    var titletext = document.createElement('div');\n",
       "    titletext.classList = 'ui-dialog-title';\n",
       "    titletext.setAttribute(\n",
       "        'style',\n",
       "        'width: 100%; text-align: center; padding: 3px;'\n",
       "    );\n",
       "    titlebar.appendChild(titletext);\n",
       "    this.root.appendChild(titlebar);\n",
       "    this.header = titletext;\n",
       "};\n",
       "\n",
       "mpl.figure.prototype._canvas_extra_style = function (_canvas_div) {};\n",
       "\n",
       "mpl.figure.prototype._root_extra_style = function (_canvas_div) {};\n",
       "\n",
       "mpl.figure.prototype._init_canvas = function () {\n",
       "    var fig = this;\n",
       "\n",
       "    var canvas_div = (this.canvas_div = document.createElement('div'));\n",
       "    canvas_div.setAttribute(\n",
       "        'style',\n",
       "        'border: 1px solid #ddd;' +\n",
       "            'box-sizing: content-box;' +\n",
       "            'clear: both;' +\n",
       "            'min-height: 1px;' +\n",
       "            'min-width: 1px;' +\n",
       "            'outline: 0;' +\n",
       "            'overflow: hidden;' +\n",
       "            'position: relative;' +\n",
       "            'resize: both;'\n",
       "    );\n",
       "\n",
       "    function on_keyboard_event_closure(name) {\n",
       "        return function (event) {\n",
       "            return fig.key_event(event, name);\n",
       "        };\n",
       "    }\n",
       "\n",
       "    canvas_div.addEventListener(\n",
       "        'keydown',\n",
       "        on_keyboard_event_closure('key_press')\n",
       "    );\n",
       "    canvas_div.addEventListener(\n",
       "        'keyup',\n",
       "        on_keyboard_event_closure('key_release')\n",
       "    );\n",
       "\n",
       "    this._canvas_extra_style(canvas_div);\n",
       "    this.root.appendChild(canvas_div);\n",
       "\n",
       "    var canvas = (this.canvas = document.createElement('canvas'));\n",
       "    canvas.classList.add('mpl-canvas');\n",
       "    canvas.setAttribute('style', 'box-sizing: content-box;');\n",
       "\n",
       "    this.context = canvas.getContext('2d');\n",
       "\n",
       "    var backingStore =\n",
       "        this.context.backingStorePixelRatio ||\n",
       "        this.context.webkitBackingStorePixelRatio ||\n",
       "        this.context.mozBackingStorePixelRatio ||\n",
       "        this.context.msBackingStorePixelRatio ||\n",
       "        this.context.oBackingStorePixelRatio ||\n",
       "        this.context.backingStorePixelRatio ||\n",
       "        1;\n",
       "\n",
       "    mpl.ratio = (window.devicePixelRatio || 1) / backingStore;\n",
       "\n",
       "    var rubberband_canvas = (this.rubberband_canvas = document.createElement(\n",
       "        'canvas'\n",
       "    ));\n",
       "    rubberband_canvas.setAttribute(\n",
       "        'style',\n",
       "        'box-sizing: content-box; position: absolute; left: 0; top: 0; z-index: 1;'\n",
       "    );\n",
       "\n",
       "    var resizeObserver = new ResizeObserver(function (entries) {\n",
       "        var nentries = entries.length;\n",
       "        for (var i = 0; i < nentries; i++) {\n",
       "            var entry = entries[i];\n",
       "            var width, height;\n",
       "            if (entry.contentBoxSize) {\n",
       "                if (entry.contentBoxSize instanceof Array) {\n",
       "                    // Chrome 84 implements new version of spec.\n",
       "                    width = entry.contentBoxSize[0].inlineSize;\n",
       "                    height = entry.contentBoxSize[0].blockSize;\n",
       "                } else {\n",
       "                    // Firefox implements old version of spec.\n",
       "                    width = entry.contentBoxSize.inlineSize;\n",
       "                    height = entry.contentBoxSize.blockSize;\n",
       "                }\n",
       "            } else {\n",
       "                // Chrome <84 implements even older version of spec.\n",
       "                width = entry.contentRect.width;\n",
       "                height = entry.contentRect.height;\n",
       "            }\n",
       "\n",
       "            // Keep the size of the canvas and rubber band canvas in sync with\n",
       "            // the canvas container.\n",
       "            if (entry.devicePixelContentBoxSize) {\n",
       "                // Chrome 84 implements new version of spec.\n",
       "                canvas.setAttribute(\n",
       "                    'width',\n",
       "                    entry.devicePixelContentBoxSize[0].inlineSize\n",
       "                );\n",
       "                canvas.setAttribute(\n",
       "                    'height',\n",
       "                    entry.devicePixelContentBoxSize[0].blockSize\n",
       "                );\n",
       "            } else {\n",
       "                canvas.setAttribute('width', width * mpl.ratio);\n",
       "                canvas.setAttribute('height', height * mpl.ratio);\n",
       "            }\n",
       "            canvas.setAttribute(\n",
       "                'style',\n",
       "                'width: ' + width + 'px; height: ' + height + 'px;'\n",
       "            );\n",
       "\n",
       "            rubberband_canvas.setAttribute('width', width);\n",
       "            rubberband_canvas.setAttribute('height', height);\n",
       "\n",
       "            // And update the size in Python. We ignore the initial 0/0 size\n",
       "            // that occurs as the element is placed into the DOM, which should\n",
       "            // otherwise not happen due to the minimum size styling.\n",
       "            if (width != 0 && height != 0) {\n",
       "                fig.request_resize(width, height);\n",
       "            }\n",
       "        }\n",
       "    });\n",
       "    resizeObserver.observe(canvas_div);\n",
       "\n",
       "    function on_mouse_event_closure(name) {\n",
       "        return function (event) {\n",
       "            return fig.mouse_event(event, name);\n",
       "        };\n",
       "    }\n",
       "\n",
       "    rubberband_canvas.addEventListener(\n",
       "        'mousedown',\n",
       "        on_mouse_event_closure('button_press')\n",
       "    );\n",
       "    rubberband_canvas.addEventListener(\n",
       "        'mouseup',\n",
       "        on_mouse_event_closure('button_release')\n",
       "    );\n",
       "    // Throttle sequential mouse events to 1 every 20ms.\n",
       "    rubberband_canvas.addEventListener(\n",
       "        'mousemove',\n",
       "        on_mouse_event_closure('motion_notify')\n",
       "    );\n",
       "\n",
       "    rubberband_canvas.addEventListener(\n",
       "        'mouseenter',\n",
       "        on_mouse_event_closure('figure_enter')\n",
       "    );\n",
       "    rubberband_canvas.addEventListener(\n",
       "        'mouseleave',\n",
       "        on_mouse_event_closure('figure_leave')\n",
       "    );\n",
       "\n",
       "    canvas_div.addEventListener('wheel', function (event) {\n",
       "        if (event.deltaY < 0) {\n",
       "            event.step = 1;\n",
       "        } else {\n",
       "            event.step = -1;\n",
       "        }\n",
       "        on_mouse_event_closure('scroll')(event);\n",
       "    });\n",
       "\n",
       "    canvas_div.appendChild(canvas);\n",
       "    canvas_div.appendChild(rubberband_canvas);\n",
       "\n",
       "    this.rubberband_context = rubberband_canvas.getContext('2d');\n",
       "    this.rubberband_context.strokeStyle = '#000000';\n",
       "\n",
       "    this._resize_canvas = function (width, height, forward) {\n",
       "        if (forward) {\n",
       "            canvas_div.style.width = width + 'px';\n",
       "            canvas_div.style.height = height + 'px';\n",
       "        }\n",
       "    };\n",
       "\n",
       "    // Disable right mouse context menu.\n",
       "    this.rubberband_canvas.addEventListener('contextmenu', function (_e) {\n",
       "        event.preventDefault();\n",
       "        return false;\n",
       "    });\n",
       "\n",
       "    function set_focus() {\n",
       "        canvas.focus();\n",
       "        canvas_div.focus();\n",
       "    }\n",
       "\n",
       "    window.setTimeout(set_focus, 100);\n",
       "};\n",
       "\n",
       "mpl.figure.prototype._init_toolbar = function () {\n",
       "    var fig = this;\n",
       "\n",
       "    var toolbar = document.createElement('div');\n",
       "    toolbar.classList = 'mpl-toolbar';\n",
       "    this.root.appendChild(toolbar);\n",
       "\n",
       "    function on_click_closure(name) {\n",
       "        return function (_event) {\n",
       "            return fig.toolbar_button_onclick(name);\n",
       "        };\n",
       "    }\n",
       "\n",
       "    function on_mouseover_closure(tooltip) {\n",
       "        return function (event) {\n",
       "            if (!event.currentTarget.disabled) {\n",
       "                return fig.toolbar_button_onmouseover(tooltip);\n",
       "            }\n",
       "        };\n",
       "    }\n",
       "\n",
       "    fig.buttons = {};\n",
       "    var buttonGroup = document.createElement('div');\n",
       "    buttonGroup.classList = 'mpl-button-group';\n",
       "    for (var toolbar_ind in mpl.toolbar_items) {\n",
       "        var name = mpl.toolbar_items[toolbar_ind][0];\n",
       "        var tooltip = mpl.toolbar_items[toolbar_ind][1];\n",
       "        var image = mpl.toolbar_items[toolbar_ind][2];\n",
       "        var method_name = mpl.toolbar_items[toolbar_ind][3];\n",
       "\n",
       "        if (!name) {\n",
       "            /* Instead of a spacer, we start a new button group. */\n",
       "            if (buttonGroup.hasChildNodes()) {\n",
       "                toolbar.appendChild(buttonGroup);\n",
       "            }\n",
       "            buttonGroup = document.createElement('div');\n",
       "            buttonGroup.classList = 'mpl-button-group';\n",
       "            continue;\n",
       "        }\n",
       "\n",
       "        var button = (fig.buttons[name] = document.createElement('button'));\n",
       "        button.classList = 'mpl-widget';\n",
       "        button.setAttribute('role', 'button');\n",
       "        button.setAttribute('aria-disabled', 'false');\n",
       "        button.addEventListener('click', on_click_closure(method_name));\n",
       "        button.addEventListener('mouseover', on_mouseover_closure(tooltip));\n",
       "\n",
       "        var icon_img = document.createElement('img');\n",
       "        icon_img.src = '_images/' + image + '.png';\n",
       "        icon_img.srcset = '_images/' + image + '_large.png 2x';\n",
       "        icon_img.alt = tooltip;\n",
       "        button.appendChild(icon_img);\n",
       "\n",
       "        buttonGroup.appendChild(button);\n",
       "    }\n",
       "\n",
       "    if (buttonGroup.hasChildNodes()) {\n",
       "        toolbar.appendChild(buttonGroup);\n",
       "    }\n",
       "\n",
       "    var fmt_picker = document.createElement('select');\n",
       "    fmt_picker.classList = 'mpl-widget';\n",
       "    toolbar.appendChild(fmt_picker);\n",
       "    this.format_dropdown = fmt_picker;\n",
       "\n",
       "    for (var ind in mpl.extensions) {\n",
       "        var fmt = mpl.extensions[ind];\n",
       "        var option = document.createElement('option');\n",
       "        option.selected = fmt === mpl.default_extension;\n",
       "        option.innerHTML = fmt;\n",
       "        fmt_picker.appendChild(option);\n",
       "    }\n",
       "\n",
       "    var status_bar = document.createElement('span');\n",
       "    status_bar.classList = 'mpl-message';\n",
       "    toolbar.appendChild(status_bar);\n",
       "    this.message = status_bar;\n",
       "};\n",
       "\n",
       "mpl.figure.prototype.request_resize = function (x_pixels, y_pixels) {\n",
       "    // Request matplotlib to resize the figure. Matplotlib will then trigger a resize in the client,\n",
       "    // which will in turn request a refresh of the image.\n",
       "    this.send_message('resize', { width: x_pixels, height: y_pixels });\n",
       "};\n",
       "\n",
       "mpl.figure.prototype.send_message = function (type, properties) {\n",
       "    properties['type'] = type;\n",
       "    properties['figure_id'] = this.id;\n",
       "    this.ws.send(JSON.stringify(properties));\n",
       "};\n",
       "\n",
       "mpl.figure.prototype.send_draw_message = function () {\n",
       "    if (!this.waiting) {\n",
       "        this.waiting = true;\n",
       "        this.ws.send(JSON.stringify({ type: 'draw', figure_id: this.id }));\n",
       "    }\n",
       "};\n",
       "\n",
       "mpl.figure.prototype.handle_save = function (fig, _msg) {\n",
       "    var format_dropdown = fig.format_dropdown;\n",
       "    var format = format_dropdown.options[format_dropdown.selectedIndex].value;\n",
       "    fig.ondownload(fig, format);\n",
       "};\n",
       "\n",
       "mpl.figure.prototype.handle_resize = function (fig, msg) {\n",
       "    var size = msg['size'];\n",
       "    if (size[0] !== fig.canvas.width || size[1] !== fig.canvas.height) {\n",
       "        fig._resize_canvas(size[0], size[1], msg['forward']);\n",
       "        fig.send_message('refresh', {});\n",
       "    }\n",
       "};\n",
       "\n",
       "mpl.figure.prototype.handle_rubberband = function (fig, msg) {\n",
       "    var x0 = msg['x0'] / mpl.ratio;\n",
       "    var y0 = (fig.canvas.height - msg['y0']) / mpl.ratio;\n",
       "    var x1 = msg['x1'] / mpl.ratio;\n",
       "    var y1 = (fig.canvas.height - msg['y1']) / mpl.ratio;\n",
       "    x0 = Math.floor(x0) + 0.5;\n",
       "    y0 = Math.floor(y0) + 0.5;\n",
       "    x1 = Math.floor(x1) + 0.5;\n",
       "    y1 = Math.floor(y1) + 0.5;\n",
       "    var min_x = Math.min(x0, x1);\n",
       "    var min_y = Math.min(y0, y1);\n",
       "    var width = Math.abs(x1 - x0);\n",
       "    var height = Math.abs(y1 - y0);\n",
       "\n",
       "    fig.rubberband_context.clearRect(\n",
       "        0,\n",
       "        0,\n",
       "        fig.canvas.width / mpl.ratio,\n",
       "        fig.canvas.height / mpl.ratio\n",
       "    );\n",
       "\n",
       "    fig.rubberband_context.strokeRect(min_x, min_y, width, height);\n",
       "};\n",
       "\n",
       "mpl.figure.prototype.handle_figure_label = function (fig, msg) {\n",
       "    // Updates the figure title.\n",
       "    fig.header.textContent = msg['label'];\n",
       "};\n",
       "\n",
       "mpl.figure.prototype.handle_cursor = function (fig, msg) {\n",
       "    var cursor = msg['cursor'];\n",
       "    switch (cursor) {\n",
       "        case 0:\n",
       "            cursor = 'pointer';\n",
       "            break;\n",
       "        case 1:\n",
       "            cursor = 'default';\n",
       "            break;\n",
       "        case 2:\n",
       "            cursor = 'crosshair';\n",
       "            break;\n",
       "        case 3:\n",
       "            cursor = 'move';\n",
       "            break;\n",
       "    }\n",
       "    fig.rubberband_canvas.style.cursor = cursor;\n",
       "};\n",
       "\n",
       "mpl.figure.prototype.handle_message = function (fig, msg) {\n",
       "    fig.message.textContent = msg['message'];\n",
       "};\n",
       "\n",
       "mpl.figure.prototype.handle_draw = function (fig, _msg) {\n",
       "    // Request the server to send over a new figure.\n",
       "    fig.send_draw_message();\n",
       "};\n",
       "\n",
       "mpl.figure.prototype.handle_image_mode = function (fig, msg) {\n",
       "    fig.image_mode = msg['mode'];\n",
       "};\n",
       "\n",
       "mpl.figure.prototype.handle_history_buttons = function (fig, msg) {\n",
       "    for (var key in msg) {\n",
       "        if (!(key in fig.buttons)) {\n",
       "            continue;\n",
       "        }\n",
       "        fig.buttons[key].disabled = !msg[key];\n",
       "        fig.buttons[key].setAttribute('aria-disabled', !msg[key]);\n",
       "    }\n",
       "};\n",
       "\n",
       "mpl.figure.prototype.handle_navigate_mode = function (fig, msg) {\n",
       "    if (msg['mode'] === 'PAN') {\n",
       "        fig.buttons['Pan'].classList.add('active');\n",
       "        fig.buttons['Zoom'].classList.remove('active');\n",
       "    } else if (msg['mode'] === 'ZOOM') {\n",
       "        fig.buttons['Pan'].classList.remove('active');\n",
       "        fig.buttons['Zoom'].classList.add('active');\n",
       "    } else {\n",
       "        fig.buttons['Pan'].classList.remove('active');\n",
       "        fig.buttons['Zoom'].classList.remove('active');\n",
       "    }\n",
       "};\n",
       "\n",
       "mpl.figure.prototype.updated_canvas_event = function () {\n",
       "    // Called whenever the canvas gets updated.\n",
       "    this.send_message('ack', {});\n",
       "};\n",
       "\n",
       "// A function to construct a web socket function for onmessage handling.\n",
       "// Called in the figure constructor.\n",
       "mpl.figure.prototype._make_on_message_function = function (fig) {\n",
       "    return function socket_on_message(evt) {\n",
       "        if (evt.data instanceof Blob) {\n",
       "            /* FIXME: We get \"Resource interpreted as Image but\n",
       "             * transferred with MIME type text/plain:\" errors on\n",
       "             * Chrome.  But how to set the MIME type?  It doesn't seem\n",
       "             * to be part of the websocket stream */\n",
       "            evt.data.type = 'image/png';\n",
       "\n",
       "            /* Free the memory for the previous frames */\n",
       "            if (fig.imageObj.src) {\n",
       "                (window.URL || window.webkitURL).revokeObjectURL(\n",
       "                    fig.imageObj.src\n",
       "                );\n",
       "            }\n",
       "\n",
       "            fig.imageObj.src = (window.URL || window.webkitURL).createObjectURL(\n",
       "                evt.data\n",
       "            );\n",
       "            fig.updated_canvas_event();\n",
       "            fig.waiting = false;\n",
       "            return;\n",
       "        } else if (\n",
       "            typeof evt.data === 'string' &&\n",
       "            evt.data.slice(0, 21) === 'data:image/png;base64'\n",
       "        ) {\n",
       "            fig.imageObj.src = evt.data;\n",
       "            fig.updated_canvas_event();\n",
       "            fig.waiting = false;\n",
       "            return;\n",
       "        }\n",
       "\n",
       "        var msg = JSON.parse(evt.data);\n",
       "        var msg_type = msg['type'];\n",
       "\n",
       "        // Call the  \"handle_{type}\" callback, which takes\n",
       "        // the figure and JSON message as its only arguments.\n",
       "        try {\n",
       "            var callback = fig['handle_' + msg_type];\n",
       "        } catch (e) {\n",
       "            console.log(\n",
       "                \"No handler for the '\" + msg_type + \"' message type: \",\n",
       "                msg\n",
       "            );\n",
       "            return;\n",
       "        }\n",
       "\n",
       "        if (callback) {\n",
       "            try {\n",
       "                // console.log(\"Handling '\" + msg_type + \"' message: \", msg);\n",
       "                callback(fig, msg);\n",
       "            } catch (e) {\n",
       "                console.log(\n",
       "                    \"Exception inside the 'handler_\" + msg_type + \"' callback:\",\n",
       "                    e,\n",
       "                    e.stack,\n",
       "                    msg\n",
       "                );\n",
       "            }\n",
       "        }\n",
       "    };\n",
       "};\n",
       "\n",
       "// from http://stackoverflow.com/questions/1114465/getting-mouse-location-in-canvas\n",
       "mpl.findpos = function (e) {\n",
       "    //this section is from http://www.quirksmode.org/js/events_properties.html\n",
       "    var targ;\n",
       "    if (!e) {\n",
       "        e = window.event;\n",
       "    }\n",
       "    if (e.target) {\n",
       "        targ = e.target;\n",
       "    } else if (e.srcElement) {\n",
       "        targ = e.srcElement;\n",
       "    }\n",
       "    if (targ.nodeType === 3) {\n",
       "        // defeat Safari bug\n",
       "        targ = targ.parentNode;\n",
       "    }\n",
       "\n",
       "    // pageX,Y are the mouse positions relative to the document\n",
       "    var boundingRect = targ.getBoundingClientRect();\n",
       "    var x = e.pageX - (boundingRect.left + document.body.scrollLeft);\n",
       "    var y = e.pageY - (boundingRect.top + document.body.scrollTop);\n",
       "\n",
       "    return { x: x, y: y };\n",
       "};\n",
       "\n",
       "/*\n",
       " * return a copy of an object with only non-object keys\n",
       " * we need this to avoid circular references\n",
       " * http://stackoverflow.com/a/24161582/3208463\n",
       " */\n",
       "function simpleKeys(original) {\n",
       "    return Object.keys(original).reduce(function (obj, key) {\n",
       "        if (typeof original[key] !== 'object') {\n",
       "            obj[key] = original[key];\n",
       "        }\n",
       "        return obj;\n",
       "    }, {});\n",
       "}\n",
       "\n",
       "mpl.figure.prototype.mouse_event = function (event, name) {\n",
       "    var canvas_pos = mpl.findpos(event);\n",
       "\n",
       "    if (name === 'button_press') {\n",
       "        this.canvas.focus();\n",
       "        this.canvas_div.focus();\n",
       "    }\n",
       "\n",
       "    var x = canvas_pos.x * mpl.ratio;\n",
       "    var y = canvas_pos.y * mpl.ratio;\n",
       "\n",
       "    this.send_message(name, {\n",
       "        x: x,\n",
       "        y: y,\n",
       "        button: event.button,\n",
       "        step: event.step,\n",
       "        guiEvent: simpleKeys(event),\n",
       "    });\n",
       "\n",
       "    /* This prevents the web browser from automatically changing to\n",
       "     * the text insertion cursor when the button is pressed.  We want\n",
       "     * to control all of the cursor setting manually through the\n",
       "     * 'cursor' event from matplotlib */\n",
       "    event.preventDefault();\n",
       "    return false;\n",
       "};\n",
       "\n",
       "mpl.figure.prototype._key_event_extra = function (_event, _name) {\n",
       "    // Handle any extra behaviour associated with a key event\n",
       "};\n",
       "\n",
       "mpl.figure.prototype.key_event = function (event, name) {\n",
       "    // Prevent repeat events\n",
       "    if (name === 'key_press') {\n",
       "        if (event.which === this._key) {\n",
       "            return;\n",
       "        } else {\n",
       "            this._key = event.which;\n",
       "        }\n",
       "    }\n",
       "    if (name === 'key_release') {\n",
       "        this._key = null;\n",
       "    }\n",
       "\n",
       "    var value = '';\n",
       "    if (event.ctrlKey && event.which !== 17) {\n",
       "        value += 'ctrl+';\n",
       "    }\n",
       "    if (event.altKey && event.which !== 18) {\n",
       "        value += 'alt+';\n",
       "    }\n",
       "    if (event.shiftKey && event.which !== 16) {\n",
       "        value += 'shift+';\n",
       "    }\n",
       "\n",
       "    value += 'k';\n",
       "    value += event.which.toString();\n",
       "\n",
       "    this._key_event_extra(event, name);\n",
       "\n",
       "    this.send_message(name, { key: value, guiEvent: simpleKeys(event) });\n",
       "    return false;\n",
       "};\n",
       "\n",
       "mpl.figure.prototype.toolbar_button_onclick = function (name) {\n",
       "    if (name === 'download') {\n",
       "        this.handle_save(this, null);\n",
       "    } else {\n",
       "        this.send_message('toolbar_button', { name: name });\n",
       "    }\n",
       "};\n",
       "\n",
       "mpl.figure.prototype.toolbar_button_onmouseover = function (tooltip) {\n",
       "    this.message.textContent = tooltip;\n",
       "};\n",
       "mpl.toolbar_items = [[\"Home\", \"Reset original view\", \"fa fa-home icon-home\", \"home\"], [\"Back\", \"Back to previous view\", \"fa fa-arrow-left icon-arrow-left\", \"back\"], [\"Forward\", \"Forward to next view\", \"fa fa-arrow-right icon-arrow-right\", \"forward\"], [\"\", \"\", \"\", \"\"], [\"Pan\", \"Left button pans, Right button zooms\\nx/y fixes axis, CTRL fixes aspect\", \"fa fa-arrows icon-move\", \"pan\"], [\"Zoom\", \"Zoom to rectangle\\nx/y fixes axis, CTRL fixes aspect\", \"fa fa-square-o icon-check-empty\", \"zoom\"], [\"\", \"\", \"\", \"\"], [\"Download\", \"Download plot\", \"fa fa-floppy-o icon-save\", \"download\"]];\n",
       "\n",
       "mpl.extensions = [\"eps\", \"jpeg\", \"pdf\", \"png\", \"ps\", \"raw\", \"svg\", \"tif\"];\n",
       "\n",
       "mpl.default_extension = \"png\";/* global mpl */\n",
       "\n",
       "var comm_websocket_adapter = function (comm) {\n",
       "    // Create a \"websocket\"-like object which calls the given IPython comm\n",
       "    // object with the appropriate methods. Currently this is a non binary\n",
       "    // socket, so there is still some room for performance tuning.\n",
       "    var ws = {};\n",
       "\n",
       "    ws.close = function () {\n",
       "        comm.close();\n",
       "    };\n",
       "    ws.send = function (m) {\n",
       "        //console.log('sending', m);\n",
       "        comm.send(m);\n",
       "    };\n",
       "    // Register the callback with on_msg.\n",
       "    comm.on_msg(function (msg) {\n",
       "        //console.log('receiving', msg['content']['data'], msg);\n",
       "        // Pass the mpl event to the overridden (by mpl) onmessage function.\n",
       "        ws.onmessage(msg['content']['data']);\n",
       "    });\n",
       "    return ws;\n",
       "};\n",
       "\n",
       "mpl.mpl_figure_comm = function (comm, msg) {\n",
       "    // This is the function which gets called when the mpl process\n",
       "    // starts-up an IPython Comm through the \"matplotlib\" channel.\n",
       "\n",
       "    var id = msg.content.data.id;\n",
       "    // Get hold of the div created by the display call when the Comm\n",
       "    // socket was opened in Python.\n",
       "    var element = document.getElementById(id);\n",
       "    var ws_proxy = comm_websocket_adapter(comm);\n",
       "\n",
       "    function ondownload(figure, _format) {\n",
       "        window.open(figure.canvas.toDataURL());\n",
       "    }\n",
       "\n",
       "    var fig = new mpl.figure(id, ws_proxy, ondownload, element);\n",
       "\n",
       "    // Call onopen now - mpl needs it, as it is assuming we've passed it a real\n",
       "    // web socket which is closed, not our websocket->open comm proxy.\n",
       "    ws_proxy.onopen();\n",
       "\n",
       "    fig.parent_element = element;\n",
       "    fig.cell_info = mpl.find_output_cell(\"<div id='\" + id + \"'></div>\");\n",
       "    if (!fig.cell_info) {\n",
       "        console.error('Failed to find cell for figure', id, fig);\n",
       "        return;\n",
       "    }\n",
       "};\n",
       "\n",
       "mpl.figure.prototype.handle_close = function (fig, msg) {\n",
       "    var width = fig.canvas.width / mpl.ratio;\n",
       "    fig.root.removeEventListener('remove', this._remove_fig_handler);\n",
       "\n",
       "    // Update the output cell to use the data from the current canvas.\n",
       "    fig.push_to_output();\n",
       "    var dataURL = fig.canvas.toDataURL();\n",
       "    // Re-enable the keyboard manager in IPython - without this line, in FF,\n",
       "    // the notebook keyboard shortcuts fail.\n",
       "    IPython.keyboard_manager.enable();\n",
       "    fig.parent_element.innerHTML =\n",
       "        '<img src=\"' + dataURL + '\" width=\"' + width + '\">';\n",
       "    fig.close_ws(fig, msg);\n",
       "};\n",
       "\n",
       "mpl.figure.prototype.close_ws = function (fig, msg) {\n",
       "    fig.send_message('closing', msg);\n",
       "    // fig.ws.close()\n",
       "};\n",
       "\n",
       "mpl.figure.prototype.push_to_output = function (_remove_interactive) {\n",
       "    // Turn the data on the canvas into data in the output cell.\n",
       "    var width = this.canvas.width / mpl.ratio;\n",
       "    var dataURL = this.canvas.toDataURL();\n",
       "    this.cell_info[1]['text/html'] =\n",
       "        '<img src=\"' + dataURL + '\" width=\"' + width + '\">';\n",
       "};\n",
       "\n",
       "mpl.figure.prototype.updated_canvas_event = function () {\n",
       "    // Tell IPython that the notebook contents must change.\n",
       "    IPython.notebook.set_dirty(true);\n",
       "    this.send_message('ack', {});\n",
       "    var fig = this;\n",
       "    // Wait a second, then push the new image to the DOM so\n",
       "    // that it is saved nicely (might be nice to debounce this).\n",
       "    setTimeout(function () {\n",
       "        fig.push_to_output();\n",
       "    }, 1000);\n",
       "};\n",
       "\n",
       "mpl.figure.prototype._init_toolbar = function () {\n",
       "    var fig = this;\n",
       "\n",
       "    var toolbar = document.createElement('div');\n",
       "    toolbar.classList = 'btn-toolbar';\n",
       "    this.root.appendChild(toolbar);\n",
       "\n",
       "    function on_click_closure(name) {\n",
       "        return function (_event) {\n",
       "            return fig.toolbar_button_onclick(name);\n",
       "        };\n",
       "    }\n",
       "\n",
       "    function on_mouseover_closure(tooltip) {\n",
       "        return function (event) {\n",
       "            if (!event.currentTarget.disabled) {\n",
       "                return fig.toolbar_button_onmouseover(tooltip);\n",
       "            }\n",
       "        };\n",
       "    }\n",
       "\n",
       "    fig.buttons = {};\n",
       "    var buttonGroup = document.createElement('div');\n",
       "    buttonGroup.classList = 'btn-group';\n",
       "    var button;\n",
       "    for (var toolbar_ind in mpl.toolbar_items) {\n",
       "        var name = mpl.toolbar_items[toolbar_ind][0];\n",
       "        var tooltip = mpl.toolbar_items[toolbar_ind][1];\n",
       "        var image = mpl.toolbar_items[toolbar_ind][2];\n",
       "        var method_name = mpl.toolbar_items[toolbar_ind][3];\n",
       "\n",
       "        if (!name) {\n",
       "            /* Instead of a spacer, we start a new button group. */\n",
       "            if (buttonGroup.hasChildNodes()) {\n",
       "                toolbar.appendChild(buttonGroup);\n",
       "            }\n",
       "            buttonGroup = document.createElement('div');\n",
       "            buttonGroup.classList = 'btn-group';\n",
       "            continue;\n",
       "        }\n",
       "\n",
       "        button = fig.buttons[name] = document.createElement('button');\n",
       "        button.classList = 'btn btn-default';\n",
       "        button.href = '#';\n",
       "        button.title = name;\n",
       "        button.innerHTML = '<i class=\"fa ' + image + ' fa-lg\"></i>';\n",
       "        button.addEventListener('click', on_click_closure(method_name));\n",
       "        button.addEventListener('mouseover', on_mouseover_closure(tooltip));\n",
       "        buttonGroup.appendChild(button);\n",
       "    }\n",
       "\n",
       "    if (buttonGroup.hasChildNodes()) {\n",
       "        toolbar.appendChild(buttonGroup);\n",
       "    }\n",
       "\n",
       "    // Add the status bar.\n",
       "    var status_bar = document.createElement('span');\n",
       "    status_bar.classList = 'mpl-message pull-right';\n",
       "    toolbar.appendChild(status_bar);\n",
       "    this.message = status_bar;\n",
       "\n",
       "    // Add the close button to the window.\n",
       "    var buttongrp = document.createElement('div');\n",
       "    buttongrp.classList = 'btn-group inline pull-right';\n",
       "    button = document.createElement('button');\n",
       "    button.classList = 'btn btn-mini btn-primary';\n",
       "    button.href = '#';\n",
       "    button.title = 'Stop Interaction';\n",
       "    button.innerHTML = '<i class=\"fa fa-power-off icon-remove icon-large\"></i>';\n",
       "    button.addEventListener('click', function (_evt) {\n",
       "        fig.handle_close(fig, {});\n",
       "    });\n",
       "    button.addEventListener(\n",
       "        'mouseover',\n",
       "        on_mouseover_closure('Stop Interaction')\n",
       "    );\n",
       "    buttongrp.appendChild(button);\n",
       "    var titlebar = this.root.querySelector('.ui-dialog-titlebar');\n",
       "    titlebar.insertBefore(buttongrp, titlebar.firstChild);\n",
       "};\n",
       "\n",
       "mpl.figure.prototype._remove_fig_handler = function () {\n",
       "    this.close_ws(this, {});\n",
       "};\n",
       "\n",
       "mpl.figure.prototype._root_extra_style = function (el) {\n",
       "    el.style.boxSizing = 'content-box'; // override notebook setting of border-box.\n",
       "    el.addEventListener('remove', this._remove_fig_handler);\n",
       "};\n",
       "\n",
       "mpl.figure.prototype._canvas_extra_style = function (el) {\n",
       "    // this is important to make the div 'focusable\n",
       "    el.setAttribute('tabindex', 0);\n",
       "    // reach out to IPython and tell the keyboard manager to turn it's self\n",
       "    // off when our div gets focus\n",
       "\n",
       "    // location in version 3\n",
       "    if (IPython.notebook.keyboard_manager) {\n",
       "        IPython.notebook.keyboard_manager.register_events(el);\n",
       "    } else {\n",
       "        // location in version 2\n",
       "        IPython.keyboard_manager.register_events(el);\n",
       "    }\n",
       "};\n",
       "\n",
       "mpl.figure.prototype._key_event_extra = function (event, _name) {\n",
       "    var manager = IPython.notebook.keyboard_manager;\n",
       "    if (!manager) {\n",
       "        manager = IPython.keyboard_manager;\n",
       "    }\n",
       "\n",
       "    // Check for shift+enter\n",
       "    if (event.shiftKey && event.which === 13) {\n",
       "        this.canvas_div.blur();\n",
       "        // select the cell after this one\n",
       "        var index = IPython.notebook.find_cell_index(this.cell_info[0]);\n",
       "        IPython.notebook.select(index + 1);\n",
       "    }\n",
       "};\n",
       "\n",
       "mpl.figure.prototype.handle_save = function (fig, _msg) {\n",
       "    fig.ondownload(fig, null);\n",
       "};\n",
       "\n",
       "mpl.find_output_cell = function (html_output) {\n",
       "    // Return the cell and output element which can be found *uniquely* in the notebook.\n",
       "    // Note - this is a bit hacky, but it is done because the \"notebook_saving.Notebook\"\n",
       "    // IPython event is triggered only after the cells have been serialised, which for\n",
       "    // our purposes (turning an active figure into a static one), is too late.\n",
       "    var cells = IPython.notebook.get_cells();\n",
       "    var ncells = cells.length;\n",
       "    for (var i = 0; i < ncells; i++) {\n",
       "        var cell = cells[i];\n",
       "        if (cell.cell_type === 'code') {\n",
       "            for (var j = 0; j < cell.output_area.outputs.length; j++) {\n",
       "                var data = cell.output_area.outputs[j];\n",
       "                if (data.data) {\n",
       "                    // IPython >= 3 moved mimebundle to data attribute of output\n",
       "                    data = data.data;\n",
       "                }\n",
       "                if (data['text/html'] === html_output) {\n",
       "                    return [cell, data, j];\n",
       "                }\n",
       "            }\n",
       "        }\n",
       "    }\n",
       "};\n",
       "\n",
       "// Register the function which deals with the matplotlib target/channel.\n",
       "// The kernel may be null if the page has been refreshed.\n",
       "if (IPython.notebook.kernel !== null) {\n",
       "    IPython.notebook.kernel.comm_manager.register_target(\n",
       "        'matplotlib',\n",
       "        mpl.mpl_figure_comm\n",
       "    );\n",
       "}\n"
      ],
      "text/plain": [
       "<IPython.core.display.Javascript object>"
      ]
     },
     "metadata": {},
     "output_type": "display_data"
    },
    {
     "data": {
      "text/html": [
       "<img src=\"data:image/png;base64,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\" width=\"599.9999869953505\">"
      ],
      "text/plain": [
       "<IPython.core.display.HTML object>"
      ]
     },
     "metadata": {},
     "output_type": "display_data"
    },
    {
     "name": "stdout",
     "output_type": "stream",
     "text": [
      "\\\\mendel\\Mendel_SSD1\\Pu_Temp\\20220215-P_brain_CTP11-1000_CTP12_from0208\\Decoder\\Tests\\Figures\\loss_rates.png\n"
     ]
    }
   ],
   "source": [
    "all_zxys = np.concatenate(all_zxys_list)\n",
    "loss_rates = np.mean(np.isnan(all_zxys).any(2), axis=0)\n",
    "\n",
    "fig, ax = plt.subplots(figsize=(4,2),dpi=150)\n",
    "_l = ax.plot(1-loss_rates, linewidth=0.8)\n",
    "ax.set_ylim([0,1])\n",
    "ax.set_xlabel('Regions', labelpad=1, fontsize=7.5)\n",
    "ax.set_ylabel('Detection rate', labelpad=1, fontsize=7.5)\n",
    "\n",
    "# border\n",
    "[i[1].set_linewidth(0.5) for i in ax.spines.items()]\n",
    "# ticks\n",
    "ax.tick_params('both', labelsize=7.5, \n",
    "               width=0.5, length=2,\n",
    "               pad=1)\n",
    "\n",
    "plt.gcf().subplots_adjust(bottom=0.15, left=0.1,)\n",
    "if save_figure:\n",
    "    loss_rate_fig_fl = os.path.join(decode_figure_folder, 'loss_rates.png')\n",
    "    print(loss_rate_fig_fl)\n",
    "    fig.savefig(loss_rate_fig_fl, transparent=True)\n",
    "fig.show()"
   ]
  },
  {
   "cell_type": "markdown",
   "metadata": {},
   "source": [
    "## classes"
   ]
  },
  {
   "cell_type": "code",
   "execution_count": 20,
   "metadata": {},
   "outputs": [],
   "source": [
    "class_labels = []\n",
    "for _uid in uid_list:\n",
    "    if _uid in uid_2_class:\n",
    "        class_labels.append(uid_2_class[_uid])\n",
    "    else:\n",
    "        class_labels.append('None')"
   ]
  },
  {
   "cell_type": "code",
   "execution_count": 21,
   "metadata": {},
   "outputs": [],
   "source": [
    "_classes, _class_counts = np.unique(class_labels, return_counts=True)"
   ]
  },
  {
   "cell_type": "code",
   "execution_count": 22,
   "metadata": {},
   "outputs": [
    {
     "data": {
      "text/plain": [
       "(array(['Astro', 'Endo', 'L2/3 IT', 'L4/5 IT', 'L5 ET', 'L5 IT', 'L5/6 NP',\n",
       "        'L6 CT', 'L6 IT', 'L6b', 'Lamp5', 'Micro', 'None', 'OPC', 'Oligo',\n",
       "        'Other', 'Peri', 'Pvalb', 'Sncg', 'Sst', 'VLMC-SMC', 'Vip'],\n",
       "       dtype='<U8'),\n",
       " array([ 999,  446, 1083,  786,  458,  898,  297, 1496,  656,  178,   87,\n",
       "         180, 8329,  394, 1054,   82,  233,  391,  132,  244,  156,  139],\n",
       "       dtype=int64))"
      ]
     },
     "execution_count": 22,
     "metadata": {},
     "output_type": "execute_result"
    }
   ],
   "source": [
    "_classes, _class_counts"
   ]
  },
  {
   "cell_type": "code",
   "execution_count": 26,
   "metadata": {},
   "outputs": [],
   "source": [
    "all_zxys = np.concatenate(all_zxys_list) * 1000\n",
    "#all_zxys = all_zxys.astype(np.int32)"
   ]
  },
  {
   "cell_type": "code",
   "execution_count": 31,
   "metadata": {},
   "outputs": [],
   "source": [
    "_zxys = np.ma.array(all_zxys[0]*1000, mask=np.isnan(all_zxys[0]), dtype=np.int32)"
   ]
  },
  {
   "cell_type": "code",
   "execution_count": 34,
   "metadata": {},
   "outputs": [],
   "source": [
    "from scipy.spatial.distance import pdist, squareform"
   ]
  },
  {
   "cell_type": "code",
   "execution_count": 37,
   "metadata": {},
   "outputs": [
    {
     "data": {
      "text/plain": [
       "array([[0.00000000e+00, 0.00000000e+00, 0.00000000e+00, ...,\n",
       "        3.92174806e+09, 0.00000000e+00, 0.00000000e+00],\n",
       "       [0.00000000e+00, 0.00000000e+00, 0.00000000e+00, ...,\n",
       "        3.92174806e+09, 0.00000000e+00, 0.00000000e+00],\n",
       "       [0.00000000e+00, 0.00000000e+00, 0.00000000e+00, ...,\n",
       "        3.92174806e+09, 0.00000000e+00, 0.00000000e+00],\n",
       "       ...,\n",
       "       [3.92174806e+09, 3.92174806e+09, 3.92174806e+09, ...,\n",
       "        0.00000000e+00, 3.92174806e+09, 3.92174806e+09],\n",
       "       [0.00000000e+00, 0.00000000e+00, 0.00000000e+00, ...,\n",
       "        3.92174806e+09, 0.00000000e+00, 0.00000000e+00],\n",
       "       [0.00000000e+00, 0.00000000e+00, 0.00000000e+00, ...,\n",
       "        3.92174806e+09, 0.00000000e+00, 0.00000000e+00]])"
      ]
     },
     "execution_count": 37,
     "metadata": {},
     "output_type": "execute_result"
    }
   ],
   "source": [
    "(squareform(pdist(_zxys)))"
   ]
  },
  {
   "cell_type": "code",
   "execution_count": 116,
   "metadata": {},
   "outputs": [
    {
     "name": "stdout",
     "output_type": "stream",
     "text": [
      "Wall time: 26min 29s\n"
     ]
    }
   ],
   "source": [
    "%%time\n",
    "reload(ia.figure_tools.distmap)\n",
    "from ImageAnalysis3.figure_tools.distmap import batch_zxys_2_distmap\n",
    "\n",
    "\n",
    "# multi-processing\n",
    "with mp.Pool(44) as distmap_pool:\n",
    "    all_distmaps = distmap_pool.starmap(\n",
    "        batch_zxys_2_distmap, \n",
    "        [(_zxys,) for _zxys in all_zxys], \n",
    "        chunksize=1,\n",
    "    )\n",
    "    distmap_pool.close()\n",
    "    distmap_pool.join()\n",
    "    distmap_pool.terminate()"
   ]
  },
  {
   "cell_type": "code",
   "execution_count": 28,
   "metadata": {},
   "outputs": [
    {
     "ename": "NameError",
     "evalue": "name 'all_distmaps' is not defined",
     "output_type": "error",
     "traceback": [
      "\u001b[1;31m---------------------------------------------------------------------------\u001b[0m",
      "\u001b[1;31mNameError\u001b[0m                                 Traceback (most recent call last)",
      "\u001b[1;32m<timed exec>\u001b[0m in \u001b[0;36m<module>\u001b[1;34m\u001b[0m\n",
      "\u001b[1;31mNameError\u001b[0m: name 'all_distmaps' is not defined"
     ]
    }
   ],
   "source": [
    "%%time\n",
    "from ImageAnalysis3.classes import postanalysis\n",
    "median_distmap = postanalysis.parallel_reduce_matrix(all_distmaps, \n",
    "                                                     function='nanmedian', \n",
    "                                                     axis=0,\n",
    "                                                     num_threads=44)"
   ]
  },
  {
   "cell_type": "markdown",
   "metadata": {},
   "source": [
    "# Plot total median distmap"
   ]
  },
  {
   "cell_type": "code",
   "execution_count": 90,
   "metadata": {},
   "outputs": [],
   "source": [
    "_ordered_chr_names = []\n",
    "for _chr_name, _chr_reg_id in zip(codebook_df['chr'], codebook_df['chr_order']):\n",
    "    if _chr_name not in _ordered_chr_names:\n",
    "        _ordered_chr_names.append(_chr_name)\n",
    "chr_2_indices = {_chr:np.array(codebook_df.loc[codebook_df['chr']==_chr].index)\n",
    "                for _chr in np.unique(codebook_df['chr'].values)}\n",
    "\n",
    "_labels_edges = np.array([0] + [np.max(chr_2_indices[_chr]) for _chr in _ordered_chr_names])"
   ]
  },
  {
   "cell_type": "code",
   "execution_count": null,
   "metadata": {},
   "outputs": [],
   "source": []
  },
  {
   "cell_type": "code",
   "execution_count": null,
   "metadata": {},
   "outputs": [],
   "source": []
  },
  {
   "cell_type": "code",
   "execution_count": null,
   "metadata": {},
   "outputs": [],
   "source": []
  },
  {
   "cell_type": "code",
   "execution_count": null,
   "metadata": {},
   "outputs": [],
   "source": []
  },
  {
   "cell_type": "code",
   "execution_count": null,
   "metadata": {},
   "outputs": [],
   "source": []
  }
 ],
 "metadata": {
  "kernelspec": {
   "display_name": "Python 3",
   "language": "python",
   "name": "python3"
  },
  "language_info": {
   "codemirror_mode": {
    "name": "ipython",
    "version": 3
   },
   "file_extension": ".py",
   "mimetype": "text/x-python",
   "name": "python",
   "nbconvert_exporter": "python",
   "pygments_lexer": "ipython3",
   "version": "3.7.9"
  }
 },
 "nbformat": 4,
 "nbformat_minor": 4
}
