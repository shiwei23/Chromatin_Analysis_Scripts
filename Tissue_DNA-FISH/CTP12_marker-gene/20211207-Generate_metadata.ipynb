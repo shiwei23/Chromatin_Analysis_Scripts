{
 "cells": [
  {
   "cell_type": "code",
   "execution_count": 2,
   "metadata": {},
   "outputs": [
    {
     "name": "stdout",
     "output_type": "stream",
     "text": [
      "21868\n"
     ]
    }
   ],
   "source": [
    "%run \"..\\..\\Startup_py3.py\"\n",
    "sys.path.append(r\"..\\..\\..\\..\\Documents\")\n",
    "\n",
    "import ImageAnalysis3 as ia\n",
    "%matplotlib notebook\n",
    "\n",
    "from ImageAnalysis3 import *\n",
    "print(os.getpid())\n",
    "\n",
    "import h5py\n",
    "from ImageAnalysis3.classes import _allowed_kwds\n",
    "import ast"
   ]
  },
  {
   "cell_type": "code",
   "execution_count": 3,
   "metadata": {},
   "outputs": [
    {
     "name": "stdout",
     "output_type": "stream",
     "text": [
      "2021-12-07 23:49:55,396 [INFO] WRITING LOG OUTPUT TO C:\\Users\\puzheng\\.cellpose\\run.log\n",
      "21868\n"
     ]
    }
   ],
   "source": [
    "import numpy as np\n",
    "from cellpose import models, utils\n",
    "import os\n",
    "import sys\n",
    "import torch\n",
    "import cv2\n",
    "import h5py \n",
    "import ast\n",
    "\n",
    "import pandas as pd\n",
    "sys.path.append(r\"..\\..\\..\\..\\Documents\")\n",
    "from ImageAnalysis3.io_tools.crop import generate_neighboring_crop\n",
    "from skimage.segmentation import random_walker\n",
    "\n",
    "channel_2_th = {\n",
    "    '750':1000,\n",
    "    '647':1500,\n",
    "}\n",
    "overwrite=False\n",
    "torch.cuda.set_device('cuda:0')\n",
    "\n",
    "print(os.getpid())"
   ]
  },
  {
   "cell_type": "code",
   "execution_count": 4,
   "metadata": {},
   "outputs": [
    {
     "name": "stdout",
     "output_type": "stream",
     "text": [
      "125\n"
     ]
    }
   ],
   "source": [
    "save_folder = r'\\\\hubel\\Hubel_SSD\\Pu\\20211129-P_brain_CTP12-RNA'\n",
    "save_filenames = [os.path.join(save_folder, _fl) for _fl in os.listdir(save_folder)\n",
    "                  if _fl.split(os.extsep)[-1]=='hdf5']\n",
    "print(len(save_filenames))"
   ]
  },
  {
   "cell_type": "code",
   "execution_count": 5,
   "metadata": {},
   "outputs": [],
   "source": [
    "gene_readout_df = pd.read_excel(r'\\\\10.245.74.212\\Chromatin_NAS_2\\Chromatin_Libraries\\CTP-12_mop_markers\\smFISH_cell_class\\MOP_marker_gene_readout.xlsx')\n",
    "#gene_readout_df"
   ]
  },
  {
   "cell_type": "code",
   "execution_count": 6,
   "metadata": {},
   "outputs": [
    {
     "data": {
      "text/plain": [
       "<module 'ImageAnalysis3.meta_tools' from 'E:\\\\Users\\\\puzheng\\\\Documents\\\\ImageAnalysis3\\\\meta_tools\\\\__init__.py'>"
      ]
     },
     "execution_count": 6,
     "metadata": {},
     "output_type": "execute_result"
    }
   ],
   "source": [
    "from ImageAnalysis3 import meta_tools\n",
    "reload(ia.meta_tools)"
   ]
  },
  {
   "cell_type": "code",
   "execution_count": 7,
   "metadata": {},
   "outputs": [],
   "source": [
    "# generate metadata\n",
    "\n",
    "import multiprocessing as mp\n",
    "\n",
    "save_metadata = True\n",
    "overwrite = False\n",
    "# prepare args\n",
    "metadata_args = []\n",
    "\n",
    "processed_fovs = []\n",
    "\n",
    "for _filename in save_filenames:\n",
    "    \n",
    "    with h5py.File(_filename, \"r\", libver='latest') as _f:\n",
    "        \n",
    "        fov_id = _f.attrs['fov_id']\n",
    "        processed_fovs.append(fov_id)\n",
    "        parameters = ast.literal_eval(_f.attrs['shared_parameters']) \n",
    "        \n",
    "    pixel_sizes = parameters['distance_zxy']\n",
    "    single_im_size = parameters['single_im_size']\n",
    "\n",
    "    segmentation_filename = _filename.replace('.hdf5', '_Segmentation.npy')\n",
    "    \n",
    "    metadata_filename = _filename.replace('.hdf5', '_CellLocations.csv')\n",
    "    \n",
    "    metadata_args.append((segmentation_filename, fov_id, #np.array(fov_positions.iloc[fov_id]), \n",
    "                          single_im_size, pixel_sizes, \n",
    "                          save_metadata, metadata_filename, overwrite) )\n",
    "    "
   ]
  },
  {
   "cell_type": "code",
   "execution_count": 8,
   "metadata": {},
   "outputs": [
    {
     "name": "stdout",
     "output_type": "stream",
     "text": [
      "Start\n",
      "Wall time: 4.62 s\n"
     ]
    }
   ],
   "source": [
    "%%time\n",
    "\n",
    "from ImageAnalysis3.meta_tools import cell_locations\n",
    "reload(ia.meta_tools.cell_locations)\n",
    "\n",
    "with mp.Pool(40) as _meta_pool:\n",
    "    print(\"Start\")\n",
    "    # Multi-proessing!\n",
    "    _meta_pool.starmap(\n",
    "        cell_locations.SegmentationMask3D_2_CellLocations,\n",
    "        metadata_args, \n",
    "        chunksize=1)\n",
    "    # close multiprocessing\n",
    "    _meta_pool.close()\n",
    "    _meta_pool.join()\n",
    "    _meta_pool.terminate()"
   ]
  },
  {
   "cell_type": "code",
   "execution_count": 9,
   "metadata": {},
   "outputs": [
    {
     "data": {
      "text/plain": [
       "<module 'ImageAnalysis3.meta_tools.cell_locations' from 'E:\\\\Users\\\\puzheng\\\\Documents\\\\ImageAnalysis3\\\\meta_tools\\\\cell_locations.py'>"
      ]
     },
     "execution_count": 9,
     "metadata": {},
     "output_type": "execute_result"
    }
   ],
   "source": [
    "from ImageAnalysis3.meta_tools import cell_locations\n",
    "reload(ia.meta_tools.cell_locations)"
   ]
  },
  {
   "cell_type": "code",
   "execution_count": 10,
   "metadata": {},
   "outputs": [
    {
     "name": "stdout",
     "output_type": "stream",
     "text": [
      "{'flip_horizontal': True, 'flip_vertical': False, 'transpose': True, 'microns_per_pixel': 0.108}\n"
     ]
    }
   ],
   "source": [
    "import json\n",
    "#microscope_filename = r'E:\\Users\\puzheng\\Documents\\Merfish_analysis\\Merfish_Analysis_Scripts\\merlin_parameters\\microscope\\storm6_microscope.json'\n",
    "#microscope_info = #json.load(open(microscope_filename, 'r'))\n",
    "\n",
    "microscope_info = {'flip_horizontal': True, 'flip_vertical': False, 'transpose': True, 'microns_per_pixel': 0.108}\n",
    "print(microscope_info)"
   ]
  },
  {
   "cell_type": "code",
   "execution_count": 11,
   "metadata": {},
   "outputs": [
    {
     "name": "stdout",
     "output_type": "stream",
     "text": [
      "125\n"
     ]
    }
   ],
   "source": [
    "cell_location_filenames = [os.path.join(save_folder, _fl) for _fl in os.listdir(save_folder)\n",
    "                        if \"_CellLocations.csv\" in _fl]\n",
    "print(len(cell_location_filenames))"
   ]
  },
  {
   "cell_type": "code",
   "execution_count": 12,
   "metadata": {
    "scrolled": true
   },
   "outputs": [
    {
     "data": {
      "text/html": [
       "<div>\n",
       "<style scoped>\n",
       "    .dataframe tbody tr th:only-of-type {\n",
       "        vertical-align: middle;\n",
       "    }\n",
       "\n",
       "    .dataframe tbody tr th {\n",
       "        vertical-align: top;\n",
       "    }\n",
       "\n",
       "    .dataframe thead th {\n",
       "        text-align: right;\n",
       "    }\n",
       "</style>\n",
       "<table border=\"1\" class=\"dataframe\">\n",
       "  <thead>\n",
       "    <tr style=\"text-align: right;\">\n",
       "      <th></th>\n",
       "      <th>x</th>\n",
       "      <th>y</th>\n",
       "    </tr>\n",
       "  </thead>\n",
       "  <tbody>\n",
       "    <tr>\n",
       "      <th>0</th>\n",
       "      <td>-4250.40</td>\n",
       "      <td>-3841.20</td>\n",
       "    </tr>\n",
       "    <tr>\n",
       "      <th>1</th>\n",
       "      <td>-4250.40</td>\n",
       "      <td>-4051.20</td>\n",
       "    </tr>\n",
       "    <tr>\n",
       "      <th>2</th>\n",
       "      <td>-4250.40</td>\n",
       "      <td>-4261.20</td>\n",
       "    </tr>\n",
       "    <tr>\n",
       "      <th>3</th>\n",
       "      <td>-4250.40</td>\n",
       "      <td>-4471.20</td>\n",
       "    </tr>\n",
       "    <tr>\n",
       "      <th>4</th>\n",
       "      <td>-4250.40</td>\n",
       "      <td>-4681.20</td>\n",
       "    </tr>\n",
       "    <tr>\n",
       "      <th>...</th>\n",
       "      <td>...</td>\n",
       "      <td>...</td>\n",
       "    </tr>\n",
       "    <tr>\n",
       "      <th>388</th>\n",
       "      <td>-53.67</td>\n",
       "      <td>-2568.62</td>\n",
       "    </tr>\n",
       "    <tr>\n",
       "      <th>389</th>\n",
       "      <td>-295.20</td>\n",
       "      <td>-2806.31</td>\n",
       "    </tr>\n",
       "    <tr>\n",
       "      <th>390</th>\n",
       "      <td>-306.70</td>\n",
       "      <td>-3028.67</td>\n",
       "    </tr>\n",
       "    <tr>\n",
       "      <th>391</th>\n",
       "      <td>-321.70</td>\n",
       "      <td>-3290.20</td>\n",
       "    </tr>\n",
       "    <tr>\n",
       "      <th>392</th>\n",
       "      <td>-348.32</td>\n",
       "      <td>-3529.81</td>\n",
       "    </tr>\n",
       "  </tbody>\n",
       "</table>\n",
       "<p>393 rows × 2 columns</p>\n",
       "</div>"
      ],
      "text/plain": [
       "           x        y\n",
       "0   -4250.40 -3841.20\n",
       "1   -4250.40 -4051.20\n",
       "2   -4250.40 -4261.20\n",
       "3   -4250.40 -4471.20\n",
       "4   -4250.40 -4681.20\n",
       "..       ...      ...\n",
       "388   -53.67 -2568.62\n",
       "389  -295.20 -2806.31\n",
       "390  -306.70 -3028.67\n",
       "391  -321.70 -3290.20\n",
       "392  -348.32 -3529.81\n",
       "\n",
       "[393 rows x 2 columns]"
      ]
     },
     "execution_count": 12,
     "metadata": {},
     "output_type": "execute_result"
    }
   ],
   "source": [
    "from ImageAnalysis3.meta_tools.global_alignments import Load_PositionFile\n",
    "\n",
    "fov_positions = Load_PositionFile(r'\\\\10.245.74.158\\Chromatin_NAS_1\\20211129-P_brain_CTP12-RNA\\Experiments\\positions_all.txt')\n",
    "fov_positions"
   ]
  },
  {
   "cell_type": "code",
   "execution_count": 13,
   "metadata": {},
   "outputs": [
    {
     "name": "stdout",
     "output_type": "stream",
     "text": [
      "\\\\hubel\\Hubel_SSD\\Pu\\20211129-P_brain_CTP12-RNA\\merged_cell_locations_0-124.csv\n",
      "- Start merging 125 cell locations\n",
      "2021-12-07 23:50:55,166 [INFO] Note: NumExpr detected 44 cores but \"NUMEXPR_MAX_THREADS\" not set, so enforcing safe limit of 8.\n",
      "2021-12-07 23:50:55,167 [INFO] NumExpr defaulting to 8 threads.\n",
      "-- 12604 cells converted into MetaData\n",
      "-- save 12604 cells into file:\\\\hubel\\Hubel_SSD\\Pu\\20211129-P_brain_CTP12-RNA\\merged_cell_locations_0-124.csv\n",
      "-- merge cell-locations in 1.716s\n"
     ]
    }
   ],
   "source": [
    "from ImageAnalysis3.meta_tools import cell_locations\n",
    "reload(ia.meta_tools.cell_locations)\n",
    "\n",
    "merged_cell_filename = os.path.join(save_folder, f'merged_cell_locations_{min(processed_fovs)}-{max(processed_fovs)}.csv')\n",
    "print(merged_cell_filename)\n",
    "merged_cell_locations = cell_locations.Merge_CellLocations(cell_location_filenames, \n",
    "                                                           microscope_info,\n",
    "                                                           fov_positions,\n",
    "                                                           save=True, save_filename=merged_cell_filename,\n",
    "                                                           overwrite=True,)"
   ]
  },
  {
   "cell_type": "code",
   "execution_count": null,
   "metadata": {},
   "outputs": [],
   "source": []
  }
 ],
 "metadata": {
  "kernelspec": {
   "display_name": "Python 3",
   "language": "python",
   "name": "python3"
  },
  "language_info": {
   "codemirror_mode": {
    "name": "ipython",
    "version": 3
   },
   "file_extension": ".py",
   "mimetype": "text/x-python",
   "name": "python",
   "nbconvert_exporter": "python",
   "pygments_lexer": "ipython3",
   "version": "3.7.9"
  }
 },
 "nbformat": 4,
 "nbformat_minor": 4
}
