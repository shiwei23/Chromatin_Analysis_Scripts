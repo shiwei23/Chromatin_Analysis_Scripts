{
 "cells": [
  {
   "cell_type": "markdown",
   "metadata": {},
   "source": [
    "# Analysis for RNA-DNA p-brain tissue sample\n",
    "\n",
    "2021-04-23 smRNA and 04-26 CTP-09 MOP marker gene DNA-MERFISH\n",
    "\n",
    "by Pu Zheng\n",
    "\n",
    "2020.04.30"
   ]
  },
  {
   "cell_type": "markdown",
   "metadata": {},
   "source": [
    "# 0. required packages for h5py"
   ]
  },
  {
   "cell_type": "code",
   "execution_count": 1,
   "metadata": {},
   "outputs": [
    {
     "name": "stdout",
     "output_type": "stream",
     "text": [
      "28392\n"
     ]
    }
   ],
   "source": [
    "%run \"..\\..\\Startup_py3.py\"\n",
    "sys.path.append(r\"..\\..\\..\\..\\Documents\")\n",
    "\n",
    "import ImageAnalysis3 as ia\n",
    "%matplotlib notebook\n",
    "\n",
    "from ImageAnalysis3 import *\n",
    "print(os.getpid())\n",
    "\n",
    "import h5py\n",
    "from ImageAnalysis3.classes import _allowed_kwds\n",
    "import ast"
   ]
  },
  {
   "cell_type": "markdown",
   "metadata": {},
   "source": [
    "# 1. Create field-of-view class"
   ]
  },
  {
   "cell_type": "code",
   "execution_count": 3,
   "metadata": {},
   "outputs": [],
   "source": [
    "reload(ia)\n",
    "reload(classes)\n",
    "reload(classes.batch_functions)\n",
    "reload(classes.field_of_view)\n",
    "reload(io_tools.load)\n",
    "\n",
    "reload(visual_tools)\n",
    "reload(ia.correction_tools)\n",
    "reload(ia.correction_tools.alignment)\n",
    "reload(ia.spot_tools.matching)\n",
    "reload(ia.segmentation_tools.chromosome)\n",
    "reload(ia.spot_tools.fitting)\n",
    "\n",
    "fov_param = {'data_folder':[r'\\\\10.245.74.212\\Chromatin_NAS_3\\20210426-P_Forebrain_CTP09_from0423RNA',\n",
    "                            r'\\\\10.245.74.158\\Chromatin_NAS_4\\20210426-P_Forebrain_CTP09_from0423RNA'],\n",
    "             'save_folder':r'D:\\Pu_Temp\\20210426-P_Forebrain_CTP-09',\n",
    "             #'save_folder':r'D:\\Pu_Temp\\202009_IgH_proB_DMSO_2color',\n",
    "             'experiment_type': 'DNA',\n",
    "             'num_threads': 24,\n",
    "             'correction_folder':r'\\\\10.245.74.158\\Chromatin_NAS_0\\Corrections\\20201012-Corrections_2color',\n",
    "             'shared_parameters':{\n",
    "                     'single_im_size':[40,2048,2048],\n",
    "                     'corr_channels':['750','647'],\n",
    "                     'num_empty_frames': 0, \n",
    "                     'corr_hot_pixel':True,\n",
    "                     'corr_Z_shift':False,\n",
    "                     'min_num_seeds':500,\n",
    "                     'max_num_seeds': 2500,\n",
    "                     'spot_seeding_th':150,\n",
    "                     'normalize_intensity_local':False,\n",
    "                     'normalize_intensity_background':False,\n",
    "                 },             \n",
    "             }"
   ]
  },
  {
   "cell_type": "code",
   "execution_count": null,
   "metadata": {},
   "outputs": [],
   "source": []
  }
 ],
 "metadata": {
  "kernelspec": {
   "display_name": "Python 3",
   "language": "python",
   "name": "python3"
  },
  "language_info": {
   "codemirror_mode": {
    "name": "ipython",
    "version": 3
   },
   "file_extension": ".py",
   "mimetype": "text/x-python",
   "name": "python",
   "nbconvert_exporter": "python",
   "pygments_lexer": "ipython3",
   "version": "3.7.3"
  }
 },
 "nbformat": 4,
 "nbformat_minor": 4
}
